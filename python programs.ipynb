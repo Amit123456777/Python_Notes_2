{
 "cells": [
  {
   "cell_type": "code",
   "execution_count": 23,
   "id": "a882ba5e-eaf6-47a1-8645-4eaa255c2800",
   "metadata": {},
   "outputs": [
    {
     "name": "stdin",
     "output_type": "stream",
     "text": [
      "enter the number :  2\n",
      "enter the number :  3\n",
      "enter +  +\n"
     ]
    },
    {
     "name": "stdout",
     "output_type": "stream",
     "text": [
      "5\n"
     ]
    }
   ],
   "source": [
    "# Python program to add two numbers.\n",
    "\n",
    "def sum(first,second): \n",
    "    first = int(input(\"enter the number : \"))  # 2\n",
    "    second = int(input(\"enter the number : \")) # 3\n",
    "    operator = input(\"enter operator '+' : \")\n",
    "    if operator == '+':\n",
    "        print(first + second)\n",
    "    else:\n",
    "        print(\"invalid operator\")\n",
    "\n",
    "# calling the function\n",
    "sum(a,b)\n"
   ]
  },
  {
   "cell_type": "code",
   "execution_count": 24,
   "id": "cff54175-1099-4ecc-b226-e4125052d03a",
   "metadata": {},
   "outputs": [
    {
     "name": "stdout",
     "output_type": "stream",
     "text": [
      "6\n"
     ]
    }
   ],
   "source": [
    "def sum(a,b):\n",
    "    print(a+b)\n",
    "sum(2,4)"
   ]
  },
  {
   "cell_type": "code",
   "execution_count": null,
   "id": "7402d6a2-1004-4ad3-8450-c82fca81e462",
   "metadata": {},
   "outputs": [],
   "source": []
  },
  {
   "cell_type": "code",
   "execution_count": null,
   "id": "dd295732-ae1d-4e0e-a28c-bd86e3e73743",
   "metadata": {},
   "outputs": [],
   "source": []
  },
  {
   "cell_type": "code",
   "execution_count": null,
   "id": "494d94fa-bd73-40b7-8469-c6f2f15f5483",
   "metadata": {},
   "outputs": [],
   "source": []
  }
 ],
 "metadata": {
  "kernelspec": {
   "display_name": "Python 3 (ipykernel)",
   "language": "python",
   "name": "python3"
  },
  "language_info": {
   "codemirror_mode": {
    "name": "ipython",
    "version": 3
   },
   "file_extension": ".py",
   "mimetype": "text/x-python",
   "name": "python",
   "nbconvert_exporter": "python",
   "pygments_lexer": "ipython3",
   "version": "3.11.4"
  }
 },
 "nbformat": 4,
 "nbformat_minor": 5
}
