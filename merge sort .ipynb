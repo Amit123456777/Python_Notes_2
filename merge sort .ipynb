{
 "cells": [
  {
   "cell_type": "code",
   "execution_count": 1,
   "id": "f9bd63b5-29a2-44f9-8022-c8cde01c5578",
   "metadata": {},
   "outputs": [
    {
     "name": "stdout",
     "output_type": "stream",
     "text": [
      "[7, 16, 28, 29, 34, 42, 56, 71, 75, 83, 88, 90, 92]\n"
     ]
    }
   ],
   "source": [
    "import array   # divide\n",
    "from array import *\n",
    "def merge_sort(list1):  \n",
    "    if len(list1)>1:   # len>1 bcoz 1 se jada length hai tbhi break hoga. singe element to sort hota hi hai.\n",
    "        mid=len(list1)//2 \n",
    "        leftlist=list1[:mid]\n",
    "        rightlist=list1[mid:]\n",
    "\n",
    "        merge_sort(leftlist) # recursion\n",
    "        merge_sort(rightlist) # recursion\n",
    "\n",
    "        i=j=k=0       # now conquer\n",
    "        while i<len(leftlist) and j<len(rightlist): # i,j,k is index\n",
    "            if leftlist[i]<rightlist[j]:\n",
    "                list1[k]=leftlist[i]\n",
    "                i+=1\n",
    "            else:\n",
    "                list1[k]=rightlist[j]\n",
    "                j+=1\n",
    "            k+=1\n",
    "        while i<len(leftlist):\n",
    "            list1[k]=leftlist[i]\n",
    "            \n",
    "            i+=1\n",
    "            k+=1\n",
    "        while j<len(rightlist):\n",
    "            list1[k]=rightlist[j]\n",
    "            j+=1\n",
    "            k+=1\n",
    "\n",
    "mylist=[75,29,83,42,16,90,56,34,28,71,88,92,7]\n",
    "merge_sort(mylist)\n",
    "print(mylist)"
   ]
  },
  {
   "cell_type": "code",
   "execution_count": null,
   "id": "12ffecad-e00e-446a-87c7-89da529e0412",
   "metadata": {},
   "outputs": [],
   "source": []
  },
  {
   "cell_type": "code",
   "execution_count": 14,
   "id": "6d051b40-ea9f-428e-b035-475cfabed8ec",
   "metadata": {},
   "outputs": [
    {
     "name": "stdout",
     "output_type": "stream",
     "text": [
      "array('i', [75, 29, 83, 42, 16, 90]) array('i', [56, 34, 28, 71, 88, 92, 7])\n"
     ]
    }
   ],
   "source": [
    "arr = array('i',[75,29,83,42,16,90,56,34,28,71,88,92,7])\n",
    "mid=len(arr)//2  # 13//2=6.5 means 6\n",
    "a = arr[:mid]\n",
    "b = arr[mid:]\n",
    "print(a,b)"
   ]
  },
  {
   "cell_type": "code",
   "execution_count": 2,
   "id": "871d351b-b3a1-408c-9760-edfad239c1a6",
   "metadata": {},
   "outputs": [
    {
     "ename": "NameError",
     "evalue": "name 'arr' is not defined",
     "output_type": "error",
     "traceback": [
      "\u001b[1;31m---------------------------------------------------------------------------\u001b[0m",
      "\u001b[1;31mNameError\u001b[0m                                 Traceback (most recent call last)",
      "Cell \u001b[1;32mIn[2], line 9\u001b[0m\n\u001b[0;32m      7\u001b[0m     merge_so(a)\n\u001b[0;32m      8\u001b[0m     merger_so(b)\n\u001b[1;32m----> 9\u001b[0m merge_so(\u001b[43marr\u001b[49m)\n\u001b[0;32m     10\u001b[0m \u001b[38;5;28mprint\u001b[39m(arr)\n",
      "\u001b[1;31mNameError\u001b[0m: name 'arr' is not defined"
     ]
    }
   ],
   "source": [
    "def merge_so(arr):\n",
    "    arr = array('i',[75,29,83,42,16,90,56,34,28,71,88,92,7])\n",
    "    mid=len(arr)//2  # 13//2=6.5 means 6\n",
    "    a = arr[:mid]\n",
    "    b = arr[mid:]\n",
    "    print(a,b)\n",
    "    merge_so(a)\n",
    "    merger_so(b)\n",
    "merge_so(arr)\n",
    "print(arr)"
   ]
  },
  {
   "cell_type": "code",
   "execution_count": null,
   "id": "c1d5bf88-ac07-49da-a3e4-d7361c4aa72d",
   "metadata": {},
   "outputs": [],
   "source": []
  }
 ],
 "metadata": {
  "kernelspec": {
   "display_name": "Python 3 (ipykernel)",
   "language": "python",
   "name": "python3"
  },
  "language_info": {
   "codemirror_mode": {
    "name": "ipython",
    "version": 3
   },
   "file_extension": ".py",
   "mimetype": "text/x-python",
   "name": "python",
   "nbconvert_exporter": "python",
   "pygments_lexer": "ipython3",
   "version": "3.11.4"
  }
 },
 "nbformat": 4,
 "nbformat_minor": 5
}
