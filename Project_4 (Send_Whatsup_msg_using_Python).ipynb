{
 "cells": [
  {
   "cell_type": "code",
   "execution_count": 1,
   "id": "10e2bff8-cf23-4ffc-a5d7-d15f020d310a",
   "metadata": {},
   "outputs": [
    {
     "name": "stdout",
     "output_type": "stream",
     "text": [
      "Requirement already satisfied: pywhatkit in c:\\users\\rahul\\appdata\\roaming\\python\\python311\\site-packages (5.4)\n",
      "Requirement already satisfied: Pillow in c:\\users\\rahul\\appdata\\roaming\\python\\python311\\site-packages (from pywhatkit) (10.1.0)\n",
      "Requirement already satisfied: pyautogui in c:\\users\\rahul\\appdata\\roaming\\python\\python311\\site-packages (from pywhatkit) (0.9.54)\n",
      "Requirement already satisfied: requests in c:\\users\\rahul\\appdata\\roaming\\python\\python311\\site-packages (from pywhatkit) (2.31.0)\n",
      "Requirement already satisfied: wikipedia in c:\\users\\rahul\\appdata\\roaming\\python\\python311\\site-packages (from pywhatkit) (1.4.0)\n",
      "Requirement already satisfied: Flask in c:\\users\\rahul\\appdata\\roaming\\python\\python311\\site-packages (from pywhatkit) (3.0.3)\n",
      "Requirement already satisfied: Werkzeug>=3.0.0 in c:\\users\\rahul\\appdata\\roaming\\python\\python311\\site-packages (from Flask->pywhatkit) (3.0.2)\n",
      "Requirement already satisfied: Jinja2>=3.1.2 in c:\\users\\rahul\\appdata\\roaming\\python\\python311\\site-packages (from Flask->pywhatkit) (3.1.2)\n",
      "Requirement already satisfied: itsdangerous>=2.1.2 in c:\\users\\rahul\\appdata\\roaming\\python\\python311\\site-packages (from Flask->pywhatkit) (2.2.0)\n",
      "Requirement already satisfied: click>=8.1.3 in c:\\users\\rahul\\appdata\\roaming\\python\\python311\\site-packages (from Flask->pywhatkit) (8.1.7)\n",
      "Requirement already satisfied: blinker>=1.6.2 in c:\\users\\rahul\\appdata\\roaming\\python\\python311\\site-packages (from Flask->pywhatkit) (1.7.0)\n",
      "Requirement already satisfied: pymsgbox in c:\\users\\rahul\\appdata\\roaming\\python\\python311\\site-packages (from pyautogui->pywhatkit) (1.0.9)\n",
      "Requirement already satisfied: pytweening>=1.0.4 in c:\\users\\rahul\\appdata\\roaming\\python\\python311\\site-packages (from pyautogui->pywhatkit) (1.1.0)\n",
      "Requirement already satisfied: pyscreeze>=0.1.21 in c:\\users\\rahul\\appdata\\roaming\\python\\python311\\site-packages (from pyautogui->pywhatkit) (0.1.30)\n",
      "Requirement already satisfied: pygetwindow>=0.0.5 in c:\\users\\rahul\\appdata\\roaming\\python\\python311\\site-packages (from pyautogui->pywhatkit) (0.0.9)\n",
      "Requirement already satisfied: mouseinfo in c:\\users\\rahul\\appdata\\roaming\\python\\python311\\site-packages (from pyautogui->pywhatkit) (0.1.3)\n",
      "Requirement already satisfied: charset-normalizer<4,>=2 in c:\\users\\rahul\\appdata\\roaming\\python\\python311\\site-packages (from requests->pywhatkit) (3.3.2)\n",
      "Requirement already satisfied: idna<4,>=2.5 in c:\\users\\rahul\\appdata\\roaming\\python\\python311\\site-packages (from requests->pywhatkit) (3.6)\n",
      "Requirement already satisfied: urllib3<3,>=1.21.1 in c:\\users\\rahul\\appdata\\roaming\\python\\python311\\site-packages (from requests->pywhatkit) (2.1.0)\n",
      "Requirement already satisfied: certifi>=2017.4.17 in c:\\users\\rahul\\appdata\\roaming\\python\\python311\\site-packages (from requests->pywhatkit) (2023.11.17)\n",
      "Requirement already satisfied: beautifulsoup4 in c:\\users\\rahul\\appdata\\roaming\\python\\python311\\site-packages (from wikipedia->pywhatkit) (4.12.2)\n",
      "Requirement already satisfied: colorama in c:\\users\\rahul\\appdata\\roaming\\python\\python311\\site-packages (from click>=8.1.3->Flask->pywhatkit) (0.4.6)\n",
      "Requirement already satisfied: MarkupSafe>=2.0 in c:\\users\\rahul\\appdata\\roaming\\python\\python311\\site-packages (from Jinja2>=3.1.2->Flask->pywhatkit) (2.1.3)\n",
      "Requirement already satisfied: pyrect in c:\\users\\rahul\\appdata\\roaming\\python\\python311\\site-packages (from pygetwindow>=0.0.5->pyautogui->pywhatkit) (0.2.0)\n",
      "Requirement already satisfied: soupsieve>1.2 in c:\\users\\rahul\\appdata\\roaming\\python\\python311\\site-packages (from beautifulsoup4->wikipedia->pywhatkit) (2.5)\n",
      "Requirement already satisfied: pyperclip in c:\\users\\rahul\\appdata\\roaming\\python\\python311\\site-packages (from mouseinfo->pyautogui->pywhatkit) (1.8.2)\n",
      "Note: you may need to restart the kernel to use updated packages.\n"
     ]
    }
   ],
   "source": [
    "pip install pywhatkit"
   ]
  },
  {
   "cell_type": "code",
   "execution_count": null,
   "id": "fcf7e229-7fbf-40a1-8593-0213f375c8a6",
   "metadata": {},
   "outputs": [],
   "source": [
    "import pywhatkit as pyw\n",
    "pyw.sendwhatmsg('+918527850441','Welcome to Python Series', 10, 59) "
   ]
  }
 ],
 "metadata": {
  "kernelspec": {
   "display_name": "Python 3 (ipykernel)",
   "language": "python",
   "name": "python3"
  },
  "language_info": {
   "codemirror_mode": {
    "name": "ipython",
    "version": 3
   },
   "file_extension": ".py",
   "mimetype": "text/x-python",
   "name": "python",
   "nbconvert_exporter": "python",
   "pygments_lexer": "ipython3",
   "version": "3.11.4"
  }
 },
 "nbformat": 4,
 "nbformat_minor": 5
}
