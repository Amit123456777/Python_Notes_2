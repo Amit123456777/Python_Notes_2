{
 "cells": [
  {
   "cell_type": "code",
   "execution_count": null,
   "id": "5ced05b5",
   "metadata": {},
   "outputs": [],
   "source": []
  },
  {
   "cell_type": "code",
   "execution_count": null,
   "id": "9a1d4d21",
   "metadata": {},
   "outputs": [],
   "source": [
    "# list methods (one shot)"
   ]
  },
  {
   "cell_type": "code",
   "execution_count": null,
   "id": "8b1b64a3",
   "metadata": {},
   "outputs": [],
   "source": []
  },
  {
   "cell_type": "code",
   "execution_count": null,
   "id": "1f821282",
   "metadata": {},
   "outputs": [],
   "source": []
  },
  {
   "cell_type": "code",
   "execution_count": 1,
   "id": "5be775b0",
   "metadata": {},
   "outputs": [
    {
     "name": "stdout",
     "output_type": "stream",
     "text": [
      "[11, 45, 1, 2, 4, 6, 1, 1]\n",
      "[11, 45, 1, 2, 4, 6, 1, 1, 7]\n"
     ]
    }
   ],
   "source": [
    "l = [11, 45, 1, 2, 4, 6, 1, 1]\n",
    "print(l)\n",
    "l.append(7)\n",
    "l.sort(reverse=True)\n",
    "l.reverse()\n",
    "print(l.index(1))\n",
    "print(l.count(1))\n",
    "m = l.copy()\n",
    "m[0] = 0\n",
    "l.insert(1, 899)\n",
    "m = [900, 1000, 1100]\n",
    "k = l + m\n",
    "print(k)\n",
    "l.extend(m)\n",
    "print(l)"
   ]
  },
  {
   "cell_type": "code",
   "execution_count": 2,
   "id": "49a6fcf6",
   "metadata": {},
   "outputs": [
    {
     "name": "stdout",
     "output_type": "stream",
     "text": [
      "[11, 45, 1, 2, 4, 6, 1, 1]\n",
      "[11, 45, 1, 2, 4, 6, 1, 1, 7]\n"
     ]
    }
   ],
   "source": [
    "l = [11, 45, 1, 2, 4, 6, 1, 1]\n",
    "print(l)\n",
    "l.append(7)\n",
    "print(l)"
   ]
  },
  {
   "cell_type": "code",
   "execution_count": 9,
   "id": "3db1cd18",
   "metadata": {},
   "outputs": [
    {
     "name": "stdout",
     "output_type": "stream",
     "text": [
      "[45, 11, 6, 4, 2, 1, 1, 1]\n"
     ]
    }
   ],
   "source": [
    "# in descending order\n",
    "l = [11, 45, 1, 2, 4, 6, 1, 1]\n",
    "l.sort(reverse=True)\n",
    "print(l)"
   ]
  },
  {
   "cell_type": "code",
   "execution_count": 10,
   "id": "acad84ef",
   "metadata": {},
   "outputs": [
    {
     "name": "stdout",
     "output_type": "stream",
     "text": [
      "[1, 1, 6, 4, 2, 1, 45, 11]\n"
     ]
    }
   ],
   "source": [
    "# only reverse \n",
    "l = [11, 45, 1, 2, 4, 6, 1, 1]\n",
    "l.reverse()\n",
    "print(l)"
   ]
  },
  {
   "cell_type": "code",
   "execution_count": 11,
   "id": "30f3815a",
   "metadata": {},
   "outputs": [],
   "source": [
    "# remember the difference in reverse=True and reverse method"
   ]
  },
  {
   "cell_type": "code",
   "execution_count": 12,
   "id": "13857b5f",
   "metadata": {},
   "outputs": [
    {
     "name": "stdout",
     "output_type": "stream",
     "text": [
      "2\n"
     ]
    }
   ],
   "source": [
    "l = [11, 45, 1, 2, 4, 6, 1, 1]\n",
    "print(l.index(1))\n"
   ]
  },
  {
   "cell_type": "code",
   "execution_count": 14,
   "id": "4f89c456",
   "metadata": {},
   "outputs": [
    {
     "name": "stdout",
     "output_type": "stream",
     "text": [
      "3\n"
     ]
    }
   ],
   "source": [
    "l = [11, 45, 1, 2, 4, 6, 1, 1]\n",
    "print(l.count(1))"
   ]
  },
  {
   "cell_type": "code",
   "execution_count": 18,
   "id": "e69be619",
   "metadata": {},
   "outputs": [
    {
     "name": "stdout",
     "output_type": "stream",
     "text": [
      "[0, 45, 1, 2, 4, 6, 1, 1]\n",
      "[11, 45, 1, 2, 4, 6, 1, 1]\n"
     ]
    }
   ],
   "source": [
    "l = [11, 45, 1, 2, 4, 6, 1, 1]\n",
    "m = l.copy()\n",
    "m[0] = 0\n",
    "print(m)\n",
    "print(l)\n",
    "# copy makes new list.\n",
    "# it not change original list"
   ]
  },
  {
   "cell_type": "code",
   "execution_count": 19,
   "id": "88a1966c",
   "metadata": {},
   "outputs": [
    {
     "name": "stdout",
     "output_type": "stream",
     "text": [
      "[11, 899, 45, 1, 2, 4, 6, 1, 1]\n"
     ]
    }
   ],
   "source": [
    "l = [11, 45, 1, 2, 4, 6, 1, 1]\n",
    "l.insert(1, 899)\n",
    "print(l)"
   ]
  },
  {
   "cell_type": "code",
   "execution_count": 21,
   "id": "4eb972d0",
   "metadata": {},
   "outputs": [
    {
     "name": "stdout",
     "output_type": "stream",
     "text": [
      "[11, 45, 1, 2, 4, 6, 1, 1, 900, 1000, 1100]\n"
     ]
    }
   ],
   "source": [
    "l = [11, 45, 1, 2, 4, 6, 1, 1]\n",
    "m = [900, 1000, 1100]\n",
    "k = l + m\n",
    "print(k)"
   ]
  },
  {
   "cell_type": "code",
   "execution_count": 22,
   "id": "dfb1008a",
   "metadata": {},
   "outputs": [
    {
     "name": "stdout",
     "output_type": "stream",
     "text": [
      "[11, 45, 1, 2, 4, 6, 1, 1, 900, 1000, 1100]\n"
     ]
    }
   ],
   "source": [
    "l = [11, 45, 1, 2, 4, 6, 1, 1]\n",
    "l.extend(m)\n",
    "print(l)"
   ]
  },
  {
   "cell_type": "code",
   "execution_count": null,
   "id": "e59f5505",
   "metadata": {},
   "outputs": [],
   "source": [
    "# concatenate and extend works same"
   ]
  }
 ],
 "metadata": {
  "kernelspec": {
   "display_name": "Python 3 (ipykernel)",
   "language": "python",
   "name": "python3"
  },
  "language_info": {
   "codemirror_mode": {
    "name": "ipython",
    "version": 3
   },
   "file_extension": ".py",
   "mimetype": "text/x-python",
   "name": "python",
   "nbconvert_exporter": "python",
   "pygments_lexer": "ipython3",
   "version": "3.11.4"
  }
 },
 "nbformat": 4,
 "nbformat_minor": 5
}
