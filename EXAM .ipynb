{
 "cells": [
  {
   "cell_type": "code",
   "execution_count": 3,
   "id": "93b014a8",
   "metadata": {},
   "outputs": [
    {
     "name": "stdout",
     "output_type": "stream",
     "text": [
      "laxman shyam sita\n"
     ]
    }
   ],
   "source": [
    "# default argument\n",
    "def name(fname=\"ram\", mname=\"shyam\", lname=\"sita\"):\n",
    "    print(fname, mname, lname)\n",
    "name(fname = \"laxman\")"
   ]
  },
  {
   "cell_type": "code",
   "execution_count": 9,
   "id": "ad3c71d9",
   "metadata": {},
   "outputs": [
    {
     "name": "stdout",
     "output_type": "stream",
     "text": [
      "ram laxman ramayan\n"
     ]
    }
   ],
   "source": [
    "# keyword arguments\n",
    "def name(fname,mname,lname):\n",
    "    print(fname,mname,lname)\n",
    "name(fname=\"ram\",mname=\"laxman\",lname=\"ramayan\")   # keyword ye ho jayeha and ye required bi hai bcaoz default me koi vallue ni hai"
   ]
  },
  {
   "cell_type": "code",
   "execution_count": 7,
   "id": "9087c36d",
   "metadata": {},
   "outputs": [],
   "source": [
    "# required arguments\n",
    "# agar default ni hai to calling krte time uske key pair value is compulsory to write\n",
    "\n"
   ]
  },
  {
   "cell_type": "code",
   "execution_count": 10,
   "id": "afa5828c",
   "metadata": {},
   "outputs": [
    {
     "ename": "SyntaxError",
     "evalue": "expected ':' (214278079.py, line 2)",
     "output_type": "error",
     "traceback": [
      "\u001b[1;36m  Cell \u001b[1;32mIn[10], line 2\u001b[1;36m\u001b[0m\n\u001b[1;33m    def name(*name0)\u001b[0m\n\u001b[1;37m                    ^\u001b[0m\n\u001b[1;31mSyntaxError\u001b[0m\u001b[1;31m:\u001b[0m expected ':'\n"
     ]
    }
   ],
   "source": [
    "# variable arguments \n",
    "def name(fname=\"ram\", mname=\"shyam\", lname=\"sita\"):\n",
    "    print(fname, mname, lname)\n",
    "name(fname = \"laxman\")"
   ]
  },
  {
   "cell_type": "code",
   "execution_count": 13,
   "id": "82e87768",
   "metadata": {},
   "outputs": [
    {
     "name": "stdout",
     "output_type": "stream",
     "text": [
      "a b c\n"
     ]
    }
   ],
   "source": [
    "def name(*name):\n",
    "    print(name[0],name[1],name[2])\n",
    "name(\"a\",\"b\",\"c\")\n",
    "\n",
    "# arbitary arguments and keyword arguments"
   ]
  },
  {
   "cell_type": "code",
   "execution_count": null,
   "id": "85f6d4b9",
   "metadata": {},
   "outputs": [],
   "source": []
  },
  {
   "cell_type": "code",
   "execution_count": 14,
   "id": "06ba2014",
   "metadata": {},
   "outputs": [
    {
     "name": "stdout",
     "output_type": "stream",
     "text": [
      "[1, 2, 3, 4, 5]\n"
     ]
    }
   ],
   "source": [
    "list1= [1,2,3,4,5]\n",
    "print(list1)"
   ]
  },
  {
   "cell_type": "code",
   "execution_count": 18,
   "id": "29563de1",
   "metadata": {},
   "outputs": [
    {
     "name": "stdout",
     "output_type": "stream",
     "text": [
      "3\n",
      "5\n",
      "yes\n"
     ]
    }
   ],
   "source": [
    "list1 = [1,2,3,4,5]\n",
    "print(list1[2])\n",
    "print(list1[-1])\n",
    "# check\n",
    "list1 = [\"a\", \"b\", \"c\", \"d\", \"e\"]\n",
    "if \"c\" in list1:\n",
    "    print(\"yes\")\n",
    "else:\n",
    "    print(\"no\")"
   ]
  },
  {
   "cell_type": "code",
   "execution_count": 20,
   "id": "20752428",
   "metadata": {},
   "outputs": [
    {
     "name": "stdout",
     "output_type": "stream",
     "text": [
      "[1, 2, 3]\n",
      "[2, 4, 6]\n"
     ]
    }
   ],
   "source": [
    "list1 = [1,2,3,4,5,6,7,8,9]\n",
    "print(list1[0:3])\n",
    "print(list1[1:7:2])"
   ]
  },
  {
   "cell_type": "code",
   "execution_count": 23,
   "id": "7d6be565",
   "metadata": {},
   "outputs": [
    {
     "name": "stdout",
     "output_type": "stream",
     "text": [
      "['orange']\n"
     ]
    }
   ],
   "source": [
    "# lIST COMPREHENSION\n",
    "# MEANS CREATING A NEW LIST INSIDE ITERABLE (LIST TUP SET DICT)\n",
    "# OR EVEN AN ARRAY\n",
    "\n",
    "list1 = [\"apple\", \"mange\", \"orange\", \"grapes\"]\n",
    "a = [item for item in list1 if \"orange\" in item]\n",
    "print(a)"
   ]
  },
  {
   "cell_type": "code",
   "execution_count": null,
   "id": "894e7ed2",
   "metadata": {},
   "outputs": [],
   "source": []
  }
 ],
 "metadata": {
  "kernelspec": {
   "display_name": "Python 3 (ipykernel)",
   "language": "python",
   "name": "python3"
  },
  "language_info": {
   "codemirror_mode": {
    "name": "ipython",
    "version": 3
   },
   "file_extension": ".py",
   "mimetype": "text/x-python",
   "name": "python",
   "nbconvert_exporter": "python",
   "pygments_lexer": "ipython3",
   "version": "3.11.4"
  }
 },
 "nbformat": 4,
 "nbformat_minor": 5
}
