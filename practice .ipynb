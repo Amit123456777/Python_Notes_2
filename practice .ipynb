{
 "cells": [
  {
   "cell_type": "code",
   "execution_count": 6,
   "id": "8c9e0b33",
   "metadata": {},
   "outputs": [
    {
     "name": "stdout",
     "output_type": "stream",
     "text": [
      "1\n",
      "2\n",
      "3\n",
      "4\n"
     ]
    }
   ],
   "source": [
    "for i in range(1,5): # 5 is not include\n",
    "    print(i)"
   ]
  },
  {
   "cell_type": "code",
   "execution_count": 7,
   "id": "81e4aa4a",
   "metadata": {},
   "outputs": [
    {
     "name": "stdout",
     "output_type": "stream",
     "text": [
      "1\n",
      "2\n",
      "3\n",
      "4\n"
     ]
    }
   ],
   "source": [
    "i = 1\n",
    "while i<=4:\n",
    "    print(i)\n",
    "    i = i + 1"
   ]
  },
  {
   "cell_type": "code",
   "execution_count": 9,
   "id": "ad077f40",
   "metadata": {},
   "outputs": [
    {
     "name": "stdout",
     "output_type": "stream",
     "text": [
      "10\n"
     ]
    }
   ],
   "source": [
    "sum = 0              #1\n",
    "for i in range(1,5):\n",
    "    sum = sum + i       #2\n",
    "print(sum)              #3"
   ]
  },
  {
   "cell_type": "code",
   "execution_count": 10,
   "id": "f00a549c",
   "metadata": {},
   "outputs": [
    {
     "name": "stdout",
     "output_type": "stream",
     "text": [
      "24\n"
     ]
    }
   ],
   "source": [
    "product = 1                 #1\n",
    "for i in range(1,5):\n",
    "    product = product * i   #2\n",
    "print(product)              #3"
   ]
  },
  {
   "cell_type": "code",
   "execution_count": 4,
   "id": "7350b52e",
   "metadata": {},
   "outputs": [
    {
     "name": "stdout",
     "output_type": "stream",
     "text": [
      "10\n",
      "6\n",
      "15\n",
      "120\n",
      "10\n",
      "24\n"
     ]
    }
   ],
   "source": [
    "sum = 0\n",
    "for i in range(1,5):\n",
    "    sum = sum+ i\n",
    "print(sum)\n",
    "\n",
    "product = 1\n",
    "for i in range(1,4):\n",
    "    product = product * i\n",
    "print(product)\n",
    "\n",
    "i = 1\n",
    "sum = 0\n",
    "while i<=5:\n",
    "    sum = sum + i\n",
    "    i = i + 1\n",
    "print(sum)\n",
    "\n",
    "i = 1\n",
    "product = 1\n",
    "while i <= 5:\n",
    "    product = product * i\n",
    "    i = i + 1\n",
    "print(product)\n",
    "\n",
    "l = [1,2,3,4]\n",
    "sum = 0\n",
    "for i in l:\n",
    "    sum = sum + i\n",
    "print(sum)\n",
    "\n",
    "l = [1,2,3,4]\n",
    "product = 1\n",
    "for i in l:\n",
    "    product = product * i\n",
    "print(product)"
   ]
  },
  {
   "cell_type": "code",
   "execution_count": 10,
   "id": "384c7aa3",
   "metadata": {},
   "outputs": [
    {
     "name": "stdout",
     "output_type": "stream",
     "text": [
      "10\n",
      "24\n",
      "15\n",
      "120\n",
      "10\n",
      "24\n"
     ]
    }
   ],
   "source": [
    "sum = 0\n",
    "for i in range(1,5):\n",
    "    sum = sum + i\n",
    "print(sum)\n",
    "\n",
    "product = 1\n",
    "for i in range(1,5):\n",
    "    product = product * i\n",
    "print(product)\n",
    "\n",
    "i = 1\n",
    "sum = 0\n",
    "while i <= 5:\n",
    "    sum = sum + i\n",
    "    i = i + 1\n",
    "print(sum)\n",
    "\n",
    "i = 1\n",
    "product = 1\n",
    "while i <= 5:\n",
    "    product = product * i\n",
    "    i = i + 1\n",
    "print(product)\n",
    "\n",
    "l = [1,2,3,4]\n",
    "sum = 0\n",
    "for i in l:\n",
    "    sum = sum + i\n",
    "print(sum)\n",
    "\n",
    "l = [1,2,3,4]\n",
    "product = 1\n",
    "for i in l:\n",
    "    product *= i\n",
    "print(product)"
   ]
  },
  {
   "cell_type": "code",
   "execution_count": 22,
   "id": "bafc8a1b",
   "metadata": {},
   "outputs": [
    {
     "name": "stdout",
     "output_type": "stream",
     "text": [
      "6\n",
      "6\n",
      "6\n",
      "6\n",
      "6\n",
      "6\n",
      "6\n"
     ]
    }
   ],
   "source": [
    "sum = 0\n",
    "for i in range(1,4):\n",
    "    sum = sum + i\n",
    "print(sum)\n",
    "\n",
    "sum = 0\n",
    "for i in range(1,4):\n",
    "    sum = sum + i\n",
    "print(sum)\n",
    "\n",
    "sum = 0\n",
    "for i in range(1,4):\n",
    "    sum = sum + i\n",
    "print(sum)\n",
    "\n",
    "sum = 0\n",
    "for i in range(1,4):\n",
    "    sum = sum + i\n",
    "print(sum)\n",
    "\n",
    "sum = 0\n",
    "for i in range(1,4):\n",
    "    sum = sum + i\n",
    "print(sum)\n",
    "\n",
    "sum = 0\n",
    "for i in range(1,4):\n",
    "    sum = sum + i\n",
    "print(sum)\n",
    "\n",
    "sum = 0\n",
    "for i in range(1,4):\n",
    "    sum = sum +i\n",
    "print(sum)\n"
   ]
  },
  {
   "cell_type": "code",
   "execution_count": 6,
   "id": "297cf5b6",
   "metadata": {},
   "outputs": [
    {
     "name": "stdout",
     "output_type": "stream",
     "text": [
      "(1,1)\n",
      "(1,2)\n",
      "(1,3)\n",
      "(1,4)\n",
      "(1,5)\n",
      "(2,1)\n",
      "(2,2)\n",
      "(2,3)\n",
      "(2,4)\n",
      "(2,5)\n",
      "(3,1)\n",
      "(3,2)\n",
      "(3,3)\n",
      "(3,4)\n",
      "(3,5)\n",
      "(4,1)\n",
      "(4,2)\n",
      "(4,3)\n",
      "(4,4)\n",
      "(4,5)\n",
      "(5,1)\n",
      "(5,2)\n",
      "(5,3)\n",
      "(5,4)\n",
      "(5,5)\n"
     ]
    }
   ],
   "source": [
    "l = [1,2,3,4,5]\n",
    "for i in l:\n",
    "    for j in l:\n",
    "        print('({},{})'.format(i,j))\n",
    "\n"
   ]
  },
  {
   "cell_type": "code",
   "execution_count": 10,
   "id": "b47df337",
   "metadata": {},
   "outputs": [
    {
     "name": "stdout",
     "output_type": "stream",
     "text": [
      "(1,1)\n",
      "(1,2)\n",
      "(1,3)\n",
      "(1,4)\n",
      "(1,5)\n",
      "(2,1)\n",
      "(2,2)\n",
      "(2,3)\n",
      "(2,4)\n",
      "(2,5)\n",
      "(3,1)\n",
      "(3,2)\n",
      "(3,3)\n",
      "(3,4)\n",
      "(3,5)\n",
      "(4,1)\n",
      "(4,2)\n",
      "(4,3)\n",
      "(4,4)\n",
      "(4,5)\n",
      "(5,1)\n",
      "(5,2)\n",
      "(5,3)\n",
      "(5,4)\n",
      "(5,5)\n"
     ]
    }
   ],
   "source": [
    "for i in range(1,6):\n",
    "    for j in range(1,6):\n",
    "        print('({},{})'.format(i,j))"
   ]
  },
  {
   "cell_type": "code",
   "execution_count": 8,
   "id": "22381484",
   "metadata": {},
   "outputs": [
    {
     "name": "stdout",
     "output_type": "stream",
     "text": [
      "(1,1)\n",
      "(1,2)\n",
      "(1,3)\n",
      "(1,4)\n",
      "(1,5)\n",
      "(1,6)\n",
      "(2,1)\n",
      "(2,2)\n",
      "(2,3)\n",
      "(2,4)\n",
      "(2,5)\n",
      "(2,6)\n",
      "(3,1)\n",
      "(3,2)\n",
      "(3,3)\n",
      "(3,4)\n",
      "(3,5)\n",
      "(3,6)\n",
      "(4,1)\n",
      "(4,2)\n",
      "(4,3)\n",
      "(4,4)\n",
      "(4,5)\n",
      "(4,6)\n",
      "(5,1)\n",
      "(5,2)\n",
      "(5,3)\n",
      "(5,4)\n",
      "(5,5)\n",
      "(5,6)\n",
      "(6,1)\n",
      "(6,2)\n",
      "(6,3)\n",
      "(6,4)\n",
      "(6,5)\n",
      "(6,6)\n"
     ]
    }
   ],
   "source": [
    "l = [1,2,3,4,5,6]\n",
    "for i in l:\n",
    "    for j in l:\n",
    "        print('({},{})'.format(i,j))"
   ]
  },
  {
   "cell_type": "code",
   "execution_count": null,
   "id": "4108947c",
   "metadata": {},
   "outputs": [],
   "source": [
    "for i in range(1,6):\n",
    "    for j in range(1,6):\n",
    "       print('({},{})'.format(i,j))"
   ]
  },
  {
   "cell_type": "code",
   "execution_count": 2,
   "id": "a01aedb4",
   "metadata": {},
   "outputs": [
    {
     "name": "stdout",
     "output_type": "stream",
     "text": [
      "1,1\n",
      "2,2\n",
      "3,3\n",
      "4,4\n",
      "5,5\n"
     ]
    }
   ],
   "source": [
    "i = 1\n",
    "j = 1\n",
    "while i<=5:\n",
    "    while j<=5:\n",
    "        print('{},{}'.format(i,j))\n",
    "        i = i + 1\n",
    "        j = j + 1\n",
    "    \n",
    "    "
   ]
  },
  {
   "cell_type": "code",
   "execution_count": 8,
   "id": "a31dbf5e",
   "metadata": {},
   "outputs": [],
   "source": [
    "import sys\n",
    "L = []\n",
    "sys.getsizeof(L)\n",
    "L.append('hello')"
   ]
  },
  {
   "cell_type": "code",
   "execution_count": null,
   "id": "cb896e81",
   "metadata": {},
   "outputs": [],
   "source": []
  }
 ],
 "metadata": {
  "kernelspec": {
   "display_name": "Python 3 (ipykernel)",
   "language": "python",
   "name": "python3"
  },
  "language_info": {
   "codemirror_mode": {
    "name": "ipython",
    "version": 3
   },
   "file_extension": ".py",
   "mimetype": "text/x-python",
   "name": "python",
   "nbconvert_exporter": "python",
   "pygments_lexer": "ipython3",
   "version": "3.11.4"
  }
 },
 "nbformat": 4,
 "nbformat_minor": 5
}
