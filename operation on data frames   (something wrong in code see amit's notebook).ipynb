{
 "cells": [
  {
   "cell_type": "code",
   "execution_count": 3,
   "id": "f9b53f91",
   "metadata": {},
   "outputs": [
    {
     "name": "stdout",
     "output_type": "stream",
     "text": [
      "         jack  john  jill\n",
      "English  93.0   NaN   NaN\n",
      "english   NaN  84.0  58.0\n",
      "math      NaN   NaN  92.0\n",
      "maths    91.0  82.0   NaN\n",
      "science  92.0  83.0  74.0\n"
     ]
    }
   ],
   "source": [
    "# creation of dataframe from dictonary of series.\n",
    "import pandas as pd\n",
    "Resultsheet = {\"jack\":pd.Series([91,92,93],index = [\"maths\",\"science\",\"English\"]),\"john\":pd.Series([82,83,84],index = [\"maths\",\"science\",\"english\"]),\"jill\":pd.Series([92,74,58],index = [\"math\",\"science\",\"english\"])}\n",
    "Rdf = pd.DataFrame(Resultsheet)\n",
    "print(Rdf)"
   ]
  },
  {
   "cell_type": "code",
   "execution_count": 21,
   "id": "b6e65881",
   "metadata": {},
   "outputs": [
    {
     "ename": "NameError",
     "evalue": "name 'rdf' is not defined",
     "output_type": "error",
     "traceback": [
      "\u001b[1;31m---------------------------------------------------------------------------\u001b[0m",
      "\u001b[1;31mNameError\u001b[0m                                 Traceback (most recent call last)",
      "Cell \u001b[1;32mIn[21], line 8\u001b[0m\n\u001b[0;32m      3\u001b[0m Rdf \u001b[38;5;241m=\u001b[39m pd\u001b[38;5;241m.\u001b[39mDataFrame(Resultsheet)\n\u001b[0;32m      4\u001b[0m \u001b[38;5;66;03m# Rdf[index]= [89, 98, 67]\u001b[39;00m\n\u001b[0;32m      5\u001b[0m \u001b[38;5;66;03m# print(RDF)\u001b[39;00m\n\u001b[0;32m      6\u001b[0m \u001b[38;5;66;03m# RDF.loc[\"hindi\"]=[60, 61, 67]\u001b[39;00m\n\u001b[0;32m      7\u001b[0m \u001b[38;5;66;03m# print(RDF)\u001b[39;00m\n\u001b[1;32m----> 8\u001b[0m RDF \u001b[38;5;241m=\u001b[39m rdf\u001b[38;5;241m.\u001b[39mdrop(\u001b[38;5;124m'\u001b[39m\u001b[38;5;124mscience\u001b[39m\u001b[38;5;124m'\u001b[39m,axis\u001b[38;5;241m=\u001b[39m\u001b[38;5;241m0\u001b[39m)\n\u001b[0;32m      9\u001b[0m \u001b[38;5;28mprint\u001b[39m(RDF)\n",
      "\u001b[1;31mNameError\u001b[0m: name 'rdf' is not defined"
     ]
    }
   ],
   "source": [
    "# adding new column to a data frame\n",
    "Resultsheet = {\"jack\":pd.Series([91,92,93],index = [\"maths\",\"science\",\"English\"]),\"john\":pd.Series([82,83,84],index = [\"maths\",\"science\",\"english\"]),\"jill\":pd.Series([92,74,58],index = [\"math\",\"science\",\"english\"])}\n",
    "Rdf = pd.DataFrame(Resultsheet)\n",
    "# Rdf[index]= [89, 98, 67]\n",
    "# print(RDF)\n",
    "# RDF.loc[\"hindi\"]=[60, 61, 67]\n",
    "# print(RDF)\n",
    "RDF = rdf.drop('science',axis=0)\n",
    "print(RDF)"
   ]
  },
  {
   "cell_type": "code",
   "execution_count": null,
   "id": "ca57e2bd",
   "metadata": {},
   "outputs": [],
   "source": []
  },
  {
   "cell_type": "code",
   "execution_count": 22,
   "id": "44d171e6",
   "metadata": {},
   "outputs": [],
   "source": [
    "# delete row or coloum from a database\n",
    "# Dataframe.drop method\n",
    "# whenever we are deleting row and column from a DataFrame we need to specify the name of labels to be drop and the axis \n",
    "# from which they need to be drop.\n",
    "\n",
    "#IMPORTANT POINT - to delete a row axis value will be zero and for deleting column value will be 1."
   ]
  },
  {
   "cell_type": "code",
   "execution_count": 6,
   "id": "1e51de45",
   "metadata": {},
   "outputs": [
    {
     "name": "stdout",
     "output_type": "stream",
     "text": [
      "         jack  john  jill\n",
      "English  93.0   NaN   NaN\n",
      "english   NaN  84.0  58.0\n",
      "math      NaN   NaN  92.0\n",
      "maths    91.0  82.0   NaN\n",
      "science  92.0  83.0  74.0\n",
      "         jack  john  jill\n",
      "English  93.0   NaN   NaN\n",
      "english   NaN  84.0  58.0\n",
      "math      NaN   NaN  92.0\n",
      "maths    91.0  82.0   NaN\n",
      "science  92.0  83.0  74.0\n",
      "hindi    60.0  61.0  67.0\n",
      "         jack  john  jill\n",
      "English  93.0   NaN   NaN\n",
      "english   NaN  84.0  58.0\n",
      "math      NaN   NaN  92.0\n",
      "maths    91.0  82.0   NaN\n",
      "hindi    60.0  61.0  67.0\n",
      "         new_jack  new_john  new_jill  programming\n",
      "English      93.0       NaN       NaN          NaN\n",
      "english       NaN      84.0      58.0          NaN\n",
      "math          NaN       NaN      92.0          NaN\n",
      "maths        91.0      82.0       NaN          NaN\n",
      "hindi        60.0      61.0      62.0          NaN\n"
     ]
    }
   ],
   "source": [
    "import pandas as pd\n",
    "\n",
    "Resultsheet = {\n",
    "    \"jack\": pd.Series([91, 92, 93], index=[\"maths\", \"science\", \"English\"]),\n",
    "    \"john\": pd.Series([82, 83, 84], index=[\"maths\", \"science\", \"english\"]),\n",
    "    \"jill\": pd.Series([92, 74, 58], index=[\"math\", \"science\", \"english\"]),\n",
    "}\n",
    "\n",
    "Rdf = pd.DataFrame(Resultsheet)\n",
    "print(Rdf)\n",
    "Rdf.loc[\"hindi\"] = [60, 61, 67]\n",
    "print(Rdf)\n",
    "\n",
    "Rdf = Rdf.drop(\"science\", axis=0)\n",
    "print(Rdf)\n",
    "\n",
    "Rdf.loc[\"hindi\"] = [60, 61, 62]  # Change values for \"hindi\" row\n",
    "# Change column names\n",
    "Rdf = Rdf.rename(columns={\"jack\": \"new_jack\", \"john\": \"new_john\", \"jill\": \"new_jill\"})\n",
    "\n",
    "Rdf['programming'] = pd.Series([95, 89, 78], index=[\"jack\", \"john\", \"jill\"])\n",
    "\n",
    "print(Rdf)"
   ]
  },
  {
   "cell_type": "code",
   "execution_count": null,
   "id": "3dae95a7",
   "metadata": {},
   "outputs": [],
   "source": [
    "# renaming the datafram\n",
    "# dataframe.rename\n",
    "# axis = index is use to specify row level is to be change"
   ]
  }
 ],
 "metadata": {
  "kernelspec": {
   "display_name": "Python 3 (ipykernel)",
   "language": "python",
   "name": "python3"
  },
  "language_info": {
   "codemirror_mode": {
    "name": "ipython",
    "version": 3
   },
   "file_extension": ".py",
   "mimetype": "text/x-python",
   "name": "python",
   "nbconvert_exporter": "python",
   "pygments_lexer": "ipython3",
   "version": "3.11.4"
  }
 },
 "nbformat": 4,
 "nbformat_minor": 5
}
