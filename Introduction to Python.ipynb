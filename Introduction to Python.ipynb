{
 "cells": [
  {
   "cell_type": "code",
   "execution_count": 1,
   "id": "ce2f00a6-5648-4f92-aa18-e5f7deb92dc9",
   "metadata": {},
   "outputs": [],
   "source": [
    "# OUR FIRST PYTHON PROGRAM"
   ]
  },
  {
   "cell_type": "code",
   "execution_count": 2,
   "id": "bbf60a36-bc6a-4109-8360-86b66b4db90e",
   "metadata": {},
   "outputs": [
    {
     "name": "stdout",
     "output_type": "stream",
     "text": [
      "Hello World\n"
     ]
    }
   ],
   "source": [
    "print(\"Hello World\")     "
   ]
  },
  {
   "cell_type": "code",
   "execution_count": 3,
   "id": "5fcc1fde-a8ea-419c-8775-b36d7408c77d",
   "metadata": {},
   "outputs": [],
   "source": [
    "# how to run our code in jupyter notebook.\n",
    "# shift + enter"
   ]
  },
  {
   "cell_type": "code",
   "execution_count": null,
   "id": "2a666ef2-5d62-4112-a8e2-d222e09d08b8",
   "metadata": {},
   "outputs": [],
   "source": [
    "# comment"
   ]
  },
  {
   "cell_type": "markdown",
   "id": "9866cd33-8abf-4c42-bd84-62c443ba18e2",
   "metadata": {},
   "source": [
    "# Arithmetic Operators in Python"
   ]
  },
  {
   "cell_type": "code",
   "execution_count": null,
   "id": "bb30f173-837e-4254-bb8c-5542c1408418",
   "metadata": {},
   "outputs": [],
   "source": [
    "print(2+5)"
   ]
  },
  {
   "cell_type": "code",
   "execution_count": 6,
   "id": "c9be9ab4-5a1b-488c-a401-f5cfe3444563",
   "metadata": {},
   "outputs": [
    {
     "name": "stdout",
     "output_type": "stream",
     "text": [
      "3\n"
     ]
    }
   ],
   "source": [
    "print(5-2)"
   ]
  },
  {
   "cell_type": "code",
   "execution_count": 7,
   "id": "d7975bdc-4a3a-4afb-b27c-dd26aba98d5c",
   "metadata": {},
   "outputs": [
    {
     "name": "stdout",
     "output_type": "stream",
     "text": [
      "10\n"
     ]
    }
   ],
   "source": [
    "print(5*2)"
   ]
  },
  {
   "cell_type": "code",
   "execution_count": 9,
   "id": "db81bc1f-4b32-4d34-8f24-d7b1183b6d95",
   "metadata": {},
   "outputs": [
    {
     "name": "stdout",
     "output_type": "stream",
     "text": [
      "0\n"
     ]
    }
   ],
   "source": [
    "print(6%2)  # remainder operator/ modulo "
   ]
  },
  {
   "cell_type": "code",
   "execution_count": null,
   "id": "da4d9fac-346a-41df-9777-98c45951ff8e",
   "metadata": {},
   "outputs": [],
   "source": []
  },
  {
   "cell_type": "code",
   "execution_count": 10,
   "id": "acfe7bd5-4a7d-4a64-b728-ce1e627c9cbe",
   "metadata": {},
   "outputs": [
    {
     "name": "stdout",
     "output_type": "stream",
     "text": [
      "4\n"
     ]
    }
   ],
   "source": [
    "print(2**2)"
   ]
  },
  {
   "cell_type": "code",
   "execution_count": 11,
   "id": "37ebb938-76f5-4899-a98c-162b7283e202",
   "metadata": {},
   "outputs": [
    {
     "name": "stdout",
     "output_type": "stream",
     "text": [
      "2.0\n"
     ]
    }
   ],
   "source": [
    "# division\n",
    "print(4/2)"
   ]
  },
  {
   "cell_type": "code",
   "execution_count": 12,
   "id": "0f6c3237-9087-41d3-9e81-551411760262",
   "metadata": {},
   "outputs": [
    {
     "name": "stdout",
     "output_type": "stream",
     "text": [
      "2\n"
     ]
    }
   ],
   "source": [
    "# floor division\n",
    "print(4//2)"
   ]
  },
  {
   "cell_type": "code",
   "execution_count": null,
   "id": "9518a885-0745-4fad-b422-a28506724a4c",
   "metadata": {},
   "outputs": [],
   "source": []
  },
  {
   "cell_type": "code",
   "execution_count": 13,
   "id": "29f3d86d-1058-4170-90a7-a8e338883f11",
   "metadata": {},
   "outputs": [
    {
     "name": "stdout",
     "output_type": "stream",
     "text": [
      "rohan\n"
     ]
    }
   ],
   "source": [
    "print(\"rohan\")"
   ]
  },
  {
   "cell_type": "code",
   "execution_count": 14,
   "id": "90a48733-b9c7-4804-b8a7-8f7ac87aed4d",
   "metadata": {},
   "outputs": [
    {
     "name": "stdout",
     "output_type": "stream",
     "text": [
      "my name is Riya\n"
     ]
    }
   ],
   "source": [
    "print(\"my name is Riya\")"
   ]
  },
  {
   "cell_type": "code",
   "execution_count": 15,
   "id": "b0dc5a7f-fc86-446a-848c-f3bc6ace1507",
   "metadata": {},
   "outputs": [
    {
     "name": "stdout",
     "output_type": "stream",
     "text": [
      "I am a Data Scientist\n"
     ]
    }
   ],
   "source": [
    "print(\"I am a Data Scientist\")"
   ]
  },
  {
   "cell_type": "code",
   "execution_count": 16,
   "id": "9fd19631-9c34-42df-886d-37df6f3c5316",
   "metadata": {},
   "outputs": [
    {
     "name": "stdout",
     "output_type": "stream",
     "text": [
      "I am a Python Expert\n"
     ]
    }
   ],
   "source": [
    "print(\"I am a Python Expert\")"
   ]
  },
  {
   "cell_type": "code",
   "execution_count": 17,
   "id": "30be3ce2-fcf6-412b-82a1-fcd833a76e99",
   "metadata": {},
   "outputs": [],
   "source": [
    "# to calculate large numbers"
   ]
  },
  {
   "cell_type": "code",
   "execution_count": 18,
   "id": "b08494f7-102a-40c4-9ce5-6277ac34cccf",
   "metadata": {},
   "outputs": [
    {
     "name": "stdout",
     "output_type": "stream",
     "text": [
      "55022271171542152869524576436\n"
     ]
    }
   ],
   "source": [
    "print(2345688765435654*23456765442334)"
   ]
  },
  {
   "cell_type": "code",
   "execution_count": 19,
   "id": "6b19528a-ec43-4aaf-8e25-491243c93f56",
   "metadata": {},
   "outputs": [
    {
     "name": "stdout",
     "output_type": "stream",
     "text": [
      "21\n"
     ]
    }
   ],
   "source": [
    "# calculate the sum of 3 numbers\n",
    "print(5 + 9 + 7)"
   ]
  },
  {
   "cell_type": "code",
   "execution_count": 20,
   "id": "872c172c-53b9-4e85-be4c-01909d989fb3",
   "metadata": {},
   "outputs": [
    {
     "name": "stdout",
     "output_type": "stream",
     "text": [
      "200000\n"
     ]
    }
   ],
   "source": [
    "# calculate the product of 3 numbers\n",
    "print(2 * 100 * 1000)"
   ]
  },
  {
   "cell_type": "markdown",
   "id": "ce3c86ab-ae4b-4f24-82c1-019f8b7254ff",
   "metadata": {},
   "source": [
    "# TAKING INPUT FROM USER"
   ]
  },
  {
   "cell_type": "code",
   "execution_count": 22,
   "id": "27365e4b-8cc0-43c9-b1ed-663307877b76",
   "metadata": {},
   "outputs": [
    {
     "name": "stdin",
     "output_type": "stream",
     "text": [
      "my name is:  Tony Stark\n"
     ]
    },
    {
     "name": "stdout",
     "output_type": "stream",
     "text": [
      "Tony Stark\n"
     ]
    }
   ],
   "source": [
    "a = input(\"my name is: \")\n",
    "print(a)"
   ]
  },
  {
   "cell_type": "code",
   "execution_count": 23,
   "id": "9c63bf12-cfad-4ec5-93c3-053ab67b4718",
   "metadata": {},
   "outputs": [
    {
     "name": "stdin",
     "output_type": "stream",
     "text": [
      "I am a  Python Expert.\n"
     ]
    },
    {
     "name": "stdout",
     "output_type": "stream",
     "text": [
      "Python Expert.\n"
     ]
    }
   ],
   "source": [
    "b = input(\"I am a \")\n",
    "print(b)"
   ]
  },
  {
   "cell_type": "code",
   "execution_count": null,
   "id": "ccb0e832-0739-4dc1-9019-77600a80fc81",
   "metadata": {},
   "outputs": [],
   "source": []
  }
 ],
 "metadata": {
  "kernelspec": {
   "display_name": "Python 3 (ipykernel)",
   "language": "python",
   "name": "python3"
  },
  "language_info": {
   "codemirror_mode": {
    "name": "ipython",
    "version": 3
   },
   "file_extension": ".py",
   "mimetype": "text/x-python",
   "name": "python",
   "nbconvert_exporter": "python",
   "pygments_lexer": "ipython3",
   "version": "3.11.4"
  }
 },
 "nbformat": 4,
 "nbformat_minor": 5
}
