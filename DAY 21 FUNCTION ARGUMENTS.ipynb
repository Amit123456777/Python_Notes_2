{
 "cells": [
  {
   "cell_type": "code",
   "execution_count": 1,
   "id": "29ed9cfa",
   "metadata": {},
   "outputs": [],
   "source": []
  },
  {
   "cell_type": "code",
   "execution_count": 2,
   "id": "a64b06ef",
   "metadata": {},
   "outputs": [
    {
     "name": "stdout",
     "output_type": "stream",
     "text": [
      "The average is  5.0\n"
     ]
    }
   ],
   "source": [
    "# required arguments\n",
    "\n",
    "def average(a,b):\n",
    "    print(\"The average is \", (a+b)/2) # remember brakets\n",
    "\n",
    "average(4, 6)\n",
    "# A AND B IS REQUIRED ARGUMENTS BECAUSE NO DEFAULT VALUE OF A,B."
   ]
  },
  {
   "cell_type": "code",
   "execution_count": 7,
   "id": "f16599f1",
   "metadata": {},
   "outputs": [
    {
     "name": "stdout",
     "output_type": "stream",
     "text": [
      "The average is  5.0\n",
      "The average is  3.0\n",
      "The average is  3.0\n",
      "The average is  9.0\n"
     ]
    }
   ],
   "source": [
    "# default arguments\n",
    "\n",
    "def average(a=9,b=1):   # here a=9 and b=1 is default values\n",
    "    print(\"The average is \", (a+b)/2)\n",
    "\n",
    "average()  # kuch ni to default\n",
    "average(1,5)  # ignore default agar value de diya to\n",
    "average(5)     # a = 5 and b = default 1\n",
    "average(b=9)     # b = 9 and a = default 9\n"
   ]
  },
  {
   "cell_type": "code",
   "execution_count": 8,
   "id": "6bab6db0",
   "metadata": {},
   "outputs": [],
   "source": [
    "# == used to compare equality of values \n",
    "# = used for variable assignment"
   ]
  },
  {
   "cell_type": "code",
   "execution_count": 12,
   "id": "6850b86c",
   "metadata": {},
   "outputs": [
    {
     "name": "stdout",
     "output_type": "stream",
     "text": [
      "Hello Amy Jhon Whatson\n",
      "Hello Amy Agarwal Whatson\n",
      "Hello Amy Agarwal jain\n"
     ]
    }
   ],
   "source": [
    "def name(fname, mname = \"Jhon\", lname= \"Whatson\"):\n",
    "    print(\"Hello\",fname,mname,lname)\n",
    "\n",
    "    \n",
    "name(\"Amy\")\n",
    "name(\"Amy\", \"Agarwal\")\n",
    "name(\"Amy\", \"Agarwal\", \"jain\")"
   ]
  },
  {
   "cell_type": "code",
   "execution_count": 18,
   "id": "b24bd4e6",
   "metadata": {},
   "outputs": [
    {
     "name": "stdout",
     "output_type": "stream",
     "text": [
      "The average is  5.0\n",
      "The average is  15.0\n"
     ]
    }
   ],
   "source": [
    "# keyword arguments \n",
    "# argument order can change iske liye key argument dono likho call me\n",
    "def average(a=9, b=1):\n",
    "    print(\"The average is \", (a+b)/2)\n",
    "    \n",
    "average(4, 6)   # order is matter in this way\n",
    "average(b=9, a=21)  # order does not matter in this way"
   ]
  },
  {
   "cell_type": "code",
   "execution_count": 19,
   "id": "39a803ce",
   "metadata": {},
   "outputs": [
    {
     "name": "stdout",
     "output_type": "stream",
     "text": [
      "Hello jade Peter Wesker\n"
     ]
    }
   ],
   "source": [
    "def name(fname, mname, lname):\n",
    "    print(\"Hello\", fname, mname, lname)\n",
    "\n",
    "name(mname = \"Peter\", lname = \"Wesker\", fname = \"jade\") # order does not matter in this way of writing"
   ]
  },
  {
   "cell_type": "code",
   "execution_count": 1,
   "id": "8fa4009b",
   "metadata": {},
   "outputs": [
    {
     "name": "stdout",
     "output_type": "stream",
     "text": [
      "The average is  5.5\n"
     ]
    }
   ],
   "source": [
    "# required arguments wo arguments joki hme dene hi dene hai\n",
    "def average(a, b, c=1):\n",
    "    print(\"The average is \", (a+b)/2)\n",
    "\n",
    "average(5,6) # a=5, b=6, c=default 1\n",
    "\n",
    "# here a and b is required arguments bcoz unka default value kuch nhi hai, to\n",
    "# calling time pe unki value dena compulsory hai.\n",
    "# key = value means a=7"
   ]
  },
  {
   "cell_type": "code",
   "execution_count": 5,
   "id": "d98f6705",
   "metadata": {
    "scrolled": true
   },
   "outputs": [
    {
     "name": "stdout",
     "output_type": "stream",
     "text": [
      "Average is:  5.5\n"
     ]
    }
   ],
   "source": [
    "# variable length argument  (discuss it later)\n",
    "# (for tuple)\n",
    "\n",
    "def average(*numbers):\n",
    "#     print(type(numbers))\n",
    "    sum = 0\n",
    "    for i in numbers:\n",
    "        sum = sum + i\n",
    "    print(\"Average is: \", sum/len(numbers))\n",
    "\n",
    "    \n",
    "average(5,6)\n",
    "# average(5,6,7,1)"
   ]
  },
  {
   "cell_type": "code",
   "execution_count": 10,
   "id": "a2b9a74d",
   "metadata": {},
   "outputs": [
    {
     "name": "stdout",
     "output_type": "stream",
     "text": [
      "Average is:  4.75\n",
      "7\n"
     ]
    }
   ],
   "source": []
  },
  {
   "cell_type": "code",
   "execution_count": 7,
   "id": "39b0d18c",
   "metadata": {
    "scrolled": true
   },
   "outputs": [
    {
     "name": "stdout",
     "output_type": "stream",
     "text": [
      "<class 'dict'>\n",
      "Hello james Buchanan Barnes\n"
     ]
    }
   ],
   "source": [
    "# for dictionary\n",
    "\n",
    "def name(**name):\n",
    "#     print(type(name))\n",
    "    print(\"Hello\", name[\"fname\"],name[\"mname\"],name[\"lname\"])\n",
    "\n",
    "name(mname=\"Buchanan\", lname=\"Barnes\",fname=\"james\")"
   ]
  },
  {
   "cell_type": "code",
   "execution_count": 9,
   "id": "90f58f44",
   "metadata": {},
   "outputs": [
    {
     "name": "stdout",
     "output_type": "stream",
     "text": [
      "<class 'dict'>\n",
      "doraemon hello kitty ben 10\n"
     ]
    }
   ],
   "source": [
    "def name(**name):\n",
    "    print(type(name))\n",
    "    print(name[\"cartoon\"],name[\"kittyname\"],name[\"movie\"])\n",
    "\n",
    "name(cartoon=\"doraemon\", kittyname = \"hello kitty\", movie= \"ben 10\")"
   ]
  },
  {
   "cell_type": "code",
   "execution_count": 11,
   "id": "f08e3004",
   "metadata": {},
   "outputs": [],
   "source": [
    "# note: variable length topic discuss later, so don't worry"
   ]
  },
  {
   "cell_type": "code",
   "execution_count": null,
   "id": "2fbe606f",
   "metadata": {},
   "outputs": [],
   "source": []
  },
  {
   "cell_type": "code",
   "execution_count": 6,
   "id": "7a1d7b42",
   "metadata": {},
   "outputs": [
    {
     "name": "stdout",
     "output_type": "stream",
     "text": [
      "7\n"
     ]
    }
   ],
   "source": [
    "def average(*numbers):\n",
    "    sum = 0\n",
    "    for i in numbers:\n",
    "        sum = sum + i\n",
    "#     print(\"Average is: \", sum / len(numbers))\n",
    "    return 7\n",
    "    return sum / len(numbers)\n",
    "\n",
    "c = average(5,6,7,1)\n",
    "print(c)\n",
    "\n",
    "# return me jo bi likhte hai wo variable me store ho jata hai, like c variable here.\n"
   ]
  },
  {
   "cell_type": "code",
   "execution_count": null,
   "id": "816d58db",
   "metadata": {},
   "outputs": [],
   "source": []
  },
  {
   "cell_type": "code",
   "execution_count": null,
   "id": "717d372c",
   "metadata": {},
   "outputs": [],
   "source": []
  }
 ],
 "metadata": {
  "kernelspec": {
   "display_name": "Python 3 (ipykernel)",
   "language": "python",
   "name": "python3"
  },
  "language_info": {
   "codemirror_mode": {
    "name": "ipython",
    "version": 3
   },
   "file_extension": ".py",
   "mimetype": "text/x-python",
   "name": "python",
   "nbconvert_exporter": "python",
   "pygments_lexer": "ipython3",
   "version": "3.11.4"
  }
 },
 "nbformat": 4,
 "nbformat_minor": 5
}
