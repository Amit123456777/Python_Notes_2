{
 "cells": [
  {
   "cell_type": "code",
   "execution_count": 2,
   "id": "cc3a89a3",
   "metadata": {},
   "outputs": [
    {
     "name": "stdout",
     "output_type": "stream",
     "text": [
      "B\n"
     ]
    }
   ],
   "source": [
    "# 1\n",
    "a = 330\n",
    "b = 3303\n",
    "print(\"A\") if a > b else print(\"=\") if a == b else print(\"B\")"
   ]
  },
  {
   "cell_type": "code",
   "execution_count": 3,
   "id": "489e67e6",
   "metadata": {},
   "outputs": [],
   "source": [
    "\n",
    "why we use if else in one line ?\n",
    "we can make code readble\n",
    "and python to famous hi ise cheez ke liye hoti hai. ki python is readable."
   ]
  },
  {
   "cell_type": "code",
   "execution_count": 6,
   "id": "e6576845",
   "metadata": {},
   "outputs": [
    {
     "data": {
      "text/plain": [
       "' '"
      ]
     },
     "execution_count": 6,
     "metadata": {},
     "output_type": "execute_result"
    }
   ],
   "source": [
    "# 2\n",
    "print(9) if a>b else ' '"
   ]
  },
  {
   "cell_type": "code",
   "execution_count": 7,
   "id": "1b4f39de",
   "metadata": {},
   "outputs": [
    {
     "name": "stdout",
     "output_type": "stream",
     "text": [
      "0\n"
     ]
    }
   ],
   "source": [
    "# 3\n",
    "c = 9 if a>b else 0\n",
    "print(c)"
   ]
  },
  {
   "cell_type": "code",
   "execution_count": 8,
   "id": "8b498896",
   "metadata": {},
   "outputs": [
    {
     "name": "stdout",
     "output_type": "stream",
     "text": [
      "9\n"
     ]
    }
   ],
   "source": [
    "a = 330000\n",
    "b = 3303\n",
    "c = 9 if a>b else 0\n",
    "print(c)"
   ]
  },
  {
   "cell_type": "code",
   "execution_count": 10,
   "id": "e23bf055",
   "metadata": {},
   "outputs": [],
   "source": [
    "# short hand if else ko whi use krna hai jha pe ise use krna shi ho.\n",
    "# otherwise we use long if else.\n",
    "# kuki code bda ya chote hone se frk ni pdta.\n",
    "\n",
    "# code should be easily understandable nd maintainable.\n",
    "# maintable means hm us code ko kbhi bi dekhe to easily bta ske uske bare me bta ske.\n",
    "\n",
    "# genius programmer doesn't write code for himself. \n",
    "# he writes code to other programmer.\n",
    "# so they can understand too. This things hold true.\n",
    "\n",
    "# replit home page pe hm 100 days of python ko duolingo ke treh dekh skte hai.bcoz replit featured this course on replit. 😊😋\n",
    "\n",
    "\n"
   ]
  },
  {
   "cell_type": "code",
   "execution_count": null,
   "id": "3bd4f649",
   "metadata": {},
   "outputs": [],
   "source": []
  }
 ],
 "metadata": {
  "kernelspec": {
   "display_name": "Python 3 (ipykernel)",
   "language": "python",
   "name": "python3"
  },
  "language_info": {
   "codemirror_mode": {
    "name": "ipython",
    "version": 3
   },
   "file_extension": ".py",
   "mimetype": "text/x-python",
   "name": "python",
   "nbconvert_exporter": "python",
   "pygments_lexer": "ipython3",
   "version": "3.11.4"
  }
 },
 "nbformat": 4,
 "nbformat_minor": 5
}
