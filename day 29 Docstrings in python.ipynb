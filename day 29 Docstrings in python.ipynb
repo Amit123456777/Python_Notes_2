{
 "cells": [
  {
   "cell_type": "code",
   "execution_count": 3,
   "id": "427620c3",
   "metadata": {},
   "outputs": [
    {
     "name": "stdout",
     "output_type": "stream",
     "text": [
      "25\n",
      "takes in a number n, returns the square of n\n"
     ]
    }
   ],
   "source": [
    "# 1 docstring\n",
    "def square(n):\n",
    "    '''takes in a number n, returns the square of n''' # docstring\n",
    "    print(n**2)\n",
    "square(5)\n",
    "print(square.__doc__) # we can access doc string using doc attribute"
   ]
  },
  {
   "cell_type": "code",
   "execution_count": null,
   "id": "850b0899",
   "metadata": {},
   "outputs": [],
   "source": [
    "# doctring ko ignore ni krta python comment ki treh\n",
    "# program can change due to change in docstring"
   ]
  },
  {
   "cell_type": "code",
   "execution_count": 4,
   "id": "c7208c2a",
   "metadata": {},
   "outputs": [],
   "source": [
    "# docstring right just below the def ayega other wise it shows error\n",
    "# encourage -> protsahn krna"
   ]
  },
  {
   "cell_type": "code",
   "execution_count": 5,
   "id": "61355b7b",
   "metadata": {},
   "outputs": [],
   "source": [
    "\n",
    "# 2 pep 8 \n",
    "\n",
    "# python enhancement proposal 2001"
   ]
  },
  {
   "cell_type": "code",
   "execution_count": null,
   "id": "71c86575",
   "metadata": {},
   "outputs": [],
   "source": []
  },
  {
   "cell_type": "code",
   "execution_count": 6,
   "id": "7d061210",
   "metadata": {},
   "outputs": [],
   "source": [
    "# The Zen of python by Tim Peters\n",
    "# this is easter egg in python. this is only poem iska koi use ni hai but python me.\n",
    "# \n",
    "# type import this\n",
    "# we can also write this word in terming in python repl (read evaluate print loop)"
   ]
  },
  {
   "cell_type": "code",
   "execution_count": null,
   "id": "15a5d823",
   "metadata": {},
   "outputs": [],
   "source": [
    "# isko type krne se ek poem ayega, we can feel this poem when we make\n",
    "# one two projects bog projects"
   ]
  }
 ],
 "metadata": {
  "kernelspec": {
   "display_name": "Python 3 (ipykernel)",
   "language": "python",
   "name": "python3"
  },
  "language_info": {
   "codemirror_mode": {
    "name": "ipython",
    "version": 3
   },
   "file_extension": ".py",
   "mimetype": "text/x-python",
   "name": "python",
   "nbconvert_exporter": "python",
   "pygments_lexer": "ipython3",
   "version": "3.11.4"
  }
 },
 "nbformat": 4,
 "nbformat_minor": 5
}
