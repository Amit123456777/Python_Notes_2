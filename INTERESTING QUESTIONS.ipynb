{
 "cells": [
  {
   "cell_type": "code",
   "execution_count": 6,
   "id": "be339687",
   "metadata": {},
   "outputs": [
    {
     "name": "stdout",
     "output_type": "stream",
     "text": [
      "hello\"\n",
      "world\n"
     ]
    }
   ],
   "source": [
    "# escape sequence character\n",
    "\n",
    "# ques 1. how to print the word below\n",
    "# hello\"world"
   ]
  },
  {
   "cell_type": "code",
   "execution_count": 13,
   "id": "fc157ea8",
   "metadata": {},
   "outputs": [
    {
     "name": "stdout",
     "output_type": "stream",
     "text": [
      "hello\"world\n"
     ]
    }
   ],
   "source": [
    "print(\"hello\\\"world\")\n",
    "# we will use escape sequence character( backslash-quotes)"
   ]
  },
  {
   "cell_type": "code",
   "execution_count": 17,
   "id": "03c6c8d7",
   "metadata": {},
   "outputs": [
    {
     "name": "stdout",
     "output_type": "stream",
     "text": [
      "hello\n",
      "world\n"
     ]
    }
   ],
   "source": [
    "# ques 2. new line character (backslash n - \\n)\n",
    "print(\"hello\\nworld\") "
   ]
  },
  {
   "cell_type": "code",
   "execution_count": 1,
   "id": "d09cadcc",
   "metadata": {},
   "outputs": [
    {
     "name": "stdout",
     "output_type": "stream",
     "text": [
      "3\n",
      "5\n",
      "7\n",
      "9\n",
      "11\n",
      "13\n",
      "15\n",
      "4\n",
      "6\n",
      "8\n",
      "10\n",
      "12\n",
      "14\n"
     ]
    }
   ],
   "source": [
    "#3 questions\n",
    "\n",
    "# PRINT THE ODD NO FORM 4 TO 15\n",
    "for i in range(3,16,2):\n",
    "    print(i)\n",
    "    \n",
    "    \n",
    "# PRINT THE ODD NO FORM 4 TO 15\n",
    "for i in range(4,15,2):\n",
    "    print(i)"
   ]
  },
  {
   "cell_type": "code",
   "execution_count": 2,
   "id": "21450e5e",
   "metadata": {},
   "outputs": [
    {
     "name": "stdout",
     "output_type": "stream",
     "text": [
      "enter your name\n",
      "\n"
     ]
    }
   ],
   "source": [
    "# question 4\n",
    "# CODE TO CONVERT USER INPUT IN LOWERCASE\n",
    "\n",
    "a = input(\"enter your name\")\n",
    "a = a.lower()\n",
    "print(a)\n",
    "\n",
    "\n",
    "# don't use like this\n",
    "# because isse upper to ho jayega, but us khi pe store krne ke liye variable me assign krna pdega.\n",
    "# agar variable me store hi ni hoga wo to print ni hoga.\n",
    "# a.lower()\n",
    "# print(a)"
   ]
  },
  {
   "cell_type": "code",
   "execution_count": null,
   "id": "86c3c052",
   "metadata": {},
   "outputs": [],
   "source": [
    "# SIMILARLY, UPPER CASE\n",
    "name = input(\"enter you name\")\n",
    "name = name.upper()\n",
    "print(name)"
   ]
  }
 ],
 "metadata": {
  "kernelspec": {
   "display_name": "Python 3 (ipykernel)",
   "language": "python",
   "name": "python3"
  },
  "language_info": {
   "codemirror_mode": {
    "name": "ipython",
    "version": 3
   },
   "file_extension": ".py",
   "mimetype": "text/x-python",
   "name": "python",
   "nbconvert_exporter": "python",
   "pygments_lexer": "ipython3",
   "version": "3.11.4"
  }
 },
 "nbformat": 4,
 "nbformat_minor": 5
}
