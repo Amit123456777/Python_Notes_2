{
 "cells": [
  {
   "cell_type": "code",
   "execution_count": 1,
   "id": "a8e321e2",
   "metadata": {},
   "outputs": [
    {
     "name": "stdout",
     "output_type": "stream",
     "text": [
      "hello my name is :  shradha\n"
     ]
    }
   ],
   "source": [
    "print(\"hello,\",\"my name is : \", \"shradha\")"
   ]
  },
  {
   "cell_type": "code",
   "execution_count": 2,
   "id": "03398448",
   "metadata": {},
   "outputs": [
    {
     "name": "stdout",
     "output_type": "stream",
     "text": [
      "hello my name is shradha\n"
     ]
    }
   ],
   "source": [
    "print(\"hello my name is shradha\")"
   ]
  },
  {
   "cell_type": "code",
   "execution_count": 5,
   "id": "7c5cefef",
   "metadata": {},
   "outputs": [
    {
     "name": "stdout",
     "output_type": "stream",
     "text": [
      "hello hello hello\n"
     ]
    }
   ],
   "source": [
    "print(\"hello\" + \" \" + \"hello\" + \" \" + \"hello\")"
   ]
  },
  {
   "cell_type": "code",
   "execution_count": null,
   "id": "d9a4a009",
   "metadata": {},
   "outputs": [],
   "source": []
  }
 ],
 "metadata": {
  "kernelspec": {
   "display_name": "Python 3 (ipykernel)",
   "language": "python",
   "name": "python3"
  },
  "language_info": {
   "codemirror_mode": {
    "name": "ipython",
    "version": 3
   },
   "file_extension": ".py",
   "mimetype": "text/x-python",
   "name": "python",
   "nbconvert_exporter": "python",
   "pygments_lexer": "ipython3",
   "version": "3.11.4"
  }
 },
 "nbformat": 4,
 "nbformat_minor": 5
}
