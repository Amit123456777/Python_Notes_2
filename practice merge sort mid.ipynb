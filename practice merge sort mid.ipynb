{
 "cells": [
  {
   "cell_type": "code",
   "execution_count": 12,
   "id": "8b93c4dc",
   "metadata": {},
   "outputs": [
    {
     "ename": "ModuleNotFoundError",
     "evalue": "No module named 'sklearn.dataset'",
     "output_type": "error",
     "traceback": [
      "\u001b[1;31m---------------------------------------------------------------------------\u001b[0m",
      "\u001b[1;31mModuleNotFoundError\u001b[0m                       Traceback (most recent call last)",
      "Cell \u001b[1;32mIn[12], line 3\u001b[0m\n\u001b[0;32m      1\u001b[0m \u001b[38;5;66;03m# linear regression\u001b[39;00m\n\u001b[1;32m----> 3\u001b[0m \u001b[38;5;28;01mfrom\u001b[39;00m \u001b[38;5;21;01msklearn\u001b[39;00m\u001b[38;5;21;01m.\u001b[39;00m\u001b[38;5;21;01mdataset\u001b[39;00m \u001b[38;5;28;01mimport\u001b[39;00m load_boston\n\u001b[0;32m      5\u001b[0m \u001b[38;5;66;03m# import libraries\u001b[39;00m\n\u001b[0;32m      7\u001b[0m \u001b[38;5;28;01mimport\u001b[39;00m \u001b[38;5;21;01mnumpy\u001b[39;00m \u001b[38;5;28;01mas\u001b[39;00m \u001b[38;5;21;01mnp\u001b[39;00m\n",
      "\u001b[1;31mModuleNotFoundError\u001b[0m: No module named 'sklearn.dataset'"
     ]
    }
   ],
   "source": [
    "# linear regression\n",
    "\n",
    "from sklearn.dataset import load_boston\n",
    "\n",
    "# import libraries\n",
    "\n",
    "import numpy as np\n",
    "import pandas as pd\n",
    "import seaborn as sns\n",
    "import matplotlib.pyplot as plt\n",
    "%matplotlib inline"
   ]
  },
  {
   "cell_type": "code",
   "execution_count": null,
   "id": "1f06fc95",
   "metadata": {},
   "outputs": [],
   "source": []
  },
  {
   "cell_type": "code",
   "execution_count": 23,
   "id": "e01b6d28",
   "metadata": {},
   "outputs": [
    {
     "name": "stdout",
     "output_type": "stream",
     "text": [
      "array('i', [1, 2, 8, 4, 9, 3, 7, 5])\n",
      "8\n",
      "2\n",
      "array('i', [1, 2])\n",
      "array('i', [8, 4])\n",
      "array('i', [9, 3, 7, 5])\n",
      "2\n",
      "1\n",
      "array('i', [1])\n",
      "array('i', [2])\n",
      "\n",
      "2\n",
      "1\n",
      "array('i', [1])\n",
      "array('i', [2])\n"
     ]
    }
   ],
   "source": [
    "import array\n",
    "from array import *\n",
    "arr = array('i',[1,2,8,4,9,3,7,5])\n",
    "print(arr)\n",
    "n = len(arr)\n",
    "print(n)\n",
    "mid = n//3\n",
    "print(mid)\n",
    "a = arr[:mid]\n",
    "print(a)\n",
    "b = arr[mid:mid*2]\n",
    "print(b)\n",
    "c = arr[mid*2:]\n",
    "print(c)\n",
    "\n",
    "# again divide\n",
    "m = len(a)\n",
    "print(m)\n",
    "mid2 = m//2\n",
    "print(mid2)\n",
    "d = arr[:mid2]\n",
    "print(d)\n",
    "e = arr[mid2:mid2*2]\n",
    "print(e)\n",
    "\n",
    "print()\n",
    "o = len(b)\n",
    "print(o)\n",
    "\n",
    "mid3 = o//2\n",
    "print(mid3)\n",
    "f = arr[:mid3]\n",
    "print(f)\n",
    "f = arr[mid3:mid3*2]\n",
    "print(f)"
   ]
  },
  {
   "cell_type": "code",
   "execution_count": null,
   "id": "209cdce3-089f-4eea-9c4a-3ce890a0bafe",
   "metadata": {},
   "outputs": [],
   "source": []
  },
  {
   "cell_type": "code",
   "execution_count": 65,
   "id": "07f9bab5-4d51-4549-9472-f8d79b18edba",
   "metadata": {},
   "outputs": [
    {
     "name": "stdout",
     "output_type": "stream",
     "text": [
      "n 4\n",
      "mid 2\n",
      "\n",
      "part1 array('i', [1, 4])\n",
      "\n",
      "part2 array('i', [3, 2])\n",
      "\n",
      "m 2\n",
      "mid2, 1\n",
      "\n",
      "part3 array('i', [1])\n",
      "\n",
      "part4 array('i', [4])\n",
      "\n",
      "len o, 2\n",
      "mid3 1\n",
      "\n",
      "part5 array('i', [1])\n"
     ]
    }
   ],
   "source": [
    "arr = array('i',[1,4,3,2])\n",
    "n = len(arr)\n",
    "print(\"n\",n)\n",
    "mid = n//2\n",
    "print(\"mid\",mid)\n",
    "print()\n",
    "part1 = arr[:mid]\n",
    "print(\"part1\",part1)\n",
    "print()\n",
    "part2 = arr[mid:mid*2]\n",
    "print(\"part2\",part2)\n",
    "print()\n",
    "m = len(part1)\n",
    "print(\"m\",m)\n",
    "mid2 = m//2\n",
    "print(\"mid2,\",mid2)\n",
    "print()\n",
    "part3 = arr[:mid2]\n",
    "print(\"part3\",part3)\n",
    "print()\n",
    "part4 = arr[mid2:mid2*2]\n",
    "print(\"part4\",part4)\n",
    "print()\n",
    "o = len(part2)\n",
    "print(\"len o,\",o)\n",
    "mid3 = o//2\n",
    "print(\"mid3\",mid3)\n",
    "print()\n",
    "part5 = arr[:mid3]\n",
    "print(\"part5\",part5)\n",
    "# part6 = arr[mid3:]\n",
    "# print(\"part6\",part6)\n"
   ]
  },
  {
   "cell_type": "code",
   "execution_count": 23,
   "id": "2793cd29-6a86-4ab5-af94-d04e6580c09b",
   "metadata": {},
   "outputs": [
    {
     "name": "stdout",
     "output_type": "stream",
     "text": [
      "1\n",
      "array('i', [1]) array('i', [2]) array('i', [4]) array('i', [3])\n"
     ]
    }
   ],
   "source": [
    "import array\n",
    "from array import *\n",
    "ar = array('i',[1,2,4,3])\n",
    "n = len(ar)\n",
    "mid = n//4\n",
    "print(mid)\n",
    "part1 = ar[:mid]\n",
    "part2 = ar[mid:mid*2]\n",
    "part3 = ar[mid*2:mid*3]\n",
    "part4 = ar[mid*3:]\n",
    "print(part1,part2,part3,part4)\n",
    "\n"
   ]
  },
  {
   "cell_type": "code",
   "execution_count": 85,
   "id": "e6a51796-0498-42ff-bcae-9ec1f21d57c2",
   "metadata": {},
   "outputs": [
    {
     "name": "stdout",
     "output_type": "stream",
     "text": [
      "1\n",
      "array('i', [1])\n"
     ]
    }
   ],
   "source": [
    "arr = array('i',[1,2,4,3])\n",
    "n = len(arr)\n",
    "mid = n//4\n",
    "print(mid)\n",
    "part1 = ar[:mid]\n",
    "\n",
    "print(part1)\n"
   ]
  },
  {
   "cell_type": "code",
   "execution_count": 18,
   "id": "04c5b511-fed6-437e-ad25-75388cab6d85",
   "metadata": {},
   "outputs": [
    {
     "name": "stdout",
     "output_type": "stream",
     "text": [
      "4 3 2 1\n"
     ]
    }
   ],
   "source": [
    "# Input numbers\n",
    "num1 = 1\n",
    "num2 = 2\n",
    "num3 = 4\n",
    "num4 = 3\n",
    "\n",
    "# Create a list of numbers\n",
    "numbers = [num1, num2, num3, num4]\n",
    "\n",
    "# Sort the list in ascending order\n",
    "sorted_numbers = sorted(numbers, reverse=True)\n",
    "\n",
    "# Print the sorted numbers\n",
    "print(*sorted_numbers)\n",
    "\n"
   ]
  },
  {
   "cell_type": "code",
   "execution_count": 30,
   "id": "fc493bc7-c182-44e1-b1bf-42e349af830e",
   "metadata": {},
   "outputs": [
    {
     "name": "stdout",
     "output_type": "stream",
     "text": [
      "1\n",
      "array('i', [1]) array('i', [2]) array('i', [4]) array('i', [3])\n"
     ]
    },
    {
     "ename": "TypeError",
     "evalue": "'module' object is not callable",
     "output_type": "error",
     "traceback": [
      "\u001b[1;31m---------------------------------------------------------------------------\u001b[0m",
      "\u001b[1;31mTypeError\u001b[0m                                 Traceback (most recent call last)",
      "Cell \u001b[1;32mIn[30], line 26\u001b[0m\n\u001b[0;32m     24\u001b[0m c \u001b[38;5;241m=\u001b[39m part3\n\u001b[0;32m     25\u001b[0m d \u001b[38;5;241m=\u001b[39m part4\n\u001b[1;32m---> 26\u001b[0m h \u001b[38;5;241m=\u001b[39m \u001b[43marray\u001b[49m\u001b[43m(\u001b[49m\u001b[38;5;124;43m'\u001b[39;49m\u001b[38;5;124;43mi\u001b[39;49m\u001b[38;5;124;43m'\u001b[39;49m\u001b[43m,\u001b[49m\u001b[43m[\u001b[49m\u001b[43mpart1\u001b[49m\u001b[43m,\u001b[49m\u001b[43mpart2\u001b[49m\u001b[43m,\u001b[49m\u001b[43mpart3\u001b[49m\u001b[43m,\u001b[49m\u001b[43mpart4\u001b[49m\u001b[43m]\u001b[49m\u001b[43m)\u001b[49m\n\u001b[0;32m     27\u001b[0m \u001b[38;5;28mprint\u001b[39m(a)\n",
      "\u001b[1;31mTypeError\u001b[0m: 'module' object is not callable"
     ]
    }
   ],
   "source": [
    "import array\n",
    "\n",
    "ar = array.array('i', [1, 2, 4, 3])\n",
    "n = len(ar)\n",
    "mid = n // 4\n",
    "print(mid)\n",
    "\n",
    "part1 = ar[:mid]\n",
    "part2 = ar[mid:mid * 2]\n",
    "part3 = ar[mid * 2:mid * 3]\n",
    "part4 = ar[mid * 3:]\n",
    "\n",
    "# Sort each part\n",
    "part1 = array.array('i', sorted(part1))\n",
    "part2 = array.array('i', sorted(part2))\n",
    "part3 = array.array('i', sorted(part3))\n",
    "part4 = array.array('i', sorted(part4))\n",
    "\n",
    "# Print the sorted parts\n",
    "print(part1, part2, part3, part4)\n",
    "\n",
    "a = part1\n",
    "b = part2\n",
    "c = part3\n",
    "d = part4\n",
    "h = array('i',[part1,part2,part3,part4])\n",
    "print(a)"
   ]
  },
  {
   "cell_type": "code",
   "execution_count": null,
   "id": "1c7925d2-26f0-4f9c-8de0-497077376b62",
   "metadata": {},
   "outputs": [],
   "source": []
  }
 ],
 "metadata": {
  "kernelspec": {
   "display_name": "Python 3 (ipykernel)",
   "language": "python",
   "name": "python3"
  },
  "language_info": {
   "codemirror_mode": {
    "name": "ipython",
    "version": 3
   },
   "file_extension": ".py",
   "mimetype": "text/x-python",
   "name": "python",
   "nbconvert_exporter": "python",
   "pygments_lexer": "ipython3",
   "version": "3.11.4"
  }
 },
 "nbformat": 4,
 "nbformat_minor": 5
}
