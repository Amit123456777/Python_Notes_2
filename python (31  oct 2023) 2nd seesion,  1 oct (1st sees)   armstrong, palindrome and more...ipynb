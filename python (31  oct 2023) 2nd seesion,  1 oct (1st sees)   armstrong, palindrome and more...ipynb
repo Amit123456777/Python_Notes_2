{
 "cells": [
  {
   "cell_type": "code",
   "execution_count": null,
   "id": "aa98cd3e",
   "metadata": {},
   "outputs": [],
   "source": [
    "# prime\n",
    "# factorial\n",
    "# armstrong\n",
    "# palindrome\n",
    "# fibonacci series."
   ]
  },
  {
   "cell_type": "code",
   "execution_count": null,
   "id": "b704ce8c",
   "metadata": {},
   "outputs": [],
   "source": [
    "# prime\n",
    "\n",
    "n = int(input(\"enter any numbers :\"))\n",
    "i = 1\n",
    "count = 0\n",
    "while(i<=n):  # if yes i small\n",
    "    if(n%i==0):  # then check it is divisible by 7 or not\n",
    "        count = count + 1  # count check - how many factors\n",
    "    i = i + 1\n",
    "        \n",
    "if count == 2:\n",
    "    print(\"number is prime\")\n",
    "else:\n",
    "    print(\"number is not prime\")"
   ]
  },
  {
   "cell_type": "code",
   "execution_count": 9,
   "id": "ca98c0cb",
   "metadata": {},
   "outputs": [
    {
     "name": "stdout",
     "output_type": "stream",
     "text": [
      "enter any value : 4\n",
      "the sum is : 24\n"
     ]
    }
   ],
   "source": [
    "# factorial function (product of first n natural no.)\n",
    "\n",
    "n = int(input(\"enter any value : \"))\n",
    "product = 1\n",
    "while (n>0):\n",
    "    product = product * n\n",
    "    n = n-1\n",
    "print(\"the sum is :\", product)"
   ]
  },
  {
   "cell_type": "code",
   "execution_count": 5,
   "id": "1a2c20cf",
   "metadata": {},
   "outputs": [
    {
     "name": "stdout",
     "output_type": "stream",
     "text": [
      "Enter Numbers153\n",
      "No. is Armstrong\n"
     ]
    }
   ],
   "source": [
    "i = int(input(\"Enter Numbers\"))\n",
    "n = i\n",
    "sum = 0\n",
    "while(i>0):\n",
    "    sum = sum+(i%10)*(i%10)*(i%10)\n",
    "    i = i//10\n",
    "if n == sum:\n",
    "    print(\"No. is Armstrong\")\n",
    "else:\n",
    "    print(\"no. is Not Armstorng\")"
   ]
  },
  {
   "cell_type": "code",
   "execution_count": null,
   "id": "c8901333",
   "metadata": {},
   "outputs": [],
   "source": []
  },
  {
   "cell_type": "code",
   "execution_count": 17,
   "id": "6721632f",
   "metadata": {},
   "outputs": [
    {
     "name": "stdout",
     "output_type": "stream",
     "text": [
      "Enter a number: 3456\n",
      "The reverse of the number is: 6543\n"
     ]
    }
   ],
   "source": [
    "# by himself\n",
    "\n",
    "\n",
    "num = int(input(\"Enter a number: \"))\n",
    "reverse_num = 0\n",
    "\n",
    "while num > 0:\n",
    "    digit = num % 10\n",
    "    reverse_num = reverse_num * 10 + digit\n",
    "    num = num // 10\n",
    "\n",
    "print(\"The reverse of the number is:\", reverse_num)"
   ]
  },
  {
   "cell_type": "code",
   "execution_count": null,
   "id": "0d789189",
   "metadata": {},
   "outputs": [],
   "source": []
  },
  {
   "cell_type": "code",
   "execution_count": 18,
   "id": "b54b1fec",
   "metadata": {},
   "outputs": [
    {
     "name": "stdout",
     "output_type": "stream",
     "text": [
      "enter number567\n",
      "reverse of a number is : 765\n"
     ]
    }
   ],
   "source": [
    "# by sir\n",
    "\n",
    "i=int(input(\"enter number\"))\n",
    "rev=0\n",
    "while(i>0):\n",
    "    rev=(rev*10)+i%10\n",
    "    i=i//10\n",
    "print(\"reverse of a number is :\" , rev)"
   ]
  },
  {
   "cell_type": "code",
   "execution_count": 15,
   "id": "0772c39c",
   "metadata": {},
   "outputs": [
    {
     "name": "stdout",
     "output_type": "stream",
     "text": [
      "enter number121\n",
      "121\n",
      "number is palindrome  \n"
     ]
    }
   ],
   "source": [
    "# palindrome\n",
    "# mix up of arms. + reverse\n",
    "\n",
    "i=int(input(\"enter number\"))\n",
    "rev=0\n",
    "x=i\n",
    "while(i>0):\n",
    "    rev=(rev*10)+i%10\n",
    "    i=i//10\n",
    "print(rev)\n",
    "if  x == rev:\n",
    "    print(\"number is palindrome  \")\n",
    "else:\n",
    "    print(\"number is NOT palindrome\")"
   ]
  },
  {
   "cell_type": "code",
   "execution_count": 4,
   "id": "1b24a724",
   "metadata": {},
   "outputs": [
    {
     "name": "stdout",
     "output_type": "stream",
     "text": [
      "Enter Number :123\n",
      "Reverse of a no. is :  321\n"
     ]
    }
   ],
   "source": [
    "# fibonacci series.\n",
    "\n",
    "#0 + 1 = 1\n",
    "#1 + 2 = 3\n",
    "#2 + 3 = 5\n",
    "#3 + 5 = 8\n",
    "\n"
   ]
  },
  {
   "cell_type": "code",
   "execution_count": null,
   "id": "3f4fbb9a",
   "metadata": {},
   "outputs": [],
   "source": []
  }
 ],
 "metadata": {
  "kernelspec": {
   "display_name": "Python 3 (ipykernel)",
   "language": "python",
   "name": "python3"
  },
  "language_info": {
   "codemirror_mode": {
    "name": "ipython",
    "version": 3
   },
   "file_extension": ".py",
   "mimetype": "text/x-python",
   "name": "python",
   "nbconvert_exporter": "python",
   "pygments_lexer": "ipython3",
   "version": "3.11.4"
  }
 },
 "nbformat": 4,
 "nbformat_minor": 5
}
