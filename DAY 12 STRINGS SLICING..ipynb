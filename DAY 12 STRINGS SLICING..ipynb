{
 "cells": [
  {
   "cell_type": "code",
   "execution_count": 1,
   "id": "8bbb3372",
   "metadata": {},
   "outputs": [
    {
     "name": "stdout",
     "output_type": "stream",
     "text": [
      "13\n"
     ]
    }
   ],
   "source": [
    "# 1: length\n",
    "\n",
    "names = \"Harry,Shubham\"\n",
    "print(len(names))"
   ]
  },
  {
   "cell_type": "code",
   "execution_count": 3,
   "id": "95a4793b",
   "metadata": {},
   "outputs": [
    {
     "name": "stdout",
     "output_type": "stream",
     "text": [
      "Mango is a 5 letter word.\n"
     ]
    }
   ],
   "source": [
    "fruit = \"Mango\"\n",
    "len1 = len(fruit)\n",
    "print(\"Mango is a\", len1, \"letter word.\")"
   ]
  },
  {
   "cell_type": "code",
   "execution_count": 37,
   "id": "b3f3d467",
   "metadata": {},
   "outputs": [
    {
     "name": "stdout",
     "output_type": "stream",
     "text": [
      "5\n",
      "Mang\n",
      "Mang\n",
      "ang\n",
      "Mango\n",
      "Mango\n",
      "Ma\n",
      "Ma\n"
     ]
    }
   ],
   "source": [
    "# 2: SLICING\n",
    "\n",
    "fruit = \"Mango\"\n",
    "mangolen = len(fruit)\n",
    "print(mangolen)\n",
    "print(fruit[0:4])   # including 0 but not 4\n",
    "print(fruit[:4])    # including 1 but not 4\n",
    "print(fruit[1:4])\n",
    "print(fruit[:])\n",
    "print(fruit[:5])\n",
    " \n",
    "\n"
   ]
  },
  {
   "cell_type": "code",
   "execution_count": 45,
   "id": "71850c52",
   "metadata": {},
   "outputs": [
    {
     "name": "stdout",
     "output_type": "stream",
     "text": [
      "\n",
      "\n"
     ]
    }
   ],
   "source": [
    "# 3: NEGATIVE SLICING\n",
    "\n",
    "print(fruit[0:-3])      # including 0 but not -3\n",
    "print(fruit[0:len(fruit)-3]) # also\n",
    "\n",
    "print(fruit[-1:len(fruit)-3])  # including -1 but not -3\n",
    "# no output in this case.\n",
    "# explantn: len(fruit)-1:len(fruit)-3 = 5-1:5-3 \n",
    "# = 4:2 it has not sense to go 4 to 2.\n",
    "\n",
    "print(fruit[-1:-3])\n",
    "\n",
    "print(fruit[-3:-1])  \n",
    "# 5-3:5-1 = 2:4\n",
    "# ulti counting bi kr skte hai. "
   ]
  },
  {
   "cell_type": "code",
   "execution_count": null,
   "id": "ec857ddd",
   "metadata": {},
   "outputs": [],
   "source": [
    "# for slicing sq bracket\n",
    "# for functions paranthesis\n",
    "# in case of -ve slicing. len(fruit)lga do (best). wrna ulti counting kr lo.\n",
    "# len(fruit) is default. hm ni bi lgayenge to python interpreter khud hi lga deta hai."
   ]
  },
  {
   "cell_type": "code",
   "execution_count": 51,
   "id": "f78c8549",
   "metadata": {},
   "outputs": [
    {
     "name": "stdout",
     "output_type": "stream",
     "text": [
      "ar\n"
     ]
    }
   ],
   "source": [
    "# 4: Quick Quiz\n",
    "nm = \"Harry\"\n",
    "print(nm[-4:-2])"
   ]
  },
  {
   "cell_type": "code",
   "execution_count": null,
   "id": "39e756c8",
   "metadata": {},
   "outputs": [],
   "source": [
    "#"
   ]
  }
 ],
 "metadata": {
  "kernelspec": {
   "display_name": "Python 3 (ipykernel)",
   "language": "python",
   "name": "python3"
  },
  "language_info": {
   "codemirror_mode": {
    "name": "ipython",
    "version": 3
   },
   "file_extension": ".py",
   "mimetype": "text/x-python",
   "name": "python",
   "nbconvert_exporter": "python",
   "pygments_lexer": "ipython3",
   "version": "3.11.4"
  }
 },
 "nbformat": 4,
 "nbformat_minor": 5
}
