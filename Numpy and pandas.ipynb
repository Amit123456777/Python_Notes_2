{
 "cells": [
  {
   "cell_type": "code",
   "execution_count": 1,
   "id": "e9122ba2-83a2-44c9-ad3e-dc3591cadd6c",
   "metadata": {},
   "outputs": [],
   "source": [
    "# Numpy array is a multi dimensional data structure that is the core of scientific\n",
    "# computing in python.\n",
    "# it is homogeneous.\n",
    "# automatic vectorization and broadcasting \n",
    "# provide efficient memory management. array has contigenous memory location.\n",
    "# flexible, can indexing and slicing values.\n",
    "\n",
    "# Dimensions in Array\n",
    "# 0d --> scalar\n",
    "# 1d --> vector\n",
    "# 2d --> matrix\n",
    "# 3d --> tensor"
   ]
  },
  {
   "cell_type": "code",
   "execution_count": 2,
   "id": "b46d5640-64db-4e3e-82c3-e973b237e2c9",
   "metadata": {},
   "outputs": [
    {
     "data": {
      "text/plain": [
       "array('i', [1, 2, 3, 4])"
      ]
     },
     "execution_count": 2,
     "metadata": {},
     "output_type": "execute_result"
    }
   ],
   "source": [
    "from array import *\n",
    "arr = array('i', [1,2,3,4])\n",
    "arr"
   ]
  },
  {
   "cell_type": "code",
   "execution_count": 3,
   "id": "cdad06f0-f766-422b-8eec-0493775d87f9",
   "metadata": {},
   "outputs": [
    {
     "data": {
      "text/plain": [
       "array.array"
      ]
     },
     "execution_count": 3,
     "metadata": {},
     "output_type": "execute_result"
    }
   ],
   "source": [
    "type(arr)"
   ]
  },
  {
   "cell_type": "markdown",
   "id": "e1cb1bfd-aea0-42f5-90de-43430f75193b",
   "metadata": {},
   "source": [
    "# numpy.arange() in Python"
   ]
  },
  {
   "cell_type": "code",
   "execution_count": 14,
   "id": "a980c3a8-0eee-41c4-a730-1afbad714de1",
   "metadata": {},
   "outputs": [
    {
     "name": "stdout",
     "output_type": "stream",
     "text": [
      "[ 1  2  3  4  5  6  7  8  9 10]\n"
     ]
    }
   ],
   "source": [
    "\n",
    "import numpy as np\n",
    "var = np.array([1,2,3,4,5,6,7,8,9,10])\n",
    "print(var)"
   ]
  },
  {
   "cell_type": "code",
   "execution_count": 15,
   "id": "172aa39c-acbf-42ff-ab0a-8079d08ff637",
   "metadata": {
    "scrolled": true
   },
   "outputs": [
    {
     "data": {
      "text/plain": [
       "array([0, 2, 4, 6, 8])"
      ]
     },
     "execution_count": 15,
     "metadata": {},
     "output_type": "execute_result"
    }
   ],
   "source": [
    "var1 = np.arange(0,9,2) # start stop step\n",
    "var1"
   ]
  },
  {
   "cell_type": "code",
   "execution_count": 18,
   "id": "506b4698-5dc5-4db7-a398-75a4a893cef1",
   "metadata": {},
   "outputs": [
    {
     "data": {
      "text/plain": [
       "3"
      ]
     },
     "execution_count": 18,
     "metadata": {},
     "output_type": "execute_result"
    }
   ],
   "source": [
    "# indexing\n",
    "var[2]"
   ]
  },
  {
   "cell_type": "code",
   "execution_count": 19,
   "id": "be6811aa-d2d8-4bce-8d9e-d9c9ddb71d7d",
   "metadata": {},
   "outputs": [
    {
     "data": {
      "text/plain": [
       "array([3, 4, 5])"
      ]
     },
     "execution_count": 19,
     "metadata": {},
     "output_type": "execute_result"
    }
   ],
   "source": [
    "# slicing\n",
    "var[2:5] # 5 is not include."
   ]
  },
  {
   "cell_type": "code",
   "execution_count": 67,
   "id": "a9d0ac99-8453-4567-9410-0e454fec201a",
   "metadata": {
    "scrolled": true
   },
   "outputs": [
    {
     "data": {
      "text/plain": [
       "array([[ 1,  2,  3,  4],\n",
       "       [ 7, 54, 24, 24]])"
      ]
     },
     "execution_count": 67,
     "metadata": {},
     "output_type": "execute_result"
    }
   ],
   "source": [
    "# indexing in 2d array \n",
    "# import numpy as np\n",
    "var5 = np.array([[1,2,3,4],[7,54,24,24]])\n",
    "var5"
   ]
  },
  {
   "cell_type": "code",
   "execution_count": 70,
   "id": "80e6410a-beb1-4ebd-8cd9-ea29adcd0c67",
   "metadata": {},
   "outputs": [
    {
     "data": {
      "text/plain": [
       "2"
      ]
     },
     "execution_count": 70,
     "metadata": {},
     "output_type": "execute_result"
    }
   ],
   "source": [
    "var5[0,1]"
   ]
  },
  {
   "cell_type": "code",
   "execution_count": 69,
   "id": "7795e0b6-748b-427d-b3f1-6e68f88ab4dc",
   "metadata": {},
   "outputs": [
    {
     "data": {
      "text/plain": [
       "54"
      ]
     },
     "execution_count": 69,
     "metadata": {},
     "output_type": "execute_result"
    }
   ],
   "source": [
    "var5[1,1]"
   ]
  },
  {
   "cell_type": "code",
   "execution_count": 71,
   "id": "dccb6f16-e58c-48dd-a702-fea972d866d3",
   "metadata": {},
   "outputs": [
    {
     "data": {
      "text/plain": [
       "array([1, 2, 3, 4])"
      ]
     },
     "execution_count": 71,
     "metadata": {},
     "output_type": "execute_result"
    }
   ],
   "source": [
    "# slicing\n",
    "var5[0,::]"
   ]
  },
  {
   "cell_type": "code",
   "execution_count": 40,
   "id": "de0856a1-1bc6-4c16-aec0-7b1fabd45b58",
   "metadata": {},
   "outputs": [
    {
     "name": "stdout",
     "output_type": "stream",
     "text": [
      "2354476290800\n",
      "2354475492976\n"
     ]
    }
   ],
   "source": [
    "# view\n",
    "arr = np.array([2,4,6,8,10])\n",
    "v = arr.view()\n",
    "print(id(arr))\n",
    "print(id(v))\n",
    "arr[0] = 12"
   ]
  },
  {
   "cell_type": "code",
   "execution_count": 41,
   "id": "1370cfd5-ee94-4574-a070-c7bc6215f190",
   "metadata": {},
   "outputs": [
    {
     "name": "stdout",
     "output_type": "stream",
     "text": [
      "[12  4  6  8 10]\n",
      "[12  4  6  8 10]\n"
     ]
    }
   ],
   "source": [
    "print(arr)\n",
    "print(v)"
   ]
  },
  {
   "cell_type": "code",
   "execution_count": 42,
   "id": "beaecfb8-c595-443c-81b0-2e2cfd8f8490",
   "metadata": {},
   "outputs": [
    {
     "name": "stdout",
     "output_type": "stream",
     "text": [
      "2354475200944\n",
      "2354475493168\n"
     ]
    }
   ],
   "source": [
    "# copy of array in numpy\n",
    "arr1 = np.array([2,4,6,8,10])\n",
    "c = arr.copy()\n",
    "print(id(arr1))\n",
    "print(id(c))"
   ]
  },
  {
   "cell_type": "code",
   "execution_count": 38,
   "id": "caad8dcb-42c5-4360-b37c-c53a1c13cd48",
   "metadata": {},
   "outputs": [],
   "source": [
    "arr1[0] = 12"
   ]
  },
  {
   "cell_type": "code",
   "execution_count": 39,
   "id": "16709373-d76a-4511-bc88-db51ee6f6c66",
   "metadata": {},
   "outputs": [
    {
     "name": "stdout",
     "output_type": "stream",
     "text": [
      "[12  4  6  8 10]\n",
      "[12  4  6  8 10]\n"
     ]
    }
   ],
   "source": [
    "print(arr1)\n",
    "print(c)"
   ]
  },
  {
   "cell_type": "code",
   "execution_count": null,
   "id": "4aa24c19-19b3-4651-b613-560e24ae54e3",
   "metadata": {},
   "outputs": [],
   "source": []
  },
  {
   "cell_type": "code",
   "execution_count": 43,
   "id": "e0e76964-34e2-4124-a7a1-edaf0e806e80",
   "metadata": {},
   "outputs": [],
   "source": [
    "# combine array in numpy"
   ]
  },
  {
   "cell_type": "code",
   "execution_count": 57,
   "id": "1f9813e4-20d7-4395-a4e3-9a4856803c99",
   "metadata": {},
   "outputs": [
    {
     "name": "stdout",
     "output_type": "stream",
     "text": [
      "[1 2 3 4 5 6 7 8]\n"
     ]
    }
   ],
   "source": [
    "# concatenate\n",
    "import numpy as np\n",
    "arr1 = np.array([1,2,3,4])\n",
    "arr2 = np.array([5,6,7,8])\n",
    "con = np.concatenate((arr1, arr2), axis = 0)\n",
    "print(con)"
   ]
  },
  {
   "cell_type": "code",
   "execution_count": 59,
   "id": "0d634ea0-59b9-40db-ae6a-38d69e639849",
   "metadata": {},
   "outputs": [
    {
     "name": "stdout",
     "output_type": "stream",
     "text": [
      "[[1 2 3 4]\n",
      " [5 6 7 8]]\n"
     ]
    }
   ],
   "source": [
    "stk = np.stack((arr1, arr2))\n",
    "print(stk)"
   ]
  },
  {
   "cell_type": "code",
   "execution_count": 60,
   "id": "1858d34d-6779-4739-a2c0-64ed1aa57d06",
   "metadata": {},
   "outputs": [
    {
     "ename": "TypeError",
     "evalue": "arrays is a tuple. Only lists can be used to arrange blocks, and np.block does not allow implicit conversion from tuple to ndarray.",
     "output_type": "error",
     "traceback": [
      "\u001b[1;31m---------------------------------------------------------------------------\u001b[0m",
      "\u001b[1;31mTypeError\u001b[0m                                 Traceback (most recent call last)",
      "Cell \u001b[1;32mIn[60], line 1\u001b[0m\n\u001b[1;32m----> 1\u001b[0m stk \u001b[38;5;241m=\u001b[39m \u001b[43mnp\u001b[49m\u001b[38;5;241;43m.\u001b[39;49m\u001b[43mblock\u001b[49m\u001b[43m(\u001b[49m\u001b[43m(\u001b[49m\u001b[43marr1\u001b[49m\u001b[43m,\u001b[49m\u001b[43m \u001b[49m\u001b[43marr2\u001b[49m\u001b[43m)\u001b[49m\u001b[43m)\u001b[49m\n\u001b[0;32m      2\u001b[0m \u001b[38;5;28mprint\u001b[39m(stk)\n",
      "File \u001b[1;32m~\\AppData\\Roaming\\Python\\Python311\\site-packages\\numpy\\core\\shape_base.py:853\u001b[0m, in \u001b[0;36mblock\u001b[1;34m(arrays)\u001b[0m\n\u001b[0;32m    703\u001b[0m \u001b[38;5;129m@array_function_dispatch\u001b[39m(_block_dispatcher)\n\u001b[0;32m    704\u001b[0m \u001b[38;5;28;01mdef\u001b[39;00m \u001b[38;5;21mblock\u001b[39m(arrays):\n\u001b[0;32m    705\u001b[0m \u001b[38;5;250m    \u001b[39m\u001b[38;5;124;03m\"\"\"\u001b[39;00m\n\u001b[0;32m    706\u001b[0m \u001b[38;5;124;03m    Assemble an nd-array from nested lists of blocks.\u001b[39;00m\n\u001b[0;32m    707\u001b[0m \n\u001b[1;32m   (...)\u001b[0m\n\u001b[0;32m    851\u001b[0m \n\u001b[0;32m    852\u001b[0m \u001b[38;5;124;03m    \"\"\"\u001b[39;00m\n\u001b[1;32m--> 853\u001b[0m     arrays, list_ndim, result_ndim, final_size \u001b[38;5;241m=\u001b[39m \u001b[43m_block_setup\u001b[49m\u001b[43m(\u001b[49m\u001b[43marrays\u001b[49m\u001b[43m)\u001b[49m\n\u001b[0;32m    855\u001b[0m     \u001b[38;5;66;03m# It was found through benchmarking that making an array of final size\u001b[39;00m\n\u001b[0;32m    856\u001b[0m     \u001b[38;5;66;03m# around 256x256 was faster by straight concatenation on a\u001b[39;00m\n\u001b[0;32m    857\u001b[0m     \u001b[38;5;66;03m# i7-7700HQ processor and dual channel ram 2400MHz.\u001b[39;00m\n\u001b[1;32m   (...)\u001b[0m\n\u001b[0;32m    867\u001b[0m     \u001b[38;5;66;03m# algorithm is implemented which would likely be faster than the python\u001b[39;00m\n\u001b[0;32m    868\u001b[0m     \u001b[38;5;66;03m# version.\u001b[39;00m\n\u001b[0;32m    869\u001b[0m     \u001b[38;5;28;01mif\u001b[39;00m list_ndim \u001b[38;5;241m*\u001b[39m final_size \u001b[38;5;241m>\u001b[39m (\u001b[38;5;241m2\u001b[39m \u001b[38;5;241m*\u001b[39m \u001b[38;5;241m512\u001b[39m \u001b[38;5;241m*\u001b[39m \u001b[38;5;241m512\u001b[39m):\n",
      "File \u001b[1;32m~\\AppData\\Roaming\\Python\\Python311\\site-packages\\numpy\\core\\shape_base.py:884\u001b[0m, in \u001b[0;36m_block_setup\u001b[1;34m(arrays)\u001b[0m\n\u001b[0;32m    879\u001b[0m \u001b[38;5;28;01mdef\u001b[39;00m \u001b[38;5;21m_block_setup\u001b[39m(arrays):\n\u001b[0;32m    880\u001b[0m \u001b[38;5;250m    \u001b[39m\u001b[38;5;124;03m\"\"\"\u001b[39;00m\n\u001b[0;32m    881\u001b[0m \u001b[38;5;124;03m    Returns\u001b[39;00m\n\u001b[0;32m    882\u001b[0m \u001b[38;5;124;03m    (`arrays`, list_ndim, result_ndim, final_size)\u001b[39;00m\n\u001b[0;32m    883\u001b[0m \u001b[38;5;124;03m    \"\"\"\u001b[39;00m\n\u001b[1;32m--> 884\u001b[0m     bottom_index, arr_ndim, final_size \u001b[38;5;241m=\u001b[39m \u001b[43m_block_check_depths_match\u001b[49m\u001b[43m(\u001b[49m\u001b[43marrays\u001b[49m\u001b[43m)\u001b[49m\n\u001b[0;32m    885\u001b[0m     list_ndim \u001b[38;5;241m=\u001b[39m \u001b[38;5;28mlen\u001b[39m(bottom_index)\n\u001b[0;32m    886\u001b[0m     \u001b[38;5;28;01mif\u001b[39;00m bottom_index \u001b[38;5;129;01mand\u001b[39;00m bottom_index[\u001b[38;5;241m-\u001b[39m\u001b[38;5;241m1\u001b[39m] \u001b[38;5;129;01mis\u001b[39;00m \u001b[38;5;28;01mNone\u001b[39;00m:\n",
      "File \u001b[1;32m~\\AppData\\Roaming\\Python\\Python311\\site-packages\\numpy\\core\\shape_base.py:514\u001b[0m, in \u001b[0;36m_block_check_depths_match\u001b[1;34m(arrays, parent_index)\u001b[0m\n\u001b[0;32m    478\u001b[0m \u001b[38;5;250m\u001b[39m\u001b[38;5;124;03m\"\"\"\u001b[39;00m\n\u001b[0;32m    479\u001b[0m \u001b[38;5;124;03mRecursive function checking that the depths of nested lists in `arrays`\u001b[39;00m\n\u001b[0;32m    480\u001b[0m \u001b[38;5;124;03mall match. Mismatch raises a ValueError as described in the block\u001b[39;00m\n\u001b[1;32m   (...)\u001b[0m\n\u001b[0;32m    506\u001b[0m \n\u001b[0;32m    507\u001b[0m \u001b[38;5;124;03m\"\"\"\u001b[39;00m\n\u001b[0;32m    508\u001b[0m \u001b[38;5;28;01mif\u001b[39;00m \u001b[38;5;28mtype\u001b[39m(arrays) \u001b[38;5;129;01mis\u001b[39;00m \u001b[38;5;28mtuple\u001b[39m:\n\u001b[0;32m    509\u001b[0m     \u001b[38;5;66;03m# not strictly necessary, but saves us from:\u001b[39;00m\n\u001b[0;32m    510\u001b[0m     \u001b[38;5;66;03m#  - more than one way to do things - no point treating tuples like\u001b[39;00m\n\u001b[0;32m    511\u001b[0m     \u001b[38;5;66;03m#    lists\u001b[39;00m\n\u001b[0;32m    512\u001b[0m     \u001b[38;5;66;03m#  - horribly confusing behaviour that results when tuples are\u001b[39;00m\n\u001b[0;32m    513\u001b[0m     \u001b[38;5;66;03m#    treated like ndarray\u001b[39;00m\n\u001b[1;32m--> 514\u001b[0m     \u001b[38;5;28;01mraise\u001b[39;00m \u001b[38;5;167;01mTypeError\u001b[39;00m(\n\u001b[0;32m    515\u001b[0m         \u001b[38;5;124m'\u001b[39m\u001b[38;5;132;01m{}\u001b[39;00m\u001b[38;5;124m is a tuple. \u001b[39m\u001b[38;5;124m'\u001b[39m\n\u001b[0;32m    516\u001b[0m         \u001b[38;5;124m'\u001b[39m\u001b[38;5;124mOnly lists can be used to arrange blocks, and np.block does \u001b[39m\u001b[38;5;124m'\u001b[39m\n\u001b[0;32m    517\u001b[0m         \u001b[38;5;124m'\u001b[39m\u001b[38;5;124mnot allow implicit conversion from tuple to ndarray.\u001b[39m\u001b[38;5;124m'\u001b[39m\u001b[38;5;241m.\u001b[39mformat(\n\u001b[0;32m    518\u001b[0m             _block_format_index(parent_index)\n\u001b[0;32m    519\u001b[0m         )\n\u001b[0;32m    520\u001b[0m     )\n\u001b[0;32m    521\u001b[0m \u001b[38;5;28;01melif\u001b[39;00m \u001b[38;5;28mtype\u001b[39m(arrays) \u001b[38;5;129;01mis\u001b[39;00m \u001b[38;5;28mlist\u001b[39m \u001b[38;5;129;01mand\u001b[39;00m \u001b[38;5;28mlen\u001b[39m(arrays) \u001b[38;5;241m>\u001b[39m \u001b[38;5;241m0\u001b[39m:\n\u001b[0;32m    522\u001b[0m     idxs_ndims \u001b[38;5;241m=\u001b[39m (_block_check_depths_match(arr, parent_index \u001b[38;5;241m+\u001b[39m [i])\n\u001b[0;32m    523\u001b[0m                   \u001b[38;5;28;01mfor\u001b[39;00m i, arr \u001b[38;5;129;01min\u001b[39;00m \u001b[38;5;28menumerate\u001b[39m(arrays))\n",
      "\u001b[1;31mTypeError\u001b[0m: arrays is a tuple. Only lists can be used to arrange blocks, and np.block does not allow implicit conversion from tuple to ndarray."
     ]
    }
   ],
   "source": [
    "stk = np.block((arr1, arr2))\n",
    "print(stk)"
   ]
  },
  {
   "cell_type": "markdown",
   "id": "3ea2e494-086c-4411-a1a5-58654bb5c9f4",
   "metadata": {},
   "source": [
    "# full form of numpy"
   ]
  },
  {
   "cell_type": "code",
   "execution_count": null,
   "id": "048bc7b3-0b1c-4e7d-9130-ded7839e0a27",
   "metadata": {},
   "outputs": [],
   "source": [
    "# NUMERICAL PYTHON.\n",
    "\n",
    "# IPNYB FULL FORM. ==> INTERACTIVE PYTHON"
   ]
  }
 ],
 "metadata": {
  "kernelspec": {
   "display_name": "Python 3 (ipykernel)",
   "language": "python",
   "name": "python3"
  },
  "language_info": {
   "codemirror_mode": {
    "name": "ipython",
    "version": 3
   },
   "file_extension": ".py",
   "mimetype": "text/x-python",
   "name": "python",
   "nbconvert_exporter": "python",
   "pygments_lexer": "ipython3",
   "version": "3.11.4"
  }
 },
 "nbformat": 4,
 "nbformat_minor": 5
}
