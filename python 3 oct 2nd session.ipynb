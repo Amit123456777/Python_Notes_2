{
 "cells": [
  {
   "cell_type": "code",
   "execution_count": 5,
   "id": "fa7fe1e1",
   "metadata": {},
   "outputs": [
    {
     "name": "stdout",
     "output_type": "stream",
     "text": [
      "enter 1st no. :2\n",
      "enter 2nd no. :3\n",
      "The sum is : 5\n"
     ]
    }
   ],
   "source": [
    "# addition of two number :\n",
    "first = int(input(\"enter 1st no. :\"))\n",
    "second = int(input(\"enter 2nd no. :\"))\n",
    "sum = first + second\n",
    "print(\"The sum is :\" ,sum)\n"
   ]
  },
  {
   "cell_type": "code",
   "execution_count": 4,
   "id": "e6b43fa7",
   "metadata": {},
   "outputs": [
    {
     "name": "stdout",
     "output_type": "stream",
     "text": [
      "5\n"
     ]
    }
   ],
   "source": [
    "a = 2\n",
    "b = 3\n",
    "print(a+b)"
   ]
  },
  {
   "cell_type": "code",
   "execution_count": 6,
   "id": "a093b5ca",
   "metadata": {},
   "outputs": [
    {
     "name": "stdout",
     "output_type": "stream",
     "text": [
      "sum of two numbers is :  5\n"
     ]
    }
   ],
   "source": [
    "num1 = 2\n",
    "num2 = 3\n",
    "sum = num1 + num2\n",
    "print(\"sum of two numbers is : \", sum)"
   ]
  },
  {
   "cell_type": "code",
   "execution_count": 8,
   "id": "5eca9661",
   "metadata": {},
   "outputs": [
    {
     "name": "stdout",
     "output_type": "stream",
     "text": [
      "multipication of two numbers is :  6\n"
     ]
    }
   ],
   "source": [
    "num1 = 2\n",
    "num2 = 3\n",
    "multiplication = num1 * num2\n",
    "print(\"multipication of two numbers is : \", multiplication)"
   ]
  },
  {
   "cell_type": "code",
   "execution_count": 11,
   "id": "1aeff9d8",
   "metadata": {},
   "outputs": [
    {
     "name": "stdout",
     "output_type": "stream",
     "text": [
      "division of two numbers is :  2.0\n"
     ]
    }
   ],
   "source": [
    "num1 = 6\n",
    "num2 = 3\n",
    "division = num1 / num2\n",
    "print(\"division of two numbers is : \", division)"
   ]
  },
  {
   "cell_type": "code",
   "execution_count": 12,
   "id": "396c47ce",
   "metadata": {},
   "outputs": [
    {
     "name": "stdout",
     "output_type": "stream",
     "text": [
      "sub of two numbers is :  -1\n"
     ]
    }
   ],
   "source": [
    "num1 = 2\n",
    "num2 = 3\n",
    "sub = num1 - num2\n",
    "print(\"sub of two numbers is : \", sub)"
   ]
  },
  {
   "cell_type": "code",
   "execution_count": 14,
   "id": "2cf59609",
   "metadata": {},
   "outputs": [
    {
     "name": "stdout",
     "output_type": "stream",
     "text": [
      "modulus of two numbers is :  1\n"
     ]
    }
   ],
   "source": [
    "num1 = 10\n",
    "num2 = 3\n",
    "modulus = num1 % num2\n",
    "print(\"modulus of two numbers is : \", modulus)"
   ]
  },
  {
   "cell_type": "code",
   "execution_count": 16,
   "id": "585161c8",
   "metadata": {},
   "outputs": [
    {
     "name": "stdout",
     "output_type": "stream",
     "text": [
      "floor of two numbers is : 7\n"
     ]
    }
   ],
   "source": [
    "num1 = 23\n",
    "num2 = 3\n",
    "floor = num1 // num2\n",
    "print(\"floor of two numbers is :\" , floor)\n"
   ]
  },
  {
   "cell_type": "code",
   "execution_count": 17,
   "id": "8740cf76",
   "metadata": {},
   "outputs": [],
   "source": [
    "# modulus - for remainder\n",
    "# floor operator - for no decimal"
   ]
  },
  {
   "cell_type": "code",
   "execution_count": 18,
   "id": "6ded0bd5",
   "metadata": {},
   "outputs": [],
   "source": [
    "#see notebook"
   ]
  },
  {
   "cell_type": "code",
   "execution_count": 21,
   "id": "7b5fc2a5",
   "metadata": {},
   "outputs": [
    {
     "name": "stdout",
     "output_type": "stream",
     "text": [
      "b is greater than a !\n"
     ]
    }
   ],
   "source": [
    "# que 1\n",
    "a = 2\n",
    "b= 3\n",
    "if a > b:\n",
    "    print(\"a is greater than b !\")\n",
    "else:\n",
    "    print(\"b is greater than a !\")"
   ]
  },
  {
   "cell_type": "code",
   "execution_count": 22,
   "id": "2ffd17b7",
   "metadata": {},
   "outputs": [],
   "source": [
    "# ques 2 elif a==b"
   ]
  },
  {
   "cell_type": "code",
   "execution_count": 24,
   "id": "00032797",
   "metadata": {},
   "outputs": [
    {
     "name": "stdout",
     "output_type": "stream",
     "text": [
      "a is equal to b !\n"
     ]
    }
   ],
   "source": [
    "a = 10\n",
    "b = 10\n",
    "if a>b:\n",
    "    print(\"a is greater than b !\")\n",
    "elif a==b:\n",
    "    print(\"a is equal to b !\")\n",
    "else:\n",
    "    print(\"b is greater than a ! \")"
   ]
  },
  {
   "cell_type": "code",
   "execution_count": 25,
   "id": "2a75542c",
   "metadata": {},
   "outputs": [],
   "source": [
    "# ques 3 "
   ]
  },
  {
   "cell_type": "code",
   "execution_count": 27,
   "id": "aaa18856",
   "metadata": {},
   "outputs": [
    {
     "name": "stdout",
     "output_type": "stream",
     "text": [
      "b is greater than a\n"
     ]
    }
   ],
   "source": [
    "a = 10\n",
    "b = 5\n",
    "if a<b:\n",
    "    print(\"a is greater than b :\")\n",
    "elif a == b:\n",
    "    print(\"a is equal to b \")\n",
    "else:\n",
    "    print(\"b is greater than a\")"
   ]
  },
  {
   "cell_type": "code",
   "execution_count": 28,
   "id": "c2f5817c",
   "metadata": {},
   "outputs": [],
   "source": [
    "\n",
    "# quest write a program to check weather the  given no. is even or odd:"
   ]
  },
  {
   "cell_type": "code",
   "execution_count": 37,
   "id": "0d5a0bb5",
   "metadata": {},
   "outputs": [
    {
     "name": "stdout",
     "output_type": "stream",
     "text": [
      "a is odd\n"
     ]
    }
   ],
   "source": [
    "a = 3\n",
    "if (a%2)==0:\n",
    "    print(\"a is even\")\n",
    "else:\n",
    "    print(\"a is odd\")\n"
   ]
  },
  {
   "cell_type": "code",
   "execution_count": 38,
   "id": "5e0f3a64",
   "metadata": {},
   "outputs": [
    {
     "name": "stdout",
     "output_type": "stream",
     "text": [
      "a is even\n"
     ]
    }
   ],
   "source": [
    "a = 36\n",
    "if (a%2)==0:\n",
    "    print(\"a is even\")\n",
    "else:\n",
    "    print(\"a is odd \")"
   ]
  },
  {
   "cell_type": "code",
   "execution_count": null,
   "id": "456bb56d",
   "metadata": {},
   "outputs": [],
   "source": []
  }
 ],
 "metadata": {
  "kernelspec": {
   "display_name": "Python 3 (ipykernel)",
   "language": "python",
   "name": "python3"
  },
  "language_info": {
   "codemirror_mode": {
    "name": "ipython",
    "version": 3
   },
   "file_extension": ".py",
   "mimetype": "text/x-python",
   "name": "python",
   "nbconvert_exporter": "python",
   "pygments_lexer": "ipython3",
   "version": "3.11.4"
  }
 },
 "nbformat": 4,
 "nbformat_minor": 5
}
