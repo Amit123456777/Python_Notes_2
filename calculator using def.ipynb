{
 "cells": [
  {
   "cell_type": "code",
   "execution_count": 1,
   "id": "8c7fd37a",
   "metadata": {},
   "outputs": [
    {
     "name": "stdin",
     "output_type": "stream",
     "text": [
      "enter the 1st number :  2\n",
      "enter the 2nd number :  3\n",
      "enter the operator  :  +\n"
     ]
    },
    {
     "name": "stdout",
     "output_type": "stream",
     "text": [
      "5\n"
     ]
    }
   ],
   "source": [
    "# calculator with def\n",
    "first = int(input(\"enter the 1st number : \"))\n",
    "second = int(input(\"enter the 2nd number : \"))\n",
    "operator = (input(\"enter the operator  : \"))\n",
    "def calculator(first,second):\n",
    "    if operator ==  '+':\n",
    "        print(first + second)\n",
    "    elif operator ==  '-':\n",
    "        print(first - second)\n",
    "    elif operator ==  '*':\n",
    "        print(first * second)\n",
    "    elif operator ==  '/':\n",
    "        print(first / second)\n",
    "    else:\n",
    "        print(\"INVALID OPERATORS\")\n",
    "        \n",
    "calculator(first,second)"
   ]
  },
  {
   "cell_type": "code",
   "execution_count": 1,
   "id": "6b3c1fc2-bf3c-4d89-9456-108de71192f7",
   "metadata": {},
   "outputs": [
    {
     "name": "stdin",
     "output_type": "stream",
     "text": [
      "enter the 1st number :  1\n",
      "enter the 2nd number :  2\n",
      "enter the operator  :  +\n"
     ]
    },
    {
     "name": "stdout",
     "output_type": "stream",
     "text": [
      "3\n"
     ]
    }
   ],
   "source": [
    "# calculator with def\n",
    "first = int(input(\"enter the 1st number : \"))\n",
    "second = int(input(\"enter the 2nd number : \"))\n",
    "operator = (input(\"enter the operator  : \"))\n",
    "if operator ==  '+':\n",
    "    print(first + second)\n",
    "elif operator ==  '-':\n",
    "        print(first - second)\n",
    "elif operator ==  '*':\n",
    "    print(first * second)\n",
    "elif operator ==  '/':\n",
    "    print(first / second)\n",
    "else:\n",
    "    print(\"INVALID OPERATORS\")\n",
    "        \n"
   ]
  },
  {
   "cell_type": "code",
   "execution_count": null,
   "id": "1a6deb0d-5b32-4a6e-8c82-786098fb63b8",
   "metadata": {},
   "outputs": [],
   "source": []
  }
 ],
 "metadata": {
  "kernelspec": {
   "display_name": "Python 3 (ipykernel)",
   "language": "python",
   "name": "python3"
  },
  "language_info": {
   "codemirror_mode": {
    "name": "ipython",
    "version": 3
   },
   "file_extension": ".py",
   "mimetype": "text/x-python",
   "name": "python",
   "nbconvert_exporter": "python",
   "pygments_lexer": "ipython3",
   "version": "3.11.4"
  }
 },
 "nbformat": 4,
 "nbformat_minor": 5
}
