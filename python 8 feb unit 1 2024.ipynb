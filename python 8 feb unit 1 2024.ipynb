{
 "cells": [
  {
   "cell_type": "code",
   "execution_count": null,
   "id": "586f95e6-8729-4452-8acf-1fb19e91fcbc",
   "metadata": {},
   "outputs": [],
   "source": []
  },
  {
   "cell_type": "code",
   "execution_count": null,
   "id": "6e00bc28-0eec-4757-9cca-6dbb08e6b468",
   "metadata": {},
   "outputs": [],
   "source": []
  },
  {
   "cell_type": "code",
   "execution_count": null,
   "id": "c35f0853-469e-462c-81e4-39a54a69662e",
   "metadata": {},
   "outputs": [],
   "source": []
  },
  {
   "cell_type": "code",
   "execution_count": null,
   "id": "f35f68e7-9918-4a36-84e2-bf231f1d8399",
   "metadata": {},
   "outputs": [],
   "source": []
  },
  {
   "cell_type": "code",
   "execution_count": null,
   "id": "b4bbff4c-3e98-4160-8267-4d46f3fd53a0",
   "metadata": {},
   "outputs": [],
   "source": []
  },
  {
   "cell_type": "code",
   "execution_count": null,
   "id": "0ba021df-9568-449d-87cd-eae07d02b46c",
   "metadata": {},
   "outputs": [],
   "source": [
    "# assigning variable\n",
    "\n",
    "var = \"PythonforDatascience\"\n",
    "print(var)"
   ]
  },
  {
   "cell_type": "code",
   "execution_count": 2,
   "id": "d0d24936-1d14-41f6-ad6e-4d3f54e67eeb",
   "metadata": {},
   "outputs": [
    {
     "name": "stdout",
     "output_type": "stream",
     "text": [
      "amit\n"
     ]
    }
   ],
   "source": [
    "name = \"amit\"\n",
    "print(name)"
   ]
  },
  {
   "cell_type": "code",
   "execution_count": 3,
   "id": "dcc2a80f-ae88-49c8-aa25-8b98dda73a70",
   "metadata": {},
   "outputs": [
    {
     "name": "stdout",
     "output_type": "stream",
     "text": [
      "abc\n"
     ]
    }
   ],
   "source": [
    "__name = \"abc\"\n",
    "print(__name)"
   ]
  },
  {
   "cell_type": "code",
   "execution_count": 4,
   "id": "42eaf0e1-341c-4d31-a692-eb06d67ee13f",
   "metadata": {},
   "outputs": [
    {
     "ename": "SyntaxError",
     "evalue": "invalid syntax (3046818841.py, line 1)",
     "output_type": "error",
     "traceback": [
      "\u001b[1;36m  Cell \u001b[1;32mIn[4], line 1\u001b[1;36m\u001b[0m\n\u001b[1;33m    for = \"avx\"\u001b[0m\n\u001b[1;37m        ^\u001b[0m\n\u001b[1;31mSyntaxError\u001b[0m\u001b[1;31m:\u001b[0m invalid syntax\n"
     ]
    }
   ],
   "source": [
    "# keyword can't be used for defining variable\n",
    "\n",
    "for = \"avx\"\n",
    "print(for)"
   ]
  },
  {
   "cell_type": "code",
   "execution_count": 5,
   "id": "a69112a9-bf92-4e22-be21-23d923987a03",
   "metadata": {},
   "outputs": [],
   "source": [
    "# keyword = is predefined function, that python understand, not need to install"
   ]
  },
  {
   "cell_type": "code",
   "execution_count": 7,
   "id": "7be45e15-1f9d-4662-896a-9e7db5f0a2d0",
   "metadata": {},
   "outputs": [
    {
     "name": "stdout",
     "output_type": "stream",
     "text": [
      "1 2 PythonforDatascience\n"
     ]
    }
   ],
   "source": [
    "a,b,c = 1,2,\"PythonforDatascience\"\n",
    "print(a,b,c)"
   ]
  },
  {
   "cell_type": "code",
   "execution_count": 8,
   "id": "8041c8bf-7041-4534-b23d-364b5d547fb4",
   "metadata": {},
   "outputs": [],
   "source": [
    "# local or global variables\n",
    "\n",
    "# scope of variables = kitne access tk wo run ho skta hai\n"
   ]
  },
  {
   "cell_type": "code",
   "execution_count": 10,
   "id": "ba6e8f61-794e-4726-bdb5-e54f3881401d",
   "metadata": {},
   "outputs": [],
   "source": [
    "# local variable = \n",
    "# global variable= "
   ]
  },
  {
   "cell_type": "code",
   "execution_count": 14,
   "id": "1c35e53b-ed5f-48a0-9105-75047ef215ca",
   "metadata": {},
   "outputs": [
    {
     "name": "stdout",
     "output_type": "stream",
     "text": [
      "10\n"
     ]
    }
   ],
   "source": [
    "def fun():\n",
    "    local_var = 10\n",
    "    print(local_var)\n",
    "\n",
    "# calling the function\n",
    "fun()"
   ]
  },
  {
   "cell_type": "code",
   "execution_count": 15,
   "id": "2196e8aa-52e6-4190-b01b-19bf01c7145e",
   "metadata": {},
   "outputs": [
    {
     "ename": "NameError",
     "evalue": "name 'local_var' is not defined",
     "output_type": "error",
     "traceback": [
      "\u001b[1;31m---------------------------------------------------------------------------\u001b[0m",
      "\u001b[1;31mNameError\u001b[0m                                 Traceback (most recent call last)",
      "Cell \u001b[1;32mIn[15], line 3\u001b[0m\n\u001b[0;32m      1\u001b[0m \u001b[38;5;28;01mdef\u001b[39;00m \u001b[38;5;21mfun\u001b[39m():\n\u001b[0;32m      2\u001b[0m     local_var \u001b[38;5;241m=\u001b[39m \u001b[38;5;241m10\u001b[39m\n\u001b[1;32m----> 3\u001b[0m \u001b[38;5;28mprint\u001b[39m(\u001b[43mlocal_var\u001b[49m)\n",
      "\u001b[1;31mNameError\u001b[0m: name 'local_var' is not defined"
     ]
    }
   ],
   "source": [
    "# it shows error becuse local variable can't be run outside the function.\n",
    "def fun():\n",
    "    local_var = 10\n",
    "print(local_var)\n"
   ]
  },
  {
   "cell_type": "code",
   "execution_count": 1,
   "id": "970316df-d4a6-4f20-9c17-e8d9dcf27d2d",
   "metadata": {},
   "outputs": [],
   "source": [
    "# variable defines outside of any variable is called global variable"
   ]
  },
  {
   "cell_type": "code",
   "execution_count": 2,
   "id": "05deadf7-1345-48bb-938d-80e99577fb0b",
   "metadata": {},
   "outputs": [],
   "source": [
    "# global or local scope"
   ]
  },
  {
   "cell_type": "code",
   "execution_count": null,
   "id": "61da04c0-054c-4c8d-8661-956aac06344f",
   "metadata": {},
   "outputs": [],
   "source": []
  },
  {
   "cell_type": "code",
   "execution_count": 3,
   "id": "a2254bb0-c42e-4c51-90ff-45be2101feb9",
   "metadata": {},
   "outputs": [
    {
     "name": "stdout",
     "output_type": "stream",
     "text": [
      "10\n",
      "20\n"
     ]
    }
   ],
   "source": [
    "def fun():\n",
    "    global_var = 10\n",
    "    print(global_var)\n",
    "    global x\n",
    "    x = 20\n",
    "\n",
    "# calling the function\n",
    "fun()\n",
    "print(x)"
   ]
  },
  {
   "cell_type": "code",
   "execution_count": 21,
   "id": "a319440c-da07-4ba7-9932-47af4c1a1fd6",
   "metadata": {},
   "outputs": [],
   "source": [
    "# set = collection of unique numbers/ collection of well defined objects."
   ]
  },
  {
   "cell_type": "code",
   "execution_count": null,
   "id": "3fc73067-95e9-4d75-b39d-fb30ed6fc3b2",
   "metadata": {},
   "outputs": [],
   "source": []
  },
  {
   "cell_type": "code",
   "execution_count": 22,
   "id": "3c34886b-84f7-4872-be18-da7e667e9b57",
   "metadata": {},
   "outputs": [
    {
     "name": "stdout",
     "output_type": "stream",
     "text": [
      "<class 'str'>\n"
     ]
    }
   ],
   "source": [
    "a = \"name\"\n",
    "print(type(a))"
   ]
  },
  {
   "cell_type": "code",
   "execution_count": 23,
   "id": "4c6afdea-2473-4d77-b4c5-b56d51cab3b3",
   "metadata": {},
   "outputs": [],
   "source": [
    "# sequencial datatype = sequence me store krna like list, tuple etc."
   ]
  },
  {
   "cell_type": "code",
   "execution_count": 24,
   "id": "9bf52519-9a21-46fd-af27-aa57e0eef605",
   "metadata": {},
   "outputs": [
    {
     "ename": "SyntaxError",
     "evalue": "invalid syntax (1966962417.py, line 1)",
     "output_type": "error",
     "traceback": [
      "\u001b[1;36m  Cell \u001b[1;32mIn[24], line 1\u001b[1;36m\u001b[0m\n\u001b[1;33m    x = frozenset{\"a\",\"b\"}\u001b[0m\n\u001b[1;37m                 ^\u001b[0m\n\u001b[1;31mSyntaxError\u001b[0m\u001b[1;31m:\u001b[0m invalid syntax\n"
     ]
    }
   ],
   "source": [
    "x = frozenset{\"a\",\"b\"}\n",
    "print(x)"
   ]
  },
  {
   "cell_type": "code",
   "execution_count": 25,
   "id": "ab9b521b-41f8-4573-90b4-37019e1359f8",
   "metadata": {},
   "outputs": [],
   "source": [
    "# complex numbers = combination of real and imaginary number."
   ]
  },
  {
   "cell_type": "code",
   "execution_count": 29,
   "id": "b31c8b6f-e5d8-487a-b19d-7e9cd18c8a2b",
   "metadata": {},
   "outputs": [
    {
     "name": "stdout",
     "output_type": "stream",
     "text": [
      "(2+3j)\n",
      "<class 'complex'>\n"
     ]
    }
   ],
   "source": [
    "a = 2 + 3j\n",
    "print(a)\n",
    "print(type(a))"
   ]
  },
  {
   "cell_type": "code",
   "execution_count": 32,
   "id": "f6a5532e-895b-48ea-b249-b69aa59a62f4",
   "metadata": {},
   "outputs": [
    {
     "name": "stdout",
     "output_type": "stream",
     "text": [
      "l\n",
      "n\n"
     ]
    }
   ],
   "source": [
    "# accessing string value / indexing\n",
    "\n",
    "a = \"welcometopython\"\n",
    "print(a[2])\n",
    "print(a[-1])"
   ]
  },
  {
   "cell_type": "code",
   "execution_count": null,
   "id": "fc6f8b9d-4ddf-405f-8234-1c10ad9fd222",
   "metadata": {},
   "outputs": [],
   "source": []
  },
  {
   "cell_type": "code",
   "execution_count": 35,
   "id": "af875e89-f149-472b-b06a-2daa55a3fa2b",
   "metadata": {},
   "outputs": [
    {
     "name": "stdout",
     "output_type": "stream",
     "text": [
      "[1 2 3 4]\n",
      "<class 'numpy.ndarray'>\n"
     ]
    }
   ],
   "source": [
    "import numpy as np\n",
    "var1 = np.array([1,2,3,4])\n",
    "print(var1)\n",
    "print(type(var1))"
   ]
  },
  {
   "cell_type": "code",
   "execution_count": null,
   "id": "155ce888-685c-423a-b5a5-fce6fc42fa79",
   "metadata": {},
   "outputs": [],
   "source": []
  },
  {
   "cell_type": "code",
   "execution_count": null,
   "id": "697dda8e-1675-41fb-ae74-4e7eb8a898f6",
   "metadata": {},
   "outputs": [],
   "source": [
    "# tuple can define with and without paranthesis"
   ]
  },
  {
   "cell_type": "code",
   "execution_count": 38,
   "id": "01483491-04f0-4083-9208-f658c8b2dbf8",
   "metadata": {},
   "outputs": [
    {
     "name": "stdout",
     "output_type": "stream",
     "text": [
      "('a', 'b', 'c')\n",
      "<class 'tuple'>\n"
     ]
    }
   ],
   "source": [
    "tup = (\"a\",\"b\",\"c\")\n",
    "print(tup)\n",
    "print(type(tup))"
   ]
  },
  {
   "cell_type": "code",
   "execution_count": 42,
   "id": "2cb3aaab-9bbc-4464-aaba-8787aa45a0d6",
   "metadata": {},
   "outputs": [
    {
     "name": "stdout",
     "output_type": "stream",
     "text": [
      "('a', 'b', 'c')\n",
      "<class 'tuple'>\n"
     ]
    }
   ],
   "source": [
    "tup = \"a\",\"b\",\"c\"\n",
    "print(tup)\n",
    "print(type(tup))"
   ]
  },
  {
   "cell_type": "code",
   "execution_count": null,
   "id": "33202f2d-b6c0-4e84-9446-e7f5df72b8ec",
   "metadata": {},
   "outputs": [],
   "source": []
  },
  {
   "cell_type": "code",
   "execution_count": 45,
   "id": "a6b368ef-b648-47aa-91d7-e65039f16e61",
   "metadata": {},
   "outputs": [
    {
     "name": "stdout",
     "output_type": "stream",
     "text": [
      "True\n",
      "<class 'bool'>\n"
     ]
    }
   ],
   "source": [
    "# boolean\n",
    "x = True\n",
    "print(x)\n",
    "print(type(x))"
   ]
  },
  {
   "cell_type": "code",
   "execution_count": 46,
   "id": "86ef91ee-ef0c-41b4-a0bc-cdd2132fb059",
   "metadata": {},
   "outputs": [
    {
     "name": "stdout",
     "output_type": "stream",
     "text": [
      "True\n",
      "<class 'bool'>\n"
     ]
    }
   ],
   "source": [
    "is_genius = True\n",
    "print(is_genius)\n",
    "print(type(is_genius))"
   ]
  },
  {
   "cell_type": "code",
   "execution_count": null,
   "id": "9be89ed2-82b4-4227-92fe-1f9c4e889a83",
   "metadata": {},
   "outputs": [],
   "source": []
  },
  {
   "cell_type": "code",
   "execution_count": 53,
   "id": "553a7283-249b-4005-a9c7-dd7b477f2fef",
   "metadata": {},
   "outputs": [
    {
     "name": "stdout",
     "output_type": "stream",
     "text": [
      "{1, 2, 3, 4, 5}\n",
      "<class 'set'>\n",
      "1\n",
      "2\n",
      "3\n",
      "4\n",
      "5\n"
     ]
    }
   ],
   "source": [
    "# LIST TO SET\n",
    "\n",
    "list = [1,2,3,4,5]\n",
    "a = set(list)\n",
    "print(a)\n",
    "print(type(a))\n",
    "for i in a:\n",
    "    print(i)"
   ]
  },
  {
   "cell_type": "code",
   "execution_count": 51,
   "id": "2e1ee9ec-27fd-459c-ae8f-6a28b76ce5e7",
   "metadata": {},
   "outputs": [
    {
     "name": "stdout",
     "output_type": "stream",
     "text": [
      "{1, 2, 3, 4, 5}\n",
      "<class 'set'>\n",
      "1 2 3 4 5 "
     ]
    }
   ],
   "source": [
    "lst = [1,2,3,4,5]\n",
    "a = set(lst)\n",
    "print(a)\n",
    "print(type(a))\n",
    "for i in a:\n",
    "    print(i, end=\" \")"
   ]
  },
  {
   "cell_type": "code",
   "execution_count": null,
   "id": "596554ed-5fe7-4e06-b230-d3309b37a4ae",
   "metadata": {},
   "outputs": [],
   "source": []
  },
  {
   "cell_type": "code",
   "execution_count": null,
   "id": "768e0ea7-d405-4099-abb6-857417f17166",
   "metadata": {},
   "outputs": [],
   "source": []
  },
  {
   "cell_type": "code",
   "execution_count": null,
   "id": "de0ddf5d-cdc1-4f14-9a8b-9e237b115409",
   "metadata": {},
   "outputs": [],
   "source": []
  },
  {
   "cell_type": "code",
   "execution_count": null,
   "id": "5bf76515-a15f-427f-8e3b-7152c009339e",
   "metadata": {},
   "outputs": [],
   "source": []
  },
  {
   "cell_type": "code",
   "execution_count": null,
   "id": "41e6bc68-cd22-48d9-a314-74a810107a2e",
   "metadata": {},
   "outputs": [],
   "source": []
  },
  {
   "cell_type": "code",
   "execution_count": null,
   "id": "2e508663-d8f4-4364-8a2b-55d921f9359b",
   "metadata": {},
   "outputs": [],
   "source": []
  },
  {
   "cell_type": "code",
   "execution_count": null,
   "id": "1918d12d-21cc-40c8-8a62-851611c560f1",
   "metadata": {},
   "outputs": [],
   "source": []
  },
  {
   "cell_type": "code",
   "execution_count": null,
   "id": "344c142a-70fd-4457-80a4-a3e0795c9513",
   "metadata": {},
   "outputs": [],
   "source": []
  },
  {
   "cell_type": "code",
   "execution_count": null,
   "id": "e9e58ade-0ecd-418c-bb1c-626b44d1a9f4",
   "metadata": {},
   "outputs": [],
   "source": []
  },
  {
   "cell_type": "code",
   "execution_count": null,
   "id": "a3629fe4-e022-4bbd-ad64-9a0b987c6000",
   "metadata": {},
   "outputs": [],
   "source": []
  },
  {
   "cell_type": "code",
   "execution_count": null,
   "id": "0cf170cc-bc20-4a02-952c-7ef22703b9d3",
   "metadata": {},
   "outputs": [],
   "source": []
  },
  {
   "cell_type": "code",
   "execution_count": null,
   "id": "c52234b0-ca29-48a5-84ea-583a27fe3d05",
   "metadata": {},
   "outputs": [],
   "source": []
  },
  {
   "cell_type": "code",
   "execution_count": null,
   "id": "46299eb6-b06d-4ed9-a619-ded1cc093f12",
   "metadata": {},
   "outputs": [],
   "source": []
  },
  {
   "cell_type": "code",
   "execution_count": null,
   "id": "88e181ba-b448-424f-a410-3f30af576048",
   "metadata": {},
   "outputs": [],
   "source": []
  },
  {
   "cell_type": "code",
   "execution_count": null,
   "id": "df84c9fe-00db-4b39-bc73-3837c430e8ff",
   "metadata": {},
   "outputs": [],
   "source": []
  },
  {
   "cell_type": "code",
   "execution_count": null,
   "id": "637f793d-84ab-4bfc-9267-7ec6323ccdde",
   "metadata": {},
   "outputs": [],
   "source": []
  },
  {
   "cell_type": "code",
   "execution_count": null,
   "id": "93a402d0-6059-4f82-ab41-29578c97cf58",
   "metadata": {},
   "outputs": [],
   "source": []
  },
  {
   "cell_type": "code",
   "execution_count": null,
   "id": "c13db724-99fc-4eff-9954-4db6e3273151",
   "metadata": {},
   "outputs": [],
   "source": []
  },
  {
   "cell_type": "code",
   "execution_count": null,
   "id": "7cb43a5b-1813-468e-a0e0-dd0ca8e8acba",
   "metadata": {},
   "outputs": [],
   "source": []
  },
  {
   "cell_type": "code",
   "execution_count": null,
   "id": "d176a73f-9ed6-44ed-ad47-c5be72e4b16b",
   "metadata": {},
   "outputs": [],
   "source": []
  },
  {
   "cell_type": "code",
   "execution_count": null,
   "id": "42ce5b69-fed6-493f-b88e-ac4ec208c1da",
   "metadata": {},
   "outputs": [],
   "source": []
  },
  {
   "cell_type": "code",
   "execution_count": null,
   "id": "46349f3a-6d46-48c2-b6c9-ce9ce0d7eb40",
   "metadata": {},
   "outputs": [],
   "source": []
  },
  {
   "cell_type": "code",
   "execution_count": null,
   "id": "edf144ee-05bb-4082-acbd-13f73eff8ceb",
   "metadata": {},
   "outputs": [],
   "source": []
  },
  {
   "cell_type": "code",
   "execution_count": null,
   "id": "424f81bf-893a-40f7-b634-94fda7ab3109",
   "metadata": {},
   "outputs": [],
   "source": []
  },
  {
   "cell_type": "code",
   "execution_count": null,
   "id": "57a182eb-543e-4311-b8a3-f69b463fa337",
   "metadata": {},
   "outputs": [],
   "source": []
  },
  {
   "cell_type": "code",
   "execution_count": 6,
   "id": "34b8b164-f498-4f42-8f6e-d288323e5bfd",
   "metadata": {},
   "outputs": [
    {
     "name": "stdout",
     "output_type": "stream",
     "text": [
      "(1, 2, 3, 4, 5)\n",
      "<class 'tuple'>\n"
     ]
    }
   ],
   "source": [
    "tup = (1,2,3,4,5)\n",
    "print(tup)\n",
    "print(type(tup))"
   ]
  },
  {
   "cell_type": "code",
   "execution_count": 5,
   "id": "8b725f31-d6b8-4929-967b-431906b6c5c9",
   "metadata": {},
   "outputs": [
    {
     "name": "stdout",
     "output_type": "stream",
     "text": [
      "False\n",
      "<class 'bool'>\n"
     ]
    }
   ],
   "source": [
    "a = True\n",
    "b = False\n",
    "x = 10\n",
    "if x == 5:\n",
    "    print(a)\n",
    "else:\n",
    "    print(b)\n",
    "    print(type(b))"
   ]
  },
  {
   "cell_type": "code",
   "execution_count": 7,
   "id": "f86b625f-577f-426a-b12f-86283f86537a",
   "metadata": {},
   "outputs": [],
   "source": [
    "# set datatype a set is an unordered collection of items and can be iterable"
   ]
  },
  {
   "cell_type": "code",
   "execution_count": 8,
   "id": "507d45b4-03a6-4214-adb0-3b9a7aeee6a9",
   "metadata": {},
   "outputs": [
    {
     "name": "stdout",
     "output_type": "stream",
     "text": [
      "a\n",
      "b\n",
      "c\n",
      "d\n",
      "e\n"
     ]
    }
   ],
   "source": [
    "lst = [\"a\",\"b\",\"c\",\"d\",\"e\"]\n",
    "for i in lst:\n",
    "    print(i)\n",
    "\n",
    "# # here print is function\n",
    "# # iterable print fuction ko execute kr rha hai.\n",
    "\n",
    "\n",
    "# mutable\n",
    "# not duplicate / unique"
   ]
  },
  {
   "cell_type": "code",
   "execution_count": 16,
   "id": "0867f96e-fb20-4615-a22d-d32b5c37e23e",
   "metadata": {},
   "outputs": [
    {
     "name": "stdout",
     "output_type": "stream",
     "text": [
      "{'a', 'b', 'e', 'c', 'd'}\n"
     ]
    }
   ],
   "source": [
    "# create a set\n",
    "\n",
    "# using list to set\n",
    "\n",
    "lst = set([\"a\",\"b\",\"c\",\"d\",\"e\"])\n",
    "print(lst)\n"
   ]
  },
  {
   "cell_type": "code",
   "execution_count": 17,
   "id": "1e03a9bc-ecef-4454-b197-f0aab23cedf3",
   "metadata": {},
   "outputs": [
    {
     "name": "stdout",
     "output_type": "stream",
     "text": [
      "{'a', 'b', 'e', 'c', 'd'}\n"
     ]
    },
    {
     "ename": "TypeError",
     "evalue": "'set' object is not subscriptable",
     "output_type": "error",
     "traceback": [
      "\u001b[1;31m---------------------------------------------------------------------------\u001b[0m",
      "\u001b[1;31mTypeError\u001b[0m                                 Traceback (most recent call last)",
      "Cell \u001b[1;32mIn[17], line 5\u001b[0m\n\u001b[0;32m      3\u001b[0m lst \u001b[38;5;241m=\u001b[39m \u001b[38;5;28mset\u001b[39m([\u001b[38;5;124m\"\u001b[39m\u001b[38;5;124ma\u001b[39m\u001b[38;5;124m\"\u001b[39m,\u001b[38;5;124m\"\u001b[39m\u001b[38;5;124mb\u001b[39m\u001b[38;5;124m\"\u001b[39m,\u001b[38;5;124m\"\u001b[39m\u001b[38;5;124mc\u001b[39m\u001b[38;5;124m\"\u001b[39m,\u001b[38;5;124m\"\u001b[39m\u001b[38;5;124md\u001b[39m\u001b[38;5;124m\"\u001b[39m,\u001b[38;5;124m\"\u001b[39m\u001b[38;5;124me\u001b[39m\u001b[38;5;124m\"\u001b[39m])\n\u001b[0;32m      4\u001b[0m \u001b[38;5;28mprint\u001b[39m(lst)\n\u001b[1;32m----> 5\u001b[0m \u001b[38;5;28mprint\u001b[39m(\u001b[43mlst\u001b[49m\u001b[43m[\u001b[49m\u001b[38;5;241;43m0\u001b[39;49m\u001b[43m]\u001b[49m)\n",
      "\u001b[1;31mTypeError\u001b[0m: 'set' object is not subscriptable"
     ]
    }
   ],
   "source": [
    "# can't be access its element using index\n",
    "\n",
    "lst = set([\"a\",\"b\",\"c\",\"d\",\"e\"])\n",
    "print(lst)\n",
    "print(lst[0])\n",
    "\n",
    "# TypeError: 'set' object is not subscriptable"
   ]
  },
  {
   "cell_type": "code",
   "execution_count": null,
   "id": "e041fb45-121e-452b-83fc-8bacc74c0027",
   "metadata": {},
   "outputs": [],
   "source": []
  },
  {
   "cell_type": "code",
   "execution_count": 18,
   "id": "4b539782-d68c-4fb9-9309-bb24cadfa47e",
   "metadata": {},
   "outputs": [],
   "source": [
    "# dictionary\n",
    "# key value pairs\n",
    "# each value separated by colon\n",
    "# using curly braces\n",
    "# can be boolen, list, elements,string, numeric"
   ]
  },
  {
   "cell_type": "code",
   "execution_count": 20,
   "id": "3d33a5f7-010e-494d-b17f-03417f470f99",
   "metadata": {},
   "outputs": [
    {
     "name": "stdout",
     "output_type": "stream",
     "text": [
      "{'key': 1, 'Key': 2}\n"
     ]
    }
   ],
   "source": [
    "# case sensitive\n",
    "dic = {\"key\":1,\"Key\":2}\n",
    "print(dic)\n",
    "\n",
    "# key and Key both is differenct key is different "
   ]
  },
  {
   "cell_type": "code",
   "execution_count": 3,
   "id": "f4607ae8-ec7e-4534-905c-76d2514bba36",
   "metadata": {},
   "outputs": [
    {
     "name": "stdout",
     "output_type": "stream",
     "text": [
      "{'classA': [1, 2, 3, 4, 5], 'classB': [1, 2, 3, 4, 5]}\n",
      "[1, 2, 3, 4, 5]\n"
     ]
    }
   ],
   "source": [
    "# question\n",
    "\n",
    "\n",
    "class1 = {\"classA\": [1, 2, 3, 4, 5] , \"classB\": [1, 2, 3, 4, 5]}\n",
    "print(class1)\n",
    "\n",
    "print(class1[\"classA\"])\n"
   ]
  },
  {
   "cell_type": "code",
   "execution_count": 4,
   "id": "d81ee163-9b10-4b41-ba66-6a425b470cbb",
   "metadata": {},
   "outputs": [],
   "source": [
    "# NOTE: class is a keyword and keyword ke name se kbhi variable ni bn skta"
   ]
  },
  {
   "cell_type": "code",
   "execution_count": 8,
   "id": "2bdeb620-8e40-4092-8089-8209db2022e6",
   "metadata": {},
   "outputs": [
    {
     "name": "stdout",
     "output_type": "stream",
     "text": [
      "{'classA': [1, 2, 3, 4, 5], 'classB': [1, 2, 3, 4, 5]}\n",
      "[1, 2, 3, 4, 5]\n",
      "Key not found\n"
     ]
    }
   ],
   "source": [
    "class1 = {\"classA\": [1, 2, 3, 4, 5] , \"classB\": [1, 2, 3, 4, 5]}\n",
    "\n",
    "# Accessing the entire dictionary\n",
    "print(class1)\n",
    "\n",
    "# Accessing the value associated with the key \"classA\"\n",
    "print(class1.get(\"classA\"))\n",
    "\n",
    "# Accessing the value associated with a key that does not exist (with default value)\n",
    "print(class1.get(\"classC\", \"Key not found\"))  # Providing a default value\n"
   ]
  },
  {
   "cell_type": "code",
   "execution_count": 6,
   "id": "390f3c91-45ba-411d-9486-c0fdad77e5fd",
   "metadata": {},
   "outputs": [],
   "source": [
    "\n",
    "\n",
    "# assignment operator\n",
    "# membership operator"
   ]
  },
  {
   "cell_type": "code",
   "execution_count": 7,
   "id": "f6cdb2ef-03b6-491a-a586-28463049d361",
   "metadata": {},
   "outputs": [
    {
     "name": "stdout",
     "output_type": "stream",
     "text": [
      "0\n"
     ]
    }
   ],
   "source": [
    "print(10%2)     #  remainder operator"
   ]
  },
  {
   "cell_type": "code",
   "execution_count": 9,
   "id": "05f4e557-21fc-457f-b141-30f98a6fa51a",
   "metadata": {},
   "outputs": [],
   "source": [
    "# for quotient simple divide"
   ]
  },
  {
   "cell_type": "code",
   "execution_count": 11,
   "id": "6cb84f89-4229-459a-9082-74ba63c607b2",
   "metadata": {},
   "outputs": [
    {
     "name": "stdout",
     "output_type": "stream",
     "text": [
      "16\n"
     ]
    }
   ],
   "source": [
    "print(2**4)"
   ]
  },
  {
   "cell_type": "code",
   "execution_count": 12,
   "id": "d2ecebb0-4dd9-4ea3-9480-98729a8c1122",
   "metadata": {},
   "outputs": [
    {
     "name": "stdout",
     "output_type": "stream",
     "text": [
      "2\n"
     ]
    }
   ],
   "source": [
    "print(4//2)"
   ]
  },
  {
   "cell_type": "code",
   "execution_count": 13,
   "id": "bfea04d0-9374-45e0-b98b-22595e4d3162",
   "metadata": {},
   "outputs": [],
   "source": [
    "# assignment operator\n",
    "\n",
    "# =\n",
    "# +=\n",
    "# -= decrement\n",
    "# *="
   ]
  },
  {
   "cell_type": "code",
   "execution_count": 14,
   "id": "e8a9f31a-ce69-4870-ac2a-bdad0b80401d",
   "metadata": {},
   "outputs": [
    {
     "name": "stdout",
     "output_type": "stream",
     "text": [
      "0\n",
      "1\n",
      "2\n",
      "3\n",
      "4\n",
      "5\n"
     ]
    }
   ],
   "source": [
    "i = 0\n",
    "while i<=5:\n",
    "    print(i)\n",
    "    i += 1"
   ]
  },
  {
   "cell_type": "code",
   "execution_count": 2,
   "id": "d149215a-5cf3-40cd-8c15-b61ac38db241",
   "metadata": {},
   "outputs": [
    {
     "name": "stdout",
     "output_type": "stream",
     "text": [
      "10\n"
     ]
    }
   ],
   "source": [
    "x = 5\n",
    "y = 2\n",
    "x *= y  \n",
    "print(x)  \n"
   ]
  },
  {
   "cell_type": "code",
   "execution_count": 4,
   "id": "e4f25983-0c67-4655-8819-3938dc3b87be",
   "metadata": {},
   "outputs": [
    {
     "name": "stdout",
     "output_type": "stream",
     "text": [
      "5\n"
     ]
    }
   ],
   "source": [
    "# comparision operators\n",
    "a = 5\n",
    "if a == 5:\n",
    "    print(a)"
   ]
  },
  {
   "cell_type": "code",
   "execution_count": 5,
   "id": "4884d804-e4b3-42bb-870f-e85336911218",
   "metadata": {},
   "outputs": [],
   "source": [
    "# make a number list \n",
    "# in a  list me 2 se bde hai to print"
   ]
  },
  {
   "cell_type": "code",
   "execution_count": 14,
   "id": "9226f237-54a1-4b35-8013-b2c841afda9d",
   "metadata": {},
   "outputs": [
    {
     "name": "stdout",
     "output_type": "stream",
     "text": [
      "3\n",
      "4\n",
      "5\n",
      "6\n"
     ]
    }
   ],
   "source": [
    "a = [1,2,3,4,5,6]\n",
    "for i in a: \n",
    "    if i>2:\n",
    "        print(i)\n"
   ]
  },
  {
   "cell_type": "code",
   "execution_count": 17,
   "id": "aaa4e83c-4e28-4bd1-83e2-0460281e9661",
   "metadata": {},
   "outputs": [
    {
     "name": "stdout",
     "output_type": "stream",
     "text": [
      "True\n"
     ]
    }
   ],
   "source": [
    "# logical operators\n",
    "\n",
    "a = 5\n",
    "b = 6\n",
    "if a==5 and b == 6:\n",
    "    print(\"True\")\n",
    "else:\n",
    "    print(\"False\")"
   ]
  },
  {
   "cell_type": "code",
   "execution_count": 22,
   "id": "cea0840d-9191-442a-afdc-0ec65db0621c",
   "metadata": {},
   "outputs": [],
   "source": [
    "# question"
   ]
  },
  {
   "cell_type": "code",
   "execution_count": 21,
   "id": "f8352ee0-1d22-4b70-b616-000446f8036f",
   "metadata": {},
   "outputs": [
    {
     "name": "stdout",
     "output_type": "stream",
     "text": [
      "True\n"
     ]
    }
   ],
   "source": [
    "# # membership operator \n",
    "# in \n",
    "# not in\n",
    "\n",
    "b = [1,2,3,4]\n",
    "if 2 in b:\n",
    "    print(\"True\")\n",
    "else:\n",
    "    print(\"False\")"
   ]
  },
  {
   "cell_type": "code",
   "execution_count": 23,
   "id": "82b32485-7fba-4054-9e62-7a769bcb1b62",
   "metadata": {},
   "outputs": [
    {
     "name": "stdout",
     "output_type": "stream",
     "text": [
      "False\n"
     ]
    }
   ],
   "source": [
    "c = [1,2,3,4]\n",
    "if 2 not in c:\n",
    "    print(\"True\")\n",
    "else:\n",
    "    print(\"False\")"
   ]
  },
  {
   "cell_type": "code",
   "execution_count": null,
   "id": "007e28b0-233e-4f52-9515-c6b26eeba767",
   "metadata": {},
   "outputs": [],
   "source": []
  },
  {
   "cell_type": "code",
   "execution_count": 31,
   "id": "af6d3dc2-79e4-4387-a4f8-c8595c2ef7c3",
   "metadata": {},
   "outputs": [
    {
     "name": "stdin",
     "output_type": "stream",
     "text": [
      "Enter elements of the list separated by spaces:  1 2 3 4\n"
     ]
    },
    {
     "name": "stdout",
     "output_type": "stream",
     "text": [
      "['1', '2', '3', '4']\n"
     ]
    }
   ],
   "source": [
    "# how to take list input\n",
    "a = input(\"Enter elements of the list separated by spaces: \").split()\n",
    "print(a)\n"
   ]
  },
  {
   "cell_type": "code",
   "execution_count": null,
   "id": "377c021d-c8a8-4a17-b728-75d86e215b66",
   "metadata": {},
   "outputs": [],
   "source": []
  },
  {
   "cell_type": "code",
   "execution_count": null,
   "id": "53dfbce9-de18-47c6-9885-49c840474edb",
   "metadata": {},
   "outputs": [],
   "source": []
  },
  {
   "cell_type": "code",
   "execution_count": null,
   "id": "791e525a-3128-4542-a61e-7eb4644dda84",
   "metadata": {},
   "outputs": [],
   "source": []
  },
  {
   "cell_type": "code",
   "execution_count": null,
   "id": "021a7174-f291-4e9b-84d4-b4f89096939f",
   "metadata": {},
   "outputs": [],
   "source": []
  },
  {
   "cell_type": "code",
   "execution_count": null,
   "id": "17e4640b-094d-450e-b581-71b5b73a1360",
   "metadata": {},
   "outputs": [],
   "source": []
  },
  {
   "cell_type": "code",
   "execution_count": null,
   "id": "33f44247-dd96-490e-a1d2-988e33f7428a",
   "metadata": {},
   "outputs": [],
   "source": []
  },
  {
   "cell_type": "code",
   "execution_count": null,
   "id": "b460548d-f84b-4cb5-a655-07c3f7b442a6",
   "metadata": {},
   "outputs": [],
   "source": []
  },
  {
   "cell_type": "code",
   "execution_count": null,
   "id": "d4383a12-cd6f-4138-bac3-9fac5bb3350d",
   "metadata": {},
   "outputs": [],
   "source": []
  },
  {
   "cell_type": "code",
   "execution_count": null,
   "id": "48e3885e-fc4a-40ac-84c0-e1fe9085b02f",
   "metadata": {},
   "outputs": [],
   "source": []
  },
  {
   "cell_type": "code",
   "execution_count": null,
   "id": "02708e4c-4733-4957-8125-9f8e752b407e",
   "metadata": {},
   "outputs": [],
   "source": []
  },
  {
   "cell_type": "code",
   "execution_count": null,
   "id": "c24ae99d-ae50-4f04-acd3-e92e70235ff1",
   "metadata": {},
   "outputs": [],
   "source": []
  },
  {
   "cell_type": "code",
   "execution_count": null,
   "id": "ff42da56-2a9f-4590-a3f3-a88973159a78",
   "metadata": {},
   "outputs": [],
   "source": []
  },
  {
   "cell_type": "code",
   "execution_count": null,
   "id": "6a43f47c-a8e4-4440-be76-d8ff12e603be",
   "metadata": {},
   "outputs": [],
   "source": []
  },
  {
   "cell_type": "code",
   "execution_count": null,
   "id": "f8dade93-4d46-4fb7-af7b-a87bb0430198",
   "metadata": {},
   "outputs": [],
   "source": []
  },
  {
   "cell_type": "code",
   "execution_count": null,
   "id": "b497f487-57fe-4814-b393-a72b008da377",
   "metadata": {},
   "outputs": [],
   "source": []
  },
  {
   "cell_type": "code",
   "execution_count": null,
   "id": "fa96b9bd-a4fc-4b6e-8aee-e5b5f5e9e272",
   "metadata": {},
   "outputs": [],
   "source": [
    "# 12 feb 2024"
   ]
  },
  {
   "cell_type": "code",
   "execution_count": 18,
   "id": "c0e4851f-0aed-4c94-a0cd-616114a8bca2",
   "metadata": {},
   "outputs": [
    {
     "name": "stdout",
     "output_type": "stream",
     "text": [
      "['shukla', 'raj', 'amit', 'khushi']\n",
      "['shukla', 'raj', 'amit', 'khushi', 'anamika']\n"
     ]
    }
   ],
   "source": [
    "lst = [\"shukla\", \"raj\", \"amit\", \"khushi\"]\n",
    "print(lst)\n",
    "lst.append(\"anamika\")\n",
    "print(lst)"
   ]
  },
  {
   "cell_type": "code",
   "execution_count": 10,
   "id": "9b0b6bc5-d877-4895-a212-9e0bfa714f1c",
   "metadata": {},
   "outputs": [],
   "source": [
    "# frutit \n",
    "# vaegatable\n",
    "# for i in list b\n",
    "# list a.appe"
   ]
  },
  {
   "cell_type": "code",
   "execution_count": null,
   "id": "6f3e4b91-136f-4ff0-84c5-986f8aa5057f",
   "metadata": {},
   "outputs": [],
   "source": []
  },
  {
   "cell_type": "code",
   "execution_count": 13,
   "id": "38ff7e68-383c-4032-ba80-e2864ef66b7b",
   "metadata": {},
   "outputs": [
    {
     "name": "stdout",
     "output_type": "stream",
     "text": [
      "['apple', 'mango', 'grapes', ['pea', 'onion', 'mushroom']]\n",
      "['apple', 'mango', 'grapes', ['pea', 'onion', 'mushroom'], ['pea', 'onion', 'mushroom']]\n",
      "['apple', 'mango', 'grapes', ['pea', 'onion', 'mushroom'], ['pea', 'onion', 'mushroom'], ['pea', 'onion', 'mushroom']]\n"
     ]
    }
   ],
   "source": []
  },
  {
   "cell_type": "code",
   "execution_count": 24,
   "id": "69c7806a-a0b2-49be-a3b2-c351910352ef",
   "metadata": {},
   "outputs": [
    {
     "name": "stdout",
     "output_type": "stream",
     "text": [
      "['apple', 'mango', 'grapes', 'pea', 'onion', 'mushroom']\n"
     ]
    }
   ],
   "source": [
    "# question\n",
    "\n",
    "a = [\"apple\", \"mango\", \"grapes\"]\n",
    "b = [\"pea\", \"onion\", \"mushroom\"]\n",
    "\n",
    "for i in b:    \n",
    "    a.append(i)\n",
    "print(a)"
   ]
  },
  {
   "cell_type": "code",
   "execution_count": 25,
   "id": "62086557-6583-4f36-ac0e-65b42470bb90",
   "metadata": {},
   "outputs": [],
   "source": [
    "#  INSERT\n",
    "\n",
    "# list.insert(position,element)"
   ]
  },
  {
   "cell_type": "code",
   "execution_count": 27,
   "id": "de10910e-cdd8-48fc-b409-f0b20898bf23",
   "metadata": {},
   "outputs": [
    {
     "name": "stdout",
     "output_type": "stream",
     "text": [
      "['apple', 'kiwi', 'mango', 'grapes']\n"
     ]
    }
   ],
   "source": [
    "a = [\"apple\", \"mango\", \"grapes\"]\n",
    "\n",
    "a.insert(1,\"kiwi\")\n",
    "print(a)"
   ]
  },
  {
   "cell_type": "code",
   "execution_count": 30,
   "id": "23cde18d-359a-4837-97aa-a694effab828",
   "metadata": {},
   "outputs": [
    {
     "name": "stdout",
     "output_type": "stream",
     "text": [
      "['apple', 'mango', 'grapes', 'pea', 'onion', 'mushroom']\n"
     ]
    }
   ],
   "source": [
    "# extend\n",
    "\n",
    "a = [\"apple\", \"mango\", \"grapes\"]\n",
    "b = [\"pea\", \"onion\", \"mushroom\"]\n",
    "a.extend(b)\n",
    "print(a)"
   ]
  },
  {
   "cell_type": "code",
   "execution_count": 31,
   "id": "902676d6-2b1f-4e11-97c0-7b0f98b108d9",
   "metadata": {},
   "outputs": [
    {
     "name": "stdout",
     "output_type": "stream",
     "text": [
      "None\n"
     ]
    }
   ],
   "source": [
    "print(a.extend(b))"
   ]
  },
  {
   "cell_type": "code",
   "execution_count": 36,
   "id": "bad82f78-1f8f-4d88-aabf-7f42851e1ab4",
   "metadata": {},
   "outputs": [
    {
     "name": "stdout",
     "output_type": "stream",
     "text": [
      "10\n"
     ]
    },
    {
     "data": {
      "text/plain": [
       "10"
      ]
     },
     "execution_count": 36,
     "metadata": {},
     "output_type": "execute_result"
    }
   ],
   "source": [
    "list = [1,2,3,4]\n",
    "print(sum(list))\n",
    "# or\n",
    "sum(list)"
   ]
  },
  {
   "cell_type": "code",
   "execution_count": null,
   "id": "6ae25ba6-eefe-489b-b4ee-7a77932902ff",
   "metadata": {},
   "outputs": [],
   "source": [
    "# type error if sum of no. % str."
   ]
  },
  {
   "cell_type": "code",
   "execution_count": 41,
   "id": "4e8e094c-8099-4ac4-881d-0edfd4a18200",
   "metadata": {},
   "outputs": [
    {
     "data": {
      "text/plain": [
       "5"
      ]
     },
     "execution_count": 41,
     "metadata": {},
     "output_type": "execute_result"
    }
   ],
   "source": [
    "# count() occurence of no. in a list\n",
    "\n",
    "list = [1,2,3,4,1,1,1,6,7,8,1]\n",
    "list.count(1)"
   ]
  },
  {
   "cell_type": "code",
   "execution_count": 43,
   "id": "f542871c-a240-42e6-a6f5-b2b2335c8f3f",
   "metadata": {},
   "outputs": [
    {
     "name": "stdout",
     "output_type": "stream",
     "text": [
      "9\n"
     ]
    }
   ],
   "source": [
    "# len()\n",
    "list = [1,2,3,4,5,6,7,8,9]\n",
    "print(len(list))"
   ]
  },
  {
   "cell_type": "code",
   "execution_count": 44,
   "id": "176f85e5-8545-4273-9574-4081b720dbae",
   "metadata": {},
   "outputs": [],
   "source": [
    "# # a list of 10 number find average\n",
    "# 1. sum\n",
    "# 2. len//2\n"
   ]
  },
  {
   "cell_type": "code",
   "execution_count": 8,
   "id": "0868831e-6f22-419d-a7a8-62726350c71b",
   "metadata": {},
   "outputs": [
    {
     "name": "stdout",
     "output_type": "stream",
     "text": [
      "[1, 2, 3, 4]\n"
     ]
    }
   ],
   "source": [
    "l1 = [1,2,3,4]\n",
    "print(l1)"
   ]
  },
  {
   "cell_type": "code",
   "execution_count": 9,
   "id": "dd5f9460-b9c1-48f9-96be-f5811f054807",
   "metadata": {},
   "outputs": [
    {
     "name": "stdout",
     "output_type": "stream",
     "text": [
      "2.5\n"
     ]
    }
   ],
   "source": [
    "print(sum(l1)/len(l1))"
   ]
  },
  {
   "cell_type": "code",
   "execution_count": null,
   "id": "d2e3ff03-bf95-4a80-8712-887887f37416",
   "metadata": {},
   "outputs": [],
   "source": []
  },
  {
   "cell_type": "code",
   "execution_count": null,
   "id": "0e5040ae-5633-480d-bdc3-1726fc33931c",
   "metadata": {},
   "outputs": [],
   "source": []
  },
  {
   "cell_type": "code",
   "execution_count": 19,
   "id": "b95cef3a-90be-40a3-bdd2-92f509b0382c",
   "metadata": {},
   "outputs": [
    {
     "name": "stdout",
     "output_type": "stream",
     "text": [
      "2\n"
     ]
    },
    {
     "ename": "AttributeError",
     "evalue": "'list' object has no attribute 'min'",
     "output_type": "error",
     "traceback": [
      "\u001b[1;31m---------------------------------------------------------------------------\u001b[0m",
      "\u001b[1;31mAttributeError\u001b[0m                            Traceback (most recent call last)",
      "Cell \u001b[1;32mIn[19], line 5\u001b[0m\n\u001b[0;32m      3\u001b[0m l2 \u001b[38;5;241m=\u001b[39m [\u001b[38;5;241m1\u001b[39m,\u001b[38;5;241m2\u001b[39m,\u001b[38;5;241m3\u001b[39m,\u001b[38;5;241m1\u001b[39m,\u001b[38;5;241m2\u001b[39m,\u001b[38;5;241m1\u001b[39m,\u001b[38;5;241m2\u001b[39m,\u001b[38;5;241m3\u001b[39m,\u001b[38;5;241m2\u001b[39m,\u001b[38;5;241m1\u001b[39m]\n\u001b[0;32m      4\u001b[0m \u001b[38;5;28mprint\u001b[39m(l2\u001b[38;5;241m.\u001b[39mindex(\u001b[38;5;241m3\u001b[39m))\n\u001b[1;32m----> 5\u001b[0m \u001b[38;5;28mprint\u001b[39m(\u001b[43ml2\u001b[49m\u001b[38;5;241;43m.\u001b[39;49m\u001b[43mmin\u001b[49m())\n",
      "\u001b[1;31mAttributeError\u001b[0m: 'list' object has no attribute 'min'"
     ]
    }
   ],
   "source": [
    "# index = it is used to find the first occurence index\n",
    "\n",
    "l2 = [1,2,3,1,2,1,2,3,2,1]\n",
    "print(l2.index(3))\n"
   ]
  },
  {
   "cell_type": "code",
   "execution_count": 20,
   "id": "05da3504-936d-4d5b-b4f4-6a9628906bf5",
   "metadata": {},
   "outputs": [],
   "source": [
    "# min(iterable, *iterables, key)\n",
    "\n",
    "# iterable = jo iterate ho ske\n",
    "# eatable = jo eat ho ske"
   ]
  },
  {
   "cell_type": "code",
   "execution_count": 21,
   "id": "f59c3a71-ceef-44a2-b7f5-f35f29fba037",
   "metadata": {},
   "outputs": [],
   "source": [
    "# similarly max"
   ]
  },
  {
   "cell_type": "code",
   "execution_count": 25,
   "id": "406c05af-aaea-49b6-8ce5-a3edeb1e0ad5",
   "metadata": {},
   "outputs": [
    {
     "name": "stdout",
     "output_type": "stream",
     "text": [
      "1\n",
      "5\n"
     ]
    }
   ],
   "source": [
    "number = [1,2,3,4,5]\n",
    "print(min(numbers))\n",
    "\n",
    "\n",
    "numbers = [1,2,3,4,5]\n",
    "print(max(numbers))\n",
    "\n"
   ]
  },
  {
   "cell_type": "code",
   "execution_count": 51,
   "id": "867ef245-b7c6-4777-a95f-51c67926f7af",
   "metadata": {},
   "outputs": [
    {
     "name": "stdout",
     "output_type": "stream",
     "text": [
      "max: 5 \n",
      "min: 1 \n",
      "range: 4 \n"
     ]
    }
   ],
   "source": [
    "# range max - min\n",
    "\n",
    "list = [3,5,4,1,5]\n",
    "\n",
    "a = max(list)\n",
    "b = min(list)\n",
    "print(f\"max: {a} \")\n",
    "print(f\"min: {b} \")\n",
    "\n",
    "r = a - b\n",
    "print(f\"range: {r} \")"
   ]
  },
  {
   "cell_type": "code",
   "execution_count": 44,
   "id": "af47f13f-6948-47f2-b826-c8fb10d85594",
   "metadata": {},
   "outputs": [
    {
     "name": "stdout",
     "output_type": "stream",
     "text": [
      "5\n",
      "1\n",
      "4\n"
     ]
    }
   ],
   "source": []
  },
  {
   "cell_type": "code",
   "execution_count": 29,
   "id": "8a7ccaa6-b52e-4f69-bde3-0003c9a0712f",
   "metadata": {},
   "outputs": [
    {
     "name": "stdout",
     "output_type": "stream",
     "text": [
      "[1, 2, 3, 6, 7, 8, 9]\n"
     ]
    }
   ],
   "source": [
    "number = [7,3,6,1,2,8,9]\n",
    "number.sort()\n",
    "print(number)"
   ]
  },
  {
   "cell_type": "code",
   "execution_count": 32,
   "id": "c42bb034-5120-4537-9f98-d33bc70bb483",
   "metadata": {},
   "outputs": [
    {
     "name": "stdout",
     "output_type": "stream",
     "text": [
      "[9, 8, 7, 6, 3, 2, 1]\n"
     ]
    }
   ],
   "source": [
    "number = [7,3,6,1,2,8,9]\n",
    "number.sort(reverse = True)\n",
    "print(number)"
   ]
  },
  {
   "cell_type": "code",
   "execution_count": 33,
   "id": "f08043b0-7026-4553-b78d-07efdf59e9c4",
   "metadata": {},
   "outputs": [
    {
     "name": "stdout",
     "output_type": "stream",
     "text": [
      "[9, 8, 2, 1, 6, 3, 7]\n"
     ]
    }
   ],
   "source": [
    "list = [7,3,6,1,2,8,9]\n",
    "list.reverse()\n",
    "print(list)"
   ]
  },
  {
   "cell_type": "code",
   "execution_count": null,
   "id": "ff28d300-7864-43aa-b92f-060a22f1bfc0",
   "metadata": {},
   "outputs": [],
   "source": []
  },
  {
   "cell_type": "code",
   "execution_count": null,
   "id": "a7fd61c5-784a-4224-91d7-c3e388b2a025",
   "metadata": {},
   "outputs": [],
   "source": []
  },
  {
   "cell_type": "code",
   "execution_count": null,
   "id": "e682264b-ce96-4255-9b85-6ecc65acdafe",
   "metadata": {},
   "outputs": [],
   "source": []
  },
  {
   "cell_type": "code",
   "execution_count": null,
   "id": "89a0c500-e523-420f-b514-c42dc114a313",
   "metadata": {},
   "outputs": [],
   "source": []
  },
  {
   "cell_type": "code",
   "execution_count": 34,
   "id": "0949515c-c5a9-46ae-8052-6330643506cd",
   "metadata": {},
   "outputs": [],
   "source": [
    "# deletion of list elements\n",
    "# pop\n",
    "# del"
   ]
  },
  {
   "cell_type": "code",
   "execution_count": 36,
   "id": "6ac49849-32b2-4edd-88b0-d0b5fda0d7c0",
   "metadata": {},
   "outputs": [
    {
     "name": "stdout",
     "output_type": "stream",
     "text": [
      "[7, 6, 1, 2, 8, 9]\n"
     ]
    }
   ],
   "source": [
    "# syntax list.pop(index)\n",
    "\n",
    "list = [7,3,6,1,2,8,9]\n",
    "list.pop(1)\n",
    "print(list)"
   ]
  },
  {
   "cell_type": "code",
   "execution_count": 40,
   "id": "f1135f60-10a6-45ee-b0aa-53c78b751621",
   "metadata": {},
   "outputs": [],
   "source": [
    "# del list[index]"
   ]
  },
  {
   "cell_type": "code",
   "execution_count": 41,
   "id": "25be8ff9-51e0-4ce0-9dc3-d2a157cb2372",
   "metadata": {},
   "outputs": [
    {
     "name": "stdout",
     "output_type": "stream",
     "text": [
      "[3, 4, 5]\n"
     ]
    }
   ],
   "source": [
    "list = [2,3,4,5]\n",
    "del list[0]\n",
    "print(list)\n"
   ]
  },
  {
   "cell_type": "code",
   "execution_count": null,
   "id": "2485b892-1485-45c0-8844-f9b531b51478",
   "metadata": {},
   "outputs": [],
   "source": []
  },
  {
   "cell_type": "code",
   "execution_count": 53,
   "id": "e715a9bd-c553-4899-9482-2113abd01ec1",
   "metadata": {},
   "outputs": [
    {
     "name": "stdout",
     "output_type": "stream",
     "text": [
      "[2, 4, 4, 5, 6]\n"
     ]
    }
   ],
   "source": [
    "# remove()\n",
    "# remove variables by their names.\n",
    "\n",
    "list = [2,3,4,4,5,6]\n",
    "list.remove(3)\n",
    "print(list)"
   ]
  },
  {
   "cell_type": "code",
   "execution_count": null,
   "id": "b1065666-29bf-4a30-9ed8-e412f3e15d5e",
   "metadata": {},
   "outputs": [],
   "source": []
  }
 ],
 "metadata": {
  "kernelspec": {
   "display_name": "Python 3 (ipykernel)",
   "language": "python",
   "name": "python3"
  },
  "language_info": {
   "codemirror_mode": {
    "name": "ipython",
    "version": 3
   },
   "file_extension": ".py",
   "mimetype": "text/x-python",
   "name": "python",
   "nbconvert_exporter": "python",
   "pygments_lexer": "ipython3",
   "version": "3.11.4"
  }
 },
 "nbformat": 4,
 "nbformat_minor": 5
}
