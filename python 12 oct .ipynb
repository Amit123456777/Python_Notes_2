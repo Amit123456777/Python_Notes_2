{
 "cells": [
  {
   "cell_type": "code",
   "execution_count": 2,
   "id": "8f9a35e6",
   "metadata": {},
   "outputs": [
    {
     "name": "stdout",
     "output_type": "stream",
     "text": [
      "ford\n",
      "audi\n",
      "maruti\n"
     ]
    }
   ],
   "source": [
    "cars = [\"ford\",\"audi\",\"maruti\"]\n",
    "for i in cars:\n",
    "    print(i)"
   ]
  },
  {
   "cell_type": "code",
   "execution_count": 3,
   "id": "dafe124f",
   "metadata": {},
   "outputs": [
    {
     "name": "stdout",
     "output_type": "stream",
     "text": [
      "D\n",
      "a\n",
      "t\n",
      "a\n",
      "S\n",
      "c\n",
      "i\n",
      "e\n",
      "n\n",
      "c\n",
      "e\n"
     ]
    }
   ],
   "source": [
    "# looping through a string\n",
    "for i in \"DataScience\":\n",
    "    print(i)"
   ]
  },
  {
   "cell_type": "code",
   "execution_count": 4,
   "id": "78fc7956",
   "metadata": {},
   "outputs": [
    {
     "name": "stdout",
     "output_type": "stream",
     "text": [
      "ford\n"
     ]
    }
   ],
   "source": [
    "cars = ['ford','audi','maruti']\n",
    "for i in cars:\n",
    "    if(i==\"audi\"):\n",
    "        break\n",
    "    print(i)"
   ]
  },
  {
   "cell_type": "code",
   "execution_count": null,
   "id": "1bacdcaf",
   "metadata": {},
   "outputs": [],
   "source": []
  },
  {
   "cell_type": "code",
   "execution_count": 19,
   "id": "7b619a3b",
   "metadata": {},
   "outputs": [
    {
     "name": "stdout",
     "output_type": "stream",
     "text": [
      "ford\n",
      "audi\n"
     ]
    }
   ],
   "source": [
    "cars = ['ford','audi','maruti']\n",
    "for i in cars:\n",
    "    print(i) # agar print(i) if se pehle hai to break wala bi print hoga\n",
    "    if(i=='audi'):   # agar print(i) if se pehle hai to break wa print ni hoga\n",
    "        break"
   ]
  },
  {
   "cell_type": "code",
   "execution_count": 29,
   "id": "4459cc6d",
   "metadata": {},
   "outputs": [
    {
     "name": "stdout",
     "output_type": "stream",
     "text": [
      "ford\n",
      "maruti\n"
     ]
    }
   ],
   "source": [
    "cars = ['ford','audi','maruti']\n",
    "for i in cars:\n",
    "    \n",
    "    if(i=='audi'):\n",
    "        continue\n",
    "    print(i) \n",
    "    \n",
    "        "
   ]
  },
  {
   "cell_type": "code",
   "execution_count": 30,
   "id": "96046c19",
   "metadata": {},
   "outputs": [],
   "source": [
    "# range function   # range function: to loop through a set of code a specified number of times, we can use the range() function,\n",
    "# the range() function returns a sequence of numbers, starting from 0 by default, and increnets by 1 (by defaul), and at a \n",
    "# specific"
   ]
  },
  {
   "cell_type": "code",
   "execution_count": 31,
   "id": "012601a0",
   "metadata": {},
   "outputs": [
    {
     "name": "stdout",
     "output_type": "stream",
     "text": [
      "0\n",
      "1\n",
      "2\n",
      "3\n",
      "4\n",
      "5\n"
     ]
    }
   ],
   "source": [
    "for i in range(6):\n",
    "    print(i)"
   ]
  },
  {
   "cell_type": "code",
   "execution_count": 32,
   "id": "a9b3a1aa",
   "metadata": {
    "scrolled": true
   },
   "outputs": [
    {
     "name": "stdout",
     "output_type": "stream",
     "text": [
      "2\n",
      "3\n",
      "4\n",
      "5\n"
     ]
    }
   ],
   "source": [
    "for i in range(2,6):\n",
    "    print(i)"
   ]
  },
  {
   "cell_type": "code",
   "execution_count": 33,
   "id": "a62d6514",
   "metadata": {},
   "outputs": [
    {
     "name": "stdout",
     "output_type": "stream",
     "text": [
      "2\n",
      "5\n",
      "8\n",
      "11\n",
      "14\n",
      "17\n",
      "20\n",
      "23\n",
      "26\n",
      "29\n"
     ]
    }
   ],
   "source": [
    "for i in range(2,30,3):\n",
    "    print(i)"
   ]
  },
  {
   "cell_type": "code",
   "execution_count": 34,
   "id": "4f10601b",
   "metadata": {},
   "outputs": [],
   "source": [
    "# else keyword "
   ]
  },
  {
   "cell_type": "code",
   "execution_count": 25,
   "id": "d977c073",
   "metadata": {},
   "outputs": [
    {
     "name": "stdout",
     "output_type": "stream",
     "text": [
      "0\n",
      "1\n",
      "2\n",
      "3\n",
      "4\n",
      "5\n",
      "finally, finished\n"
     ]
    }
   ],
   "source": [
    "for x in range(6):\n",
    "    print(x)\n",
    "else:\n",
    "    print(\"finally, finished\")"
   ]
  },
  {
   "cell_type": "code",
   "execution_count": 28,
   "id": "27b0a74f",
   "metadata": {},
   "outputs": [
    {
     "name": "stdout",
     "output_type": "stream",
     "text": [
      "0\n",
      "1\n",
      "2\n"
     ]
    }
   ],
   "source": [
    "for x in range(6):\n",
    "    if x == 3:\n",
    "        break\n",
    "    print(x)\n",
    "else:\n",
    "    print(\"finally,finished\")"
   ]
  },
  {
   "cell_type": "code",
   "execution_count": null,
   "id": "98fd4e89",
   "metadata": {},
   "outputs": [],
   "source": []
  }
 ],
 "metadata": {
  "kernelspec": {
   "display_name": "Python 3 (ipykernel)",
   "language": "python",
   "name": "python3"
  },
  "language_info": {
   "codemirror_mode": {
    "name": "ipython",
    "version": 3
   },
   "file_extension": ".py",
   "mimetype": "text/x-python",
   "name": "python",
   "nbconvert_exporter": "python",
   "pygments_lexer": "ipython3",
   "version": "3.11.4"
  }
 },
 "nbformat": 4,
 "nbformat_minor": 5
}
