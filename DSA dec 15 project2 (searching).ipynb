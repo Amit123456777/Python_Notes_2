{
 "cells": [
  {
   "cell_type": "code",
   "execution_count": 2,
   "id": "c5dab14f",
   "metadata": {},
   "outputs": [
    {
     "data": {
      "text/plain": [
       "6"
      ]
     },
     "execution_count": 2,
     "metadata": {},
     "output_type": "execute_result"
    }
   ],
   "source": [
    "# LINEAR SEARCH\n",
    "import array \n",
    "from array import *\n",
    "\n",
    "def linear_search(arr,item):\n",
    "    for i in range(len(arr)):\n",
    "        if arr[i] == item:  # arr[i] = arr[1] = 13 it means i is index\n",
    "            return i\n",
    "    return -1\n",
    "arr1 = array('i',[12,13,14,12,65,87,80])\n",
    "linear_search(arr1, 80)"
   ]
  },
  {
   "cell_type": "code",
   "execution_count": 3,
   "id": "b5f35683",
   "metadata": {},
   "outputs": [],
   "source": [
    "# Time Complexity is O(n)\n",
    "# No sorting required (becoz of brute force)"
   ]
  },
  {
   "cell_type": "code",
   "execution_count": null,
   "id": "1e28e441",
   "metadata": {},
   "outputs": [],
   "source": [
    "# campusX youtube\n",
    "\n",
    "# linear search\n",
    "# base on the funda of brute force\n",
    "# brute forcing mtlb hr chez se camparision.\n",
    "# so linear search is extremely slow."
   ]
  },
  {
   "cell_type": "code",
   "execution_count": 5,
   "id": "5e499a90",
   "metadata": {},
   "outputs": [],
   "source": [
    "# BINARY SEARCH\n",
    "\n",
    "# sorted array required"
   ]
  },
  {
   "cell_type": "code",
   "execution_count": 31,
   "id": "706b6e35-58a8-4e1c-944c-50f2da8234f1",
   "metadata": {},
   "outputs": [
    {
     "data": {
      "text/plain": [
       "8"
      ]
     },
     "execution_count": 31,
     "metadata": {},
     "output_type": "execute_result"
    }
   ],
   "source": [
    "import array\n",
    "from array import *\n",
    "\n",
    "def binary_search(arr, low, high, item):\n",
    "    if low<= high:       # if low index< high index\n",
    "        # search\n",
    "        mid = (low + high)//2\n",
    "        if arr[mid] == item:\n",
    "            return mid\n",
    "        elif arr[mid] > item:\n",
    "            return binary_search(arr,low,mid-1,item)\n",
    "        else:\n",
    "            return binary_search(arr,mid+1,high,item)\n",
    "    else:\n",
    "        return -1\n",
    "arr1 = array('i',[12,24,35,46,57,68,88,99,100])\n",
    "binary_search(arr1, 0, len(arr1)-1,100)"
   ]
  },
  {
   "cell_type": "code",
   "execution_count": null,
   "id": "ed4d9115-30a4-4961-b204-71b8bb9a7d0f",
   "metadata": {},
   "outputs": [],
   "source": []
  },
  {
   "cell_type": "code",
   "execution_count": 33,
   "id": "d3c49dd8-e687-4adb-94be-40667c9e9fbe",
   "metadata": {},
   "outputs": [
    {
     "name": "stdout",
     "output_type": "stream",
     "text": [
      "low =  0 high =  8 mid value is 57\n",
      "low =  5 high =  8 mid value is 88\n",
      "low =  7 high =  8 mid value is 99\n",
      "low =  8 high =  8 mid value is 100\n"
     ]
    },
    {
     "data": {
      "text/plain": [
       "8"
      ]
     },
     "execution_count": 33,
     "metadata": {},
     "output_type": "execute_result"
    }
   ],
   "source": [
    "# debug mode code\n",
    "# (binary search)\n",
    "import array\n",
    "from array import *\n",
    "\n",
    "def binary_search(arr, low, high, item):\n",
    "\n",
    "    print(\"low = \", low, \"high = \", high, end=' ')\n",
    "    if low<= high:       # if low index< high index\n",
    "        # search\n",
    "        \n",
    "        mid = (low + high)//2\n",
    "\n",
    "        print(\"mid value is\", arr[mid])\n",
    "        \n",
    "        if arr[mid] == item:\n",
    "            return mid\n",
    "        elif arr[mid] > item:\n",
    "            return binary_search(arr,low,mid-1,item)\n",
    "        else:\n",
    "            return binary_search(arr,mid+1,high,item)\n",
    "    else:\n",
    "        return -1\n",
    "arr1 = array('i',[12,24,35,46,57,68,88,99,100])\n",
    "binary_search(arr1, 0, len(arr1)-1,100)"
   ]
  },
  {
   "cell_type": "code",
   "execution_count": null,
   "id": "987bc350-21d1-4a55-b245-38a7a46b59a1",
   "metadata": {},
   "outputs": [],
   "source": []
  },
  {
   "cell_type": "code",
   "execution_count": 36,
   "id": "bd2092b2-fc3d-4a02-9fa4-9cb95b3bc267",
   "metadata": {},
   "outputs": [],
   "source": [
    "# more questions"
   ]
  },
  {
   "cell_type": "code",
   "execution_count": 35,
   "id": "7c7b94f9-cf86-45ed-9cd6-66ba59e68dda",
   "metadata": {},
   "outputs": [
    {
     "data": {
      "text/plain": [
       "1"
      ]
     },
     "execution_count": 35,
     "metadata": {},
     "output_type": "execute_result"
    }
   ],
   "source": [
    "# LINEAR SEARCH( find vowels in array)\n",
    "\n",
    "import array \n",
    "from array import *\n",
    "\n",
    "def linear_search(arr,item):\n",
    "    for i in range(len(arr)):\n",
    "        if arr[i] == item:\n",
    "            return i\n",
    "    return -1\n",
    "arr1 = array('u',[\"a\",\"b\",\"c\",\"d\",\"k\",\"l\",\"j\",\"m\"])\n",
    "linear_search(arr1, \"b\")"
   ]
  },
  {
   "cell_type": "code",
   "execution_count": 37,
   "id": "52600d2e-0c0a-4677-aacb-ccf12085a001",
   "metadata": {},
   "outputs": [
    {
     "name": "stdout",
     "output_type": "stream",
     "text": [
      "[1, 2, 3, 4, 5]\n"
     ]
    }
   ],
   "source": [
    "# make duplicate array with repiting values\n",
    "\n",
    "import array \n",
    "from array import *\n",
    "list = []\n",
    "def duplicate(array):\n",
    "    for x in array:\n",
    "        if x not in list:\n",
    "            list.append((x))\n",
    "    return list\n",
    "a = array('i',[1,2,2,3,4,4,5])\n",
    "duplicate(a)\n",
    "print(list)\n"
   ]
  },
  {
   "cell_type": "code",
   "execution_count": 4,
   "id": "4a15fc75-d369-46cf-9154-096817d7d85a",
   "metadata": {},
   "outputs": [
    {
     "name": "stdout",
     "output_type": "stream",
     "text": [
      "2 True\n",
      "2 True\n",
      "False\n",
      "3 True\n",
      "4 True\n",
      "False\n",
      "4 True\n",
      "[1, 2, 3, 4, 5]\n"
     ]
    }
   ],
   "source": [
    "# make duplicate array with repiting values\n",
    "\n",
    "import array \n",
    "from array import *\n",
    "list = []\n",
    "def duplicate(array):\n",
    "    for x in array:\n",
    "        if x not in list:\n",
    "            \n",
    "            print(array[x],True)\n",
    "            list.append((x))\n",
    "        else:\n",
    "            print(False)\n",
    "    return list\n",
    "a = array('i',[1,2,2,3,4,4,5])\n",
    "duplicate(a)\n",
    "print(list)\n"
   ]
  },
  {
   "cell_type": "code",
   "execution_count": null,
   "id": "e3bb67f6-86bf-4f0a-9b7f-5cfea9d26310",
   "metadata": {},
   "outputs": [],
   "source": []
  }
 ],
 "metadata": {
  "kernelspec": {
   "display_name": "Python 3 (ipykernel)",
   "language": "python",
   "name": "python3"
  },
  "language_info": {
   "codemirror_mode": {
    "name": "ipython",
    "version": 3
   },
   "file_extension": ".py",
   "mimetype": "text/x-python",
   "name": "python",
   "nbconvert_exporter": "python",
   "pygments_lexer": "ipython3",
   "version": "3.11.4"
  }
 },
 "nbformat": 4,
 "nbformat_minor": 5
}
