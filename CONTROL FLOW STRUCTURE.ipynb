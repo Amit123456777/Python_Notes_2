{
 "cells": [
  {
   "cell_type": "markdown",
   "id": "7df8320e-cf80-4bcb-99ea-022d7e99b2b8",
   "metadata": {},
   "source": [
    "# 1. IF-ELSE"
   ]
  },
  {
   "cell_type": "code",
   "execution_count": 4,
   "id": "2390613f-ee7f-4fb0-b7b3-8a3876cb00c5",
   "metadata": {},
   "outputs": [
    {
     "name": "stdout",
     "output_type": "stream",
     "text": [
      "Alexa, do not add Apples to the cart.\n"
     ]
    }
   ],
   "source": [
    "applePrice = 210\n",
    "budget = 200\n",
    "if (applePrice <= budget):   # : colon\n",
    "    print(\"Alexa, add 1kg Apples to the cart.\")\n",
    "else:\n",
    "    print(\"Alexa, do not add Apples to the cart.\")"
   ]
  },
  {
   "cell_type": "markdown",
   "id": "42c5b43c-3786-432c-affd-913aec5b6d44",
   "metadata": {},
   "source": [
    "# 2. elif statements"
   ]
  },
  {
   "cell_type": "code",
   "execution_count": 8,
   "id": "d66612b8-3745-4dfa-bf3e-decf20477315",
   "metadata": {},
   "outputs": [
    {
     "name": "stdout",
     "output_type": "stream",
     "text": [
      "Number is Zero.\n"
     ]
    }
   ],
   "source": [
    "# example\n",
    "num = 0\n",
    "if (num<0):\n",
    "    print(\"Number is Negative.\")\n",
    "elif (num ==0):\n",
    "    print(\"Number is Zero.\")\n",
    "else:\n",
    "    print(\"Number is Positive.\")\n",
    "\n"
   ]
  },
  {
   "cell_type": "code",
   "execution_count": 9,
   "id": "ea039468-d9f0-42aa-8062-d66c2460a1fb",
   "metadata": {},
   "outputs": [],
   "source": [
    "# if condition:\n",
    "    # code block to execute if condition is true\n",
    "# else:\n",
    "    # code block to execute if condition is false\n"
   ]
  },
  {
   "cell_type": "markdown",
   "id": "18fa066f-9802-4123-8951-0a78b0a625a4",
   "metadata": {},
   "source": [
    "# Nested if Statements"
   ]
  },
  {
   "cell_type": "code",
   "execution_count": 10,
   "id": "f16af49e-c02e-431e-96af-c3efe16ef920",
   "metadata": {},
   "outputs": [
    {
     "name": "stdout",
     "output_type": "stream",
     "text": [
      "Number is between 11-20\n"
     ]
    }
   ],
   "source": [
    "num = 18\n",
    "if (num < 0):\n",
    "    print(\"Number is negative\")\n",
    "elif (num>0):\n",
    "    if (num <=10):\n",
    "        print(\"Number is between 1-10\")\n",
    "    elif (num > 10 and num <= 20):\n",
    "        print(\"Number is between 11-20\")\n",
    "    else:\n",
    "        print(\"number is greater than 20\")\n",
    "else:\n",
    "    print(\"Number is Zero\")\n",
    "    \n",
    "\n",
    "        "
   ]
  },
  {
   "cell_type": "markdown",
   "id": "82e49a15-d925-4fa5-9832-50add9e57e2f",
   "metadata": {},
   "source": [
    "# MOST IMPORTANT QUESTIONS OF IF, ELIF & ELSE."
   ]
  },
  {
   "cell_type": "code",
   "execution_count": 12,
   "id": "d2acfe9e-df37-42f8-bd55-432b3408cbde",
   "metadata": {},
   "outputs": [
    {
     "name": "stdout",
     "output_type": "stream",
     "text": [
      "NO\n"
     ]
    }
   ],
   "source": [
    "# 1. IF ELSE\n",
    "word = \"a\"\n",
    "if word == \"a\":\n",
    "    print(\"Yes, the word is equal to a\")\n",
    "else:\n",
    "    print(\"NO\")\n"
   ]
  },
  {
   "cell_type": "code",
   "execution_count": 16,
   "id": "d6a899a3-9d76-4d12-ad1a-ef59739e760e",
   "metadata": {},
   "outputs": [
    {
     "name": "stdin",
     "output_type": "stream",
     "text": [
      "enter the number:  10\n"
     ]
    },
    {
     "name": "stdout",
     "output_type": "stream",
     "text": [
      "number is greater than 5\n"
     ]
    }
   ],
   "source": [
    "# if elif else\n",
    "# 2. write a program to calculate the number is greater than, equal to or less than to the given input.\n",
    "\n",
    "num = int(input(\"enter the number: \"))\n",
    "if num > 5:\n",
    "    print(\"number is greater than 5\")\n",
    "elif num == 5:\n",
    "    print(\"number is equal to 5\")\n",
    "else:\n",
    "    print(\"number is less than 5\")"
   ]
  },
  {
   "cell_type": "code",
   "execution_count": 20,
   "id": "b40ec5a9-9dd2-48d9-a6e1-3a30c462efa6",
   "metadata": {},
   "outputs": [
    {
     "name": "stdin",
     "output_type": "stream",
     "text": [
      "enter your pocket money:  1000\n"
     ]
    },
    {
     "name": "stdout",
     "output_type": "stream",
     "text": [
      "pizza\n",
      "pizza + burger\n",
      "pizza + burger + coldrink\n"
     ]
    }
   ],
   "source": [
    "# nested if question\n",
    "# 3. write a program that determines food choices based on pocket money.\n",
    "\n",
    "pocketMoney = int(input(\"enter your pocket money: \"))\n",
    "if pocketMoney > 400:\n",
    "    print(\"pizza\")\n",
    "    if pocketMoney > 500:\n",
    "        print(\"pizza + burger\")\n",
    "        if pocketMoney > 700:\n",
    "            print(\"pizza + burger + coldrink\")\n",
    "elif (pocketMoney > 200) and (pocketMoney < 400):\n",
    "    print(\"pizza only\")\n",
    "else:\n",
    "    print(\"burger only\")"
   ]
  },
  {
   "cell_type": "code",
   "execution_count": 23,
   "id": "68f43e2c-31e7-4c18-bc3f-c1443ea7ce08",
   "metadata": {},
   "outputs": [
    {
     "name": "stdout",
     "output_type": "stream",
     "text": [
      "can vote\n"
     ]
    }
   ],
   "source": [
    "# 4 write a python program to show that the person can vote or not.\n",
    "\n",
    "age = 19\n",
    "if age>18:\n",
    "    print(\"can vote\")\n",
    "else:\n",
    "    print(\"can not vote\")"
   ]
  },
  {
   "cell_type": "code",
   "execution_count": 27,
   "id": "bc2b8ec9-34c4-45e7-97c5-3bb22ef1d937",
   "metadata": {},
   "outputs": [
    {
     "name": "stdin",
     "output_type": "stream",
     "text": [
      "enter the number:  100\n"
     ]
    },
    {
     "name": "stdout",
     "output_type": "stream",
     "text": [
      "number is even\n"
     ]
    }
   ],
   "source": [
    "# 5. taking input from user and show the number is even or odd.\n",
    "\n",
    "num = int(input(\"enter the number: \"))\n",
    "if num %2==0:\n",
    "    print(\"number is even\")\n",
    "elif num%2!=0:\n",
    "    print(\"number is odd\")\n",
    "else:\n",
    "    print(\"INVALID OPERATOR\")"
   ]
  },
  {
   "cell_type": "code",
   "execution_count": 29,
   "id": "c7a55bbf-6dae-4f1a-905f-58d1cf8744ff",
   "metadata": {},
   "outputs": [
    {
     "name": "stdin",
     "output_type": "stream",
     "text": [
      "enter the value of a 100\n",
      "enter the value of b 50\n"
     ]
    },
    {
     "name": "stdout",
     "output_type": "stream",
     "text": [
      "a is greater than b:  100\n"
     ]
    }
   ],
   "source": [
    "# 6. find the maximum of two numbers.\n",
    "# if a> b ( print a) and if n is a< b then print b is greater\n",
    "\n",
    "a = int(input(\"enter the value of a\"))\n",
    "b = int(input(\"enter the value of b\"))\n",
    "if a>b:\n",
    "    print(\"a is greater than b: \", a)\n",
    "else:\n",
    "    print(\"b is greater than a:\", b)"
   ]
  },
  {
   "cell_type": "markdown",
   "id": "94d1d12c-6d38-415e-8375-05fd1b21e3e5",
   "metadata": {},
   "source": [
    "# 7 basic calculator"
   ]
  },
  {
   "cell_type": "code",
   "execution_count": 32,
   "id": "a9eff0e1-ebcb-4349-a6bb-40503918144d",
   "metadata": {},
   "outputs": [
    {
     "name": "stdin",
     "output_type": "stream",
     "text": [
      "enter the first number:  8\n",
      "enter the second number: 4\n"
     ]
    },
    {
     "name": "stdout",
     "output_type": "stream",
     "text": [
      "---Press keys for operator (+, -, *, /, %, //, **)----\n"
     ]
    },
    {
     "name": "stdin",
     "output_type": "stream",
     "text": [
      "Enter the operator :  -\n"
     ]
    },
    {
     "name": "stdout",
     "output_type": "stream",
     "text": [
      "4\n"
     ]
    }
   ],
   "source": [
    "# write a basic calculator application program using python.\n",
    "\n",
    "first = input(\"enter the first number: \" )\n",
    "second = input(\"enter the second number:\")\n",
    "first = int(first)\n",
    "second = int(second)\n",
    "\n",
    "print(\"---Press keys for operator (+, -, *, /, %, //, **)----\")\n",
    "operator = input(\"Enter the operator : \")\n",
    "\n",
    "if operator == '+':\n",
    "    print(first + second)\n",
    "elif operator == '-':\n",
    "    print(first - second)\n",
    "elif operator == '*':\n",
    "    print(first * second)\n",
    "elif operator == '/':\n",
    "    print(first / second)\n",
    "elif operator == '%':\n",
    "    print(first % second)\n",
    "elif operator == '//':\n",
    "    print(first // second)\n",
    "elif operator == '**':\n",
    "    print(first ** second)\n",
    "else:\n",
    "    print(\"INVALID OPERATOR\")\n"
   ]
  },
  {
   "cell_type": "code",
   "execution_count": 37,
   "id": "5777e658-67e9-4a60-9049-7b1e519a70f3",
   "metadata": {},
   "outputs": [
    {
     "name": "stdin",
     "output_type": "stream",
     "text": [
      "Enter the weather condition:  rainy\n"
     ]
    },
    {
     "name": "stdout",
     "output_type": "stream",
     "text": [
      "Wear a raincoat\n"
     ]
    }
   ],
   "source": [
    "# 8 \n",
    "# WRITE A PYTHON PROGRAM THAT PRINT SOMETHING ACCORDING TO THE GIVEN WEATHER.\n",
    "\n",
    "weather = input(\"Enter the weather condition: \").lower()\n",
    "if weather == \"rainy\":\n",
    "    print(\"Wear a raincoat\")\n",
    "elif weather== \"sunny\":\n",
    "    print(\"Wear sunscream and sunglass\")\n",
    "else:\n",
    "    print(\"Wear appropriate clothing for the weather.\")\n"
   ]
  },
  {
   "cell_type": "markdown",
   "id": "560070c4-4262-45df-82a4-2a7ec3d21f70",
   "metadata": {},
   "source": [
    "# 9. Grade calculator and classifier."
   ]
  },
  {
   "cell_type": "code",
   "execution_count": 38,
   "id": "bb6ee670-a3dc-406f-9d8d-27c77b5d59f2",
   "metadata": {},
   "outputs": [],
   "source": [
    "# calculate the percentage, and then assigns a grade based on the percentage obtained."
   ]
  },
  {
   "cell_type": "code",
   "execution_count": 40,
   "id": "c53181bb-2446-4ea3-a539-def2a58a8ab0",
   "metadata": {},
   "outputs": [
    {
     "name": "stdin",
     "output_type": "stream",
     "text": [
      "marks a:  99\n",
      "marks b:  98\n",
      "marks c:  97\n",
      "marks d:  96\n",
      "marks e:  95\n"
     ]
    },
    {
     "name": "stdout",
     "output_type": "stream",
     "text": [
      "97.0\n",
      "A+\n"
     ]
    }
   ],
   "source": [
    "# logical building question for if, elif and else\n",
    "a = float(input(\"marks a: \"))\n",
    "b = float(input(\"marks b: \"))\n",
    "c = float(input(\"marks c: \"))\n",
    "d = float(input(\"marks d: \"))\n",
    "e = float(input(\"marks e: \"))\n",
    "\n",
    "percentage = (a+b+c+d+e) / 500 * 100\n",
    "print(percentage)\n",
    "\n",
    "if percentage > 95:\n",
    "    print('A+')\n",
    "elif percentage > 90:\n",
    "    print('A')\n",
    "elif percentage > 80:\n",
    "    print('B+')\n",
    "elif percentage > 70:\n",
    "    print('B')\n",
    "elif percentage > 50:\n",
    "    print('C+')\n",
    "elif percentage > 40:\n",
    "    print('C')\n",
    "elif percentage > 33:\n",
    "    print('F')\n",
    "else:\n",
    "    print(\"INVALID INPUT\")   "
   ]
  },
  {
   "cell_type": "markdown",
   "id": "4e50a115-7896-4289-8006-9eeef1fe0ed6",
   "metadata": {},
   "source": [
    "# LOGICAL OPERATORS"
   ]
  },
  {
   "cell_type": "code",
   "execution_count": 41,
   "id": "0ef8fb22-467e-461e-be86-dd47b2882013",
   "metadata": {},
   "outputs": [
    {
     "name": "stdout",
     "output_type": "stream",
     "text": [
      "True\n"
     ]
    }
   ],
   "source": [
    "# AND \n",
    "x = 5\n",
    "print(x>3 and x<100)"
   ]
  },
  {
   "cell_type": "code",
   "execution_count": 43,
   "id": "4137a2c3-99d2-4660-b5b2-4ddf048d514b",
   "metadata": {},
   "outputs": [
    {
     "name": "stdout",
     "output_type": "stream",
     "text": [
      "True\n"
     ]
    }
   ],
   "source": [
    "# or\n",
    "x = 5\n",
    "print(x > 30 or x< 40)"
   ]
  },
  {
   "cell_type": "code",
   "execution_count": 44,
   "id": "9007f20f-c5dc-45a6-94fe-910292cb5358",
   "metadata": {},
   "outputs": [
    {
     "name": "stdout",
     "output_type": "stream",
     "text": [
      "False\n"
     ]
    }
   ],
   "source": [
    "# not\n",
    "x = 5\n",
    "print(not(x> 3 and x < 10))"
   ]
  },
  {
   "cell_type": "code",
   "execution_count": null,
   "id": "54270b16-2373-405f-b46f-ae63a597a79b",
   "metadata": {},
   "outputs": [],
   "source": []
  },
  {
   "cell_type": "markdown",
   "id": "751067b9-64b1-4a47-9a0f-66812219c915",
   "metadata": {},
   "source": [
    "# LOOPS"
   ]
  },
  {
   "cell_type": "code",
   "execution_count": 45,
   "id": "b8fcd210-39ea-4330-829f-312b34cadeef",
   "metadata": {},
   "outputs": [
    {
     "name": "stdout",
     "output_type": "stream",
     "text": [
      "h\n",
      "e\n",
      "l\n",
      "l\n",
      "o\n",
      " \n",
      "w\n",
      "o\n",
      "r\n",
      "l\n",
      "d\n"
     ]
    }
   ],
   "source": [
    "# for loop\n",
    "\n",
    "name = 'hello world'\n",
    "for i in name:\n",
    "    print(i)"
   ]
  },
  {
   "cell_type": "code",
   "execution_count": 46,
   "id": "48b4adf6-4979-4d55-ada8-02c3e23d9688",
   "metadata": {},
   "outputs": [
    {
     "name": "stdout",
     "output_type": "stream",
     "text": [
      "Red\n",
      "Green\n",
      "Blue\n",
      "Yellow\n"
     ]
    }
   ],
   "source": [
    "# example\n",
    "# iteration over a list:\n",
    "\n",
    "colors = ['Red', 'Green', 'Blue', 'Yellow']\n",
    "for x in colors:\n",
    "    print(x)"
   ]
  },
  {
   "cell_type": "code",
   "execution_count": 47,
   "id": "7f99d86c-5567-4fff-b7e0-d88c34dc2e9b",
   "metadata": {},
   "outputs": [
    {
     "name": "stdout",
     "output_type": "stream",
     "text": [
      "0\n",
      "1\n",
      "2\n",
      "3\n",
      "4\n"
     ]
    }
   ],
   "source": [
    "# range()\n",
    "\n",
    "for i in range(5):\n",
    "    print(i)"
   ]
  },
  {
   "cell_type": "code",
   "execution_count": 48,
   "id": "7bf3966f-a6c7-4d20-a873-1917bb0fe573",
   "metadata": {},
   "outputs": [
    {
     "name": "stdout",
     "output_type": "stream",
     "text": [
      "1\n",
      "2\n",
      "3\n",
      "4\n",
      "5\n",
      "6\n",
      "7\n",
      "8\n",
      "9\n",
      "10\n",
      "11\n",
      "12\n",
      "13\n",
      "14\n",
      "15\n",
      "16\n",
      "17\n",
      "18\n",
      "19\n",
      "20\n",
      "21\n",
      "22\n",
      "23\n",
      "24\n",
      "25\n",
      "26\n",
      "27\n",
      "28\n",
      "29\n",
      "30\n",
      "31\n",
      "32\n",
      "33\n",
      "34\n",
      "35\n",
      "36\n",
      "37\n",
      "38\n",
      "39\n",
      "40\n",
      "41\n",
      "42\n",
      "43\n",
      "44\n",
      "45\n",
      "46\n",
      "47\n",
      "48\n",
      "49\n",
      "50\n",
      "51\n",
      "52\n",
      "53\n",
      "54\n",
      "55\n",
      "56\n",
      "57\n",
      "58\n",
      "59\n",
      "60\n",
      "61\n",
      "62\n",
      "63\n",
      "64\n",
      "65\n",
      "66\n",
      "67\n",
      "68\n",
      "69\n",
      "70\n",
      "71\n",
      "72\n",
      "73\n",
      "74\n",
      "75\n",
      "76\n",
      "77\n",
      "78\n",
      "79\n",
      "80\n",
      "81\n",
      "82\n",
      "83\n",
      "84\n",
      "85\n",
      "86\n",
      "87\n",
      "88\n",
      "89\n",
      "90\n",
      "91\n",
      "92\n",
      "93\n",
      "94\n",
      "95\n",
      "96\n",
      "97\n",
      "98\n",
      "99\n"
     ]
    }
   ],
   "source": [
    "for i in range(1, 100): \n",
    "    print(i)\n",
    "\n",
    "# it starts from 1\n",
    "# till the 99. 100 is not include."
   ]
  },
  {
   "cell_type": "markdown",
   "id": "c3d42f4c-9b18-4285-bb4f-881cf050d828",
   "metadata": {},
   "source": [
    "# quick quiz"
   ]
  },
  {
   "cell_type": "code",
   "execution_count": 49,
   "id": "0cf54e6b-0c05-4128-a8a7-599961fb7efc",
   "metadata": {},
   "outputs": [],
   "source": [
    "# explore about parameter of range (ie range(X,Y,Z))"
   ]
  },
  {
   "cell_type": "code",
   "execution_count": 50,
   "id": "182c62a8-2866-4ab8-b0f6-c1d66e783fad",
   "metadata": {},
   "outputs": [
    {
     "name": "stdout",
     "output_type": "stream",
     "text": [
      "5\n",
      "4\n",
      "3\n",
      "2\n",
      "1\n"
     ]
    }
   ],
   "source": [
    "count = 5\n",
    "while (count > 0):\n",
    "    print(count)\n",
    "    count = count-1"
   ]
  },
  {
   "cell_type": "code",
   "execution_count": 1,
   "id": "2fec5829-3b91-4051-8a76-29be69a26614",
   "metadata": {},
   "outputs": [
    {
     "name": "stdout",
     "output_type": "stream",
     "text": [
      "0\n",
      "1\n",
      "2\n",
      "3\n",
      "4\n"
     ]
    }
   ],
   "source": [
    "count = 0\n",
    "while (count < 5):\n",
    "    print(count)\n",
    "    count +=1\n",
    "# count = count + 1"
   ]
  },
  {
   "cell_type": "code",
   "execution_count": 2,
   "id": "bf6ba987-aa26-4dd2-9912-25c697e24b4e",
   "metadata": {},
   "outputs": [
    {
     "name": "stdout",
     "output_type": "stream",
     "text": [
      "5\n",
      "4\n",
      "3\n",
      "2\n",
      "1\n",
      "Counter is 0\n"
     ]
    }
   ],
   "source": [
    "# else with while loop\n",
    "\n",
    "x = 5\n",
    "while (x>0):\n",
    "    print(x)\n",
    "    x = x - 1\n",
    "else:\n",
    "    print('Counter is 0')"
   ]
  },
  {
   "cell_type": "code",
   "execution_count": null,
   "id": "7d0e02b8-03a4-49fd-a7cd-28a85d2b3a36",
   "metadata": {},
   "outputs": [],
   "source": []
  },
  {
   "cell_type": "markdown",
   "id": "e33590f1-4294-4c76-9a25-62f1b4312bb0",
   "metadata": {},
   "source": [
    "# D0-WHILE LOOP  IN PYTHON"
   ]
  },
  {
   "cell_type": "code",
   "execution_count": 4,
   "id": "178facf5-2951-41cf-b024-1070f7b5ae84",
   "metadata": {},
   "outputs": [
    {
     "name": "stdin",
     "output_type": "stream",
     "text": [
      "Enter a positive number :  1\n"
     ]
    },
    {
     "name": "stdout",
     "output_type": "stream",
     "text": [
      "1\n"
     ]
    },
    {
     "name": "stdin",
     "output_type": "stream",
     "text": [
      "Enter a positive number :  4\n"
     ]
    },
    {
     "name": "stdout",
     "output_type": "stream",
     "text": [
      "4\n"
     ]
    },
    {
     "name": "stdin",
     "output_type": "stream",
     "text": [
      "Enter a positive number :  -1\n"
     ]
    },
    {
     "name": "stdout",
     "output_type": "stream",
     "text": [
      "-1\n"
     ]
    }
   ],
   "source": [
    "# EXAMPLE:\n",
    "while True:\n",
    "    number = int(input(\"Enter a positive number : \"))\n",
    "    print(number)\n",
    "    if not number > 0:\n",
    "        break\n",
    "    "
   ]
  },
  {
   "cell_type": "code",
   "execution_count": null,
   "id": "5dc2197d-9cc3-4317-875e-b8a1c4ab5cce",
   "metadata": {},
   "outputs": [],
   "source": []
  },
  {
   "cell_type": "markdown",
   "id": "6eac9d6e-4bf7-43a1-bafb-665f83c63a0a",
   "metadata": {},
   "source": [
    "# questions of loops"
   ]
  },
  {
   "cell_type": "code",
   "execution_count": 9,
   "id": "704cf2ed-c162-412b-9097-4592ab3e4137",
   "metadata": {},
   "outputs": [
    {
     "name": "stdout",
     "output_type": "stream",
     "text": [
      "6\n"
     ]
    }
   ],
   "source": [
    "# calculate the sum of natural numbers using for loop\n",
    "\n",
    "sum = 0\n",
    "i = 1\n",
    "for i in range(1,4):  # 4 is not include\n",
    "    sum = sum + i\n",
    "print(sum)\n",
    "\n",
    "# 1+2+3 = 6"
   ]
  },
  {
   "cell_type": "code",
   "execution_count": 12,
   "id": "af6b21ef-e997-4ce0-9ea0-0a5b77451126",
   "metadata": {},
   "outputs": [
    {
     "name": "stdout",
     "output_type": "stream",
     "text": [
      "24\n"
     ]
    }
   ],
   "source": [
    "# calculate the product of n natural numbers using loop\n",
    "# factorial question\n",
    "product = 1\n",
    "for i in range(1,5):  # 5 is not include\n",
    "    product *= i\n",
    "print(product)\n"
   ]
  },
  {
   "cell_type": "code",
   "execution_count": 17,
   "id": "0dad50c3-76a0-478a-b639-55b1660730ea",
   "metadata": {},
   "outputs": [
    {
     "name": "stdout",
     "output_type": "stream",
     "text": [
      "6\n"
     ]
    }
   ],
   "source": [
    "# calculate the sum of natural numbers using while loop\n",
    "\n",
    "i = 1\n",
    "sum = 0\n",
    "while i<=3:\n",
    "    sum = sum + i\n",
    "    i = i + 1\n",
    "print(sum)"
   ]
  },
  {
   "cell_type": "code",
   "execution_count": 1,
   "id": "cc8f46ec-e6d4-4432-89d7-eee90a36fed2",
   "metadata": {},
   "outputs": [
    {
     "name": "stdout",
     "output_type": "stream",
     "text": [
      "120\n"
     ]
    }
   ],
   "source": [
    "# calculate the product of n natural numbers/ factorial code\n",
    "\n",
    "i = 1\n",
    "product = 1\n",
    "while i<=5:\n",
    "    product = product * i\n",
    "    i += 1\n",
    "print(product)"
   ]
  },
  {
   "cell_type": "code",
   "execution_count": 3,
   "id": "36f06ed5-1df0-4716-aecc-1fb7696c2056",
   "metadata": {},
   "outputs": [
    {
     "name": "stdin",
     "output_type": "stream",
     "text": [
      "entr the number:  5\n"
     ]
    },
    {
     "name": "stdout",
     "output_type": "stream",
     "text": [
      "120\n"
     ]
    }
   ],
   "source": [
    "i = 1\n",
    "product = 1\n",
    "num = int(input(\"entr the number: \"))\n",
    "product = 1\n",
    "while i <= num:\n",
    "    product = product * i\n",
    "    i += 1\n",
    "print(product)\n",
    "    "
   ]
  },
  {
   "cell_type": "code",
   "execution_count": 4,
   "id": "86ae91f0-336c-47e7-bd6c-19baa7a961ba",
   "metadata": {},
   "outputs": [],
   "source": [
    "# explanation\n",
    "# 1*2*3*4*5= 120"
   ]
  },
  {
   "cell_type": "markdown",
   "id": "60dfa336-6173-42c0-ad9f-31644dce55bb",
   "metadata": {},
   "source": [
    "# STAR PATTERNS (INTERVIEW QUESTION)"
   ]
  },
  {
   "cell_type": "code",
   "execution_count": 5,
   "id": "6becc01a-84da-47dc-bbd4-3b1542d288ce",
   "metadata": {},
   "outputs": [],
   "source": [
    "# QUESTION 1\n",
    "\n",
    "# THIS IS SIMPLE STAR PATTERN.\n",
    "\n",
    "# *\n",
    "# **\n",
    "# ***\n",
    "# ****\n",
    "# *****"
   ]
  },
  {
   "cell_type": "code",
   "execution_count": 1,
   "id": "abf07b85-4816-470f-90ea-e93f969fc65f",
   "metadata": {},
   "outputs": [],
   "source": [
    "# i = 1\n",
    "# while i <=1000:\n",
    "#     print(i * '*')\n",
    "#     i = i + 1"
   ]
  },
  {
   "cell_type": "code",
   "execution_count": 13,
   "id": "853c7a0f-6166-4d84-b4c8-30dc82d3a072",
   "metadata": {},
   "outputs": [
    {
     "name": "stdout",
     "output_type": "stream",
     "text": [
      "hello\n",
      "hellohello\n",
      "hellohellohello\n",
      "hellohellohellohello\n",
      "hellohellohellohellohello\n"
     ]
    }
   ],
   "source": [
    "i = 1\n",
    "while i <= 5:\n",
    "    print(i * 'hello')\n",
    "    i += 1"
   ]
  },
  {
   "cell_type": "code",
   "execution_count": 14,
   "id": "7854c557-912c-42db-a795-9c1a70d990e2",
   "metadata": {},
   "outputs": [
    {
     "name": "stdout",
     "output_type": "stream",
     "text": [
      "*****\n",
      "****\n",
      "***\n",
      "**\n",
      "*\n"
     ]
    }
   ],
   "source": [
    "# QUESTION 2:\n",
    "# PRINT A TRIANGLE OF STARS, INVERTED\n",
    "\n",
    "rows = 5\n",
    "for i in range(rows, 0, -1):\n",
    "    print('*' * i)"
   ]
  },
  {
   "cell_type": "code",
   "execution_count": 16,
   "id": "83aacb0e-ccad-4617-8588-c5bd017c39b8",
   "metadata": {},
   "outputs": [
    {
     "name": "stdout",
     "output_type": "stream",
     "text": [
      "    *\n",
      "   **\n",
      "  ***\n",
      " ****\n",
      "*****\n"
     ]
    }
   ],
   "source": [
    "# question 3:\n",
    "# print a right-angled triangle of stars.\n",
    "rows = 5\n",
    "for i in range(1, rows + 1):\n",
    "    print(' ' * (rows - i) +  '*' * i)\n",
    "    \n",
    "# () - this bracket is called paranthesis in python."
   ]
  },
  {
   "cell_type": "markdown",
   "id": "c5f4642d-3ff7-4537-8632-505ad397cb42",
   "metadata": {},
   "source": [
    "# Break"
   ]
  },
  {
   "cell_type": "code",
   "execution_count": 3,
   "id": "73772b6a-ca74-465f-b006-2b12feb26d6e",
   "metadata": {},
   "outputs": [
    {
     "name": "stdout",
     "output_type": "stream",
     "text": [
      "ram\n",
      "shyam\n",
      "kishan\n"
     ]
    }
   ],
   "source": [
    "students = [\"ram\", \"shyam\", \"kishan\", \"radha\", \"radhika\"]\n",
    "for student in students:\n",
    "    if (student == \"radha\"):\n",
    "        break\n",
    "    print(student)\n",
    "    "
   ]
  },
  {
   "cell_type": "markdown",
   "id": "ac159f95-1d72-4b87-92e1-363022f9e957",
   "metadata": {},
   "source": [
    "# continue "
   ]
  },
  {
   "cell_type": "code",
   "execution_count": 4,
   "id": "80c320f2-91ad-4453-b3c6-cec6dfe74d83",
   "metadata": {},
   "outputs": [
    {
     "name": "stdout",
     "output_type": "stream",
     "text": [
      "ram\n",
      "shyam\n",
      "radha\n",
      "radhika\n"
     ]
    }
   ],
   "source": [
    "for student in students:\n",
    "    if (student == \"kishan\"):\n",
    "        continue\n",
    "    print(student)"
   ]
  },
  {
   "cell_type": "code",
   "execution_count": 5,
   "id": "b166fa1a-0208-4cdf-898a-f4cc9e4f3280",
   "metadata": {},
   "outputs": [],
   "source": [
    "# other questions of break and continue"
   ]
  },
  {
   "cell_type": "code",
   "execution_count": 10,
   "id": "fff32fc7-774c-4636-ac67-55261f8617d4",
   "metadata": {},
   "outputs": [
    {
     "name": "stdin",
     "output_type": "stream",
     "text": [
      "Enter the number to search:  7\n"
     ]
    },
    {
     "name": "stdout",
     "output_type": "stream",
     "text": [
      "Number found!\n"
     ]
    }
   ],
   "source": [
    "# 1. Searching with 'break'\n",
    "\n",
    "search_list = [3, 8, 12, 7, 15, 6]\n",
    "target = int(input(\"Enter the number to search: \"))\n",
    "\n",
    "for num in search_list:\n",
    "    if num == target:\n",
    "        print(\"Number found!\")\n",
    "        break\n",
    "\n",
    "else:\n",
    "    print(\"Number not found.\")"
   ]
  },
  {
   "cell_type": "code",
   "execution_count": 12,
   "id": "8f78806c-9af7-4a46-8084-db7eee660bb5",
   "metadata": {},
   "outputs": [
    {
     "name": "stdout",
     "output_type": "stream",
     "text": [
      "Sum of positive numbers: 23\n"
     ]
    }
   ],
   "source": [
    "# 2 Skipping Negative Numbers with 'continue'\n",
    "\n",
    "num_list = [5, -3, 8,-2, 10, -7]\n",
    "positive_sum = 0\n",
    "\n",
    "for num in num_list:\n",
    "    if num < 0:\n",
    "        continue\n",
    "    positive_sum += num\n",
    "\n",
    "print(\"Sum of positive numbers:\", positive_sum)"
   ]
  },
  {
   "cell_type": "code",
   "execution_count": 13,
   "id": "16435a8a-c010-43a6-a38d-5f86d949e236",
   "metadata": {},
   "outputs": [],
   "source": [
    "# # 3 Factorial Calculation with 'break'.\n",
    "\n",
    "# what is factorial --> \n",
    "# # example\n",
    "# factorial of 4 --> 1*2*3*4"
   ]
  },
  {
   "cell_type": "code",
   "execution_count": 20,
   "id": "cc076e41-1356-48f0-aaa4-6c83cd287d41",
   "metadata": {},
   "outputs": [
    {
     "name": "stdin",
     "output_type": "stream",
     "text": [
      "Enter a number:  4\n"
     ]
    },
    {
     "name": "stdout",
     "output_type": "stream",
     "text": [
      "Factorial: 24\n"
     ]
    }
   ],
   "source": [
    "number = int(input(\"Enter a number: \"))\n",
    "factorial = 1\n",
    "threshold = 10000\n",
    "\n",
    "for i in range(1, number + 1):\n",
    "    factorial *= i\n",
    "    if factorial > threshold:\n",
    "        print(\"Factorial exceeds threshold.\")\n",
    "        break\n",
    "else:\n",
    "    print(\"Factorial:\", factorial)\n"
   ]
  },
  {
   "cell_type": "raw",
   "id": "4dcf28c5-c60f-4334-a6f3-beffe55da285",
   "metadata": {},
   "source": [
    "# factorial of 5 --> 1*2*3*4*5"
   ]
  },
  {
   "cell_type": "code",
   "execution_count": null,
   "id": "74f72080-f7b0-4d7d-a9ef-255e6295b5ab",
   "metadata": {},
   "outputs": [],
   "source": []
  },
  {
   "cell_type": "code",
   "execution_count": null,
   "id": "d2abc21f-d8a5-4350-b4ca-f9faec4e33f5",
   "metadata": {},
   "outputs": [],
   "source": []
  },
  {
   "cell_type": "code",
   "execution_count": null,
   "id": "90fe37f9-d4d3-44fb-854a-f6cf40b32662",
   "metadata": {},
   "outputs": [],
   "source": []
  },
  {
   "cell_type": "code",
   "execution_count": null,
   "id": "5c77b34c-ebfa-4c98-8bde-cb65fd3891a8",
   "metadata": {},
   "outputs": [],
   "source": []
  }
 ],
 "metadata": {
  "kernelspec": {
   "display_name": "Python 3 (ipykernel)",
   "language": "python",
   "name": "python3"
  },
  "language_info": {
   "codemirror_mode": {
    "name": "ipython",
    "version": 3
   },
   "file_extension": ".py",
   "mimetype": "text/x-python",
   "name": "python",
   "nbconvert_exporter": "python",
   "pygments_lexer": "ipython3",
   "version": "3.11.4"
  }
 },
 "nbformat": 4,
 "nbformat_minor": 5
}
