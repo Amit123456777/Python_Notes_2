{
 "cells": [
  {
   "cell_type": "code",
   "execution_count": 5,
   "id": "5583c6ec",
   "metadata": {},
   "outputs": [
    {
     "name": "stdout",
     "output_type": "stream",
     "text": [
      "Enter the index: 0\n",
      "1\n",
      "I am always executed\n"
     ]
    }
   ],
   "source": [
    "try:\n",
    "    l = [1, 5, 6, 7]\n",
    "    i = int(input(\"Enter the index: \"))\n",
    "    print(l[i])\n",
    "except:\n",
    "    print(\"Some error occured\")\n",
    "    \n",
    "# finally:\n",
    "#     print(\"I am always executed\")\n",
    "print(\"I am always executed\")"
   ]
  },
  {
   "cell_type": "code",
   "execution_count": 15,
   "id": "ef21a33e",
   "metadata": {},
   "outputs": [
    {
     "name": "stdout",
     "output_type": "stream",
     "text": [
      "Enter the index: 0\n",
      "1\n",
      "I am always executed\n",
      "1\n"
     ]
    }
   ],
   "source": [
    "def funct1():\n",
    "    try:\n",
    "        l = [1, 5, 6, 7]\n",
    "        i = int(input(\"Enter the index: \"))\n",
    "        print(l[i])\n",
    "        return 1\n",
    "    except:\n",
    "        print(\"Some error occured\")\n",
    "        return 0\n",
    "\n",
    "    finally:\n",
    "        print(\"I am always executed\")\n",
    "#     print(\"I am always executed\")\n",
    "\n",
    "x = funct1()\n",
    "print(x)"
   ]
  },
  {
   "cell_type": "code",
   "execution_count": 18,
   "id": "a6ec43fa",
   "metadata": {},
   "outputs": [],
   "source": [
    "# try except:\n",
    "# try except me hm code ko try krte the agar wo chl gya to achi bat hai,\n",
    "# agar ni chla to km se km hamra program crash ni krega wo except block me\n",
    "# chla jayega\n",
    "\n",
    "# and we can easily handle specific errors, like ValueErrors, MemoryError\n",
    "# or IndexError."
   ]
  },
  {
   "cell_type": "code",
   "execution_count": null,
   "id": "f6e423e9",
   "metadata": {},
   "outputs": [],
   "source": []
  },
  {
   "cell_type": "code",
   "execution_count": 16,
   "id": "ce760df8",
   "metadata": {},
   "outputs": [],
   "source": [
    "# now we learn about finally key word\n",
    "\n",
    "# INTERVIEW QUETION\n",
    "# finally ke andar dala hua code hmesha executed hota hai.\n",
    "\n",
    "# then what is the difference bt try except and finally keyword\n",
    "ye difference def function me pta chlta hai.\n",
    "# def me agar code return ho gya to wo whi stop ho jata hai.\n",
    "# but finally keyword code return hone ke badh bi chlta hai."
   ]
  },
  {
   "cell_type": "code",
   "execution_count": 19,
   "id": "52adfae7",
   "metadata": {},
   "outputs": [
    {
     "name": "stdout",
     "output_type": "stream",
     "text": [
      "Enter the index: 5\n",
      "Some error occured\n"
     ]
    }
   ],
   "source": [
    "try:\n",
    "    l = [1, 5, 6, 7]\n",
    "    i = int(input(\"Enter the index: \"))\n",
    "    print(l[i])\n",
    "except:\n",
    "    print(\"Some error occured\")"
   ]
  },
  {
   "cell_type": "code",
   "execution_count": 20,
   "id": "2c7e5d02",
   "metadata": {},
   "outputs": [
    {
     "name": "stdout",
     "output_type": "stream",
     "text": [
      "Enter the index: 0\n",
      "1\n",
      "I am always executed\n"
     ]
    }
   ],
   "source": [
    "try:\n",
    "    l = [1, 5, 6, 7]\n",
    "    i = int(input(\"Enter the index: \"))\n",
    "    print(l[i])\n",
    "except:\n",
    "    print(\"Some error occured\")\n",
    "\n",
    "finally:\n",
    "    print(\"I am always executed\")\n",
    "    \n",
    "# finally ye kehta hai ki chahe try ke andr jay ya chahe except ke andr jay\n",
    "# i am always executed"
   ]
  },
  {
   "cell_type": "code",
   "execution_count": 21,
   "id": "3c318867",
   "metadata": {},
   "outputs": [
    {
     "name": "stdout",
     "output_type": "stream",
     "text": [
      "Enter the index: df\n",
      "Some error occured\n",
      "I am always executed\n"
     ]
    }
   ],
   "source": [
    "# Now we produce error\n",
    "try:\n",
    "    l = [1, 5, 6, 7]\n",
    "    i = int(input(\"Enter the index: \"))\n",
    "    print(l[i])\n",
    "except:\n",
    "    print(\"Some error occured\")\n",
    "\n",
    "finally:\n",
    "    print(\"I am always executed\")"
   ]
  },
  {
   "cell_type": "code",
   "execution_count": 22,
   "id": "3b15ac8e",
   "metadata": {},
   "outputs": [],
   "source": [
    "# why we use finally block hme print bi to likh skte hai \n",
    "# see the code below"
   ]
  },
  {
   "cell_type": "code",
   "execution_count": 27,
   "id": "d5bfff9e",
   "metadata": {},
   "outputs": [
    {
     "name": "stdout",
     "output_type": "stream",
     "text": [
      "Enter the index: 9\n",
      "Some error occured\n",
      "I am always executed\n"
     ]
    }
   ],
   "source": [
    "try:\n",
    "    l = [1, 5, 6, 7]\n",
    "    i = int(input(\"Enter the index: \"))\n",
    "    print(l[i])\n",
    "except:\n",
    "    print(\"Some error occured\")\n",
    "\n",
    "# finally:\n",
    "#     print(\"I am always executed\")\n",
    "print(\"I am always executed\")"
   ]
  },
  {
   "cell_type": "code",
   "execution_count": 32,
   "id": "16b31a47",
   "metadata": {},
   "outputs": [
    {
     "name": "stdout",
     "output_type": "stream",
     "text": [
      "Enter the index: 2\n",
      "6\n",
      "I am always executed\n",
      "<function funct1 at 0x000001A318EE89A0>\n"
     ]
    }
   ],
   "source": [
    "# V.IMP INTERVIEW QUETION\n",
    "\n",
    "# DIFFERENCE BT TRY EXCEPT AND FINALLY KEYWORD\n",
    "# agar function return kr bi jata hai to finally run hoga\n",
    "# finally ka mtlb hona hai to hona hai executed. chahe functn return ho jay\n",
    "def func1():\n",
    "    try:\n",
    "        l = [1, 5, 6, 7]\n",
    "        i = int(input(\"Enter the index: \"))\n",
    "        print(l[i])\n",
    "        return 1\n",
    "    except:\n",
    "        print(\"Some error occured\")\n",
    "        return 0\n",
    "\n",
    "    finally:\n",
    "        print(\"I am always executed\")\n",
    "    # print(\"I am always executed\")\n",
    "\n",
    "x = funct1()\n",
    "print(funct1)"
   ]
  },
  {
   "cell_type": "code",
   "execution_count": null,
   "id": "18c4affc",
   "metadata": {},
   "outputs": [],
   "source": [
    "# USES OF FINALLY KEYWORD\n",
    "# break database connections\n",
    "# clean-up file\n",
    "# close file\n",
    "# AGAIN WATCH THE VIDEO FOR CLEAR UNDERSTANDING OF USES OF FINALLY CLAUSE"
   ]
  },
  {
   "cell_type": "code",
   "execution_count": null,
   "id": "d0383e56",
   "metadata": {},
   "outputs": [],
   "source": [
    "# USES OF FINALLY KEYWORD\n",
    "# break database connections\n",
    "# clean-up file\n",
    "# close file\n",
    "# AGAIN WATCH THE VIDEO FOR CLEAR UNDERSTANDING OF USES OF FINALLY CLAUSE"
   ]
  }
 ],
 "metadata": {
  "kernelspec": {
   "display_name": "Python 3 (ipykernel)",
   "language": "python",
   "name": "python3"
  },
  "language_info": {
   "codemirror_mode": {
    "name": "ipython",
    "version": 3
   },
   "file_extension": ".py",
   "mimetype": "text/x-python",
   "name": "python",
   "nbconvert_exporter": "python",
   "pygments_lexer": "ipython3",
   "version": "3.11.4"
  }
 },
 "nbformat": 4,
 "nbformat_minor": 5
}
