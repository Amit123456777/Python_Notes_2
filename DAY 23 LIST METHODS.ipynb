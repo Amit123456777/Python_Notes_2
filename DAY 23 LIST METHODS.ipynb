{
 "cells": [
  {
   "cell_type": "code",
   "execution_count": 1,
   "id": "fb25d995",
   "metadata": {},
   "outputs": [
    {
     "name": "stdout",
     "output_type": "stream",
     "text": [
      "[1, 2, 4, 6]\n",
      "[1, 2, 4, 6, 7]\n"
     ]
    }
   ],
   "source": [
    "# note: list item is changeable(means hm koi method apply krenge, to wo original list ko change kr dega)\n",
    "\n",
    "l = [1,2,4,6]\n",
    "print(l)\n",
    "l.append(7)  # add in the end\n",
    "print(l)"
   ]
  },
  {
   "cell_type": "code",
   "execution_count": 13,
   "id": "606d838a",
   "metadata": {},
   "outputs": [
    {
     "name": "stdout",
     "output_type": "stream",
     "text": [
      "[11, 45, 1, 2, 4, 6]\n",
      "[1, 2, 4, 6, 11, 45]\n"
     ]
    }
   ],
   "source": [
    "# sort()\n",
    "\n",
    "l = [11, 45, 1, 2, 4, 6]\n",
    "print(l)\n",
    "l.sort()  # ascending order\n",
    "print(l)\n"
   ]
  },
  {
   "cell_type": "code",
   "execution_count": 14,
   "id": "a0d7fee2",
   "metadata": {},
   "outputs": [
    {
     "name": "stdout",
     "output_type": "stream",
     "text": [
      "[45, 11, 6, 4, 2, 1]\n"
     ]
    }
   ],
   "source": [
    "l = [11, 45, 1, 2, 4, 6]\n",
    "l.sort(reverse=True)  # descending order\n",
    "print(l)"
   ]
  },
  {
   "cell_type": "code",
   "execution_count": 15,
   "id": "bcce493b",
   "metadata": {},
   "outputs": [
    {
     "name": "stdout",
     "output_type": "stream",
     "text": [
      "[6, 4, 2, 1, 45, 11]\n"
     ]
    }
   ],
   "source": [
    "# reverse() \n",
    "# note is reverse ka mtlb descending ni hai. it means reverse krna hai \n",
    "\n",
    "l = [11, 45, 1, 2, 4, 6]\n",
    "l.reverse()\n",
    "print(l)"
   ]
  },
  {
   "cell_type": "code",
   "execution_count": 18,
   "id": "557faafa",
   "metadata": {},
   "outputs": [
    {
     "name": "stdout",
     "output_type": "stream",
     "text": [
      "2\n",
      "[11, 45, 1, 2, 4, 6]\n"
     ]
    }
   ],
   "source": [
    "# index() \n",
    "# return index of 1st occurence \n",
    "l = [11, 45, 1, 2, 4, 6]\n",
    "print(l.index(1))\n",
    "print(l)"
   ]
  },
  {
   "cell_type": "code",
   "execution_count": 19,
   "id": "ccfd12ce",
   "metadata": {},
   "outputs": [
    {
     "name": "stdout",
     "output_type": "stream",
     "text": [
      "2\n",
      "[11, 45, 1, 2, 4, 6, 1]\n"
     ]
    }
   ],
   "source": [
    "l = [11, 45, 1, 2, 4, 6, 1]\n",
    "print(l.index(1))\n",
    "print(l)"
   ]
  },
  {
   "cell_type": "code",
   "execution_count": 20,
   "id": "08558da4",
   "metadata": {},
   "outputs": [
    {
     "name": "stdout",
     "output_type": "stream",
     "text": [
      "2\n",
      "[11, 45, 1, 2, 4, 6, 1]\n"
     ]
    }
   ],
   "source": [
    "l = [11, 45, 1, 2, 4, 6, 1]\n",
    "print(l.count(1))\n",
    "print(l)"
   ]
  },
  {
   "cell_type": "code",
   "execution_count": 29,
   "id": "d96ff0d0",
   "metadata": {},
   "outputs": [
    {
     "name": "stdout",
     "output_type": "stream",
     "text": [
      "[0, 45, 1, 2, 4, 6, 1]\n"
     ]
    }
   ],
   "source": [
    "# copy method \n",
    "l = [11, 45, 1, 2, 4, 6, 1]\n",
    "m = l\n",
    "m[0] = 0\n",
    "print(l)\n",
    "\n",
    "#explanation m equal to l kiya and m me kuch bi change krenge to l me bi hoga, this copy of list\n",
    "# but hm ese ni krenge\n",
    "# bcoz sirf m ko hi change hona tha, but original list bi change ho rha hai.\n",
    "# we use copy() functn (see below code)\n",
    "\n"
   ]
  },
  {
   "cell_type": "code",
   "execution_count": 28,
   "id": "5c2fdd77",
   "metadata": {},
   "outputs": [
    {
     "name": "stdout",
     "output_type": "stream",
     "text": [
      "[11, 45, 1, 2, 4, 6, 1]\n",
      "[11, 45, 1, 2, 4, 6, 1]\n",
      "[0, 45, 1, 2, 4, 6, 1]\n"
     ]
    }
   ],
   "source": [
    "# copy()\n",
    "# isse original list pe effect ni hoga\n",
    "l = [11, 45, 1, 2, 4, 6, 1]\n",
    "print(l)    # original list\n",
    "m = l.copy()\n",
    "m[0] = 0    \n",
    "print(l)\n",
    "print(m)"
   ]
  },
  {
   "cell_type": "code",
   "execution_count": 30,
   "id": "3da56f52",
   "metadata": {},
   "outputs": [
    {
     "name": "stdout",
     "output_type": "stream",
     "text": [
      "[11, 45, 1, 2, 4, 6, 1]\n",
      "[11, 899, 45, 1, 2, 4, 6, 1]\n"
     ]
    }
   ],
   "source": [
    "# insert()\n",
    "# add on specific index\n",
    "l = [11, 45, 1, 2, 4, 6, 1]\n",
    "print(l)\n",
    "l.insert(1, 899)\n",
    "print(l)"
   ]
  },
  {
   "cell_type": "code",
   "execution_count": 33,
   "id": "f3950131",
   "metadata": {},
   "outputs": [
    {
     "name": "stdout",
     "output_type": "stream",
     "text": [
      "[11, 45, 1, 2, 4, 6, 1]\n",
      "[11, 45, 1, 2, 4, 6, 1, 900, 1000, 1100]\n"
     ]
    }
   ],
   "source": [
    "#extend()\n",
    "# add last me\n",
    "l = [11, 45, 1, 2, 4, 6, 1]\n",
    "print(l)\n",
    "m = [900,1000, 1100] \n",
    "l.extend(m)\n",
    "print(l)"
   ]
  },
  {
   "cell_type": "code",
   "execution_count": 36,
   "id": "f467e055",
   "metadata": {},
   "outputs": [
    {
     "name": "stdout",
     "output_type": "stream",
     "text": [
      "[11, 45, 1, 2, 4, 6, 1, 1]\n",
      "[900, 1000, 1100, 11, 45, 1, 2, 4, 6, 1, 1]\n",
      "[11, 45, 1, 2, 4, 6, 1, 1]\n"
     ]
    }
   ],
   "source": [
    "# 2nd method\n",
    "\n",
    "l = [11, 45, 1, 2, 4, 6, 1, 1]\n",
    "print(l)\n",
    "m = [900, 1000, 1100]\n",
    "k = l + m\n",
    "print(k)\n",
    "print(l)\n",
    "\n"
   ]
  },
  {
   "cell_type": "code",
   "execution_count": null,
   "id": "a778b4eb",
   "metadata": {},
   "outputs": [],
   "source": []
  }
 ],
 "metadata": {
  "kernelspec": {
   "display_name": "Python 3 (ipykernel)",
   "language": "python",
   "name": "python3"
  },
  "language_info": {
   "codemirror_mode": {
    "name": "ipython",
    "version": 3
   },
   "file_extension": ".py",
   "mimetype": "text/x-python",
   "name": "python",
   "nbconvert_exporter": "python",
   "pygments_lexer": "ipython3",
   "version": "3.11.4"
  }
 },
 "nbformat": 4,
 "nbformat_minor": 5
}
