{
 "cells": [
  {
   "cell_type": "code",
   "execution_count": 5,
   "id": "e49f850c-5025-4b5b-bb4a-819ee0f58bd9",
   "metadata": {},
   "outputs": [],
   "source": [
    "# ques 8 : print a table using for loop and while loop."
   ]
  },
  {
   "cell_type": "code",
   "execution_count": 10,
   "id": "b7e79158-2a34-47d1-9f3a-4f4a2f60fba6",
   "metadata": {
    "scrolled": true
   },
   "outputs": [
    {
     "name": "stdout",
     "output_type": "stream",
     "text": [
      "10\n",
      "20\n",
      "30\n",
      "40\n",
      "50\n",
      "60\n",
      "70\n",
      "80\n",
      "90\n",
      "100\n"
     ]
    }
   ],
   "source": [
    "for i in range(1,11):\n",
    "    print(i*10)"
   ]
  },
  {
   "cell_type": "code",
   "execution_count": null,
   "id": "b6894d00-9a25-4a40-999b-f683d63675a4",
   "metadata": {},
   "outputs": [],
   "source": []
  },
  {
   "cell_type": "code",
   "execution_count": 7,
   "id": "6f251a5f-72b5-44a6-96a5-be181756ea04",
   "metadata": {},
   "outputs": [
    {
     "name": "stdin",
     "output_type": "stream",
     "text": [
      "enter a number: 4\n"
     ]
    },
    {
     "name": "stdout",
     "output_type": "stream",
     "text": [
      "table using for loop:\n",
      "4\n",
      "8\n",
      "12\n",
      "16\n",
      "20\n",
      "24\n",
      "28\n",
      "32\n",
      "36\n",
      "40\n"
     ]
    }
   ],
   "source": [
    "n = int(input(\"enter a number:\"))\n",
    "print(\"table using for loop:\")\n",
    "for i in range(1,11):\n",
    "    print(n*i)"
   ]
  },
  {
   "cell_type": "code",
   "execution_count": 4,
   "id": "ac2474d9-a622-4128-91cd-bb32aeee84fe",
   "metadata": {},
   "outputs": [
    {
     "name": "stdout",
     "output_type": "stream",
     "text": [
      "10\n",
      "20\n",
      "30\n",
      "40\n",
      "50\n",
      "60\n",
      "70\n",
      "80\n",
      "90\n",
      "100\n"
     ]
    }
   ],
   "source": [
    "i = 1\n",
    "while i<=10:\n",
    "    print(i*10)\n",
    "    i+=1   "
   ]
  },
  {
   "cell_type": "code",
   "execution_count": 6,
   "id": "2851eabc-7016-459b-a6b3-b08bb9a624b5",
   "metadata": {},
   "outputs": [],
   "source": [
    "# 9 Activity suggestor using python"
   ]
  },
  {
   "cell_type": "code",
   "execution_count": 13,
   "id": "3951ab7e-c8f7-449e-a731-69d476592d22",
   "metadata": {},
   "outputs": [
    {
     "name": "stdout",
     "output_type": "stream",
     "text": [
      "------Activity Suggestor------\n",
      "choose any number from 1 to 4th\n"
     ]
    },
    {
     "name": "stdin",
     "output_type": "stream",
     "text": [
      "enter number :  6\n"
     ]
    }
   ],
   "source": [
    "a = \"play ludo\"\n",
    "b = \"play golf\"\n",
    "c = \"play chess\"\n",
    "d = \"paly basketball\"\n",
    "while True:\n",
    "    print(\"------Activity Suggestor------\")\n",
    "    print(\"choose any number from 1 to 4th\")\n",
    "    choice = int(input(\"enter number : \"))\n",
    "    if choice == 1:\n",
    "        print(a)\n",
    "    elif choice == 2:\n",
    "        print(b)\n",
    "    elif choice == 3:\n",
    "        print(c)\n",
    "    elif choice == 4:\n",
    "        print(d)\n",
    "    else:\n",
    "        break"
   ]
  },
  {
   "cell_type": "code",
   "execution_count": 16,
   "id": "f1b67883-9cb4-4190-84e1-952e53a31c22",
   "metadata": {},
   "outputs": [
    {
     "name": "stdout",
     "output_type": "stream",
     "text": [
      "------Activity Suggestor------\n",
      "choose any number from 1 to 4th\n"
     ]
    },
    {
     "name": "stdin",
     "output_type": "stream",
     "text": [
      "enter number :  8\n"
     ]
    },
    {
     "name": "stdout",
     "output_type": "stream",
     "text": [
      "Invalid Choice\n"
     ]
    }
   ],
   "source": [
    "a = \"play ludo\"\n",
    "b = \"play golf\"\n",
    "c = \"play chess\"\n",
    "d = \"paly basketball\"\n",
    "while True:\n",
    "    print(\"------Activity Suggestor------\")\n",
    "    print(\"choose any number from 1 to 4th\")\n",
    "    choice = int(input(\"enter number : \"))\n",
    "    if choice == 1:\n",
    "        print(a)\n",
    "    elif choice == 2:\n",
    "        print(b)\n",
    "    elif choice == 3:\n",
    "        print(c)\n",
    "    elif choice == 4:\n",
    "        print(d)\n",
    "    else:\n",
    "        print(f\"Invalid Choice\")\n",
    "        break"
   ]
  },
  {
   "cell_type": "code",
   "execution_count": 17,
   "id": "2129f2f0-afb9-4eaa-99aa-46d1d329649f",
   "metadata": {},
   "outputs": [],
   "source": []
  },
  {
   "cell_type": "code",
   "execution_count": null,
   "id": "f74d0429-a31b-4242-be9d-6e35fd8c6a54",
   "metadata": {},
   "outputs": [],
   "source": []
  },
  {
   "cell_type": "code",
   "execution_count": 21,
   "id": "ed90b915-cb3f-44e3-b664-b4072bb31f21",
   "metadata": {},
   "outputs": [],
   "source": [
    "# USER DEFINED FUNCTIONS"
   ]
  },
  {
   "cell_type": "code",
   "execution_count": null,
   "id": "ee4b54de-87b2-4749-be20-dffa4e3e1e67",
   "metadata": {},
   "outputs": [],
   "source": [
    "# a function is a block of code which only run when it is call.\n",
    "\n",
    "## CREATING A FUNCTION\n",
    "# in python function si defined using def keyword."
   ]
  },
  {
   "cell_type": "code",
   "execution_count": 22,
   "id": "440d075e-2bc8-461f-9b99-71b493e4084e",
   "metadata": {},
   "outputs": [
    {
     "name": "stdout",
     "output_type": "stream",
     "text": [
      "Hello from a function\n"
     ]
    }
   ],
   "source": [
    "def function():\n",
    "    print(\"Hello from a function\")\n",
    "function()"
   ]
  },
  {
   "cell_type": "code",
   "execution_count": 28,
   "id": "ce6c4799-c622-4188-8e6c-b5cf933012fa",
   "metadata": {},
   "outputs": [
    {
     "name": "stdout",
     "output_type": "stream",
     "text": [
      "the sum of two number is  5\n"
     ]
    }
   ],
   "source": [
    "def function(a=2,b=3):\n",
    "    c = a + b\n",
    "    print(\"the sum of two number is \", c )\n",
    "function()"
   ]
  },
  {
   "cell_type": "code",
   "execution_count": null,
   "id": "e3f5474d-2438-4ce0-a8a3-9777e4a7aebc",
   "metadata": {},
   "outputs": [],
   "source": [
    "\n"
   ]
  }
 ],
 "metadata": {
  "kernelspec": {
   "display_name": "Python 3 (ipykernel)",
   "language": "python",
   "name": "python3"
  },
  "language_info": {
   "codemirror_mode": {
    "name": "ipython",
    "version": 3
   },
   "file_extension": ".py",
   "mimetype": "text/x-python",
   "name": "python",
   "nbconvert_exporter": "python",
   "pygments_lexer": "ipython3",
   "version": "3.11.4"
  }
 },
 "nbformat": 4,
 "nbformat_minor": 5
}
