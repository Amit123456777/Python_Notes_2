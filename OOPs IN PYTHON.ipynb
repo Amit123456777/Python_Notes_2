{
 "cells": [
  {
   "cell_type": "code",
   "execution_count": 1,
   "id": "cd103723-2da1-4440-9334-892c0bd390aa",
   "metadata": {},
   "outputs": [],
   "source": [
    "# HOW TO CREATE A CLASS\n",
    "# using class keyword\n",
    "\n",
    "class Details:\n",
    "    name = \"Rohan\"\n",
    "    age = 20"
   ]
  },
  {
   "cell_type": "code",
   "execution_count": 2,
   "id": "f1bcc861-c7fd-4c25-ae7f-eea5b0c8d8cb",
   "metadata": {},
   "outputs": [],
   "source": [
    "# example 2:\n",
    "class Animal:\n",
    "    name = \"Bruno\"\n",
    "    age = 10"
   ]
  },
  {
   "cell_type": "code",
   "execution_count": 4,
   "id": "6b9ed445-3ea6-4acd-8e9a-06f44f2ad659",
   "metadata": {},
   "outputs": [],
   "source": [
    "# creating an object\n",
    "obj1 = Details()"
   ]
  },
  {
   "cell_type": "code",
   "execution_count": 5,
   "id": "efc9464f-b43d-48ca-9080-72bf7bd332f3",
   "metadata": {},
   "outputs": [],
   "source": [
    "obj2 = Animal()"
   ]
  },
  {
   "cell_type": "code",
   "execution_count": 6,
   "id": "89d1e7d2-b068-42ab-92b3-5dee8a0d4cec",
   "metadata": {},
   "outputs": [
    {
     "name": "stdout",
     "output_type": "stream",
     "text": [
      "Rohan\n",
      "20\n"
     ]
    }
   ],
   "source": [
    "# now we can print values:\n",
    "class Details:\n",
    "    name = \"Rohan\"\n",
    "    age = 20\n",
    "\n",
    "# creating an object\n",
    "obj1 = Details()\n",
    "print(obj1.name)\n",
    "print(obj1.age)"
   ]
  },
  {
   "cell_type": "code",
   "execution_count": 8,
   "id": "ec4e28c3-6363-4bff-b507-eb727bee3ca6",
   "metadata": {},
   "outputs": [
    {
     "name": "stdout",
     "output_type": "stream",
     "text": [
      "Bruno\n",
      "10\n"
     ]
    }
   ],
   "source": [
    "# another example\n",
    "class Animals:\n",
    "    name = \"Bruno\"\n",
    "    age = 10\n",
    "# creating an object\n",
    "obj1 = Animals()\n",
    "print(obj1.name)  # print(object_name dot variable)\n",
    "print(obj1.age)   # print(object_name dot variable)"
   ]
  },
  {
   "cell_type": "markdown",
   "id": "d96dfd8c-4874-47da-b067-fa3a5c7011b1",
   "metadata": {},
   "source": [
    "# self parameter"
   ]
  },
  {
   "cell_type": "code",
   "execution_count": 9,
   "id": "e8723a10-979f-4352-9060-f6176074289d",
   "metadata": {},
   "outputs": [
    {
     "name": "stdout",
     "output_type": "stream",
     "text": [
      "My name is Rohan and I'm 20 years old.\n"
     ]
    }
   ],
   "source": [
    "# EXAMPLE:\n",
    "class Details():\n",
    "    name = \"Rohan\"\n",
    "    age = 20\n",
    "\n",
    "    # creating self parameter\n",
    "    def desc(self):\n",
    "        print(\"My name is\",self.name,\"and I'm\",self.age,\"years old.\")\n",
    "\n",
    "# creating an object\n",
    "obj1 = Details()\n",
    "obj1.desc()\n",
    "\n"
   ]
  },
  {
   "cell_type": "markdown",
   "id": "c086307e-041e-48f2-a920-a27ac010efa2",
   "metadata": {},
   "source": [
    "# constructors"
   ]
  },
  {
   "cell_type": "code",
   "execution_count": 12,
   "id": "0b625d62-4009-48e5-90cf-7035ac68e143",
   "metadata": {},
   "outputs": [],
   "source": [
    "# how to create a constructor\n",
    "\n",
    "\n",
    "# syntax\n",
    "# def __init__(self):\n",
    "    # initizations"
   ]
  },
  {
   "cell_type": "markdown",
   "id": "7131dcf6-6d05-486c-aa3d-ed0a718c4baa",
   "metadata": {},
   "source": [
    "# 1. parametrized constructor in Python"
   ]
  },
  {
   "cell_type": "code",
   "execution_count": 15,
   "id": "d25d18d2-4330-4399-95a2-87463e2749f8",
   "metadata": {},
   "outputs": [
    {
     "name": "stdout",
     "output_type": "stream",
     "text": [
      "Crab belong to the Crutaceans group\n"
     ]
    }
   ],
   "source": [
    "class Details:\n",
    "    def __init__(self,animal,group):\n",
    "        self.animal = animal\n",
    "        self.group = group\n",
    "\n",
    "obj1 = Details(\"Crab\",\"Crutaceans\")\n",
    "print(obj1.animal, \"belong to the\", obj1.group,\"group\")"
   ]
  },
  {
   "cell_type": "markdown",
   "id": "c499710c-dc81-48a9-84c7-931d15a9d997",
   "metadata": {},
   "source": [
    "# 2. Default Constructor in Python"
   ]
  },
  {
   "cell_type": "code",
   "execution_count": 16,
   "id": "003f1da7-02e0-4fd8-85d4-47e0feecf79d",
   "metadata": {},
   "outputs": [
    {
     "name": "stdout",
     "output_type": "stream",
     "text": [
      "animal Crab before to Crustaceans group\n"
     ]
    }
   ],
   "source": [
    "# code\n",
    "class Details:\n",
    "    def __init__(self):\n",
    "        print(\"animal Crab before to Crustaceans group\")\n",
    "obj1 = Details()"
   ]
  },
  {
   "cell_type": "markdown",
   "id": "8b7d5c32-10e7-41d4-91a7-024d95e87dfa",
   "metadata": {},
   "source": [
    "# INHERITANCE IN PYTHON"
   ]
  },
  {
   "cell_type": "code",
   "execution_count": 17,
   "id": "7b39bed9-857f-470e-99a7-1c6f6f8f39ec",
   "metadata": {},
   "outputs": [],
   "source": [
    "# # syntax of inheritance\n",
    "# class Baseclass:\n",
    "#     Body of base class\n",
    "# class Derivedclass(BassClass):\n",
    "#     Body of derived class"
   ]
  },
  {
   "cell_type": "markdown",
   "id": "bcf9a4d7-9c4c-4e7d-b3f3-a352613ac411",
   "metadata": {},
   "source": [
    "# 1. Single Inheritance"
   ]
  },
  {
   "cell_type": "code",
   "execution_count": 23,
   "id": "2beeefa2-9eb5-49f2-a710-06d5b4986675",
   "metadata": {},
   "outputs": [
    {
     "name": "stdout",
     "output_type": "stream",
     "text": [
      "This function is in parent class.\n",
      "This function is in child class.\n"
     ]
    }
   ],
   "source": [
    "# code \n",
    "class Parent:\n",
    "    def func1(self):\n",
    "        print(\"This function is in parent class.\")\n",
    "\n",
    "class Child(Parent):\n",
    "    def func2(self):\n",
    "        print(\"This function is in child class.\")\n",
    "\n",
    "# creating an object\n",
    "object = Child()\n",
    "object.func1()\n",
    "object.func2()"
   ]
  },
  {
   "cell_type": "markdown",
   "id": "462ee157-2bb7-4b9a-8a0f-8acfc3eb3997",
   "metadata": {},
   "source": [
    "# 2. Multiple Inheritance"
   ]
  },
  {
   "cell_type": "code",
   "execution_count": 27,
   "id": "0b818dbd-1a1d-4303-806a-08020c3bd8df",
   "metadata": {},
   "outputs": [
    {
     "name": "stdout",
     "output_type": "stream",
     "text": [
      "Father name is: Daddy\n",
      "Daddy\n",
      "Mother name is: Mommy\n",
      "Mommy\n"
     ]
    }
   ],
   "source": [
    "class Mother:\n",
    "    mothername = \"\"\n",
    "\n",
    "    def mother(self):\n",
    "        print(self.mothername)\n",
    "\n",
    "class Father:\n",
    "    fathername = \"\"  # Corrected attribute name\n",
    "\n",
    "    def father(self):\n",
    "        print(self.fathername)\n",
    "\n",
    "class Son(Mother, Father):\n",
    "    def parents(self):\n",
    "        print(\"Father name is:\", self.fathername)\n",
    "        self.father()  # Calling father method from Father class\n",
    "        print(\"Mother name is:\", self.mothername)\n",
    "        self.mother()  # Calling mother method from Mother class\n",
    "\n",
    "# creating an object\n",
    "s1 = Son()\n",
    "s1.mothername = \"Mommy\"\n",
    "s1.fathername = \"Daddy\"\n",
    "s1.parents()\n"
   ]
  },
  {
   "cell_type": "markdown",
   "id": "33ce8861-a0bb-4ae3-9a0e-ef6e274ac521",
   "metadata": {},
   "source": [
    "# Polymorphism"
   ]
  },
  {
   "cell_type": "code",
   "execution_count": 31,
   "id": "1bcad74b-44a7-4d23-bced-98651332c6c6",
   "metadata": {},
   "outputs": [
    {
     "name": "stdout",
     "output_type": "stream",
     "text": [
      "Woof!\n",
      "Meow!\n"
     ]
    }
   ],
   "source": [
    "class Animal:\n",
    "    def speak(self):\n",
    "        pass\n",
    "\n",
    "class Dog(Animal):\n",
    "    def speak(self):\n",
    "        return \"Woof!\"\n",
    "\n",
    "class Cat(Animal):\n",
    "    def speak(self):\n",
    "        return \"Meow!\"\n",
    "\n",
    "# Polymorphic function\n",
    "def animal_says(animal):\n",
    "    return animal.speak()\n",
    "\n",
    "dog = Dog()\n",
    "cat = Cat()\n",
    "\n",
    "print(animal_says(dog)) # Output: Woof\n",
    "print(animal_says(cat)) # Output: Meow"
   ]
  },
  {
   "cell_type": "markdown",
   "id": "3facb208-41d5-4923-b83c-02ef0d65bb53",
   "metadata": {},
   "source": [
    "# Practice Questions of OOPS"
   ]
  },
  {
   "cell_type": "code",
   "execution_count": 32,
   "id": "0a11eb5e-f9d3-4ede-9db8-8cf486c66d6b",
   "metadata": {},
   "outputs": [],
   "source": [
    "# create a python program to make a calculator using oops concept."
   ]
  },
  {
   "cell_type": "markdown",
   "id": "de4d8431-16e2-40bf-a7f0-6396ee71bab3",
   "metadata": {},
   "source": [
    "# calculator"
   ]
  },
  {
   "cell_type": "code",
   "execution_count": 35,
   "id": "73bd3b96-7676-4982-ba57-ade7f7f32c88",
   "metadata": {},
   "outputs": [
    {
     "name": "stdout",
     "output_type": "stream",
     "text": [
      "Addition result: 8\n",
      "Subtraction result: 6\n",
      "Multiplication result: 14\n",
      "Division result: 5.0\n"
     ]
    }
   ],
   "source": [
    "class Calculator:\n",
    "    def add(self, x, y):\n",
    "        return x + y\n",
    "\n",
    "    def subtract(self, x, y):\n",
    "        return x - y\n",
    "\n",
    "    def multiply(self, x, y):\n",
    "        return x * y\n",
    "\n",
    "    def divide(self, x, y):\n",
    "        return x / y\n",
    "\n",
    "# creating an object\n",
    "calc = Calculator()\n",
    "\n",
    "# Addition\n",
    "result_add = calc.add(5, 3)\n",
    "print(\"Addition result:\", result_add)  # output: 8\n",
    "\n",
    "# Subtraction\n",
    "result_subtract = calc.subtract(10, 4)\n",
    "print(\"Subtraction result:\", result_subtract)  # output: 6\n",
    "\n",
    "# Multiplication\n",
    "result_multiply = calc.multiply(7, 2)\n",
    "print(\"Multiplication result:\", result_multiply) # output: 14\n",
    "\n",
    "# Division\n",
    "result_divide = calc.divide(20, 4)\n",
    "print(\"Division result:\", result_divide) # output: 5.0\n"
   ]
  },
  {
   "cell_type": "markdown",
   "id": "0f5a3dc3-0687-4056-940e-3caf936820bb",
   "metadata": {},
   "source": [
    "# Inheritance question"
   ]
  },
  {
   "cell_type": "code",
   "execution_count": 37,
   "id": "a95a2898-253c-4c68-8d71-93997e15fab9",
   "metadata": {},
   "outputs": [
    {
     "name": "stdout",
     "output_type": "stream",
     "text": [
      "Buddy says Woof!\n",
      "Whiskers says Meow!\n"
     ]
    }
   ],
   "source": [
    "# Parent class (also known as base class or superclass)\n",
    "class Animal:\n",
    "    def __init__(self, name):\n",
    "        self.name = name\n",
    "\n",
    "    def speak(self):\n",
    "        return \"Unknown sound\"\n",
    "\n",
    "# Child class (also known as derived class or subclass)\n",
    "class Dog(Animal):\n",
    "    def speak(self):\n",
    "        return \"Woof!\"\n",
    "\n",
    "class Cat(Animal):\n",
    "    def speak(self):\n",
    "        return \"Meow!\"\n",
    "\n",
    "# Creating instances of child classes\n",
    "dog = Dog(\"Buddy\")\n",
    "cat = Cat(\"Whiskers\")\n",
    "\n",
    "# Calling the speak method of each instance\n",
    "print(dog.name + \" says \" + dog.speak())  # output: Buddy says Woof!\n",
    "print(cat.name + \" says \" + cat.speak())  # output: Whiskers says Meow!\n"
   ]
  },
  {
   "cell_type": "code",
   "execution_count": 1,
   "id": "71f411f0-0c45-4674-96e0-0e8bdbb57581",
   "metadata": {},
   "outputs": [],
   "source": [
    "# # question:\n",
    "# Design a class called 'Rectangle' to represent rectangles. It should have attributes 'length' and 'width'. \n",
    "# Implement methods 'area()' to calculate the area of the rectangle and 'perimeter()' to calculate its\n",
    "# perimerter. Additionally, and a method 'is_square()' which returns True if the rectangle is \n",
    "# a square (i.e., if length equals width), otheriwise False."
   ]
  },
  {
   "cell_type": "code",
   "execution_count": 3,
   "id": "c7b0f0bf-6c09-4396-a490-e07838c8f108",
   "metadata": {},
   "outputs": [
    {
     "name": "stdout",
     "output_type": "stream",
     "text": [
      "Area: 24\n",
      "Perimeter: 20\n",
      "Is square?: False\n",
      "Area: 25\n",
      "Perimeter: 20\n",
      "Is square? True\n"
     ]
    }
   ],
   "source": [
    "class Rectangle:\n",
    "    def __init__(self, length, width):\n",
    "        self.length = length\n",
    "        self.width = width\n",
    "\n",
    "    def area(self):\n",
    "        return self.length * self.width\n",
    "\n",
    "    def perimeter(self):\n",
    "        return 2 * (self.length + self.width)   # 2 * (length + breadth)\n",
    "\n",
    "    def is_square(self):\n",
    "        return self.length == self.width\n",
    "\n",
    "rectangle1 = Rectangle(4, 6)\n",
    "print(\"Area:\", rectangle1.area()) # Output: 4*6 = 24\n",
    "print(\"Perimeter:\", rectangle1.perimeter()) # Output: 2*(4 + 6) = 20\n",
    "print(\"Is square?:\", rectangle1.is_square()) # Output: False\n",
    "\n",
    "rectangle2 = Rectangle(5, 5)\n",
    "print(\"Area:\", rectangle2.area())  # Output: 25\n",
    "print(\"Perimeter:\", rectangle2.perimeter()) # Output: 2*(5+5) = 20\n",
    "print(\"Is square?\", rectangle2.is_square()) # Output: Outpur: True"
   ]
  },
  {
   "cell_type": "code",
   "execution_count": null,
   "id": "278c7b8d-c624-4bfa-a07b-77c3ac1fdfe4",
   "metadata": {},
   "outputs": [],
   "source": []
  }
 ],
 "metadata": {
  "kernelspec": {
   "display_name": "Python 3 (ipykernel)",
   "language": "python",
   "name": "python3"
  },
  "language_info": {
   "codemirror_mode": {
    "name": "ipython",
    "version": 3
   },
   "file_extension": ".py",
   "mimetype": "text/x-python",
   "name": "python",
   "nbconvert_exporter": "python",
   "pygments_lexer": "ipython3",
   "version": "3.11.4"
  }
 },
 "nbformat": 4,
 "nbformat_minor": 5
}
