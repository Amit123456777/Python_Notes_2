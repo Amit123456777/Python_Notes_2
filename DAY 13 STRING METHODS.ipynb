{
 "cells": [
  {
   "cell_type": "code",
   "execution_count": 5,
   "id": "48a9c6bb",
   "metadata": {},
   "outputs": [
    {
     "name": "stdout",
     "output_type": "stream",
     "text": [
      "5\n",
      "HARRY\n",
      "harry\n"
     ]
    }
   ],
   "source": [
    "# strings are immutable  (use ctrl + froward slash) to comment nd uncomment\n",
    "# 1: upper, lower\n",
    "a = \"Harry\"\n",
    "print(len(a))\n",
    "# strings are immutable. we can make a copy of a = \"Harry\". but original/existing string ko change ni kr skte.\n",
    "# to agar ques aye ki ye code 'print(a.lower())' original string(a) ko lower case me conver krega. ans is not. it makes copy of that existing string(means new string). but not change orignal string\n",
    "print(a.upper())\n",
    "print(a.lower())\n"
   ]
  },
  {
   "cell_type": "code",
   "execution_count": 8,
   "id": "acde5fef",
   "metadata": {},
   "outputs": [
    {
     "name": "stdout",
     "output_type": "stream",
     "text": [
      "19\n",
      "!!!Harry!!!!!!!!!!!\n",
      "!!!HARRY!!!!!!!!!!!\n",
      "!!!harry!!!!!!!!!!!\n",
      "!!!Harry\n"
     ]
    }
   ],
   "source": [
    "#2: rstrip\n",
    "\n",
    "a = \"!!!Harry!!!!!!!!!!!\"\n",
    "print(len(a))\n",
    "print(a)\n",
    "print(a.upper())\n",
    "print(a.lower())\n",
    "print(a.rstrip(\"!\"))"
   ]
  },
  {
   "cell_type": "code",
   "execution_count": 9,
   "id": "bfac2bac",
   "metadata": {},
   "outputs": [
    {
     "name": "stdout",
     "output_type": "stream",
     "text": [
      "!!!Harry\n"
     ]
    }
   ],
   "source": [
    "a = \"!!!Harry!!!!!\"\n",
    "print(a.rstrip(\"!\"))\n",
    "# strip trailing characters. not leading(starting) characters."
   ]
  },
  {
   "cell_type": "code",
   "execution_count": 10,
   "id": "5a5029ef",
   "metadata": {},
   "outputs": [
    {
     "name": "stdout",
     "output_type": "stream",
     "text": [
      "!!!John!!!!!John\n"
     ]
    }
   ],
   "source": [
    "# 3: replace\n",
    "a = \"!!!Harry!!!!!Harry\"\n",
    "print(a.replace(\"Harry\",\"John\"))"
   ]
  },
  {
   "cell_type": "code",
   "execution_count": 13,
   "id": "c12f009a",
   "metadata": {},
   "outputs": [
    {
     "name": "stdout",
     "output_type": "stream",
     "text": [
      "['!!!Harry!!!', '!!!!!', 'Harry']\n",
      "<class 'str'>\n"
     ]
    }
   ],
   "source": [
    "# 4: split  (convert string to list)\n",
    "# list discuss lates\n",
    "# resturn the separated strings as list items.\n",
    "a = \"!!!Harry!!! !!!!! Harry\"\n",
    "print(a.split(\" \"))"
   ]
  },
  {
   "cell_type": "code",
   "execution_count": 19,
   "id": "054937f3",
   "metadata": {},
   "outputs": [
    {
     "name": "stdout",
     "output_type": "stream",
     "text": [
      "Introduction to js\n"
     ]
    }
   ],
   "source": [
    "# 5: capitalize()\n",
    "# Not in javascript(js)\n",
    "# makes 1st char upper and all lower\n",
    "# useful when writing bolgs\n",
    "\n",
    "blogHeading = \"introduction tO js\"\n",
    "print(blogHeading.capitalize())"
   ]
  },
  {
   "cell_type": "code",
   "execution_count": 21,
   "id": "5286372b",
   "metadata": {},
   "outputs": [
    {
     "name": "stdout",
     "output_type": "stream",
     "text": [
      "            Welcome to the console!!!             \n"
     ]
    }
   ],
   "source": [
    "# 6 center()\n",
    "str1 = \"Welcome to the console!!!\"\n",
    "print(str1.center(50))"
   ]
  },
  {
   "cell_type": "code",
   "execution_count": 23,
   "id": "6d0957df",
   "metadata": {},
   "outputs": [
    {
     "name": "stdout",
     "output_type": "stream",
     "text": [
      "25\n",
      "50\n"
     ]
    }
   ],
   "source": [
    "str1 = \"Welcome to the console!!!\"\n",
    "print(len(str1))\n",
    "print(len(str1.center(50)))\n",
    "\n"
   ]
  },
  {
   "cell_type": "code",
   "execution_count": 29,
   "id": "3a2c3e22",
   "metadata": {},
   "outputs": [
    {
     "name": "stdout",
     "output_type": "stream",
     "text": [
      "2\n"
     ]
    }
   ],
   "source": [
    "# 7 count()\n",
    "a = \"Harry!! Harry\"\n",
    "print(a.count(\"Harry\"))"
   ]
  },
  {
   "cell_type": "code",
   "execution_count": 26,
   "id": "a1acf86b",
   "metadata": {},
   "outputs": [],
   "source": [
    "# replit.com/#codewithharry -> Fork Repl"
   ]
  },
  {
   "cell_type": "code",
   "execution_count": 28,
   "id": "aa361d9f",
   "metadata": {},
   "outputs": [
    {
     "name": "stdout",
     "output_type": "stream",
     "text": [
      "True\n"
     ]
    }
   ],
   "source": [
    "# 8 endswith()\n",
    "# it tells string end with given string or not.\n",
    "str1 = \"Welcome to the Console !!!\"\n",
    "print(str1.endswith(\"!!!\"))\n",
    "\n",
    "# it returns boolean datatypes. we can use in if else statements in coming lectures."
   ]
  },
  {
   "cell_type": "code",
   "execution_count": 34,
   "id": "aecf9270",
   "metadata": {},
   "outputs": [
    {
     "name": "stdout",
     "output_type": "stream",
     "text": [
      "True\n"
     ]
    }
   ],
   "source": [
    "# endswith ke liye range bhi de skte hai hm\n",
    "str1 = \"Welcome to the Console !!!\"\n",
    "print(str1.endswith(\"to\",4,10))"
   ]
  },
  {
   "cell_type": "code",
   "execution_count": 40,
   "id": "9d17457a",
   "metadata": {},
   "outputs": [
    {
     "name": "stdout",
     "output_type": "stream",
     "text": [
      "10\n",
      "-1\n"
     ]
    }
   ],
   "source": [
    "# 9: find()\n",
    "# return index of 1st occurence. if value is absent return -1\n",
    "\n",
    "str1 = \"He's name is Dan. He is an honest man.\"\n",
    "print(str1.find(\"is\"))\n",
    "\n",
    "print(str1.find(\"ishh\"))"
   ]
  },
  {
   "cell_type": "code",
   "execution_count": 42,
   "id": "0974b341",
   "metadata": {},
   "outputs": [
    {
     "name": "stdout",
     "output_type": "stream",
     "text": [
      "10\n"
     ]
    },
    {
     "ename": "ValueError",
     "evalue": "substring not found",
     "output_type": "error",
     "traceback": [
      "\u001b[1;31m---------------------------------------------------------------------------\u001b[0m",
      "\u001b[1;31mValueError\u001b[0m                                Traceback (most recent call last)",
      "Cell \u001b[1;32mIn[42], line 6\u001b[0m\n\u001b[0;32m      3\u001b[0m str1 \u001b[38;5;241m=\u001b[39m \u001b[38;5;124m\"\u001b[39m\u001b[38;5;124mHe\u001b[39m\u001b[38;5;124m'\u001b[39m\u001b[38;5;124ms name is Dan. He is an honest man.\u001b[39m\u001b[38;5;124m\"\u001b[39m\n\u001b[0;32m      4\u001b[0m \u001b[38;5;28mprint\u001b[39m(str1\u001b[38;5;241m.\u001b[39mindex(\u001b[38;5;124m\"\u001b[39m\u001b[38;5;124mis\u001b[39m\u001b[38;5;124m\"\u001b[39m))\n\u001b[1;32m----> 6\u001b[0m \u001b[38;5;28mprint\u001b[39m(str1\u001b[38;5;241m.\u001b[39mindex(\u001b[38;5;124m\"\u001b[39m\u001b[38;5;124mishh\u001b[39m\u001b[38;5;124m\"\u001b[39m))\n",
      "\u001b[1;31mValueError\u001b[0m: substring not found"
     ]
    }
   ],
   "source": [
    "# 10 index()\n",
    "# similar as find. but it returns error when value is absent\n",
    "str1 = \"He's name is Dan. He is an honest man.\"\n",
    "print(str1.index(\"is\"))\n",
    "\n",
    "print(str1.index(\"ishh\"))"
   ]
  },
  {
   "cell_type": "code",
   "execution_count": 47,
   "id": "1e892a85",
   "metadata": {},
   "outputs": [
    {
     "name": "stdout",
     "output_type": "stream",
     "text": [
      "True\n"
     ]
    }
   ],
   "source": [
    "# 11: isalnum()\n",
    "# return true = if A-z,a-z,0-9 these type of string is called alpha numeric strings\n",
    "# other wisefalse\n",
    "str1 = \"WelcomeToTheConsole\"\n",
    "print(str1.isalnum())"
   ]
  },
  {
   "cell_type": "code",
   "execution_count": 50,
   "id": "7ff7e1e5",
   "metadata": {},
   "outputs": [
    {
     "name": "stdout",
     "output_type": "stream",
     "text": [
      "False\n",
      "True\n"
     ]
    }
   ],
   "source": [
    "# 12: isalpha()\n",
    "# return true = if A-z,a-z.\n",
    "# other wise = false if number\n",
    "str1 = \"Welcome00\"\n",
    "print(str1.isalpha())\n",
    "\n",
    "str1 = \"Welcome\"\n",
    "print(str1.isalpha())"
   ]
  },
  {
   "cell_type": "code",
   "execution_count": 52,
   "id": "18562fc2",
   "metadata": {},
   "outputs": [
    {
     "name": "stdout",
     "output_type": "stream",
     "text": [
      "True\n",
      "False\n"
     ]
    }
   ],
   "source": [
    "# 13: islower()\n",
    "str1 = \"hello world\"\n",
    "print(str1.islower())\n",
    "\n",
    "str1 = \"hello worldH\"\n",
    "print(str1.islower())"
   ]
  },
  {
   "cell_type": "code",
   "execution_count": 56,
   "id": "92614948",
   "metadata": {},
   "outputs": [
    {
     "name": "stdout",
     "output_type": "stream",
     "text": [
      "True\n",
      "We wish you a Merry Christmas\n",
      "\n",
      "False\n"
     ]
    }
   ],
   "source": [
    "# 14: isprintable()\n",
    "\n",
    "str1 = \"We wish you a Merry Christmas\"\n",
    "print(str1.isprintable())\n",
    "\n",
    "str1 = \"We wish you a Merry Christmas\\n\"\n",
    "print(str1)\n",
    "print(str1.isprintable())  # backslash n is escape sequence char. it is used to print in next line."
   ]
  },
  {
   "cell_type": "code",
   "execution_count": 58,
   "id": "9e7397b1",
   "metadata": {},
   "outputs": [
    {
     "name": "stdout",
     "output_type": "stream",
     "text": [
      "True\n",
      "True\n"
     ]
    }
   ],
   "source": [
    "# 15: isspace()\n",
    "str1 = \"           \"   #using spacebar\n",
    "print(str1.isspace())\n",
    "str2 = \"    \" #using Tab\n",
    "print(str2.isspace())"
   ]
  },
  {
   "cell_type": "code",
   "execution_count": 61,
   "id": "abe988cf",
   "metadata": {},
   "outputs": [
    {
     "name": "stdout",
     "output_type": "stream",
     "text": [
      "True\n",
      "False\n"
     ]
    }
   ],
   "source": [
    "# 16: istitle()\n",
    "# return true only if the 1st letter of each word is capital else false.\n",
    "str1 = \"World Health Oraganization\"\n",
    "print(str1.istitle())\n",
    "\n",
    "str2 = \"To Kill a Mocking bird\"\n",
    "print(str2.istitle())"
   ]
  },
  {
   "cell_type": "code",
   "execution_count": 62,
   "id": "1f049c6d",
   "metadata": {},
   "outputs": [
    {
     "name": "stdout",
     "output_type": "stream",
     "text": [
      "True\n"
     ]
    }
   ],
   "source": [
    "# 17: isupper():\n",
    "# true if all the characters is upper case else false\n",
    "str1 = \"WORLD HEALTH ORGANIZATION\"\n",
    "print(str1.isupper())"
   ]
  },
  {
   "cell_type": "code",
   "execution_count": 67,
   "id": "7d33ed1d",
   "metadata": {},
   "outputs": [
    {
     "name": "stdout",
     "output_type": "stream",
     "text": [
      "True\n"
     ]
    }
   ],
   "source": [
    "# 18: startswith()\n",
    "str1 = \"Python is a Interpreted Language\"\n",
    "print(str1.startswith(\"Python\"))"
   ]
  },
  {
   "cell_type": "code",
   "execution_count": 68,
   "id": "3bea4204",
   "metadata": {},
   "outputs": [
    {
     "name": "stdout",
     "output_type": "stream",
     "text": [
      "pYTHON IS A iNTERPRETED lANGUAGE\n"
     ]
    }
   ],
   "source": [
    "# 19: swapcase()\n",
    "# upper ko lower and lower ko upper.\n",
    "str1 = \"Python is a Interpreted Language\"\n",
    "print(str1.swapcase())"
   ]
  },
  {
   "cell_type": "code",
   "execution_count": 70,
   "id": "061f0750",
   "metadata": {},
   "outputs": [
    {
     "name": "stdout",
     "output_type": "stream",
     "text": [
      "His Name Is Dan. Dan Is An Honest Man.\n"
     ]
    }
   ],
   "source": [
    "# 20: title()\n",
    "# capital 1st letter of every word\n",
    "str1 = \"His name is Dan. Dan is an honest man.\"\n",
    "print(str1.title())"
   ]
  },
  {
   "cell_type": "code",
   "execution_count": 71,
   "id": "b1cc4df3",
   "metadata": {},
   "outputs": [],
   "source": [
    "# code with harry use continuity cam on macbookto record utube video. 😋 for more see video"
   ]
  },
  {
   "cell_type": "code",
   "execution_count": 1,
   "id": "442835fd",
   "metadata": {},
   "outputs": [],
   "source": [
    "# notes\n",
    "# strings are immutable  (use ctrl + froward slash) to comment nd uncomment\n",
    "# rstrip only strip(remove) the trailing(ending) characters. not leading(starting) characters.\n",
    "# rstrip ex: \n",
    "# a = \"harry !!!\"\n",
    "# print(a.rstrip(\"!\"))    harry \n",
    "# a = \"!!! harry !!!\"\n",
    "# print(a.rstrip(\"!\"))   !!! harry\n",
    "# 5: capitalize()\n",
    "# Not in javascript(js)\n",
    "# makes 1st char upper and all lower\n",
    "# useful when writing bolgs\n",
    "# # replit.com/#codewithharry -> Fork Repl\n",
    "# boolean datatypes. we will use in if else statements in coming lectures.\n",
    "# # code with harry use continuity cam on macbook to record utube video. 😋 for more see video\n",
    "\n",
    "# str1 = \"hello\"\n",
    "# capStr1 = str1.capitalize()\n",
    "# print(capStr1)\n",
    "# also,\n",
    "# str1 = \"hello\"\n",
    "# print(str1.capitalize())\n",
    "# A-z,a-z,0-9 these type of string is called alpha numeric strings"
   ]
  },
  {
   "cell_type": "code",
   "execution_count": 2,
   "id": "d40c7794",
   "metadata": {},
   "outputs": [
    {
     "name": "stdout",
     "output_type": "stream",
     "text": [
      "harry \n"
     ]
    }
   ],
   "source": []
  },
  {
   "cell_type": "code",
   "execution_count": 3,
   "id": "c70cbb46",
   "metadata": {},
   "outputs": [
    {
     "name": "stdout",
     "output_type": "stream",
     "text": [
      "harry !!! harry\n"
     ]
    }
   ],
   "source": []
  },
  {
   "cell_type": "code",
   "execution_count": null,
   "id": "37cbba34",
   "metadata": {},
   "outputs": [],
   "source": []
  }
 ],
 "metadata": {
  "kernelspec": {
   "display_name": "Python 3 (ipykernel)",
   "language": "python",
   "name": "python3"
  },
  "language_info": {
   "codemirror_mode": {
    "name": "ipython",
    "version": 3
   },
   "file_extension": ".py",
   "mimetype": "text/x-python",
   "name": "python",
   "nbconvert_exporter": "python",
   "pygments_lexer": "ipython3",
   "version": "3.11.4"
  }
 },
 "nbformat": 4,
 "nbformat_minor": 5
}
