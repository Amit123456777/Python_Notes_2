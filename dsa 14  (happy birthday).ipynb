{
 "cells": [
  {
   "cell_type": "code",
   "execution_count": 11,
   "id": "d2756ae3",
   "metadata": {},
   "outputs": [
    {
     "name": "stdout",
     "output_type": "stream",
     "text": [
      "Happy birday to you !\n",
      "may god bless you !\n",
      "Happy birthday to you !\n",
      "Happy birday to you !\n",
      "may god bless you !\n",
      "Happy birthday to you !\n",
      "Happy birday to you !\n",
      "may god bless you !\n",
      "Happy birthday to you !\n"
     ]
    }
   ],
   "source": [
    "# by me\n",
    "def myfunction():\n",
    "    print(\"Happy birday to you !\\nmay god bless you !\\nHappy birthday to you !\")\n",
    "myfunction()\n",
    "myfunction()\n",
    "myfunction()"
   ]
  },
  {
   "cell_type": "code",
   "execution_count": 5,
   "id": "a2dd88c5",
   "metadata": {},
   "outputs": [
    {
     "name": "stdout",
     "output_type": "stream",
     "text": [
      "Happy birday to you !may god bless you !Happy birthday to you !\n",
      "Happy birday to you !may god bless you !Happy birthday to you !\n",
      "Happy birday to you !may god bless you !Happy birthday to you !\n"
     ]
    }
   ],
   "source": [
    "# by ma'am\n",
    "def myfunction():\n",
    "    print(\"Happy birday to you !may god bless you !Happy birthday to you !\")\n",
    "myfunction()\n",
    "myfunction()\n",
    "myfunction()"
   ]
  },
  {
   "cell_type": "code",
   "execution_count": 3,
   "id": "ce074194",
   "metadata": {},
   "outputs": [
    {
     "name": "stdout",
     "output_type": "stream",
     "text": [
      "-1\n"
     ]
    }
   ],
   "source": [
    "# calculator (def without call functn )\n",
    "def subtraction():\n",
    "    print(8-9)\n",
    "subtraction()"
   ]
  },
  {
   "cell_type": "code",
   "execution_count": 1,
   "id": "8de23ee9",
   "metadata": {},
   "outputs": [],
   "source": [
    "# BUILD A PROGRAM THAT RETURN MULTIPLY OF 8 FOR EVERY NO. INSERTED ?"
   ]
  },
  {
   "cell_type": "code",
   "execution_count": 2,
   "id": "5b5e924b",
   "metadata": {},
   "outputs": [
    {
     "name": "stdout",
     "output_type": "stream",
     "text": [
      "72\n"
     ]
    }
   ],
   "source": [
    "def multiplication():\n",
    "    print(8*9)\n",
    "multiplication()"
   ]
  },
  {
   "cell_type": "code",
   "execution_count": 3,
   "id": "df23641e",
   "metadata": {},
   "outputs": [
    {
     "name": "stdout",
     "output_type": "stream",
     "text": [
      "0.8888888888888888\n"
     ]
    }
   ],
   "source": [
    "def division():\n",
    "    print(8/9)\n",
    "division()"
   ]
  },
  {
   "cell_type": "code",
   "execution_count": 4,
   "id": "324abd9b",
   "metadata": {},
   "outputs": [
    {
     "name": "stdout",
     "output_type": "stream",
     "text": [
      "hello world\n"
     ]
    }
   ],
   "source": [
    "print(\"hello world\")"
   ]
  },
  {
   "cell_type": "code",
   "execution_count": null,
   "id": "4cc7fdee",
   "metadata": {},
   "outputs": [],
   "source": []
  },
  {
   "cell_type": "code",
   "execution_count": null,
   "id": "bf724c7b",
   "metadata": {},
   "outputs": [],
   "source": []
  },
  {
   "cell_type": "code",
   "execution_count": null,
   "id": "518ed944",
   "metadata": {},
   "outputs": [],
   "source": []
  },
  {
   "cell_type": "code",
   "execution_count": null,
   "id": "96ba03c2",
   "metadata": {},
   "outputs": [],
   "source": []
  }
 ],
 "metadata": {
  "kernelspec": {
   "display_name": "Python 3 (ipykernel)",
   "language": "python",
   "name": "python3"
  },
  "language_info": {
   "codemirror_mode": {
    "name": "ipython",
    "version": 3
   },
   "file_extension": ".py",
   "mimetype": "text/x-python",
   "name": "python",
   "nbconvert_exporter": "python",
   "pygments_lexer": "ipython3",
   "version": "3.11.4"
  }
 },
 "nbformat": 4,
 "nbformat_minor": 5
}
