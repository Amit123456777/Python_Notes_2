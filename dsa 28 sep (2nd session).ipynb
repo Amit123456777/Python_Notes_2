{
 "cells": [
  {
   "cell_type": "code",
   "execution_count": 8,
   "id": "6e556be9",
   "metadata": {
    "scrolled": false
   },
   "outputs": [
    {
     "ename": "SyntaxError",
     "evalue": "invalid syntax (2761956250.py, line 3)",
     "output_type": "error",
     "traceback": [
      "\u001b[1;36m  Cell \u001b[1;32mIn[8], line 3\u001b[1;36m\u001b[0m\n\u001b[1;33m    if num > str'0':\u001b[0m\n\u001b[1;37m                ^\u001b[0m\n\u001b[1;31mSyntaxError\u001b[0m\u001b[1;31m:\u001b[0m invalid syntax\n"
     ]
    }
   ],
   "source": [
    "num = input(\"enter the number : \")\n",
    "\n",
    "if num > 0:\n",
    "    def num():\n",
    "        print(\"positive\")\n",
    "elif num < 0:\n",
    "    def num():\n",
    "        print(\"negative\")\n",
    "else:\n",
    "    def num():\n",
    "        print(\"the number is zero .\")"
   ]
  },
  {
   "cell_type": "code",
   "execution_count": 14,
   "id": "58e11551",
   "metadata": {},
   "outputs": [
    {
     "name": "stdout",
     "output_type": "stream",
     "text": [
      "enter the number : 5\n"
     ]
    }
   ],
   "source": [
    "num = input(\"enter the number : \")\n",
    "if float(num) > 0:\n",
    "    def num():\n",
    "        print(\"positive\")\n",
    "elif float(num) < 0:\n",
    "    def num():\n",
    "        print(\"negative\")\n",
    "else:\n",
    "    def num():\n",
    "        print(\"the number is zero .\")"
   ]
  },
  {
   "cell_type": "code",
   "execution_count": 10,
   "id": "5965a105",
   "metadata": {
    "scrolled": true
   },
   "outputs": [
    {
     "ename": "TypeError",
     "evalue": "'>' not supported between instances of 'str' and 'int'",
     "output_type": "error",
     "traceback": [
      "\u001b[1;31m---------------------------------------------------------------------------\u001b[0m",
      "\u001b[1;31mTypeError\u001b[0m                                 Traceback (most recent call last)",
      "Cell \u001b[1;32mIn[10], line 1\u001b[0m\n\u001b[1;32m----> 1\u001b[0m \u001b[38;5;28;01mif\u001b[39;00m num \u001b[38;5;241m>\u001b[39m \u001b[38;5;241m0\u001b[39m:\n\u001b[0;32m      2\u001b[0m     \u001b[38;5;28;01mdef\u001b[39;00m \u001b[38;5;21mnum\u001b[39m():\n\u001b[0;32m      3\u001b[0m         \u001b[38;5;28mprint\u001b[39m(\u001b[38;5;124m\"\u001b[39m\u001b[38;5;124mpositive\u001b[39m\u001b[38;5;124m\"\u001b[39m)\n",
      "\u001b[1;31mTypeError\u001b[0m: '>' not supported between instances of 'str' and 'int'"
     ]
    }
   ],
   "source": [
    "if num > 0:\n",
    "    def num():\n",
    "        print(\"positive\")\n",
    "elif num < 0:\n",
    "    def num():\n",
    "        print(\"negative\")\n",
    "else:\n",
    "    def num():\n",
    "        print(\"the number is zero .\")"
   ]
  },
  {
   "cell_type": "markdown",
   "id": "10f4814d",
   "metadata": {},
   "source": [
    "#  ques: create a funtion that checks weather the given integer is +ve, -ve, and 0 ( using define function)"
   ]
  },
  {
   "cell_type": "code",
   "execution_count": 15,
   "id": "0072664e",
   "metadata": {},
   "outputs": [
    {
     "name": "stdout",
     "output_type": "stream",
     "text": [
      "enter a number5\n",
      "positive number\n"
     ]
    }
   ],
   "source": [
    "def checker(n):\n",
    "    if n>0:\n",
    "        print(\"positive number\")\n",
    "    elif n<0:\n",
    "        print(\"negative number\")\n",
    "    else:\n",
    "        print(\"it;s a zero\")\n",
    "num = int(input(\"enter a number\"))\n",
    "checker(num)"
   ]
  },
  {
   "cell_type": "code",
   "execution_count": null,
   "id": "21dffd1c",
   "metadata": {},
   "outputs": [],
   "source": []
  }
 ],
 "metadata": {
  "kernelspec": {
   "display_name": "Python 3 (ipykernel)",
   "language": "python",
   "name": "python3"
  },
  "language_info": {
   "codemirror_mode": {
    "name": "ipython",
    "version": 3
   },
   "file_extension": ".py",
   "mimetype": "text/x-python",
   "name": "python",
   "nbconvert_exporter": "python",
   "pygments_lexer": "ipython3",
   "version": "3.11.4"
  }
 },
 "nbformat": 4,
 "nbformat_minor": 5
}
