{
 "cells": [
  {
   "cell_type": "code",
   "execution_count": 1,
   "id": "08cb48a5",
   "metadata": {},
   "outputs": [],
   "source": []
  },
  {
   "cell_type": "code",
   "execution_count": null,
   "id": "191aacaa",
   "metadata": {},
   "outputs": [],
   "source": []
  },
  {
   "cell_type": "code",
   "execution_count": null,
   "id": "be78e3ad",
   "metadata": {},
   "outputs": [],
   "source": []
  },
  {
   "cell_type": "code",
   "execution_count": null,
   "id": "87443cbf",
   "metadata": {},
   "outputs": [],
   "source": [
    "# 1.dict are used to store data values in key:value \n",
    "# 2. it  is a collectn which is ordered changeable and do not allow duplicate values."
   ]
  },
  {
   "cell_type": "code",
   "execution_count": 7,
   "id": "d1f30288",
   "metadata": {},
   "outputs": [
    {
     "name": "stdout",
     "output_type": "stream",
     "text": [
      "{'brand': 'ford', 'model': 'mustang', 'year': 1994}\n"
     ]
    }
   ],
   "source": [
    "car_dic = {\"brand\":\"ford\", \"model\":\"mustang\",\"year\":1994}\n",
    "print(car_dic)"
   ]
  },
  {
   "cell_type": "code",
   "execution_count": 8,
   "id": "e2e7e92b",
   "metadata": {},
   "outputs": [],
   "source": [
    "# question print the brand values of dictionary"
   ]
  },
  {
   "cell_type": "code",
   "execution_count": 10,
   "id": "da368108",
   "metadata": {},
   "outputs": [
    {
     "name": "stdout",
     "output_type": "stream",
     "text": [
      "ford\n"
     ]
    }
   ],
   "source": [
    "print(car_dic[\"brand\"])"
   ]
  },
  {
   "cell_type": "code",
   "execution_count": 12,
   "id": "3cee28ea",
   "metadata": {},
   "outputs": [],
   "source": [
    "# duplicate values will overwrite exiting values.\n",
    "# dictionaries cannot have two items with the same key. this note for below"
   ]
  },
  {
   "cell_type": "code",
   "execution_count": 17,
   "id": "3dd5a9e4",
   "metadata": {},
   "outputs": [
    {
     "name": "stdout",
     "output_type": "stream",
     "text": [
      "{'brand': 'ford', 'model': 'mustang', 'year': 2022}\n"
     ]
    }
   ],
   "source": [
    "car_dic = {\"brand\":\"ford\", \"model\":\"mustang\",\"year\":1994,\"year\":2022}\n",
    "print(car_dic)"
   ]
  },
  {
   "cell_type": "code",
   "execution_count": 18,
   "id": "cd6d2617",
   "metadata": {},
   "outputs": [
    {
     "name": "stdout",
     "output_type": "stream",
     "text": [
      "3\n"
     ]
    }
   ],
   "source": [
    "print(len(car_dic))"
   ]
  },
  {
   "cell_type": "code",
   "execution_count": 19,
   "id": "051143e5",
   "metadata": {
    "scrolled": true
   },
   "outputs": [],
   "source": [
    "# acces dictionary items.\n"
   ]
  },
  {
   "cell_type": "code",
   "execution_count": 20,
   "id": "e804e632",
   "metadata": {},
   "outputs": [
    {
     "name": "stdout",
     "output_type": "stream",
     "text": [
      "mustang\n"
     ]
    }
   ],
   "source": [
    "print(car_dic[\"model\"])"
   ]
  },
  {
   "cell_type": "code",
   "execution_count": 22,
   "id": "6584a397",
   "metadata": {},
   "outputs": [],
   "source": [
    "# other methode of accessing values."
   ]
  },
  {
   "cell_type": "code",
   "execution_count": 23,
   "id": "b4d8a7b0",
   "metadata": {},
   "outputs": [],
   "source": [
    "x = car_dic['brand']"
   ]
  },
  {
   "cell_type": "code",
   "execution_count": 26,
   "id": "4c3f94dc",
   "metadata": {},
   "outputs": [
    {
     "name": "stdout",
     "output_type": "stream",
     "text": [
      "ford\n"
     ]
    }
   ],
   "source": [
    "print(x)"
   ]
  },
  {
   "cell_type": "code",
   "execution_count": 28,
   "id": "91d7cc61",
   "metadata": {},
   "outputs": [],
   "source": [
    "# other method of accesing values (get method)."
   ]
  },
  {
   "cell_type": "code",
   "execution_count": 49,
   "id": "07d40e7d",
   "metadata": {},
   "outputs": [
    {
     "name": "stdout",
     "output_type": "stream",
     "text": [
      "mustang\n"
     ]
    }
   ],
   "source": [
    "x = car_dic.get('model')\n",
    "print(x)"
   ]
  },
  {
   "cell_type": "code",
   "execution_count": null,
   "id": "22884928",
   "metadata": {},
   "outputs": [],
   "source": []
  },
  {
   "cell_type": "code",
   "execution_count": 50,
   "id": "10e29e12",
   "metadata": {},
   "outputs": [],
   "source": [
    "x=car_dic.get('model')"
   ]
  },
  {
   "cell_type": "code",
   "execution_count": 51,
   "id": "78dc9158",
   "metadata": {},
   "outputs": [
    {
     "name": "stdout",
     "output_type": "stream",
     "text": [
      "mustang\n"
     ]
    }
   ],
   "source": [
    "print(x)"
   ]
  },
  {
   "cell_type": "code",
   "execution_count": 52,
   "id": "fccbaa89",
   "metadata": {},
   "outputs": [],
   "source": [
    "# key method "
   ]
  },
  {
   "cell_type": "code",
   "execution_count": 53,
   "id": "36189085",
   "metadata": {},
   "outputs": [
    {
     "name": "stdout",
     "output_type": "stream",
     "text": [
      "dict_keys(['brand', 'model', 'year', 'color'])\n"
     ]
    }
   ],
   "source": [
    "print(car_dic.keys())\n"
   ]
  },
  {
   "cell_type": "code",
   "execution_count": 54,
   "id": "5a0c5a72",
   "metadata": {},
   "outputs": [],
   "source": [
    "# add new item to the original dictionary.\n"
   ]
  },
  {
   "cell_type": "code",
   "execution_count": 55,
   "id": "6eef2a0e",
   "metadata": {},
   "outputs": [
    {
     "name": "stdout",
     "output_type": "stream",
     "text": [
      "{'brand': 'ford', 'model': 'mustang', 'year': 2022, 'color': 'black'}\n"
     ]
    }
   ],
   "source": [
    "car_dic['color'] = 'black'\n",
    "print(car_dic)"
   ]
  },
  {
   "cell_type": "code",
   "execution_count": null,
   "id": "047f5a23",
   "metadata": {},
   "outputs": [],
   "source": [
    "\n",
    "\n"
   ]
  },
  {
   "cell_type": "code",
   "execution_count": 64,
   "id": "3d856868",
   "metadata": {},
   "outputs": [
    {
     "name": "stdout",
     "output_type": "stream",
     "text": [
      "{'veg1': 'potato', 'veg2': 'tomato', 'veg3': 'capsicum'}\n"
     ]
    }
   ],
   "source": [
    "veg_dic={'veg1':'potato','veg2':'tomato','veg3':'capsicum'}\n",
    "print(veg_dic)\n",
    "         "
   ]
  },
  {
   "cell_type": "code",
   "execution_count": null,
   "id": "d1ef948f",
   "metadata": {},
   "outputs": [],
   "source": [
    "\n",
    "\n"
   ]
  },
  {
   "cell_type": "code",
   "execution_count": 66,
   "id": "accda3bd",
   "metadata": {},
   "outputs": [
    {
     "name": "stdout",
     "output_type": "stream",
     "text": [
      "dict_keys(['veg1', 'veg2', 'veg3'])\n"
     ]
    }
   ],
   "source": [
    "x=veg_dic.keys() # this is for print keys only.\n",
    "print(x)"
   ]
  },
  {
   "cell_type": "code",
   "execution_count": 73,
   "id": "79e7a9e7",
   "metadata": {},
   "outputs": [
    {
     "name": "stdout",
     "output_type": "stream",
     "text": [
      "{'veg1': 'potato', 'veg2': 'tomato', 'veg3': 'capsicum', 'veg4': 'cabbage'}\n"
     ]
    }
   ],
   "source": [
    "veg_dic['veg4'] = 'cabbage'  # this is for add\n",
    "print(veg_dic)"
   ]
  },
  {
   "cell_type": "code",
   "execution_count": null,
   "id": "7db4608f",
   "metadata": {},
   "outputs": [],
   "source": []
  },
  {
   "cell_type": "code",
   "execution_count": null,
   "id": "61007fb2",
   "metadata": {},
   "outputs": [],
   "source": []
  },
  {
   "cell_type": "code",
   "execution_count": null,
   "id": "88451e16",
   "metadata": {},
   "outputs": [],
   "source": []
  },
  {
   "cell_type": "code",
   "execution_count": 5,
   "id": "a5fcc24c",
   "metadata": {},
   "outputs": [],
   "source": [
    "# change value"
   ]
  },
  {
   "cell_type": "code",
   "execution_count": 8,
   "id": "b2005419",
   "metadata": {},
   "outputs": [
    {
     "name": "stdout",
     "output_type": "stream",
     "text": [
      "{'brand': 'ford', 'model': 'mustang', 'year': 2022, 'color': 'black'}\n"
     ]
    }
   ],
   "source": [
    "car_dic = {'brand': 'ford', 'model': 'mustang', 'year': 2022, 'color': 'black'}\n",
    "print(car_dic)\n"
   ]
  },
  {
   "cell_type": "code",
   "execution_count": 9,
   "id": "8bf4d6b7",
   "metadata": {},
   "outputs": [
    {
     "name": "stdout",
     "output_type": "stream",
     "text": [
      "{'brand': 'ford', 'model': 'mustang', 'year': 2023, 'color': 'black'}\n"
     ]
    }
   ],
   "source": [
    "car_dic['year'] = 2023\n",
    "print(car_dic)"
   ]
  },
  {
   "cell_type": "code",
   "execution_count": null,
   "id": "9bd8cccf",
   "metadata": {},
   "outputs": [],
   "source": [
    "\n"
   ]
  },
  {
   "cell_type": "code",
   "execution_count": 10,
   "id": "d365c6ae",
   "metadata": {},
   "outputs": [],
   "source": [
    "# .update"
   ]
  },
  {
   "cell_type": "code",
   "execution_count": 17,
   "id": "465a12e8",
   "metadata": {},
   "outputs": [
    {
     "name": "stdout",
     "output_type": "stream",
     "text": [
      "{'brand': 'ford', 'model': 'mustang', 'year': 2023, 'color': 'black'}\n"
     ]
    }
   ],
   "source": [
    "car_dic.update({'year': 2023})\n",
    "print(car_dic)"
   ]
  },
  {
   "cell_type": "code",
   "execution_count": 13,
   "id": "7d76208e",
   "metadata": {},
   "outputs": [],
   "source": [
    "\n",
    "# REMOVE ITEMS 1.POP, 2. DELETE, 3. CLEAR\n",
    "# 1. POP METHOD REMOVES ITEM WITH KEY NAME."
   ]
  },
  {
   "cell_type": "code",
   "execution_count": 31,
   "id": "5a1d36e7",
   "metadata": {},
   "outputs": [],
   "source": [
    "# 1 pop"
   ]
  },
  {
   "cell_type": "code",
   "execution_count": 27,
   "id": "eca3a0bf",
   "metadata": {},
   "outputs": [
    {
     "name": "stdout",
     "output_type": "stream",
     "text": [
      "{'brand': 'ford', 'model': 'mustang'}\n"
     ]
    }
   ],
   "source": [
    "print(car_dic)"
   ]
  },
  {
   "cell_type": "code",
   "execution_count": 42,
   "id": "a00ac459",
   "metadata": {},
   "outputs": [
    {
     "name": "stdout",
     "output_type": "stream",
     "text": [
      "{'brand': 'ford', 'model': 'mustang', 'color': 'black', 'year': 2023}\n"
     ]
    }
   ],
   "source": [
    "car_dict = {'brand': 'ford', 'model': 'mustang', 'color': 'black', 'year':2023}\n",
    "print(car_dict)"
   ]
  },
  {
   "cell_type": "code",
   "execution_count": 43,
   "id": "4f85412c",
   "metadata": {},
   "outputs": [
    {
     "name": "stdout",
     "output_type": "stream",
     "text": [
      "{'brand': 'ford', 'model': 'mustang', 'color': 'black'}\n"
     ]
    }
   ],
   "source": [
    "car_dict.pop('year')\n",
    "print(car_dict)"
   ]
  },
  {
   "cell_type": "code",
   "execution_count": 46,
   "id": "83a8243d",
   "metadata": {},
   "outputs": [
    {
     "ename": "KeyError",
     "evalue": "'popitem(): dictionary is empty'",
     "output_type": "error",
     "traceback": [
      "\u001b[1;31m---------------------------------------------------------------------------\u001b[0m",
      "\u001b[1;31mKeyError\u001b[0m                                  Traceback (most recent call last)",
      "Cell \u001b[1;32mIn[46], line 1\u001b[0m\n\u001b[1;32m----> 1\u001b[0m car_dic\u001b[38;5;241m.\u001b[39mpopitem()\n\u001b[0;32m      2\u001b[0m \u001b[38;5;28mprint\u001b[39m(car_dic)\n",
      "\u001b[1;31mKeyError\u001b[0m: 'popitem(): dictionary is empty'"
     ]
    }
   ],
   "source": [
    "car_dic.popitem()\n",
    "print(car_dic)   # see code below scroll down"
   ]
  },
  {
   "cell_type": "code",
   "execution_count": 30,
   "id": "1794cb4e",
   "metadata": {},
   "outputs": [],
   "source": [
    "#delete"
   ]
  },
  {
   "cell_type": "code",
   "execution_count": 23,
   "id": "3934382f",
   "metadata": {},
   "outputs": [
    {
     "name": "stdout",
     "output_type": "stream",
     "text": [
      "{'brand': 'ford', 'model': 'mustang', 'year': 2023, 'color': 'black'}\n"
     ]
    }
   ],
   "source": [
    "car_dict = {'brand': 'ford', 'model': 'mustang', 'year': 2023, 'color': 'black'}\n",
    "print(car_dict)"
   ]
  },
  {
   "cell_type": "code",
   "execution_count": 25,
   "id": "48b55c83",
   "metadata": {},
   "outputs": [
    {
     "name": "stdout",
     "output_type": "stream",
     "text": [
      "{'brand': 'ford', 'model': 'mustang', 'color': 'black'}\n"
     ]
    }
   ],
   "source": [
    "del car_dict['year']\n",
    "print(car_dict)"
   ]
  },
  {
   "cell_type": "code",
   "execution_count": 47,
   "id": "cd8f884f",
   "metadata": {},
   "outputs": [
    {
     "name": "stdout",
     "output_type": "stream",
     "text": [
      "{'brand': 'ford', 'model': 'mustang', 'color': 'black', 'year': 2023}\n"
     ]
    }
   ],
   "source": [
    "\n",
    "\n",
    "\n",
    "car_dict = {'brand': 'ford', 'model': 'mustang', 'color': 'black', 'year':2023}\n",
    "print(car_dict)\n"
   ]
  },
  {
   "cell_type": "code",
   "execution_count": 50,
   "id": "c242a113",
   "metadata": {},
   "outputs": [
    {
     "name": "stdout",
     "output_type": "stream",
     "text": [
      "{'brand': 'ford', 'model': 'mustang'}\n"
     ]
    }
   ],
   "source": [
    "# pop item\n",
    "\n",
    "\n",
    "\n",
    "\n",
    "\n",
    "\n",
    "car_dict.popitem()\n",
    "print(car_dict) "
   ]
  },
  {
   "cell_type": "code",
   "execution_count": 68,
   "id": "a95bd43a",
   "metadata": {},
   "outputs": [],
   "source": [
    "\n",
    "\n",
    "# how to copy dictionary\n",
    "\n",
    "dict2={'a':1, 'b':2}"
   ]
  },
  {
   "cell_type": "code",
   "execution_count": 69,
   "id": "1bf871fa",
   "metadata": {},
   "outputs": [
    {
     "name": "stdout",
     "output_type": "stream",
     "text": [
      "{'a': 1, 'b': 2}\n"
     ]
    }
   ],
   "source": [
    "print(dict2)"
   ]
  },
  {
   "cell_type": "code",
   "execution_count": 70,
   "id": "4fe53b47",
   "metadata": {},
   "outputs": [
    {
     "name": "stdout",
     "output_type": "stream",
     "text": [
      "{'a': 1}\n"
     ]
    }
   ],
   "source": [
    "del dict2['b']\n",
    "print(dict2)"
   ]
  },
  {
   "cell_type": "code",
   "execution_count": 76,
   "id": "1d851525",
   "metadata": {
    "scrolled": true
   },
   "outputs": [
    {
     "name": "stdout",
     "output_type": "stream",
     "text": [
      "{'b': 6, 'd': 4}\n"
     ]
    }
   ],
   "source": [
    "dict1 = {'b':6,'d':4}\n",
    "print(dict1)\n"
   ]
  },
  {
   "cell_type": "code",
   "execution_count": 81,
   "id": "c3ba52f6",
   "metadata": {},
   "outputs": [
    {
     "name": "stdout",
     "output_type": "stream",
     "text": [
      "{'g': 7, 'd': 4}\n"
     ]
    }
   ],
   "source": [
    "dict2={'g':7,'d':4}\n",
    "print(dict2)\n"
   ]
  },
  {
   "cell_type": "code",
   "execution_count": 87,
   "id": "b4db64c8",
   "metadata": {
    "scrolled": true
   },
   "outputs": [
    {
     "name": "stdout",
     "output_type": "stream",
     "text": [
      "{'b': 6, 'd': 4}\n"
     ]
    }
   ],
   "source": [
    "dict2=dict1.copy()\n",
    "print(dict2)"
   ]
  },
  {
   "cell_type": "code",
   "execution_count": 93,
   "id": "ce28c64a",
   "metadata": {},
   "outputs": [
    {
     "name": "stdout",
     "output_type": "stream",
     "text": [
      "{'b': 6, 'd': 4}\n"
     ]
    }
   ],
   "source": [
    "dict2=dict(dict1)\n",
    "print(dict2)"
   ]
  },
  {
   "cell_type": "code",
   "execution_count": 88,
   "id": "f02ee238",
   "metadata": {},
   "outputs": [],
   "source": [
    "#   nested dictionary\n",
    "#a dictionary can contain more dict this is called nested dictionary."
   ]
  },
  {
   "cell_type": "code",
   "execution_count": 91,
   "id": "23015fb9",
   "metadata": {},
   "outputs": [
    {
     "name": "stdout",
     "output_type": "stream",
     "text": [
      "{'member1': {'name': 'A', 'age': 20}, 'member2': {'name': 'B', 'age': 23}, 'member3': {'name': 'c', 'age': 23}}\n"
     ]
    }
   ],
   "source": [
    "myfamily = {'member1':{\"name\":\"A\",\"age\":20},'member2':{\"name\":\"B\",'age':23},'member3':{\"name\":\"c\",\"age\":23}}\n",
    "print(myfamily)"
   ]
  },
  {
   "cell_type": "code",
   "execution_count": null,
   "id": "9b3b8a00",
   "metadata": {},
   "outputs": [],
   "source": []
  },
  {
   "cell_type": "code",
   "execution_count": null,
   "id": "cc6678dd",
   "metadata": {},
   "outputs": [],
   "source": []
  }
 ],
 "metadata": {
  "kernelspec": {
   "display_name": "Python 3 (ipykernel)",
   "language": "python",
   "name": "python3"
  },
  "language_info": {
   "codemirror_mode": {
    "name": "ipython",
    "version": 3
   },
   "file_extension": ".py",
   "mimetype": "text/x-python",
   "name": "python",
   "nbconvert_exporter": "python",
   "pygments_lexer": "ipython3",
   "version": "3.11.4"
  }
 },
 "nbformat": 4,
 "nbformat_minor": 5
}
