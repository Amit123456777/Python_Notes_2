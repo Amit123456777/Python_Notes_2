{
 "cells": [
  {
   "cell_type": "code",
   "execution_count": 1,
   "id": "aa290e28-ff1c-4996-8924-ae4e66405809",
   "metadata": {},
   "outputs": [],
   "source": [
    "# write csv file\n"
   ]
  },
  {
   "cell_type": "code",
   "execution_count": 5,
   "id": "1648c88e-abc6-4a95-a9ae-5e4626898f70",
   "metadata": {},
   "outputs": [
    {
     "name": "stdout",
     "output_type": "stream",
     "text": [
      "   a  s  d\n",
      "0  1  1  1\n",
      "1  2  2  2\n",
      "2  3  3  3\n",
      "3  4  4  4\n",
      "4  5  5  5\n",
      "5  6  6  6\n"
     ]
    },
    {
     "ename": "PermissionError",
     "evalue": "[Errno 13] Permission denied: 'Test_new.csv'",
     "output_type": "error",
     "traceback": [
      "\u001b[1;31m---------------------------------------------------------------------------\u001b[0m",
      "\u001b[1;31mPermissionError\u001b[0m                           Traceback (most recent call last)",
      "Cell \u001b[1;32mIn[5], line 6\u001b[0m\n\u001b[0;32m      3\u001b[0m d \u001b[38;5;241m=\u001b[39m pd\u001b[38;5;241m.\u001b[39mDataFrame(dis)\n\u001b[0;32m      4\u001b[0m \u001b[38;5;28mprint\u001b[39m(d)\n\u001b[1;32m----> 6\u001b[0m \u001b[43md\u001b[49m\u001b[38;5;241;43m.\u001b[39;49m\u001b[43mto_csv\u001b[49m\u001b[43m(\u001b[49m\u001b[38;5;124;43m\"\u001b[39;49m\u001b[38;5;124;43mTest_new.csv\u001b[39;49m\u001b[38;5;124;43m\"\u001b[39;49m\u001b[43m)\u001b[49m\n\u001b[0;32m      9\u001b[0m \u001b[38;5;66;03m# test_new = file name\u001b[39;00m\n\u001b[0;32m     10\u001b[0m \u001b[38;5;66;03m# \u001b[39;00m\n",
      "File \u001b[1;32m~\\AppData\\Roaming\\Python\\Python311\\site-packages\\pandas\\core\\generic.py:3902\u001b[0m, in \u001b[0;36mNDFrame.to_csv\u001b[1;34m(self, path_or_buf, sep, na_rep, float_format, columns, header, index, index_label, mode, encoding, compression, quoting, quotechar, lineterminator, chunksize, date_format, doublequote, escapechar, decimal, errors, storage_options)\u001b[0m\n\u001b[0;32m   3891\u001b[0m df \u001b[38;5;241m=\u001b[39m \u001b[38;5;28mself\u001b[39m \u001b[38;5;28;01mif\u001b[39;00m \u001b[38;5;28misinstance\u001b[39m(\u001b[38;5;28mself\u001b[39m, ABCDataFrame) \u001b[38;5;28;01melse\u001b[39;00m \u001b[38;5;28mself\u001b[39m\u001b[38;5;241m.\u001b[39mto_frame()\n\u001b[0;32m   3893\u001b[0m formatter \u001b[38;5;241m=\u001b[39m DataFrameFormatter(\n\u001b[0;32m   3894\u001b[0m     frame\u001b[38;5;241m=\u001b[39mdf,\n\u001b[0;32m   3895\u001b[0m     header\u001b[38;5;241m=\u001b[39mheader,\n\u001b[1;32m   (...)\u001b[0m\n\u001b[0;32m   3899\u001b[0m     decimal\u001b[38;5;241m=\u001b[39mdecimal,\n\u001b[0;32m   3900\u001b[0m )\n\u001b[1;32m-> 3902\u001b[0m \u001b[38;5;28;01mreturn\u001b[39;00m \u001b[43mDataFrameRenderer\u001b[49m\u001b[43m(\u001b[49m\u001b[43mformatter\u001b[49m\u001b[43m)\u001b[49m\u001b[38;5;241;43m.\u001b[39;49m\u001b[43mto_csv\u001b[49m\u001b[43m(\u001b[49m\n\u001b[0;32m   3903\u001b[0m \u001b[43m    \u001b[49m\u001b[43mpath_or_buf\u001b[49m\u001b[43m,\u001b[49m\n\u001b[0;32m   3904\u001b[0m \u001b[43m    \u001b[49m\u001b[43mlineterminator\u001b[49m\u001b[38;5;241;43m=\u001b[39;49m\u001b[43mlineterminator\u001b[49m\u001b[43m,\u001b[49m\n\u001b[0;32m   3905\u001b[0m \u001b[43m    \u001b[49m\u001b[43msep\u001b[49m\u001b[38;5;241;43m=\u001b[39;49m\u001b[43msep\u001b[49m\u001b[43m,\u001b[49m\n\u001b[0;32m   3906\u001b[0m \u001b[43m    \u001b[49m\u001b[43mencoding\u001b[49m\u001b[38;5;241;43m=\u001b[39;49m\u001b[43mencoding\u001b[49m\u001b[43m,\u001b[49m\n\u001b[0;32m   3907\u001b[0m \u001b[43m    \u001b[49m\u001b[43merrors\u001b[49m\u001b[38;5;241;43m=\u001b[39;49m\u001b[43merrors\u001b[49m\u001b[43m,\u001b[49m\n\u001b[0;32m   3908\u001b[0m \u001b[43m    \u001b[49m\u001b[43mcompression\u001b[49m\u001b[38;5;241;43m=\u001b[39;49m\u001b[43mcompression\u001b[49m\u001b[43m,\u001b[49m\n\u001b[0;32m   3909\u001b[0m \u001b[43m    \u001b[49m\u001b[43mquoting\u001b[49m\u001b[38;5;241;43m=\u001b[39;49m\u001b[43mquoting\u001b[49m\u001b[43m,\u001b[49m\n\u001b[0;32m   3910\u001b[0m \u001b[43m    \u001b[49m\u001b[43mcolumns\u001b[49m\u001b[38;5;241;43m=\u001b[39;49m\u001b[43mcolumns\u001b[49m\u001b[43m,\u001b[49m\n\u001b[0;32m   3911\u001b[0m \u001b[43m    \u001b[49m\u001b[43mindex_label\u001b[49m\u001b[38;5;241;43m=\u001b[39;49m\u001b[43mindex_label\u001b[49m\u001b[43m,\u001b[49m\n\u001b[0;32m   3912\u001b[0m \u001b[43m    \u001b[49m\u001b[43mmode\u001b[49m\u001b[38;5;241;43m=\u001b[39;49m\u001b[43mmode\u001b[49m\u001b[43m,\u001b[49m\n\u001b[0;32m   3913\u001b[0m \u001b[43m    \u001b[49m\u001b[43mchunksize\u001b[49m\u001b[38;5;241;43m=\u001b[39;49m\u001b[43mchunksize\u001b[49m\u001b[43m,\u001b[49m\n\u001b[0;32m   3914\u001b[0m \u001b[43m    \u001b[49m\u001b[43mquotechar\u001b[49m\u001b[38;5;241;43m=\u001b[39;49m\u001b[43mquotechar\u001b[49m\u001b[43m,\u001b[49m\n\u001b[0;32m   3915\u001b[0m \u001b[43m    \u001b[49m\u001b[43mdate_format\u001b[49m\u001b[38;5;241;43m=\u001b[39;49m\u001b[43mdate_format\u001b[49m\u001b[43m,\u001b[49m\n\u001b[0;32m   3916\u001b[0m \u001b[43m    \u001b[49m\u001b[43mdoublequote\u001b[49m\u001b[38;5;241;43m=\u001b[39;49m\u001b[43mdoublequote\u001b[49m\u001b[43m,\u001b[49m\n\u001b[0;32m   3917\u001b[0m \u001b[43m    \u001b[49m\u001b[43mescapechar\u001b[49m\u001b[38;5;241;43m=\u001b[39;49m\u001b[43mescapechar\u001b[49m\u001b[43m,\u001b[49m\n\u001b[0;32m   3918\u001b[0m \u001b[43m    \u001b[49m\u001b[43mstorage_options\u001b[49m\u001b[38;5;241;43m=\u001b[39;49m\u001b[43mstorage_options\u001b[49m\u001b[43m,\u001b[49m\n\u001b[0;32m   3919\u001b[0m \u001b[43m\u001b[49m\u001b[43m)\u001b[49m\n",
      "File \u001b[1;32m~\\AppData\\Roaming\\Python\\Python311\\site-packages\\pandas\\io\\formats\\format.py:1152\u001b[0m, in \u001b[0;36mDataFrameRenderer.to_csv\u001b[1;34m(self, path_or_buf, encoding, sep, columns, index_label, mode, compression, quoting, quotechar, lineterminator, chunksize, date_format, doublequote, escapechar, errors, storage_options)\u001b[0m\n\u001b[0;32m   1131\u001b[0m     created_buffer \u001b[38;5;241m=\u001b[39m \u001b[38;5;28;01mFalse\u001b[39;00m\n\u001b[0;32m   1133\u001b[0m csv_formatter \u001b[38;5;241m=\u001b[39m CSVFormatter(\n\u001b[0;32m   1134\u001b[0m     path_or_buf\u001b[38;5;241m=\u001b[39mpath_or_buf,\n\u001b[0;32m   1135\u001b[0m     lineterminator\u001b[38;5;241m=\u001b[39mlineterminator,\n\u001b[1;32m   (...)\u001b[0m\n\u001b[0;32m   1150\u001b[0m     formatter\u001b[38;5;241m=\u001b[39m\u001b[38;5;28mself\u001b[39m\u001b[38;5;241m.\u001b[39mfmt,\n\u001b[0;32m   1151\u001b[0m )\n\u001b[1;32m-> 1152\u001b[0m \u001b[43mcsv_formatter\u001b[49m\u001b[38;5;241;43m.\u001b[39;49m\u001b[43msave\u001b[49m\u001b[43m(\u001b[49m\u001b[43m)\u001b[49m\n\u001b[0;32m   1154\u001b[0m \u001b[38;5;28;01mif\u001b[39;00m created_buffer:\n\u001b[0;32m   1155\u001b[0m     \u001b[38;5;28;01massert\u001b[39;00m \u001b[38;5;28misinstance\u001b[39m(path_or_buf, StringIO)\n",
      "File \u001b[1;32m~\\AppData\\Roaming\\Python\\Python311\\site-packages\\pandas\\io\\formats\\csvs.py:247\u001b[0m, in \u001b[0;36mCSVFormatter.save\u001b[1;34m(self)\u001b[0m\n\u001b[0;32m    243\u001b[0m \u001b[38;5;250m\u001b[39m\u001b[38;5;124;03m\"\"\"\u001b[39;00m\n\u001b[0;32m    244\u001b[0m \u001b[38;5;124;03mCreate the writer & save.\u001b[39;00m\n\u001b[0;32m    245\u001b[0m \u001b[38;5;124;03m\"\"\"\u001b[39;00m\n\u001b[0;32m    246\u001b[0m \u001b[38;5;66;03m# apply compression and byte/text conversion\u001b[39;00m\n\u001b[1;32m--> 247\u001b[0m \u001b[38;5;28;01mwith\u001b[39;00m \u001b[43mget_handle\u001b[49m\u001b[43m(\u001b[49m\n\u001b[0;32m    248\u001b[0m \u001b[43m    \u001b[49m\u001b[38;5;28;43mself\u001b[39;49m\u001b[38;5;241;43m.\u001b[39;49m\u001b[43mfilepath_or_buffer\u001b[49m\u001b[43m,\u001b[49m\n\u001b[0;32m    249\u001b[0m \u001b[43m    \u001b[49m\u001b[38;5;28;43mself\u001b[39;49m\u001b[38;5;241;43m.\u001b[39;49m\u001b[43mmode\u001b[49m\u001b[43m,\u001b[49m\n\u001b[0;32m    250\u001b[0m \u001b[43m    \u001b[49m\u001b[43mencoding\u001b[49m\u001b[38;5;241;43m=\u001b[39;49m\u001b[38;5;28;43mself\u001b[39;49m\u001b[38;5;241;43m.\u001b[39;49m\u001b[43mencoding\u001b[49m\u001b[43m,\u001b[49m\n\u001b[0;32m    251\u001b[0m \u001b[43m    \u001b[49m\u001b[43merrors\u001b[49m\u001b[38;5;241;43m=\u001b[39;49m\u001b[38;5;28;43mself\u001b[39;49m\u001b[38;5;241;43m.\u001b[39;49m\u001b[43merrors\u001b[49m\u001b[43m,\u001b[49m\n\u001b[0;32m    252\u001b[0m \u001b[43m    \u001b[49m\u001b[43mcompression\u001b[49m\u001b[38;5;241;43m=\u001b[39;49m\u001b[38;5;28;43mself\u001b[39;49m\u001b[38;5;241;43m.\u001b[39;49m\u001b[43mcompression\u001b[49m\u001b[43m,\u001b[49m\n\u001b[0;32m    253\u001b[0m \u001b[43m    \u001b[49m\u001b[43mstorage_options\u001b[49m\u001b[38;5;241;43m=\u001b[39;49m\u001b[38;5;28;43mself\u001b[39;49m\u001b[38;5;241;43m.\u001b[39;49m\u001b[43mstorage_options\u001b[49m\u001b[43m,\u001b[49m\n\u001b[0;32m    254\u001b[0m \u001b[43m\u001b[49m\u001b[43m)\u001b[49m \u001b[38;5;28;01mas\u001b[39;00m handles:\n\u001b[0;32m    255\u001b[0m     \u001b[38;5;66;03m# Note: self.encoding is irrelevant here\u001b[39;00m\n\u001b[0;32m    256\u001b[0m     \u001b[38;5;28mself\u001b[39m\u001b[38;5;241m.\u001b[39mwriter \u001b[38;5;241m=\u001b[39m csvlib\u001b[38;5;241m.\u001b[39mwriter(\n\u001b[0;32m    257\u001b[0m         handles\u001b[38;5;241m.\u001b[39mhandle,\n\u001b[0;32m    258\u001b[0m         lineterminator\u001b[38;5;241m=\u001b[39m\u001b[38;5;28mself\u001b[39m\u001b[38;5;241m.\u001b[39mlineterminator,\n\u001b[1;32m   (...)\u001b[0m\n\u001b[0;32m    263\u001b[0m         quotechar\u001b[38;5;241m=\u001b[39m\u001b[38;5;28mself\u001b[39m\u001b[38;5;241m.\u001b[39mquotechar,\n\u001b[0;32m    264\u001b[0m     )\n\u001b[0;32m    266\u001b[0m     \u001b[38;5;28mself\u001b[39m\u001b[38;5;241m.\u001b[39m_save()\n",
      "File \u001b[1;32m~\\AppData\\Roaming\\Python\\Python311\\site-packages\\pandas\\io\\common.py:863\u001b[0m, in \u001b[0;36mget_handle\u001b[1;34m(path_or_buf, mode, encoding, compression, memory_map, is_text, errors, storage_options)\u001b[0m\n\u001b[0;32m    858\u001b[0m \u001b[38;5;28;01melif\u001b[39;00m \u001b[38;5;28misinstance\u001b[39m(handle, \u001b[38;5;28mstr\u001b[39m):\n\u001b[0;32m    859\u001b[0m     \u001b[38;5;66;03m# Check whether the filename is to be opened in binary mode.\u001b[39;00m\n\u001b[0;32m    860\u001b[0m     \u001b[38;5;66;03m# Binary mode does not support 'encoding' and 'newline'.\u001b[39;00m\n\u001b[0;32m    861\u001b[0m     \u001b[38;5;28;01mif\u001b[39;00m ioargs\u001b[38;5;241m.\u001b[39mencoding \u001b[38;5;129;01mand\u001b[39;00m \u001b[38;5;124m\"\u001b[39m\u001b[38;5;124mb\u001b[39m\u001b[38;5;124m\"\u001b[39m \u001b[38;5;129;01mnot\u001b[39;00m \u001b[38;5;129;01min\u001b[39;00m ioargs\u001b[38;5;241m.\u001b[39mmode:\n\u001b[0;32m    862\u001b[0m         \u001b[38;5;66;03m# Encoding\u001b[39;00m\n\u001b[1;32m--> 863\u001b[0m         handle \u001b[38;5;241m=\u001b[39m \u001b[38;5;28;43mopen\u001b[39;49m\u001b[43m(\u001b[49m\n\u001b[0;32m    864\u001b[0m \u001b[43m            \u001b[49m\u001b[43mhandle\u001b[49m\u001b[43m,\u001b[49m\n\u001b[0;32m    865\u001b[0m \u001b[43m            \u001b[49m\u001b[43mioargs\u001b[49m\u001b[38;5;241;43m.\u001b[39;49m\u001b[43mmode\u001b[49m\u001b[43m,\u001b[49m\n\u001b[0;32m    866\u001b[0m \u001b[43m            \u001b[49m\u001b[43mencoding\u001b[49m\u001b[38;5;241;43m=\u001b[39;49m\u001b[43mioargs\u001b[49m\u001b[38;5;241;43m.\u001b[39;49m\u001b[43mencoding\u001b[49m\u001b[43m,\u001b[49m\n\u001b[0;32m    867\u001b[0m \u001b[43m            \u001b[49m\u001b[43merrors\u001b[49m\u001b[38;5;241;43m=\u001b[39;49m\u001b[43merrors\u001b[49m\u001b[43m,\u001b[49m\n\u001b[0;32m    868\u001b[0m \u001b[43m            \u001b[49m\u001b[43mnewline\u001b[49m\u001b[38;5;241;43m=\u001b[39;49m\u001b[38;5;124;43m\"\u001b[39;49m\u001b[38;5;124;43m\"\u001b[39;49m\u001b[43m,\u001b[49m\n\u001b[0;32m    869\u001b[0m \u001b[43m        \u001b[49m\u001b[43m)\u001b[49m\n\u001b[0;32m    870\u001b[0m     \u001b[38;5;28;01melse\u001b[39;00m:\n\u001b[0;32m    871\u001b[0m         \u001b[38;5;66;03m# Binary mode\u001b[39;00m\n\u001b[0;32m    872\u001b[0m         handle \u001b[38;5;241m=\u001b[39m \u001b[38;5;28mopen\u001b[39m(handle, ioargs\u001b[38;5;241m.\u001b[39mmode)\n",
      "\u001b[1;31mPermissionError\u001b[0m: [Errno 13] Permission denied: 'Test_new.csv'"
     ]
    }
   ],
   "source": [
    "import pandas as pd\n",
    "dis = {\"a\":[1,2,3,4,5,6], \"s\":[1,2,3,4,5,6],\"d\":[1,2,3,4,5,6]}\n",
    "d = pd.DataFrame(dis)\n",
    "print(d)\n",
    "\n",
    "d.to_csv(\"Test_new.csv\")\n",
    "\n",
    "\n",
    "# file name = test_new\n",
    "# location = this pc -> c drive -> users -> Rahul -> test_csv"
   ]
  },
  {
   "cell_type": "code",
   "execution_count": 6,
   "id": "e019a9da-b31c-4d6d-b3be-9bc2b95828e9",
   "metadata": {},
   "outputs": [
    {
     "name": "stdout",
     "output_type": "stream",
     "text": [
      "   a  s  d\n",
      "0  1  1  1\n",
      "1  2  2  2\n",
      "2  3  3  3\n",
      "3  4  4  4\n",
      "4  5  5  5\n",
      "5  6  6  6\n"
     ]
    }
   ],
   "source": [
    "# index = False ----> remove index\n",
    "\n",
    "import pandas as pd\n",
    "dis = {\"a\":[1,2,3,4,5,6], \"s\":[1,2,3,4,5,6],\"d\":[1,2,3,4,5,6]}\n",
    "d = pd.DataFrame(dis)\n",
    "print(d)\n",
    "\n",
    "d.to_csv(\"Test_new1.csv\", index = False)"
   ]
  },
  {
   "cell_type": "code",
   "execution_count": 16,
   "id": "dc3e2029-f3df-4b61-b8b0-8c4afe67f81c",
   "metadata": {},
   "outputs": [
    {
     "name": "stdout",
     "output_type": "stream",
     "text": [
      "   a  b  c\n",
      "0  1  1  1\n",
      "1  2  2  2\n",
      "2  3  3  3\n",
      "3  4  4  4\n",
      "4  5  5  5\n",
      "5  6  6  6\n"
     ]
    }
   ],
   "source": [
    "# header  -----> col name\n",
    "\n",
    "import pandas as pd\n",
    "dis = {\"a\" : [1,2,3,4,5,6], \"b\" : [1,2,3,4,5,6], \"c\" : [1,2,3,4,5,6]}\n",
    "d = pd.DataFrame(dis)\n",
    "print(d)\n",
    "\n"
   ]
  },
  {
   "cell_type": "code",
   "execution_count": 15,
   "id": "c91ab75d-7a95-4a01-a166-9109ef8c3d63",
   "metadata": {},
   "outputs": [
    {
     "name": "stdout",
     "output_type": "stream",
     "text": [
      "   0\n",
      "9  1\n",
      "8  2\n",
      "7  3\n",
      "9  4\n"
     ]
    }
   ],
   "source": [
    "import pandas as pd\n",
    "var = pd.DataFrame([1,2,3,4], [9,8,7,9])\n",
    "print(var)"
   ]
  },
  {
   "cell_type": "code",
   "execution_count": null,
   "id": "46ab5f19-8bdb-445f-812e-75cf3a21b067",
   "metadata": {},
   "outputs": [],
   "source": []
  },
  {
   "cell_type": "code",
   "execution_count": null,
   "id": "825d7bfb-dc0f-4fd5-8fd0-6df26e57656b",
   "metadata": {},
   "outputs": [],
   "source": []
  },
  {
   "cell_type": "code",
   "execution_count": null,
   "id": "8c350974-715c-45e1-8559-f940b9e3df50",
   "metadata": {},
   "outputs": [],
   "source": []
  },
  {
   "cell_type": "code",
   "execution_count": null,
   "id": "a26c29bb-cd05-44f8-87ba-56360969f3f2",
   "metadata": {},
   "outputs": [],
   "source": []
  },
  {
   "cell_type": "code",
   "execution_count": null,
   "id": "3249f39e-8c33-4a0f-b9c7-02f75d93f0bb",
   "metadata": {},
   "outputs": [],
   "source": []
  },
  {
   "cell_type": "code",
   "execution_count": null,
   "id": "d6a9cdfd-a979-44f3-b5c0-56e1573a767e",
   "metadata": {},
   "outputs": [],
   "source": []
  },
  {
   "cell_type": "code",
   "execution_count": null,
   "id": "901fbd90-c52e-40a1-91c5-a9d5af840d65",
   "metadata": {},
   "outputs": [],
   "source": []
  },
  {
   "cell_type": "code",
   "execution_count": null,
   "id": "cb60d04e-348e-4c72-ab26-e6cfe319fb7a",
   "metadata": {},
   "outputs": [],
   "source": []
  },
  {
   "cell_type": "code",
   "execution_count": null,
   "id": "95ba6e70-8e80-49cd-8388-fef059b53c43",
   "metadata": {},
   "outputs": [],
   "source": [
    "# DATAFRAME VS SERIES CODE & OUTPUTS"
   ]
  },
  {
   "cell_type": "code",
   "execution_count": 21,
   "id": "3580146f-5e37-4ae7-9ed3-c288c60981cb",
   "metadata": {},
   "outputs": [
    {
     "name": "stdout",
     "output_type": "stream",
     "text": [
      "0    1\n",
      "1    2\n",
      "2    3\n",
      "3    4\n",
      "dtype: int64\n"
     ]
    }
   ],
   "source": [
    "# NOTE : \n",
    "# series ya df ek hi list ka bnta hai --> see ex: 1\n",
    "# agar usme 2nd list pass kiya to wo indexes bn jayenge --> see ex: 2\n",
    "# agar usme 3rd list pass kiya, then it shows error --> see ex:3\n",
    "\n",
    "# Series\n",
    "# example 1:\n",
    "import pandas as pd\n",
    "var = pd.Series([1,2,3,4])\n",
    "print(var)\n"
   ]
  },
  {
   "cell_type": "code",
   "execution_count": null,
   "id": "ea1fa527-3539-4fe4-b6e9-835da88ec982",
   "metadata": {},
   "outputs": [],
   "source": []
  },
  {
   "cell_type": "code",
   "execution_count": 22,
   "id": "482a4a6d-5083-402c-ab29-f0eaea8d3aa0",
   "metadata": {},
   "outputs": [
    {
     "name": "stdout",
     "output_type": "stream",
     "text": [
      "1    1\n",
      "2    2\n",
      "3    3\n",
      "4    4\n",
      "dtype: int64\n"
     ]
    }
   ],
   "source": [
    "# example 2:\n",
    "import pandas as pd\n",
    "var = pd.Series([1,2,3,4], [5,6,7,8])\n",
    "print(var)"
   ]
  },
  {
   "cell_type": "code",
   "execution_count": 39,
   "id": "9f57ccaf-37a4-4fc7-99cd-28a9793df88c",
   "metadata": {},
   "outputs": [
    {
     "ename": "TypeError",
     "evalue": "Field elements must be 2- or 3-tuples, got '9'",
     "output_type": "error",
     "traceback": [
      "\u001b[1;31m---------------------------------------------------------------------------\u001b[0m",
      "\u001b[1;31mTypeError\u001b[0m                                 Traceback (most recent call last)",
      "Cell \u001b[1;32mIn[39], line 3\u001b[0m\n\u001b[0;32m      1\u001b[0m \u001b[38;5;66;03m# example 3:\u001b[39;00m\n\u001b[0;32m      2\u001b[0m \u001b[38;5;28;01mimport\u001b[39;00m \u001b[38;5;21;01mpandas\u001b[39;00m \u001b[38;5;28;01mas\u001b[39;00m \u001b[38;5;21;01mpd\u001b[39;00m\n\u001b[1;32m----> 3\u001b[0m var \u001b[38;5;241m=\u001b[39m \u001b[43mpd\u001b[49m\u001b[38;5;241;43m.\u001b[39;49m\u001b[43mSeries\u001b[49m\u001b[43m(\u001b[49m\u001b[43m[\u001b[49m\u001b[38;5;241;43m1\u001b[39;49m\u001b[43m,\u001b[49m\u001b[38;5;241;43m2\u001b[39;49m\u001b[43m,\u001b[49m\u001b[38;5;241;43m3\u001b[39;49m\u001b[43m,\u001b[49m\u001b[38;5;241;43m4\u001b[39;49m\u001b[43m]\u001b[49m\u001b[43m,\u001b[49m\u001b[43m[\u001b[49m\u001b[38;5;241;43m5\u001b[39;49m\u001b[43m,\u001b[49m\u001b[38;5;241;43m6\u001b[39;49m\u001b[43m,\u001b[49m\u001b[38;5;241;43m7\u001b[39;49m\u001b[43m,\u001b[49m\u001b[38;5;241;43m8\u001b[39;49m\u001b[43m]\u001b[49m\u001b[43m,\u001b[49m\u001b[43m[\u001b[49m\u001b[38;5;241;43m9\u001b[39;49m\u001b[43m,\u001b[49m\u001b[38;5;241;43m10\u001b[39;49m\u001b[43m,\u001b[49m\u001b[38;5;241;43m11\u001b[39;49m\u001b[43m,\u001b[49m\u001b[38;5;241;43m12\u001b[39;49m\u001b[43m]\u001b[49m\u001b[43m)\u001b[49m\n\u001b[0;32m      4\u001b[0m \u001b[38;5;28mprint\u001b[39m(var)\n",
      "File \u001b[1;32m~\\AppData\\Roaming\\Python\\Python311\\site-packages\\pandas\\core\\series.py:431\u001b[0m, in \u001b[0;36mSeries.__init__\u001b[1;34m(self, data, index, dtype, name, copy, fastpath)\u001b[0m\n\u001b[0;32m    428\u001b[0m     index \u001b[38;5;241m=\u001b[39m ensure_index(index)\n\u001b[0;32m    430\u001b[0m \u001b[38;5;28;01mif\u001b[39;00m dtype \u001b[38;5;129;01mis\u001b[39;00m \u001b[38;5;129;01mnot\u001b[39;00m \u001b[38;5;28;01mNone\u001b[39;00m:\n\u001b[1;32m--> 431\u001b[0m     dtype \u001b[38;5;241m=\u001b[39m \u001b[38;5;28;43mself\u001b[39;49m\u001b[38;5;241;43m.\u001b[39;49m\u001b[43m_validate_dtype\u001b[49m\u001b[43m(\u001b[49m\u001b[43mdtype\u001b[49m\u001b[43m)\u001b[49m\n\u001b[0;32m    433\u001b[0m \u001b[38;5;28;01mif\u001b[39;00m data \u001b[38;5;129;01mis\u001b[39;00m \u001b[38;5;28;01mNone\u001b[39;00m:\n\u001b[0;32m    434\u001b[0m     index \u001b[38;5;241m=\u001b[39m index \u001b[38;5;28;01mif\u001b[39;00m index \u001b[38;5;129;01mis\u001b[39;00m \u001b[38;5;129;01mnot\u001b[39;00m \u001b[38;5;28;01mNone\u001b[39;00m \u001b[38;5;28;01melse\u001b[39;00m default_index(\u001b[38;5;241m0\u001b[39m)\n",
      "File \u001b[1;32m~\\AppData\\Roaming\\Python\\Python311\\site-packages\\pandas\\core\\generic.py:492\u001b[0m, in \u001b[0;36mNDFrame._validate_dtype\u001b[1;34m(cls, dtype)\u001b[0m\n\u001b[0;32m    490\u001b[0m \u001b[38;5;250m\u001b[39m\u001b[38;5;124;03m\"\"\"validate the passed dtype\"\"\"\u001b[39;00m\n\u001b[0;32m    491\u001b[0m \u001b[38;5;28;01mif\u001b[39;00m dtype \u001b[38;5;129;01mis\u001b[39;00m \u001b[38;5;129;01mnot\u001b[39;00m \u001b[38;5;28;01mNone\u001b[39;00m:\n\u001b[1;32m--> 492\u001b[0m     dtype \u001b[38;5;241m=\u001b[39m \u001b[43mpandas_dtype\u001b[49m\u001b[43m(\u001b[49m\u001b[43mdtype\u001b[49m\u001b[43m)\u001b[49m\n\u001b[0;32m    494\u001b[0m     \u001b[38;5;66;03m# a compound dtype\u001b[39;00m\n\u001b[0;32m    495\u001b[0m     \u001b[38;5;28;01mif\u001b[39;00m dtype\u001b[38;5;241m.\u001b[39mkind \u001b[38;5;241m==\u001b[39m \u001b[38;5;124m\"\u001b[39m\u001b[38;5;124mV\u001b[39m\u001b[38;5;124m\"\u001b[39m:\n",
      "File \u001b[1;32m~\\AppData\\Roaming\\Python\\Python311\\site-packages\\pandas\\core\\dtypes\\common.py:1636\u001b[0m, in \u001b[0;36mpandas_dtype\u001b[1;34m(dtype)\u001b[0m\n\u001b[0;32m   1631\u001b[0m     \u001b[38;5;28;01mwith\u001b[39;00m warnings\u001b[38;5;241m.\u001b[39mcatch_warnings():\n\u001b[0;32m   1632\u001b[0m         \u001b[38;5;66;03m# GH#51523 - Series.astype(np.integer) doesn't show\u001b[39;00m\n\u001b[0;32m   1633\u001b[0m         \u001b[38;5;66;03m# numpy deprecation warning of np.integer\u001b[39;00m\n\u001b[0;32m   1634\u001b[0m         \u001b[38;5;66;03m# Hence enabling DeprecationWarning\u001b[39;00m\n\u001b[0;32m   1635\u001b[0m         warnings\u001b[38;5;241m.\u001b[39msimplefilter(\u001b[38;5;124m\"\u001b[39m\u001b[38;5;124malways\u001b[39m\u001b[38;5;124m\"\u001b[39m, \u001b[38;5;167;01mDeprecationWarning\u001b[39;00m)\n\u001b[1;32m-> 1636\u001b[0m         npdtype \u001b[38;5;241m=\u001b[39m \u001b[43mnp\u001b[49m\u001b[38;5;241;43m.\u001b[39;49m\u001b[43mdtype\u001b[49m\u001b[43m(\u001b[49m\u001b[43mdtype\u001b[49m\u001b[43m)\u001b[49m\n\u001b[0;32m   1637\u001b[0m \u001b[38;5;28;01mexcept\u001b[39;00m \u001b[38;5;167;01mSyntaxError\u001b[39;00m \u001b[38;5;28;01mas\u001b[39;00m err:\n\u001b[0;32m   1638\u001b[0m     \u001b[38;5;66;03m# np.dtype uses `eval` which can raise SyntaxError\u001b[39;00m\n\u001b[0;32m   1639\u001b[0m     \u001b[38;5;28;01mraise\u001b[39;00m \u001b[38;5;167;01mTypeError\u001b[39;00m(\u001b[38;5;124mf\u001b[39m\u001b[38;5;124m\"\u001b[39m\u001b[38;5;124mdata type \u001b[39m\u001b[38;5;124m'\u001b[39m\u001b[38;5;132;01m{\u001b[39;00mdtype\u001b[38;5;132;01m}\u001b[39;00m\u001b[38;5;124m'\u001b[39m\u001b[38;5;124m not understood\u001b[39m\u001b[38;5;124m\"\u001b[39m) \u001b[38;5;28;01mfrom\u001b[39;00m \u001b[38;5;21;01merr\u001b[39;00m\n",
      "\u001b[1;31mTypeError\u001b[0m: Field elements must be 2- or 3-tuples, got '9'"
     ]
    }
   ],
   "source": [
    "# example 3:\n",
    "import pandas as pd\n",
    "var = pd.Series([1,2,3,4],[5,6,7,8],[9,10,11,12])\n",
    "print(var)"
   ]
  },
  {
   "cell_type": "code",
   "execution_count": 24,
   "id": "ba83f731-0ec6-4b39-a12b-f2c5ecc41571",
   "metadata": {},
   "outputs": [],
   "source": [
    "# DataFrame\n"
   ]
  },
  {
   "cell_type": "code",
   "execution_count": 25,
   "id": "d98823d6-6cac-465f-a67d-b3cad59bea1a",
   "metadata": {},
   "outputs": [
    {
     "name": "stdout",
     "output_type": "stream",
     "text": [
      "   0\n",
      "0  1\n",
      "1  2\n",
      "2  3\n",
      "3  4\n"
     ]
    }
   ],
   "source": [
    "# example 1:\n",
    "import pandas as pd\n",
    "var = pd.DataFrame([1,2,3,4])\n",
    "print(var)"
   ]
  },
  {
   "cell_type": "code",
   "execution_count": 27,
   "id": "2ce893e1-bf99-4254-8d64-e11c5f71a820",
   "metadata": {},
   "outputs": [
    {
     "name": "stdout",
     "output_type": "stream",
     "text": [
      "   0\n",
      "5  1\n",
      "6  2\n",
      "7  3\n",
      "8  4\n"
     ]
    }
   ],
   "source": [
    "# example 2:\n",
    "import pandas as pd\n",
    "var = pd.DataFrame([1,2,3,4], [5,6,7,8])\n",
    "print(var)"
   ]
  },
  {
   "cell_type": "code",
   "execution_count": 28,
   "id": "55992fc2-cadc-4962-a1f9-95570f11c332",
   "metadata": {},
   "outputs": [
    {
     "ename": "ValueError",
     "evalue": "Shape of passed values is (4, 1), indices imply (4, 4)",
     "output_type": "error",
     "traceback": [
      "\u001b[1;31m---------------------------------------------------------------------------\u001b[0m",
      "\u001b[1;31mValueError\u001b[0m                                Traceback (most recent call last)",
      "Cell \u001b[1;32mIn[28], line 3\u001b[0m\n\u001b[0;32m      1\u001b[0m \u001b[38;5;66;03m# example 3:\u001b[39;00m\n\u001b[0;32m      2\u001b[0m \u001b[38;5;28;01mimport\u001b[39;00m \u001b[38;5;21;01mpandas\u001b[39;00m \u001b[38;5;28;01mas\u001b[39;00m \u001b[38;5;21;01mpd\u001b[39;00m\n\u001b[1;32m----> 3\u001b[0m var \u001b[38;5;241m=\u001b[39m \u001b[43mpd\u001b[49m\u001b[38;5;241;43m.\u001b[39;49m\u001b[43mDataFrame\u001b[49m\u001b[43m(\u001b[49m\u001b[43m[\u001b[49m\u001b[38;5;241;43m1\u001b[39;49m\u001b[43m,\u001b[49m\u001b[38;5;241;43m2\u001b[39;49m\u001b[43m,\u001b[49m\u001b[38;5;241;43m3\u001b[39;49m\u001b[43m,\u001b[49m\u001b[38;5;241;43m4\u001b[39;49m\u001b[43m]\u001b[49m\u001b[43m,\u001b[49m\u001b[43m \u001b[49m\u001b[43m[\u001b[49m\u001b[38;5;241;43m5\u001b[39;49m\u001b[43m,\u001b[49m\u001b[38;5;241;43m6\u001b[39;49m\u001b[43m,\u001b[49m\u001b[38;5;241;43m7\u001b[39;49m\u001b[43m,\u001b[49m\u001b[38;5;241;43m8\u001b[39;49m\u001b[43m]\u001b[49m\u001b[43m,\u001b[49m\u001b[43m \u001b[49m\u001b[43m[\u001b[49m\u001b[38;5;241;43m9\u001b[39;49m\u001b[43m,\u001b[49m\u001b[38;5;241;43m10\u001b[39;49m\u001b[43m,\u001b[49m\u001b[38;5;241;43m11\u001b[39;49m\u001b[43m,\u001b[49m\u001b[38;5;241;43m12\u001b[39;49m\u001b[43m]\u001b[49m\u001b[43m)\u001b[49m\n\u001b[0;32m      4\u001b[0m \u001b[38;5;28mprint\u001b[39m(var)\n",
      "File \u001b[1;32m~\\AppData\\Roaming\\Python\\Python311\\site-packages\\pandas\\core\\frame.py:822\u001b[0m, in \u001b[0;36mDataFrame.__init__\u001b[1;34m(self, data, index, columns, dtype, copy)\u001b[0m\n\u001b[0;32m    814\u001b[0m         mgr \u001b[38;5;241m=\u001b[39m arrays_to_mgr(\n\u001b[0;32m    815\u001b[0m             arrays,\n\u001b[0;32m    816\u001b[0m             columns,\n\u001b[1;32m   (...)\u001b[0m\n\u001b[0;32m    819\u001b[0m             typ\u001b[38;5;241m=\u001b[39mmanager,\n\u001b[0;32m    820\u001b[0m         )\n\u001b[0;32m    821\u001b[0m     \u001b[38;5;28;01melse\u001b[39;00m:\n\u001b[1;32m--> 822\u001b[0m         mgr \u001b[38;5;241m=\u001b[39m \u001b[43mndarray_to_mgr\u001b[49m\u001b[43m(\u001b[49m\n\u001b[0;32m    823\u001b[0m \u001b[43m            \u001b[49m\u001b[43mdata\u001b[49m\u001b[43m,\u001b[49m\n\u001b[0;32m    824\u001b[0m \u001b[43m            \u001b[49m\u001b[43mindex\u001b[49m\u001b[43m,\u001b[49m\n\u001b[0;32m    825\u001b[0m \u001b[43m            \u001b[49m\u001b[43mcolumns\u001b[49m\u001b[43m,\u001b[49m\n\u001b[0;32m    826\u001b[0m \u001b[43m            \u001b[49m\u001b[43mdtype\u001b[49m\u001b[38;5;241;43m=\u001b[39;49m\u001b[43mdtype\u001b[49m\u001b[43m,\u001b[49m\n\u001b[0;32m    827\u001b[0m \u001b[43m            \u001b[49m\u001b[43mcopy\u001b[49m\u001b[38;5;241;43m=\u001b[39;49m\u001b[43mcopy\u001b[49m\u001b[43m,\u001b[49m\n\u001b[0;32m    828\u001b[0m \u001b[43m            \u001b[49m\u001b[43mtyp\u001b[49m\u001b[38;5;241;43m=\u001b[39;49m\u001b[43mmanager\u001b[49m\u001b[43m,\u001b[49m\n\u001b[0;32m    829\u001b[0m \u001b[43m        \u001b[49m\u001b[43m)\u001b[49m\n\u001b[0;32m    830\u001b[0m \u001b[38;5;28;01melse\u001b[39;00m:\n\u001b[0;32m    831\u001b[0m     mgr \u001b[38;5;241m=\u001b[39m dict_to_mgr(\n\u001b[0;32m    832\u001b[0m         {},\n\u001b[0;32m    833\u001b[0m         index,\n\u001b[1;32m   (...)\u001b[0m\n\u001b[0;32m    836\u001b[0m         typ\u001b[38;5;241m=\u001b[39mmanager,\n\u001b[0;32m    837\u001b[0m     )\n",
      "File \u001b[1;32m~\\AppData\\Roaming\\Python\\Python311\\site-packages\\pandas\\core\\internals\\construction.py:336\u001b[0m, in \u001b[0;36mndarray_to_mgr\u001b[1;34m(values, index, columns, dtype, copy, typ)\u001b[0m\n\u001b[0;32m    331\u001b[0m \u001b[38;5;66;03m# _prep_ndarraylike ensures that values.ndim == 2 at this point\u001b[39;00m\n\u001b[0;32m    332\u001b[0m index, columns \u001b[38;5;241m=\u001b[39m _get_axes(\n\u001b[0;32m    333\u001b[0m     values\u001b[38;5;241m.\u001b[39mshape[\u001b[38;5;241m0\u001b[39m], values\u001b[38;5;241m.\u001b[39mshape[\u001b[38;5;241m1\u001b[39m], index\u001b[38;5;241m=\u001b[39mindex, columns\u001b[38;5;241m=\u001b[39mcolumns\n\u001b[0;32m    334\u001b[0m )\n\u001b[1;32m--> 336\u001b[0m \u001b[43m_check_values_indices_shape_match\u001b[49m\u001b[43m(\u001b[49m\u001b[43mvalues\u001b[49m\u001b[43m,\u001b[49m\u001b[43m \u001b[49m\u001b[43mindex\u001b[49m\u001b[43m,\u001b[49m\u001b[43m \u001b[49m\u001b[43mcolumns\u001b[49m\u001b[43m)\u001b[49m\n\u001b[0;32m    338\u001b[0m \u001b[38;5;28;01mif\u001b[39;00m typ \u001b[38;5;241m==\u001b[39m \u001b[38;5;124m\"\u001b[39m\u001b[38;5;124marray\u001b[39m\u001b[38;5;124m\"\u001b[39m:\n\u001b[0;32m    339\u001b[0m     \u001b[38;5;28;01mif\u001b[39;00m \u001b[38;5;28missubclass\u001b[39m(values\u001b[38;5;241m.\u001b[39mdtype\u001b[38;5;241m.\u001b[39mtype, \u001b[38;5;28mstr\u001b[39m):\n",
      "File \u001b[1;32m~\\AppData\\Roaming\\Python\\Python311\\site-packages\\pandas\\core\\internals\\construction.py:420\u001b[0m, in \u001b[0;36m_check_values_indices_shape_match\u001b[1;34m(values, index, columns)\u001b[0m\n\u001b[0;32m    418\u001b[0m passed \u001b[38;5;241m=\u001b[39m values\u001b[38;5;241m.\u001b[39mshape\n\u001b[0;32m    419\u001b[0m implied \u001b[38;5;241m=\u001b[39m (\u001b[38;5;28mlen\u001b[39m(index), \u001b[38;5;28mlen\u001b[39m(columns))\n\u001b[1;32m--> 420\u001b[0m \u001b[38;5;28;01mraise\u001b[39;00m \u001b[38;5;167;01mValueError\u001b[39;00m(\u001b[38;5;124mf\u001b[39m\u001b[38;5;124m\"\u001b[39m\u001b[38;5;124mShape of passed values is \u001b[39m\u001b[38;5;132;01m{\u001b[39;00mpassed\u001b[38;5;132;01m}\u001b[39;00m\u001b[38;5;124m, indices imply \u001b[39m\u001b[38;5;132;01m{\u001b[39;00mimplied\u001b[38;5;132;01m}\u001b[39;00m\u001b[38;5;124m\"\u001b[39m)\n",
      "\u001b[1;31mValueError\u001b[0m: Shape of passed values is (4, 1), indices imply (4, 4)"
     ]
    }
   ],
   "source": [
    "# example 3:\n",
    "import pandas as pd\n",
    "var = pd.DataFrame([1,2,3,4], [5,6,7,8], [9,10,11,12])\n",
    "print(var)"
   ]
  },
  {
   "cell_type": "code",
   "execution_count": null,
   "id": "efec010b-ff7d-4510-a645-4b9e02a2cb1d",
   "metadata": {},
   "outputs": [],
   "source": []
  },
  {
   "cell_type": "code",
   "execution_count": null,
   "id": "1e692ef3-91d1-4e3c-8907-303f0335ed3e",
   "metadata": {},
   "outputs": [],
   "source": []
  },
  {
   "cell_type": "code",
   "execution_count": null,
   "id": "3e0d22c3-698b-413e-85ff-286b72b18f71",
   "metadata": {},
   "outputs": [],
   "source": [
    "# when 2d arrays "
   ]
  },
  {
   "cell_type": "code",
   "execution_count": 36,
   "id": "ba583efa-8012-45a2-b0d0-6877a44356cd",
   "metadata": {},
   "outputs": [
    {
     "name": "stdout",
     "output_type": "stream",
     "text": [
      "0    [1, 2, 3, 4]\n",
      "1    [1, 2, 3, 4]\n",
      "dtype: object\n",
      "<class 'pandas.core.series.Series'>\n",
      "(2,)\n"
     ]
    }
   ],
   "source": [
    "# Series\n",
    "\n",
    "import pandas as pd\n",
    "var = pd.Series([[1,2,3,4], [1,2,3,4]])\n",
    "print(var)\n",
    "\n",
    "print(type(var))\n",
    "print(var.shape)   # (2,) 2 is row\n",
    "# note series me ek hi column hota hai. bake sare rows me series bnte hai\n",
    "but in data frame row and column both exists see below 👇"
   ]
  },
  {
   "cell_type": "code",
   "execution_count": 38,
   "id": "8d1c489c-c3c3-459f-ad7e-bd5ef85c1774",
   "metadata": {},
   "outputs": [
    {
     "name": "stdout",
     "output_type": "stream",
     "text": [
      "   0  1  2  3\n",
      "0  1  2  3  4\n",
      "1  1  2  3  4\n",
      "<class 'pandas.core.frame.DataFrame'>\n",
      "(2, 4)\n"
     ]
    }
   ],
   "source": [
    "# DataFrame\n",
    "\n",
    "import pandas as pd\n",
    "var = pd.DataFrame([[1,2,3,4], [1,2,3,4]])\n",
    "print(var)\n",
    "\n",
    "print(type(var))\n",
    "print(var.shape)     # (2, 4)\n",
    "\n",
    "\n"
   ]
  },
  {
   "cell_type": "code",
   "execution_count": null,
   "id": "0d506d36-e8b9-475f-bb5d-f82426fd09a4",
   "metadata": {},
   "outputs": [],
   "source": []
  },
  {
   "cell_type": "code",
   "execution_count": 40,
   "id": "0bac207b-2874-4f7c-8b08-98b040c9cc0c",
   "metadata": {},
   "outputs": [],
   "source": [
    "# when dictionary\n",
    "\n"
   ]
  },
  {
   "cell_type": "code",
   "execution_count": 41,
   "id": "affbe0ce-e48f-43c8-9042-bd9bfeed635f",
   "metadata": {},
   "outputs": [
    {
     "name": "stdout",
     "output_type": "stream",
     "text": [
      "a    [1, 2, 3, 4]\n",
      "b    [5, 6, 7, 8]\n",
      "dtype: object\n"
     ]
    }
   ],
   "source": [
    "# Series\n",
    "\n",
    "import pandas as pd\n",
    "var = pd.Series({\"a\" : [1,2,3,4], \"b\" : [5,6,7,8]})\n",
    "print(var)\n",
    "\n",
    "# is case me bi ye series hi bnega \n",
    "# but in DF a & b column bn jayenge  👇"
   ]
  },
  {
   "cell_type": "code",
   "execution_count": 42,
   "id": "b51d6059-156e-458b-a8ef-62bf24bfbbff",
   "metadata": {},
   "outputs": [
    {
     "name": "stdout",
     "output_type": "stream",
     "text": [
      "   a  b\n",
      "0  1  5\n",
      "1  2  6\n",
      "2  3  7\n",
      "3  4  8\n"
     ]
    }
   ],
   "source": [
    "# DataFrame\n",
    "\n",
    "import pandas as pd\n",
    "var = pd.DataFrame({\"a\" : [1,2,3,4], \"b\" : [5,6,7,8]})\n",
    "print(var)"
   ]
  },
  {
   "cell_type": "code",
   "execution_count": null,
   "id": "2ca2122b-211b-4d2d-a381-cf3e6e425fe2",
   "metadata": {},
   "outputs": [],
   "source": []
  },
  {
   "cell_type": "code",
   "execution_count": null,
   "id": "07a44eeb-0ac2-4518-89da-56ccd1cd70de",
   "metadata": {},
   "outputs": [],
   "source": [
    "# # CONCLUSION : \n",
    "\n",
    "# # \n",
    "# # ek hi list skte hai.\n",
    "# # 2nd wala list index bn jayega.\n",
    "# # error, if more than 2 lists pass\n",
    "\n",
    "# # and series me column ni hota,\n",
    "# # iske o/p pe bhi col index ni hai\n",
    "\n",
    "\n",
    "# [1,2,3,4]\n",
    "\n",
    "\n",
    "# # series\n",
    "# 0 1\n",
    "# 1 2\n",
    "# 2 3\n",
    "# 3 4\n",
    "\n",
    "# # DataFrame\n",
    "\n",
    "#   0\n",
    "# 0 1\n",
    "# 1 2\n",
    "# 2 3\n",
    "# 3 4\n",
    "\n",
    "\n",
    "\n",
    "# # 2d array\n",
    "\n",
    "# [[1,2,3,4], [5,6,7,8]]\n",
    "\n",
    "# # Series\n",
    "# 0 [1,2,3,4]\n",
    "# 1 [1,2,3,4]\n",
    "\n",
    "# # DataFrame\n",
    "#   0 1 2 3  <-- col index\n",
    "# 0 1 2 3 4\n",
    "# 1 1 2 3 4\n",
    "\n",
    "\n",
    "\n",
    "\n",
    "\n",
    "# # dictionary \n",
    "# # note dic me bhi same hi series ke treh output rhega \n",
    "\n",
    "# bs hme DataFrame ka output yad rkhna hai, dictionay ke case me kaise hai.\n",
    "# dic ke case me wo columns bn jate hai.\n",
    "# baki series and DataFrame dono \n",
    "# ka output same hi hai bs DF ke output me col index bhi show hota hai.\n",
    "\n",
    "\n",
    "# see example for better understanding."
   ]
  },
  {
   "cell_type": "code",
   "execution_count": null,
   "id": "40e78d18-8d41-47c2-9fdc-e71abbaba6b4",
   "metadata": {},
   "outputs": [],
   "source": []
  },
  {
   "cell_type": "code",
   "execution_count": null,
   "id": "98f46113-7322-4f0a-9ef0-8e7a7600c773",
   "metadata": {},
   "outputs": [],
   "source": []
  },
  {
   "cell_type": "code",
   "execution_count": 1,
   "id": "e0269008-18a8-467d-9468-2b8155ca985a",
   "metadata": {},
   "outputs": [
    {
     "name": "stdout",
     "output_type": "stream",
     "text": [
      "int64\n"
     ]
    }
   ],
   "source": [
    "# .dtype\n",
    "\n",
    "import pandas as pd\n",
    "var = pd.Series([1,2,3,4])\n",
    "print(var.dtype)"
   ]
  },
  {
   "cell_type": "code",
   "execution_count": 2,
   "id": "3bb76f66-7326-45d8-a4b6-0f4af85edbb1",
   "metadata": {},
   "outputs": [],
   "source": [
    "# hm print(var. dtype) ka use kb krte hai\n",
    "# and print(type(var))\n",
    "# mtlb mene dtype ke liye var dot likha and type ke liye paranthesis ka use kiya \n",
    "# to muje kaise pta chlega kis fucntion me var dot likhna hai and kis function me parathesis lga ke use krna hai\n",
    "# ChatGPT\n",
    "\n",
    "# The usage of var.dtype versus type(var) is determined by the nature of the attribute or method you're accessing.\n",
    "\n",
    "#     var.dtype: Here, dtype is an attribute of the Pandas Series object (var). Attributes are accessed directly with a dot (.) notation after the variable name. dtype gives you the data type of the elements in the Series.\n",
    "\n",
    "#     type(var): This uses the built-in Python function type() which returns the type of the object passed to it as an argument. Here, you're passing the variable var to type(), and it returns the type of var, which is a Pandas Series in this case.\n",
    "\n",
    "# To remember when to use dot notation versus parentheses:\n",
    "\n",
    "#     Use dot notation when accessing attributes or methods of an object. Attributes are properties or characteristics of the object.\n",
    "#     Use parentheses when you're calling a function or method that requires arguments. This syntax indicates that you're executing a function or method.\n",
    "\n",
    "# In summary, it's important to understand the nature of what you're trying to access or execute:\n",
    "\n",
    "#     If you're accessing a property or characteristic of an object, use dot notation.\n",
    "#     If you're calling a function or method that requires arguments, use parentheses."
   ]
  },
  {
   "cell_type": "code",
   "execution_count": null,
   "id": "8156b1d7-7377-43cb-ba31-9c1f2c74a6f3",
   "metadata": {},
   "outputs": [],
   "source": []
  },
  {
   "cell_type": "code",
   "execution_count": 3,
   "id": "2da707cd-43e8-456f-a06b-788040ae8e96",
   "metadata": {},
   "outputs": [],
   "source": [
    "# note str ka dtype object hota hai  👇"
   ]
  },
  {
   "cell_type": "code",
   "execution_count": 4,
   "id": "41d09938-bbb5-40df-8ce9-49b04cac2c61",
   "metadata": {},
   "outputs": [
    {
     "name": "stdout",
     "output_type": "stream",
     "text": [
      "0    1\n",
      "1    2\n",
      "2    3\n",
      "3    4\n",
      "dtype: object\n"
     ]
    }
   ],
   "source": [
    "import pandas as pd\n",
    "var = pd.Series([1,2,3,4], dtype = \"str\")\n",
    "print(var)"
   ]
  },
  {
   "cell_type": "code",
   "execution_count": null,
   "id": "60d490db-a315-47c5-9421-73794ed982ae",
   "metadata": {},
   "outputs": [],
   "source": []
  },
  {
   "cell_type": "code",
   "execution_count": null,
   "id": "6da044b9-3b15-4b54-9e9d-831b4f2e1355",
   "metadata": {},
   "outputs": [],
   "source": []
  },
  {
   "cell_type": "code",
   "execution_count": 1,
   "id": "7d9d845e-c6b4-40ce-94f7-155d02f3fb2e",
   "metadata": {},
   "outputs": [
    {
     "name": "stdout",
     "output_type": "stream",
     "text": [
      "Empty DataFrame\n",
      "Columns: [s]\n",
      "Index: []\n"
     ]
    }
   ],
   "source": [
    "import pandas as pd\n",
    "var = pd.DataFrame({\"a\" : [1,2,3,4], \"b\" : [1,2,3,4]}, columns = [\"s\"])\n",
    "print(var)"
   ]
  },
  {
   "cell_type": "code",
   "execution_count": 3,
   "id": "d7f81190-5f0c-495e-b243-ee8a8be9bb9b",
   "metadata": {},
   "outputs": [
    {
     "name": "stdout",
     "output_type": "stream",
     "text": [
      "Empty DataFrame\n",
      "Columns: [s]\n",
      "Index: []\n"
     ]
    }
   ],
   "source": [
    "import pandas as pd\n",
    "var = pd.DataFrame({\"a\" : [1,2,3,4], \"b\" : [1,2,3,4]}, columns = [\"s\"])\n",
    "print(var)"
   ]
  },
  {
   "cell_type": "code",
   "execution_count": 7,
   "id": "67a8a5e2-9302-46ea-8675-1aeb1d762985",
   "metadata": {},
   "outputs": [
    {
     "name": "stdout",
     "output_type": "stream",
     "text": [
      "Empty DataFrame\n",
      "Columns: [s]\n",
      "Index: []\n",
      "   s\n",
      "0  1\n",
      "1  2\n",
      "2  3\n",
      "3  4\n"
     ]
    }
   ],
   "source": [
    "import pandas as pd\n",
    "var = pd.DataFrame({\"a\" : [1,2,3,4], \"b\" : [1,2,3,4]}, columns = [\"s\"])\n",
    "print(var)\n",
    "\n",
    "import pandas as pd\n",
    "var = pd.DataFrame({\"a\" : [1,2,3,4], \"s\" : [1,2,3,4]}, columns = [\"s\"])\n",
    "print(var)"
   ]
  },
  {
   "cell_type": "code",
   "execution_count": 9,
   "id": "f095e73a-5fa7-4986-87df-dc47ab359c24",
   "metadata": {},
   "outputs": [
    {
     "name": "stdout",
     "output_type": "stream",
     "text": [
      "   a  1\n",
      "0  1  1\n",
      "1  2  2\n",
      "2  3  3\n",
      "3  4  4\n"
     ]
    }
   ],
   "source": [
    "import pandas as pd\n",
    "var = pd.DataFrame({\"a\" : [1,2,3,4] , \"s\" : [1,2,3,4] , 1 : [1,2,3,4]}, columns = [\"a\", 1])\n",
    "print(var)"
   ]
  },
  {
   "cell_type": "code",
   "execution_count": 10,
   "id": "b92e1bfa-758c-482d-b9cd-cb7d3f7ef600",
   "metadata": {},
   "outputs": [
    {
     "name": "stdout",
     "output_type": "stream",
     "text": [
      "   a  1\n",
      "0  1  1\n",
      "1  2  2\n",
      "2  3  3\n",
      "3  4  4\n"
     ]
    }
   ],
   "source": [
    "import pandas as pd\n",
    "var = pd.DataFrame({\"a\" : [1,2,3,4], \"s\" : [1,2,3,4], 1 : [1,2,3,4]}, columns = [\"a\"  ,1 ])\n",
    "print(var)"
   ]
  },
  {
   "cell_type": "code",
   "execution_count": 12,
   "id": "5109dca9-ebfa-4574-aa00-2a3b7e7edfd1",
   "metadata": {},
   "outputs": [
    {
     "name": "stdout",
     "output_type": "stream",
     "text": [
      "   a  1\n",
      "0  1  1\n",
      "1  2  2\n",
      "2  3  3\n",
      "3  4  4\n"
     ]
    }
   ],
   "source": [
    "import pandas as pd\n",
    "var = pd.DataFrame({\"a\" : [1,2,3,4], \"s\" : [1,2,3,4], 1 : [1,2,3,4]}, columns = [\"a\", 1])\n",
    "print(var)"
   ]
  },
  {
   "cell_type": "code",
   "execution_count": 13,
   "id": "e4e878c1-d899-4a0f-a6be-d13f158cf740",
   "metadata": {},
   "outputs": [
    {
     "name": "stdout",
     "output_type": "stream",
     "text": [
      "   a  1\n",
      "0  1  1\n",
      "1  2  2\n",
      "2  3  3\n",
      "3  4  4\n"
     ]
    }
   ],
   "source": [
    "import pandas as pd\n",
    "var = pd.DataFrame({\"a\" : [1,2,3,4], \"s\" : [1,2,3,4], 1 : [1,2,3,4]}, columns = [\"a\",1])\n",
    "print(var)"
   ]
  },
  {
   "cell_type": "code",
   "execution_count": 17,
   "id": "780fd888-a84e-4c85-97af-d841e4c0bade",
   "metadata": {},
   "outputs": [
    {
     "ename": "TypeError",
     "evalue": "DataFrame.__init__() got an unexpected keyword argument 'cols'",
     "output_type": "error",
     "traceback": [
      "\u001b[1;31m---------------------------------------------------------------------------\u001b[0m",
      "\u001b[1;31mTypeError\u001b[0m                                 Traceback (most recent call last)",
      "Cell \u001b[1;32mIn[17], line 2\u001b[0m\n\u001b[0;32m      1\u001b[0m \u001b[38;5;28;01mimport\u001b[39;00m \u001b[38;5;21;01mpandas\u001b[39;00m \u001b[38;5;28;01mas\u001b[39;00m \u001b[38;5;21;01mpd\u001b[39;00m\n\u001b[1;32m----> 2\u001b[0m var \u001b[38;5;241m=\u001b[39m \u001b[43mpd\u001b[49m\u001b[38;5;241;43m.\u001b[39;49m\u001b[43mDataFrame\u001b[49m\u001b[43m(\u001b[49m\u001b[43m[\u001b[49m\u001b[38;5;241;43m1\u001b[39;49m\u001b[43m,\u001b[49m\u001b[38;5;241;43m2\u001b[39;49m\u001b[43m,\u001b[49m\u001b[38;5;241;43m3\u001b[39;49m\u001b[43m,\u001b[49m\u001b[38;5;241;43m4\u001b[39;49m\u001b[43m]\u001b[49m\u001b[43m,\u001b[49m\u001b[43m \u001b[49m\u001b[43mcols\u001b[49m\u001b[43m \u001b[49m\u001b[38;5;241;43m=\u001b[39;49m\u001b[43m \u001b[49m\u001b[43m[\u001b[49m\u001b[38;5;124;43m\"\u001b[39;49m\u001b[38;5;124;43ma\u001b[39;49m\u001b[38;5;124;43m\"\u001b[39;49m\u001b[43m,\u001b[49m\u001b[43m \u001b[49m\u001b[38;5;124;43m\"\u001b[39;49m\u001b[38;5;124;43ms\u001b[39;49m\u001b[38;5;124;43m\"\u001b[39;49m\u001b[43m,\u001b[49m\u001b[43m \u001b[49m\u001b[38;5;124;43m\"\u001b[39;49m\u001b[38;5;124;43md\u001b[39;49m\u001b[38;5;124;43m\"\u001b[39;49m\u001b[43m,\u001b[49m\u001b[43m \u001b[49m\u001b[38;5;124;43m\"\u001b[39;49m\u001b[38;5;124;43mf\u001b[39;49m\u001b[38;5;124;43m\"\u001b[39;49m\u001b[43m]\u001b[49m\u001b[43m \u001b[49m\u001b[43m)\u001b[49m\n\u001b[0;32m      3\u001b[0m \u001b[38;5;28mprint\u001b[39m(var)\n",
      "\u001b[1;31mTypeError\u001b[0m: DataFrame.__init__() got an unexpected keyword argument 'cols'"
     ]
    }
   ],
   "source": [
    "import pandas as pd\n",
    "var = pd.DataFrame([1,2,3,4], cols = [\"a\", \"s\", \"d\", \"f\"] )\n",
    "print(var)"
   ]
  },
  {
   "cell_type": "code",
   "execution_count": null,
   "id": "8a65a9a5-c5c8-49ae-97e5-ada845928cf9",
   "metadata": {},
   "outputs": [],
   "source": []
  }
 ],
 "metadata": {
  "kernelspec": {
   "display_name": "Python 3 (ipykernel)",
   "language": "python",
   "name": "python3"
  },
  "language_info": {
   "codemirror_mode": {
    "name": "ipython",
    "version": 3
   },
   "file_extension": ".py",
   "mimetype": "text/x-python",
   "name": "python",
   "nbconvert_exporter": "python",
   "pygments_lexer": "ipython3",
   "version": "3.11.4"
  }
 },
 "nbformat": 4,
 "nbformat_minor": 5
}
