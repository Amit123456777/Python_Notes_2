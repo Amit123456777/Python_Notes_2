{
 "cells": [
  {
   "cell_type": "code",
   "execution_count": null,
   "id": "bb3519bc-3bb7-4ce5-9a5c-809f065f85a7",
   "metadata": {},
   "outputs": [],
   "source": []
  },
  {
   "cell_type": "code",
   "execution_count": 31,
   "id": "bbc4edcc-d69b-47bc-9830-e32a952f6d68",
   "metadata": {},
   "outputs": [
    {
     "name": "stdout",
     "output_type": "stream",
     "text": [
      "{'a': [90, 98, 97], 'b': [90, 60, 70], 'c': [80, 70, 50], 'd': [48, 90, 50], 'e': [70, 90, 70]}\n"
     ]
    }
   ],
   "source": [
    "dict = {\"a\":[90,98,97], \"b\" : [90,60,70], \"c\" : [80,70,50], \"d\" : [48,90,50], \"e\" : [70,90,70]}\n",
    "print(dict)"
   ]
  },
  {
   "cell_type": "code",
   "execution_count": 32,
   "id": "eda4db4f-c78d-4a24-b74d-593686058a0b",
   "metadata": {},
   "outputs": [
    {
     "data": {
      "text/plain": [
       "[90, 98, 97]"
      ]
     },
     "execution_count": 32,
     "metadata": {},
     "output_type": "execute_result"
    }
   ],
   "source": [
    "dict.get(\"a\")\n"
   ]
  },
  {
   "cell_type": "code",
   "execution_count": 33,
   "id": "90600d68-314a-46a0-a8ca-78a71efd9fa8",
   "metadata": {},
   "outputs": [
    {
     "name": "stdout",
     "output_type": "stream",
     "text": [
      "[90, 98, 97]\n"
     ]
    }
   ],
   "source": [
    "print(dict.get(\"a\"))\n"
   ]
  },
  {
   "cell_type": "code",
   "execution_count": 34,
   "id": "a3387036-4063-4f6d-8d69-4bf5d67c941f",
   "metadata": {},
   "outputs": [
    {
     "data": {
      "text/plain": [
       "dict_items([('a', [90, 98, 97]), ('b', [90, 60, 70]), ('c', [80, 70, 50]), ('d', [48, 90, 50]), ('e', [70, 90, 70])])"
      ]
     },
     "execution_count": 34,
     "metadata": {},
     "output_type": "execute_result"
    }
   ],
   "source": [
    "dict.items()"
   ]
  },
  {
   "cell_type": "code",
   "execution_count": null,
   "id": "6fd1bc25-ec4b-49d6-82d8-47fa17573962",
   "metadata": {},
   "outputs": [],
   "source": []
  },
  {
   "cell_type": "code",
   "execution_count": 40,
   "id": "cd44893e-a77f-46b9-bc8a-983b2a8a5620",
   "metadata": {},
   "outputs": [
    {
     "name": "stdout",
     "output_type": "stream",
     "text": [
      "99\n",
      "100\n",
      "80\n"
     ]
    }
   ],
   "source": [
    "\n",
    "\n",
    "dict = {\"a\":99, \"b\" : 100, \"c\" : 80, \"d\" : 48, \"e\" : 70}\n",
    "\n",
    "print(dict[\"a\"])\n",
    "print(dict[\"b\"])\n",
    "print(dict[\"c\"])"
   ]
  },
  {
   "cell_type": "code",
   "execution_count": 35,
   "id": "81dfb28a-2722-479f-b9b1-2a7222ab9df8",
   "metadata": {},
   "outputs": [
    {
     "data": {
      "text/plain": [
       "[('a', [90, 98, 97]),\n",
       " ('b', [90, 60, 70]),\n",
       " ('c', [80, 70, 50]),\n",
       " ('d', [48, 90, 50]),\n",
       " ('e', [70, 90, 70])]"
      ]
     },
     "execution_count": 35,
     "metadata": {},
     "output_type": "execute_result"
    }
   ],
   "source": [
    "# key value pairs in tuple\n",
    "\n",
    "list(dict.items())\n"
   ]
  },
  {
   "cell_type": "code",
   "execution_count": 38,
   "id": "10571459-6e12-4142-9cb1-0b4aa625543c",
   "metadata": {},
   "outputs": [
    {
     "data": {
      "text/plain": [
       "[90, 60, 70]"
      ]
     },
     "execution_count": 38,
     "metadata": {},
     "output_type": "execute_result"
    }
   ],
   "source": [
    "list(dict.items())[1][1]   # row,element,"
   ]
  },
  {
   "cell_type": "code",
   "execution_count": 39,
   "id": "4bf349ed-cf0c-40ca-91bd-1717814db46f",
   "metadata": {},
   "outputs": [
    {
     "data": {
      "text/plain": [
       "70"
      ]
     },
     "execution_count": 39,
     "metadata": {},
     "output_type": "execute_result"
    }
   ],
   "source": [
    "list(dict.items())[1][1][2]   # row,element,sub element"
   ]
  },
  {
   "cell_type": "code",
   "execution_count": null,
   "id": "e7c8856e-e775-42e4-b4fd-0fae5583daba",
   "metadata": {},
   "outputs": [],
   "source": []
  },
  {
   "cell_type": "code",
   "execution_count": null,
   "id": "2751862e-3978-4c18-9bca-2b2094d0f6da",
   "metadata": {},
   "outputs": [],
   "source": []
  },
  {
   "cell_type": "code",
   "execution_count": null,
   "id": "4089fcc4-533f-411f-b44f-4eaab3198d79",
   "metadata": {},
   "outputs": [],
   "source": []
  },
  {
   "cell_type": "code",
   "execution_count": 41,
   "id": "cddcedbc-ea8f-430e-a3c1-1f5af20af345",
   "metadata": {},
   "outputs": [
    {
     "name": "stdout",
     "output_type": "stream",
     "text": [
      "dict_keys(['a', 'b', 'c', 'd', 'e'])\n"
     ]
    }
   ],
   "source": [
    "dict = {\"a\":[90,98,97], \"b\" : [90,60,70], \"c\" : [80,70,50], \"d\" : [48,90,50], \"e\" : [70,90,70]}\n",
    "print(dict.keys())"
   ]
  },
  {
   "cell_type": "code",
   "execution_count": 42,
   "id": "077b9537-bc28-4959-8f50-952b43069b31",
   "metadata": {},
   "outputs": [
    {
     "name": "stdout",
     "output_type": "stream",
     "text": [
      "dict_values([[90, 98, 97], [90, 60, 70], [80, 70, 50], [48, 90, 50], [70, 90, 70]])\n"
     ]
    }
   ],
   "source": [
    "print(dict.values())"
   ]
  },
  {
   "cell_type": "code",
   "execution_count": null,
   "id": "909718fd-90ab-47fe-b64a-86480531cb65",
   "metadata": {},
   "outputs": [],
   "source": []
  },
  {
   "cell_type": "code",
   "execution_count": null,
   "id": "1ded72be-1720-4367-b712-d04a89352e21",
   "metadata": {},
   "outputs": [],
   "source": []
  },
  {
   "cell_type": "code",
   "execution_count": null,
   "id": "a288d619-ed59-4130-8730-70dcde253274",
   "metadata": {},
   "outputs": [],
   "source": []
  },
  {
   "cell_type": "code",
   "execution_count": 57,
   "id": "31d6dfef-6990-4f53-8262-0788c0b33a72",
   "metadata": {},
   "outputs": [
    {
     "name": "stdout",
     "output_type": "stream",
     "text": [
      "{'a': [90, 50, 70], 'b': [90, 60, 70], 'c': [30, 50, 33], 'd': [10, 99, 77], 'e': [43, 66, 78]}\n"
     ]
    }
   ],
   "source": [
    "# make another dictionary with same keys, different values\n",
    "\n",
    "d2 = {\"a\":[90,50,70],\n",
    "      \"a\" : [90,60,70],\n",
    "      \"a\" : [30,50,33],\n",
    "      \"a\" : [10,99,77],\n",
    "      \"a\": [ 43,66,78]\n",
    "}\n",
    "print(dict2)"
   ]
  },
  {
   "cell_type": "code",
   "execution_count": 53,
   "id": "2dfe0579-1a29-4375-960f-d07efeb7198a",
   "metadata": {},
   "outputs": [
    {
     "name": "stdout",
     "output_type": "stream",
     "text": [
      "{'a': [90, 98, 97], 'b': [90, 60, 70], 'c': [80, 70, 50], 'd': [48, 90, 50], 'e': [70, 90, 70]}\n"
     ]
    }
   ],
   "source": [
    "dict = {\n",
    "    \"a\":[90,98,97],\n",
    "    \"b\" : [90,60,70],\n",
    "    \"c\" : [80,70,50],\n",
    "    \"d\" : [48,90,50],\n",
    "    \"e\" : [70,90,70]\n",
    "}\n",
    "print(dict)"
   ]
  },
  {
   "cell_type": "code",
   "execution_count": 56,
   "id": "52fc2c23-1006-461e-a611-e587167e5b3e",
   "metadata": {},
   "outputs": [
    {
     "name": "stdout",
     "output_type": "stream",
     "text": [
      "None\n"
     ]
    }
   ],
   "source": [
    "# error from here\n",
    "\n",
    "\n",
    "print(dict.update(d2))"
   ]
  },
  {
   "cell_type": "code",
   "execution_count": 60,
   "id": "19a0364e-1d2b-43d7-8daa-7c965288ebc6",
   "metadata": {},
   "outputs": [
    {
     "ename": "TypeError",
     "evalue": "pop expected at least 1 argument, got 0",
     "output_type": "error",
     "traceback": [
      "\u001b[1;31m---------------------------------------------------------------------------\u001b[0m",
      "\u001b[1;31mTypeError\u001b[0m                                 Traceback (most recent call last)",
      "Cell \u001b[1;32mIn[60], line 1\u001b[0m\n\u001b[1;32m----> 1\u001b[0m \u001b[43md2\u001b[49m\u001b[38;5;241;43m.\u001b[39;49m\u001b[43mpop\u001b[49m\u001b[43m(\u001b[49m\u001b[43m)\u001b[49m\n",
      "\u001b[1;31mTypeError\u001b[0m: pop expected at least 1 argument, got 0"
     ]
    }
   ],
   "source": [
    "d2.pop()"
   ]
  },
  {
   "cell_type": "code",
   "execution_count": 63,
   "id": "066a58fa-1ec8-4c72-940c-14b354d5a997",
   "metadata": {},
   "outputs": [
    {
     "name": "stdout",
     "output_type": "stream",
     "text": [
      "None\n"
     ]
    }
   ],
   "source": [
    "print(d2.clear())"
   ]
  },
  {
   "cell_type": "code",
   "execution_count": null,
   "id": "3c4d6ec4-7927-4239-a390-1ec5fee9a96b",
   "metadata": {},
   "outputs": [],
   "source": []
  },
  {
   "cell_type": "code",
   "execution_count": null,
   "id": "bb335865-2eb4-48f5-b43f-8de72d9f08b6",
   "metadata": {},
   "outputs": [],
   "source": []
  },
  {
   "cell_type": "code",
   "execution_count": null,
   "id": "473eaaf2-261f-455d-9779-7aa3716bd140",
   "metadata": {},
   "outputs": [],
   "source": []
  },
  {
   "cell_type": "code",
   "execution_count": null,
   "id": "67e7eac8-0d29-4df1-91d0-d1fda36d338e",
   "metadata": {},
   "outputs": [],
   "source": []
  },
  {
   "cell_type": "code",
   "execution_count": null,
   "id": "e38d6b04-dfbd-4a59-b62f-8af94a2aa052",
   "metadata": {},
   "outputs": [],
   "source": [
    "# # CONTROL STRUCTURES \n",
    "\n",
    "\n",
    "# TYPES\n",
    "# CONDITIONAL STATEMENT\n",
    "# LOOPS\n",
    "# TERMINATIONS - BREAKE, CONTINUE\n",
    "\n",
    "\n",
    "# 3 TYPES OF CONTROL STRUCTURES IN PYTHON\n",
    "\n"
   ]
  },
  {
   "cell_type": "code",
   "execution_count": 67,
   "id": "30d03c10-c8c7-4f23-a671-810a622ce5da",
   "metadata": {},
   "outputs": [],
   "source": [
    "x = 10\n",
    "if x == 9:\n",
    "    print(x)"
   ]
  },
  {
   "cell_type": "code",
   "execution_count": 70,
   "id": "a804b7cc-eb2f-4043-9a4f-c8457ee770b0",
   "metadata": {},
   "outputs": [
    {
     "name": "stdout",
     "output_type": "stream",
     "text": [
      "eat pizza\n"
     ]
    }
   ],
   "source": [
    "# control flow statements\n",
    "# if elif else\n",
    "\n",
    "pocket_money = 700\n",
    "if pocket_money < 100:\n",
    "    print(\"eat burger\")\n",
    "elif pocket_money > 500:\n",
    "    print(\"eat pizza\")\n",
    "else:\n",
    "    print(\"coldrink only\")"
   ]
  },
  {
   "cell_type": "code",
   "execution_count": 73,
   "id": "2a008f73-8b91-4c53-bf48-1ca09db22aec",
   "metadata": {},
   "outputs": [
    {
     "name": "stdin",
     "output_type": "stream",
     "text": [
      "enter you pocket_money :  600\n"
     ]
    },
    {
     "name": "stdout",
     "output_type": "stream",
     "text": [
      "eat pizza\n"
     ]
    }
   ],
   "source": [
    "pocket_money = int(input(\"enter you pocket_money : \" ))\n",
    "if pocket_money < 100:\n",
    "    print(\"eat burger\")\n",
    "elif pocket_money > 500:\n",
    "    print(\"eat pizza\")\n",
    "else:\n",
    "    print(\"coldrink only\")"
   ]
  },
  {
   "cell_type": "code",
   "execution_count": null,
   "id": "cb721869-8890-4458-9d90-cb8de15bf9ea",
   "metadata": {},
   "outputs": [],
   "source": []
  },
  {
   "cell_type": "code",
   "execution_count": 75,
   "id": "a92a0c2f-85a2-4253-b761-57aee3ae27da",
   "metadata": {},
   "outputs": [],
   "source": [
    "# # loop \n",
    "# for loop - when we know range, used to iterate a sequence of object.\n",
    "# while loop\n"
   ]
  },
  {
   "cell_type": "code",
   "execution_count": 79,
   "id": "92f6207d-5098-43b3-8df4-7a3e2ba911c9",
   "metadata": {},
   "outputs": [
    {
     "name": "stdout",
     "output_type": "stream",
     "text": [
      "[40, 70, 80, 90, 80]\n",
      "5\n"
     ]
    },
    {
     "data": {
      "text/plain": [
       "range(0, 5)"
      ]
     },
     "execution_count": 79,
     "metadata": {},
     "output_type": "execute_result"
    }
   ],
   "source": [
    "l1 = [40,70,80,90,80]\n",
    "print(l1)\n",
    "print(len(l1))\n",
    "    "
   ]
  },
  {
   "cell_type": "code",
   "execution_count": 82,
   "id": "eb6591c9-7d4c-421a-8975-45ed4c4f3421",
   "metadata": {},
   "outputs": [
    {
     "name": "stdout",
     "output_type": "stream",
     "text": [
      "range(0, 5)\n"
     ]
    },
    {
     "data": {
      "text/plain": [
       "range(0, 5)"
      ]
     },
     "execution_count": 82,
     "metadata": {},
     "output_type": "execute_result"
    }
   ],
   "source": [
    "print(range(len(l1)))  \n",
    "\n",
    "range(len(l1))  "
   ]
  },
  {
   "cell_type": "code",
   "execution_count": 90,
   "id": "9c08a924-d62e-490b-acf2-1d64cf050de6",
   "metadata": {},
   "outputs": [
    {
     "name": "stdout",
     "output_type": "stream",
     "text": [
      "40,70,80,90,80,"
     ]
    }
   ],
   "source": [
    "\n",
    "l1 = [40,70,80,90,80]\n",
    "for i in range(len(l1)):\n",
    "    print(l1[i], end = \",\")"
   ]
  },
  {
   "cell_type": "code",
   "execution_count": null,
   "id": "090d51d6-4f7a-4971-88f4-07a106509a96",
   "metadata": {},
   "outputs": [],
   "source": [
    "\n"
   ]
  },
  {
   "cell_type": "code",
   "execution_count": 99,
   "id": "fdde9b5a-961b-48b0-9089-1323139911bf",
   "metadata": {},
   "outputs": [
    {
     "name": "stdout",
     "output_type": "stream",
     "text": [
      "40\n",
      "70\n",
      "80\n",
      "Ten\n"
     ]
    }
   ],
   "source": [
    "# quest. replace numerical 10 by, str 10\n",
    "\n",
    "l3 = [40,70,80,10]\n",
    "for i in range(len(l3)):\n",
    "    if l3[i] == 10:\n",
    "        l3[i]= \"Ten\"\n",
    "    print(l3[i])"
   ]
  },
  {
   "cell_type": "code",
   "execution_count": null,
   "id": "212e831c-4297-42a6-83ae-4dc914747bfc",
   "metadata": {},
   "outputs": [],
   "source": []
  },
  {
   "cell_type": "code",
   "execution_count": null,
   "id": "a4ee8170-ce78-46b3-8834-52f6aaa1e42f",
   "metadata": {},
   "outputs": [],
   "source": []
  }
 ],
 "metadata": {
  "kernelspec": {
   "display_name": "Python 3 (ipykernel)",
   "language": "python",
   "name": "python3"
  },
  "language_info": {
   "codemirror_mode": {
    "name": "ipython",
    "version": 3
   },
   "file_extension": ".py",
   "mimetype": "text/x-python",
   "name": "python",
   "nbconvert_exporter": "python",
   "pygments_lexer": "ipython3",
   "version": "3.11.4"
  }
 },
 "nbformat": 4,
 "nbformat_minor": 5
}
