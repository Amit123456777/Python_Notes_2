{
 "cells": [
  {
   "cell_type": "code",
   "execution_count": null,
   "id": "7ca19575",
   "metadata": {},
   "outputs": [],
   "source": [
    "# replit tutorial ke de\n",
    "\n",
    "# 1. why we use functions\n",
    "# to use code logics multiple times\n",
    "# ex: we have a code of 15 lines\n",
    "#     and is same code ko ds(10) jgeh use krna hai.\n",
    "#     to hme bar bar 15 lines ka code likhna pdega.\n",
    "#     and isme koi error aya to hme us sbhi 15 jgeh jake 10 line ke code ko thik krna pdega.\n",
    "#     ese hmare time waste hoga and no. of code lines bi bdh jayenge.\n",
    "#     so, hm usko rap kr denge ek functn me taki hm use bar bar use kr pay."
   ]
  },
  {
   "cell_type": "code",
   "execution_count": 2,
   "id": "cd5716d3",
   "metadata": {},
   "outputs": [
    {
     "ename": "NameError",
     "evalue": "name 'total' is not defined",
     "output_type": "error",
     "traceback": [
      "\u001b[1;31m---------------------------------------------------------------------------\u001b[0m",
      "\u001b[1;31mNameError\u001b[0m                                 Traceback (most recent call last)",
      "Cell \u001b[1;32mIn[2], line 6\u001b[0m\n\u001b[0;32m      4\u001b[0m     total \u001b[38;5;241m=\u001b[39m x\u001b[38;5;241m+\u001b[39my\n\u001b[0;32m      5\u001b[0m     \u001b[38;5;28;01mreturn\u001b[39;00m total\n\u001b[1;32m----> 6\u001b[0m \u001b[38;5;28mprint\u001b[39m(total)\n",
      "\u001b[1;31mNameError\u001b[0m: name 'total' is not defined"
     ]
    }
   ],
   "source": [
    "# note the screenshot code\n",
    "\n",
    " \n",
    "# more code \n",
    "# line = \"Hello World\"\n",
    "\n",
    "# # Remove all spaces\n",
    "# print(line.replace(\" \", \"\"))\n",
    "\n",
    "# more code [len(string)]\n",
    "# c = \"myfunction name(a, b)\"\n",
    "# print(len(c))\n",
    "\n",
    "# more code (to line space)\n",
    "# print(\"\\n\")"
   ]
  },
  {
   "cell_type": "code",
   "execution_count": 4,
   "id": "1cda8d01",
   "metadata": {},
   "outputs": [
    {
     "name": "stdout",
     "output_type": "stream",
     "text": [
      "4.235294117647059\n",
      "49.0\n"
     ]
    }
   ],
   "source": [
    "a = 9\n",
    "b = 8\n",
    "gmean1 = (a*b)/(a+b)\n",
    "print(gmean1)\n",
    "c = 8\n",
    "d = 7\n",
    "\n",
    "gmean2 = (c*d)/(c+d)\n",
    "print(gmean2)\n",
    "\n",
    "# hm bar bar gmean mean ke formula code ni likhenge,\n",
    "# we use fuction. so we dont need to write same code again and again.\n",
    "# hm formula ko fuction me wrap kr denge and we we need it we will call it."
   ]
  },
  {
   "cell_type": "code",
   "execution_count": 1,
   "id": "24716ad1",
   "metadata": {},
   "outputs": [
    {
     "name": "stdout",
     "output_type": "stream",
     "text": [
      "4.235294117647059\n",
      "3.7333333333333334\n"
     ]
    }
   ],
   "source": [
    "# calculateGmean - function name\n",
    "# a,b - arguments\n",
    "\n",
    "def calculateGmean(a,b):\n",
    "    mean = (a*b)/(a+b)\n",
    "    print(mean)\n",
    "\n",
    "a = 9\n",
    "b = 8\n",
    "# gmean1 = (a*b)/(a+b)\n",
    "# print(gmean1)\n",
    "calculateGmean(a,b)   # calling a function\n",
    "c = 8\n",
    "d = 7\n",
    "\n",
    "# gmean2 = (c*d)/(c+d)\n",
    "# print(gmean2)\n",
    "calculateGmean(c,d)   # calling a function"
   ]
  },
  {
   "cell_type": "code",
   "execution_count": 30,
   "id": "f2f11675",
   "metadata": {},
   "outputs": [
    {
     "name": "stdout",
     "output_type": "stream",
     "text": [
      "12\n",
      "100\n"
     ]
    }
   ],
   "source": [
    "def myfunctionname(a,b):\n",
    "    mean = a+b\n",
    "    print(mean)\n",
    "a = 4\n",
    "b = 8\n",
    "myfunctionname(a,b)\n",
    "\n",
    "\n",
    "e = 10\n",
    "f = 90\n",
    "myfunctionname(e,f)"
   ]
  },
  {
   "cell_type": "code",
   "execution_count": 40,
   "id": "76c52615",
   "metadata": {},
   "outputs": [
    {
     "name": "stdout",
     "output_type": "stream",
     "text": [
      "First number is greater\n",
      "4.235294117647059\n",
      "Second number is greater or equal\n",
      "7.219512195121951\n"
     ]
    }
   ],
   "source": [
    "def calculateGmean(a,b):\n",
    "    mean = (a*b)/(a+b)\n",
    "    print(mean)\n",
    "\n",
    "a = 9\n",
    "b = 8\n",
    "if(a>b):\n",
    "    print(\"First number is greater\")\n",
    "else:\n",
    "    print(\"Second number is greater or equal\")\n",
    "    \n",
    "# gmean1 = (a*b)/(a+b)\n",
    "# print(gmean1)\n",
    "calculateGmean(a,b)\n",
    "c = 8\n",
    "d = 74 \n",
    "if(c>d):\n",
    "    print(\"First number is greater\")\n",
    "else:\n",
    "    print(\"Second number is greater or equal\")\n",
    "\n",
    "# gmean2 = (c*d)/(c+d)\n",
    "# print(gmean2)\n",
    "calculateGmean(c,d)\n",
    "\n",
    "\n",
    "# again is code me bi hm again and again if else bi ni likhenge:\n",
    "# we us def funtion.see below"
   ]
  },
  {
   "cell_type": "code",
   "execution_count": 42,
   "id": "18e25922",
   "metadata": {},
   "outputs": [
    {
     "name": "stdout",
     "output_type": "stream",
     "text": [
      "First number is greater\n",
      "4.235294117647059\n",
      "Second number is greater or equal\n",
      "7.219512195121951\n"
     ]
    }
   ],
   "source": [
    "def calculateGmean(a,b):\n",
    "    mean = (a*b)/(a+b)\n",
    "    print(mean)\n",
    "\n",
    "def isGreater(a,b): \n",
    "    if(a>b):\n",
    "        print(\"First number is greater\")\n",
    "    else:\n",
    "        print(\"Second number is greater\")\n",
    "a = 9\n",
    "b = 8\n",
    "isGreater(a,b)\n",
    "    \n",
    "# gmean1 = (a*b)/(a+b)\n",
    "# print(gmean1)\n",
    "calculateGmean(a,b)\n",
    "c = 8\n",
    "d = 74\n",
    "isGreater(c,d)\n",
    "\n",
    "# gmean2 = (c*d)/(c+d)\n",
    "# print(gmean2)\n",
    "calculateGmean(c,d)"
   ]
  },
  {
   "cell_type": "code",
   "execution_count": 43,
   "id": "7c45a4f9",
   "metadata": {},
   "outputs": [],
   "source": [
    "# # harry story\n",
    "# do dost ek roz bolta me khana ghar pe kha lunga \n",
    "# tu canteen me jake kha le\n",
    "\n",
    "# ab ye roj roj bolne acha\n",
    "# isne code bna liya, ki if ye bole vinod, to iska frnd smj jay ki ye kya bol rha hai."
   ]
  },
  {
   "cell_type": "code",
   "execution_count": 47,
   "id": "68d21c83",
   "metadata": {},
   "outputs": [
    {
     "name": "stdout",
     "output_type": "stream",
     "text": [
      "First number is greater\n",
      "4.235294117647059\n",
      "Second number is greater or equal\n",
      "7.219512195121951\n"
     ]
    }
   ],
   "source": [
    "def calculateGmean(a,b):\n",
    "    mean = (a*b)/(a+b)\n",
    "    print(mean)\n",
    "\n",
    "def isGreater(a,b):     # remember indentation \n",
    "    if(a>b):\n",
    "        print(\"First number is greater\")\n",
    "    else:\n",
    "        print(\"Second number is greater or equal\")\n",
    "    \n",
    "def isLesser(a,b): \n",
    "    pass     # agar muje fuctn ki body badh me likhna hai to write pass. is now write pass it shows error.\n",
    "a = 9\n",
    "b = 8\n",
    "isGreater(a,b)\n",
    "    \n",
    "# gmean1 = (a*b)/(a+b)\n",
    "# print(gmean1)\n",
    "calculateGmean(a,b)\n",
    "c = 8\n",
    "d = 74\n",
    "isGreater(c,d)\n",
    "\n",
    "# gmean2 = (c*d)/(c+d)\n",
    "# print(gmean2)\n",
    "calculateGmean(c,d)"
   ]
  },
  {
   "cell_type": "code",
   "execution_count": 49,
   "id": "a4b3dee8",
   "metadata": {},
   "outputs": [],
   "source": [
    "#built in fuct (pre define fuction) -  jo fuctn def se define nhi krna pdta\n",
    "# user-defined func - jo def se define krne pdte hai. jo user khud bnate hai.\n",
    "# to know fuction names - just google it."
   ]
  },
  {
   "cell_type": "code",
   "execution_count": 1,
   "id": "88b0023b",
   "metadata": {},
   "outputs": [
    {
     "name": "stdin",
     "output_type": "stream",
     "text": [
      "Enter something:  HELLO WORLD\n"
     ]
    },
    {
     "name": "stdout",
     "output_type": "stream",
     "text": [
      "You entered: HELLO WORLD\n"
     ]
    }
   ],
   "source": [
    "def user_prompt():\n",
    "    user_input = input(\"Enter something: \")\n",
    "    print(\"You entered:\", user_input)\n",
    "\n",
    "# Call the function\n",
    "user_prompt()\n"
   ]
  },
  {
   "cell_type": "code",
   "execution_count": null,
   "id": "d4eeabd0-4a6f-4f2c-87a2-45f8e34f1d0a",
   "metadata": {},
   "outputs": [],
   "source": []
  }
 ],
 "metadata": {
  "kernelspec": {
   "display_name": "Python 3 (ipykernel)",
   "language": "python",
   "name": "python3"
  },
  "language_info": {
   "codemirror_mode": {
    "name": "ipython",
    "version": 3
   },
   "file_extension": ".py",
   "mimetype": "text/x-python",
   "name": "python",
   "nbconvert_exporter": "python",
   "pygments_lexer": "ipython3",
   "version": "3.11.4"
  }
 },
 "nbformat": 4,
 "nbformat_minor": 5
}
