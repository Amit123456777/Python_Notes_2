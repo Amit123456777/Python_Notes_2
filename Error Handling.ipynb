{
 "cells": [
  {
   "cell_type": "markdown",
   "id": "b71be16f-7ebc-43fb-baa3-81efd62dec2d",
   "metadata": {},
   "source": [
    "# try and except"
   ]
  },
  {
   "cell_type": "code",
   "execution_count": 2,
   "id": "8a1456c2-7fba-4599-9f3e-2657d3c5390d",
   "metadata": {},
   "outputs": [
    {
     "name": "stdin",
     "output_type": "stream",
     "text": [
      "Enter an integer: tdyufjdfkdjfkj\n"
     ]
    },
    {
     "name": "stdout",
     "output_type": "stream",
     "text": [
      "Numberr entered is not an interger.\n"
     ]
    }
   ],
   "source": [
    "try:\n",
    "    num = int(input(\"Enter an integer:\"))\n",
    "except ValueError:\n",
    "    print(\"Number entered is not an interger.\")"
   ]
  },
  {
   "cell_type": "code",
   "execution_count": 12,
   "id": "274d1832-c384-4c12-94f6-861c1eb13f5c",
   "metadata": {},
   "outputs": [
    {
     "name": "stdin",
     "output_type": "stream",
     "text": [
      "Enter a string or number:  hello world\n"
     ]
    }
   ],
   "source": [
    "try:\n",
    "    user_input = input(\"Enter a string or number: \")\n",
    "    if user_input.isdigit():\n",
    "        raise ValueError(\"Input is a number\")\n",
    "except ValueError as e:\n",
    "    print(e)"
   ]
  },
  {
   "cell_type": "code",
   "execution_count": 13,
   "id": "648edf4a-e67c-4c22-b0d6-308e8e53e5a2",
   "metadata": {},
   "outputs": [],
   "source": [
    "# example"
   ]
  },
  {
   "cell_type": "code",
   "execution_count": 17,
   "id": "afd8188f-f467-4af6-9417-99c81fb42ec8",
   "metadata": {},
   "outputs": [
    {
     "name": "stdin",
     "output_type": "stream",
     "text": [
      "Enter an integer number: 10\n"
     ]
    },
    {
     "name": "stdout",
     "output_type": "stream",
     "text": [
      "Integer Accepted.\n",
      "This block is always executed.\n"
     ]
    }
   ],
   "source": [
    "try:\n",
    "    num = int(input(\"Enter an integer number:\"))\n",
    "except ValueError:\n",
    "    print(\"Number entered is not an integer.\")\n",
    "else:\n",
    "    print(\"Integer Accepted.\")\n",
    "finally:\n",
    "    print(\"This block is always executed.\")"
   ]
  },
  {
   "cell_type": "markdown",
   "id": "fa4e1787-59c3-4642-9588-2d1184689cb7",
   "metadata": {},
   "source": [
    "# question:\n"
   ]
  },
  {
   "cell_type": "code",
   "execution_count": null,
   "id": "6c20e047-2da6-488e-b2d9-931f82152328",
   "metadata": {},
   "outputs": [],
   "source": [
    "# CREATE A FUNCTION WHEN THE FUNCTION DIVIDES 10 BY A USER-PROVIDED NUMBER,\n",
    "# HANDLING POTENTIAL EXCEPTION SUCH AS ZERO DIVISION OR INVALID."
   ]
  },
  {
   "cell_type": "code",
   "execution_count": 22,
   "id": "09874faa-a9a9-4a3b-a376-7cb3293d44d9",
   "metadata": {},
   "outputs": [
    {
     "name": "stdin",
     "output_type": "stream",
     "text": [
      "Enter a number: 10\n"
     ]
    },
    {
     "name": "stdout",
     "output_type": "stream",
     "text": [
      "Result 1.0\n",
      "No exceptions occured.\n",
      "Existing function.\n"
     ]
    }
   ],
   "source": [
    "def divide_number():\n",
    "    try:\n",
    "        # Code that may raise an exception\n",
    "        x = int(input(\"Enter a number:\"))\n",
    "        result = 10/x\n",
    "        print(\"Result\", result)\n",
    "\n",
    "    except ZeroDivisionError:\n",
    "        print(\"Cannot divide by zero!\")\n",
    "\n",
    "    except ValueError:\n",
    "        print(\"Invalid input! Please enter a valid number.\")\n",
    "\n",
    "    else:\n",
    "        print(\"No exceptions occured.\")\n",
    "\n",
    "    finally:\n",
    "        print(\"Existing function.\")\n",
    "\n",
    "# call the function\n",
    "divide_number()"
   ]
  },
  {
   "cell_type": "markdown",
   "id": "5fddf07d-496e-44d9-8ffe-6a133d3a5f91",
   "metadata": {},
   "source": [
    "# quick quiz"
   ]
  },
  {
   "cell_type": "code",
   "execution_count": 23,
   "id": "68e5808c-354e-48c8-88f4-860764c6ac42",
   "metadata": {},
   "outputs": [],
   "source": [
    "# make a prgram to taking input from user. if user write quite then program will execute else raise error."
   ]
  },
  {
   "cell_type": "code",
   "execution_count": 43,
   "id": "cdb1eb37-7787-4fd7-a692-8f83cbfdbef3",
   "metadata": {},
   "outputs": [
    {
     "name": "stdin",
     "output_type": "stream",
     "text": [
      "Enter value:  quit\n"
     ]
    },
    {
     "name": "stdout",
     "output_type": "stream",
     "text": [
      "quit\n"
     ]
    }
   ],
   "source": [
    "quit_word = \"quit\"\n",
    "input_str = input(\"Enter value: \")\n",
    "\n",
    "if quit_word == input_str:\n",
    "    print(input_str)\n",
    "else:\n",
    "    raise ValueError(\"The input is not equal to the word quit\")\n"
   ]
  },
  {
   "cell_type": "code",
   "execution_count": null,
   "id": "c7d5df00-4d97-43d6-a8e4-d49ae077e102",
   "metadata": {},
   "outputs": [],
   "source": []
  },
  {
   "cell_type": "markdown",
   "id": "de4b05cc-c95f-400a-9600-46a1457ce7b1",
   "metadata": {},
   "source": [
    "<!-- if num > 18 then can vote:\n",
    "else raise error -->"
   ]
  },
  {
   "cell_type": "code",
   "execution_count": 44,
   "id": "09bdf2b8-6ece-4f5a-8c0e-fa9a4fffad28",
   "metadata": {},
   "outputs": [],
   "source": [
    "# if num > 18 can vote\n",
    "# else raise error"
   ]
  },
  {
   "cell_type": "code",
   "execution_count": 49,
   "id": "78c0ad3b-4eee-4456-b12b-49fdab2c4976",
   "metadata": {},
   "outputs": [
    {
     "name": "stdin",
     "output_type": "stream",
     "text": [
      "enter your age:  21\n"
     ]
    },
    {
     "name": "stdout",
     "output_type": "stream",
     "text": [
      "you can vote: \n"
     ]
    }
   ],
   "source": [
    "num = int(input(\"enter your age: \"))\n",
    "if num > 18:\n",
    "    print(\"you can vote: \")\n",
    "else:\n",
    "    raise ValueError(\"age should be greater tahn 18\")"
   ]
  },
  {
   "cell_type": "code",
   "execution_count": 50,
   "id": "e92bfde5-20aa-4c5b-a7c5-2ceed684b9fd",
   "metadata": {},
   "outputs": [
    {
     "name": "stdout",
     "output_type": "stream",
     "text": [
      "Error occurred: Name cannot be empty!\n"
     ]
    }
   ],
   "source": [
    "def greet(name):\n",
    "    if not name:\n",
    "        raise ValueError(\"Name cannot be empty!\")\n",
    "    print(f\"Hello, {name}!\")\n",
    "\n",
    "# Example usage\n",
    "try:\n",
    "    greet(\"\") # This wiil raise a ValueError\n",
    "except ValueError as e:\n",
    "    print(\"Error occurred:\", e)"
   ]
  },
  {
   "cell_type": "code",
   "execution_count": 51,
   "id": "fef37ed0-126c-42df-bf37-4aa26fc99adb",
   "metadata": {},
   "outputs": [],
   "source": [
    "# quest: if the number is greater than 5, then raise an error"
   ]
  },
  {
   "cell_type": "code",
   "execution_count": 5,
   "id": "757d89c4-0eff-4ef5-840a-d689222667d8",
   "metadata": {},
   "outputs": [
    {
     "name": "stdin",
     "output_type": "stream",
     "text": [
      "Enter the number greater than 5 55\n"
     ]
    },
    {
     "ename": "ValueError",
     "evalue": "Value should be greater than 5",
     "output_type": "error",
     "traceback": [
      "\u001b[1;31m---------------------------------------------------------------------------\u001b[0m",
      "\u001b[1;31mValueError\u001b[0m                                Traceback (most recent call last)",
      "Cell \u001b[1;32mIn[5], line 3\u001b[0m\n\u001b[0;32m      1\u001b[0m a \u001b[38;5;241m=\u001b[39m \u001b[38;5;28mint\u001b[39m(\u001b[38;5;28minput\u001b[39m(\u001b[38;5;124m\"\u001b[39m\u001b[38;5;124mEnter the number greater than 5\u001b[39m\u001b[38;5;124m\"\u001b[39m))\n\u001b[0;32m      2\u001b[0m \u001b[38;5;28;01mif\u001b[39;00m a\u001b[38;5;241m>\u001b[39m\u001b[38;5;241m5\u001b[39m:\n\u001b[1;32m----> 3\u001b[0m     \u001b[38;5;28;01mraise\u001b[39;00m \u001b[38;5;167;01mValueError\u001b[39;00m(\u001b[38;5;124m\"\u001b[39m\u001b[38;5;124mValue should be greater than 5\u001b[39m\u001b[38;5;124m\"\u001b[39m)\n",
      "\u001b[1;31mValueError\u001b[0m: Value should be greater than 5"
     ]
    }
   ],
   "source": [
    "a = int(input(\"Enter the number greater than 5\"))\n",
    "if a>5:\n",
    "    raise ValueError(\"Value should be greater than 5\")\n"
   ]
  },
  {
   "cell_type": "code",
   "execution_count": null,
   "id": "db90754c-6c11-4f1b-bce1-598b62b42eae",
   "metadata": {},
   "outputs": [],
   "source": []
  }
 ],
 "metadata": {
  "kernelspec": {
   "display_name": "Python 3 (ipykernel)",
   "language": "python",
   "name": "python3"
  },
  "language_info": {
   "codemirror_mode": {
    "name": "ipython",
    "version": 3
   },
   "file_extension": ".py",
   "mimetype": "text/x-python",
   "name": "python",
   "nbconvert_exporter": "python",
   "pygments_lexer": "ipython3",
   "version": "3.11.4"
  }
 },
 "nbformat": 4,
 "nbformat_minor": 5
}
