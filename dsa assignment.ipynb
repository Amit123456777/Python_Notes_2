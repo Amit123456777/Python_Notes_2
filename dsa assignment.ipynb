{
 "cells": [
  {
   "cell_type": "code",
   "execution_count": 2,
   "id": "b3e559a2-1e4b-4bc8-a896-677bd6e865bb",
   "metadata": {},
   "outputs": [
    {
     "name": "stdin",
     "output_type": "stream",
     "text": [
      "enter any values 2\n"
     ]
    },
    {
     "name": "stdout",
     "output_type": "stream",
     "text": [
      "it's a chilly day\n",
      "it's a beautiful day\n"
     ]
    }
   ],
   "source": [
    "#         2. QUESTIONS RELATED TO  (IF ELSE CODE)\n",
    "\n",
    "\n",
    "# WRITE A PYTHON PROGRAM TO TELL THE TEMPERATURE BY INPUT\n",
    "\n",
    "temp = int(input(\"enter any values\"))\n",
    "if temp > 30:\n",
    "    print(\"it's a hot day\")\n",
    "elif temp > 25:\n",
    "    print(\"it's a pleasant day\")\n",
    "elif temp > 25:\n",
    "    print(\"it's a cold day\")\n",
    "else:\n",
    "    print(\"it's a chilly day\")\n",
    "print(\"it's a beautiful day\")"
   ]
  },
  {
   "cell_type": "code",
   "execution_count": 5,
   "id": "70d0f1a7-15c3-4a65-99f0-4be0f07337a2",
   "metadata": {},
   "outputs": [
    {
     "name": "stdin",
     "output_type": "stream",
     "text": [
      "marks a:  99\n",
      "marks b:  99\n",
      "marks c:  100\n",
      "marks d:  98\n",
      "marks e:  100\n"
     ]
    },
    {
     "name": "stdout",
     "output_type": "stream",
     "text": [
      "The percentage is: 99.2 %\n"
     ]
    },
    {
     "name": "stdin",
     "output_type": "stream",
     "text": [
      "enter marks in percentage:  99.2\n"
     ]
    },
    {
     "name": "stdout",
     "output_type": "stream",
     "text": [
      "A+\n"
     ]
    }
   ],
   "source": [
    "# GRADE QUESTION\n",
    "# MAKE A PYTHON PROGRAM USING IF ELSE TO TELL THE GRADES ACCORDING TO THE PERCENTAGE OF MARKS. (USE INPUT FUNCTION)\n",
    "\n",
    "\n",
    "# calculate percentage\n",
    "a = float(input(\"marks a: \"))\n",
    "b = float(input(\"marks b: \"))\n",
    "c = float(input(\"marks c: \"))\n",
    "d = float(input(\"marks d: \"))\n",
    "e = float(input(\"marks e: \"))\n",
    "\n",
    "percentage = (a+b+c+d+e)/500*100\n",
    "print(f\"The percentage is: {percentage} %\")\n",
    "\n",
    "# input percentage\n",
    "percentage = float(input(\"enter marks in percentage: \"))\n",
    "if percentage > 95:\n",
    "    print(\"A+\")\n",
    "elif percentage > 90:\n",
    "    print(\"A\")\n",
    "elif percentage > 80:\n",
    "    print(\"B+\")\n",
    "elif percentage > 70:\n",
    "    print(\"B\")\n",
    "elif percentage > 60:\n",
    "    print(\"C+\")\n",
    "elif percentage > 50:\n",
    "    print(\"C\")\n",
    "elif percentage > 40:\n",
    "    print(\"D+\")\n",
    "elif percentage > 33:\n",
    "    print(\"D\")\n",
    "else:\n",
    "    print(\"F\")"
   ]
  },
  {
   "cell_type": "code",
   "execution_count": null,
   "id": "3dd7b2ce-479a-4a95-a21c-2ccf258c718d",
   "metadata": {},
   "outputs": [],
   "source": []
  },
  {
   "cell_type": "code",
   "execution_count": 10,
   "id": "3fdff733-5c86-4c3d-886a-a3407c5575d6",
   "metadata": {},
   "outputs": [
    {
     "name": "stdin",
     "output_type": "stream",
     "text": [
      "Enter first number :  2\n",
      "Enter second number :  2\n"
     ]
    },
    {
     "name": "stdout",
     "output_type": "stream",
     "text": [
      "----press keys for operator (+,-,*,/,%)----------\n"
     ]
    },
    {
     "name": "stdin",
     "output_type": "stream",
     "text": [
      "Enter operator :  +\n"
     ]
    },
    {
     "name": "stdout",
     "output_type": "stream",
     "text": [
      "4\n"
     ]
    }
   ],
   "source": [
    "#                 3. python project to build a calculator\n",
    "#Let’s build a Calculator\n",
    "#Our Calculator\n",
    "first = input(\"Enter first number : \")\n",
    "second = input(\"Enter second number : \")\n",
    "first = int(first)\n",
    "second = int(second)\n",
    "print(\"----press keys for operator (+,-,*,/,%)----------\")\n",
    "operator = input(\"Enter operator : \")\n",
    "if operator == \"+\":\n",
    "    print(first + second)\n",
    "elif operator == \"-\":\n",
    "    print(first - second)\n",
    "elif operator == \"*\":\n",
    "    print(first * second)\n",
    "elif operator == \"/\":\n",
    "    print(first / second)\n",
    "elif operator == \"%\":\n",
    "    print(first % second)\n",
    "else:\n",
    "    print(\"Invalid Operation\")"
   ]
  },
  {
   "cell_type": "code",
   "execution_count": 11,
   "id": "cd541f8e-8f9c-4d47-8b93-9ec597e7adf6",
   "metadata": {},
   "outputs": [
    {
     "name": "stdin",
     "output_type": "stream",
     "text": [
      "enter any value :  5\n"
     ]
    },
    {
     "name": "stdout",
     "output_type": "stream",
     "text": [
      "the sum is : 120\n"
     ]
    }
   ],
   "source": [
    "# factorial function (product of first n natural no.)\n",
    "\n",
    "n = int(input(\"enter any value : \"))\n",
    "product = 1\n",
    "while (n>0):\n",
    "    product = product * n\n",
    "    n = n-1\n",
    "print(\"the sum is :\", product)"
   ]
  },
  {
   "cell_type": "code",
   "execution_count": 12,
   "id": "cf566995-927a-4822-af4e-48483050fcf4",
   "metadata": {},
   "outputs": [
    {
     "name": "stdout",
     "output_type": "stream",
     "text": [
      "['b', 'o', 'a', 't']\n",
      "<class 'list'>\n",
      "['a', 'o', 'b', 't']\n",
      "boat\n"
     ]
    }
   ],
   "source": [
    "# projec 1\n",
    "# code 1\n",
    "a = \"boat\"\n",
    "b = list(a)\n",
    "print(b)\n",
    "print(type(b))\n",
    "\n",
    "b[0],b[2] = b[2],b[0]\n",
    "print(b)\n",
    "\n",
    "\n",
    "print(a)"
   ]
  },
  {
   "cell_type": "code",
   "execution_count": 14,
   "id": "fae9de09-5728-4846-8524-079adbaa1f76",
   "metadata": {},
   "outputs": [
    {
     "name": "stdout",
     "output_type": "stream",
     "text": [
      "['b', 'o', 'a', 't']\n",
      "['a', 'o', 'b', 't']\n",
      "a o b t\n"
     ]
    }
   ],
   "source": [
    "# code 2\n",
    "# correct code\n",
    "a = \"boat\"\n",
    "b = list(a)\n",
    "print(b)\n",
    "def swap(list, pos1, pos2):\n",
    "    list[pos1],list[pos2]=list[pos2],list[pos1]\n",
    "    return list\n",
    "\n",
    "c =swap(b, 0, 2)\n",
    "print(c)\n",
    "\n",
    "word = \" \"\n",
    "d = word.join(c)\n",
    "print(d)"
   ]
  },
  {
   "cell_type": "code",
   "execution_count": 15,
   "id": "286dbd3e-22b1-491f-93d0-4fd9fd064785",
   "metadata": {},
   "outputs": [
    {
     "name": "stdout",
     "output_type": "stream",
     "text": [
      "['c', 'h', 'e', 'c', 'k', 'm', 'a', 't', 'e']\n",
      "['c', 'k', 'e', 'c', 'k', 'm', 'a', 't', 'e']\n",
      "c k e c k m a t e\n"
     ]
    }
   ],
   "source": [
    "# code 3\n",
    "\n",
    "a = \"checkmate\"\n",
    "b = list(a)\n",
    "print(b)\n",
    "def swap(list, pos1, pos2, pos3):\n",
    "    list[pos1],list[pos2],list[pos3] = list[pos2],list[pos2],list[pos3]\n",
    "    return list\n",
    "\n",
    "c = swap(b,1,4,7)\n",
    "print(c)\n",
    "word = \" \"\n",
    "d = word.join(c)\n",
    "print(d)\n"
   ]
  },
  {
   "cell_type": "code",
   "execution_count": 16,
   "id": "4e0c9156-ab87-45c4-8f6b-38090803fe3b",
   "metadata": {},
   "outputs": [
    {
     "name": "stdout",
     "output_type": "stream",
     "text": [
      "3\n"
     ]
    }
   ],
   "source": [
    "# fibonacci series using recursion\n",
    "\n",
    "def fiborecur(n):\n",
    "    if (n==1):      #if n==1 then 1, elif n==0 then 0\n",
    "        return 1\n",
    "    elif (n == 0):\n",
    "        return 0\n",
    "    else:\n",
    "        return fiborecur(n-1)+fiborecur(n-2)\n",
    "print(fiborecur(4))"
   ]
  },
  {
   "cell_type": "code",
   "execution_count": null,
   "id": "b71957c2-b7b8-469e-9e5e-3ce32f00da5e",
   "metadata": {},
   "outputs": [],
   "source": [
    "# bubble sort (sorting array)\n",
    "\n",
    "import array\n",
    "from array import *\n",
    "#defining a funtion\n",
    "def pairwise_swap(arr):\n",
    "    n=len(arr)\n",
    "    for i in range(0, n-1):\n",
    "        for j in range (0, n-i-1):\n",
    "            if arr[j]>arr[j+1]:\n",
    "                arr[j],arr[j+1]=arr[j+1],arr[j]\n",
    "                \n",
    "#ending the definition\n",
    "\n",
    "#defining the array\n",
    "\n",
    "arr1 = array('i',[100,99,58,45,34,21])\n",
    "\n",
    "# calling the fucntion\n",
    "pairwise_swap(arr1)\n",
    "print(arr1)"
   ]
  }
 ],
 "metadata": {
  "kernelspec": {
   "display_name": "Python 3 (ipykernel)",
   "language": "python",
   "name": "python3"
  },
  "language_info": {
   "codemirror_mode": {
    "name": "ipython",
    "version": 3
   },
   "file_extension": ".py",
   "mimetype": "text/x-python",
   "name": "python",
   "nbconvert_exporter": "python",
   "pygments_lexer": "ipython3",
   "version": "3.11.4"
  }
 },
 "nbformat": 4,
 "nbformat_minor": 5
}
