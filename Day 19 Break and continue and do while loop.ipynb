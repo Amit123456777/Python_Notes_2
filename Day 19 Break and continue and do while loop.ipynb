{
 "cells": [
  {
   "cell_type": "code",
   "execution_count": null,
   "id": "0171e984",
   "metadata": {},
   "outputs": [],
   "source": [
    "# shortcut for jupyter.\n",
    "# 1. ctrl + enter to run \n",
    "# 2. shift + enter also\n",
    "# difference ctrl se use line pe hi rehta hai cursor\n",
    "# shift se below wale line pe aa jata hai.\n",
    "# 3. ctrl + / (forward slash) = comment/uncomment\n",
    "# 4. alt + up ya down arrow key.= to move line statement\n",
    "# 5. ctrl + click = for multiples cursors \n",
    "    \n",
    "# 6. ctrl + backspace = fast backspace\n",
    "\n",
    "# 7. New shortcut - ctrl dbake hm specific line select kr skte hai."
   ]
  },
  {
   "cell_type": "code",
   "execution_count": 2,
   "id": "46d9644b",
   "metadata": {},
   "outputs": [
    {
     "name": "stdout",
     "output_type": "stream",
     "text": [
      "5 X 1 = 5\n",
      "5 X 2 = 10\n",
      "5 X 3 = 15\n",
      "5 X 4 = 20\n",
      "5 X 5 = 25\n",
      "5 X 6 = 30\n",
      "5 X 7 = 35\n",
      "5 X 8 = 40\n",
      "5 X 9 = 45\n",
      "5 X 10 = 50\n",
      "Loop ko chodkar nikal gaya\n"
     ]
    }
   ],
   "source": [
    "# code 1\n",
    "\n",
    "for i in range(12):\n",
    "    if (i == 10):\n",
    "         break\n",
    "    print(\"5 X\", i+1, \"=\", 5*(i+1))\n",
    "    \n",
    "print(\"Loop ko chodkar nikal gaya\")"
   ]
  },
  {
   "cell_type": "code",
   "execution_count": 3,
   "id": "84625d91",
   "metadata": {},
   "outputs": [
    {
     "name": "stdout",
     "output_type": "stream",
     "text": [
      "5 X 0 = 0\n",
      "5 X 1 = 5\n",
      "5 X 2 = 10\n",
      "5 X 3 = 15\n",
      "5 X 4 = 20\n",
      "5 X 5 = 25\n",
      "5 X 6 = 30\n",
      "5 X 7 = 35\n",
      "5 X 8 = 40\n",
      "5 X 9 = 45\n",
      "Skip the iteration\n",
      "5 X 11 = 55\n"
     ]
    }
   ],
   "source": [
    "for i in range(12):\n",
    "    if (i == 10):\n",
    "        print(\"Skip the iteration\")\n",
    "        continue\n",
    "    print(\"5 X\", i, \"=\", 5*(i))"
   ]
  },
  {
   "cell_type": "code",
   "execution_count": 4,
   "id": "947a5025",
   "metadata": {},
   "outputs": [
    {
     "name": "stdout",
     "output_type": "stream",
     "text": [
      "0\n",
      "1\n",
      "2\n",
      "3\n",
      "4\n",
      "5\n",
      "6\n",
      "7\n",
      "8\n",
      "9\n",
      "10\n",
      "11\n",
      "12\n",
      "13\n",
      "14\n",
      "15\n",
      "16\n",
      "17\n",
      "18\n",
      "19\n",
      "20\n",
      "21\n",
      "22\n",
      "23\n",
      "24\n",
      "25\n",
      "26\n",
      "27\n",
      "28\n",
      "29\n",
      "30\n",
      "31\n",
      "32\n",
      "33\n",
      "34\n",
      "35\n",
      "36\n",
      "37\n",
      "38\n",
      "39\n",
      "40\n",
      "41\n",
      "42\n",
      "43\n",
      "44\n",
      "45\n",
      "46\n",
      "47\n",
      "48\n",
      "49\n",
      "50\n",
      "51\n",
      "52\n",
      "53\n",
      "54\n",
      "55\n",
      "56\n",
      "57\n",
      "58\n",
      "59\n",
      "60\n",
      "61\n",
      "62\n",
      "63\n",
      "64\n",
      "65\n",
      "66\n",
      "67\n",
      "68\n",
      "69\n",
      "70\n",
      "71\n",
      "72\n",
      "73\n",
      "74\n",
      "75\n",
      "76\n",
      "77\n",
      "78\n",
      "79\n",
      "80\n",
      "81\n",
      "82\n",
      "83\n",
      "84\n",
      "85\n",
      "86\n",
      "87\n",
      "88\n",
      "89\n",
      "90\n",
      "91\n",
      "92\n",
      "93\n",
      "94\n",
      "95\n",
      "96\n",
      "97\n",
      "98\n",
      "99\n"
     ]
    }
   ],
   "source": [
    "# very important ques \n",
    "# emulate do while loop\n",
    "\n",
    "# ex 1\n",
    "i = 0  # while me initialize jruri hai\n",
    "while True:\n",
    "    print(i)\n",
    "    i = i + 1\n",
    "    if(i%100 == 0):\n",
    "        break\n",
    "\n",
    "# syntax in other lang.\n",
    "# do {\n",
    "#     loop body\n",
    "# }while (condition);"
   ]
  },
  {
   "cell_type": "code",
   "execution_count": 2,
   "id": "460b4a15",
   "metadata": {},
   "outputs": [
    {
     "name": "stdout",
     "output_type": "stream",
     "text": [
      "Enter a positive number: 1\n",
      "Enter a positive number: 2\n",
      "Enter a positive number: -3\n"
     ]
    }
   ],
   "source": [
    "# ex 2 simple while\n",
    "# condition tb tk print hoga jb tk negative ni aa jay\n",
    "while True:\n",
    "    number = int(input(\"Enter a positive number: \"))\n",
    "#     print(number)\n",
    "    if not number > 0:\n",
    "        break\n",
    "   \n",
    "# output:\n",
    "# Enter a positive number: 1\n",
    "# Enter a positive number: 2\n",
    "# Enter a positive number: -3"
   ]
  },
  {
   "cell_type": "code",
   "execution_count": 1,
   "id": "c334cba1",
   "metadata": {},
   "outputs": [
    {
     "name": "stdout",
     "output_type": "stream",
     "text": [
      "Enter a positive number: 1\n",
      "1\n",
      "Enter a positive number: 2\n",
      "2\n",
      "Enter a positive number: -3\n",
      "-3\n"
     ]
    }
   ],
   "source": [
    "# ex 2 with do while\n",
    "# condition tb tk print hoga jb tk negative ni aa jay\n",
    "while True:\n",
    "    number = int(input(\"Enter a positive number: \"))\n",
    "    print(number)\n",
    "    if not number > 0:\n",
    "        break\n",
    "        \n",
    "# output:\n",
    "\n",
    "Enter a positive number: 1\n",
    "1\n",
    "Enter a positive number: 2\n",
    "2\n",
    "Enter a positive number: -3\n",
    "-3\n",
    "\n",
    "\n",
    "# simple while and do while ke output me difference hai, in do while whether the \n",
    "# condition is true or not it will print at once."
   ]
  },
  {
   "cell_type": "code",
   "execution_count": null,
   "id": "f106e8e2",
   "metadata": {},
   "outputs": [],
   "source": []
  },
  {
   "cell_type": "code",
   "execution_count": null,
   "id": "4c849250",
   "metadata": {},
   "outputs": [],
   "source": []
  },
  {
   "cell_type": "code",
   "execution_count": 3,
   "id": "11388c81",
   "metadata": {},
   "outputs": [
    {
     "name": "stdout",
     "output_type": "stream",
     "text": [
      "0\n",
      "1\n",
      "2\n",
      "3\n",
      "4\n",
      "5\n",
      "6\n",
      "7\n",
      "8\n",
      "9\n",
      "10\n",
      "11\n",
      "12\n",
      "13\n",
      "14\n"
     ]
    }
   ],
   "source": [
    "for i in range(18):\n",
    "    if i == 15:\n",
    "        break\n",
    "    print(i)"
   ]
  },
  {
   "cell_type": "code",
   "execution_count": 4,
   "id": "7462df81",
   "metadata": {},
   "outputs": [
    {
     "name": "stdout",
     "output_type": "stream",
     "text": [
      "0\n",
      "1\n",
      "2\n",
      "3\n",
      "4\n",
      "5\n",
      "6\n",
      "7\n",
      "8\n",
      "9\n",
      "10\n",
      "11\n",
      "12\n",
      "13\n",
      "14\n",
      "15\n"
     ]
    }
   ],
   "source": [
    "for i in range(18):\n",
    "    print(i)\n",
    "    if i==15:\n",
    "        break"
   ]
  },
  {
   "cell_type": "code",
   "execution_count": null,
   "id": "54ed77b6",
   "metadata": {},
   "outputs": [],
   "source": []
  }
 ],
 "metadata": {
  "kernelspec": {
   "display_name": "Python 3 (ipykernel)",
   "language": "python",
   "name": "python3"
  },
  "language_info": {
   "codemirror_mode": {
    "name": "ipython",
    "version": 3
   },
   "file_extension": ".py",
   "mimetype": "text/x-python",
   "name": "python",
   "nbconvert_exporter": "python",
   "pygments_lexer": "ipython3",
   "version": "3.11.4"
  }
 },
 "nbformat": 4,
 "nbformat_minor": 5
}
