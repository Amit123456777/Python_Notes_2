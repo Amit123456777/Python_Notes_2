{
 "cells": [
  {
   "cell_type": "code",
   "execution_count": 5,
   "id": "2deef807",
   "metadata": {},
   "outputs": [],
   "source": [
    "# we have a python application\n",
    "# if we want to throw an error on a particular action.\n",
    "# so, we can use raise keyword and throw custom errors.\n",
    "\n",
    "# custom error - user-defined exception"
   ]
  },
  {
   "cell_type": "code",
   "execution_count": 6,
   "id": "dac79eed",
   "metadata": {},
   "outputs": [],
   "source": [
    "# why would I raise an error/issue. ?\n",
    "# The main reason to raise an error is \n",
    "# so the program stops and nothing unexpected happens."
   ]
  },
  {
   "cell_type": "code",
   "execution_count": 2,
   "id": "6990e68d",
   "metadata": {},
   "outputs": [
    {
     "name": "stdout",
     "output_type": "stream",
     "text": [
      "enter any value between 5 and 92\n"
     ]
    },
    {
     "ename": "ValueError",
     "evalue": "Value should be between 5 and 9",
     "output_type": "error",
     "traceback": [
      "\u001b[1;31m---------------------------------------------------------------------------\u001b[0m",
      "\u001b[1;31mValueError\u001b[0m                                Traceback (most recent call last)",
      "Cell \u001b[1;32mIn[2], line 4\u001b[0m\n\u001b[0;32m      1\u001b[0m a \u001b[38;5;241m=\u001b[39m \u001b[38;5;28mint\u001b[39m(\u001b[38;5;28minput\u001b[39m(\u001b[38;5;124m\"\u001b[39m\u001b[38;5;124menter any value between 5 and 9\u001b[39m\u001b[38;5;124m\"\u001b[39m))\n\u001b[0;32m      3\u001b[0m \u001b[38;5;28;01mif\u001b[39;00m(a\u001b[38;5;241m<\u001b[39m\u001b[38;5;241m5\u001b[39m \u001b[38;5;129;01mor\u001b[39;00m a\u001b[38;5;241m>\u001b[39m\u001b[38;5;241m9\u001b[39m):\n\u001b[1;32m----> 4\u001b[0m     \u001b[38;5;28;01mraise\u001b[39;00m \u001b[38;5;167;01mValueError\u001b[39;00m(\u001b[38;5;124m\"\u001b[39m\u001b[38;5;124mValue should be between 5 and 9\u001b[39m\u001b[38;5;124m\"\u001b[39m)\n",
      "\u001b[1;31mValueError\u001b[0m: Value should be between 5 and 9"
     ]
    }
   ],
   "source": [
    "a = int(input(\"enter any value between 5 and 9\"))\n",
    "\n",
    "if(a<5 or a>9):\n",
    "    raise ValueError(\"Value should be between 5 and 9\")\n"
   ]
  },
  {
   "cell_type": "code",
   "execution_count": 7,
   "id": "184be750",
   "metadata": {},
   "outputs": [],
   "source": [
    "# surf excel jaise dag ache hai\n",
    "# use treh error bhi ache hai\n",
    "\n",
    "# HME LINE NO. 5 KE BJE SE ERROR AA RHA HAI LINE NO. 12 pe.\n",
    "# to hm 12 tk ja hi ku rhe hai. hm apna program 5 pe hi rok denge.\n",
    "\n",
    "# good programmers and coders stop it there itself.\n",
    "\n",
    "# for ex: mummy ne samose bnaye hai bola hai mosi ke yha pe de aao,\n",
    "# but mistakely mummy hme sbji ke packet de dete hai.\n",
    "# then I see mumy ne glti se sbji de di hai. to hm use leke ni jayenge hm\n",
    "# whi ruk jate hai."
   ]
  },
  {
   "cell_type": "code",
   "execution_count": 8,
   "id": "ba16f802",
   "metadata": {},
   "outputs": [],
   "source": []
  },
  {
   "cell_type": "code",
   "execution_count": 9,
   "id": "da812e04",
   "metadata": {},
   "outputs": [],
   "source": [
    "# SO WE HAVE LEARN 2 THINGS\n",
    "# ek hi sikke ke do pehlu.\n",
    "# 1. agar error aa jata hai to kaise handle kre. in an unexpected case like getting data from a server.\n",
    "# hmara program server se data leke aa rha hai, and server me aag lg jay to is case me hm apne program ko handle kr ske.\n",
    "# so in case of  we use handling error like , try except and finally.\n",
    "# 2. second hmne program likha hai, but user ne de diya hai wrong input.\n",
    "# to hmara program whi ruk jay. raising custom errors"
   ]
  },
  {
   "cell_type": "code",
   "execution_count": 11,
   "id": "af68c3b3",
   "metadata": {},
   "outputs": [],
   "source": [
    "# custom error me hm prgram ko stop krna chahte hai\n",
    "# and try except me hm chahte hai ki hmara program halt na kre. halt means stop.\n",
    "\n",
    "\n",
    "# overwhelmed\n",
    "# DEFINING CUSTOM EXCEPTIONS\n",
    "# ValueError, SyntaxError, MemoryError and more serach on google - python error classes."
   ]
  },
  {
   "cell_type": "code",
   "execution_count": 12,
   "id": "7c64a441",
   "metadata": {},
   "outputs": [],
   "source": [
    "# HarryIsAngryError, ServerIsOffError\n"
   ]
  },
  {
   "cell_type": "code",
   "execution_count": 13,
   "id": "038d9ef9",
   "metadata": {},
   "outputs": [],
   "source": [
    "# Note: classes, inheritence we will discuss later"
   ]
  },
  {
   "cell_type": "code",
   "execution_count": 3,
   "id": "105eeed4",
   "metadata": {},
   "outputs": [
    {
     "name": "stdout",
     "output_type": "stream",
     "text": [
      "enter value :hjk\n"
     ]
    },
    {
     "ename": "ValueError",
     "evalue": "you can only type quit word",
     "output_type": "error",
     "traceback": [
      "\u001b[1;31m---------------------------------------------------------------------------\u001b[0m",
      "\u001b[1;31mValueError\u001b[0m                                Traceback (most recent call last)",
      "Cell \u001b[1;32mIn[3], line 9\u001b[0m\n\u001b[0;32m      7\u001b[0m     \u001b[38;5;28mprint\u001b[39m(a)\n\u001b[0;32m      8\u001b[0m \u001b[38;5;28;01melse\u001b[39;00m:\n\u001b[1;32m----> 9\u001b[0m     \u001b[38;5;28;01mraise\u001b[39;00m \u001b[38;5;167;01mValueError\u001b[39;00m(\u001b[38;5;124m\"\u001b[39m\u001b[38;5;124myou can only type quit word\u001b[39m\u001b[38;5;124m\"\u001b[39m)\n",
      "\u001b[1;31mValueError\u001b[0m: you can only type quit word"
     ]
    }
   ],
   "source": [
    "# quik quiz\n",
    "# we make a program to taking input from user.\n",
    "# if user write quit then program will execute. else raise Error.\n",
    "quit = \"quit\"\n",
    "a = str(input(\"enter value :\"))\n",
    "if quit == a:\n",
    "    print(a)\n",
    "else:\n",
    "    raise ValueError(\"you can only type quit word\")"
   ]
  },
  {
   "cell_type": "code",
   "execution_count": 14,
   "id": "03d5a505",
   "metadata": {},
   "outputs": [
    {
     "name": "stdout",
     "output_type": "stream",
     "text": [
      "enter you age : 4\n"
     ]
    },
    {
     "ename": "ValueError",
     "evalue": "age < 18 : ",
     "output_type": "error",
     "traceback": [
      "\u001b[1;31m---------------------------------------------------------------------------\u001b[0m",
      "\u001b[1;31mValueError\u001b[0m                                Traceback (most recent call last)",
      "Cell \u001b[1;32mIn[14], line 5\u001b[0m\n\u001b[0;32m      3\u001b[0m     \u001b[38;5;28mprint\u001b[39m(\u001b[38;5;124m\"\u001b[39m\u001b[38;5;124myou can vote: \u001b[39m\u001b[38;5;124m\"\u001b[39m)\n\u001b[0;32m      4\u001b[0m \u001b[38;5;28;01melse\u001b[39;00m:\n\u001b[1;32m----> 5\u001b[0m     \u001b[38;5;28;01mraise\u001b[39;00m \u001b[38;5;167;01mValueError\u001b[39;00m(\u001b[38;5;124m\"\u001b[39m\u001b[38;5;124mage < 18 : \u001b[39m\u001b[38;5;124m\"\u001b[39m)\n",
      "\u001b[1;31mValueError\u001b[0m: age < 18 : "
     ]
    }
   ],
   "source": [
    "num = int(input(\"enter you age : \"))\n",
    "if num > 18:\n",
    "    print(\"you can vote: \")\n",
    "else:\n",
    "    raise ValueError(\"age < 18 \")\n",
    "    "
   ]
  },
  {
   "cell_type": "code",
   "execution_count": null,
   "id": "c139b265",
   "metadata": {},
   "outputs": [],
   "source": []
  }
 ],
 "metadata": {
  "kernelspec": {
   "display_name": "Python 3 (ipykernel)",
   "language": "python",
   "name": "python3"
  },
  "language_info": {
   "codemirror_mode": {
    "name": "ipython",
    "version": 3
   },
   "file_extension": ".py",
   "mimetype": "text/x-python",
   "name": "python",
   "nbconvert_exporter": "python",
   "pygments_lexer": "ipython3",
   "version": "3.11.4"
  }
 },
 "nbformat": 4,
 "nbformat_minor": 5
}
