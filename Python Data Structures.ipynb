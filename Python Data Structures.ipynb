{
 "cells": [
  {
   "cell_type": "markdown",
   "id": "4263bb71-51a5-425b-8f20-a0bcc1ce4c33",
   "metadata": {},
   "source": [
    "# 1 Lists\n"
   ]
  },
  {
   "cell_type": "code",
   "execution_count": 1,
   "id": "0d856f6b-d36a-401a-a840-97bb1497f3a9",
   "metadata": {},
   "outputs": [
    {
     "name": "stdout",
     "output_type": "stream",
     "text": [
      "[1, 2, 3, 4, 5]\n"
     ]
    }
   ],
   "source": [
    "# example1\n",
    "lst1 = [1,2,3,4,5]\n",
    "print(lst1)"
   ]
  },
  {
   "cell_type": "code",
   "execution_count": 7,
   "id": "51fe5a10-32c3-4744-95b8-b08415ed605b",
   "metadata": {},
   "outputs": [
    {
     "name": "stdout",
     "output_type": "stream",
     "text": [
      "<class 'list'>\n"
     ]
    }
   ],
   "source": [
    "print(type(lst1))"
   ]
  },
  {
   "cell_type": "code",
   "execution_count": 3,
   "id": "7b11a12d-9b52-4dc7-9127-28fc4f89a59e",
   "metadata": {},
   "outputs": [
    {
     "name": "stdout",
     "output_type": "stream",
     "text": [
      "['Python', 'java', 'c', 'c++', 'html']\n"
     ]
    }
   ],
   "source": [
    "lst2 = [\"Python\", \"java\", \"c\", \"c++\",\"html\"]\n",
    "print(lst2)"
   ]
  },
  {
   "cell_type": "code",
   "execution_count": 4,
   "id": "b1ed75fe-5210-492f-9780-2af9bb42f5ab",
   "metadata": {},
   "outputs": [
    {
     "name": "stdout",
     "output_type": "stream",
     "text": [
      "<class 'list'>\n"
     ]
    }
   ],
   "source": [
    "print(type(lst2))"
   ]
  },
  {
   "cell_type": "code",
   "execution_count": 5,
   "id": "9659a477-bca0-44b0-8ea9-7877f41531f7",
   "metadata": {},
   "outputs": [
    {
     "name": "stdout",
     "output_type": "stream",
     "text": [
      "[1, 2, 'Python', 5, 'Java']\n",
      "<class 'list'>\n"
     ]
    }
   ],
   "source": [
    "# a single list can contain items of different data types.\n",
    "\n",
    "mix_list = [1,2,\"Python\",5,\"Java\"]\n",
    "print(mix_list)\n",
    "print(type(mix_list))"
   ]
  },
  {
   "cell_type": "markdown",
   "id": "b052ff76-d4b6-44ac-a64f-e6f6673afb89",
   "metadata": {},
   "source": [
    "# LIST INDEX"
   ]
  },
  {
   "cell_type": "code",
   "execution_count": 6,
   "id": "4e21d091-2817-4779-bb56-9455b0c6c668",
   "metadata": {},
   "outputs": [],
   "source": [
    "# colors = [\"Red\", \"blue\", \"green\"]\n",
    "#           [0]      [1]     [3]"
   ]
  },
  {
   "cell_type": "markdown",
   "id": "0fba8563-8b4b-4ba8-b558-6cbf6271a34b",
   "metadata": {},
   "source": [
    "# ACCESSING LIST ITEMS\n"
   ]
  },
  {
   "cell_type": "code",
   "execution_count": 8,
   "id": "f417cf27-2c09-4439-9529-8849eeedd300",
   "metadata": {},
   "outputs": [
    {
     "name": "stdout",
     "output_type": "stream",
     "text": [
      "Python\n"
     ]
    }
   ],
   "source": [
    "# positive indexing\n",
    "\n",
    "language = [\"Python\", \"Java\", \"C\", \"C++\"]\n",
    "print(language[0])"
   ]
  },
  {
   "cell_type": "code",
   "execution_count": 13,
   "id": "fb152c95-f345-4dc0-aa08-e34abcdeafdd",
   "metadata": {},
   "outputs": [
    {
     "name": "stdout",
     "output_type": "stream",
     "text": [
      "Java\n",
      "C\n",
      "C++\n"
     ]
    }
   ],
   "source": [
    "print(language[1])\n",
    "print(language[2])\n",
    "print(language[3])"
   ]
  },
  {
   "cell_type": "code",
   "execution_count": 14,
   "id": "03cff5ee-f0ab-4f67-a7d2-a3455cac7251",
   "metadata": {},
   "outputs": [
    {
     "name": "stdout",
     "output_type": "stream",
     "text": [
      "Yellow\n"
     ]
    }
   ],
   "source": [
    "#  Negative Indexing\n",
    "\n",
    "colors = [\"Red\", \"Green\", \"Blue\", \"Yellow\"]\n",
    "print(colors[-1])"
   ]
  },
  {
   "cell_type": "code",
   "execution_count": 20,
   "id": "93b36fda-0c19-4c81-bbe7-3fd952354705",
   "metadata": {},
   "outputs": [
    {
     "name": "stdout",
     "output_type": "stream",
     "text": [
      "Yellow\n",
      "Green\n",
      "Red\n"
     ]
    }
   ],
   "source": [
    "print(colors[-2])\n",
    "print(colors[-3])\n",
    "print(colors[-4])"
   ]
  },
  {
   "cell_type": "code",
   "execution_count": 16,
   "id": "9181b0d2-6a8d-4538-80f3-634a597d7a27",
   "metadata": {},
   "outputs": [
    {
     "ename": "IndexError",
     "evalue": "list index out of range",
     "output_type": "error",
     "traceback": [
      "\u001b[1;31m---------------------------------------------------------------------------\u001b[0m",
      "\u001b[1;31mIndexError\u001b[0m                                Traceback (most recent call last)",
      "Cell \u001b[1;32mIn[16], line 1\u001b[0m\n\u001b[1;32m----> 1\u001b[0m \u001b[38;5;28mprint\u001b[39m(\u001b[43mcolors\u001b[49m\u001b[43m[\u001b[49m\u001b[38;5;241;43m-\u001b[39;49m\u001b[38;5;241;43m5\u001b[39;49m\u001b[43m]\u001b[49m)\n",
      "\u001b[1;31mIndexError\u001b[0m: list index out of range"
     ]
    }
   ],
   "source": [
    "# it will show error if element not found in list\n",
    "\n",
    "print(colors[-5])"
   ]
  },
  {
   "cell_type": "code",
   "execution_count": 19,
   "id": "e574d211-936a-4bf1-980b-ea469c387578",
   "metadata": {},
   "outputs": [
    {
     "name": "stdout",
     "output_type": "stream",
     "text": [
      "Blue is absent\n"
     ]
    }
   ],
   "source": [
    "# check wheather an item is present in the list?\n",
    "\n",
    "colors = [\"Red\", \"Green\", \"Blue\", \"Yellow\", \"Green\"]\n",
    "if \"Blue\" in colors:\n",
    "    print(\"Blue is present\")\n",
    "else:\n",
    "    print(\"Blue is absent\")"
   ]
  },
  {
   "cell_type": "markdown",
   "id": "04009020-3d0b-45b0-9ed1-2f4571d11295",
   "metadata": {},
   "source": [
    "# range"
   ]
  },
  {
   "cell_type": "code",
   "execution_count": 21,
   "id": "209cb1f8-3f0f-4296-9957-bbe2d2311042",
   "metadata": {},
   "outputs": [],
   "source": [
    "# syntax:\n",
    "# listName[Start:end:jumpIndex/skip}"
   ]
  },
  {
   "cell_type": "code",
   "execution_count": 23,
   "id": "3ed0b2ac-cbf6-4bbc-a92c-46baac37fa1a",
   "metadata": {},
   "outputs": [
    {
     "name": "stdout",
     "output_type": "stream",
     "text": [
      "['Tesla', 'Audi', 'Honda', 'Toyota']\n"
     ]
    }
   ],
   "source": [
    "# Example: Printing elements within a particular range:\n",
    "\n",
    "\n",
    "# list slicing\n",
    "cars = [\"Hyundai\", \"Ford\", \"BMW\", \"Tesla\", \"Audi\", \"Honda\", \"Toyota\", \"Subaru\"]\n",
    "print(cars[3:7])"
   ]
  },
  {
   "cell_type": "code",
   "execution_count": 26,
   "id": "b1c6199f-a8fe-4ce6-b5d9-cbf505cffd05",
   "metadata": {},
   "outputs": [
    {
     "name": "stdout",
     "output_type": "stream",
     "text": [
      "['Ford', 'BMW', 'Tesla', 'Audi', 'Honda']\n",
      "['Ford', 'BMW', 'Tesla', 'Audi', 'Honda']\n"
     ]
    }
   ],
   "source": [
    "# negative slicing\n",
    "print(cars[-7:-2])  # -ve slicing\n",
    "           # -7 means = no.of elements - 7 => 1\n",
    "print(cars[1:6])  # +ve slicing"
   ]
  },
  {
   "cell_type": "code",
   "execution_count": 27,
   "id": "f9c4cfd7-71bc-4c92-a4a1-af075c1b0a06",
   "metadata": {},
   "outputs": [],
   "source": [
    "# note: the end index will not be include\n"
   ]
  },
  {
   "cell_type": "code",
   "execution_count": 29,
   "id": "f83120b9-9412-4862-8089-04795ab60ef2",
   "metadata": {},
   "outputs": [
    {
     "name": "stdout",
     "output_type": "stream",
     "text": [
      "['pig', 'horse', 'donkey', 'goat', 'cow']\n",
      "['horse', 'donkey', 'goat', 'cow']\n"
     ]
    }
   ],
   "source": [
    "# Example: printing all elements from a given index till the end.\n",
    "\n",
    "animals = [\"cat\", \"dog\", \"bat\", \"mouse\", \"pig\", \"horse\", \"donkey\", \"goat\", \"cow\"]\n",
    "print(animals[4:])\n",
    "print(animals[-4:])  # -4 means --> 9-4 = 5"
   ]
  },
  {
   "cell_type": "code",
   "execution_count": 36,
   "id": "61d62e27-a8e7-4859-aec6-4f310748c1bf",
   "metadata": {},
   "outputs": [],
   "source": [
    "# When no end index is provided, the interpreter prints all the values till the end.\n",
    "\n",
    "# EXAMPLE:"
   ]
  },
  {
   "cell_type": "code",
   "execution_count": 31,
   "id": "bd8d2ff6-08d7-4c4d-b405-2a8450a8b1c9",
   "metadata": {},
   "outputs": [
    {
     "name": "stdout",
     "output_type": "stream",
     "text": [
      "['Cat', 'dog', 'bat', 'mouse', 'pig', 'horse']\n"
     ]
    }
   ],
   "source": [
    "# Printing all element from start to a given index\n",
    "\n",
    "animals = [\"Cat\", \"dog\", \"bat\", \"mouse\", \"pig\", \"horse\", \"donkey\", \"goat\", \"cow\"]\n",
    "print(animals[:6])"
   ]
  },
  {
   "cell_type": "code",
   "execution_count": 32,
   "id": "77428d2a-a396-46f7-88dc-dbd9fd0a9b6c",
   "metadata": {},
   "outputs": [
    {
     "name": "stdout",
     "output_type": "stream",
     "text": [
      "['Cat', 'dog', 'bat']\n"
     ]
    }
   ],
   "source": [
    "print(animals[:3]) # 3 is not include"
   ]
  },
  {
   "cell_type": "code",
   "execution_count": 33,
   "id": "6ca6657e-8764-4236-a619-494c15b3837c",
   "metadata": {},
   "outputs": [
    {
     "name": "stdout",
     "output_type": "stream",
     "text": [
      "['Cat', 'bat', 'pig', 'donkey', 'cow']\n"
     ]
    }
   ],
   "source": [
    "# example: printing alternative values \n",
    "aniamls = [\"Cat\", \"dog\", \"bat\", \"mouse\", \"pig\", \"horse\", \"donkey\", \"goat\", \"cow\"]\n",
    "print(animals[::2]) # using positive indexes\n",
    "      "
   ]
  },
  {
   "cell_type": "code",
   "execution_count": 34,
   "id": "98a21cc8-b925-4da2-b4a8-b559d68e75cd",
   "metadata": {},
   "outputs": [
    {
     "name": "stdout",
     "output_type": "stream",
     "text": [
      "['dog', 'pig', 'goat']\n"
     ]
    }
   ],
   "source": [
    "# question:\n",
    "# printing every 3rd consecutive values writing a given range\n",
    "\n",
    "animals = [\"Cat\", \"dog\", \"bat\", \"mouse\", \"pig\", \"horse\", \"donkey\", \"goat\", \"cow\"]\n",
    "print(animals[1:8:3])"
   ]
  },
  {
   "cell_type": "markdown",
   "id": "56cdbcb0-b220-4137-9573-3be205ab8303",
   "metadata": {},
   "source": [
    "# very important"
   ]
  },
  {
   "cell_type": "markdown",
   "id": "84c2ef1a-3d68-42f5-bcba-56ae83741a46",
   "metadata": {},
   "source": [
    "# LIST COMPREHENSION"
   ]
  },
  {
   "cell_type": "code",
   "execution_count": 37,
   "id": "85dff844-ae5c-46e7-b53e-68852d9860d5",
   "metadata": {},
   "outputs": [],
   "source": [
    "# lIST COMPREHENSION ARE USED TO CREATING NEW LISTS FROM OTHER ITERABLES LIKE LSITS,\n",
    "# TUPLES, DICTIONARIES, SETS, AND EVEN IN ARRAYS AND STRINGS"
   ]
  },
  {
   "cell_type": "code",
   "execution_count": 38,
   "id": "420212f8-008c-47fb-bfd0-ae69395ebe4e",
   "metadata": {},
   "outputs": [],
   "source": [
    "# syntax:\n",
    "# List = [Expression(item) for item in iterable if Condition]\n",
    "\n",
    "# Expression = It is the item which is being iterated.\n",
    "# Iterable = It can be list, tuple, dictionaries, sets, and even in arryas and strings.\n",
    "# Condition checks if the item should be added to the new list or not."
   ]
  },
  {
   "cell_type": "code",
   "execution_count": 41,
   "id": "f1b29706-8e70-4507-b82d-60d4b22857f8",
   "metadata": {},
   "outputs": [
    {
     "name": "stdout",
     "output_type": "stream",
     "text": [
      "['ram', 'shyam', 'radha', 'amit', 'rohan', 'shelja']\n"
     ]
    }
   ],
   "source": [
    "# Example1: Accepts items with the small letter \"O\" in the new list\n",
    "\n",
    "names = [\"ram\", \"shyam\", \"radha\", \"amit\", \"rohan\", \"shelja\", \"Khushi\"]\n",
    "newWith_a = [item for item in names if \"a\" in item]\n",
    "print(newWith_a)"
   ]
  },
  {
   "cell_type": "code",
   "execution_count": 44,
   "id": "4ea62af1-d966-40e8-bf18-9e3d77e04656",
   "metadata": {},
   "outputs": [
    {
     "name": "stdout",
     "output_type": "stream",
     "text": [
      "['rohan']\n"
     ]
    }
   ],
   "source": [
    "names = [\"ram\", \"shyam\", \"radha\", \"amit\", \"rohan\", \"shelja\", \"Khushi\"]\n",
    "newWith_o = [item for item in names if \"o\" in item]\n",
    "print(newWith_o)"
   ]
  },
  {
   "cell_type": "code",
   "execution_count": 45,
   "id": "604a0105-3df5-48cb-b116-331ff8ac21d0",
   "metadata": {},
   "outputs": [
    {
     "name": "stdout",
     "output_type": "stream",
     "text": [
      "['shyam', 'radha', 'rohan', 'shelja', 'Khushi']\n"
     ]
    }
   ],
   "source": [
    "# Example2 : ACCEPTS ITEMS WHICH HAVE MORE THAN 4 LETTER/\n",
    "\n",
    "names = [\"ram\", \"shyam\", \"radha\", \"amit\", \"rohan\", \"shelja\", \"Khushi\"]\n",
    "newWith_o = [item for item in names if (len(item)>4)]\n",
    "print(newWith_o)"
   ]
  },
  {
   "cell_type": "code",
   "execution_count": 1,
   "id": "359ac74f-da42-483e-8742-d9dd8aa7d6b7",
   "metadata": {},
   "outputs": [
    {
     "name": "stdout",
     "output_type": "stream",
     "text": [
      "amit\n",
      "4\n",
      "rohan\n",
      "5\n",
      "shelja\n",
      "6\n",
      "Khushi\n",
      "6\n"
     ]
    }
   ],
   "source": [
    "names = [\"amit\", \"rohan\", \"shelja\", \"Khushi\"]\n",
    "for item in names:\n",
    "    print(item)\n",
    "    print(len(item))"
   ]
  },
  {
   "cell_type": "code",
   "execution_count": 55,
   "id": "69e9e57b-e50d-4402-93d8-d8b79a592b8b",
   "metadata": {},
   "outputs": [
    {
     "name": "stdin",
     "output_type": "stream",
     "text": [
      "Enter a list of items separted by spaces:  1 2 3 4 5\n"
     ]
    },
    {
     "name": "stdout",
     "output_type": "stream",
     "text": [
      "List of items ['1', '2', '3', '4', '5']\n"
     ]
    }
   ],
   "source": [
    "# imp question:\n",
    "# How to taking inpur form user in list\n",
    "\n",
    "items_list = input(\"Enter a list of items separted by spaces: \").split()\n",
    "print(\"List of items\", items_list)"
   ]
  },
  {
   "cell_type": "code",
   "execution_count": 56,
   "id": "94f6f311-7323-4cfe-8a72-4997296171ce",
   "metadata": {},
   "outputs": [
    {
     "name": "stdin",
     "output_type": "stream",
     "text": [
      "Enter a list of items separted by spaces:  a b c d\n"
     ]
    },
    {
     "name": "stdout",
     "output_type": "stream",
     "text": [
      "List of items ['a', 'b', 'c', 'd']\n"
     ]
    }
   ],
   "source": [
    "items_list = input(\"Enter a list of items separted by spaces: \").split()\n",
    "print(\"List of items\", items_list)"
   ]
  },
  {
   "cell_type": "markdown",
   "id": "464e98e3-91bc-46c0-9aa5-2aff1c1bbb41",
   "metadata": {},
   "source": [
    "# LIST METHODS"
   ]
  },
  {
   "cell_type": "markdown",
   "id": "87221735-76ba-435f-9e45-bf85703f41fb",
   "metadata": {},
   "source": [
    "# sort()\n"
   ]
  },
  {
   "cell_type": "code",
   "execution_count": null,
   "id": "724c9245-0db2-4428-97ec-fb9c1934ae49",
   "metadata": {},
   "outputs": [],
   "source": [
    "# ascending\n",
    "colors = [\"violet\", \"indigo\", \"blue\", \"green\"]\n",
    "colors.sort()\n",
    "print(colors)"
   ]
  },
  {
   "cell_type": "code",
   "execution_count": 3,
   "id": "fc8a1cb7-892d-4dfc-bc0e-75218f991748",
   "metadata": {},
   "outputs": [],
   "source": [
    "# by default sort = ascending"
   ]
  },
  {
   "cell_type": "code",
   "execution_count": 4,
   "id": "53e37209-498a-4e8d-a930-3db1c324f83a",
   "metadata": {},
   "outputs": [
    {
     "name": "stdout",
     "output_type": "stream",
     "text": [
      "[4, 5, 5, 6, 9, 72]\n"
     ]
    }
   ],
   "source": [
    "# ascending\n",
    "num = [4,5,6,72,5,9]\n",
    "num.sort()\n",
    "print(num)"
   ]
  },
  {
   "cell_type": "code",
   "execution_count": 5,
   "id": "5e83c635-cfac-4cf4-a1d2-4d09b25cf99d",
   "metadata": {},
   "outputs": [
    {
     "name": "stdout",
     "output_type": "stream",
     "text": [
      "['violet', 'indigo', 'green', 'blue']\n"
     ]
    }
   ],
   "source": [
    "# descending\n",
    "colors = [\"violet\", \"indigo\", \"blue\", \"green\"]\n",
    "colors.sort(reverse = True)\n",
    "print(colors)"
   ]
  },
  {
   "cell_type": "code",
   "execution_count": 6,
   "id": "09a6b12d-f893-4c04-bb63-da38f5bf980f",
   "metadata": {},
   "outputs": [
    {
     "name": "stdout",
     "output_type": "stream",
     "text": [
      "[310, 95, 50, 38, 7]\n"
     ]
    }
   ],
   "source": [
    "# descending\n",
    "num = [95,7,310,50,38]\n",
    "num.sort(reverse=True)\n",
    "print(num)"
   ]
  },
  {
   "cell_type": "markdown",
   "id": "a06a86a4-a65c-4299-a663-f038365ef669",
   "metadata": {},
   "source": [
    "# reverse()"
   ]
  },
  {
   "cell_type": "code",
   "execution_count": 9,
   "id": "481a2f1a-3b78-41c3-b93c-79b70990f494",
   "metadata": {},
   "outputs": [
    {
     "name": "stdout",
     "output_type": "stream",
     "text": [
      "['green', 'blue', 'indigo', 'violet']\n"
     ]
    }
   ],
   "source": [
    "colors = [\"violet\", \"indigo\", \"blue\", \"green\"]\n",
    "colors.reverse()\n",
    "print(colors)"
   ]
  },
  {
   "cell_type": "code",
   "execution_count": 11,
   "id": "551e0e1a-484d-4bc3-b021-75bf9cee789f",
   "metadata": {},
   "outputs": [
    {
     "name": "stdout",
     "output_type": "stream",
     "text": [
      "[7, 5, 9, 1, 5]\n"
     ]
    }
   ],
   "source": [
    "num = [5,1,9,5,7]\n",
    "num.reverse()\n",
    "print(num)"
   ]
  },
  {
   "cell_type": "markdown",
   "id": "6fa36b17-ee06-4a27-9e78-83789d88c9fd",
   "metadata": {},
   "source": [
    "# index()\n"
   ]
  },
  {
   "cell_type": "code",
   "execution_count": 15,
   "id": "3f4a5916-1799-4d58-86b5-dae0f009aac8",
   "metadata": {},
   "outputs": [
    {
     "name": "stdout",
     "output_type": "stream",
     "text": [
      "index of green is : 1\n"
     ]
    }
   ],
   "source": [
    "colors = [\"violet\", \"green\", \"indigo\", \"blue\", \"green\"]\n",
    "print(f'index of green is : {colors.index(\"green\")}')\n"
   ]
  },
  {
   "cell_type": "code",
   "execution_count": 14,
   "id": "c5d1ffa5-f2db-48ef-82e0-7923997fb7e9",
   "metadata": {},
   "outputs": [
    {
     "name": "stdout",
     "output_type": "stream",
     "text": [
      "index of 3 is :2\n"
     ]
    }
   ],
   "source": [
    "num = [5,6,3,4,9,7,8,1,2,0]\n",
    "print(f'index of 3 is :{num.index(3)}')"
   ]
  },
  {
   "cell_type": "markdown",
   "id": "e35c8fb7-f8d3-4fb3-b925-bcce997eb6e6",
   "metadata": {},
   "source": [
    "# count()"
   ]
  },
  {
   "cell_type": "code",
   "execution_count": null,
   "id": "97934cb8-b0d4-4c6a-bd41-8203feac0522",
   "metadata": {},
   "outputs": [],
   "source": [
    "colors = [\"violet\", \"green\", \"indigo\", \"blue\", \"green\"]\n",
    "print(colors.count(\"green\"))"
   ]
  },
  {
   "cell_type": "markdown",
   "id": "04bd56d2-f72e-46ee-b766-c89eecc1d996",
   "metadata": {},
   "source": [
    "# copy()"
   ]
  },
  {
   "cell_type": "code",
   "execution_count": 19,
   "id": "849e307f-5906-4848-bd69-88d519590ed9",
   "metadata": {},
   "outputs": [
    {
     "name": "stdout",
     "output_type": "stream",
     "text": [
      "['violet', 'green', 'indigo', 'blue']\n",
      "['violet', 'green', 'indigo', 'blue']\n"
     ]
    }
   ],
   "source": [
    "colors = [\"violet\", \"green\", \"indigo\", \"blue\"]\n",
    "newList = colors.copy()\n",
    "print(colors)\n",
    "print(newList)"
   ]
  },
  {
   "cell_type": "markdown",
   "id": "3989974c-8571-4e80-a589-5a9a06dc413e",
   "metadata": {},
   "source": [
    "# append():"
   ]
  },
  {
   "cell_type": "code",
   "execution_count": 21,
   "id": "a8d2e819-5f11-48fe-a8c3-d928a8a4aeea",
   "metadata": {},
   "outputs": [
    {
     "name": "stdout",
     "output_type": "stream",
     "text": [
      "['violet', 'indigo', 'blue', 'green']\n"
     ]
    }
   ],
   "source": [
    "colors = [\"violet\", \"indigo\", \"blue\"]\n",
    "colors.append(\"green\")\n",
    "print(colors)"
   ]
  },
  {
   "cell_type": "markdown",
   "id": "d4a93e48-716d-4f01-b84b-c709cfa8377c",
   "metadata": {},
   "source": [
    "# insert()"
   ]
  },
  {
   "cell_type": "code",
   "execution_count": 23,
   "id": "0dc61ec0-0c99-4a4c-8e0b-c450244b4641",
   "metadata": {},
   "outputs": [
    {
     "name": "stdout",
     "output_type": "stream",
     "text": [
      "['violet', 'green', 'indigo', 'blue']\n"
     ]
    }
   ],
   "source": [
    "colors = [\"violet\", \"indigo\", \"blue\"]\n",
    "colors.insert(1, \"green\")\n",
    "print(colors)"
   ]
  },
  {
   "cell_type": "markdown",
   "id": "1b523ba5-158c-4f1c-ae5c-779a36988b25",
   "metadata": {},
   "source": [
    "# extend():\n"
   ]
  },
  {
   "cell_type": "code",
   "execution_count": 25,
   "id": "891dcb85-984f-4333-ab65-2076e2c56fbe",
   "metadata": {},
   "outputs": [
    {
     "name": "stdout",
     "output_type": "stream",
     "text": [
      "['violet', 'indigo', 'blue', 'green', 'yellow', 'orange', 'red']\n"
     ]
    }
   ],
   "source": [
    "# adding a list to a list\n",
    "colors = [\"violet\", \"indigo\", \"blue\"]\n",
    "rainbow = [\"green\", \"yellow\", \"orange\", \"red\"]\n",
    "colors.extend(rainbow)\n",
    "print(colors)"
   ]
  },
  {
   "cell_type": "code",
   "execution_count": null,
   "id": "f00768c6-f80f-4607-813d-e84ee92f4bac",
   "metadata": {},
   "outputs": [],
   "source": [
    "list1 = [1,2,3,4]\n",
    "list2 = [5,6,7,8]\n",
    "list1.extend(list2)\n",
    "print(list1)"
   ]
  },
  {
   "cell_type": "markdown",
   "id": "0d7c4483-96e7-40ba-8094-8cd817de2b42",
   "metadata": {},
   "source": [
    "# Concatenation two lists"
   ]
  },
  {
   "cell_type": "code",
   "execution_count": 27,
   "id": "cf4cb7fb-581d-4c8c-bb6a-5496076d436f",
   "metadata": {},
   "outputs": [
    {
     "name": "stdout",
     "output_type": "stream",
     "text": [
      "['violet', 'indigo', 'blue', 'green', 'yellow', 'orange', 'red']\n"
     ]
    }
   ],
   "source": [
    "colors = [\"violet\", \"indigo\", \"blue\", \"green\"]\n",
    "colors2 = [\"yellow\", \"orange\", \"red\"]\n",
    "print(colors + colors2)"
   ]
  },
  {
   "cell_type": "code",
   "execution_count": null,
   "id": "8585cdc5-5429-4c66-91ff-dafb5915670e",
   "metadata": {},
   "outputs": [],
   "source": []
  },
  {
   "cell_type": "code",
   "execution_count": null,
   "id": "e0e3d601-20f7-45b9-be42-41ee8d26f045",
   "metadata": {},
   "outputs": [],
   "source": []
  },
  {
   "cell_type": "code",
   "execution_count": null,
   "id": "917dca4f-626f-410f-9b9e-fb73d2d6aae0",
   "metadata": {},
   "outputs": [],
   "source": []
  },
  {
   "cell_type": "markdown",
   "id": "3ac82f0c-d781-40ec-bbda-775f9d0ce02e",
   "metadata": {},
   "source": [
    "# Tuples"
   ]
  },
  {
   "cell_type": "code",
   "execution_count": 28,
   "id": "55e4d1d4-00b7-4e8b-b23c-e4a49a4a7874",
   "metadata": {},
   "outputs": [
    {
     "name": "stdout",
     "output_type": "stream",
     "text": [
      "('python', 'java', 'c', 'c++', 'html', 'reactJs')\n"
     ]
    }
   ],
   "source": [
    "tup1 = (\"python\", \"java\", \"c\", \"c++\", \"html\", \"reactJs\")\n",
    "print(tup1)"
   ]
  },
  {
   "cell_type": "code",
   "execution_count": 29,
   "id": "0087922b-9499-4f22-9cda-6f2bf433f3aa",
   "metadata": {},
   "outputs": [
    {
     "name": "stdout",
     "output_type": "stream",
     "text": [
      "<class 'tuple'>\n"
     ]
    }
   ],
   "source": [
    "print(type(tup1))"
   ]
  },
  {
   "cell_type": "code",
   "execution_count": 31,
   "id": "e86e0a75-97a8-4769-a840-f456a63f80eb",
   "metadata": {},
   "outputs": [
    {
     "name": "stdout",
     "output_type": "stream",
     "text": [
      "('bubble_sort', 'quick_sort', 'merge_sort', 'heap_sort', 'djiktras_algorithm')\n"
     ]
    }
   ],
   "source": [
    "algorithms = \"bubble_sort\", \"quick_sort\", \"merge_sort\", \"heap_sort\", \"djiktras_algorithm\"\n",
    "print(algorithms)"
   ]
  },
  {
   "cell_type": "code",
   "execution_count": 33,
   "id": "de118278-5132-47e1-8dfe-15dff42fef9c",
   "metadata": {},
   "outputs": [
    {
     "name": "stdout",
     "output_type": "stream",
     "text": [
      "<class 'tuple'>\n"
     ]
    }
   ],
   "source": [
    "print(type(algorithms))"
   ]
  },
  {
   "cell_type": "code",
   "execution_count": 34,
   "id": "ef470c83-13b4-4842-adfa-39da6dfdac50",
   "metadata": {},
   "outputs": [],
   "source": [
    "# tuple_indexes\n",
    "country = (\"spain\", \"Italy\", \"India\")\n",
    "             # [0],      [1],   [2]"
   ]
  },
  {
   "cell_type": "markdown",
   "id": "a12032f9-367d-4bf2-b7ce-786e7ef5863c",
   "metadata": {},
   "source": [
    "# Accessing tuple items"
   ]
  },
  {
   "cell_type": "code",
   "execution_count": 35,
   "id": "b06f751e-4a5e-42da-a633-913c04449ed5",
   "metadata": {},
   "outputs": [
    {
     "name": "stdout",
     "output_type": "stream",
     "text": [
      "spain\n",
      "Italy\n",
      "India\n"
     ]
    }
   ],
   "source": [
    "# 1. positive indexing\n",
    "countru = (\"spain\", \"Italy\", \"India\")\n",
    "print(country[0])\n",
    "print(country[1])\n",
    "print(country[2])"
   ]
  },
  {
   "cell_type": "code",
   "execution_count": 36,
   "id": "1d3def08-015a-42ff-aeb4-473cb7da5057",
   "metadata": {},
   "outputs": [],
   "source": [
    "# 2. Negative Indexing\n",
    "county = (\"spain\", \"Italy\", \"India\", \"England\", \"Germany\")\n",
    "           # [0]      [1]      [2]      [3]           [4]"
   ]
  },
  {
   "cell_type": "code",
   "execution_count": 37,
   "id": "ee7a6a5f-105d-4040-b548-9ded65e09fd8",
   "metadata": {},
   "outputs": [
    {
     "name": "stdout",
     "output_type": "stream",
     "text": [
      "India\n",
      "Italy\n",
      "spain\n"
     ]
    }
   ],
   "source": [
    "print(country[-1])\n",
    "print(country[-2])\n",
    "print(country[-3])"
   ]
  },
  {
   "cell_type": "code",
   "execution_count": 41,
   "id": "448a9171-efae-48e0-afeb-0fc6ccc20189",
   "metadata": {},
   "outputs": [
    {
     "name": "stdout",
     "output_type": "stream",
     "text": [
      "Germany is present.\n"
     ]
    }
   ],
   "source": [
    "# 3. check for item:\n",
    "# using \"in\" keyword\n",
    "\n",
    "\n",
    "# item is present\n",
    "country = (\"spain\", \"Italy\", \"India\", \"England\", \"Germany\")\n",
    "if \"Germany\" in country:\n",
    "    print(\"Germany is present.\")\n",
    "else:\n",
    "    print(\"Germany is absent.\")"
   ]
  },
  {
   "cell_type": "code",
   "execution_count": 43,
   "id": "69c86c70-9a86-4922-8521-5ced2a97f16a",
   "metadata": {},
   "outputs": [
    {
     "name": "stdout",
     "output_type": "stream",
     "text": [
      "Australia is absent.\n"
     ]
    }
   ],
   "source": [
    "# item is not present\n",
    "\n",
    "country = (\"spain\", \"Italy\", \"India\", \"England\", \"Germany\")\n",
    "if \"Australia\" in country:\n",
    "    print(\"Australia is present.\")\n",
    "else:\n",
    "    print(\"Australia is absent.\")"
   ]
  },
  {
   "cell_type": "code",
   "execution_count": 45,
   "id": "97b5af91-86f7-4e64-a995-6a2b7e54c016",
   "metadata": {},
   "outputs": [],
   "source": [
    "# 4. Range of Index\n",
    "\n",
    "# syntax:\n",
    "# Tuple[start: end: Jumpindex]"
   ]
  },
  {
   "cell_type": "code",
   "execution_count": 49,
   "id": "78db8168-7278-40fa-a66a-9e2974863166",
   "metadata": {},
   "outputs": [
    {
     "name": "stdout",
     "output_type": "stream",
     "text": [
      "('mouse', 'pig', 'horse', 'donkey')\n",
      "('bat', 'mouse', 'pig', 'horse', 'donkey')\n"
     ]
    }
   ],
   "source": [
    "# example: printing elements within a particular range:\n",
    "\n",
    "animals = (\"cat\", \"dog\", \"bat\", \"mouse\", \"pig\", \"horse\", \"donkey\", \"goat\", \"cow\")\n",
    "print(animals [3:7]) # using positive indexes\n",
    "print(animals[-7:-2]) # using negative indexes\n"
   ]
  },
  {
   "cell_type": "code",
   "execution_count": 52,
   "id": "0577a2bf-0d48-488a-bb9f-168bf36d5021",
   "metadata": {},
   "outputs": [
    {
     "name": "stdout",
     "output_type": "stream",
     "text": [
      "('pig', 'horse', 'donkey', 'goat', 'cow')\n"
     ]
    }
   ],
   "source": [
    "# printing all the elements from given index till the end\n",
    "\n",
    "animals = (\"cat\", \"dog\", \"bat\", \"mouse\", \"pig\", \"horse\",\"donkey\", \"goat\", \"cow\")\n",
    "print(animals[4:])\n"
   ]
  },
  {
   "cell_type": "code",
   "execution_count": 54,
   "id": "1b7fb455-e288-4d56-bc8a-638ae90fed29",
   "metadata": {},
   "outputs": [
    {
     "name": "stdout",
     "output_type": "stream",
     "text": [
      "('horse', 'donkey', 'goat', 'cow')\n"
     ]
    }
   ],
   "source": [
    "print(animals[-4:])    #  -4 => len(elements) - (4) = 5"
   ]
  },
  {
   "cell_type": "code",
   "execution_count": 56,
   "id": "83434f94-656b-479b-968e-731b280cc95e",
   "metadata": {},
   "outputs": [
    {
     "name": "stdout",
     "output_type": "stream",
     "text": [
      "There are 9 elements in animals variable\n"
     ]
    }
   ],
   "source": [
    "print(f'There are {len(animals)} elements in animals variable')"
   ]
  },
  {
   "cell_type": "code",
   "execution_count": null,
   "id": "c0d1b066-89f4-4d0b-ae81-346aee16a5e0",
   "metadata": {},
   "outputs": [],
   "source": []
  },
  {
   "cell_type": "code",
   "execution_count": null,
   "id": "ed237232-2bdc-490a-9b88-274305724631",
   "metadata": {},
   "outputs": [],
   "source": []
  },
  {
   "cell_type": "markdown",
   "id": "bb34dd55-9c23-4ea8-b06a-f549d20dea8c",
   "metadata": {},
   "source": []
  },
  {
   "cell_type": "code",
   "execution_count": null,
   "id": "519bd07f-6bf7-4c52-b6c6-cbbd15268067",
   "metadata": {},
   "outputs": [],
   "source": []
  },
  {
   "cell_type": "markdown",
   "id": "cc02e758-16c3-4e35-a546-3f6bb99f4f89",
   "metadata": {},
   "source": [
    "# Python Dictionary"
   ]
  },
  {
   "cell_type": "code",
   "execution_count": 57,
   "id": "862d4f4c-f2b2-497d-8f84-a12d5a9d29b9",
   "metadata": {},
   "outputs": [
    {
     "name": "stdout",
     "output_type": "stream",
     "text": [
      "{'ram': 20, 'shyam': 24, 'shelja': 19}\n"
     ]
    }
   ],
   "source": [
    "name_age = {\"ram\":20, \"shyam\":24, \"shelja\":19}\n",
    "print(name_age)"
   ]
  },
  {
   "cell_type": "code",
   "execution_count": 58,
   "id": "d0a7778f-dd67-41d3-b09f-830c08e10f41",
   "metadata": {},
   "outputs": [
    {
     "name": "stdout",
     "output_type": "stream",
     "text": [
      "<class 'dict'>\n"
     ]
    }
   ],
   "source": [
    "print(type(name_age))"
   ]
  },
  {
   "cell_type": "markdown",
   "id": "5dc405f5-af5c-4436-ba78-fc606f4e59f4",
   "metadata": {},
   "source": [
    "# Accessing Dictionary items:"
   ]
  },
  {
   "cell_type": "code",
   "execution_count": 59,
   "id": "fd9a4287-2e3b-4351-a1f2-18c435db1a70",
   "metadata": {},
   "outputs": [],
   "source": [
    "# 1. Accessing single value"
   ]
  },
  {
   "cell_type": "code",
   "execution_count": 60,
   "id": "0fb00dca-2520-4a8a-852c-182bf0fc24fe",
   "metadata": {},
   "outputs": [
    {
     "name": "stdout",
     "output_type": "stream",
     "text": [
      "karan\n",
      "karan\n"
     ]
    }
   ],
   "source": [
    "# example\n",
    "info = {'name':'karan', 'age':19, 'eligible': True}\n",
    "print(info['name'])\n",
    "print(info.get('name'))"
   ]
  },
  {
   "cell_type": "code",
   "execution_count": 61,
   "id": "5ad93cdd-854c-4c0e-a5c6-9f92c0f30d3a",
   "metadata": {},
   "outputs": [],
   "source": [
    "# Accessing multiple values: (values method())"
   ]
  },
  {
   "cell_type": "code",
   "execution_count": 63,
   "id": "f7c20acf-650f-43bb-9fef-1b99b88d9b59",
   "metadata": {},
   "outputs": [
    {
     "name": "stdout",
     "output_type": "stream",
     "text": [
      "{'python': 'aishwarya_sir', 'ml': 'aashima_mam', 'numpy': 'manpreet_mam', 'sql': 'nitish_sir', 'Big_Data': 'Neema_mam'}\n"
     ]
    }
   ],
   "source": [
    "teachers = {'python':\"aishwarya_sir\", \"ml\":\"aashima_mam\",\"numpy\": \"manpreet_mam\",\"sql\":\"nitish_sir\", \"Big_Data\":\"Neema_mam\"}\n",
    "print(teachers)"
   ]
  },
  {
   "cell_type": "code",
   "execution_count": 65,
   "id": "bb73a537-24d7-401a-a689-a1a4ef0359a7",
   "metadata": {},
   "outputs": [
    {
     "name": "stdout",
     "output_type": "stream",
     "text": [
      "dict_values(['aishwarya_sir', 'aashima_mam', 'manpreet_mam', 'nitish_sir', 'Neema_mam'])\n"
     ]
    }
   ],
   "source": [
    "print(teachers.values())"
   ]
  },
  {
   "cell_type": "code",
   "execution_count": null,
   "id": "af8117b5-966a-4590-bf7e-694f9b83a1a8",
   "metadata": {},
   "outputs": [],
   "source": [
    "# accessing keys\n",
    "print(teachers.keys())"
   ]
  },
  {
   "cell_type": "code",
   "execution_count": 68,
   "id": "ffe93f73-aa51-4c2c-8cb8-562ad7ce1b51",
   "metadata": {},
   "outputs": [
    {
     "name": "stdout",
     "output_type": "stream",
     "text": [
      "dict_items([('python', 'aishwarya_sir'), ('ml', 'aashima_mam'), ('numpy', 'manpreet_mam'), ('sql', 'nitish_sir'), ('Big_Data', 'Neema_mam')])\n"
     ]
    }
   ],
   "source": [
    "print(teachers.items())"
   ]
  },
  {
   "cell_type": "code",
   "execution_count": null,
   "id": "f0933a8d-3b23-4fd0-96f4-a9fb848f5472",
   "metadata": {},
   "outputs": [],
   "source": []
  },
  {
   "cell_type": "code",
   "execution_count": null,
   "id": "566bf6c3-e1de-42ee-93be-6be8d2815075",
   "metadata": {},
   "outputs": [],
   "source": []
  },
  {
   "cell_type": "markdown",
   "id": "51b56fb9-532c-49a2-9adf-d3cd70235993",
   "metadata": {},
   "source": [
    "# Dictionary Methods"
   ]
  },
  {
   "cell_type": "code",
   "execution_count": 78,
   "id": "b61b61b4-4ade-4334-ae60-6f98a1107619",
   "metadata": {},
   "outputs": [
    {
     "name": "stdout",
     "output_type": "stream",
     "text": [
      "{'name': 'khushi', 'age': 19, 'eligible': True}\n"
     ]
    }
   ],
   "source": [
    "# update() method\n",
    "info = {'name':'khushi', 'age':19, 'eligible':True}\n",
    "print(info)\n",
    "info.update({'age':20})\n"
   ]
  },
  {
   "cell_type": "code",
   "execution_count": 79,
   "id": "2d5e1335-019d-4c91-b448-860882c058ec",
   "metadata": {},
   "outputs": [],
   "source": [
    "info.update({'DOB':2004})"
   ]
  },
  {
   "cell_type": "code",
   "execution_count": 80,
   "id": "4609f2ab-b616-40a6-ab7f-ce55c4830d6c",
   "metadata": {},
   "outputs": [
    {
     "name": "stdout",
     "output_type": "stream",
     "text": [
      "{'name': 'khushi', 'age': 20, 'eligible': True, 'DOB': 2004}\n"
     ]
    }
   ],
   "source": [
    "print(info)"
   ]
  },
  {
   "cell_type": "markdown",
   "id": "9537efe8-ebaa-4f40-bd8e-55ac1387e1b2",
   "metadata": {},
   "source": [
    "# clear()"
   ]
  },
  {
   "cell_type": "code",
   "execution_count": 82,
   "id": "0c867caf-18c6-4066-b390-7a6577c63796",
   "metadata": {},
   "outputs": [
    {
     "name": "stdout",
     "output_type": "stream",
     "text": [
      "{}\n"
     ]
    }
   ],
   "source": [
    "info = {'name':'karan', 'age': 19, 'eligible':True}\n",
    "info.clear()\n",
    "print(info)"
   ]
  },
  {
   "cell_type": "markdown",
   "id": "6b46f9d3-1b67-4f15-a5c4-25639ba0c0f0",
   "metadata": {},
   "source": [
    "# pop()"
   ]
  },
  {
   "cell_type": "code",
   "execution_count": 87,
   "id": "6535b690-2400-4665-bd39-ff56366f23b2",
   "metadata": {},
   "outputs": [
    {
     "name": "stdout",
     "output_type": "stream",
     "text": [
      "{'name': 'karan', 'age': 19}\n"
     ]
    }
   ],
   "source": [
    "info = {'name':'karan', 'age': 19, 'eligible':True}\n",
    "info.pop('eligible')\n",
    "print(info)"
   ]
  },
  {
   "cell_type": "markdown",
   "id": "0735a9ad-d37c-4da9-b463-8716fc9d400a",
   "metadata": {},
   "source": [
    "# popitem()"
   ]
  },
  {
   "cell_type": "code",
   "execution_count": 88,
   "id": "b78f4deb-b835-4c55-83de-95360ae1fb5d",
   "metadata": {},
   "outputs": [
    {
     "name": "stdout",
     "output_type": "stream",
     "text": [
      "{'name': 'karan', 'age': 19}\n"
     ]
    }
   ],
   "source": [
    "info = {'name':'karan', 'age': 19, 'eligible':True}\n",
    "info.popitem()\n",
    "print(info)"
   ]
  },
  {
   "cell_type": "markdown",
   "id": "058157c6-db96-4b20-aed3-d964ac57de81",
   "metadata": {},
   "source": [
    "# del()"
   ]
  },
  {
   "cell_type": "code",
   "execution_count": 89,
   "id": "da24e8c6-f88a-4784-bc25-df6fb88d18b0",
   "metadata": {},
   "outputs": [
    {
     "name": "stdout",
     "output_type": "stream",
     "text": [
      "{'name': 'karan', 'eligible': True}\n"
     ]
    }
   ],
   "source": [
    "info = {'name':'karan', 'age': 19, 'eligible':True}\n",
    "del info['age']\n",
    "print(info)"
   ]
  },
  {
   "cell_type": "code",
   "execution_count": 92,
   "id": "d3a4723e-fc27-474e-a7d5-2b877b234cde",
   "metadata": {},
   "outputs": [
    {
     "ename": "NameError",
     "evalue": "name 'info' is not defined",
     "output_type": "error",
     "traceback": [
      "\u001b[1;31m---------------------------------------------------------------------------\u001b[0m",
      "\u001b[1;31mNameError\u001b[0m                                 Traceback (most recent call last)",
      "Cell \u001b[1;32mIn[92], line 3\u001b[0m\n\u001b[0;32m      1\u001b[0m info \u001b[38;5;241m=\u001b[39m {\u001b[38;5;124m'\u001b[39m\u001b[38;5;124mname\u001b[39m\u001b[38;5;124m'\u001b[39m:\u001b[38;5;124m'\u001b[39m\u001b[38;5;124mkaran\u001b[39m\u001b[38;5;124m'\u001b[39m, \u001b[38;5;124m'\u001b[39m\u001b[38;5;124mage\u001b[39m\u001b[38;5;124m'\u001b[39m:\u001b[38;5;241m19\u001b[39m, \u001b[38;5;124m'\u001b[39m\u001b[38;5;124meligible\u001b[39m\u001b[38;5;124m'\u001b[39m:\u001b[38;5;28;01mTrue\u001b[39;00m}\n\u001b[0;32m      2\u001b[0m \u001b[38;5;28;01mdel\u001b[39;00m info\n\u001b[1;32m----> 3\u001b[0m \u001b[38;5;28mprint\u001b[39m(\u001b[43minfo\u001b[49m)\n",
      "\u001b[1;31mNameError\u001b[0m: name 'info' is not defined"
     ]
    }
   ],
   "source": [
    "# NameError: name 'info' is not defined\n",
    "info = {'name':'karan', 'age':19, 'eligible':True}\n",
    "del info\n",
    "print(info)"
   ]
  },
  {
   "cell_type": "code",
   "execution_count": null,
   "id": "74ce4227-32ef-4bfe-b22d-9807322aa47f",
   "metadata": {},
   "outputs": [],
   "source": []
  }
 ],
 "metadata": {
  "kernelspec": {
   "display_name": "Python 3 (ipykernel)",
   "language": "python",
   "name": "python3"
  },
  "language_info": {
   "codemirror_mode": {
    "name": "ipython",
    "version": 3
   },
   "file_extension": ".py",
   "mimetype": "text/x-python",
   "name": "python",
   "nbconvert_exporter": "python",
   "pygments_lexer": "ipython3",
   "version": "3.11.4"
  }
 },
 "nbformat": 4,
 "nbformat_minor": 5
}
