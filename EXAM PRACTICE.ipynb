{
 "cells": [
  {
   "cell_type": "code",
   "execution_count": 21,
   "id": "c7e14f96",
   "metadata": {},
   "outputs": [
    {
     "name": "stdout",
     "output_type": "stream",
     "text": [
      "Sorted array is: array('i', [10, 20, 30, 40])\n"
     ]
    }
   ],
   "source": [
    "import array\n",
    "from array import *\n",
    "def insertion(arr1):\n",
    "    n = len(arr1)\n",
    "    \n",
    "    for i in range(1,n):\n",
    "        key = arr1[i]\n",
    "        j = i - 1\n",
    "        while j>=0 and key <arr1[j]:\n",
    "            arr1[j+1] = arr1[j]\n",
    "            j = j -1\n",
    "        arr1[j+1]=key\n",
    "        \n",
    "arr1=array('i',[40,30,20,10])\n",
    "insertion(arr1)\n",
    "print(\"Sorted array is:\", arr1)"
   ]
  },
  {
   "cell_type": "code",
   "execution_count": 16,
   "id": "5ac28e97",
   "metadata": {},
   "outputs": [
    {
     "name": "stdout",
     "output_type": "stream",
     "text": [
      "('sunday', 'monday', 'tuesday', 'wednesday', 'friday')\n",
      "<class 'tuple'>\n",
      "sunday\n",
      "monday\n",
      "('monday', 'tuesday', 'wednesday')\n"
     ]
    }
   ],
   "source": [
    "# list = []  mutable\n",
    "# tuple = () immutable\n",
    "# set = {} unorder\n",
    "# dictionary = {\"key\":\"value\"}\n",
    "\n",
    "# creating tuple\n",
    "tup1 = (\"sunday\", \"monday\", \"tuesday\", \"wednesday\", \"friday\")\n",
    "print(tup1)\n",
    "print(type(tup1))\n",
    "\n",
    "# access tuple\n",
    "print(tup1[0])\n",
    "print(tup1[1])\n",
    "\n",
    "# slicing tuple\n",
    "print(tup1[1:4])"
   ]
  },
  {
   "cell_type": "code",
   "execution_count": 13,
   "id": "df2bab2e",
   "metadata": {},
   "outputs": [],
   "source": [
    "# In programming, a scalar variable refers to a variable that holds a single value at a time.\n",
    "x = 5        # Integer scalar variable\n",
    "y = 3.14     # Floating-point scalar variable\n",
    "name = \"John\"  # String scalar variable\n",
    "is_valid = True  # Boolean scalar variable\n",
    "\n",
    "# In this Python example, x, y, name, and is_valid \n",
    "# are scalar variables because each of them holds a single value at any given time."
   ]
  },
  {
   "cell_type": "code",
   "execution_count": 3,
   "id": "c1d9d294",
   "metadata": {},
   "outputs": [
    {
     "data": {
      "text/plain": [
       "2"
      ]
     },
     "execution_count": 3,
     "metadata": {},
     "output_type": "execute_result"
    }
   ],
   "source": [
    "import array\n",
    "from array import *\n",
    "\n",
    "def linear_search(arr,item):\n",
    "    for i in range(len(arr)):\n",
    "        if arr[i] == item:\n",
    "            return i\n",
    "    return -1\n",
    "arr = array('i',[23,43,12,54,67,200,100])\n",
    "linear_search(arr,12)"
   ]
  },
  {
   "cell_type": "code",
   "execution_count": 7,
   "id": "20fa03fb",
   "metadata": {},
   "outputs": [
    {
     "data": {
      "text/plain": [
       "5"
      ]
     },
     "execution_count": 7,
     "metadata": {},
     "output_type": "execute_result"
    }
   ],
   "source": [
    "import array \n",
    "from array import *\n",
    "\n",
    "def linear_search(arr,item):\n",
    "    for i in range(len(arr)):\n",
    "        if arr[i] == item:\n",
    "            return i\n",
    "    return -1\n",
    "arr1 = array('i',[12,13,14,12,65,87,80])\n",
    "linear_search(arr,87)"
   ]
  },
  {
   "cell_type": "code",
   "execution_count": 9,
   "id": "bd7e4bf2",
   "metadata": {},
   "outputs": [
    {
     "data": {
      "text/plain": [
       "0"
      ]
     },
     "execution_count": 9,
     "metadata": {},
     "output_type": "execute_result"
    }
   ],
   "source": [
    "import array\n",
    "from array import *\n",
    "\n",
    "def binary_search(arr,item):\n",
    "    for i in range(len(arr)):\n",
    "        mid = arr[i]/2\n",
    "        if arr[i] < mid:\n",
    "            arr[i] == i\n",
    "            return i\n",
    "        elif arr[i] > mid:\n",
    "            arr[i] == i\n",
    "            return i\n",
    "    return -1\n",
    "\n",
    "arr1 = array('i',[12,13,14,12,65,87,80])\n",
    "binary_search(arr,80)"
   ]
  },
  {
   "cell_type": "code",
   "execution_count": null,
   "id": "0380a771",
   "metadata": {},
   "outputs": [],
   "source": []
  },
  {
   "cell_type": "code",
   "execution_count": null,
   "id": "984a77b4",
   "metadata": {},
   "outputs": [],
   "source": [
    " "
   ]
  }
 ],
 "metadata": {
  "kernelspec": {
   "display_name": "Python 3 (ipykernel)",
   "language": "python",
   "name": "python3"
  },
  "language_info": {
   "codemirror_mode": {
    "name": "ipython",
    "version": 3
   },
   "file_extension": ".py",
   "mimetype": "text/x-python",
   "name": "python",
   "nbconvert_exporter": "python",
   "pygments_lexer": "ipython3",
   "version": "3.11.4"
  }
 },
 "nbformat": 4,
 "nbformat_minor": 5
}
