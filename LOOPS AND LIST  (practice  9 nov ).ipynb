{
 "cells": [
  {
   "cell_type": "code",
   "execution_count": 1,
   "id": "39674a48",
   "metadata": {
    "scrolled": true
   },
   "outputs": [],
   "source": [
    "# problem1 code"
   ]
  },
  {
   "cell_type": "code",
   "execution_count": 2,
   "id": "3aa44086",
   "metadata": {},
   "outputs": [
    {
     "name": "stdout",
     "output_type": "stream",
     "text": [
      "1\n",
      "2\n",
      "3\n",
      "4\n",
      "10\n",
      "24\n"
     ]
    }
   ],
   "source": [
    "# NOTE 1: 3 things add for sum nd product, ek upar sum, ek niche , sum + i, ek last me print(sum). similarly for product.\n",
    "# NOTE 2: range(1,5) ise form me likhna hai,bcoz hme 1 se start krna hai. if we ri8 range(5)-> 0,1,2,3,4 it starts from 0. and iska effect sum pe to kuch ni hoga but product pe hoga uska output zero ho jayega.\n",
    "# Note 3: sum initialize from 0 and product from 1\n",
    "# code 1 for loop\n",
    "\n",
    "for i in range(1,5):    # 5 is not include\n",
    "    print(i)\n",
    "\n",
    "# SUM USING FOR LOOP\n",
    "sum = 0      #1ST THING\n",
    "for i in range(1,5):\n",
    "    sum = sum + i   #2ND THING\n",
    "print(sum)    #3RD THING\n",
    "\n",
    "\n",
    "# PRODUCT USING FOR LOOP (FACTORIAL)\n",
    "product = 1     #1\n",
    "for i in range(1,5):\n",
    "    product = product * i    #2\n",
    "print(product)      #3"
   ]
  },
  {
   "cell_type": "code",
   "execution_count": 1,
   "id": "efa82398",
   "metadata": {},
   "outputs": [
    {
     "name": "stdout",
     "output_type": "stream",
     "text": [
      "1\n",
      "2\n",
      "3\n",
      "4\n",
      "5\n",
      "10\n",
      "24\n"
     ]
    }
   ],
   "source": [
    "# code 2: while loop\n",
    "\n",
    "i = 1              \n",
    "while i<=5:\n",
    "    print(i)\n",
    "    i = i + 1\n",
    "    \n",
    "# SUM USING FOR LOOP   \n",
    "i = 1\n",
    "sum = 0    #1\n",
    "while i<=4:\n",
    "    sum = sum + i #2\n",
    "    i = i + 1\n",
    "print(sum)      #3\n",
    "\n",
    "# factorial (product of n natural numbers)\n",
    "i = 1\n",
    "product = 1   #1\n",
    "while i<=4:\n",
    "    product = product * i  #2\n",
    "    i = i + 1\n",
    "print(product) #3"
   ]
  },
  {
   "cell_type": "code",
   "execution_count": 2,
   "id": "4ef43471",
   "metadata": {},
   "outputs": [
    {
     "name": "stdout",
     "output_type": "stream",
     "text": [
      "15\n",
      "120\n",
      "15\n",
      "120\n"
     ]
    }
   ],
   "source": [
    "# code 3: list sum\n",
    "# same as above, bs range me LIST KA NAME likhna hai\n",
    "l = [1,2,3,4,5]\n",
    "sum = 0     #1\n",
    "for i in l:\n",
    "    sum = sum + i   #2\n",
    "print(sum)        #3\n",
    "\n",
    "# list product\n",
    "l = [1,2,3,4,5]\n",
    "product = 1     #1\n",
    "for i in l:\n",
    "    product = product * i   #2\n",
    "print(product)      #3\n",
    "\n",
    "sum = 0     #1\n",
    "for i in [1,2,3,4,5]:\n",
    "    sum = sum + i   #2\n",
    "print(sum)   \n",
    "\n",
    "\n",
    "product = 1     #1\n",
    "for i in [1,2,3,4,5]:\n",
    "    product = product * i   #2\n",
    "print(product) "
   ]
  },
  {
   "cell_type": "code",
   "execution_count": 3,
   "id": "5729ba4b",
   "metadata": {},
   "outputs": [],
   "source": [
    "# steps for all\n",
    "\n",
    "# steps\n",
    "# Initialize sum to 0.\n",
    "# Iteration 1: (i=1): sum = 0 + 1 = 1\n",
    "# Iteration 2: (i=2): sum = 1 + 2 = 3\n",
    "# Iteration 3: (i=3): sum = 3 + 3 = 6\n",
    "# Iteration 4: (i=4): sum = 6 + 4 = 10\n",
    "# Iteration 5: (i=5): sum = 10 + 5 = 15\n",
    "\n",
    "# note:\n",
    "# 1,6 me 1 sum me likhna is not compulsor but product me jruri hai.\n",
    "# 1,6 means 1,2,3,4,5 print hoga\\ (6 isn't include)\n",
    "# we can also write this in sum not product: -> for i in range(6) -> 0,1,2,3,4,5   (6 isn't include)"
   ]
  },
  {
   "cell_type": "code",
   "execution_count": null,
   "id": "f419e91a",
   "metadata": {},
   "outputs": [],
   "source": [
    "# problem 2 code"
   ]
  },
  {
   "cell_type": "code",
   "execution_count": null,
   "id": "f6ef1aa9",
   "metadata": {},
   "outputs": [],
   "source": [
    "l = [1,2,3,4,5]\n",
    "for i in l:\n",
    "    for j in l:\n",
    "        print('({},{})'.format(i,j))"
   ]
  },
  {
   "cell_type": "code",
   "execution_count": 3,
   "id": "83223d72",
   "metadata": {},
   "outputs": [
    {
     "name": "stdout",
     "output_type": "stream",
     "text": [
      "(1,1)\n",
      "(1,2)\n",
      "(1,3)\n",
      "(1,4)\n",
      "(1,5)\n",
      "(2,1)\n",
      "(2,2)\n",
      "(2,3)\n",
      "(2,4)\n",
      "(2,5)\n",
      "(3,1)\n",
      "(3,2)\n",
      "(3,3)\n",
      "(3,4)\n",
      "(3,5)\n",
      "(4,1)\n",
      "(4,2)\n",
      "(4,3)\n",
      "(4,4)\n",
      "(4,5)\n",
      "(5,1)\n",
      "(5,2)\n",
      "(5,3)\n",
      "(5,4)\n",
      "(5,5)\n"
     ]
    }
   ],
   "source": [
    "for i in range(1,6):\n",
    "    for j in range(1,6):\n",
    "        print('({},{})'.format(i,j))"
   ]
  },
  {
   "cell_type": "code",
   "execution_count": 1,
   "id": "5df955c8",
   "metadata": {},
   "outputs": [
    {
     "name": "stdout",
     "output_type": "stream",
     "text": [
      "(1,2)\n",
      "(1,3)\n",
      "(1,4)\n",
      "(1,5)\n",
      "(1,6)\n",
      "(2,3)\n",
      "(2,4)\n",
      "(2,5)\n",
      "(2,6)\n",
      "(3,4)\n",
      "(3,5)\n",
      "(3,6)\n",
      "(4,5)\n",
      "(4,6)\n"
     ]
    }
   ],
   "source": [
    "# problem 9\n",
    "\n",
    "A = [1,2,3,4]\n",
    "B = [2,3,4,5,6]\n",
    "for i in A:\n",
    "    for j in B:\n",
    "        if i<j:\n",
    "            print('({},{})'.format(i,j))"
   ]
  },
  {
   "cell_type": "code",
   "execution_count": 3,
   "id": "552e9735",
   "metadata": {},
   "outputs": [
    {
     "name": "stdout",
     "output_type": "stream",
     "text": [
      "1,2\n",
      "1,3\n",
      "1,4\n",
      "1,5\n",
      "1,6\n",
      "2,2\n",
      "2,3\n",
      "2,4\n",
      "2,5\n",
      "2,6\n",
      "3,2\n",
      "3,3\n",
      "3,4\n",
      "3,5\n",
      "3,6\n",
      "4,2\n",
      "4,3\n",
      "4,4\n",
      "4,5\n",
      "4,6\n"
     ]
    }
   ],
   "source": [
    "A = [1,2,3,4]\n",
    "B = [2,3,4,5,6]\n",
    "for i in A:\n",
    "    for j in B:\n",
    "            #if i<j:\n",
    "            print('{},{}'.format(i,j))"
   ]
  },
  {
   "cell_type": "code",
   "execution_count": 4,
   "id": "aa8793bf",
   "metadata": {},
   "outputs": [
    {
     "name": "stdout",
     "output_type": "stream",
     "text": [
      "3\n",
      "5\n",
      "7\n",
      "9\n",
      "11\n",
      "13\n",
      "15\n"
     ]
    }
   ],
   "source": [
    "for i in range(3,16,2):\n",
    "    print(i)"
   ]
  },
  {
   "cell_type": "code",
   "execution_count": 5,
   "id": "d90256da",
   "metadata": {},
   "outputs": [
    {
     "name": "stdout",
     "output_type": "stream",
     "text": [
      "4\n",
      "6\n",
      "8\n",
      "10\n",
      "12\n",
      "14\n"
     ]
    }
   ],
   "source": [
    "for i in range(4,15,2):\n",
    "    print(i)"
   ]
  },
  {
   "cell_type": "code",
   "execution_count": null,
   "id": "a0d95869",
   "metadata": {},
   "outputs": [],
   "source": []
  }
 ],
 "metadata": {
  "kernelspec": {
   "display_name": "Python 3 (ipykernel)",
   "language": "python",
   "name": "python3"
  },
  "language_info": {
   "codemirror_mode": {
    "name": "ipython",
    "version": 3
   },
   "file_extension": ".py",
   "mimetype": "text/x-python",
   "name": "python",
   "nbconvert_exporter": "python",
   "pygments_lexer": "ipython3",
   "version": "3.11.4"
  }
 },
 "nbformat": 4,
 "nbformat_minor": 5
}
