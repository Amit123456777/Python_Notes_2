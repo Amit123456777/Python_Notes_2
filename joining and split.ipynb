{
 "cells": [
  {
   "cell_type": "code",
   "execution_count": 1,
   "id": "12784d4d-2e07-47fd-8d3b-eac4646dfea1",
   "metadata": {},
   "outputs": [
    {
     "name": "stdout",
     "output_type": "stream",
     "text": [
      "[1 2 3 4 9 8 7 6]\n"
     ]
    }
   ],
   "source": [
    "# 1D\n",
    "import numpy as np\n",
    "var = np.array([1,2,3,4])\n",
    "var1 = np.array([9,8,7,6])\n",
    "ar = np.concatenate((var,var1))\n",
    "print(ar)"
   ]
  },
  {
   "cell_type": "code",
   "execution_count": 6,
   "id": "0f01708b-6d1d-4229-bf6c-ec5f691cd544",
   "metadata": {},
   "outputs": [
    {
     "name": "stdout",
     "output_type": "stream",
     "text": [
      "[[1 2]\n",
      " [3 4]] \n",
      "\n",
      "\n",
      "[[9 8]\n",
      " [7 6]]\n",
      "\n",
      "[[1 2 9 8]\n",
      " [3 4 7 6]]\n"
     ]
    }
   ],
   "source": [
    "# 2d concatenate along row(1) axis\n",
    "import numpy as np\n",
    "vr = np.array([[1,2],[3,4]])\n",
    "vr1 = np.array([[9,8],[7,6]])\n",
    "ar_new = np.concatenate((vr,vr1),axis=1)  # row\n",
    "\n",
    "print(vr,\"\\n\")\n",
    "print()\n",
    "print(vr1)\n",
    "print()\n",
    "print(ar_new)"
   ]
  },
  {
   "cell_type": "code",
   "execution_count": 12,
   "id": "bde8d807-43e7-492c-833c-25f4fd5eaf41",
   "metadata": {
    "scrolled": true
   },
   "outputs": [
    {
     "name": "stdout",
     "output_type": "stream",
     "text": [
      "\n",
      "[[1 2]\n",
      " [3 4]]\n",
      "\n",
      "[[9 8]\n",
      " [7 6]]\n",
      "\n",
      "[[1 2]\n",
      " [3 4]\n",
      " [9 8]\n",
      " [7 6]]\n"
     ]
    }
   ],
   "source": [
    "# 2d concatenate along column(0) axis\n",
    "import numpy as np\n",
    "var3 = np.array([[1,2],[3,4]])\n",
    "var4 = np.array([[9,8],[7,6]])\n",
    "var5 = np.concatenate((var3,var4), axis=0)  # column\n",
    "print()\n",
    "print(var3)\n",
    "print()\n",
    "print(var4)\n",
    "print()\n",
    "print(var5)"
   ]
  },
  {
   "cell_type": "code",
   "execution_count": 16,
   "id": "67eeedc2-f334-4d51-80dd-8702a3e67835",
   "metadata": {},
   "outputs": [
    {
     "name": "stdout",
     "output_type": "stream",
     "text": [
      "[[1 2 3 4]\n",
      " [9 8 7 6]]\n"
     ]
    }
   ],
   "source": [
    "# STACK\n",
    "import numpy as np\n",
    "var = np.array([1,2,3,4])\n",
    "var1 = np.array([9,8,7,6])\n",
    "ar = np.stack((var,var1))\n",
    "print(ar)"
   ]
  },
  {
   "cell_type": "code",
   "execution_count": 18,
   "id": "2a07a4c3-8e21-4b8c-8d9d-d05eb9285b6e",
   "metadata": {},
   "outputs": [
    {
     "name": "stdout",
     "output_type": "stream",
     "text": [
      "[['a' 'b' 'c' 'd']\n",
      " ['a' 'b' 'c' 'd']]\n"
     ]
    }
   ],
   "source": [
    "import numpy as np\n",
    "var = np.array([\"a\",\"b\",\"c\",\"d\"])\n",
    "var1 = np.array([\"a\",\"b\",\"c\",\"d\"])\n",
    "ar = np.stack((var,var1))\n",
    "print(ar)"
   ]
  },
  {
   "cell_type": "code",
   "execution_count": 27,
   "id": "839dc03b-e141-42c1-8c7c-9f0ca2638984",
   "metadata": {},
   "outputs": [
    {
     "name": "stdout",
     "output_type": "stream",
     "text": [
      "[[1 9]\n",
      " [2 8]\n",
      " [3 7]\n",
      " [4 6]]\n",
      "\n",
      "[1 2 3 4 9 8 7 6]\n",
      "\n",
      "[[1 2 3 4]\n",
      " [9 8 7 6]]\n",
      "\n",
      "[[[1 9]\n",
      "  [2 8]\n",
      "  [3 7]\n",
      "  [4 6]]]\n"
     ]
    }
   ],
   "source": [
    "import numpy as np\n",
    "var_1 = np.array([1,2,3,4])\n",
    "var_2 = np.array([9,8,7,6])\n",
    "\n",
    "a_new = np.stack((var_1,var_2),axis=1) # here axis 1 means height\n",
    "a_new1 = np.hstack((var_1,var_2))   # row\n",
    "a_new2 = np.vstack((var_1,var_2))   # column\n",
    "a_new3 = np.dstack((var_1,var_2))   # height\n",
    "\n",
    "print(a_new)\n",
    "print()\n",
    "print(a_new1)\n",
    "print()\n",
    "print(a_new2)\n",
    "print()\n",
    "print(a_new3)"
   ]
  },
  {
   "cell_type": "code",
   "execution_count": 3,
   "id": "c1818df6-77df-46ae-8de6-93ff737de413",
   "metadata": {},
   "outputs": [
    {
     "name": "stdout",
     "output_type": "stream",
     "text": [
      "[[1 2 3 4]\n",
      " [9 8 7 6]]\n"
     ]
    }
   ],
   "source": [
    "import numpy as np\n",
    "var_1 = np.array([1,2,3,4])\n",
    "var_2 = np.array([9,8,7,6])\n",
    "\n",
    "a_new = np.stack((var_1,var_2),axis=0) column\n",
    "print(a_new)"
   ]
  },
  {
   "cell_type": "code",
   "execution_count": 6,
   "id": "dc42002f-1640-41f0-8b8e-c58d0ecfa1f4",
   "metadata": {},
   "outputs": [
    {
     "name": "stdout",
     "output_type": "stream",
     "text": [
      "hello world\n"
     ]
    }
   ],
   "source": []
  },
  {
   "cell_type": "code",
   "execution_count": null,
   "id": "8e183191-9860-4175-89a2-3770cb66d463",
   "metadata": {},
   "outputs": [],
   "source": []
  }
 ],
 "metadata": {
  "kernelspec": {
   "display_name": "Python 3 (ipykernel)",
   "language": "python",
   "name": "python3"
  },
  "language_info": {
   "codemirror_mode": {
    "name": "ipython",
    "version": 3
   },
   "file_extension": ".py",
   "mimetype": "text/x-python",
   "name": "python",
   "nbconvert_exporter": "python",
   "pygments_lexer": "ipython3",
   "version": "3.11.4"
  }
 },
 "nbformat": 4,
 "nbformat_minor": 5
}
