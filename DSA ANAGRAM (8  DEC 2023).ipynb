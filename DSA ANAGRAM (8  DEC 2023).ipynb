{
 "cells": [
  {
   "cell_type": "code",
   "execution_count": 1,
   "id": "52f3ba3f",
   "metadata": {},
   "outputs": [],
   "source": [
    "#que 1 create an anagram where the 1St and the last elements interchange"
   ]
  },
  {
   "cell_type": "code",
   "execution_count": 3,
   "id": "04d29a33",
   "metadata": {},
   "outputs": [
    {
     "name": "stdout",
     "output_type": "stream",
     "text": [
      "['p', 'y', 't', 'h', 'o', 'n']\n",
      "['n', 'y', 't', 'h', 'o', 'p']\n",
      "n y t h o p\n"
     ]
    }
   ],
   "source": [
    "\n",
    "a = \"python\"\n",
    "b = list(a)\n",
    "print(b)\n",
    "def swap(list, pos1, pos2):\n",
    "    list[pos1],list[pos2]=list[pos2],list[pos1]\n",
    "    return list\n",
    "\n",
    "c =swap(b, 0, 5)\n",
    "print(c)\n",
    "\n",
    "word = \" \"\n",
    "d = word.join(c)\n",
    "print(d)"
   ]
  },
  {
   "cell_type": "code",
   "execution_count": 4,
   "id": "acbec438",
   "metadata": {},
   "outputs": [
    {
     "name": "stdout",
     "output_type": "stream",
     "text": [
      "['A', 'N', 'I', 'M', 'A', 'L']\n",
      "['L', 'N', 'I', 'M', 'A', 'A']\n",
      "L N I M A A\n"
     ]
    }
   ],
   "source": [
    "# correct code\n",
    "a = \"ANIMAL\"\n",
    "b = list(a)\n",
    "print(b)\n",
    "def swap(list, pos1, pos2):\n",
    "    list[pos1],list[pos2]=list[pos2],list[pos1]\n",
    "    return list\n",
    "\n",
    "c =swap(b, 0, 5)\n",
    "print(c)\n",
    "\n",
    "word = \" \"\n",
    "d = word.join(c)\n",
    "print(d)"
   ]
  },
  {
   "cell_type": "code",
   "execution_count": 43,
   "id": "8dcf51c7",
   "metadata": {},
   "outputs": [],
   "source": [
    "# que 2: check it is anagram or not\n",
    "# CONDITION TO ANAGRAM\n",
    "# LENGTH SAME\n",
    "# CHARACTER SHOULD BE SAME"
   ]
  },
  {
   "cell_type": "code",
   "execution_count": 44,
   "id": "34d81a85",
   "metadata": {},
   "outputs": [
    {
     "name": "stdout",
     "output_type": "stream",
     "text": [
      "['a', 'p', 'e']\n"
     ]
    },
    {
     "ename": "TypeError",
     "evalue": "swap() missing 3 required positional arguments: 'pos1', 'pos2', and 'pos3'",
     "output_type": "error",
     "traceback": [
      "\u001b[1;31m---------------------------------------------------------------------------\u001b[0m",
      "\u001b[1;31mTypeError\u001b[0m                                 Traceback (most recent call last)",
      "Cell \u001b[1;32mIn[44], line 8\u001b[0m\n\u001b[0;32m      5\u001b[0m     \u001b[38;5;28mlist\u001b[39m[pos1],\u001b[38;5;28mlist\u001b[39m[pos2], \u001b[38;5;28mlist\u001b[39m[pos3] \u001b[38;5;241m=\u001b[39m \u001b[38;5;28mlist\u001b[39m[pos2],\u001b[38;5;28mlist\u001b[39m[pos2], \u001b[38;5;28mlist\u001b[39m[pos3]\n\u001b[0;32m      6\u001b[0m     \u001b[38;5;28;01mreturn\u001b[39;00m \u001b[38;5;28mlist\u001b[39m\n\u001b[1;32m----> 8\u001b[0m c \u001b[38;5;241m=\u001b[39m swap(b,)\n\u001b[0;32m      9\u001b[0m \u001b[38;5;28mprint\u001b[39m(c)\n\u001b[0;32m     10\u001b[0m word \u001b[38;5;241m=\u001b[39m \u001b[38;5;124m\"\u001b[39m\u001b[38;5;124m \u001b[39m\u001b[38;5;124m\"\u001b[39m\n",
      "\u001b[1;31mTypeError\u001b[0m: swap() missing 3 required positional arguments: 'pos1', 'pos2', and 'pos3'"
     ]
    }
   ],
   "source": [
    "a = \"ape\"\n",
    "b = list(a)\n",
    "print(b)\n",
    "def swap(list, pos1, pos2, pos3):\n",
    "    list[pos1],list[pos2], list[pos3] = list[pos2],list[pos2], list[pos3]\n",
    "    return list\n",
    "\n",
    "c = swap(b,)\n",
    "print(c)\n",
    "word = \" \"\n",
    "d = word.join(c)\n",
    "print(d)"
   ]
  },
  {
   "cell_type": "code",
   "execution_count": 28,
   "id": "47d2b69d",
   "metadata": {},
   "outputs": [
    {
     "name": "stdout",
     "output_type": "stream",
     "text": [
      "['A', 'N', 'I', 'M', 'A', 'L']\n",
      "['L', 'N', 'I', 'M', 'A', 'A']\n",
      "L N I M A A\n",
      "ANIMAL L N I M A A\n"
     ]
    }
   ],
   "source": [
    "# correct code\n",
    "a = \"ANIMAL\"\n",
    "b = list(a)\n",
    "print(b)\n",
    "def swap(list, pos1, pos2):\n",
    "    list[pos1],list[pos2]=list[pos2],list[pos1]\n",
    "    return list\n",
    "\n",
    "c =swap(b, 0, 5)\n",
    "print(c)\n",
    "\n",
    "word = \" \"\n",
    "d = word.join(c)\n",
    "print(d)\n",
    "\n",
    "if "
   ]
  },
  {
   "cell_type": "code",
   "execution_count": 7,
   "id": "bde7ba67",
   "metadata": {},
   "outputs": [
    {
     "name": "stdout",
     "output_type": "stream",
     "text": [
      "['a', 'e', 'p'] ['a', 'e', 'p']\n",
      "it is anagram\n"
     ]
    }
   ],
   "source": [
    "a = [\"a\", \"p\", \"e\"]\n",
    "b = [\"p\", \"e\", \"a\"]\n",
    "a.sort()\n",
    "b.sort()\n",
    "print(a, b)\n",
    "\n",
    "if a == b:\n",
    "    print(\"it is anagram\")\n",
    "else:\n",
    "    print(\"not anagram\")"
   ]
  },
  {
   "cell_type": "code",
   "execution_count": 42,
   "id": "3fb026f4",
   "metadata": {},
   "outputs": [
    {
     "name": "stdout",
     "output_type": "stream",
     "text": [
      "['a', 'e', 'p'] ['a', 'e', 'p']\n",
      "it is anagram\n"
     ]
    }
   ],
   "source": [
    "# something wrong here wwith def see above correct code\n",
    "a = [\"a\", \"p\", \"e\"]\n",
    "b = [\"p\", \"e\", \"a\"]\n",
    "a.sort()\n",
    "b.sort()\n",
    "print(a, b)\n",
    "\n",
    "def anag(a, b):\n",
    "    if a == b:\n",
    "        print(\"it is anagram\")\n",
    "    else:\n",
    "        print(\"not anagram\")\n",
    "    \n",
    "anag(a, b)\n",
    "    \n"
   ]
  },
  {
   "cell_type": "code",
   "execution_count": 8,
   "id": "a9c0a294",
   "metadata": {},
   "outputs": [
    {
     "name": "stdout",
     "output_type": "stream",
     "text": [
      "['a', 'e', 'p'] ['a', 'f', 'l', 'p']\n",
      "not anagram\n"
     ]
    }
   ],
   "source": [
    "a = [\"a\", \"p\", \"e\"]\n",
    "b = [\"p\", \"f\", \"a\", \"l\"]\n",
    "a.sort() \n",
    "b.sort()\n",
    "print(a, b)\n",
    "\n",
    "if a == b:\n",
    "    print(\"it is anagram\")\n",
    "else:\n",
    "    print(\"not anagram\")"
   ]
  },
  {
   "cell_type": "code",
   "execution_count": null,
   "id": "e3e7fb6f",
   "metadata": {},
   "outputs": [],
   "source": []
  },
  {
   "cell_type": "code",
   "execution_count": 1,
   "id": "cfdead70-bbcd-4c1b-b71a-7890f5557ccd",
   "metadata": {},
   "outputs": [
    {
     "name": "stdout",
     "output_type": "stream",
     "text": [
      "hello is all vowels: False\n",
      "aeiou is all vowels: True\n"
     ]
    }
   ],
   "source": [
    "def is_word_all_vowels(word):\n",
    "    vowels = \"aeiouAEIOU\"\n",
    "    return all(char in vowels for char in word)\n",
    "\n",
    "# Example usage:\n",
    "word1 = \"hello\"\n",
    "word2 = \"aeiou\"\n",
    "\n",
    "print(f\"{word1} is all vowels: {is_word_all_vowels(word1)}\")\n",
    "print(f\"{word2} is all vowels: {is_word_all_vowels(word2)}\")\n"
   ]
  },
  {
   "cell_type": "code",
   "execution_count": null,
   "id": "a06b428b-4921-416f-ab77-0caf5da1f7c9",
   "metadata": {},
   "outputs": [],
   "source": []
  }
 ],
 "metadata": {
  "kernelspec": {
   "display_name": "Python 3 (ipykernel)",
   "language": "python",
   "name": "python3"
  },
  "language_info": {
   "codemirror_mode": {
    "name": "ipython",
    "version": 3
   },
   "file_extension": ".py",
   "mimetype": "text/x-python",
   "name": "python",
   "nbconvert_exporter": "python",
   "pygments_lexer": "ipython3",
   "version": "3.11.4"
  }
 },
 "nbformat": 4,
 "nbformat_minor": 5
}
