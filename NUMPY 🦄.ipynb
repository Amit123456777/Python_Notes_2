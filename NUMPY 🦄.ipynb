{
 "cells": [
  {
   "cell_type": "code",
   "execution_count": 1,
   "id": "0795e10a",
   "metadata": {},
   "outputs": [],
   "source": [
    "                         # 1. INTRODUCTION TO NUMPY\n",
    "\n",
    "# # List vs Array\n",
    "# L = [1,2,3,4]\n",
    "# print(L)\n",
    "# [1, 2, 3, 4]  # comma separated output\n",
    "\n",
    "# array output isn't comma separated\n",
    "# Array = [1 2 3 4]"
   ]
  },
  {
   "cell_type": "code",
   "execution_count": 2,
   "id": "21157a2a",
   "metadata": {},
   "outputs": [],
   "source": [
    "# Installation Numpy\n",
    "# pip install numpy \n",
    "# Note: using pip command in cmd. It shows error in jupyter.\n",
    "\n",
    "# Import Numpy\n",
    "# Import numpy as np     # np is standard alias"
   ]
  },
  {
   "cell_type": "code",
   "execution_count": null,
   "id": "e1cc6e79",
   "metadata": {},
   "outputs": [],
   "source": []
  },
  {
   "cell_type": "code",
   "execution_count": 3,
   "id": "23ddcbd0",
   "metadata": {},
   "outputs": [
    {
     "name": "stdout",
     "output_type": "stream",
     "text": [
      "[1 2 3 4]\n",
      "<class 'numpy.ndarray'>\n"
     ]
    }
   ],
   "source": [
    "# CREATING ARRAY IN NUMPY\n",
    "\n",
    "import numpy as np\n",
    "x = np.array([1,2,3,4])\n",
    "print(x)\n",
    "print(type(x))"
   ]
  },
  {
   "cell_type": "code",
   "execution_count": 4,
   "id": "cf6a8a68",
   "metadata": {},
   "outputs": [
    {
     "name": "stdout",
     "output_type": "stream",
     "text": [
      "[1, 2, 3, 4]\n",
      "<class 'list'>\n"
     ]
    }
   ],
   "source": [
    "# CREATING LIST\n",
    "\n",
    "y = [1,2,3,4]\n",
    "print(y)\n",
    "print(type(y))"
   ]
  },
  {
   "cell_type": "code",
   "execution_count": null,
   "id": "037e613d",
   "metadata": {},
   "outputs": [],
   "source": []
  },
  {
   "cell_type": "code",
   "execution_count": 5,
   "id": "f31a6b36",
   "metadata": {},
   "outputs": [],
   "source": [
    "                        # 2. NUMPY ARRAYS vs. PYTHON LISTS\n",
    "        \n",
    "# numpy is faster than python list\n"
   ]
  },
  {
   "cell_type": "code",
   "execution_count": 6,
   "id": "82c850eb",
   "metadata": {},
   "outputs": [
    {
     "name": "stdout",
     "output_type": "stream",
     "text": [
      "2.22 µs ± 323 ns per loop (mean ± std. dev. of 7 runs, 100,000 loops each)\n"
     ]
    }
   ],
   "source": [
    "# code to check run time\n",
    "import numpy as np\n",
    "%timeit [j**4 for j in range(1,9)]"
   ]
  },
  {
   "cell_type": "code",
   "execution_count": 7,
   "id": "55d937b7",
   "metadata": {},
   "outputs": [
    {
     "name": "stdout",
     "output_type": "stream",
     "text": [
      "5.56 µs ± 725 ns per loop (mean ± std. dev. of 7 runs, 100,000 loops each)\n"
     ]
    }
   ],
   "source": [
    "import numpy as np\n",
    "%timeit np.arange(1,9)**4"
   ]
  },
  {
   "cell_type": "code",
   "execution_count": null,
   "id": "fbc7fac8",
   "metadata": {},
   "outputs": [],
   "source": []
  },
  {
   "cell_type": "code",
   "execution_count": 8,
   "id": "61d74047",
   "metadata": {},
   "outputs": [],
   "source": [
    "# The %timeit magic command in Jupyter Notebooks is used to \n",
    "# measure the execution time of a particular code snippet."
   ]
  },
  {
   "cell_type": "code",
   "execution_count": null,
   "id": "18e65871",
   "metadata": {},
   "outputs": [],
   "source": []
  },
  {
   "cell_type": "code",
   "execution_count": 9,
   "id": "16270331",
   "metadata": {},
   "outputs": [
    {
     "name": "stdout",
     "output_type": "stream",
     "text": [
      "[1 2 3 4]\n"
     ]
    }
   ],
   "source": [
    "                        # 3. CREATION ARRAYS IN NUMPY\n",
    "# 1.   \n",
    "import numpy as np\n",
    "x = [1,2,3,4]\n",
    "y = np.array(x)\n",
    "print(y)"
   ]
  },
  {
   "cell_type": "code",
   "execution_count": 10,
   "id": "f1b4b6e5",
   "metadata": {},
   "outputs": [
    {
     "name": "stdout",
     "output_type": "stream",
     "text": [
      "[1 2 3 4]\n"
     ]
    }
   ],
   "source": [
    "# 2. aur bi simple kr skte hai upar wale code ko.\n",
    "# we use this code \n",
    "import numpy as np\n",
    "y = np.array([1,2,3,4])\n",
    "print(y)"
   ]
  },
  {
   "cell_type": "code",
   "execution_count": 11,
   "id": "0b4e50ff",
   "metadata": {},
   "outputs": [
    {
     "data": {
      "text/plain": [
       "array([1, 2, 3, 4])"
      ]
     },
     "execution_count": 11,
     "metadata": {},
     "output_type": "execute_result"
    }
   ],
   "source": [
    "# 3. how to check it is array ?\n",
    "# print ko hta do sirf y liko\n",
    "# becaue print exact ans btata hai. not its data type\n",
    "import numpy as np\n",
    "y = np.array([1,2,3,4])\n",
    "y"
   ]
  },
  {
   "cell_type": "code",
   "execution_count": 12,
   "id": "582e56f7",
   "metadata": {},
   "outputs": [
    {
     "name": "stdout",
     "output_type": "stream",
     "text": [
      "<class 'numpy.ndarray'>\n"
     ]
    }
   ],
   "source": [
    "# 4. type (type se bi pta kr skte hai.)\n",
    "\n",
    "import numpy as np\n",
    "y = np.array([1,2,3,4])\n",
    "print(type(y))"
   ]
  },
  {
   "cell_type": "code",
   "execution_count": 13,
   "id": "782a5fc8",
   "metadata": {},
   "outputs": [
    {
     "name": "stdout",
     "output_type": "stream",
     "text": [
      "enter : 12\n",
      "enter : 13\n",
      "enter : 14\n",
      "enter : 15\n",
      "['12', '13', '14', '15']\n"
     ]
    }
   ],
   "source": [
    "# 5. creating array by user input\n",
    "l = []\n",
    "for i in range(1,5):\n",
    "    int_1 = input(\"enter : \")\n",
    "    l.append(int_1)\n",
    "print(l)"
   ]
  },
  {
   "cell_type": "code",
   "execution_count": 14,
   "id": "f63e3e3d",
   "metadata": {},
   "outputs": [],
   "source": [
    "                      # DIMENSIONS IN ARRAY,  (USING 'ndim' functn)\n",
    "# 1d array\n",
    "# 2d array\n",
    "# 3d array\n",
    "# higher dimensional array (multidimensional array)"
   ]
  },
  {
   "cell_type": "code",
   "execution_count": 15,
   "id": "5f8ca727",
   "metadata": {},
   "outputs": [
    {
     "name": "stdout",
     "output_type": "stream",
     "text": [
      "1\n"
     ]
    }
   ],
   "source": [
    "# 6. 1d array\n",
    "import numpy as np\n",
    "y = np.array([1,2,3,4])\n",
    "print(y.ndim)"
   ]
  },
  {
   "cell_type": "code",
   "execution_count": 16,
   "id": "f2235354",
   "metadata": {},
   "outputs": [
    {
     "name": "stdout",
     "output_type": "stream",
     "text": [
      "[[1 2 3 4]\n",
      " [1 2 3 4]]\n",
      "2\n"
     ]
    }
   ],
   "source": [
    "# 7. 2d array\n",
    "arr2 = np.array([[1,2,3,4], [1,2,3,4]])\n",
    "print(arr2)\n",
    "print(arr2.ndim)"
   ]
  },
  {
   "cell_type": "code",
   "execution_count": 17,
   "id": "f020644c",
   "metadata": {},
   "outputs": [
    {
     "ename": "ValueError",
     "evalue": "setting an array element with a sequence. The requested array has an inhomogeneous shape after 1 dimensions. The detected shape was (2,) + inhomogeneous part.",
     "output_type": "error",
     "traceback": [
      "\u001b[1;31m---------------------------------------------------------------------------\u001b[0m",
      "\u001b[1;31mValueError\u001b[0m                                Traceback (most recent call last)",
      "Cell \u001b[1;32mIn[17], line 2\u001b[0m\n\u001b[0;32m      1\u001b[0m \u001b[38;5;66;03m# 8. it shows error because data is heterogeneous (it iss 1d array)\u001b[39;00m\n\u001b[1;32m----> 2\u001b[0m arr2 \u001b[38;5;241m=\u001b[39m np\u001b[38;5;241m.\u001b[39marray([[\u001b[38;5;241m1\u001b[39m,\u001b[38;5;241m2\u001b[39m,\u001b[38;5;241m3\u001b[39m,\u001b[38;5;241m4\u001b[39m],[\u001b[38;5;241m1\u001b[39m,\u001b[38;5;241m2\u001b[39m,\u001b[38;5;241m3\u001b[39m]])\n\u001b[0;32m      3\u001b[0m \u001b[38;5;28mprint\u001b[39m(arr2)\n\u001b[0;32m      4\u001b[0m \u001b[38;5;28mprint\u001b[39m(arr2\u001b[38;5;241m.\u001b[39mndim)\n",
      "\u001b[1;31mValueError\u001b[0m: setting an array element with a sequence. The requested array has an inhomogeneous shape after 1 dimensions. The detected shape was (2,) + inhomogeneous part."
     ]
    }
   ],
   "source": [
    "# 8. it shows error because data is heterogeneous (it iss 1d array)\n",
    "arr2 = np.array([[1,2,3,4],[1,2,3]])\n",
    "print(arr2)\n",
    "print(arr2.ndim)"
   ]
  },
  {
   "cell_type": "code",
   "execution_count": 18,
   "id": "b500af40",
   "metadata": {},
   "outputs": [
    {
     "name": "stdout",
     "output_type": "stream",
     "text": [
      "[[[1 2 3 4]\n",
      "  [1 2 3 4]\n",
      "  [1 2 3 4]]]\n",
      "3\n"
     ]
    }
   ],
   "source": [
    "# 9. 3d array\n",
    "arr3 = np.array([[[1,2,3,4],[1,2,3,4],[1,2,3,4]]])\n",
    "print(arr3)\n",
    "print(arr3.ndim)"
   ]
  },
  {
   "cell_type": "code",
   "execution_count": 19,
   "id": "9e90b01c",
   "metadata": {},
   "outputs": [
    {
     "name": "stdout",
     "output_type": "stream",
     "text": [
      "[[[[[[[[[[1 2 3 4]]]]]]]]]]\n",
      "10\n"
     ]
    }
   ],
   "source": [
    "# 10 multidimensional array (n dim means --> n dimensional)\n",
    "\n",
    "arn = np.array([1,2,3,4],ndmin = 10)\n",
    "print(arn)\n",
    "print(arn.ndim)"
   ]
  },
  {
   "cell_type": "code",
   "execution_count": null,
   "id": "c4d00e3c",
   "metadata": {},
   "outputs": [],
   "source": []
  },
  {
   "cell_type": "code",
   "execution_count": 20,
   "id": "efa71fae",
   "metadata": {},
   "outputs": [
    {
     "name": "stdout",
     "output_type": "stream",
     "text": [
      "[0. 0. 0. 0.]\n"
     ]
    }
   ],
   "source": [
    "                    #4.CREATING ARRAY USING NUMPY FUNCTION\n",
    "    \n",
    "                # special numpy array\n",
    "        \n",
    "# zeros\n",
    "import numpy as np\n",
    "ar_zero = np.zeros(4)\n",
    "print(ar_zero)"
   ]
  },
  {
   "cell_type": "code",
   "execution_count": 21,
   "id": "fab2ffee",
   "metadata": {},
   "outputs": [
    {
     "name": "stdout",
     "output_type": "stream",
     "text": [
      "[1. 1. 1. 1.]\n"
     ]
    }
   ],
   "source": [
    "# ones\n",
    "import numpy as np\n",
    "ar_ones = np.ones(4)\n",
    "print(ar_ones)"
   ]
  },
  {
   "cell_type": "code",
   "execution_count": 22,
   "id": "8357ca54",
   "metadata": {},
   "outputs": [
    {
     "name": "stdout",
     "output_type": "stream",
     "text": [
      "[1. 1. 1. 1.]\n"
     ]
    }
   ],
   "source": [
    "# empty\n",
    "import numpy as np\n",
    "ar_empty = np.empty(4)\n",
    "print(ar_empty)\n",
    "\n",
    "# is empty me last program jo run kiya tha uska data aa jata hai."
   ]
  },
  {
   "cell_type": "code",
   "execution_count": 23,
   "id": "767c0345",
   "metadata": {},
   "outputs": [
    {
     "name": "stdout",
     "output_type": "stream",
     "text": [
      "[0 1 2 3]\n"
     ]
    }
   ],
   "source": [
    "# range\n",
    "import numpy as np\n",
    "ar_range = np.arange(4)\n",
    "print(ar_range)\n",
    "# range function - hme continuous order me array dega jitne range dalenge. using arange keyword"
   ]
  },
  {
   "cell_type": "code",
   "execution_count": 24,
   "id": "2a6ca1bb",
   "metadata": {},
   "outputs": [
    {
     "name": "stdout",
     "output_type": "stream",
     "text": [
      "[[1. 0. 0.]\n",
      " [0. 1. 0.]\n",
      " [0. 0. 1.]]\n"
     ]
    }
   ],
   "source": [
    "ar_dia = np.eye(3)\n",
    "print(ar_dia)"
   ]
  },
  {
   "cell_type": "code",
   "execution_count": 25,
   "id": "d3bd1ab3",
   "metadata": {},
   "outputs": [
    {
     "name": "stdout",
     "output_type": "stream",
     "text": [
      "[[1. 0. 0. 0. 0.]\n",
      " [0. 1. 0. 0. 0.]\n",
      " [0. 0. 1. 0. 0.]]\n"
     ]
    }
   ],
   "source": [
    "ar_dia = np.eye(3,5)\n",
    "print(ar_dia)"
   ]
  },
  {
   "cell_type": "code",
   "execution_count": 26,
   "id": "962de125",
   "metadata": {},
   "outputs": [
    {
     "name": "stdout",
     "output_type": "stream",
     "text": [
      "[ 0.  5. 10. 15. 20.]\n"
     ]
    }
   ],
   "source": [
    "ar_lin = np.linspace(0,20, num = 5)\n",
    "print(ar_lin)"
   ]
  },
  {
   "cell_type": "code",
   "execution_count": null,
   "id": "edf3e7e0",
   "metadata": {},
   "outputs": [],
   "source": []
  },
  {
   "cell_type": "code",
   "execution_count": 27,
   "id": "638c5ef2",
   "metadata": {},
   "outputs": [
    {
     "name": "stdout",
     "output_type": "stream",
     "text": [
      "[0.78656772 0.15701851 0.41500292 0.81854303]\n"
     ]
    }
   ],
   "source": [
    "                        # 5. CREATE NUMPY ARRAYS WITH RANDOM NUMBERS\n",
    "    \n",
    "# RANDOM\n",
    "\n",
    "# 1. rand()\n",
    "# it gives no. (0 to 1) +ve\n",
    "\n",
    "import numpy as np\n",
    "var = np.random.rand(4)\n",
    "print(var)"
   ]
  },
  {
   "cell_type": "code",
   "execution_count": 28,
   "id": "e77a431a",
   "metadata": {},
   "outputs": [
    {
     "name": "stdout",
     "output_type": "stream",
     "text": [
      "[-0.83087565  1.5967742  -0.51735827  0.01181966]\n"
     ]
    }
   ],
   "source": [
    "# 2. randn()  \n",
    "# closer to 0 +ve,-ve\n",
    "\n",
    "import numpy as np\n",
    "var2 = np.random.randn(4)\n",
    "print(var2)"
   ]
  },
  {
   "cell_type": "code",
   "execution_count": 29,
   "id": "fc1b601c",
   "metadata": {},
   "outputs": [
    {
     "name": "stdout",
     "output_type": "stream",
     "text": [
      "[0.08386031 0.13550512 0.13573885 0.06132518]\n"
     ]
    }
   ],
   "source": [
    "# 3. randf()\n",
    "# float (0.0 to 1.0)\n",
    "\n",
    "var3 = np.random.ranf(4)\n",
    "print(var3)"
   ]
  },
  {
   "cell_type": "code",
   "execution_count": 30,
   "id": "b101df10",
   "metadata": {},
   "outputs": [
    {
     "name": "stdout",
     "output_type": "stream",
     "text": [
      "[14  9 13 16]\n"
     ]
    }
   ],
   "source": [
    "# 4 randint()\n",
    "# min,max,data  (range me)\n",
    "var4 = np.random.randint(5,20,4)\n",
    "print(var4)"
   ]
  },
  {
   "cell_type": "code",
   "execution_count": null,
   "id": "14e9fc2a",
   "metadata": {},
   "outputs": [],
   "source": []
  },
  {
   "cell_type": "code",
   "execution_count": 31,
   "id": "4d9b7989",
   "metadata": {},
   "outputs": [],
   "source": [
    "                        # 6. DATA TYPE IN NUMPY ARRAY\n"
   ]
  },
  {
   "cell_type": "code",
   "execution_count": 32,
   "id": "fe344682",
   "metadata": {},
   "outputs": [
    {
     "name": "stdout",
     "output_type": "stream",
     "text": [
      "Data Type :  int32\n"
     ]
    }
   ],
   "source": [
    "import numpy as np\n",
    "var = np.array([1,2,3,4])\n",
    "print(\"Data Type : \",var.dtype)"
   ]
  },
  {
   "cell_type": "code",
   "execution_count": 33,
   "id": "b5fb95bb",
   "metadata": {},
   "outputs": [
    {
     "name": "stdout",
     "output_type": "stream",
     "text": [
      "Data Type :  int32\n"
     ]
    }
   ],
   "source": [
    "import numpy as np\n",
    "var = np.array([1,2,3,4,12,13,14,15])\n",
    "print(\"Data Type : \",var.dtype)"
   ]
  },
  {
   "cell_type": "code",
   "execution_count": 34,
   "id": "e289aeb0",
   "metadata": {},
   "outputs": [
    {
     "name": "stdout",
     "output_type": "stream",
     "text": [
      "Data Type :  <U1\n"
     ]
    }
   ],
   "source": [
    "var = np.array([\"A\",\"S\",\"D\",\"F\"])\n",
    "print(\"Data Type : \",var.dtype)\n",
    "# <U1 means output is string"
   ]
  },
  {
   "cell_type": "code",
   "execution_count": 35,
   "id": "af435739",
   "metadata": {},
   "outputs": [
    {
     "name": "stdout",
     "output_type": "stream",
     "text": [
      "Data Type :  <U11\n"
     ]
    }
   ],
   "source": [
    "# mixing of string + number\n",
    "var = np.array([\"A\",\"S\",\"D\",\"F\",1,2,3,4])\n",
    "print(\"Data Type : \",var.dtype)\n",
    "# U11 - STRING + NO."
   ]
  },
  {
   "cell_type": "code",
   "execution_count": 36,
   "id": "b0642c23",
   "metadata": {},
   "outputs": [],
   "source": [
    "                    # CONVERSION OF 1 DATA TYPE TO OTHER\n"
   ]
  },
  {
   "cell_type": "code",
   "execution_count": 37,
   "id": "be9cdaf8",
   "metadata": {},
   "outputs": [
    {
     "name": "stdout",
     "output_type": "stream",
     "text": [
      "Data Type :  int32\n"
     ]
    }
   ],
   "source": [
    "\n",
    "\n",
    "x = np.array([1,2,3,4])\n",
    "print(\"Data Type : \",x.dtype)\n",
    "\n",
    "# now, we will convert its data type below.👇"
   ]
  },
  {
   "cell_type": "code",
   "execution_count": 38,
   "id": "9454b938",
   "metadata": {},
   "outputs": [
    {
     "name": "stdout",
     "output_type": "stream",
     "text": [
      "Data Type :  int8\n",
      "[1 2 3 4]\n"
     ]
    }
   ],
   "source": [
    "# case 1. np.int8\n",
    "\n",
    "x = np.array([1,2,3,4], dtype = np.int8)\n",
    "print(\"Data Type : \",x.dtype)\n",
    "print(x)"
   ]
  },
  {
   "cell_type": "code",
   "execution_count": 39,
   "id": "113f671e",
   "metadata": {},
   "outputs": [
    {
     "name": "stdout",
     "output_type": "stream",
     "text": [
      "Data Type :  float16\n",
      "[1. 2. 3. 4.]\n"
     ]
    }
   ],
   "source": [
    "# code 1\n",
    "x = np.array([1,2,3,4], dtype = np.float16)\n",
    "print(\"Data Type : \",x.dtype)\n",
    "print(x)"
   ]
  },
  {
   "cell_type": "code",
   "execution_count": 40,
   "id": "72492d75",
   "metadata": {},
   "outputs": [
    {
     "name": "stdout",
     "output_type": "stream",
     "text": [
      "Data Type :  float32\n",
      "[1. 2. 3. 4.]\n"
     ]
    }
   ],
   "source": [
    "#  case: 2 using short form\n",
    "# code 2  \n",
    "\n",
    "x = np.array([1,2,3,4], dtype = \"f\")\n",
    "print(\"Data Type : \",x.dtype)\n",
    "print(x)\n",
    "\n",
    "# output\n",
    "# Data Type :  float32\n",
    "# [1. 2. 3. 4.]"
   ]
  },
  {
   "cell_type": "code",
   "execution_count": 41,
   "id": "c0af394f",
   "metadata": {},
   "outputs": [],
   "source": [
    "# see the difference in the code1 nd code2\n",
    "# In the first code, you use np.float16.\n",
    "# In the second code, you use \"f\", which is equivalent to np.float32.\n",
    "    \n",
    "# It seems that the second code has overridden the specified data type \"f\" with the default data type, which is float32. \n",
    "# If you want to use float16 in the second code, you should specify np.float16 explicitly:"
   ]
  },
  {
   "cell_type": "code",
   "execution_count": null,
   "id": "f930bd2b",
   "metadata": {},
   "outputs": [],
   "source": []
  },
  {
   "cell_type": "code",
   "execution_count": 42,
   "id": "f53c6930",
   "metadata": {},
   "outputs": [
    {
     "name": "stdout",
     "output_type": "stream",
     "text": [
      "Data Type :  int32\n",
      "Data Type :  float32\n",
      "int32\n",
      "[1 2 3 4]\n",
      "[1. 2. 3. 4.]\n",
      "[1 2 3 4]\n"
     ]
    }
   ],
   "source": [
    "# case 3 we can use this data type as a function.\n",
    "\n",
    "x2 = np.array([1,2,3,4])\n",
    "new = np.float32(x2)\n",
    "new_one = np.int_(new)  # int_ underscore for int64 or int32\n",
    "print(\"Data Type : \",x2.dtype)\n",
    "print(\"Data Type : \",new.dtype)\n",
    "print(new_one.dtype)\n",
    "\n",
    "print(x2)\n",
    "print(new)\n",
    "print(new_one)"
   ]
  },
  {
   "cell_type": "code",
   "execution_count": 43,
   "id": "b015fd05",
   "metadata": {},
   "outputs": [
    {
     "name": "stdout",
     "output_type": "stream",
     "text": [
      "[1 2 3 4]\n",
      "[1. 2. 3. 4.]\n"
     ]
    }
   ],
   "source": [
    "# case 4 we can directly convert data type\n",
    "# using as type function\n",
    "x3 = np.array([1,2,3,4])\n",
    "new_1 = x3.astype(float)\n",
    "print(x3)\n",
    "print(new_1)"
   ]
  },
  {
   "cell_type": "code",
   "execution_count": 44,
   "id": "69e3a58d",
   "metadata": {},
   "outputs": [],
   "source": [
    "                    # 7. ARITHMETIC OPERATORS"
   ]
  },
  {
   "cell_type": "code",
   "execution_count": 45,
   "id": "87f96599",
   "metadata": {},
   "outputs": [],
   "source": [
    "# a+b   np.add(a,b)\n",
    "# a-b   np.subtract(a,b)\n",
    "# a*b   np.multiply(a,b)\n",
    "# a/b   np.divide(a,b)\n",
    "# a%b   np.mod(a,b)\n",
    "# a**b  np.power(a,b)\n",
    "# 1/a   np.reciprocal(a)"
   ]
  },
  {
   "cell_type": "code",
   "execution_count": 46,
   "id": "8e574277",
   "metadata": {},
   "outputs": [],
   "source": [
    "# we can use perform these arithmetic operations directly\n",
    "# or we can use functions related to it."
   ]
  },
  {
   "cell_type": "code",
   "execution_count": 47,
   "id": "2e26f41a",
   "metadata": {},
   "outputs": [],
   "source": [
    "# ARITHMETIC OPERATION"
   ]
  },
  {
   "cell_type": "code",
   "execution_count": 48,
   "id": "8f0cca32",
   "metadata": {},
   "outputs": [
    {
     "name": "stdout",
     "output_type": "stream",
     "text": [
      "[4 5 6 7]\n"
     ]
    }
   ],
   "source": [
    "import numpy as np\n",
    "\n",
    "var = np.array([1,2,3,4])\n",
    "varadd = var + 3\n",
    "print(varadd)\n",
    "\n",
    "# every no. add by 3"
   ]
  },
  {
   "cell_type": "code",
   "execution_count": 49,
   "id": "5eaff2b9",
   "metadata": {},
   "outputs": [
    {
     "name": "stdout",
     "output_type": "stream",
     "text": [
      "[2 4 6 8]\n"
     ]
    }
   ],
   "source": [
    "# add two array\n",
    "var1 = np.array([1,2,3,4])\n",
    "var2 = np.array([1,2,3,4])\n",
    "\n",
    "varadd = var1 + var2\n",
    "\n",
    "print(varadd)"
   ]
  },
  {
   "cell_type": "code",
   "execution_count": 50,
   "id": "4809a396",
   "metadata": {},
   "outputs": [
    {
     "name": "stdout",
     "output_type": "stream",
     "text": [
      "[-2 -1  0  1]\n"
     ]
    }
   ],
   "source": [
    "import numpy as np\n",
    "\n",
    "var = np.array([1,2,3,4])\n",
    "varadd = var - 3\n",
    "print(varadd)"
   ]
  },
  {
   "cell_type": "code",
   "execution_count": 51,
   "id": "f424011b",
   "metadata": {},
   "outputs": [
    {
     "name": "stdout",
     "output_type": "stream",
     "text": [
      "[ 3  6  9 12]\n"
     ]
    }
   ],
   "source": [
    "import numpy as np\n",
    "\n",
    "var = np.array([1,2,3,4])\n",
    "varadd = var * 3\n",
    "print(varadd)"
   ]
  },
  {
   "cell_type": "code",
   "execution_count": 52,
   "id": "b675a9b8",
   "metadata": {},
   "outputs": [
    {
     "name": "stdout",
     "output_type": "stream",
     "text": [
      "[0.33333333 0.66666667 1.         1.33333333]\n"
     ]
    }
   ],
   "source": [
    "import numpy as np\n",
    "\n",
    "var = np.array([1,2,3,4])\n",
    "varadd = var / 3\n",
    "print(varadd)"
   ]
  },
  {
   "cell_type": "code",
   "execution_count": 53,
   "id": "9595066a",
   "metadata": {},
   "outputs": [
    {
     "name": "stdout",
     "output_type": "stream",
     "text": [
      "[1 2 0 1]\n"
     ]
    }
   ],
   "source": [
    "import numpy as np\n",
    "\n",
    "var = np.array([1,2,3,4])\n",
    "varadd = var % 3  # modulus (remainder operator)\n",
    "print(varadd)"
   ]
  },
  {
   "cell_type": "code",
   "execution_count": null,
   "id": "a757161d",
   "metadata": {},
   "outputs": [],
   "source": []
  },
  {
   "cell_type": "code",
   "execution_count": 54,
   "id": "fd77e37e",
   "metadata": {},
   "outputs": [
    {
     "name": "stdout",
     "output_type": "stream",
     "text": [
      "[2 4 6 8]\n"
     ]
    }
   ],
   "source": [
    "# we can also use arithmetic ope as a funtion.\n",
    "\n",
    "var1 = np.array([1,2,3,4])\n",
    "var2 = np.array([1,2,3,4])\n",
    "varadd = np.add(var1,var2)\n",
    "print(varadd)"
   ]
  },
  {
   "cell_type": "code",
   "execution_count": 55,
   "id": "24ca335c",
   "metadata": {},
   "outputs": [
    {
     "name": "stdout",
     "output_type": "stream",
     "text": [
      "[4 5 6 7]\n"
     ]
    }
   ],
   "source": [
    "var1 = np.array([1,2,3,4])\n",
    "varadd = np.add(var1,3)\n",
    "print(varadd)\n",
    "# sb 3 se add ho jayega"
   ]
  },
  {
   "cell_type": "code",
   "execution_count": 56,
   "id": "bfcc1def",
   "metadata": {},
   "outputs": [
    {
     "name": "stdout",
     "output_type": "stream",
     "text": [
      "[1 0 0 0]\n"
     ]
    }
   ],
   "source": [
    "var = np.array([1,2,3,4])\n",
    "varadd = np.reciprocal(var)\n",
    "print(varadd)"
   ]
  },
  {
   "cell_type": "code",
   "execution_count": 57,
   "id": "3d7430f1",
   "metadata": {},
   "outputs": [],
   "source": [
    "# 2D array"
   ]
  },
  {
   "cell_type": "code",
   "execution_count": 58,
   "id": "95d8380f",
   "metadata": {},
   "outputs": [
    {
     "name": "stdout",
     "output_type": "stream",
     "text": [
      "[[2 4 6 8]\n",
      " [2 4 6 8]]\n"
     ]
    }
   ],
   "source": [
    "var21 = np.array([[1,2,3,4],[1,2,3,4]])\n",
    "var22 = np.array([[1,2,3,4],[1,2,3,4]])\n",
    "varadd = var21 + var22\n",
    "print(varadd)"
   ]
  },
  {
   "cell_type": "code",
   "execution_count": 59,
   "id": "2d028348",
   "metadata": {},
   "outputs": [
    {
     "name": "stdout",
     "output_type": "stream",
     "text": [
      "[[1 2 3 4]\n",
      " [1 2 3 4]]\n",
      "\n",
      "[[1 2 3 4]\n",
      " [1 2 3 4]]\n",
      "\n",
      "[[2 4 6 8]\n",
      " [2 4 6 8]]\n"
     ]
    }
   ],
   "source": [
    "var21 = np.array([[1,2,3,4],[1,2,3,4]])\n",
    "var22 = np.array([[1,2,3,4],[1,2,3,4]])\n",
    "\n",
    "print(var21)\n",
    "print()\n",
    "print(var22)\n",
    "print()\n",
    "\n",
    "varadd = var21 + var22\n",
    "\n",
    "print(varadd)"
   ]
  },
  {
   "cell_type": "code",
   "execution_count": 60,
   "id": "03134479",
   "metadata": {},
   "outputs": [
    {
     "name": "stdout",
     "output_type": "stream",
     "text": [
      "[[1 2 3 4]\n",
      " [1 2 3 4]]\n",
      "\n",
      "[[1 2 3 4]\n",
      " [1 2 3 4]]\n",
      "\n",
      "[[ 1  4  9 16]\n",
      " [ 1  4  9 16]]\n"
     ]
    }
   ],
   "source": [
    "var21 = np.array([[1,2,3,4],[1,2,3,4]])\n",
    "var22 = np.array([[1,2,3,4],[1,2,3,4]])\n",
    "\n",
    "print(var21)\n",
    "print()\n",
    "print(var22)\n",
    "print()\n",
    "\n",
    "varadd = var21 * var22\n",
    "\n",
    "print(varadd)"
   ]
  },
  {
   "cell_type": "code",
   "execution_count": null,
   "id": "a7690fd7",
   "metadata": {},
   "outputs": [],
   "source": []
  },
  {
   "cell_type": "code",
   "execution_count": 61,
   "id": "014eae95",
   "metadata": {},
   "outputs": [],
   "source": [
    "                        # 8. ARITHMETIC FUNCTIONS IN NUMPY ARRAY"
   ]
  },
  {
   "cell_type": "code",
   "execution_count": 62,
   "id": "cab9970e",
   "metadata": {},
   "outputs": [],
   "source": [
    "# np.min(x)\n",
    "# np.max(x)\n",
    "# np.argmin(x) position,index\n",
    "# np.sqrt(x)\n",
    "# np.sin(x)\n",
    "# np.cos(x)\n",
    "# np.cumsum(x)"
   ]
  },
  {
   "cell_type": "code",
   "execution_count": 63,
   "id": "245080bd",
   "metadata": {},
   "outputs": [
    {
     "name": "stdout",
     "output_type": "stream",
     "text": [
      "min :  1\n",
      "max :  5\n"
     ]
    }
   ],
   "source": [
    "# min,max\n",
    "import numpy as np\n",
    "var = np.array([1,2,3,4,5,3,2])\n",
    "print(\"min : \",np.min(var))\n",
    "print(\"max : \",np.max(var))"
   ]
  },
  {
   "cell_type": "code",
   "execution_count": 64,
   "id": "0746f868",
   "metadata": {},
   "outputs": [
    {
     "name": "stdout",
     "output_type": "stream",
     "text": [
      "min :  1 0\n",
      "max :  5 4\n"
     ]
    }
   ],
   "source": [
    "# argmin,argmax\n",
    "import numpy as np\n",
    "var = np.array([1,2,3,4,5,3,2])\n",
    "print(\"min : \",np.min(var),np.argmin(var))\n",
    "print(\"max : \",np.max(var),np.argmax(var))"
   ]
  },
  {
   "cell_type": "code",
   "execution_count": 65,
   "id": "b47dedaf",
   "metadata": {},
   "outputs": [
    {
     "name": "stdout",
     "output_type": "stream",
     "text": [
      "[1 5]\n"
     ]
    }
   ],
   "source": [
    "# axis\n",
    "\n",
    "# along to row axis\n",
    "import numpy as np\n",
    "var1 = np.array([[2,1,3],[9,5,6]])\n",
    "print(np.min(var1,axis=1))\n",
    "# axis = 0 col\n",
    "# axis = 1 row\n",
    "# [2 1 3]\n",
    "# [9 5 6]"
   ]
  },
  {
   "cell_type": "code",
   "execution_count": 66,
   "id": "c50c9827",
   "metadata": {},
   "outputs": [
    {
     "name": "stdout",
     "output_type": "stream",
     "text": [
      "[2 1 3]\n"
     ]
    }
   ],
   "source": [
    "# along to column axis\n",
    "import numpy as np\n",
    "var1 = np.array([[2,1,3],[9,5,6]])\n",
    "print(np.min(var1,axis=0))"
   ]
  },
  {
   "cell_type": "code",
   "execution_count": 67,
   "id": "4050802b",
   "metadata": {},
   "outputs": [
    {
     "name": "stdout",
     "output_type": "stream",
     "text": [
      "[2 1 3] 1\n"
     ]
    }
   ],
   "source": [
    "import numpy as np\n",
    "var1 = np.array([[2,1,3],[9,5,6]])\n",
    "print(np.min(var1,axis=0), np.argmin(var1))"
   ]
  },
  {
   "cell_type": "code",
   "execution_count": 82,
   "id": "2dc786b2",
   "metadata": {},
   "outputs": [
    {
     "name": "stdout",
     "output_type": "stream",
     "text": [
      "sqrt :  [2.         2.         1.         2.         2.23606798 1.73205081\n",
      " 1.41421356]\n"
     ]
    }
   ],
   "source": [
    "# sqrt\n",
    "import numpy as np\n",
    "var = np.array([4,4,1,4,5,3,2])\n",
    "print(\"sqrt : \",np.sqrt(var))\n",
    "# note this is squre root not square.\n"
   ]
  },
  {
   "cell_type": "code",
   "execution_count": 86,
   "id": "edab04c0",
   "metadata": {},
   "outputs": [
    {
     "name": "stdout",
     "output_type": "stream",
     "text": [
      "[0.84147098 0.90929743 0.14112001]\n",
      "[ 0.54030231 -0.41614684 -0.9899925 ]\n",
      "[1 3 6]\n"
     ]
    }
   ],
   "source": [
    "# sin(x), cos(x)\n",
    "var2 = np.array([1,2,3])\n",
    "print(np.sin(var2))\n",
    "print(np.cos(var2))\n",
    "print(np.cumsum(var2))   # note cumulative sum"
   ]
  },
  {
   "cell_type": "code",
   "execution_count": null,
   "id": "a9fcaaf4",
   "metadata": {},
   "outputs": [],
   "source": []
  },
  {
   "cell_type": "code",
   "execution_count": 2,
   "id": "df0ad9aa",
   "metadata": {},
   "outputs": [],
   "source": [
    "                        #9. LEARN ABOUT SHAPE AND RESHAPING IN NUMPY ARRAYS"
   ]
  },
  {
   "cell_type": "code",
   "execution_count": 3,
   "id": "8d410fb8",
   "metadata": {},
   "outputs": [],
   "source": [
    "# SHAPE\n"
   ]
  },
  {
   "cell_type": "code",
   "execution_count": 5,
   "id": "f6da3168-593e-441d-a3cd-104b1b360105",
   "metadata": {},
   "outputs": [
    {
     "name": "stdout",
     "output_type": "stream",
     "text": [
      "[[1 2]\n",
      " [1 2]]\n",
      "\n",
      "(2, 2)\n"
     ]
    }
   ],
   "source": [
    "import numpy as np\n",
    "var = np.array([[1,2],[1,2]])\n",
    "print(var)\n",
    "print()\n",
    "print(var.shape)"
   ]
  },
  {
   "cell_type": "code",
   "execution_count": 6,
   "id": "3787cb5d-6918-4c82-804b-2bedc6fb0463",
   "metadata": {},
   "outputs": [
    {
     "name": "stdout",
     "output_type": "stream",
     "text": [
      "[[1 2 3 4]\n",
      " [1 2 3 4]]\n",
      "\n",
      "(2, 4)\n"
     ]
    }
   ],
   "source": [
    "import numpy as np\n",
    "var = np.array([[1,2,3,4],[1,2,3,4]])\n",
    "print(var)\n",
    "print()\n",
    "print(var.shape)"
   ]
  },
  {
   "cell_type": "code",
   "execution_count": 12,
   "id": "796a394e-1f0b-4212-a0a8-03edb7e5cbb5",
   "metadata": {},
   "outputs": [
    {
     "name": "stdout",
     "output_type": "stream",
     "text": [
      "[[[[1 2 3 4]]]]\n",
      "\n",
      "(1, 1, 1, 4)\n"
     ]
    }
   ],
   "source": [
    "# MULTIDIMENSIONAL ARRAY\n",
    "var1 = np.array([1,2,3,4], ndmin=4)\n",
    "print(var1)\n",
    "print()\n",
    "print(var1.shape)  # 1,1,1 (3row) and 4 columns"
   ]
  },
  {
   "cell_type": "code",
   "execution_count": 13,
   "id": "f3edd376-e332-47e1-b111-73fdedcf00c0",
   "metadata": {},
   "outputs": [],
   "source": [
    "# RESHAPE"
   ]
  },
  {
   "cell_type": "code",
   "execution_count": 16,
   "id": "a1fd2238-7c5d-4c7e-ab5b-a67a6dc665a2",
   "metadata": {},
   "outputs": [
    {
     "name": "stdout",
     "output_type": "stream",
     "text": [
      "[[1 2]\n",
      " [3 4]\n",
      " [5 6]]\n"
     ]
    }
   ],
   "source": [
    "var2 = np.array([1,2,3,4,5,6])\n",
    "x = var2.reshape(3,2)  # 3row and 2 element\n",
    "print(x)"
   ]
  },
  {
   "cell_type": "code",
   "execution_count": 21,
   "id": "630c0116-a64a-4edf-a9b4-fe298225c2c9",
   "metadata": {},
   "outputs": [
    {
     "name": "stdout",
     "output_type": "stream",
     "text": [
      "[1 2 3 4 5 6]\n",
      "1\n",
      "\n",
      "[[1 2]\n",
      " [3 4]\n",
      " [5 6]]\n",
      "2\n"
     ]
    }
   ],
   "source": [
    "var3 = np.array([1,2,3,4,5,6])\n",
    "print(var3)\n",
    "print(var3.ndim)\n",
    "print()\n",
    "\n",
    "x = var3.reshape(3,2)  #3row and 2 element\n",
    "\n",
    "print(x)\n",
    "print(x.ndim)"
   ]
  },
  {
   "cell_type": "code",
   "execution_count": 22,
   "id": "23313cf7-4bc1-4ecd-b641-d08a0a0c2906",
   "metadata": {},
   "outputs": [
    {
     "ename": "ValueError",
     "evalue": "cannot reshape array of size 6 into shape (3,3)",
     "output_type": "error",
     "traceback": [
      "\u001b[1;31m---------------------------------------------------------------------------\u001b[0m",
      "\u001b[1;31mValueError\u001b[0m                                Traceback (most recent call last)",
      "Cell \u001b[1;32mIn[22], line 2\u001b[0m\n\u001b[0;32m      1\u001b[0m var2 \u001b[38;5;241m=\u001b[39m np\u001b[38;5;241m.\u001b[39marray([\u001b[38;5;241m1\u001b[39m,\u001b[38;5;241m2\u001b[39m,\u001b[38;5;241m3\u001b[39m,\u001b[38;5;241m4\u001b[39m,\u001b[38;5;241m5\u001b[39m,\u001b[38;5;241m6\u001b[39m])\n\u001b[1;32m----> 2\u001b[0m x \u001b[38;5;241m=\u001b[39m \u001b[43mvar2\u001b[49m\u001b[38;5;241;43m.\u001b[39;49m\u001b[43mreshape\u001b[49m\u001b[43m(\u001b[49m\u001b[38;5;241;43m3\u001b[39;49m\u001b[43m,\u001b[49m\u001b[38;5;241;43m3\u001b[39;49m\u001b[43m)\u001b[49m  \u001b[38;5;66;03m# 3row and 2 element\u001b[39;00m\n\u001b[0;32m      3\u001b[0m \u001b[38;5;28mprint\u001b[39m(x)\n",
      "\u001b[1;31mValueError\u001b[0m: cannot reshape array of size 6 into shape (3,3)"
     ]
    }
   ],
   "source": [
    "# var2 = np.array([1,2,3,4,5,6])\n",
    "# x = var2.reshape(3,3)  # 3row and 3 element\n",
    "# print(x)\n",
    "\n",
    "# NOTE: V.imp reshape(3,3)\n",
    "# isme 1st parameter means 3 rows\n",
    "# and 2nd parameter means 3 elements in every row.\n",
    "# but so it shows error bcoz hmara pass itne elment ni hai.\n",
    "\n",
    "# and numpy ise null bi show ni kr skta.\n",
    "# bcoz in numpy sare row elements se full hone chahiye."
   ]
  },
  {
   "cell_type": "code",
   "execution_count": 24,
   "id": "8f165d16-96d2-445a-8e17-0d2805144bda",
   "metadata": {},
   "outputs": [
    {
     "name": "stdout",
     "output_type": "stream",
     "text": [
      "[[1 2 3]\n",
      " [4 5 6]\n",
      " [1 2 3]]\n"
     ]
    }
   ],
   "source": [
    "var2 = np.array([1,2,3,4,5,6,1,2,3])\n",
    "x = var2.reshape(3,3)  # 3row and 2 element\n",
    "print(x)"
   ]
  },
  {
   "cell_type": "code",
   "execution_count": null,
   "id": "3092d405-bcf2-4dbb-807e-e0053231a50d",
   "metadata": {},
   "outputs": [],
   "source": []
  },
  {
   "cell_type": "code",
   "execution_count": 1,
   "id": "c3fed8b3-ad53-4732-a1b1-72e4549b818b",
   "metadata": {},
   "outputs": [],
   "source": [
    "                        # 10 BROADCASTING (CAMPUSX YOUTUBE CHANNEL)"
   ]
  },
  {
   "cell_type": "code",
   "execution_count": 2,
   "id": "3e31c5a9-f195-4b4a-9bbf-18dfb249819e",
   "metadata": {},
   "outputs": [
    {
     "name": "stdout",
     "output_type": "stream",
     "text": [
      "[[0 1 2 3]\n",
      " [4 5 6 7]]\n",
      "[[ 8  9 10 11]\n",
      " [12 13 14 15]]\n"
     ]
    }
   ],
   "source": [
    "import numpy as np\n",
    "# Scenario 1\n",
    "a1 = np.arange(8).reshape(2,4)\n",
    "a2 = np.arange(8,16).reshape(2,4)\n",
    "\n",
    "print(a1)\n",
    "print(a2)"
   ]
  },
  {
   "cell_type": "code",
   "execution_count": 3,
   "id": "227e6d45-0920-4d4a-ad51-b0b9e0e69cc2",
   "metadata": {},
   "outputs": [
    {
     "data": {
      "text/plain": [
       "array([[ 8, 10, 12, 14],\n",
       "       [16, 18, 20, 22]])"
      ]
     },
     "execution_count": 3,
     "metadata": {},
     "output_type": "execute_result"
    }
   ],
   "source": [
    "a1 + a2"
   ]
  },
  {
   "cell_type": "code",
   "execution_count": 4,
   "id": "abe248be-b4a6-4b7a-ba35-d5348453bf8c",
   "metadata": {},
   "outputs": [
    {
     "name": "stdout",
     "output_type": "stream",
     "text": [
      "[[0 1 2]\n",
      " [3 4 5]\n",
      " [6 7 8]] [[0 1 2]]\n"
     ]
    }
   ],
   "source": [
    "# Scenario 2\n",
    "a3 = np.arange(9).reshape(3,3)\n",
    "a4 = np.arange(3).reshape(1,3)\n",
    "print(a3,a4)"
   ]
  },
  {
   "cell_type": "code",
   "execution_count": 5,
   "id": "f5ffeb25-816e-4dea-b632-b5988ade6ac2",
   "metadata": {},
   "outputs": [
    {
     "data": {
      "text/plain": [
       "array([[ 0,  2,  4],\n",
       "       [ 3,  5,  7],\n",
       "       [ 6,  8, 10]])"
      ]
     },
     "execution_count": 5,
     "metadata": {},
     "output_type": "execute_result"
    }
   ],
   "source": [
    "a3 + a4"
   ]
  },
  {
   "cell_type": "code",
   "execution_count": 7,
   "id": "afcd7b36-f108-443e-8436-85f7f618678e",
   "metadata": {},
   "outputs": [],
   "source": [
    "# BROADCASTING\n",
    "# BROADCASTING IS THE ABILITY OF NUMPY TO PERFORM ARITHMETIC OPERATION ON DISSIMILAR ARRAYS."
   ]
  },
  {
   "cell_type": "code",
   "execution_count": 8,
   "id": "18d0ee78-1c88-45ea-8397-c4843785436f",
   "metadata": {},
   "outputs": [
    {
     "data": {
      "text/plain": [
       "array([[ 8, 10, 12, 14],\n",
       "       [16, 18, 20, 22]])"
      ]
     },
     "execution_count": 8,
     "metadata": {},
     "output_type": "execute_result"
    }
   ],
   "source": [
    "# RULES OF BROADCASTING\n",
    "\n",
    "a1 = np.arange(8).reshape(2,4)\n",
    "a2 = np.arange(8,16).reshape(2,4)\n",
    "a1 + a2"
   ]
  },
  {
   "cell_type": "code",
   "execution_count": 9,
   "id": "b770df89-f08d-4168-847b-c2c90b75587d",
   "metadata": {},
   "outputs": [
    {
     "name": "stdout",
     "output_type": "stream",
     "text": [
      "[[0 1 2]]\n",
      "[[ 0  1  2]\n",
      " [ 3  4  5]\n",
      " [ 6  7  8]\n",
      " [ 9 10 11]]\n"
     ]
    },
    {
     "data": {
      "text/plain": [
       "array([[ 0,  2,  4],\n",
       "       [ 3,  5,  7],\n",
       "       [ 6,  8, 10],\n",
       "       [ 9, 11, 13]])"
      ]
     },
     "execution_count": 9,
     "metadata": {},
     "output_type": "execute_result"
    }
   ],
   "source": [
    "a5 = np.arange(3).reshape(1,3)\n",
    "a6 = np.arange(12).reshape(4,3)\n",
    "print(a5)\n",
    "print(a6)\n",
    "a5+a6"
   ]
  },
  {
   "cell_type": "code",
   "execution_count": 11,
   "id": "e5fce51a-3f74-4f6e-9766-a2d5ac339326",
   "metadata": {},
   "outputs": [
    {
     "name": "stdout",
     "output_type": "stream",
     "text": [
      "[[0]\n",
      " [1]\n",
      " [2]\n",
      " [3]]\n",
      "[[ 0  1  2]\n",
      " [ 3  4  5]\n",
      " [ 6  7  8]\n",
      " [ 9 10 11]]\n"
     ]
    },
    {
     "data": {
      "text/plain": [
       "array([[ 0,  1,  2],\n",
       "       [ 4,  5,  6],\n",
       "       [ 8,  9, 10],\n",
       "       [12, 13, 14]])"
      ]
     },
     "execution_count": 11,
     "metadata": {},
     "output_type": "execute_result"
    }
   ],
   "source": [
    "a7 = np.arange(4).reshape(4,1)\n",
    "a8 = np.arange(12).reshape(4,3)\n",
    "print(a7)\n",
    "print(a8)\n",
    "a7 + a8"
   ]
  },
  {
   "cell_type": "code",
   "execution_count": 12,
   "id": "d659e932-cc62-47e0-a268-c924454d5aab",
   "metadata": {},
   "outputs": [
    {
     "name": "stdout",
     "output_type": "stream",
     "text": [
      "[[0 1 2]]\n",
      "[[ 0  1  2  3]\n",
      " [ 4  5  6  7]\n",
      " [ 8  9 10 11]\n",
      " [12 13 14 15]]\n"
     ]
    },
    {
     "ename": "ValueError",
     "evalue": "operands could not be broadcast together with shapes (1,3) (4,4) ",
     "output_type": "error",
     "traceback": [
      "\u001b[1;31m---------------------------------------------------------------------------\u001b[0m",
      "\u001b[1;31mValueError\u001b[0m                                Traceback (most recent call last)",
      "Cell \u001b[1;32mIn[12], line 5\u001b[0m\n\u001b[0;32m      3\u001b[0m \u001b[38;5;28mprint\u001b[39m(a9)\n\u001b[0;32m      4\u001b[0m \u001b[38;5;28mprint\u001b[39m(a10)\n\u001b[1;32m----> 5\u001b[0m \u001b[43ma9\u001b[49m\u001b[43m \u001b[49m\u001b[38;5;241;43m+\u001b[39;49m\u001b[43m \u001b[49m\u001b[43ma10\u001b[49m\n",
      "\u001b[1;31mValueError\u001b[0m: operands could not be broadcast together with shapes (1,3) (4,4) "
     ]
    }
   ],
   "source": [
    "a9 = np.arange(3).reshape(1,3)\n",
    "a10 = np.arange(16).reshape(4,4)\n",
    "print(a9)\n",
    "print(a10)\n",
    "a9 + a10\n",
    "# it shows value error( becaues rules is not applicable)"
   ]
  },
  {
   "cell_type": "code",
   "execution_count": 13,
   "id": "3d3c28f2-0497-4871-b720-89cd1567fe8b",
   "metadata": {},
   "outputs": [
    {
     "name": "stdout",
     "output_type": "stream",
     "text": [
      "[[0 1 2]]\n",
      "[[0]\n",
      " [1]\n",
      " [2]]\n"
     ]
    },
    {
     "data": {
      "text/plain": [
       "array([[0, 1, 2],\n",
       "       [1, 2, 3],\n",
       "       [2, 3, 4]])"
      ]
     },
     "execution_count": 13,
     "metadata": {},
     "output_type": "execute_result"
    }
   ],
   "source": [
    "a11 = np.arange(3).reshape(1,3)\n",
    "a12 = np.arange(3).reshape(3,1)\n",
    "print(a11)\n",
    "print(a12)\n",
    "a11 + a12"
   ]
  },
  {
   "cell_type": "code",
   "execution_count": 15,
   "id": "16e9d892-0541-4f1c-bc7b-274dc31629e9",
   "metadata": {},
   "outputs": [
    {
     "name": "stdout",
     "output_type": "stream",
     "text": [
      "[[0]]\n",
      "[[ 0  1  2  3  4]\n",
      " [ 5  6  7  8  9]\n",
      " [10 11 12 13 14]\n",
      " [15 16 17 18 19]]\n"
     ]
    },
    {
     "data": {
      "text/plain": [
       "array([[ 0,  1,  2,  3,  4],\n",
       "       [ 5,  6,  7,  8,  9],\n",
       "       [10, 11, 12, 13, 14],\n",
       "       [15, 16, 17, 18, 19]])"
      ]
     },
     "execution_count": 15,
     "metadata": {},
     "output_type": "execute_result"
    }
   ],
   "source": [
    "a13 = np.arange(1).reshape(1,1)\n",
    "a14 = np.arange(20).reshape(4,5)\n",
    "print(a13)\n",
    "print(a14)\n",
    "a13 + a14"
   ]
  },
  {
   "cell_type": "code",
   "execution_count": 17,
   "id": "332be661-0f3d-4a95-b208-3377684069f4",
   "metadata": {},
   "outputs": [
    {
     "name": "stdout",
     "output_type": "stream",
     "text": [
      "[0 1 2 3]\n",
      "[[ 0  1  2  3]\n",
      " [ 4  5  6  7]\n",
      " [ 8  9 10 11]\n",
      " [12 13 14 15]\n",
      " [16 17 18 19]]\n"
     ]
    },
    {
     "data": {
      "text/plain": [
       "array([[ 0,  2,  4,  6],\n",
       "       [ 4,  6,  8, 10],\n",
       "       [ 8, 10, 12, 14],\n",
       "       [12, 14, 16, 18],\n",
       "       [16, 18, 20, 22]])"
      ]
     },
     "execution_count": 17,
     "metadata": {},
     "output_type": "execute_result"
    }
   ],
   "source": [
    "a15 = np.arange(4)\n",
    "a16 = np.arange(20).reshape(5,4)\n",
    "print(a15)\n",
    "print(a16)\n",
    "a15 + a16"
   ]
  },
  {
   "cell_type": "code",
   "execution_count": null,
   "id": "0e8a9dee-dc15-4e11-8fc8-975009692a59",
   "metadata": {},
   "outputs": [],
   "source": []
  },
  {
   "cell_type": "code",
   "execution_count": 1,
   "id": "c95596f4-36f5-4dd5-9b30-fa435acc8a5a",
   "metadata": {},
   "outputs": [],
   "source": [
    "                        # 10.BROADCASTING IN NUMPY ARRAYS"
   ]
  },
  {
   "cell_type": "code",
   "execution_count": 2,
   "id": "df5645f0-59b8-4130-87e3-126ee9e2672e",
   "metadata": {},
   "outputs": [
    {
     "ename": "ValueError",
     "evalue": "operands could not be broadcast together with shapes (4,) (3,) ",
     "output_type": "error",
     "traceback": [
      "\u001b[1;31m---------------------------------------------------------------------------\u001b[0m",
      "\u001b[1;31mValueError\u001b[0m                                Traceback (most recent call last)",
      "Cell \u001b[1;32mIn[2], line 4\u001b[0m\n\u001b[0;32m      2\u001b[0m var1 \u001b[38;5;241m=\u001b[39m np\u001b[38;5;241m.\u001b[39marray([\u001b[38;5;241m1\u001b[39m,\u001b[38;5;241m2\u001b[39m,\u001b[38;5;241m3\u001b[39m,\u001b[38;5;241m4\u001b[39m])\n\u001b[0;32m      3\u001b[0m var2 \u001b[38;5;241m=\u001b[39m np\u001b[38;5;241m.\u001b[39marray([\u001b[38;5;241m1\u001b[39m,\u001b[38;5;241m2\u001b[39m,\u001b[38;5;241m3\u001b[39m])\n\u001b[1;32m----> 4\u001b[0m \u001b[38;5;28mprint\u001b[39m(\u001b[43mvar1\u001b[49m\u001b[43m \u001b[49m\u001b[38;5;241;43m+\u001b[39;49m\u001b[43m \u001b[49m\u001b[43mvar2\u001b[49m)\n",
      "\u001b[1;31mValueError\u001b[0m: operands could not be broadcast together with shapes (4,) (3,) "
     ]
    }
   ],
   "source": [
    "import numpy as np \n",
    "var1 = np.array([1,2,3,4])\n",
    "var2 = np.array([1,2,3])\n",
    "print(var1 + var2)\n",
    "# show broadcasting error"
   ]
  },
  {
   "cell_type": "code",
   "execution_count": 3,
   "id": "0c9899f1-5318-429c-9a75-200f6523b5f1",
   "metadata": {},
   "outputs": [
    {
     "name": "stdout",
     "output_type": "stream",
     "text": [
      "[2 4 6 8]\n"
     ]
    }
   ],
   "source": [
    "import numpy as np \n",
    "var1 = np.array([1,2,3,4])\n",
    "var2 = np.array([1,2,3,4])\n",
    "print(var1 + var2)"
   ]
  },
  {
   "cell_type": "code",
   "execution_count": null,
   "id": "10167c3a-af2c-4329-8260-982a51fba3b1",
   "metadata": {},
   "outputs": [],
   "source": []
  },
  {
   "cell_type": "code",
   "execution_count": 9,
   "id": "90f99e3b-70ac-45a8-9353-4deec6e341d0",
   "metadata": {},
   "outputs": [
    {
     "name": "stdout",
     "output_type": "stream",
     "text": [
      "(3,)\n",
      "\n",
      "[1 2 3]\n",
      "\n",
      "[[1]\n",
      " [2]\n",
      " [3]]\n",
      "\n",
      "[[1]\n",
      " [2]\n",
      " [3]]\n",
      "[[2 3 4]\n",
      " [3 4 5]\n",
      " [4 5 6]]\n"
     ]
    }
   ],
   "source": [
    "import numpy as np\n",
    "var1 = np.array([1,2,3])\n",
    "print(var1.shape)\n",
    "print()\n",
    "print(var1)\n",
    "print()\n",
    "\n",
    "\n",
    "var2 = np.array([[1],[2],[3]])\n",
    "print(var2)\n",
    "print()\n",
    "print(var2)\n",
    "\n",
    "print(var1 + var2)\n"
   ]
  },
  {
   "cell_type": "code",
   "execution_count": 10,
   "id": "54f08cd7-6856-46bd-b61b-6ec735e877ab",
   "metadata": {},
   "outputs": [],
   "source": [
    "# broadcasting ke liye dono array me se kisi ke pass 1 hone chahiye\n",
    "# and uske samne and corresponding wale same hone chahiye\n",
    "# and dono ke right side right side compare krenge jo bda hoga wo order.\n",
    "# example:\n",
    "# (1,3) + (3,1) = (3,3)can add\n",
    "# (1,3) + (1,4) can't add\n",
    "# (1,3) + (1,3) = (3,3) add\n",
    "# (2,1) + (2,1) can add\n",
    "# (2,1) + (2,3) can add"
   ]
  },
  {
   "cell_type": "code",
   "execution_count": 13,
   "id": "74825d29-15f5-42a8-98fa-853a6a6ff5d5",
   "metadata": {},
   "outputs": [
    {
     "name": "stdout",
     "output_type": "stream",
     "text": [
      "[[1]\n",
      " [2]]\n",
      "(2, 1)\n",
      "\n",
      "[[3]\n",
      " [4]]\n",
      "(2, 1)\n",
      "\n",
      "[[4]\n",
      " [6]]\n"
     ]
    }
   ],
   "source": [
    "# (2,1) + (2,1) can add\n",
    "a = np.array([[1],[2]])\n",
    "b = np.array([[3],[4]])\n",
    "print(a)\n",
    "print(a.shape)\n",
    "print()\n",
    "print(b)\n",
    "print(b.shape)\n",
    "print()\n",
    "print(a+b)"
   ]
  },
  {
   "cell_type": "code",
   "execution_count": 16,
   "id": "f890f099-4b7b-4ecc-aae9-62696c64c2bd",
   "metadata": {},
   "outputs": [
    {
     "name": "stdout",
     "output_type": "stream",
     "text": [
      "(2, 1)\n",
      "(2, 3)\n",
      "[[2 3 4]\n",
      " [3 4 5]]\n"
     ]
    }
   ],
   "source": [
    "x = np.array([[1],[2]])\n",
    "print(x.shape)\n",
    "\n",
    "y = np.array([[1,2,3],[1,2,3]])\n",
    "print(y.shape)\n",
    "\n",
    "print(x+y)"
   ]
  },
  {
   "cell_type": "code",
   "execution_count": null,
   "id": "612f8903-4f91-459e-b21c-3bd915519b97",
   "metadata": {},
   "outputs": [],
   "source": []
  }
 ],
 "metadata": {
  "kernelspec": {
   "display_name": "Python 3 (ipykernel)",
   "language": "python",
   "name": "python3"
  },
  "language_info": {
   "codemirror_mode": {
    "name": "ipython",
    "version": 3
   },
   "file_extension": ".py",
   "mimetype": "text/x-python",
   "name": "python",
   "nbconvert_exporter": "python",
   "pygments_lexer": "ipython3",
   "version": "3.11.4"
  }
 },
 "nbformat": 4,
 "nbformat_minor": 5
}
