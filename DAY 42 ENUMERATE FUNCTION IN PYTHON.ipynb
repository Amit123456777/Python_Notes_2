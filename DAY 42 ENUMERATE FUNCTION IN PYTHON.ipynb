{
 "cells": [
  {
   "cell_type": "code",
   "execution_count": 8,
   "id": "307d8157",
   "metadata": {
    "scrolled": true
   },
   "outputs": [
    {
     "name": "stdout",
     "output_type": "stream",
     "text": [
      "(0, 'apple')\n",
      "(1, 'banana')\n",
      "(2, 'mango')\n"
     ]
    }
   ],
   "source": [
    "# simple code\n",
    "fruits = ['apple', 'banana', 'mango']\n",
    "index = 0\n",
    "for fruit in enumerate(fruits):\n",
    "    print(fruit)\n",
    "    index+=1\n",
    "# output type is tuple"
   ]
  },
  {
   "cell_type": "code",
   "execution_count": 9,
   "id": "fa46d5f0",
   "metadata": {},
   "outputs": [
    {
     "name": "stdout",
     "output_type": "stream",
     "text": [
      "(0, 'apple')\n",
      "(1, 'banana')\n",
      "(2, 'mango')\n"
     ]
    }
   ],
   "source": [
    "#enumerate 1\n",
    "fruits = ['apple', 'banana', 'mango']\n",
    "for i in enumerate(fruits):\n",
    "    print(i)"
   ]
  },
  {
   "cell_type": "code",
   "execution_count": 10,
   "id": "3200955b",
   "metadata": {},
   "outputs": [
    {
     "name": "stdout",
     "output_type": "stream",
     "text": [
      "0 apple\n",
      "1 banana\n",
      "2 mango\n"
     ]
    }
   ],
   "source": [
    "# enumerate 2\n",
    "fruits = ['apple', 'banana', 'mango']\n",
    "for index, fruit in enumerate(fruits):\n",
    "    print(index, fruit)"
   ]
  },
  {
   "cell_type": "code",
   "execution_count": 11,
   "id": "b11c4eb2",
   "metadata": {},
   "outputs": [],
   "source": [
    "# In the 1st code isme i likhne se code tuple me pack ho jata hai.\n",
    "\n",
    "# In the 2nd code hm i ke jgeh variables ka name likhke ise tuple se unpack kr skte hai.\n",
    "# for a clear representation of index-value pairs\n",
    "\n",
    "# The 2nd approach is more concise and readable, especially when dealing with complex data structures or when you need both the index and value during the iteration.\n"
   ]
  },
  {
   "cell_type": "code",
   "execution_count": 12,
   "id": "5369c911",
   "metadata": {},
   "outputs": [],
   "source": [
    "# what is linter (pylint) ?\n",
    "# Linting is a process for identifying bugs and stylistic errors in your code.\n",
    "# mtlb jb hm kuch wrong word type kr dete hai. to uske niche jo red line show hota hai, this is called linter."
   ]
  },
  {
   "cell_type": "code",
   "execution_count": 13,
   "id": "df702bb2",
   "metadata": {},
   "outputs": [
    {
     "name": "stdout",
     "output_type": "stream",
     "text": [
      "0 12\n",
      "1 56\n",
      "2 32\n",
      "3 98\n",
      "Harry, awesome!\n",
      "4 12\n",
      "5 45\n",
      "6 1\n",
      "7 4\n"
     ]
    }
   ],
   "source": [
    "# simple\n",
    "marks = [12, 56, 32, 98, 12, 45, 1, 4]\n",
    "\n",
    "index = 0   # start index\n",
    "for mark in marks:\n",
    "    print(index, mark) \n",
    "    if(index == 3):\n",
    "        print(\"Harry, awesome!\")\n",
    "    index += 1  # index update"
   ]
  },
  {
   "cell_type": "code",
   "execution_count": 14,
   "id": "8ef11d6b",
   "metadata": {},
   "outputs": [
    {
     "name": "stdout",
     "output_type": "stream",
     "text": [
      "12\n",
      "56\n",
      "32\n",
      "98\n",
      "Harry, awesome!\n",
      "12\n",
      "45\n",
      "1\n",
      "4\n"
     ]
    }
   ],
   "source": [
    "# enumerate\n",
    "for index, mark in enumerate(marks):\n",
    "    print(mark)\n",
    "    if(index == 3):\n",
    "        print(\"Harry, awesome!\")\n",
    "# enumerate gives index and values at same time."
   ]
  },
  {
   "cell_type": "code",
   "execution_count": 5,
   "id": "f5b8a5fb",
   "metadata": {},
   "outputs": [
    {
     "name": "stdout",
     "output_type": "stream",
     "text": [
      "index\n"
     ]
    }
   ],
   "source": [
    "\n",
    "\n",
    "# note in string methods\n",
    "# this is correct\n",
    "a = \"index\"\n",
    "# a = a.upper()\n",
    "# print(a)\n",
    "a.upper()\n",
    "print(a)\n",
    "# this is wrong code. becau upper krne ke badh use store krne ke liye ek variable chahiye\n",
    "# agar wo store hi ni hoga to python upperprint ni krega.\n",
    "# string is immutable. it doesn't change original string.\n",
    "# eventually it store in other variable and gives us a new string"
   ]
  },
  {
   "cell_type": "code",
   "execution_count": 21,
   "id": "0bc14867",
   "metadata": {},
   "outputs": [
    {
     "name": "stdout",
     "output_type": "stream",
     "text": [
      "INDEX\n"
     ]
    }
   ],
   "source": []
  },
  {
   "cell_type": "code",
   "execution_count": null,
   "id": "410b1983",
   "metadata": {},
   "outputs": [],
   "source": []
  },
  {
   "cell_type": "code",
   "execution_count": null,
   "id": "55efef65",
   "metadata": {},
   "outputs": [],
   "source": []
  },
  {
   "cell_type": "code",
   "execution_count": null,
   "id": "09410a8a",
   "metadata": {},
   "outputs": [],
   "source": []
  },
  {
   "cell_type": "code",
   "execution_count": null,
   "id": "ca7c177c",
   "metadata": {},
   "outputs": [],
   "source": []
  },
  {
   "cell_type": "code",
   "execution_count": null,
   "id": "fe229016",
   "metadata": {},
   "outputs": [],
   "source": []
  },
  {
   "cell_type": "code",
   "execution_count": null,
   "id": "71b9fbf9",
   "metadata": {},
   "outputs": [],
   "source": []
  },
  {
   "cell_type": "code",
   "execution_count": null,
   "id": "8a347ee8",
   "metadata": {},
   "outputs": [],
   "source": []
  }
 ],
 "metadata": {
  "kernelspec": {
   "display_name": "Python 3 (ipykernel)",
   "language": "python",
   "name": "python3"
  },
  "language_info": {
   "codemirror_mode": {
    "name": "ipython",
    "version": 3
   },
   "file_extension": ".py",
   "mimetype": "text/x-python",
   "name": "python",
   "nbconvert_exporter": "python",
   "pygments_lexer": "ipython3",
   "version": "3.11.4"
  }
 },
 "nbformat": 4,
 "nbformat_minor": 5
}
