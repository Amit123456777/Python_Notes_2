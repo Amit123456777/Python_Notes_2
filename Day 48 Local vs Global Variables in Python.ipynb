{
 "cells": [
  {
   "cell_type": "code",
   "execution_count": 1,
   "id": "42d1dc13-cf8b-4343-ad18-374eba67140a",
   "metadata": {},
   "outputs": [],
   "source": [
    "# local -mene ek function ke andr ek variable bnaya hai. to hm use functn ke bahr use ni kr skte.\n",
    "# global var - mene ek var fucntn ke andr ni but functn ke bahar bnaya to kya me use functn ke andr use kr skta hu.\n",
    "#                 yes. but as long as functn ke andr us name ka variable na ho.\n",
    "# using global keyword\n"
   ]
  },
  {
   "cell_type": "code",
   "execution_count": 5,
   "id": "f97f9904-b318-4289-a80d-5c1416690529",
   "metadata": {},
   "outputs": [
    {
     "name": "stdout",
     "output_type": "stream",
     "text": [
      "4\n",
      "Hello harry\n"
     ]
    }
   ],
   "source": [
    "# code 1\n",
    "\n",
    "# simple function\n",
    "x = 4\n",
    "print(x)\n",
    "def hello():\n",
    "    print(\"Hello harry\")\n",
    "hello()"
   ]
  },
  {
   "cell_type": "code",
   "execution_count": 8,
   "id": "0d808120-4182-4b66-b4ca-67dbc3841c49",
   "metadata": {},
   "outputs": [
    {
     "name": "stdout",
     "output_type": "stream",
     "text": [
      "4\n",
      "4\n",
      "Hello harry\n"
     ]
    }
   ],
   "source": [
    "# code 2\n",
    "\n",
    "x = 4 # global var\n",
    "print(x)\n",
    "def hello():\n",
    "    print(x) # abi globalvar wala x print hoga\n",
    "    print(\"Hello harry\")\n",
    "hello()"
   ]
  },
  {
   "cell_type": "code",
   "execution_count": 6,
   "id": "08dbb142-e2a9-484c-83ee-a123e274a010",
   "metadata": {},
   "outputs": [
    {
     "name": "stdout",
     "output_type": "stream",
     "text": [
      "4\n",
      "5\n",
      "Hello harry\n"
     ]
    }
   ],
   "source": [
    "# code 3\n",
    "\n",
    "x = 4\n",
    "print(x)\n",
    "def hello():\n",
    "    x = 5 # ab hm agr def ka apne khud ka x denge. \n",
    "    print(x) # to print(x) krne se ye wala x print hoga. not global wala x\n",
    "    print(\"Hello harry\")\n",
    "hello()"
   ]
  },
  {
   "cell_type": "code",
   "execution_count": null,
   "id": "aed68165-7542-48ad-965f-7659e633b3b1",
   "metadata": {},
   "outputs": [],
   "source": []
  },
  {
   "cell_type": "code",
   "execution_count": null,
   "id": "6fdc7def-59a1-4b0f-9dff-480aed3b375a",
   "metadata": {},
   "outputs": [],
   "source": []
  },
  {
   "cell_type": "code",
   "execution_count": 10,
   "id": "fffa1ce4-b93c-447d-90c5-fe5bd4cda904",
   "metadata": {
    "scrolled": true
   },
   "outputs": [
    {
     "name": "stdout",
     "output_type": "stream",
     "text": [
      "4\n",
      "The global x is 4\n",
      "The local x is 5\n",
      "Hello harry\n",
      "The global x is 4\n"
     ]
    }
   ],
   "source": [
    "# code 4\n",
    "x = 4 # Global variable\n",
    "print(x)\n",
    "\n",
    "def hello():\n",
    "    x = 5 # local variable\n",
    "    print(f\"The local x is {x}\")\n",
    "    print(\"Hello harry\")\n",
    "\n",
    "print(f\"The global x is {x}\")\n",
    "hello()\n",
    "print(f\"The global x is {x}\")\n"
   ]
  },
  {
   "cell_type": "code",
   "execution_count": null,
   "id": "69b1e599-a53c-4c5d-af15-99c896350055",
   "metadata": {},
   "outputs": [],
   "source": []
  },
  {
   "cell_type": "code",
   "execution_count": 11,
   "id": "f0c25e40-be52-4e34-bc94-a1bbb840f7ce",
   "metadata": {},
   "outputs": [],
   "source": [
    "# code 4: many beginers programers think that\n",
    "# x = 5 krne se upar vale x = 4 ki value change ho rhi hai.\n",
    "# but esa ni hai.\n",
    "# x = 5 and x = 4 is different.\n",
    "# local alg chlta h and global alg chlta hai.\n",
    "\n",
    "# local variable destroyed when function call.\n",
    "# global variable did not destroyed, ye program me bne rehte hai."
   ]
  },
  {
   "cell_type": "code",
   "execution_count": null,
   "id": "fff6f41f-1962-4699-9ea1-78b57576f1cd",
   "metadata": {},
   "outputs": [],
   "source": []
  },
  {
   "cell_type": "code",
   "execution_count": null,
   "id": "168850a8-6762-4e7e-8ee4-f70c1c6d0336",
   "metadata": {},
   "outputs": [],
   "source": []
  },
  {
   "cell_type": "code",
   "execution_count": null,
   "id": "cddbfd53-b96b-4e44-bd21-901caf8dde87",
   "metadata": {},
   "outputs": [],
   "source": []
  },
  {
   "cell_type": "code",
   "execution_count": null,
   "id": "eabb625f-737a-4c58-9ee9-60fdc14ea2bd",
   "metadata": {},
   "outputs": [],
   "source": []
  },
  {
   "cell_type": "code",
   "execution_count": null,
   "id": "353e778e-855e-4d80-8dea-808274b4aa3b",
   "metadata": {},
   "outputs": [],
   "source": []
  },
  {
   "cell_type": "code",
   "execution_count": null,
   "id": "ab5ada84-eb2c-4859-b06a-7649554e451a",
   "metadata": {},
   "outputs": [],
   "source": [
    "# question.\n",
    "# we want that x = 5 krne se x = 4 ki value change ho.\n",
    "# means hm is hello() function ke andr kya kre ki.\n",
    "# global ke andr 5 ho jaye. hello() call ke nich jo global hai. in above code."
   ]
  },
  {
   "cell_type": "code",
   "execution_count": 14,
   "id": "1a43300c-3c45-464c-ad16-cc4a2de83ccf",
   "metadata": {},
   "outputs": [
    {
     "name": "stdout",
     "output_type": "stream",
     "text": [
      "4\n",
      "The global x is 4\n",
      "The local x is 5\n",
      "Hello harry\n",
      "The global x is 5\n"
     ]
    }
   ],
   "source": [
    "# code 5\n",
    "# hm hello() functn ke bahar x = 5 likenge to to hm change kr skte hai.\n",
    "x = 4 # Global variable\n",
    "print(x)\n",
    "\n",
    "def hello():\n",
    "    x = 5\n",
    "    print(f\"The local x is {x}\")\n",
    "    print(\"Hello harry\")\n",
    "\n",
    "print(f\"The global x is {x}\")\n",
    "hello()\n",
    "x = 5\n",
    "print(f\"The global x is {x}\")"
   ]
  },
  {
   "cell_type": "code",
   "execution_count": null,
   "id": "3a219025-0892-4c2e-9715-3c6c90f629cb",
   "metadata": {},
   "outputs": [],
   "source": []
  },
  {
   "cell_type": "code",
   "execution_count": null,
   "id": "615e6193-ab2a-49c5-846d-976d3156292c",
   "metadata": {},
   "outputs": [],
   "source": [
    "\n"
   ]
  },
  {
   "cell_type": "code",
   "execution_count": null,
   "id": "2f95c65b-2c46-4317-9a24-865b698bd45b",
   "metadata": {
    "scrolled": true
   },
   "outputs": [],
   "source": []
  },
  {
   "cell_type": "code",
   "execution_count": 16,
   "id": "22f0c355-cc41-4046-a515-338f7425041d",
   "metadata": {},
   "outputs": [],
   "source": [
    "# but hm fuctn ke andr change krna hai. jisse sbse niche wale global ki value 5 ho jaye.\n",
    "# means hme local variable joki function ke andr likhte and access bi fucntn ke andr hota hai.\n",
    "# to convert local to global var --> use global keyword\n",
    "# see code 6\n",
    "# sneak peak - ek jhalak\n"
   ]
  },
  {
   "cell_type": "code",
   "execution_count": 16,
   "id": "d88fd92c-1930-43bc-823f-a34d877ff637",
   "metadata": {},
   "outputs": [
    {
     "name": "stdout",
     "output_type": "stream",
     "text": [
      "4\n",
      "The global x is 4\n",
      "The local x is 5\n",
      "Hello harry\n",
      "The global x is 5\n"
     ]
    }
   ],
   "source": [
    "# code 6\n",
    "x = 4 # Global variable\n",
    "print(x)\n",
    "def hello():\n",
    "    global x\n",
    "    x = 5\n",
    "    print(f\"The local x is {x}\")\n",
    "    print(\"Hello harry\")\n",
    "\n",
    "print(f\"The global x is {x}\")\n",
    "hello()\n",
    "print(f\"The global x is {x}\")"
   ]
  },
  {
   "cell_type": "code",
   "execution_count": null,
   "id": "333dfbe0-2291-4917-9d6f-c2ce78492f13",
   "metadata": {},
   "outputs": [],
   "source": []
  },
  {
   "cell_type": "code",
   "execution_count": 18,
   "id": "e14b2879-6e02-4f23-9111-0ae982ccc76c",
   "metadata": {},
   "outputs": [
    {
     "name": "stdout",
     "output_type": "stream",
     "text": [
      "5\n",
      "4\n"
     ]
    }
   ],
   "source": [
    "# code 7:\n",
    "\n",
    "x = 10 # global variable\n",
    "\n",
    "def my_function():\n",
    "    global x\n",
    "    x = 4\n",
    "    y = 5 # local variable\n",
    "    print(y)\n",
    "\n",
    "my_function()\n",
    "print(x)\n"
   ]
  },
  {
   "cell_type": "code",
   "execution_count": null,
   "id": "06dd93e6-792a-4785-8dd7-1f83a8604114",
   "metadata": {},
   "outputs": [],
   "source": [
    "# global x likhne ka mtlb hm global wale x ko use krna chahte hai.\n",
    "# ab ye bahar wale x ki value change krega."
   ]
  },
  {
   "cell_type": "code",
   "execution_count": null,
   "id": "b026eac7-6f61-4456-acdd-f5157389db72",
   "metadata": {},
   "outputs": [],
   "source": []
  },
  {
   "cell_type": "code",
   "execution_count": null,
   "id": "5b944f8d-1abe-43c9-8ae5-f2b5ce72f3dc",
   "metadata": {},
   "outputs": [],
   "source": []
  },
  {
   "cell_type": "code",
   "execution_count": 18,
   "id": "e804d2cc-3c7b-4b7c-941e-1218f7bebed5",
   "metadata": {},
   "outputs": [
    {
     "name": "stdout",
     "output_type": "stream",
     "text": [
      "5\n",
      "10\n"
     ]
    },
    {
     "ename": "NameError",
     "evalue": "name 'y' is not defined",
     "output_type": "error",
     "traceback": [
      "\u001b[1;31m---------------------------------------------------------------------------\u001b[0m",
      "\u001b[1;31mNameError\u001b[0m                                 Traceback (most recent call last)",
      "Cell \u001b[1;32mIn[18], line 10\u001b[0m\n\u001b[0;32m      8\u001b[0m my_function()\n\u001b[0;32m      9\u001b[0m \u001b[38;5;28mprint\u001b[39m(x)\n\u001b[1;32m---> 10\u001b[0m \u001b[38;5;28mprint\u001b[39m(\u001b[43my\u001b[49m)\n\u001b[0;32m     11\u001b[0m \u001b[38;5;66;03m# y is local variable hme usko function ke bar call ni krte skte. it shows error\u001b[39;00m\n\u001b[0;32m     12\u001b[0m \u001b[38;5;66;03m# means me west bengal ki local trains se us jana jata hu. how is it possible. similar hm local \u001b[39;00m\n\u001b[0;32m     13\u001b[0m \u001b[38;5;66;03m# variable ko function ke bahar call ni kr skte.\u001b[39;00m\n",
      "\u001b[1;31mNameError\u001b[0m: name 'y' is not defined"
     ]
    }
   ],
   "source": [
    "# code 8 we can't print local variable outside the function.\n",
    "x = 10 # global variable\n",
    "\n",
    "def my_function():\n",
    "    y = 5 # local variable\n",
    "    print(y)\n",
    "\n",
    "my_function()\n",
    "print(x)\n",
    "print(y)\n",
    "# y is local variable we can't print it outside the function. it shows error\n",
    "# means me west bengal ki local trains se us jana jata hu. how is it possible. similar hm local \n",
    "# variable ko function ke bahar call ni kr skte."
   ]
  },
  {
   "cell_type": "code",
   "execution_count": null,
   "id": "8608edcc-c4b0-46fd-bc1b-0ed6683bce4c",
   "metadata": {},
   "outputs": [],
   "source": []
  },
  {
   "cell_type": "code",
   "execution_count": null,
   "id": "2639366c-3d28-48d8-aab9-e21ef93d6f6e",
   "metadata": {},
   "outputs": [],
   "source": []
  },
  {
   "cell_type": "code",
   "execution_count": null,
   "id": "5f34c741-1fa7-4b3a-8b71-8603c12a1efd",
   "metadata": {},
   "outputs": [],
   "source": []
  },
  {
   "cell_type": "code",
   "execution_count": 21,
   "id": "26a8513a-e50b-40cb-8bd8-a340a3f0515a",
   "metadata": {},
   "outputs": [],
   "source": [
    "# # note: hme global keyword esa krne ki jrurt hi ku pd rhe hai.\n",
    "# hme apne fuctn ka logic pura ka pura is treh se design kre\n",
    "# # ki hme function ke andr global krne ki need hi na pde.\n",
    "# python is kindful/dyalu wo hme ese functn deta hai.\n",
    "# but hme jimedar bnna hai. ki hme apne code ko esa likhe ki confusion na ho."
   ]
  },
  {
   "cell_type": "code",
   "execution_count": null,
   "id": "318636d4-651b-48ce-b957-59483b6fdf42",
   "metadata": {},
   "outputs": [],
   "source": []
  },
  {
   "cell_type": "code",
   "execution_count": null,
   "id": "6bddb4a0-6bf9-48ee-9cb0-337545e39cd6",
   "metadata": {},
   "outputs": [],
   "source": []
  }
 ],
 "metadata": {
  "kernelspec": {
   "display_name": "Python 3 (ipykernel)",
   "language": "python",
   "name": "python3"
  },
  "language_info": {
   "codemirror_mode": {
    "name": "ipython",
    "version": 3
   },
   "file_extension": ".py",
   "mimetype": "text/x-python",
   "name": "python",
   "nbconvert_exporter": "python",
   "pygments_lexer": "ipython3",
   "version": "3.11.4"
  }
 },
 "nbformat": 4,
 "nbformat_minor": 5
}
