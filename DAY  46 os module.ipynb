{
 "cells": [
  {
   "cell_type": "code",
   "execution_count": 1,
   "id": "41260253-4f98-4f3e-905d-6cad2022a450",
   "metadata": {},
   "outputs": [],
   "source": [
    "# OS MODULE IS HELP TO PERFORM MANY OPERATING SYSTEM WORKS.\n",
    "# LIKE WE WANT TO DO EXECUTE PARTICULAR PROGRAM..\n",
    "# OF IF WE WANT TO COPY A FILE FROM 1 FOLDER TO ANOTHER."
   ]
  },
  {
   "cell_type": "code",
   "execution_count": 2,
   "id": "fddd61f7-49b4-475b-9150-0e4841832ce3",
   "metadata": {},
   "outputs": [],
   "source": [
    "# IT IS BUILT IN MODULE\n",
    "# ISKI HELP SE HM OPERATION SYSTEM JO CHEEZE KRTE HAI MANUALLY. USKE AUTOMATE KR SKTE HAI.\n",
    "\n",
    "# AUTOMATICALLY WE CAN CREATE 1.PY OR 1.tse OR 1.JPG NAME FILE IN EVERY FOLDER."
   ]
  },
  {
   "cell_type": "code",
   "execution_count": 3,
   "id": "56ade84c-ca08-4aa7-85ba-b9771abaa10c",
   "metadata": {},
   "outputs": [],
   "source": [
    "# harry ne 100 days of python playlsit me os module ka use kiya. taki file use ek ek krke dalna ni pde.\n",
    "# ye automate ho jaye.\n",
    "# and also one more module - sutil module."
   ]
  },
  {
   "cell_type": "code",
   "execution_count": null,
   "id": "1739255e-b004-4e45-b656-0ed7a6064c53",
   "metadata": {},
   "outputs": [],
   "source": [
    "# os module in python DOCUMENTATION"
   ]
  }
 ],
 "metadata": {
  "kernelspec": {
   "display_name": "Python 3 (ipykernel)",
   "language": "python",
   "name": "python3"
  },
  "language_info": {
   "codemirror_mode": {
    "name": "ipython",
    "version": 3
   },
   "file_extension": ".py",
   "mimetype": "text/x-python",
   "name": "python",
   "nbconvert_exporter": "python",
   "pygments_lexer": "ipython3",
   "version": "3.11.4"
  }
 },
 "nbformat": 4,
 "nbformat_minor": 5
}
