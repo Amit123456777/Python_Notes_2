{
 "cells": [
  {
   "cell_type": "code",
   "execution_count": 14,
   "id": "319be5ee-68f4-4178-83cd-3af97c9198f5",
   "metadata": {},
   "outputs": [],
   "source": [
    "# 1 Maximum and minimum of an array using minimum number of comparisons\n",
    "# step, sort the array first"
   ]
  },
  {
   "cell_type": "code",
   "execution_count": null,
   "id": "63189d0f-d313-4573-a737-61efa9298d88",
   "metadata": {},
   "outputs": [],
   "source": []
  },
  {
   "cell_type": "code",
   "execution_count": 15,
   "id": "dff86e76-0316-451c-8c8f-2d8e208d20b8",
   "metadata": {},
   "outputs": [
    {
     "name": "stdout",
     "output_type": "stream",
     "text": [
      "array('i', [50, 70, 30, 10, 40, 20])\n",
      "min element : 10\n",
      "max element : 70\n"
     ]
    }
   ],
   "source": [
    "# geeks for geek logic\n",
    "\n",
    "def getMinMax(arr):\n",
    "    arr = list(arr)\n",
    "    arr.sort()\n",
    "    print(f\"min element : {arr[0]}\")\n",
    "    print(f\"max element : {arr[-1]}\")\n",
    "\n",
    "arr1 = array('i',[50,70,30,10,40,20])\n",
    "print(arr1)\n",
    "getMinMax(arr1)"
   ]
  },
  {
   "cell_type": "code",
   "execution_count": null,
   "id": "0a1918b9-2d45-470c-9aeb-a2378761a777",
   "metadata": {},
   "outputs": [],
   "source": []
  },
  {
   "cell_type": "code",
   "execution_count": 3,
   "id": "087487ea-5be8-4d00-acd6-6bf183bbc8d7",
   "metadata": {},
   "outputs": [
    {
     "name": "stdout",
     "output_type": "stream",
     "text": [
      "MIN is : 10\n",
      "MAX is : 100\n",
      "array('i', [10, 50, 60, 75, 80, 90, 100])\n"
     ]
    }
   ],
   "source": [
    "# mylogic using bubble sort\n",
    "\n",
    "import array\n",
    "from array import *\n",
    "def getMinMax(arr):\n",
    "    n = len(arr)\n",
    "    for i in range(0,n):\n",
    "        for j in range(0,n-1):\n",
    "            if arr[j] > arr[j+1]:\n",
    "                arr[j],arr[j+1]=arr[j+1],arr[j]\n",
    "\n",
    "    print(f\"MIN is : {arr[0]}\")\n",
    "    print(f\"MAX is : {arr[-1]}\")\n",
    "    \n",
    "# ending the defination\n",
    "\n",
    "# defining the arrays\n",
    "\n",
    "arr1 = array('i', [90,80,100,75,10,60,50])\n",
    "       \n",
    "# calling the function\n",
    "\n",
    "getMinMax(arr1)\n",
    "print(arr1)"
   ]
  },
  {
   "cell_type": "code",
   "execution_count": null,
   "id": "7114ff29-f71c-4546-a07d-43e3c70d42b6",
   "metadata": {},
   "outputs": [],
   "source": []
  },
  {
   "cell_type": "code",
   "execution_count": 4,
   "id": "c0962b09-e399-4b6c-8898-a188673622a6",
   "metadata": {},
   "outputs": [
    {
     "name": "stdout",
     "output_type": "stream",
     "text": [
      "array('i', [7, 8, 4, 5, 89, 1])\n",
      "Reversed array is: array('i', [1, 89, 5, 4, 8, 7])\n"
     ]
    }
   ],
   "source": [
    "# 2 Write a program to reverse an array or string\n",
    "\n",
    "# GEEKS FOR GEEK\n",
    "\n",
    "import array\n",
    "from array import *\n",
    "import array\n",
    "from array import *\n",
    "def reverse_arr(arr,start,end):\n",
    "    while start<end:\n",
    "        arr[start],arr[end]=arr[end],arr[start]\n",
    "        start+=1\n",
    "        end-=1\n",
    "    \n",
    "b = array('i',[7,8,4,5,89,1])\n",
    "print(b)\n",
    "reverse_arr(b,0,5)\n",
    "print(f\"Reversed array is: {b}\")"
   ]
  },
  {
   "cell_type": "code",
   "execution_count": null,
   "id": "cd8819d4-88a8-44c4-9cd6-14d0e815d0ad",
   "metadata": {},
   "outputs": [],
   "source": []
  },
  {
   "cell_type": "code",
   "execution_count": null,
   "id": "dd0b98d7-8422-4e52-aa19-06bf2d73e23a",
   "metadata": {},
   "outputs": [],
   "source": [
    "# my logic\n",
    "# using recursion\n",
    "\n",
    "import array\n",
    "from array import *\n",
    "def reverse(arr,i,j):\n",
    "    if i<j:\n",
    "        arr[i], arr[j] = arr[j], arr[i]\n",
    "        reverse(arr, i+1, j-1)\n",
    "            \n",
    "\n",
    "arr1 = array('i', [50, 60, 10, 75, 100, 80, 90])\n",
    "print(\"Original array:\", arr1)\n",
    "\n",
    "# calling the function\n",
    "\n",
    "reverse(arr1, 0, len(arr1) - 1)\n",
    "print(\"Reversed array: \", arr1)"
   ]
  },
  {
   "cell_type": "code",
   "execution_count": null,
   "id": "3cd5e0b5-bfd2-4e61-9c07-1e0fa67d3458",
   "metadata": {},
   "outputs": [],
   "source": []
  },
  {
   "cell_type": "code",
   "execution_count": 5,
   "id": "f536be14-e5f1-461e-9a11-52c4d8e3d9e4",
   "metadata": {},
   "outputs": [
    {
     "name": "stdout",
     "output_type": "stream",
     "text": [
      "array('i', [50, 60, 10, 75, 100, 80, 90])\n"
     ]
    }
   ],
   "source": [
    "# using reverse method\n",
    "\n",
    "from array import array\n",
    "\n",
    "arr1 = array('i', [90, 80, 100, 75, 10, 60, 50])\n",
    "\n",
    "# Using reverse method\n",
    "arr1.reverse()\n",
    "print(arr1)\n"
   ]
  },
  {
   "cell_type": "code",
   "execution_count": null,
   "id": "5ddad62e-4b8f-4d28-948d-a05bd611e149",
   "metadata": {},
   "outputs": [],
   "source": []
  }
 ],
 "metadata": {
  "kernelspec": {
   "display_name": "Python 3 (ipykernel)",
   "language": "python",
   "name": "python3"
  },
  "language_info": {
   "codemirror_mode": {
    "name": "ipython",
    "version": 3
   },
   "file_extension": ".py",
   "mimetype": "text/x-python",
   "name": "python",
   "nbconvert_exporter": "python",
   "pygments_lexer": "ipython3",
   "version": "3.11.4"
  }
 },
 "nbformat": 4,
 "nbformat_minor": 5
}
