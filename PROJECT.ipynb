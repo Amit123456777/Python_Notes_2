{
 "cells": [
  {
   "cell_type": "code",
   "execution_count": 1,
   "id": "806164e8",
   "metadata": {},
   "outputs": [
    {
     "name": "stdout",
     "output_type": "stream",
     "text": [
      "array('i', [21, 34, 45, 58, 99, 100])\n"
     ]
    }
   ],
   "source": [
    "# bubble sort (sorting array)\n",
    "\n",
    "import array\n",
    "from array import *\n",
    "#defining a funtion\n",
    "def pairwise_swap(arr):\n",
    "    n=len(arr)\n",
    "    for i in range(0, n-1):\n",
    "        for j in range (0, n-i-1):\n",
    "            if arr[j]>arr[j+1]:\n",
    "                arr[j],arr[j+1]=arr[j+1],arr[j]\n",
    "                \n",
    "#ending the definition\n",
    "\n",
    "#defining the array\n",
    "\n",
    "arr1 = array('i',[100,99,58,45,34,21])\n",
    "\n",
    "# calling the fucntion\n",
    "pairwise_swap(arr1)\n",
    "print(arr1)"
   ]
  },
  {
   "cell_type": "code",
   "execution_count": 2,
   "id": "1d14d524",
   "metadata": {},
   "outputs": [
    {
     "name": "stdout",
     "output_type": "stream",
     "text": [
      "array('i', [21, 34, 45, 58, 99, 100])\n"
     ]
    }
   ],
   "source": []
  },
  {
   "cell_type": "code",
   "execution_count": null,
   "id": "e89137ec",
   "metadata": {},
   "outputs": [],
   "source": [
    "bubble insertion selection,  \n",
    "factorial calculator\n"
   ]
  }
 ],
 "metadata": {
  "kernelspec": {
   "display_name": "Python 3 (ipykernel)",
   "language": "python",
   "name": "python3"
  },
  "language_info": {
   "codemirror_mode": {
    "name": "ipython",
    "version": 3
   },
   "file_extension": ".py",
   "mimetype": "text/x-python",
   "name": "python",
   "nbconvert_exporter": "python",
   "pygments_lexer": "ipython3",
   "version": "3.11.4"
  }
 },
 "nbformat": 4,
 "nbformat_minor": 5
}
