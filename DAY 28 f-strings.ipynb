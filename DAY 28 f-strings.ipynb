{
 "cells": [
  {
   "cell_type": "code",
   "execution_count": 1,
   "id": "d93a605d",
   "metadata": {},
   "outputs": [],
   "source": [
    "# we appreciate the beauty of python. becoz today we will learn f string."
   ]
  },
  {
   "cell_type": "code",
   "execution_count": 3,
   "id": "2bc214ae",
   "metadata": {},
   "outputs": [],
   "source": [
    "# f string from {3.6 version} of python"
   ]
  },
  {
   "cell_type": "code",
   "execution_count": 4,
   "id": "f4b72743",
   "metadata": {},
   "outputs": [],
   "source": [
    "# f string used to string formatting.\n",
    "# python string formatting krne time ek problem face kr rha tha to f string aya."
   ]
  },
  {
   "cell_type": "code",
   "execution_count": 34,
   "id": "59abccfa",
   "metadata": {},
   "outputs": [
    {
     "name": "stdout",
     "output_type": "stream",
     "text": [
      "Hey my name is  Harry and I am from India\n"
     ]
    }
   ],
   "source": [
    "# string formatting\n",
    "letter = \"Hey my name is  {} and I am from {}\"\n",
    "country = \"India\"\n",
    "name = \"Harry\"\n",
    "print(letter.format(name, country)) # format is a string method"
   ]
  },
  {
   "cell_type": "code",
   "execution_count": 5,
   "id": "7479fa8d",
   "metadata": {},
   "outputs": [
    {
     "name": "stdout",
     "output_type": "stream",
     "text": [
      "Hey my name is  India and I am from Harry\n"
     ]
    }
   ],
   "source": [
    "letter = \"Hey my name is  {} and I am from {}\"\n",
    "country = \"India\"\n",
    "name = \"Harry\"\n",
    "\n",
    "print(letter.format(country, name))\n",
    "\n",
    "# output:\n",
    "# 'Hey my name is  India and I am from Harry'"
   ]
  },
  {
   "cell_type": "code",
   "execution_count": 6,
   "id": "b880d47a",
   "metadata": {},
   "outputs": [
    {
     "name": "stdout",
     "output_type": "stream",
     "text": [
      "Hey my name is  Harry and I am from India\n"
     ]
    }
   ],
   "source": [
    "# to fix the above code we put index in curly bracket. see below code\n",
    "\n",
    "letter = \"Hey my name is  {1} and I am from {0}\"\n",
    "country = \"India\"\n",
    "name = \"Harry\"\n",
    "\n",
    "print(letter.format(country, name))"
   ]
  },
  {
   "cell_type": "code",
   "execution_count": 9,
   "id": "a1f98498",
   "metadata": {},
   "outputs": [],
   "source": [
    "# so we can use this method also but it is not convenience so we use f string"
   ]
  },
  {
   "cell_type": "code",
   "execution_count": 2,
   "id": "46bbd531",
   "metadata": {},
   "outputs": [
    {
     "name": "stdout",
     "output_type": "stream",
     "text": [
      "Hey my name is Harry and I am form India\n"
     ]
    }
   ],
   "source": [
    "# f string\n",
    "# f string ka mtlb hm apne string ke andr ab variables dal skte hai.\n",
    "\n",
    "country = \"India\"\n",
    "name = \"Harry\"\n",
    "print(f\"Hey my name is {name} and I am form {country}\")\n"
   ]
  },
  {
   "cell_type": "code",
   "execution_count": null,
   "id": "0cab39f4",
   "metadata": {},
   "outputs": [],
   "source": []
  },
  {
   "cell_type": "code",
   "execution_count": 7,
   "id": "bb3f110e",
   "metadata": {},
   "outputs": [
    {
     "name": "stdout",
     "output_type": "stream",
     "text": [
      "For only  49.10 dollars!\n"
     ]
    }
   ],
   "source": [
    "# string formatting example (in tutorial also)\n",
    "\n",
    "txt = \"For only {price: .2f} dollars!\" # (colon dot 2f) f means float here\n",
    "print(txt.format(price = 49.099))"
   ]
  },
  {
   "cell_type": "code",
   "execution_count": 8,
   "id": "9388c923",
   "metadata": {},
   "outputs": [
    {
     "name": "stdout",
     "output_type": "stream",
     "text": [
      "For only 49.09999 dollars!\n"
     ]
    }
   ],
   "source": [
    "txt = \"For only {price} dollars!\"\n",
    "print(txt.format(price = 49.09999))"
   ]
  },
  {
   "cell_type": "code",
   "execution_count": 9,
   "id": "e15e14d7",
   "metadata": {},
   "outputs": [
    {
     "name": "stdout",
     "output_type": "stream",
     "text": [
      "For only  49.10 dollars!\n"
     ]
    }
   ],
   "source": [
    "# by f string\n",
    "price = 49.09999\n",
    "txt = f\"For only {price: .2f} dollars!\" # (colon dot 2f) f means float here\n",
    "print(txt)"
   ]
  },
  {
   "cell_type": "code",
   "execution_count": 14,
   "id": "1336e096",
   "metadata": {},
   "outputs": [
    {
     "name": "stdout",
     "output_type": "stream",
     "text": [
      "For only 4.09999 dollars!\n"
     ]
    }
   ],
   "source": [
    "txt = f\"For only {price} dollars!\"\n",
    "price = 4.09999\n",
    "print(txt)"
   ]
  },
  {
   "cell_type": "code",
   "execution_count": 35,
   "id": "ef4c01a2",
   "metadata": {},
   "outputs": [
    {
     "name": "stdout",
     "output_type": "stream",
     "text": [
      "good morning harry\n",
      "My name is harry\n"
     ]
    }
   ],
   "source": [
    "# revise \n",
    "# note:hmesha variable name print se pehle hota hai sb me\n",
    " \n",
    "a = \"good morning {name}\"   # variable name pehle\n",
    "print(a.format(name = \"harry\"))\n",
    "\n",
    "\n",
    "name = \"harry\"  # NOTE: variable name pehle\n",
    "print(f\"My name is {name}\")"
   ]
  },
  {
   "cell_type": "code",
   "execution_count": null,
   "id": "e864d87c",
   "metadata": {},
   "outputs": [],
   "source": [
    "# note: In programming, a literal is a notation"
   ]
  },
  {
   "cell_type": "code",
   "execution_count": 30,
   "id": "7795b914",
   "metadata": {},
   "outputs": [
    {
     "name": "stdout",
     "output_type": "stream",
     "text": [
      "60\n",
      "<class 'str'>\n"
     ]
    }
   ],
   "source": [
    "# we can use single variable\n",
    "print(f\"{2 * 30}\")\n",
    "print(type(f\"{2 * 30}\"))"
   ]
  },
  {
   "cell_type": "code",
   "execution_count": 37,
   "id": "2d8d46dc",
   "metadata": {},
   "outputs": [
    {
     "name": "stdout",
     "output_type": "stream",
     "text": [
      "We use f-strings like this: Hey my name is {name} and I am from {country}\n"
     ]
    }
   ],
   "source": [
    "# now question\n",
    "# niche wale code me hm {name} ise bi display krana chahte hai to kya krenge\n",
    "# ans: we use double curly brackets\n",
    "country = \"India\"\n",
    "name = \"Harry\"\n",
    "print(f\"We use f-strings like this: Hey my name is {{name}} and I am from {{country}}\")"
   ]
  },
  {
   "cell_type": "code",
   "execution_count": null,
   "id": "fe42c6a9",
   "metadata": {},
   "outputs": [],
   "source": []
  }
 ],
 "metadata": {
  "kernelspec": {
   "display_name": "Python 3 (ipykernel)",
   "language": "python",
   "name": "python3"
  },
  "language_info": {
   "codemirror_mode": {
    "name": "ipython",
    "version": 3
   },
   "file_extension": ".py",
   "mimetype": "text/x-python",
   "name": "python",
   "nbconvert_exporter": "python",
   "pygments_lexer": "ipython3",
   "version": "3.11.4"
  }
 },
 "nbformat": 4,
 "nbformat_minor": 5
}
