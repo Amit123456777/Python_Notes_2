{
 "cells": [
  {
   "cell_type": "markdown",
   "id": "a654bb29-db3c-4929-8281-4baf50c18218",
   "metadata": {},
   "source": [
    "# read"
   ]
  },
  {
   "cell_type": "code",
   "execution_count": 2,
   "id": "fd425883-3eec-41cd-b65c-b1508ed522fd",
   "metadata": {},
   "outputs": [
    {
     "name": "stdout",
     "output_type": "stream",
     "text": [
      "Hello World!\n"
     ]
    }
   ],
   "source": [
    "f = open('myfile.txt', 'r')\n",
    "text = f.read()\n",
    "print(text)\n",
    "f.close()"
   ]
  },
  {
   "cell_type": "markdown",
   "id": "de229ade-ae63-463e-810c-fd7dff96a042",
   "metadata": {},
   "source": [
    "# write"
   ]
  },
  {
   "cell_type": "code",
   "execution_count": 9,
   "id": "cf0d3e81-009e-40d8-9344-ea9e96707855",
   "metadata": {},
   "outputs": [],
   "source": [
    "f = open('myfile.txt', 'w')\n",
    "f.write('This is a good boy')\n",
    "f.close()"
   ]
  },
  {
   "cell_type": "code",
   "execution_count": 10,
   "id": "f1b9ef05-05fd-4683-b3ff-eced27ec084b",
   "metadata": {},
   "outputs": [
    {
     "name": "stdout",
     "output_type": "stream",
     "text": [
      "This is a good boy\n"
     ]
    }
   ],
   "source": [
    "# content of the file.\n",
    "f = open('myfile.txt', 'r')\n",
    "text = f.read()\n",
    "print(text)\n",
    "f.close()"
   ]
  },
  {
   "cell_type": "markdown",
   "id": "46042af1-c637-4511-82dd-f6b229d2114a",
   "metadata": {},
   "source": [
    "# append"
   ]
  },
  {
   "cell_type": "code",
   "execution_count": 11,
   "id": "55dc5440-789e-4ce4-a915-d83823d71eb2",
   "metadata": {},
   "outputs": [],
   "source": [
    "f = open('myfile.txt', 'a')\n",
    "f.write(\" Hello, World!\")\n",
    "f.close()"
   ]
  },
  {
   "cell_type": "code",
   "execution_count": 12,
   "id": "42bf047c-1dc3-40fc-98bb-cb31703936bf",
   "metadata": {},
   "outputs": [],
   "source": [
    "# we have 2 ways to list the content of the file.\n",
    "# 1. open you file.\n",
    "# 2. use python code read -- to see the content of the file."
   ]
  },
  {
   "cell_type": "code",
   "execution_count": 13,
   "id": "c52ea645-6651-4939-b1d8-26a97e4f4165",
   "metadata": {},
   "outputs": [],
   "source": [
    "# question\n",
    "f = open('myfile.txt', 'w')\n",
    "lines = ['line1', 'line2', 'line3']\n",
    "for line in lines:\n",
    "    f.write(line + '\\n')\n",
    "f.close()"
   ]
  },
  {
   "cell_type": "markdown",
   "id": "c5da52f8-ded1-4b4f-8ea5-99caf2a9d618",
   "metadata": {},
   "source": [
    "# with statement"
   ]
  },
  {
   "cell_type": "code",
   "execution_count": 22,
   "id": "53251cc3-f767-45e9-8d1a-9d0ec0eb1a4e",
   "metadata": {},
   "outputs": [
    {
     "name": "stdout",
     "output_type": "stream",
     "text": [
      "line1\n",
      "line2\n",
      "line3\n",
      "\n"
     ]
    }
   ],
   "source": [
    "with open('myfile.txt', 'r') as f:\n",
    "    print(f.read())"
   ]
  },
  {
   "cell_type": "markdown",
   "id": "fb80e0a7-5ead-4826-a168-378d2cadbd1c",
   "metadata": {},
   "source": [
    "# readlines() method"
   ]
  },
  {
   "cell_type": "code",
   "execution_count": 38,
   "id": "9c57cad6-6f6c-4e56-80d5-6cf1867c2b63",
   "metadata": {},
   "outputs": [],
   "source": [
    "# create/write a file\n",
    "f = open('myfile.txt', 'w')\n",
    "f.write(\"\\nHello world!\\nThis is a python course\\nThis is a awesome python course\")\n",
    "f.close()"
   ]
  },
  {
   "cell_type": "code",
   "execution_count": 39,
   "id": "b40f789c-b8e0-416e-88f7-c36065180de5",
   "metadata": {},
   "outputs": [
    {
     "data": {
      "text/plain": [
       "'\\nHello world!\\nThis is a python course\\nThis is a awesome python course'"
      ]
     },
     "execution_count": 39,
     "metadata": {},
     "output_type": "execute_result"
    }
   ],
   "source": [
    "# read \n",
    "f = open('myfile.txt', 'r')\n",
    "f.read()\n"
   ]
  },
  {
   "cell_type": "code",
   "execution_count": 41,
   "id": "3440baec-6de5-4be6-b4c4-19b962fd9bdf",
   "metadata": {},
   "outputs": [
    {
     "name": "stdout",
     "output_type": "stream",
     "text": [
      "\n",
      "\n",
      "Hello world!\n",
      "\n",
      "This is a python course\n",
      "\n",
      "This is a awesome python course\n",
      "\n",
      " <class 'str'>\n"
     ]
    }
   ],
   "source": [
    "# readlines\n",
    "f = open('myfile.txt', 'r')\n",
    "while True:\n",
    "    line = f.readline()\n",
    "    print(line)\n",
    "    if not line:\n",
    "        print(line, type(line))\n",
    "        break"
   ]
  },
  {
   "cell_type": "markdown",
   "id": "6508e29f-05b4-4bb5-8a83-a1a99545b614",
   "metadata": {},
   "source": [
    "# code 2 readlines() method"
   ]
  },
  {
   "cell_type": "code",
   "execution_count": 104,
   "id": "1006c95a-de5d-489b-bf23-a4267eea8c56",
   "metadata": {},
   "outputs": [
    {
     "name": "stdout",
     "output_type": "stream",
     "text": [
      "28\n"
     ]
    }
   ],
   "source": [
    "f = open('myfile2.txt', 'w')\n",
    "text = f.write('56,45,67 \\n12,34,63 \\n13,64,23')\n",
    "print(text)\n",
    "f.close()"
   ]
  },
  {
   "cell_type": "code",
   "execution_count": 105,
   "id": "f554d164-770f-4238-adb8-0ba4217d71c7",
   "metadata": {},
   "outputs": [
    {
     "name": "stdout",
     "output_type": "stream",
     "text": [
      "56,45,67 \n",
      "12,34,63 \n",
      "13,64,23\n"
     ]
    }
   ],
   "source": [
    "f = open('myfile2.txt', 'r')\n",
    "content = f.read()\n",
    "print(content)\n",
    "f.close()"
   ]
  },
  {
   "cell_type": "code",
   "execution_count": 106,
   "id": "fe1c6abf-2903-461f-9c31-333c089ef51e",
   "metadata": {},
   "outputs": [
    {
     "name": "stdout",
     "output_type": "stream",
     "text": [
      "56,45,67 \n",
      "\n",
      "12,34,63 \n",
      "\n",
      "13,64,23\n",
      "\n",
      " <class 'str'>\n"
     ]
    }
   ],
   "source": [
    "# readline\n",
    "f = open('myfile2.txt', 'r')\n",
    "while True:\n",
    "    line = f.readline()\n",
    "    print(line)\n",
    "    if not line:\n",
    "        print(line, type(line))\n",
    "        break"
   ]
  },
  {
   "cell_type": "code",
   "execution_count": 107,
   "id": "1edb5d88-e40d-4c61-ae6c-5f3b5227bb69",
   "metadata": {},
   "outputs": [
    {
     "name": "stdout",
     "output_type": "stream",
     "text": [
      "Marks of student 1 in Maths is: 56\n",
      "Marks of student 1 in Maths is: 45\n",
      "Marks of student 1 in Maths is: 67 \n",
      "\n",
      "56,45,67 \n",
      "\n",
      "Marks of student 2 in Maths is: 12\n",
      "Marks of student 2 in Maths is: 34\n",
      "Marks of student 2 in Maths is: 63 \n",
      "\n",
      "12,34,63 \n",
      "\n",
      "Marks of student 3 in Maths is: 13\n",
      "Marks of student 3 in Maths is: 64\n",
      "Marks of student 3 in Maths is: 23\n",
      "13,64,23\n"
     ]
    }
   ],
   "source": [
    "f = open('myfile2.txt', 'r')\n",
    "i = 0\n",
    "while True:\n",
    "    i = i + 1\n",
    "    line = f.readline()\n",
    "    if not line:\n",
    "        break\n",
    "    \n",
    "    m1 = line.split(\",\")[0]\n",
    "    m2 = line.split(\",\")[1]\n",
    "    m3 = line.split(\",\")[2]\n",
    "    print(f\"Marks of student {i} in Maths is: {m1}\")\n",
    "    print(f\"Marks of student {i} in Maths is: {m2}\")\n",
    "    print(f\"Marks of student {i} in Maths is: {m3}\")\n",
    "\n",
    "    print(line)\n"
   ]
  },
  {
   "cell_type": "code",
   "execution_count": null,
   "id": "9dfe68d5-43d2-4eac-aaa9-4bc13138e6eb",
   "metadata": {},
   "outputs": [],
   "source": []
  },
  {
   "cell_type": "markdown",
   "id": "63ef4ea3-30c0-4cc3-8361-39796f8eef7f",
   "metadata": {},
   "source": [
    "# writelines() method"
   ]
  },
  {
   "cell_type": "code",
   "execution_count": 100,
   "id": "ef44f43c-80bc-480b-85df-39696ad8c86f",
   "metadata": {},
   "outputs": [],
   "source": [
    "# write\n",
    "f = open('myfile.txt', 'w')\n",
    "lines = ['lines1\\n', 'line2\\n', 'line3\\n']\n",
    "f.writelines(lines)\n",
    "f.close()"
   ]
  },
  {
   "cell_type": "code",
   "execution_count": 102,
   "id": "b877ff2f-af9e-4b44-bc76-23ed9f8ef494",
   "metadata": {},
   "outputs": [
    {
     "data": {
      "text/plain": [
       "'lines1\\nline2\\nline3\\n'"
      ]
     },
     "execution_count": 102,
     "metadata": {},
     "output_type": "execute_result"
    }
   ],
   "source": [
    "f = open('myfile.txt', 'r')\n",
    "f.read()"
   ]
  },
  {
   "cell_type": "markdown",
   "id": "afe62b00-7cef-4dce-810e-bebc00dbc6ed",
   "metadata": {},
   "source": [
    "# seek()"
   ]
  },
  {
   "cell_type": "code",
   "execution_count": 1,
   "id": "6dd0299b-ddca-44af-86b7-08528f023c35",
   "metadata": {},
   "outputs": [
    {
     "name": "stdout",
     "output_type": "stream",
     "text": [
      "22\n"
     ]
    }
   ],
   "source": [
    "f = open('file1.txt', 'w')\n",
    "write = f.write('123456789tethelloworld')\n",
    "print(write)\n",
    "f.close()"
   ]
  },
  {
   "cell_type": "code",
   "execution_count": 3,
   "id": "8e304e32-c061-47c6-a9b3-73a3be3e3d18",
   "metadata": {},
   "outputs": [
    {
     "name": "stdout",
     "output_type": "stream",
     "text": [
      "<class '_io.TextIOWrapper'>\n",
      "ethel\n"
     ]
    }
   ],
   "source": [
    "with open('file1.txt', 'r') as f:\n",
    "    print(type(f))\n",
    "    f.seek(10)\n",
    "    data = f.read(5)\n",
    "    print(data)"
   ]
  },
  {
   "cell_type": "markdown",
   "id": "be0b2ac0-e4ac-4b26-b0d2-44defff64dfa",
   "metadata": {},
   "source": [
    "# tell()"
   ]
  },
  {
   "cell_type": "code",
   "execution_count": 4,
   "id": "91164414-38c5-40d7-87eb-cb5b07aef5ea",
   "metadata": {},
   "outputs": [
    {
     "name": "stdout",
     "output_type": "stream",
     "text": [
      "<class '_io.TextIOWrapper'>\n",
      "10\n",
      "ethel\n"
     ]
    }
   ],
   "source": [
    "with open('file1.txt', 'r') as f:\n",
    "    print(type(f))\n",
    "    f.seek(10)\n",
    "    print(f.tell())\n",
    "    data = f.read(5)\n",
    "    print(data)"
   ]
  },
  {
   "cell_type": "markdown",
   "id": "c142ad52-81f6-45cd-8da0-dbd3556ad0ca",
   "metadata": {},
   "source": [
    "# truncate()"
   ]
  },
  {
   "cell_type": "code",
   "execution_count": 5,
   "id": "22148e4a-44cb-47bc-810a-90d46ae07e7d",
   "metadata": {},
   "outputs": [
    {
     "name": "stdout",
     "output_type": "stream",
     "text": [
      "Hello\n"
     ]
    }
   ],
   "source": [
    "with open('sample.txt', 'w') as f:\n",
    "    f.write('Hello World!')\n",
    "    f.truncate(5)\n",
    "\n",
    "with open('sample.txt', 'r') as f:\n",
    "    print(f.read())"
   ]
  },
  {
   "cell_type": "code",
   "execution_count": 6,
   "id": "a41ed59a-6fcb-4d07-83a4-55dc0d251a98",
   "metadata": {},
   "outputs": [
    {
     "name": "stdout",
     "output_type": "stream",
     "text": [
      "Hello World3!\n"
     ]
    }
   ],
   "source": [
    "with open('sample.txt', 'w') as f:\n",
    "    f.write('Hello World3!')\n",
    "    # f.truncate\n",
    "with open('sample.txt','r') as f:\n",
    "    print(f.read())"
   ]
  },
  {
   "cell_type": "code",
   "execution_count": null,
   "id": "11dfead3-ddb1-4542-a0f3-866e90770409",
   "metadata": {},
   "outputs": [],
   "source": []
  }
 ],
 "metadata": {
  "kernelspec": {
   "display_name": "Python 3 (ipykernel)",
   "language": "python",
   "name": "python3"
  },
  "language_info": {
   "codemirror_mode": {
    "name": "ipython",
    "version": 3
   },
   "file_extension": ".py",
   "mimetype": "text/x-python",
   "name": "python",
   "nbconvert_exporter": "python",
   "pygments_lexer": "ipython3",
   "version": "3.11.4"
  }
 },
 "nbformat": 4,
 "nbformat_minor": 5
}
