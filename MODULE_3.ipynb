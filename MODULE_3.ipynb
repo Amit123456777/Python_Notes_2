{
 "cells": [
  {
   "cell_type": "code",
   "execution_count": 3,
   "id": "fafb6e7b-3adb-435f-929c-8f8de1d32fc9",
   "metadata": {},
   "outputs": [
    {
     "name": "stdout",
     "output_type": "stream",
     "text": [
      "can not vote\n"
     ]
    }
   ],
   "source": [
    "1. age = 18\n",
    "if age>18:\n",
    "    print(\"can vote\")\n",
    "else:\n",
    "    print(\"can not vote\")"
   ]
  },
  {
   "cell_type": "code",
   "execution_count": 5,
   "id": "12e6077b-d4b8-4cef-bdb6-6b3869e20407",
   "metadata": {},
   "outputs": [
    {
     "name": "stdin",
     "output_type": "stream",
     "text": [
      "enter the number:  2\n"
     ]
    },
    {
     "name": "stdout",
     "output_type": "stream",
     "text": [
      "number is even\n"
     ]
    }
   ],
   "source": [
    "# 2 taking input from user and show the number is even or odd.\n",
    "num = int(input(\"enter the number: \"))\n",
    "if num % 2==0:\n",
    "    print(\"number is even\")\n",
    "elif num & 2 != 0:\n",
    "    print(\"number is odd\")\n",
    "else:\n",
    "    print(\"Invalid Input\")"
   ]
  },
  {
   "cell_type": "code",
   "execution_count": 8,
   "id": "3c450a3a-22cf-4e0e-b0e2-5aa89956786f",
   "metadata": {},
   "outputs": [
    {
     "name": "stdout",
     "output_type": "stream",
     "text": [
      "a is greater than b:  10\n"
     ]
    }
   ],
   "source": [
    "# 3 find the maximum of two numbers\n",
    "a = 10\n",
    "b = 7\n",
    "if a>b:\n",
    "    print(\"a is greater than b: \",a)\n",
    "else:\n",
    "    print(\"b is greater than a: \",b)"
   ]
  },
  {
   "cell_type": "code",
   "execution_count": 9,
   "id": "bc770599-1b7e-48f6-9b15-a49fa755633e",
   "metadata": {},
   "outputs": [
    {
     "name": "stdin",
     "output_type": "stream",
     "text": [
      "enter the number:  10\n",
      "enter the number:  7\n"
     ]
    },
    {
     "name": "stdout",
     "output_type": "stream",
     "text": [
      "a is greater than b:  10\n"
     ]
    }
   ],
   "source": [
    "# find the maximum of two numbers using input\n",
    "a = int(input(\"enter the number: \"))\n",
    "b = int(input(\"enter the number: \"))\n",
    "if a>b:\n",
    "    print(\"a is greater than b: \",a)\n",
    "else:\n",
    "    print(\"b is greater than a: \",b)"
   ]
  },
  {
   "cell_type": "code",
   "execution_count": 10,
   "id": "a2457554-f22a-4f31-bfe2-b78aca6e5570",
   "metadata": {},
   "outputs": [],
   "source": []
  },
  {
   "cell_type": "code",
   "execution_count": 14,
   "id": "bbb469ef-a482-44e0-b322-a149ea35fb1e",
   "metadata": {},
   "outputs": [
    {
     "name": "stdout",
     "output_type": "stream",
     "text": [
      "yes\n"
     ]
    }
   ],
   "source": [
    "# if else\n",
    "word = \"a\"\n",
    "if word == \"a\":\n",
    "    print(\"yes\")\n",
    "else:\n",
    "    print(\"no\")"
   ]
  },
  {
   "cell_type": "code",
   "execution_count": 16,
   "id": "6b12f9a8-fb5e-4237-9d04-7a34dd45e62c",
   "metadata": {},
   "outputs": [
    {
     "name": "stdout",
     "output_type": "stream",
     "text": [
      "number is greater than 5\n"
     ]
    }
   ],
   "source": [
    "# if elif else\n",
    "# write a program to calculate the number is greater than, equal or \n",
    "# less than to the given input.\n",
    "num = 7\n",
    "if num>5:\n",
    "    print(\"number is greater than 5\")\n",
    "elif num == 5:\n",
    "    print(\"number is equal to 5\")\n",
    "else:\n",
    "    print(\"number is less than 5\")"
   ]
  },
  {
   "cell_type": "code",
   "execution_count": 26,
   "id": "397028b5-6faf-447c-9853-b0699cb04f22",
   "metadata": {},
   "outputs": [
    {
     "name": "stdin",
     "output_type": "stream",
     "text": [
      "enter your pocket money 100\n"
     ]
    },
    {
     "name": "stdout",
     "output_type": "stream",
     "text": [
      "burger only\n"
     ]
    }
   ],
   "source": [
    "# nested if\n",
    "# Write a program that determines food choices based on pocket money.\n",
    "\n",
    "pocketMoney = int(input(\"enter your pocket money\"))\n",
    "if pocketMoney > 400:\n",
    "    print(\"pizza\")\n",
    "    if pocketMoney >500:\n",
    "        print(\"pizza + burger\")\n",
    "        if pocketMoney > 700:\n",
    "            print(\"pizza + burger + coldrink\")\n",
    "elif (pocketMoney > 200) and (pocketMoney < 400):\n",
    "    print(\"pizza only\")\n",
    "else:\n",
    "    print(\"burger only\")\n",
    "\n",
    "# in this way we can use many if statements in each code."
   ]
  },
  {
   "cell_type": "markdown",
   "id": "bc562c44-ac22-47b2-bff2-a5283859bfeb",
   "metadata": {},
   "source": [
    "# CALCULATOR"
   ]
  },
  {
   "cell_type": "code",
   "execution_count": 29,
   "id": "72404b43-a851-46d8-86b5-8c5c4d3cbb41",
   "metadata": {},
   "outputs": [
    {
     "name": "stdin",
     "output_type": "stream",
     "text": [
      "Enter the first number:  4\n",
      "Enter the second number:  5\n"
     ]
    },
    {
     "name": "stdout",
     "output_type": "stream",
     "text": [
      "----Press keys for operator (+,-,*,/,%,//,**)----\n"
     ]
    },
    {
     "name": "stdin",
     "output_type": "stream",
     "text": [
      "Enter operator :  +\n"
     ]
    },
    {
     "name": "stdout",
     "output_type": "stream",
     "text": [
      "9\n"
     ]
    }
   ],
   "source": [
    "# 4 VERY IMPORTANT\n",
    "\n",
    "\n",
    "# write a basic calculator application using python.\n",
    "\n",
    "first = input(\"Enter the first number: \")\n",
    "second = input(\"Enter the second number: \")\n",
    "first = int(first)\n",
    "second = int(second)\n",
    "print(\"----Press keys for operator (+,-,*,/,%,//,**)----\")\n",
    "operator = input(\"Enter operator : \")\n",
    "\n",
    "if operator == \"+\":\n",
    "    print(first + second)\n",
    "elif operator == \"-\":\n",
    "    print(first - second)\n",
    "elif operator == \"*\":\n",
    "    print(first - second)\n",
    "elif operator == \"*\":\n",
    "    print(first - second)\n",
    "elif operator == \"/\":\n",
    "    print(first / second)\n",
    "elif operator == \"%\":\n",
    "    print(first - second)\n",
    "elif operator == \"%\":\n",
    "    print(first - second)\n",
    "elif operator == \"//\":\n",
    "    print(first // second)\n",
    "elif operator == \"**\":\n",
    "    print(first ** second)\n",
    "else:\n",
    "    print(\"INVALID OPERATOR\")"
   ]
  },
  {
   "cell_type": "code",
   "execution_count": 31,
   "id": "57144a7d-83c2-4a08-a5d6-98caaefd4dd4",
   "metadata": {},
   "outputs": [
    {
     "name": "stdin",
     "output_type": "stream",
     "text": [
      "Enter the weather condition:  rainy\n"
     ]
    },
    {
     "name": "stdout",
     "output_type": "stream",
     "text": [
      "Wear a raincoat.\n"
     ]
    }
   ],
   "source": [
    "weather = input(\"Enter the weather condition: \").lower()\n",
    "if weather == \"rainy\":\n",
    "    print(\"Wear a raincoat.\")\n",
    "elif weather == \"sunny\":\n",
    "    print(\"Wear sunscreen and sunglasses.\")\n",
    "else:\n",
    "    print(\"Wear appropriate clothing for the weather.\")\n",
    "\n",
    "\n",
    "# input(\"Enter the weather condition: \")\n",
    "# by defaul the input function is str. which is string. but we can also write str here.\n",
    "#     for example\n",
    "# str(input(\"Enter the weather condition: \")) "
   ]
  },
  {
   "cell_type": "code",
   "execution_count": 34,
   "id": "e7526d37-f5be-44d1-a009-0b64231ac6d0",
   "metadata": {},
   "outputs": [
    {
     "name": "stdin",
     "output_type": "stream",
     "text": [
      "Enter a year:  1996\n"
     ]
    },
    {
     "name": "stdout",
     "output_type": "stream",
     "text": [
      "1996 is a leap year.\n"
     ]
    }
   ],
   "source": [
    "# logical operator question\n",
    "year = int(input(\"Enter a year: \"))\n",
    "\n",
    "if (year % 4 == 0 and year % 100 != 0) or (year % 400 == 0):\n",
    "    print(year, \"is a leap year.\")\n",
    "else:\n",
    "    print(year, \"is not a leap year.\")\n",
    "\n",
    "# 1996 leap year"
   ]
  },
  {
   "cell_type": "markdown",
   "id": "09e65097-713f-4629-91ab-1e883de90288",
   "metadata": {},
   "source": [
    "# calculate percentage "
   ]
  },
  {
   "cell_type": "code",
   "execution_count": 39,
   "id": "a84a6408-905b-4e73-80be-5049cf252841",
   "metadata": {},
   "outputs": [
    {
     "name": "stdin",
     "output_type": "stream",
     "text": [
      "marks a:  99\n",
      "marks b:  98\n",
      "marks c:  99\n",
      "marks d:  97\n",
      "marks e:  96\n"
     ]
    },
    {
     "name": "stdout",
     "output_type": "stream",
     "text": [
      "97.8\n",
      "A+\n"
     ]
    }
   ],
   "source": [
    "# \"Grade Calculator and Classifier.\" It takes input marks for five subjects, \n",
    "# calculates the percentage, and then assigns a grade based on the percentage obtained.\n",
    "\n",
    "a = float(input(\"marks a: \"))\n",
    "b = float(input(\"marks b: \"))\n",
    "c = float(input(\"marks c: \"))\n",
    "d = float(input(\"marks d: \"))\n",
    "e = float(input(\"marks e: \"))\n",
    "\n",
    "percentage = (a+b+c+d+e) / 500 * 100\n",
    "print(percentage)\n",
    "\n",
    "if percentage > 95:\n",
    "    print(\"A+\")\n",
    "elif percentage > 90:\n",
    "    print(\"A\")\n",
    "elif percentage > 80:\n",
    "    print(\"B+\")\n",
    "elif percentage > 70:\n",
    "    print(\"B\")\n",
    "elif percentage > 70:\n",
    "    print(\"C+\")\n",
    "elif percentage > 50:\n",
    "    print(\"C\")\n",
    "elif percentage > 40:\n",
    "    print(\"D+\")\n",
    "elif percentage > 33:\n",
    "    print(\"F\")\n",
    "else:\n",
    "    print(\"INVALID INPUT\")"
   ]
  },
  {
   "cell_type": "markdown",
   "id": "d4c879d5-9e7f-493d-938b-278cf26523d7",
   "metadata": {},
   "source": [
    "# for and while loop questions"
   ]
  },
  {
   "cell_type": "code",
   "execution_count": 63,
   "id": "67f8add1-90cc-410d-8b20-44e228ba4da3",
   "metadata": {},
   "outputs": [
    {
     "name": "stdout",
     "output_type": "stream",
     "text": [
      "6\n"
     ]
    }
   ],
   "source": [
    "# calculate the sum of natural numbers using for loop\n",
    "\n",
    "sum = 0\n",
    "for i in range(1,4):\n",
    "    sum = sum + i\n",
    "    # i += 1\n",
    "print(sum)"
   ]
  },
  {
   "cell_type": "code",
   "execution_count": null,
   "id": "de8f4d33-a5e2-43bb-8a2e-a0dac3dbb8d0",
   "metadata": {},
   "outputs": [],
   "source": [
    "# calculate the product of natural numbers using for loop"
   ]
  },
  {
   "cell_type": "code",
   "execution_count": 64,
   "id": "53890943-9efb-4b0f-9aec-0d1968ebbf43",
   "metadata": {},
   "outputs": [
    {
     "name": "stdout",
     "output_type": "stream",
     "text": [
      "24\n"
     ]
    }
   ],
   "source": [
    "product = 1\n",
    "for i in range(1,5):\n",
    "    product = product * i\n",
    "print(product)"
   ]
  },
  {
   "cell_type": "code",
   "execution_count": 65,
   "id": "f2677bab-ad38-45f7-9fcc-165cf56102cf",
   "metadata": {},
   "outputs": [
    {
     "name": "stdout",
     "output_type": "stream",
     "text": [
      "15\n"
     ]
    }
   ],
   "source": [
    "# calculate the sum of natural numbers using while loop\n",
    "i = 1\n",
    "sum = 0\n",
    "while i<=5:\n",
    "    sum = sum + i\n",
    "    i = i + 1\n",
    "print(sum)"
   ]
  },
  {
   "cell_type": "code",
   "execution_count": 1,
   "id": "eb7020b4-21e6-4c59-b604-4d106d127afc",
   "metadata": {},
   "outputs": [
    {
     "name": "stdout",
     "output_type": "stream",
     "text": [
      "120\n"
     ]
    }
   ],
   "source": [
    "i = 1\n",
    "product = 1\n",
    "while i<=5:\n",
    "    product = product * i\n",
    "    i += 1\n",
    "print(product)"
   ]
  },
  {
   "cell_type": "code",
   "execution_count": 3,
   "id": "9ec45135-56db-4720-ac6c-207d68e46916",
   "metadata": {},
   "outputs": [
    {
     "name": "stdin",
     "output_type": "stream",
     "text": [
      "enter the number:  5\n"
     ]
    },
    {
     "name": "stdout",
     "output_type": "stream",
     "text": [
      "120\n"
     ]
    }
   ],
   "source": [
    "# using input\n",
    "\n",
    "i = 1\n",
    "num = int(input(\"enter the number: \"))\n",
    "product = 1\n",
    "while i<=num:\n",
    "    product = product * i\n",
    "    i += 1\n",
    "print(product)"
   ]
  },
  {
   "cell_type": "code",
   "execution_count": null,
   "id": "895cceb0-3cf8-4708-a7b7-d5d4018298e7",
   "metadata": {},
   "outputs": [],
   "source": []
  },
  {
   "cell_type": "code",
   "execution_count": null,
   "id": "d5c0a7bc-e4e5-40fd-833c-e0075fcdb326",
   "metadata": {},
   "outputs": [],
   "source": []
  },
  {
   "cell_type": "code",
   "execution_count": null,
   "id": "c40462dd-8fd1-48eb-8113-d1106804a2cf",
   "metadata": {},
   "outputs": [],
   "source": []
  },
  {
   "cell_type": "code",
   "execution_count": null,
   "id": "89d922b3-a16a-49d8-a07f-ef5750484167",
   "metadata": {},
   "outputs": [],
   "source": []
  },
  {
   "cell_type": "code",
   "execution_count": 44,
   "id": "fd27da55-f268-4b54-93a0-c0dc9ab08b81",
   "metadata": {},
   "outputs": [
    {
     "name": "stdout",
     "output_type": "stream",
     "text": [
      "*\n",
      "**\n",
      "***\n",
      "****\n",
      "*****\n"
     ]
    }
   ],
   "source": [
    "# STAR PATTERNS (INTERVIEW QUESTION)\n",
    "i = 1\n",
    "while i <= 5:\n",
    "    print(i * \"*\")\n",
    "    i = i + 1 # this is called increment\n",
    "# also write i += 1"
   ]
  },
  {
   "cell_type": "code",
   "execution_count": 45,
   "id": "6271b4af-bca1-4493-af20-28933b8d50a1",
   "metadata": {},
   "outputs": [
    {
     "name": "stdout",
     "output_type": "stream",
     "text": [
      "hello\n",
      "hellohello\n",
      "hellohellohello\n",
      "hellohellohellohello\n",
      "hellohellohellohellohello\n"
     ]
    }
   ],
   "source": [
    "i = 1\n",
    "while i <= 5:\n",
    "    print(i * \"hello\")\n",
    "    i = i + 1"
   ]
  },
  {
   "cell_type": "code",
   "execution_count": null,
   "id": "b18eacab-2728-464a-a368-baeacbc43b10",
   "metadata": {},
   "outputs": [],
   "source": []
  },
  {
   "cell_type": "code",
   "execution_count": null,
   "id": "2f7110dc-abbe-473f-b894-d726ba38270e",
   "metadata": {},
   "outputs": [],
   "source": []
  },
  {
   "cell_type": "code",
   "execution_count": null,
   "id": "6f352efd-f3b9-4b9b-886d-2284f964a51a",
   "metadata": {},
   "outputs": [],
   "source": []
  },
  {
   "cell_type": "code",
   "execution_count": null,
   "id": "e8034865-bcb4-42c3-b9f9-64d8a86c3e0c",
   "metadata": {},
   "outputs": [],
   "source": []
  },
  {
   "cell_type": "code",
   "execution_count": null,
   "id": "399f6761-3175-4e20-8ae1-6305186943b4",
   "metadata": {},
   "outputs": [],
   "source": []
  },
  {
   "cell_type": "code",
   "execution_count": null,
   "id": "dd32965b-b05f-44b4-9c54-23b893e63a7e",
   "metadata": {},
   "outputs": [],
   "source": []
  },
  {
   "cell_type": "code",
   "execution_count": null,
   "id": "0144bb58-ea79-4aa9-be52-b3cb6d437ce3",
   "metadata": {},
   "outputs": [],
   "source": []
  },
  {
   "cell_type": "code",
   "execution_count": null,
   "id": "b5a873ff-e5bb-4eda-a45a-784fd58082ef",
   "metadata": {},
   "outputs": [],
   "source": []
  },
  {
   "cell_type": "code",
   "execution_count": null,
   "id": "3c641296-91f3-42f6-aac3-521075d141b2",
   "metadata": {},
   "outputs": [],
   "source": []
  },
  {
   "cell_type": "code",
   "execution_count": 41,
   "id": "010452a0-04ca-46a6-ab3b-c2475c27c144",
   "metadata": {},
   "outputs": [
    {
     "name": "stdout",
     "output_type": "stream",
     "text": [
      "ram\n",
      "shyam\n",
      "kishan\n"
     ]
    }
   ],
   "source": [
    "# BREAK \n",
    "\n",
    "\n",
    "students = [\"ram\", \"shyam\", \"kishan\", \"radha\", \"radhika\"]\n",
    "for student in students:\n",
    "    if (student == \"radha\"):\n",
    "        break\n",
    "    print(student)\n"
   ]
  },
  {
   "cell_type": "code",
   "execution_count": 42,
   "id": "eb4f171e-035a-4f14-84a3-6253d91cf5c6",
   "metadata": {},
   "outputs": [
    {
     "name": "stdout",
     "output_type": "stream",
     "text": [
      "ram\n",
      "shyam\n",
      "radha\n",
      "radhika\n"
     ]
    }
   ],
   "source": [
    "# continue\n",
    "for student in students:\n",
    "    if (student == \"kishan\"):\n",
    "        continue\n",
    "    print(student)"
   ]
  },
  {
   "cell_type": "code",
   "execution_count": null,
   "id": "1dce65ca-a03a-43de-b705-1518c21656f4",
   "metadata": {},
   "outputs": [],
   "source": []
  }
 ],
 "metadata": {
  "kernelspec": {
   "display_name": "Python 3 (ipykernel)",
   "language": "python",
   "name": "python3"
  },
  "language_info": {
   "codemirror_mode": {
    "name": "ipython",
    "version": 3
   },
   "file_extension": ".py",
   "mimetype": "text/x-python",
   "name": "python",
   "nbconvert_exporter": "python",
   "pygments_lexer": "ipython3",
   "version": "3.11.4"
  }
 },
 "nbformat": 4,
 "nbformat_minor": 5
}
