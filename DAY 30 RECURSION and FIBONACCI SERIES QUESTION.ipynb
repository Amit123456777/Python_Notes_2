{
 "cells": [
  {
   "cell_type": "code",
   "execution_count": 1,
   "id": "25180c10",
   "metadata": {},
   "outputs": [],
   "source": [
    "# RECURSION - recursion basically fuctions hi hote hai but, jb hm\n",
    "# function ke andar use same fuction ko call krte hai to wo recursion hota hai. "
   ]
  },
  {
   "cell_type": "code",
   "execution_count": 4,
   "id": "e8f75b84",
   "metadata": {},
   "outputs": [
    {
     "name": "stdout",
     "output_type": "stream",
     "text": [
      "120\n"
     ]
    }
   ],
   "source": [
    "def factorial(n):\n",
    "    if (n==0 or n==1):\n",
    "        return 1\n",
    "    else:\n",
    "        return n * factorial(n-1)\n",
    "\n",
    "print(factorial(5))"
   ]
  },
  {
   "cell_type": "code",
   "execution_count": 10,
   "id": "7d1e00fb",
   "metadata": {},
   "outputs": [
    {
     "name": "stdout",
     "output_type": "stream",
     "text": [
      "3\n",
      "3\n"
     ]
    }
   ],
   "source": [
    "# fibonacci series using recursion\n",
    "# my logic\n",
    "def fiborecur(n):\n",
    "    if (n==1):      #if n==1 then 1, elif n==0 then 0\n",
    "        return 1\n",
    "    elif (n == 0):\n",
    "        return 0\n",
    "    else:\n",
    "        return fiborecur(n-1)+fiborecur(n-2)\n",
    "print(fiborecur(4))\n",
    "\n",
    "\n",
    "# Fibonacci series\n",
    "# chatgpt logic\n",
    "def fiborecur(n):\n",
    "    if n == 1 or n == 0:\n",
    "        return n\n",
    "    else:\n",
    "        return fiborecur(n-1) + fiborecur(n-2)\n",
    "\n",
    "print(fiborecur(4))\n"
   ]
  },
  {
   "cell_type": "code",
   "execution_count": 7,
   "id": "6bcee191",
   "metadata": {},
   "outputs": [
    {
     "name": "stdout",
     "output_type": "stream",
     "text": [
      "enter the number5\n",
      "5\n"
     ]
    }
   ],
   "source": [
    "# we can also take input from user (write code with input in exam is good)\n",
    "n = int(input(\"enter the number\"))\n",
    "def fs(n):\n",
    "    if (n==1):      #if n==1 then 1, elif n==0 then 0\n",
    "        return 1\n",
    "    elif (n == 0):\n",
    "        return 0\n",
    "    else:\n",
    "        return fs(n-1)+fs(n-2)\n",
    "print(fs(n))"
   ]
  },
  {
   "cell_type": "code",
   "execution_count": 4,
   "id": "4a920e67",
   "metadata": {},
   "outputs": [
    {
     "name": "stdout",
     "output_type": "stream",
     "text": [
      "enter the 1st number : 1\n",
      "enter the 2nd number : 2\n",
      "enter the operator : +\n",
      "3\n"
     ]
    }
   ],
   "source": [
    "# calculator without def\n",
    "first = int(input(\"enter the 1st number : \"))\n",
    "second = int(input(\"enter the 2nd number : \"))\n",
    "operator = (input(\"enter the operator : \"))\n",
    "\n",
    "if operator ==  '+':\n",
    "    print(first + second)\n",
    "elif operator ==  '-':\n",
    "    print(first - second)\n",
    "elif operator ==  '*':\n",
    "    print(first * second)\n",
    "elif operator ==  '/':\n",
    "    print(first / second)\n",
    "else:\n",
    "    print(\"INVALID OPERATORS\")\n"
   ]
  },
  {
   "cell_type": "code",
   "execution_count": 9,
   "id": "0e1b980b",
   "metadata": {},
   "outputs": [
    {
     "name": "stdout",
     "output_type": "stream",
     "text": [
      "enter the 1st number : 4\n",
      "enter the 2nd number : 3\n",
      "enter the operator  : +\n",
      "7\n"
     ]
    }
   ],
   "source": [
    "# calculator with def\n",
    "first = int(input(\"enter the 1st number : \"))\n",
    "second = int(input(\"enter the 2nd number : \"))\n",
    "operator = (input(\"enter the operator  : \"))\n",
    "def calculator(first,second):\n",
    "    if operator ==  '+':\n",
    "        print(first + second)\n",
    "    elif operator ==  '-':\n",
    "        print(first - second)\n",
    "    elif operator ==  '*':\n",
    "        print(first * second)\n",
    "    elif operator ==  '/':\n",
    "        print(first / second)\n",
    "    else:\n",
    "        print(\"INVALID OPERATORS\")\n",
    "        \n",
    "calculator(first,second)"
   ]
  },
  {
   "cell_type": "code",
   "execution_count": 38,
   "id": "e37ef13b",
   "metadata": {},
   "outputs": [
    {
     "ename": "SyntaxError",
     "evalue": "invalid syntax (2626090452.py, line 18)",
     "output_type": "error",
     "traceback": [
      "\u001b[1;36m  Cell \u001b[1;32mIn[38], line 18\u001b[1;36m\u001b[0m\n\u001b[1;33m    while ==  True:\u001b[0m\n\u001b[1;37m          ^\u001b[0m\n\u001b[1;31mSyntaxError\u001b[0m\u001b[1;31m:\u001b[0m invalid syntax\n"
     ]
    }
   ],
   "source": [
    "print(\"WELCOME TO SCIENTIFIC CALCULATOR ! \")\n",
    "\n",
    "def operators():\n",
    "    print(\"add\")\n",
    "    print(\"subtract\")\n",
    "    print(\"multiply\")\n",
    "    print(\"divide\")\n",
    "    print(\"exponent\")\n",
    "    print(\"modulo\")\n",
    "# calling function operator\n",
    "operators()\n",
    "\n",
    "\n",
    "first = int(input(\"enter the 1st number : \"))\n",
    "second = int(input(\"enter the 2nd number : \"))\n",
    "operator = (input(\"enter the operator  : \"))\n",
    "\n",
    "while ==  True:\n",
    "    calulator(first,second)\n",
    "# while == True\n",
    "def calculator(first,second):\n",
    "    if operator ==  '+':\n",
    "        print(first + second)\n",
    "    elif operator ==  '-':\n",
    "        print(first - second)\n",
    "    elif operator ==  '*':\n",
    "        print(first * second)\n",
    "    elif operator ==  '/':\n",
    "        print(first / second)\n",
    "#     else: \n",
    "\n",
    "        \n",
    "calculator(first,second)"
   ]
  },
  {
   "cell_type": "code",
   "execution_count": null,
   "id": "2847da98",
   "metadata": {},
   "outputs": [],
   "source": []
  },
  {
   "cell_type": "code",
   "execution_count": 1,
   "id": "5cbfb9b3",
   "metadata": {},
   "outputs": [
    {
     "name": "stdout",
     "output_type": "stream",
     "text": [
      "3\n"
     ]
    }
   ],
   "source": [
    "# fibonacci series using recursion\n",
    "\n",
    "def fiborecur(n):\n",
    "    if (n==1):      #if n==1 then 1, elif n==0 then 0\n",
    "        return 1\n",
    "    elif (n == 0):\n",
    "        return 0\n",
    "    else:\n",
    "        return fiborecur(n-1)+fiborecur(n-2)\n",
    "print(fiborecur(4))"
   ]
  },
  {
   "cell_type": "code",
   "execution_count": null,
   "id": "807934ea-a3f0-4711-a0ba-fc99836f671b",
   "metadata": {},
   "outputs": [],
   "source": []
  },
  {
   "cell_type": "code",
   "execution_count": null,
   "id": "e57dea87-c837-41a9-8afe-b2799b8d6974",
   "metadata": {},
   "outputs": [],
   "source": [
    "x for x in range"
   ]
  }
 ],
 "metadata": {
  "kernelspec": {
   "display_name": "Python 3 (ipykernel)",
   "language": "python",
   "name": "python3"
  },
  "language_info": {
   "codemirror_mode": {
    "name": "ipython",
    "version": 3
   },
   "file_extension": ".py",
   "mimetype": "text/x-python",
   "name": "python",
   "nbconvert_exporter": "python",
   "pygments_lexer": "ipython3",
   "version": "3.11.4"
  }
 },
 "nbformat": 4,
 "nbformat_minor": 5
}
