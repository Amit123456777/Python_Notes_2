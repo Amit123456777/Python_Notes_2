{
 "cells": [
  {
   "cell_type": "code",
   "execution_count": 1,
   "id": "4370702a",
   "metadata": {},
   "outputs": [],
   "source": [
    "# list (imp.)\n",
    "# multiple items in single variable is called list."
   ]
  },
  {
   "cell_type": "code",
   "execution_count": 6,
   "id": "af528a5b",
   "metadata": {
    "scrolled": true
   },
   "outputs": [
    {
     "ename": "SyntaxError",
     "evalue": "invalid syntax (2141214875.py, line 3)",
     "output_type": "error",
     "traceback": [
      "\u001b[1;36m  Cell \u001b[1;32mIn[6], line 3\u001b[1;36m\u001b[0m\n\u001b[1;33m    ordered collection\u001b[0m\n\u001b[1;37m            ^\u001b[0m\n\u001b[1;31mSyntaxError\u001b[0m\u001b[1;31m:\u001b[0m invalid syntax\n"
     ]
    }
   ],
   "source": [
    "#  C M O S D\n",
    "\n",
    "# ordered collection\n",
    "# multiple in single\n",
    "# sq bracket\n",
    "# changeable\n",
    "# different datatypes"
   ]
  },
  {
   "cell_type": "code",
   "execution_count": 7,
   "id": "43e2fb2d",
   "metadata": {},
   "outputs": [
    {
     "name": "stdout",
     "output_type": "stream",
     "text": [
      "[3, 5, 6]\n",
      "<class 'list'>\n"
     ]
    }
   ],
   "source": [
    "# LIST\n",
    "\n",
    "l = [3,5,6]\n",
    "print(l)\n",
    "print(type(l))"
   ]
  },
  {
   "cell_type": "code",
   "execution_count": 10,
   "id": "500321de",
   "metadata": {},
   "outputs": [
    {
     "name": "stdout",
     "output_type": "stream",
     "text": [
      "[3, 5, 6, 'Harry', True]\n",
      "<class 'list'>\n",
      "3\n",
      "5\n",
      "6\n",
      "Harry\n",
      "True\n"
     ]
    }
   ],
   "source": [
    "\n",
    "marks = [3, 5, 6, \"Harry\", True]  # can have diff DT (LIKE STRING ND BOOLEAN HERE,)\n",
    "print(marks)\n",
    "print(type(marks))\n",
    "print(marks[0])\n",
    "print(marks[1])\n",
    "print(marks[2])\n",
    "print(marks[3])\n",
    "print(marks[4])\n",
    "# print(marks[5])"
   ]
  },
  {
   "cell_type": "code",
   "execution_count": 20,
   "id": "9b6abd31",
   "metadata": {},
   "outputs": [
    {
     "name": "stdout",
     "output_type": "stream",
     "text": [
      "12\n",
      "90\n"
     ]
    }
   ],
   "source": [
    "# LIST INDEX\n",
    "# start from 0\n",
    "\n",
    "\n",
    "# last element index will be n-1 (where n is len)\n",
    "a = [1,2,4,454,645,23,256,42,7907,0,54,90]\n",
    "print(len(a))\n",
    "# o/p len = 12 , n-1=11\n",
    "# so last element index will be 11\n",
    "print(a[11])\n",
    "\n",
    "\n",
    "# also, last elements index = -1"
   ]
  },
  {
   "cell_type": "code",
   "execution_count": null,
   "id": "038e02f8",
   "metadata": {},
   "outputs": [],
   "source": []
  },
  {
   "cell_type": "code",
   "execution_count": 22,
   "id": "8e4194dc",
   "metadata": {},
   "outputs": [
    {
     "name": "stdout",
     "output_type": "stream",
     "text": [
      "6\n",
      "6\n",
      "6\n",
      "6\n"
     ]
    }
   ],
   "source": [
    "# NEGATIVE INDEXING\n",
    "\n",
    "# Note: jb bi -ve mile tb convert it into +ve\n",
    "# is case me len lga bi skte hai aur ni bi. but agar -ve wala kr rhe hai to mn me ese hi krna haitaki positivee me ho jay. \n",
    "# \n",
    "marks = [3, 5, 6, \"Harry\", True]\n",
    "print(marks[-3])   # Negative index\n",
    "print(marks[len(marks)-3]) # Positive index\n",
    "print(marks[5-3]) # Positive index\n",
    "print(marks[2])\n"
   ]
  },
  {
   "cell_type": "code",
   "execution_count": 12,
   "id": "501f0f01",
   "metadata": {},
   "outputs": [
    {
     "name": "stdout",
     "output_type": "stream",
     "text": [
      "No\n",
      "Yes\n",
      "Yes\n",
      "No\n",
      "Yes\n",
      "Yes\n"
     ]
    }
   ],
   "source": [
    "# check wheather item in list or not\n",
    "# use \"in\" keyword = to check\n",
    "\n",
    "marks = [3, 5, 6, \"Harry\", True]\n",
    "if 7 in marks:\n",
    "    print(\"Yes\")\n",
    "else:\n",
    "    print(\"No\")\n",
    "    \n",
    "\n",
    "if \"Harry\" in marks:\n",
    "    print(\"Yes\")\n",
    "else:\n",
    "    print(\"No\")\n",
    "\n",
    "\n",
    "    \n",
    "if 6 in marks:   # output yes\n",
    "    print(\"Yes\")\n",
    "else:\n",
    "    print(\"No\")\n",
    "    \n",
    "if \"6\" in marks:   # output no \n",
    "    print(\"Yes\")\n",
    "else:\n",
    "    print(\"No\")\n",
    "    \n",
    "    \n"
   ]
  },
  {
   "cell_type": "code",
   "execution_count": 14,
   "id": "964c54cc",
   "metadata": {},
   "outputs": [
    {
     "name": "stdout",
     "output_type": "stream",
     "text": [
      "Yes\n",
      "Yes\n"
     ]
    }
   ],
   "source": [
    "#  same thing applies for strings as well!\n",
    "if \"arry\" in \"Harry\":   #o/p yes\n",
    "    print(\"Yes\")\n",
    "    \n",
    "if \"ary\" in \"Harry\":  #o/p no\n",
    "    print(\"Yes\")\n",
    "\n",
    "if \"Ha\" in \"Harry\":   #o/p yes\n",
    "    print(\"Yes\")"
   ]
  },
  {
   "cell_type": "code",
   "execution_count": 26,
   "id": "7732cebe",
   "metadata": {},
   "outputs": [
    {
     "name": "stdout",
     "output_type": "stream",
     "text": [
      "[3, 5, 6, 'Harry', True]\n",
      "[3, 5, 6, 'Harry', True]\n",
      "[5, 6, 'Harry', True]\n",
      "[5, 6, 'Harry']\n",
      "[5, 6, 'Harry']\n"
     ]
    }
   ],
   "source": [
    "# printing element with a particular range: (list slicing)\n",
    "\n",
    "marks = [3, 5, 6, \"Harry\", True]\n",
    "print(marks)\n",
    "print(marks[:])\n",
    "print(marks[1:])\n",
    "print(marks[1:-1])  # convert into +ve see below line\n",
    "print(marks[1:4])\n",
    "\n"
   ]
  },
  {
   "cell_type": "code",
   "execution_count": 29,
   "id": "688ddad8",
   "metadata": {},
   "outputs": [
    {
     "name": "stdout",
     "output_type": "stream",
     "text": [
      "[5, 6, 'Harry', True, 6, 7, 2]\n",
      "[5, 'Harry', 6, 2]\n",
      "[5, True, 2]\n"
     ]
    }
   ],
   "source": [
    "# jump index\n",
    "marks = [3, 5, 6, \"Harry\", True,6 ,7, 2, 32, 345, 23]\n",
    "\n",
    "print(marks[1:8])\n",
    "print(marks[1:8:2])  #jb bi is treh ka ques krna ho to slicing kr lo means see above line.\n",
    "\n",
    "print(marks[1:8:3])\n"
   ]
  },
  {
   "cell_type": "code",
   "execution_count": null,
   "id": "54e3884d",
   "metadata": {},
   "outputs": [],
   "source": []
  },
  {
   "cell_type": "code",
   "execution_count": 31,
   "id": "64d58570",
   "metadata": {},
   "outputs": [],
   "source": [
    "# note: \n",
    "\n",
    "# print(marks[:])\n",
    "# 1st empty means = starts from 0\n",
    "# 2nd empty means = len(marks)\n"
   ]
  },
  {
   "cell_type": "code",
   "execution_count": 23,
   "id": "22e825cc",
   "metadata": {},
   "outputs": [
    {
     "name": "stdout",
     "output_type": "stream",
     "text": [
      "[0, 1, 2, 3]\n",
      "[0, 1, 4, 9]\n"
     ]
    }
   ],
   "source": [
    "# List Comprehensive (more codes)\n",
    "# hm list comprehension se new list generate kr skte hai, condition lgake bi.\n",
    "\n",
    "lst = [i for i in range(4)]\n",
    "print(lst)\n",
    "\n",
    "lst = [i*i for i in range(4)]\n",
    "print(lst)"
   ]
  },
  {
   "cell_type": "code",
   "execution_count": 37,
   "id": "2a67d0e2",
   "metadata": {},
   "outputs": [
    {
     "name": "stdout",
     "output_type": "stream",
     "text": [
      "[0, 1, 4, 9, 16, 25, 36, 49, 64, 81]\n",
      "[0, 4, 16, 36, 64]\n"
     ]
    }
   ],
   "source": [
    "lst = [i*i for i in range(10)]\n",
    "print(lst)\n",
    "lst  = [i*i for i in range(10) if i%2==0]\n",
    "print(lst)\n"
   ]
  },
  {
   "cell_type": "code",
   "execution_count": null,
   "id": "d1d6c23e",
   "metadata": {},
   "outputs": [],
   "source": []
  },
  {
   "cell_type": "code",
   "execution_count": 3,
   "id": "700e551b",
   "metadata": {},
   "outputs": [
    {
     "name": "stdout",
     "output_type": "stream",
     "text": [
      "enter the number10\n",
      "number is even\n"
     ]
    }
   ],
   "source": [
    "# code no. is even or odd\n",
    "\n",
    "n = int(input(\"enter the number\"))\n",
    "if n%2==0:\n",
    "    print(\"number is even\")\n",
    "else:\n",
    "    print(\"number is odd\")"
   ]
  },
  {
   "cell_type": "code",
   "execution_count": 25,
   "id": "86cc8eaa",
   "metadata": {},
   "outputs": [
    {
     "name": "stdout",
     "output_type": "stream",
     "text": [
      "2\n",
      "5\n"
     ]
    }
   ],
   "source": [
    "\n",
    "a = [\"apple\", \"mango\"]\n",
    "print(len(a))\n",
    "print(len(a[1]))"
   ]
  },
  {
   "cell_type": "code",
   "execution_count": null,
   "id": "2dae43a7",
   "metadata": {},
   "outputs": [],
   "source": []
  }
 ],
 "metadata": {
  "kernelspec": {
   "display_name": "Python 3 (ipykernel)",
   "language": "python",
   "name": "python3"
  },
  "language_info": {
   "codemirror_mode": {
    "name": "ipython",
    "version": 3
   },
   "file_extension": ".py",
   "mimetype": "text/x-python",
   "name": "python",
   "nbconvert_exporter": "python",
   "pygments_lexer": "ipython3",
   "version": "3.11.4"
  }
 },
 "nbformat": 4,
 "nbformat_minor": 5
}
