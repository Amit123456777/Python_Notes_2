{
 "cells": [
  {
   "cell_type": "markdown",
   "id": "205146e2-988e-420d-bf2f-7ec30b80e296",
   "metadata": {},
   "source": [
    "# SYNTAX OF FUNCTION IN PYTHON\n"
   ]
  },
  {
   "cell_type": "code",
   "execution_count": 1,
   "id": "409bdb9e-a396-43cc-81be-432bc3f870e9",
   "metadata": {},
   "outputs": [],
   "source": [
    "def function_name(parameters):\n",
    "    pass\n",
    "    # code and statements"
   ]
  },
  {
   "cell_type": "markdown",
   "id": "ec6592b4-aaf2-4d1c-9885-e8b56260bc8a",
   "metadata": {},
   "source": [
    "# calling a function"
   ]
  },
  {
   "cell_type": "code",
   "execution_count": 2,
   "id": "864f6fd5-3a6b-4415-88af-4c314caac1c5",
   "metadata": {},
   "outputs": [],
   "source": [
    "# example"
   ]
  },
  {
   "cell_type": "code",
   "execution_count": 3,
   "id": "8f727a4a-16da-4ab5-9ef9-74f60016a0a6",
   "metadata": {},
   "outputs": [
    {
     "name": "stdout",
     "output_type": "stream",
     "text": [
      "Hello same wilson\n"
     ]
    }
   ],
   "source": [
    "def name(fname, lname):\n",
    "    print(\"Hello\", fname, lname)\n",
    "\n",
    "name(\"same\", \"wilson\")"
   ]
  },
  {
   "cell_type": "code",
   "execution_count": 6,
   "id": "a3dff41c-5879-4624-bba8-7eb594ad5404",
   "metadata": {},
   "outputs": [
    {
     "name": "stdout",
     "output_type": "stream",
     "text": [
      "Audi BMW\n"
     ]
    }
   ],
   "source": [
    "def cars():\n",
    "    print(\"Audi\", \"BMW\")\n",
    "\n",
    "cars()"
   ]
  },
  {
   "cell_type": "markdown",
   "id": "d52cd9fd-e7e5-417f-89a5-a4eb97ff904c",
   "metadata": {},
   "source": [
    "# FUNTION ARGUMENTS AND RETURN STATEMENT\n"
   ]
  },
  {
   "cell_type": "code",
   "execution_count": 21,
   "id": "6d254f02-abe9-4254-a73d-4eaf6d058066",
   "metadata": {},
   "outputs": [
    {
     "name": "stdout",
     "output_type": "stream",
     "text": [
      "Hello Amy John whatson\n"
     ]
    }
   ],
   "source": [
    "# DEFAULT ARGUMENTS\n",
    "\n",
    "def name(fname, mname=\"John\", lname=\"whatson\"):\n",
    "    print(\"Hello\", fname, mname, lname)\n",
    "\n",
    "# calling a function\n",
    "name(\"Amy\")"
   ]
  },
  {
   "cell_type": "markdown",
   "id": "7613a361-a706-44d2-811d-4808c0cde7bd",
   "metadata": {},
   "source": [
    "# what is parameters and whai is arguments."
   ]
  },
  {
   "cell_type": "code",
   "execution_count": 8,
   "id": "f81abacf-1a90-42a7-bc25-e71d7e06f692",
   "metadata": {},
   "outputs": [],
   "source": [
    "# parameters are defined by the function or method, \n",
    "# whereas arguments are the actual values passed to those parameters when the function or method is called."
   ]
  },
  {
   "cell_type": "code",
   "execution_count": 23,
   "id": "00eb663d-e518-4d12-ac53-0585b3f51a25",
   "metadata": {},
   "outputs": [
    {
     "name": "stdout",
     "output_type": "stream",
     "text": [
      "13\n"
     ]
    }
   ],
   "source": [
    "def add(a, b):\n",
    "     print(a + b)\n",
    "# call a fucntion\n",
    "add(5,8)\n"
   ]
  },
  {
   "cell_type": "markdown",
   "id": "8e6b3c5a-4000-4e6d-ba00-1440867417eb",
   "metadata": {},
   "source": [
    "def add(a, b):\n",
    "     return print(a + b)\n",
    "# call a fucntion\n",
    "add(5,8)\n"
   ]
  },
  {
   "cell_type": "markdown",
   "id": "596d0bb1-e53e-4ff7-8489-8352a2a7ba79",
   "metadata": {},
   "source": [
    "# keyword arguments"
   ]
  },
  {
   "cell_type": "code",
   "execution_count": 26,
   "id": "b4dfc35c-1ea8-4487-b89c-9390804a7557",
   "metadata": {},
   "outputs": [
    {
     "name": "stdout",
     "output_type": "stream",
     "text": [
      "Hello jada wesker wesker\n"
     ]
    }
   ],
   "source": [
    "def name(fname, mname, lname):\n",
    "    print(\"Hello\", fname, lname, lname)\n",
    "\n",
    "name(mname=\"peter\", lname=\"wesker\", fname=\"jada\")"
   ]
  },
  {
   "cell_type": "markdown",
   "id": "c8b0eb05-6bc8-4c76-9c2e-378c66240a2a",
   "metadata": {},
   "source": [
    "# Required arguments"
   ]
  },
  {
   "cell_type": "code",
   "execution_count": 24,
   "id": "133a8afe-7289-4b05-a1e6-0f944a0ded01",
   "metadata": {},
   "outputs": [
    {
     "ename": "TypeError",
     "evalue": "name() missing 1 required positional argument: 'lname'",
     "output_type": "error",
     "traceback": [
      "\u001b[1;31m---------------------------------------------------------------------------\u001b[0m",
      "\u001b[1;31mTypeError\u001b[0m                                 Traceback (most recent call last)",
      "Cell \u001b[1;32mIn[24], line 6\u001b[0m\n\u001b[0;32m      3\u001b[0m     \u001b[38;5;28mprint\u001b[39m(\u001b[38;5;124m\"\u001b[39m\u001b[38;5;124mHello\u001b[39m\u001b[38;5;124m\"\u001b[39m, fname, mname, lname)\n\u001b[0;32m      5\u001b[0m \u001b[38;5;66;03m# calling a function\u001b[39;00m\n\u001b[1;32m----> 6\u001b[0m \u001b[43mname\u001b[49m\u001b[43m(\u001b[49m\u001b[38;5;124;43m\"\u001b[39;49m\u001b[38;5;124;43mPeter\u001b[39;49m\u001b[38;5;124;43m\"\u001b[39;49m\u001b[43m,\u001b[49m\u001b[43m \u001b[49m\u001b[38;5;124;43m\"\u001b[39;49m\u001b[38;5;124;43mQuill\u001b[39;49m\u001b[38;5;124;43m\"\u001b[39;49m\u001b[43m)\u001b[49m\n",
      "\u001b[1;31mTypeError\u001b[0m: name() missing 1 required positional argument: 'lname'"
     ]
    }
   ],
   "source": [
    "# example1:\n",
    "def name(fname, mname, lname):\n",
    "    print(\"Hello\", fname, mname, lname)\n",
    "\n",
    "# calling a function\n",
    "name(\"Peter\", \"Quill\")\n",
    "# type error"
   ]
  },
  {
   "cell_type": "markdown",
   "id": "b3c81d83-7c20-4e16-94ef-3f101c793bd3",
   "metadata": {},
   "source": [
    "# variable-length arguments"
   ]
  },
  {
   "cell_type": "code",
   "execution_count": 5,
   "id": "53d55919-b5ec-4cff-bbfd-a0b1aafca19c",
   "metadata": {},
   "outputs": [],
   "source": [
    "# there are 2 types of variables-length arguments.\n",
    "# 1 arbitary arguments"
   ]
  },
  {
   "cell_type": "code",
   "execution_count": 10,
   "id": "b1d3a8a0-c7ba-4d7e-8d41-350d19139a68",
   "metadata": {},
   "outputs": [
    {
     "name": "stdout",
     "output_type": "stream",
     "text": [
      "Hello, ram shyam ram\n"
     ]
    }
   ],
   "source": [
    "def name(*name):\n",
    "    print(\"Hello,\", name[0], name[1], name[0])\n",
    "\n",
    "# calling the funtion\n",
    "name(\"ram\", \"shyam\", \"khushi\")"
   ]
  },
  {
   "cell_type": "code",
   "execution_count": 17,
   "id": "f175eb44-56b0-464b-a052-cff8c3aeb1fc",
   "metadata": {},
   "outputs": [
    {
     "name": "stdout",
     "output_type": "stream",
     "text": [
      "Hello James Ram\n"
     ]
    }
   ],
   "source": [
    "# 2 key arbitary arguemnt\n",
    "\n",
    "def name(**name):\n",
    "    print(\"Hello\", name[\"fname\"], name[\"mname\"])\n",
    "\n",
    "# call the function\n",
    "name(mname = \"Ram\", lname=\"Jhon\", fname=\"James\")"
   ]
  },
  {
   "cell_type": "markdown",
   "id": "43114691-efe0-4d9f-9cfe-1ecba0af9cdd",
   "metadata": {},
   "source": [
    "# RETURN STATEMENT"
   ]
  },
  {
   "cell_type": "code",
   "execution_count": 16,
   "id": "936d3219-bd2e-472e-ba4b-217d032ad286",
   "metadata": {},
   "outputs": [
    {
     "name": "stdout",
     "output_type": "stream",
     "text": [
      "('Hello', 'James Buchana Barnes')\n"
     ]
    }
   ],
   "source": [
    "def name(fname, mname, lname):\n",
    "    return \"Hello\", fname + \" \" + mname + \" \" + lname\n",
    "\n",
    "# call the function\n",
    "print(name(\"James\",\"Buchana\",\"Barnes\"))"
   ]
  },
  {
   "cell_type": "code",
   "execution_count": null,
   "id": "14f24a63-7eb1-4277-ab9f-c74b832a3a91",
   "metadata": {},
   "outputs": [],
   "source": []
  },
  {
   "cell_type": "markdown",
   "id": "738a41ea-0f18-43c8-8c4b-ff6c39744188",
   "metadata": {},
   "source": [
    "# Exercise"
   ]
  },
  {
   "cell_type": "code",
   "execution_count": 18,
   "id": "0b7258d6-6062-4cff-986f-698a74d8f45f",
   "metadata": {},
   "outputs": [],
   "source": [
    "# CALCULATOR USING FUNCTION"
   ]
  },
  {
   "cell_type": "code",
   "execution_count": 7,
   "id": "69bfe9cd-db5b-4ef8-8f75-62bed542011c",
   "metadata": {},
   "outputs": [
    {
     "name": "stdout",
     "output_type": "stream",
     "text": [
      "Select operator:\n",
      "1. Add\n",
      "2. Subtract\n",
      "3. Multiply\n",
      "4. Division\n"
     ]
    },
    {
     "name": "stdin",
     "output_type": "stream",
     "text": [
      "Enter choice (1/2/3/4):  4\n",
      "Enter first number:  100\n",
      "Enter second number:  50\n"
     ]
    },
    {
     "name": "stdout",
     "output_type": "stream",
     "text": [
      "Result: 2.0\n"
     ]
    }
   ],
   "source": [
    "def add(x, y):\n",
    "    return x + y\n",
    "\n",
    "def subtract(x, y):\n",
    "    return x - y\n",
    "\n",
    "def multiply(x, y):\n",
    "    return x * y\n",
    "\n",
    "def divide(x, y):\n",
    "    if y == 0:\n",
    "        return \"Error! Division by zero.\"\n",
    "    else:\n",
    "        return x / y\n",
    "\n",
    "print(\"Select operator:\")\n",
    "print(\"1. Add\")\n",
    "print(\"2. Subtract\")\n",
    "print(\"3. Multiply\")\n",
    "print(\"4. Division\")\n",
    "\n",
    "while True:\n",
    "    choice = input(\"Enter choice (1/2/3/4): \")\n",
    "\n",
    "    if choice in ('1', '2', '3', '4'):\n",
    "        num1  = float(input(\"Enter first number: \"))\n",
    "        num2 = float(input(\"Enter second number: \"))\n",
    "\n",
    "        if choice == '1':\n",
    "            print(\"Result:\", add(num1, num2))\n",
    "        elif choice == '2':\n",
    "            print(\"Result\", subtract(num1, num2))\n",
    "        elif choice == '3':\n",
    "            print(\"Result:\", multiply(num1, num2))\n",
    "        elif choice == '4':\n",
    "            print(\"Result:\", divide(num1, num2))\n",
    "\n",
    "        break\n",
    "    else:\n",
    "        print(\"Invalid Input\")\n",
    "        "
   ]
  },
  {
   "cell_type": "code",
   "execution_count": null,
   "id": "3178b34e-bbb2-4a4b-9f5b-fda896dc6c39",
   "metadata": {},
   "outputs": [],
   "source": []
  },
  {
   "cell_type": "markdown",
   "id": "1b1b91f3-0db8-4c86-bfe5-e7e59912533b",
   "metadata": {},
   "source": [
    "# local and global variable"
   ]
  },
  {
   "cell_type": "code",
   "execution_count": 8,
   "id": "b33f45f6-df4b-473a-abcd-0f41ebc8fcc5",
   "metadata": {},
   "outputs": [],
   "source": [
    "# variable\n",
    "x = 6\n",
    "s = \"hello world\"\n",
    "\n",
    "# x and s is variable of different data types"
   ]
  },
  {
   "cell_type": "code",
   "execution_count": 9,
   "id": "1f873ab6-6b7b-4b3a-a1c4-f607071e0637",
   "metadata": {},
   "outputs": [
    {
     "ename": "SyntaxError",
     "evalue": "invalid syntax (1367431938.py, line 4)",
     "output_type": "error",
     "traceback": [
      "\u001b[1;36m  Cell \u001b[1;32mIn[9], line 4\u001b[1;36m\u001b[0m\n\u001b[1;33m    y = 5 local variable\u001b[0m\n\u001b[1;37m          ^\u001b[0m\n\u001b[1;31mSyntaxError\u001b[0m\u001b[1;31m:\u001b[0m invalid syntax\n"
     ]
    }
   ],
   "source": [
    "x = 10 # global variable\n",
    "\n",
    "def my_fuction():\n",
    "    y = 5 local variable\n",
    "    print(y)\n",
    "\n",
    "# call the fuction:\n",
    "my_function()\n",
    "print(x)\n",
    "pint(y) # this will cause and error because y is a local variable and is not accessible outside of the function\n"
   ]
  },
  {
   "cell_type": "markdown",
   "id": "4c15ce42-a470-4330-a9f1-4914b7304de3",
   "metadata": {},
   "source": [
    "# The global keyword"
   ]
  },
  {
   "cell_type": "code",
   "execution_count": 11,
   "id": "9c3ec2c6-f12b-4918-8908-93e84c6a8602",
   "metadata": {},
   "outputs": [
    {
     "name": "stdout",
     "output_type": "stream",
     "text": [
      "5\n"
     ]
    }
   ],
   "source": [
    "x = 10\n",
    "\n",
    "def my_function():\n",
    "    global x # global keyword\n",
    "    x = 5 # this will change the value of the global variable x\n",
    "    y = 5 # local variabel\n",
    "\n",
    "# call the function\n",
    "my_function()\n",
    "print(x)  # prints 5\n",
    "# print(y) # this will cause and error because y is a local variable and is not accessible outside of the function"
   ]
  },
  {
   "cell_type": "code",
   "execution_count": null,
   "id": "0a2d5802-07c4-4d20-996a-2aae7e1ea0a2",
   "metadata": {},
   "outputs": [],
   "source": []
  },
  {
   "cell_type": "markdown",
   "id": "94f04916-7574-4db4-b6c0-10522f795dd2",
   "metadata": {},
   "source": [
    "# question"
   ]
  },
  {
   "cell_type": "code",
   "execution_count": 12,
   "id": "8dfee381-d155-44d1-8e90-0a18b866c549",
   "metadata": {},
   "outputs": [],
   "source": [
    "# create a Python program to add 2 numbers and Displaying the Result using function and global and local variabl concept."
   ]
  },
  {
   "cell_type": "code",
   "execution_count": 14,
   "id": "f4146447-d260-410c-93b1-bbfb29fc98e5",
   "metadata": {
    "scrolled": true
   },
   "outputs": [
    {
     "name": "stdin",
     "output_type": "stream",
     "text": [
      "Enter the first number:  9\n",
      "Enter the second number:  10\n"
     ]
    },
    {
     "name": "stdout",
     "output_type": "stream",
     "text": [
      "Sum of 9.0 and 10.0 is: 19.0\n"
     ]
    }
   ],
   "source": [
    "result = 0\n",
    "\n",
    "def add_numbers(num1, num2):   # parameters\n",
    "    # Local variable\n",
    "    sum_result = num1 + num2\n",
    "    # Updationg global variable\n",
    "    global result\n",
    "    result = sum_result\n",
    "\n",
    "# User input\n",
    "num1 = float(input(\"Enter the first number: \"))\n",
    "num2 = float(input(\"Enter the second number: \"))\n",
    "\n",
    "# call the function\n",
    "add_numbers(num1, num2)   # arguments\n",
    "\n",
    "# Printing the result\n",
    "print(\"Sum of\", num1, \"and\", num2, \"is:\", result)"
   ]
  },
  {
   "cell_type": "markdown",
   "id": "548cd64f-46d9-4072-8d1e-95f001194148",
   "metadata": {},
   "source": [
    "# LEAP YEAR"
   ]
  },
  {
   "cell_type": "code",
   "execution_count": 15,
   "id": "392e96e6-8e54-404c-a5a1-f5023c49c50b",
   "metadata": {},
   "outputs": [],
   "source": [
    "# Python program using a function to determine if a given year is leap year."
   ]
  },
  {
   "cell_type": "code",
   "execution_count": 23,
   "id": "d443730a-cfad-420b-b998-50e0cd55db1c",
   "metadata": {},
   "outputs": [
    {
     "name": "stdin",
     "output_type": "stream",
     "text": [
      "Enter a year:  9000\n"
     ]
    },
    {
     "name": "stdout",
     "output_type": "stream",
     "text": [
      "9000 is not a leap year.\n"
     ]
    }
   ],
   "source": [
    "def is_leap_year(year):\n",
    "    return (year % 4 == 0 and year % 100 != 0) or (year % 400 == 0)\n",
    "\n",
    "# User input for the year\n",
    "year = int(input(\"Enter a year: \"))\n",
    "\n",
    "# Check if the year is a leap year using the function\n",
    "if is_leap_year(year):\n",
    "    print(f\"{year} is a leap year.\")\n",
    "    # print(year, \"is a leap year\".)\n",
    "else:\n",
    "    print(f\"{year} is not a leap year.\")"
   ]
  },
  {
   "cell_type": "code",
   "execution_count": null,
   "id": "aa2749b0-4b63-4a1c-b185-02179e37a1f4",
   "metadata": {},
   "outputs": [],
   "source": []
  }
 ],
 "metadata": {
  "kernelspec": {
   "display_name": "Python 3 (ipykernel)",
   "language": "python",
   "name": "python3"
  },
  "language_info": {
   "codemirror_mode": {
    "name": "ipython",
    "version": 3
   },
   "file_extension": ".py",
   "mimetype": "text/x-python",
   "name": "python",
   "nbconvert_exporter": "python",
   "pygments_lexer": "ipython3",
   "version": "3.11.4"
  }
 },
 "nbformat": 4,
 "nbformat_minor": 5
}
