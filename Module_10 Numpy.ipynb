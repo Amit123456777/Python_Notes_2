{
 "cells": [
  {
   "cell_type": "markdown",
   "id": "b212c2df-f887-4fa5-a094-f8e9bfe88f45",
   "metadata": {},
   "source": [
    "# creating arrays in numpy"
   ]
  },
  {
   "cell_type": "code",
   "execution_count": 1,
   "id": "cff97e35-63f7-48c4-8ca1-7b34d87b7c66",
   "metadata": {},
   "outputs": [
    {
     "name": "stdout",
     "output_type": "stream",
     "text": [
      "Requirement already satisfied: numpy in c:\\users\\rahul\\appdata\\roaming\\python\\python311\\site-packages (1.26.4)Note: you may need to restart the kernel to use updated packages.\n",
      "\n"
     ]
    }
   ],
   "source": [
    "pip install numpy"
   ]
  },
  {
   "cell_type": "code",
   "execution_count": 3,
   "id": "36fe9a3d-9882-4273-a6af-4b240aa2f279",
   "metadata": {},
   "outputs": [
    {
     "name": "stdout",
     "output_type": "stream",
     "text": [
      "[1 2 3 4]\n"
     ]
    }
   ],
   "source": [
    "import numpy as np\n",
    "a = np.array([1,2,3,4])\n",
    "print(a)"
   ]
  },
  {
   "cell_type": "code",
   "execution_count": 4,
   "id": "864034dd-c087-451d-958b-59ae8a20b76a",
   "metadata": {},
   "outputs": [
    {
     "name": "stdout",
     "output_type": "stream",
     "text": [
      "<class 'numpy.ndarray'>\n"
     ]
    }
   ],
   "source": [
    "print(type(a))"
   ]
  },
  {
   "cell_type": "code",
   "execution_count": 5,
   "id": "b30b035d-772e-46ea-a3af-b647892a6a77",
   "metadata": {},
   "outputs": [
    {
     "data": {
      "text/plain": [
       "array([1, 2, 3, 4])"
      ]
     },
     "execution_count": 5,
     "metadata": {},
     "output_type": "execute_result"
    }
   ],
   "source": [
    "import numpy as np\n",
    "x = [1,2,3,4]\n",
    "y = np.array(x)\n",
    "y"
   ]
  },
  {
   "cell_type": "code",
   "execution_count": 6,
   "id": "4656a061-652b-492c-b86b-d4f4ce51c7b2",
   "metadata": {},
   "outputs": [
    {
     "name": "stdout",
     "output_type": "stream",
     "text": [
      "<class 'numpy.ndarray'>\n"
     ]
    }
   ],
   "source": [
    "print(type(y))"
   ]
  },
  {
   "cell_type": "code",
   "execution_count": null,
   "id": "4ae33dc0-3f42-454e-966e-0580b2ea87df",
   "metadata": {},
   "outputs": [],
   "source": []
  },
  {
   "cell_type": "markdown",
   "id": "ac025caf-8d0b-4b03-815a-f2880fa81662",
   "metadata": {},
   "source": [
    "# Creating array by user input"
   ]
  },
  {
   "cell_type": "code",
   "execution_count": 11,
   "id": "c2750d45-47fd-4ff3-b52a-5aea6979875c",
   "metadata": {},
   "outputs": [
    {
     "name": "stdin",
     "output_type": "stream",
     "text": [
      "enter the values:  1\n",
      "enter the values:  2\n",
      "enter the values:  3\n",
      "enter the values:  4\n"
     ]
    },
    {
     "name": "stdout",
     "output_type": "stream",
     "text": [
      "[1 2 3 4]\n"
     ]
    }
   ],
   "source": [
    "l = []\n",
    "for i in range(1,5):\n",
    "    inp = int(input(\"enter the values: \"))\n",
    "    l.append(inp)\n",
    "\n",
    "print(np.array(l))"
   ]
  },
  {
   "cell_type": "code",
   "execution_count": 12,
   "id": "67be808a-9617-43bf-b950-493bf12d5a91",
   "metadata": {},
   "outputs": [
    {
     "name": "stdout",
     "output_type": "stream",
     "text": [
      "<class 'list'>\n"
     ]
    }
   ],
   "source": [
    "print(type(l))"
   ]
  },
  {
   "cell_type": "markdown",
   "id": "d8dbb3f4-c7d4-4d59-a31f-cb3f71f1eef6",
   "metadata": {},
   "source": [
    "# Dimensions in Array\n"
   ]
  },
  {
   "cell_type": "code",
   "execution_count": 13,
   "id": "61c4971b-9081-4832-a8fb-50d64a65af51",
   "metadata": {},
   "outputs": [],
   "source": [
    "# 1-D Array\n",
    "# 2-d\n",
    "# 3-d\n",
    "# Higher Dimensional arrays"
   ]
  },
  {
   "cell_type": "code",
   "execution_count": 14,
   "id": "1c7a1e23-29fa-465e-be7e-b1a2fcae70fa",
   "metadata": {},
   "outputs": [
    {
     "name": "stdout",
     "output_type": "stream",
     "text": [
      "[1 2 3 4]\n"
     ]
    }
   ],
   "source": [
    "# 1d array\n",
    "y = np.array([1,2,3,4])\n",
    "print(y)"
   ]
  },
  {
   "cell_type": "markdown",
   "id": "73233d1b-4bf3-4410-ba54-6ce863aeb24e",
   "metadata": {},
   "source": [
    "# ndim"
   ]
  },
  {
   "cell_type": "code",
   "execution_count": 15,
   "id": "7035ee7f-e95c-4f77-bedb-ac9c682f5397",
   "metadata": {},
   "outputs": [
    {
     "data": {
      "text/plain": [
       "1"
      ]
     },
     "execution_count": 15,
     "metadata": {},
     "output_type": "execute_result"
    }
   ],
   "source": [
    "y.ndim"
   ]
  },
  {
   "cell_type": "code",
   "execution_count": 16,
   "id": "5c01d78f-74ac-4b33-b36b-820b1bfbc3ad",
   "metadata": {},
   "outputs": [
    {
     "data": {
      "text/plain": [
       "array([[1, 2, 3, 4],\n",
       "       [5, 6, 7, 8]])"
      ]
     },
     "execution_count": 16,
     "metadata": {},
     "output_type": "execute_result"
    }
   ],
   "source": [
    "# 2d\n",
    "arr2 = np.array([[1,2,3,4],[5,6,7,8]])\n",
    "arr2"
   ]
  },
  {
   "cell_type": "code",
   "execution_count": 17,
   "id": "7341738e-9d56-45ac-8019-d951b155607a",
   "metadata": {},
   "outputs": [
    {
     "data": {
      "text/plain": [
       "2"
      ]
     },
     "execution_count": 17,
     "metadata": {},
     "output_type": "execute_result"
    }
   ],
   "source": [
    "arr2.ndim"
   ]
  },
  {
   "cell_type": "code",
   "execution_count": 18,
   "id": "56a6e61c-a2b5-4b64-893c-d5b02ea2319c",
   "metadata": {},
   "outputs": [
    {
     "data": {
      "text/plain": [
       "array([[[ 1,  2,  3,  4],\n",
       "        [ 5,  6,  7,  8],\n",
       "        [ 9, 10, 11, 12]]])"
      ]
     },
     "execution_count": 18,
     "metadata": {},
     "output_type": "execute_result"
    }
   ],
   "source": [
    "# 3d\n",
    "ar3 = np.array([[[1,2,3,4],[5,6,7,8],[9,10,11,12]]])\n",
    "ar3"
   ]
  },
  {
   "cell_type": "code",
   "execution_count": 19,
   "id": "d112a21c-14ed-4dce-a568-8083bba2f77c",
   "metadata": {},
   "outputs": [
    {
     "data": {
      "text/plain": [
       "3"
      ]
     },
     "execution_count": 19,
     "metadata": {},
     "output_type": "execute_result"
    }
   ],
   "source": [
    "ar3.ndim"
   ]
  },
  {
   "cell_type": "code",
   "execution_count": 23,
   "id": "b089b329-bbca-47e1-b0a1-cc4389ec9ddc",
   "metadata": {},
   "outputs": [
    {
     "data": {
      "text/plain": [
       "array([[[[[[[[[[1, 2, 3, 4]]]]]]]]]])"
      ]
     },
     "execution_count": 23,
     "metadata": {},
     "output_type": "execute_result"
    }
   ],
   "source": [
    "#  Multi dimensional array\n",
    "arr = np.array([1,2,3,4], ndmin = 10)\n",
    "arr"
   ]
  },
  {
   "cell_type": "code",
   "execution_count": 25,
   "id": "c55fb42b-f2ad-499c-a2f2-3f71e63ad143",
   "metadata": {},
   "outputs": [
    {
     "data": {
      "text/plain": [
       "10"
      ]
     },
     "execution_count": 25,
     "metadata": {},
     "output_type": "execute_result"
    }
   ],
   "source": [
    "arr.ndim"
   ]
  },
  {
   "cell_type": "code",
   "execution_count": null,
   "id": "adbf4850-7c5d-4e58-b279-5f19d175a086",
   "metadata": {},
   "outputs": [],
   "source": []
  },
  {
   "cell_type": "markdown",
   "id": "223d2c25-7db9-4f95-b9be-835e2d19aa8b",
   "metadata": {},
   "source": [
    "# # create Numpy Arrays\n",
    "# with Random Numbers"
   ]
  },
  {
   "cell_type": "code",
   "execution_count": 27,
   "id": "f4a593ed-410d-408b-9a79-02f5ea681095",
   "metadata": {},
   "outputs": [],
   "source": [
    "# 1. rand() - o to 1\n",
    "# 2. randn() -> close to 0. may return +ve or -ve numbers as well\n",
    "# 3. ranf() -> [0.0, 1.0)\n",
    "# 4. randint() -> it generate a no. b/t a given range."
   ]
  },
  {
   "cell_type": "code",
   "execution_count": 28,
   "id": "ac39edcd-87bc-4a2a-bf61-d817131bbc4f",
   "metadata": {},
   "outputs": [],
   "source": [
    "# code"
   ]
  },
  {
   "cell_type": "code",
   "execution_count": 29,
   "id": "7c527b58-d2aa-461a-9eb1-799eb89653de",
   "metadata": {},
   "outputs": [
    {
     "data": {
      "text/plain": [
       "array([0.69960531, 0.58696478, 0.32937227, 0.47942612])"
      ]
     },
     "execution_count": 29,
     "metadata": {},
     "output_type": "execute_result"
    }
   ],
   "source": [
    "# Random\n",
    "# rand()\n",
    "import numpy as np\n",
    "var = np.random.rand(4)\n",
    "var"
   ]
  },
  {
   "cell_type": "code",
   "execution_count": 30,
   "id": "fa504dc8-db42-4378-8b5c-78f459ad7129",
   "metadata": {
    "scrolled": true
   },
   "outputs": [
    {
     "data": {
      "text/plain": [
       "array([[0.36029095, 0.81993123, 0.91916316, 0.41648221, 0.8325181 ],\n",
       "       [0.30260206, 0.6268136 , 0.12554286, 0.25755433, 0.06704044]])"
      ]
     },
     "execution_count": 30,
     "metadata": {},
     "output_type": "execute_result"
    }
   ],
   "source": [
    "# for 2d array\n",
    "var1 = np.random.rand(2,5)    # row,column\n",
    "var1"
   ]
  },
  {
   "cell_type": "code",
   "execution_count": 31,
   "id": "46e9063a-d0e4-4d83-9dcb-8b8c14ba265f",
   "metadata": {},
   "outputs": [
    {
     "name": "stdout",
     "output_type": "stream",
     "text": [
      "[ 1.2951494  -1.13901229 -1.85651147  0.49594255 -0.21800057]\n"
     ]
    }
   ],
   "source": [
    "# randn()\n",
    "var2 = np.random.randn(5)\n",
    "print(var2)"
   ]
  },
  {
   "cell_type": "code",
   "execution_count": 35,
   "id": "6efa6ac3-29e0-4709-a5fb-138e52884e2c",
   "metadata": {},
   "outputs": [
    {
     "data": {
      "text/plain": [
       "array([0.84249756, 0.64091201, 0.37413763, 0.30272667])"
      ]
     },
     "execution_count": 35,
     "metadata": {},
     "output_type": "execute_result"
    }
   ],
   "source": [
    "# randf\n",
    "var3 = np.random.ranf(4)\n",
    "var3"
   ]
  },
  {
   "cell_type": "code",
   "execution_count": 38,
   "id": "81cc05b6-67c1-4fd2-aaa2-bc0665a36437",
   "metadata": {},
   "outputs": [
    {
     "data": {
      "text/plain": [
       "array([ 9, 17, 13,  9, 19])"
      ]
     },
     "execution_count": 38,
     "metadata": {},
     "output_type": "execute_result"
    }
   ],
   "source": [
    "# 4 randint()\n",
    "# var4 = np.random.randint(min, max, total_values)\n",
    "var4 = np.random.randint(5, 20, 5)\n",
    "var4"
   ]
  },
  {
   "cell_type": "code",
   "execution_count": 39,
   "id": "a85b363e-2273-4da5-b28e-213519b9b2d1",
   "metadata": {},
   "outputs": [
    {
     "data": {
      "text/plain": [
       "array([[19, 13,  9,  8,  7],\n",
       "       [15, 14, 13, 13,  5]])"
      ]
     },
     "execution_count": 39,
     "metadata": {},
     "output_type": "execute_result"
    }
   ],
   "source": [
    "var4 = np.random.randint(5, 20, (2,5))\n",
    "var4"
   ]
  },
  {
   "cell_type": "code",
   "execution_count": 40,
   "id": "77dbe648-03fb-4202-8df5-852d2f57bc4d",
   "metadata": {},
   "outputs": [
    {
     "data": {
      "text/plain": [
       "2"
      ]
     },
     "execution_count": 40,
     "metadata": {},
     "output_type": "execute_result"
    }
   ],
   "source": [
    "var4.ndim"
   ]
  },
  {
   "cell_type": "markdown",
   "id": "6c68708a-6f62-4084-b97b-84cdc82bb6ca",
   "metadata": {},
   "source": [
    "# Special Numpy Array\n"
   ]
  },
  {
   "cell_type": "code",
   "execution_count": 41,
   "id": "279d2654-7517-44ec-a211-3077635e0791",
   "metadata": {},
   "outputs": [],
   "source": [
    "# 1. Array filled with 0's\n",
    "# 2. Array filled with 1's\n",
    "# 3. Create an empty\n",
    "# 4. An array with the range of elements\n",
    "# 5. Array diagonal element filled with 1's\n",
    "# 6. Create an array with values that are spaced linearly in a specified interval"
   ]
  },
  {
   "cell_type": "markdown",
   "id": "dcbf196d-2075-406f-8e93-c76dfbe8904a",
   "metadata": {},
   "source": [
    "# ZEROS"
   ]
  },
  {
   "cell_type": "code",
   "execution_count": 48,
   "id": "3e3ac4e8-55e1-4dad-afc9-fdc6b397309f",
   "metadata": {},
   "outputs": [
    {
     "name": "stdout",
     "output_type": "stream",
     "text": [
      "[0. 0. 0. 0.]\n"
     ]
    }
   ],
   "source": [
    "import numpy as np\n",
    "ar_zero = np.zeros(4)\n",
    "print(ar_zero)"
   ]
  },
  {
   "cell_type": "code",
   "execution_count": 49,
   "id": "da13909e-1238-432b-bc68-b4e8734efd39",
   "metadata": {},
   "outputs": [
    {
     "data": {
      "text/plain": [
       "array([[0., 0., 0., 0.],\n",
       "       [0., 0., 0., 0.]])"
      ]
     },
     "execution_count": 49,
     "metadata": {},
     "output_type": "execute_result"
    }
   ],
   "source": [
    "# 2d \n",
    "import numpy as np\n",
    "ar_zero = np.zeros((2,4)) # row, column\n",
    "ar_zero"
   ]
  },
  {
   "cell_type": "code",
   "execution_count": 54,
   "id": "de654466-7f04-4150-ad4a-06e346a37c86",
   "metadata": {},
   "outputs": [
    {
     "data": {
      "text/plain": [
       "array([1., 1., 1., 1.])"
      ]
     },
     "execution_count": 54,
     "metadata": {},
     "output_type": "execute_result"
    }
   ],
   "source": [
    "# Ones\n",
    "ar_one =np.ones(4)\n",
    "ar_one"
   ]
  },
  {
   "cell_type": "code",
   "execution_count": 55,
   "id": "d59c68d2-83e3-4a6c-9552-473365af065a",
   "metadata": {},
   "outputs": [
    {
     "name": "stdout",
     "output_type": "stream",
     "text": [
      "[1. 1. 1. 1.]\n"
     ]
    }
   ],
   "source": [
    "# Empty\n",
    "ar_emp = np.empty(4)\n",
    "print(ar_emp)"
   ]
  },
  {
   "cell_type": "code",
   "execution_count": 58,
   "id": "3f24c428-5b86-4948-b5b3-0114e1acef34",
   "metadata": {},
   "outputs": [
    {
     "data": {
      "text/plain": [
       "array([0, 1, 2, 3])"
      ]
     },
     "execution_count": 58,
     "metadata": {},
     "output_type": "execute_result"
    }
   ],
   "source": [
    "# range\n",
    "ar_rn = np.arange(4)\n",
    "ar_rn\n",
    "# output: array([0, 1, 2, 3])\n",
    "# output is in continuous order"
   ]
  },
  {
   "cell_type": "code",
   "execution_count": 59,
   "id": "c312c6c1-23e1-4b2b-8a79-047c11a8cf69",
   "metadata": {},
   "outputs": [
    {
     "data": {
      "text/plain": [
       "array([[1., 0., 0.],\n",
       "       [0., 1., 0.],\n",
       "       [0., 0., 1.]])"
      ]
     },
     "execution_count": 59,
     "metadata": {},
     "output_type": "execute_result"
    }
   ],
   "source": [
    "# diagonal\n",
    "ar_dia = np.eye(3)\n",
    "ar_dia"
   ]
  },
  {
   "cell_type": "code",
   "execution_count": 61,
   "id": "eee0a580-bb90-41ec-a54e-4f51194a7af6",
   "metadata": {},
   "outputs": [
    {
     "data": {
      "text/plain": [
       "array([ 1.  ,  3.25,  5.5 ,  7.75, 10.  ])"
      ]
     },
     "execution_count": 61,
     "metadata": {},
     "output_type": "execute_result"
    }
   ],
   "source": [
    "# linspace function\n",
    "ar_lin = np.linspace(1,10,num=5)\n",
    "ar_lin"
   ]
  },
  {
   "cell_type": "markdown",
   "id": "abcacf3e-08cf-405f-8320-4ce24e3cf579",
   "metadata": {},
   "source": [
    "# Data types in Numpy Arrays"
   ]
  },
  {
   "cell_type": "code",
   "execution_count": 62,
   "id": "9d6293ae-5d77-4b10-94df-34e39eed3910",
   "metadata": {},
   "outputs": [],
   "source": [
    "# Difference between python data type and numpy datatype"
   ]
  },
  {
   "cell_type": "code",
   "execution_count": 64,
   "id": "874fee44-faa5-46da-980a-5e16a7de43ca",
   "metadata": {},
   "outputs": [],
   "source": [
    "# bool_\n",
    "# int_\n",
    "# Intc\n",
    "# Intp\n",
    "# Int8 and more..."
   ]
  },
  {
   "cell_type": "code",
   "execution_count": 65,
   "id": "ac9f9972-fa02-4912-ab18-d30dcb46fc84",
   "metadata": {},
   "outputs": [
    {
     "name": "stdout",
     "output_type": "stream",
     "text": [
      "Data Type:  int32\n"
     ]
    }
   ],
   "source": [
    "# Data Type\n",
    "import numpy as np\n",
    "var = np.array([1,2,3,4])\n",
    "print(\"Data Type: \", var.dtype) "
   ]
  },
  {
   "cell_type": "markdown",
   "id": "4e24cce5-880e-4826-a5ee-7898a9021fc5",
   "metadata": {},
   "source": [
    "# Data type can be change.\n",
    "\n"
   ]
  },
  {
   "cell_type": "code",
   "execution_count": 80,
   "id": "be7cda87-c353-45cf-ad44-e10caaf30229",
   "metadata": {},
   "outputs": [
    {
     "name": "stdout",
     "output_type": "stream",
     "text": [
      "Data Type: int32\n"
     ]
    }
   ],
   "source": [
    "# Normal Code\n",
    "x = np.array([1,2,3,4])\n",
    "print(\"Data Type:\", x.dtype)"
   ]
  },
  {
   "cell_type": "code",
   "execution_count": 71,
   "id": "b16316b8-1190-432e-97a7-44eed32a03d9",
   "metadata": {},
   "outputs": [
    {
     "name": "stdout",
     "output_type": "stream",
     "text": [
      "Data Type :  int8\n"
     ]
    }
   ],
   "source": [
    "# new array\n",
    "x = np.array([1,2,3,4], dtype = np.int8)\n",
    "print(\"Data Type : \", x.dtype)\n"
   ]
  },
  {
   "cell_type": "code",
   "execution_count": 75,
   "id": "1544a285-e1f8-4042-88c4-93929a9074b3",
   "metadata": {},
   "outputs": [
    {
     "name": "stdout",
     "output_type": "stream",
     "text": [
      "Data Type:  int32\n"
     ]
    }
   ],
   "source": [
    "# Conversion of 1 Data Type to other\n",
    "x= np.array([10,20,30,40])\n",
    "print(\"Data Type: \", x.dtype)"
   ]
  },
  {
   "cell_type": "code",
   "execution_count": 79,
   "id": "eaab168f-6f32-407e-b617-dbf1c76863a2",
   "metadata": {},
   "outputs": [
    {
     "name": "stdout",
     "output_type": "stream",
     "text": [
      "Data Type:  float32\n",
      "[10. 20. 30. 40.]\n"
     ]
    }
   ],
   "source": [
    "# np.int8\n",
    "x = np.array([10,20,30,40], dtype = np.float32)\n",
    "print(\"Data Type: \", x.dtype)\n",
    "print(x)"
   ]
  },
  {
   "cell_type": "code",
   "execution_count": null,
   "id": "b2ecf6e8-87df-4cdf-9d61-d53dbd15f607",
   "metadata": {},
   "outputs": [],
   "source": []
  },
  {
   "cell_type": "markdown",
   "id": "bff4d84e-bd00-4ede-8531-de5e3259356c",
   "metadata": {},
   "source": [
    "# What are Numpy Arithmetic Opereation"
   ]
  },
  {
   "cell_type": "code",
   "execution_count": 81,
   "id": "9de613f4-45fd-4bcd-86c3-cca4ff88074b",
   "metadata": {},
   "outputs": [],
   "source": [
    "# a+b = np.add(a,b)\n",
    "# (a-b) = np.subtract(a,b)\n",
    "# (a*b) = np.multipy(a,b)\n",
    "# (a/b) = np.divide(a,b)\n",
    "# (a%b) = np.mod(a,b)\n",
    "# (a**b) = np.power(a,b)\n",
    "# 1/a = np.reciprocal(a,b)"
   ]
  },
  {
   "cell_type": "code",
   "execution_count": 82,
   "id": "babd6f60-25b7-4862-964a-c9c379477afa",
   "metadata": {},
   "outputs": [
    {
     "name": "stdout",
     "output_type": "stream",
     "text": [
      "[4 5 6 7]\n"
     ]
    }
   ],
   "source": [
    "import numpy as np\n",
    "var = np.array([1,2,3,4])\n",
    "varadd = var + 3\n",
    "print(varadd)"
   ]
  },
  {
   "cell_type": "code",
   "execution_count": 83,
   "id": "dbac834b-4fff-4134-ba17-8c27902d8d22",
   "metadata": {},
   "outputs": [
    {
     "name": "stdout",
     "output_type": "stream",
     "text": [
      "[2 4 6 8]\n"
     ]
    }
   ],
   "source": [
    "# add two array\n",
    "var1 = np.array([1,2,3,4])\n",
    "var2 = np.array([1,2,3,4])\n",
    "varadd = var1+var2\n",
    "print(varadd)"
   ]
  },
  {
   "cell_type": "code",
   "execution_count": 84,
   "id": "1443bf85-455f-43d3-92b3-bd0cbe97effc",
   "metadata": {},
   "outputs": [
    {
     "data": {
      "text/plain": [
       "array([0.33333333, 0.66666667, 1.        , 1.33333333])"
      ]
     },
     "execution_count": 84,
     "metadata": {},
     "output_type": "execute_result"
    }
   ],
   "source": [
    "import numpy as np\n",
    "var = np.array([1,2,3,4])\n",
    "var1 = var/3\n",
    "var1"
   ]
  },
  {
   "cell_type": "code",
   "execution_count": 87,
   "id": "92f3cae4-8ec5-45ba-8bb5-6c5ad40f7acd",
   "metadata": {},
   "outputs": [
    {
     "data": {
      "text/plain": [
       "array([2, 4, 6, 8])"
      ]
     },
     "execution_count": 87,
     "metadata": {},
     "output_type": "execute_result"
    }
   ],
   "source": [
    "# we can also use functions\n",
    "var1 = np.array([1,2,3,4])\n",
    "var2 = np.array([1,2,3,4])\n",
    "varadd = np.add(var1, var2)\n",
    "varadd"
   ]
  },
  {
   "cell_type": "code",
   "execution_count": 88,
   "id": "664506d0-6347-4c9e-a8e3-c6aa21bfee87",
   "metadata": {},
   "outputs": [
    {
     "data": {
      "text/plain": [
       "array([[ 4,  6,  8, 10],\n",
       "       [ 8, 10, 12, 14]])"
      ]
     },
     "execution_count": 88,
     "metadata": {},
     "output_type": "execute_result"
    }
   ],
   "source": [
    "# 2d array\n",
    "var1 = np.array([[1,2,3,4], [1,2,3,4]])\n",
    "var2 = np.array([[3,4,5,6], [7,8,9,10]])\n",
    "varadd = var1 + var2\n",
    "varadd"
   ]
  },
  {
   "cell_type": "code",
   "execution_count": 89,
   "id": "69d71a57-642e-481f-bd13-6bb73f444cd6",
   "metadata": {},
   "outputs": [
    {
     "data": {
      "text/plain": [
       "array([1, 0, 0, 0])"
      ]
     },
     "execution_count": 89,
     "metadata": {},
     "output_type": "execute_result"
    }
   ],
   "source": [
    "# reciprocal function\n",
    "var = np.array([1,2,3,4])\n",
    "var_reci = np.reciprocal(var)\n",
    "var_reci"
   ]
  },
  {
   "cell_type": "code",
   "execution_count": null,
   "id": "ccaa9dd5-954a-43a0-881c-90e4ee4d6f7f",
   "metadata": {},
   "outputs": [],
   "source": []
  }
 ],
 "metadata": {
  "kernelspec": {
   "display_name": "Python 3 (ipykernel)",
   "language": "python",
   "name": "python3"
  },
  "language_info": {
   "codemirror_mode": {
    "name": "ipython",
    "version": 3
   },
   "file_extension": ".py",
   "mimetype": "text/x-python",
   "name": "python",
   "nbconvert_exporter": "python",
   "pygments_lexer": "ipython3",
   "version": "3.11.4"
  }
 },
 "nbformat": 4,
 "nbformat_minor": 5
}
