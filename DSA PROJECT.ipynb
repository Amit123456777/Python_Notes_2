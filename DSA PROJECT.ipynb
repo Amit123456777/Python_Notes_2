{
 "cells": [
  {
   "cell_type": "code",
   "execution_count": 2,
   "id": "26d9d692",
   "metadata": {},
   "outputs": [
    {
     "name": "stdout",
     "output_type": "stream",
     "text": [
      "what is your name ? Amit Sharma\n",
      "welcome Amit Sharma\n"
     ]
    }
   ],
   "source": [
    "#       1.  QUESTIONS RELATED TO (TAKING INPUT FROM USER)\n",
    "\n",
    "# taking input from user\n",
    "name = input(\"what is your name ? \")\n",
    "print(\"welcome\", name)"
   ]
  },
  {
   "cell_type": "code",
   "execution_count": 6,
   "id": "128ecf4a",
   "metadata": {},
   "outputs": [
    {
     "name": "stdout",
     "output_type": "stream",
     "text": [
      "mark sub1: 80\n",
      "mark sub2: 90\n",
      "The total mark is:  170\n"
     ]
    }
   ],
   "source": [
    "# program to add inputs\n",
    "sub1 = int(input(\"mark sub1: \"))\n",
    "sub2 = int(input(\"mark sub2: \"))\n",
    "total = sub1 + sub2\n",
    "print(\"The total mark is: \", total)"
   ]
  },
  {
   "cell_type": "code",
   "execution_count": 8,
   "id": "060666ab",
   "metadata": {},
   "outputs": [
    {
     "name": "stdout",
     "output_type": "stream",
     "text": [
      "enter base: 5\n",
      "enter height: 8\n",
      "20.0\n"
     ]
    }
   ],
   "source": [
    "# AREA OF TRIANGLE\n",
    "\n",
    "b = float(input(\"enter base: \"))\n",
    "h = float(input(\"enter height: \"))\n",
    "area = 1/2 * b * h\n",
    "print(area)"
   ]
  },
  {
   "cell_type": "code",
   "execution_count": 13,
   "id": "3b682084",
   "metadata": {},
   "outputs": [
    {
     "name": "stdout",
     "output_type": "stream",
     "text": [
      "enter length of 1st side: 3\n",
      "enter length of 2nd side: 4\n",
      "enter length of 3rd side: 5\n",
      "\n",
      "Area of the triangle is :  6.0\n"
     ]
    }
   ],
   "source": [
    "# area of triangle (if perimeter is given)\n",
    "\n",
    "a = float(input(\"enter length of 1st side: \"))   # 3\n",
    "b = float(input(\"enter length of 2nd side: \"))   # 4\n",
    "c = float(input(\"enter length of 3rd side: \"))   # 5\n",
    "\n",
    "# calculate semi-perimeter\n",
    "s = (a+b+c)/2\n",
    "# calculate Area\n",
    "area = (s*(s-a) * (s-b) * (s-c)) ** 0.5\n",
    "print(\"\\nArea of the triangle is : \", area)"
   ]
  },
  {
   "cell_type": "code",
   "execution_count": 2,
   "id": "041f3beb",
   "metadata": {},
   "outputs": [
    {
     "name": "stdout",
     "output_type": "stream",
     "text": [
      "enter any values3\n",
      "it's a chilly day\n",
      "it's a beautiful day\n"
     ]
    }
   ],
   "source": [
    "#         2. QUESTIONS RELATED TO  (IF ELSE CODE)\n",
    "\n",
    "\n",
    "# WRITE A PYTHON PROGRAM TO TELL THE TEMPERATURE BY INPUT\n",
    "\n",
    "temp = int(input(\"enter any values\"))\n",
    "if temp > 30:\n",
    "    print(\"it's a hot day\")\n",
    "elif temp > 25:\n",
    "    print(\"it's a pleasant day\")\n",
    "elif temp > 25:\n",
    "    print(\"it's a cold day\")\n",
    "else:\n",
    "    print(\"it's a chilly day\")\n",
    "print(\"it's a beautiful day\")"
   ]
  },
  {
   "cell_type": "code",
   "execution_count": null,
   "id": "974d3d29",
   "metadata": {},
   "outputs": [
    {
     "name": "stdin",
     "output_type": "stream",
     "text": [
      "marks a:  2\n",
      "marks b:  3\n",
      "marks c:  4\n",
      "marks d:  5\n",
      "marks e:  7\n"
     ]
    },
    {
     "name": "stdout",
     "output_type": "stream",
     "text": [
      "The percentage is: 4.2 %\n"
     ]
    }
   ],
   "source": [
    "# GRADE QUESTION\n",
    "# MAKE A PYTHON PROGRAM USING IF ELSE TO TELL THE GRADES ACCORDING TO THE PERCENTAGE OF MARKS. (USE INPUT FUNCTION)\n",
    "\n",
    "\n",
    "# calculate percentage\n",
    "a = float(input(\"marks a: \"))\n",
    "b = float(input(\"marks b: \"))\n",
    "c = float(input(\"marks c: \"))\n",
    "d = float(input(\"marks d: \"))\n",
    "e = float(input(\"marks e: \"))\n",
    "\n",
    "percentage = (a+b+c+d+e)/500*100\n",
    "print(f\"The percentage is: {percentage} %\")\n",
    "\n",
    "# input percentage\n",
    "percentage = float(input(\"enter marks in percentage: \"))\n",
    "if percentage > 95:\n",
    "    print(\"A+\")\n",
    "elif percentage > 90:\n",
    "    print(\"A\")\n",
    "elif percentage > 80:\n",
    "    print(\"B+\")\n",
    "elif percentage > 70:\n",
    "    print(\"B\")\n",
    "elif percentage > 60:\n",
    "    print(\"C+\")\n",
    "elif percentage > 50:\n",
    "    print(\"C\")\n",
    "elif percentage > 40:\n",
    "    print(\"D+\")\n",
    "elif percentage > 33:\n",
    "    print(\"D\")\n",
    "else:\n",
    "    print(\"F\")"
   ]
  },
  {
   "cell_type": "code",
   "execution_count": 2,
   "id": "fa0a2fd5",
   "metadata": {},
   "outputs": [
    {
     "name": "stdout",
     "output_type": "stream",
     "text": [
      "what is basic: 500\n",
      "100.0\n",
      "250.0\n",
      "55.0\n",
      "The allowance is:  1300\n",
      "The gross salary is : 2095.0\n"
     ]
    }
   ],
   "source": [
    "# CALCULATE GROSS SALARY OF A PERSON CONSIDERING THE FOLLOWING INFORMATION.\n",
    "basic = int(input(\"what is basic: \"))\n",
    "hra = 0.20 * basic\n",
    "da = 0.50 * basic\n",
    "pf = 0.11 * basic \n",
    "print(hra)\n",
    "print(da)\n",
    "print(pf)\n",
    "if basic > 10000:\n",
    "    allowance = 1700\n",
    "elif basic > 5000:\n",
    "    allowance = 15000\n",
    "else:\n",
    "    allowance = 1300\n",
    "print(\"The allowance is: \", allowance)\n",
    "\n",
    "gs = basic + hra + da + allowance - pf\n",
    "print(\"The gross salary is :\" , gs)"
   ]
  },
  {
   "cell_type": "code",
   "execution_count": 10,
   "id": "340bfd6c",
   "metadata": {},
   "outputs": [
    {
     "name": "stdout",
     "output_type": "stream",
     "text": [
      "Enter first number : 3\n",
      "Enter second number : 2\n",
      "----press keys for operator (+,-,*,/,%)----------\n",
      "Enter operator : +\n",
      "5\n"
     ]
    }
   ],
   "source": [
    "#                 3. python project to build a calculator\n",
    "#Let’s build a Calculator\n",
    "#Our Calculator\n",
    "first = input(\"Enter first number : \")\n",
    "second = input(\"Enter second number : \")\n",
    "first = int(first)\n",
    "second = int(second)\n",
    "print(\"----press keys for operator (+,-,*,/,%)----------\")\n",
    "operator = input(\"Enter operator : \")\n",
    "if operator == \"+\":\n",
    "    print(first + second)\n",
    "elif operator == \"-\":\n",
    "    print(first - second)\n",
    "elif operator == \"*\":\n",
    "    print(first * second)\n",
    "elif operator == \"/\":\n",
    "    print(first / second)\n",
    "elif operator == \"%\":\n",
    "    print(first % second)\n",
    "else:\n",
    "    print(\"Invalid Operation\")"
   ]
  },
  {
   "cell_type": "code",
   "execution_count": null,
   "id": "632033d4",
   "metadata": {},
   "outputs": [],
   "source": [
    "#               4. BELOW QUESTIONS RELATED TO  (DEF FUNCTIONS)\n",
    "\n",
    "# write program to print \"HELLO WORLD\" using def function.\n",
    "\n",
    "def myfunction():\n",
    "    print(\"Hello World\")\n",
    "myfunction()"
   ]
  },
  {
   "cell_type": "code",
   "execution_count": 7,
   "id": "17fedec4",
   "metadata": {},
   "outputs": [
    {
     "name": "stdout",
     "output_type": "stream",
     "text": [
      "Happy birday to you !may god bless you !Happy birthday to you !\n",
      "Happy birday to you !may god bless you !Happy birthday to you !\n",
      "Happy birday to you !may god bless you !Happy birthday to you !\n"
     ]
    }
   ],
   "source": [
    "# WRITE A PYTHON PROGRAM TO PRINT HAPPY BIRTHDAY WISH 3 TIMES USING DEF FUNCTION.\n",
    "\n",
    "def myfunction():\n",
    "    print(\"Happy birday to you !may god bless you !Happy birthday to you !\")\n",
    "myfunction()\n",
    "myfunction()\n",
    "myfunction()"
   ]
  },
  {
   "cell_type": "code",
   "execution_count": null,
   "id": "7115c8e5",
   "metadata": {},
   "outputs": [],
   "source": []
  }
 ],
 "metadata": {
  "kernelspec": {
   "display_name": "Python 3 (ipykernel)",
   "language": "python",
   "name": "python3"
  },
  "language_info": {
   "codemirror_mode": {
    "name": "ipython",
    "version": 3
   },
   "file_extension": ".py",
   "mimetype": "text/x-python",
   "name": "python",
   "nbconvert_exporter": "python",
   "pygments_lexer": "ipython3",
   "version": "3.11.4"
  }
 },
 "nbformat": 4,
 "nbformat_minor": 5
}
