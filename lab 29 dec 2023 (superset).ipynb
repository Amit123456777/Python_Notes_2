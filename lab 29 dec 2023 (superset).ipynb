{
 "cells": [
  {
   "cell_type": "code",
   "execution_count": 7,
   "id": "adc0d444",
   "metadata": {},
   "outputs": [
    {
     "ename": "SyntaxError",
     "evalue": "invalid syntax (1132311471.py, line 5)",
     "output_type": "error",
     "traceback": [
      "\u001b[1;36m  Cell \u001b[1;32mIn[7], line 5\u001b[1;36m\u001b[0m\n\u001b[1;33m    if not main_set.issuperset(subset) or main _set == subset:\u001b[0m\n\u001b[1;37m                                               ^\u001b[0m\n\u001b[1;31mSyntaxError\u001b[0m\u001b[1;31m:\u001b[0m invalid syntax\n"
     ]
    }
   ],
   "source": [
    "# python program to check is superset or not."
   ]
  },
  {
   "cell_type": "code",
   "execution_count": 14,
   "id": "6a20df2d",
   "metadata": {},
   "outputs": [
    {
     "name": "stdout",
     "output_type": "stream",
     "text": [
      "<function is_strict_superset at 0x000002D5E6A72200>\n"
     ]
    }
   ],
   "source": [
    "def is_strict_superset(main_set,other_sets):\n",
    "    result = True\n",
    "    \n",
    "    for subset in other_sets:\n",
    "        if not main_set.issuperset(subset) or main_set == subset:\n",
    "    \n",
    "            result = false\n",
    "            break\n",
    "        result\n",
    "main_set = {1,2,3,4,5}\n",
    "other_sets = {1,8},{2,3},{1,2,3}\n",
    "\n",
    "print(is_strict_superset)"
   ]
  },
  {
   "cell_type": "code",
   "execution_count": 37,
   "id": "a5c1de15",
   "metadata": {},
   "outputs": [
    {
     "name": "stdout",
     "output_type": "stream",
     "text": [
      "False\n"
     ]
    }
   ],
   "source": [
    "def is_strict_superset(main_set,other_sets):\n",
    "    result = True\n",
    "    \n",
    "    for subset in other_sets:\n",
    "        if not main_set.issuperset(subset) or main_set == subset:\n",
    "            result = False\n",
    "            break\n",
    "    return result\n",
    "main_set = {1,2,3,4,5}\n",
    "other_sets = [{1,8},{2,3},{1,2,3}]\n",
    "print(is_strict_superset(main_set,other_sets))"
   ]
  },
  {
   "cell_type": "code",
   "execution_count": 35,
   "id": "c028baad",
   "metadata": {},
   "outputs": [
    {
     "name": "stdout",
     "output_type": "stream",
     "text": [
      "None\n"
     ]
    }
   ],
   "source": [
    "def is_strict_superset(main_set, other_sets):\n",
    "    result = True\n",
    "    \n",
    "    for subset in other_sets:\n",
    "        if not main_set.issuperset(subset) or main_set == subset:\n",
    "            result = False\n",
    "            break\n",
    "    \n",
    "    return result\n",
    "\n",
    "main_set = {1, 2, 3, 4, 5}\n",
    "other_sets = [{1, 8}, {2, 3}, {1, 2, 3}]  # Use a list of sets for other_sets\n",
    "print(is_strict_superset(main_set, other_sets))\n"
   ]
  },
  {
   "cell_type": "code",
   "execution_count": null,
   "id": "7850aa15",
   "metadata": {},
   "outputs": [],
   "source": []
  },
  {
   "cell_type": "code",
   "execution_count": null,
   "id": "ccb4ae9d",
   "metadata": {},
   "outputs": [],
   "source": []
  }
 ],
 "metadata": {
  "kernelspec": {
   "display_name": "Python 3 (ipykernel)",
   "language": "python",
   "name": "python3"
  },
  "language_info": {
   "codemirror_mode": {
    "name": "ipython",
    "version": 3
   },
   "file_extension": ".py",
   "mimetype": "text/x-python",
   "name": "python",
   "nbconvert_exporter": "python",
   "pygments_lexer": "ipython3",
   "version": "3.11.4"
  }
 },
 "nbformat": 4,
 "nbformat_minor": 5
}
