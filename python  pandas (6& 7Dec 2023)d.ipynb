{
 "cells": [
  {
   "cell_type": "code",
   "execution_count": 4,
   "id": "c8196b0e",
   "metadata": {
    "scrolled": true
   },
   "outputs": [],
   "source": [
    "# see first database notebook for theory notes"
   ]
  },
  {
   "cell_type": "code",
   "execution_count": null,
   "id": "b92ee2ee",
   "metadata": {},
   "outputs": [],
   "source": [
    "pip install pandas"
   ]
  },
  {
   "cell_type": "code",
   "execution_count": 5,
   "id": "3aff4a31",
   "metadata": {},
   "outputs": [
    {
     "name": "stdout",
     "output_type": "stream",
     "text": [
      "    cars  passings\n",
      "0    BMW         3\n",
      "1  Volvo         7\n",
      "2   Ford         2\n"
     ]
    }
   ],
   "source": [
    "import pandas\n",
    "\n",
    "mydataset = {\n",
    "  'cars': [\"BMW\", \"Volvo\", \"Ford\"],\n",
    "  'passings': [3, 7, 2]\n",
    "}\n",
    "\n",
    "myvar = pandas.DataFrame(mydataset)   # D and F is capital\n",
    "\n",
    "print(myvar)   # myvar any variable name"
   ]
  },
  {
   "cell_type": "code",
   "execution_count": 3,
   "id": "c6a75759",
   "metadata": {},
   "outputs": [
    {
     "name": "stdout",
     "output_type": "stream",
     "text": [
      "   fruits  number\n",
      "0   Apple       3\n",
      "1   Mango      10\n",
      "2  cherry       9\n"
     ]
    }
   ],
   "source": [
    "import pandas\n",
    "mydataset = {\n",
    "    \"fruits\" : [\"Apple\", \"Mango\", \"cherry\"],\n",
    "    \"number\" : [3,10,9]\n",
    "}\n",
    "\n",
    "myvar = pandas.DataFrame(mydataset)\n",
    "print(myvar)"
   ]
  },
  {
   "cell_type": "code",
   "execution_count": 2,
   "id": "9289c6cc",
   "metadata": {},
   "outputs": [],
   "source": [
    "import pandas as pd\n"
   ]
  },
  {
   "cell_type": "code",
   "execution_count": 4,
   "id": "48e93f8c",
   "metadata": {},
   "outputs": [
    {
     "name": "stdout",
     "output_type": "stream",
     "text": [
      "0    10\n",
      "1    20\n",
      "2    30\n",
      "dtype: int64\n"
     ]
    }
   ],
   "source": [
    "series1 = pd.Series([10,20,30])\n",
    "print(series1)"
   ]
  },
  {
   "cell_type": "code",
   "execution_count": 13,
   "id": "2380bd72",
   "metadata": {},
   "outputs": [
    {
     "name": "stdout",
     "output_type": "stream",
     "text": [
      "a     Alex\n",
      "b     scot\n",
      "c    tiger\n",
      "dtype: object\n",
      "<class 'pandas.core.series.Series'>\n"
     ]
    }
   ],
   "source": [
    "# creation of series from scaler values\n",
    "series2 = pd.Series([\"Alex\",\"scot\",\"tiger\"], index=(\"a\",\"b\",\"c\"))\n",
    "print(series2)\n",
    "print(type(series2))"
   ]
  },
  {
   "cell_type": "code",
   "execution_count": 20,
   "id": "5ecf9d99",
   "metadata": {},
   "outputs": [
    {
     "name": "stdout",
     "output_type": "stream",
     "text": [
      "c    1\n",
      "a    2\n",
      "b    3\n",
      "dtype: int64\n",
      "<class 'pandas.core.series.Series'>\n"
     ]
    }
   ],
   "source": [
    "series2 = pd.Series([1,2,3], index=[\"c\",\"a\",\"b\"])\n",
    "print(series2)\n",
    "print(type(series2))\n",
    "# reverse means jha number hai wha string and vice versa,"
   ]
  },
  {
   "cell_type": "code",
   "execution_count": 29,
   "id": "0edf2778",
   "metadata": {},
   "outputs": [
    {
     "name": "stdout",
     "output_type": "stream",
     "text": [
      "0    1\n",
      "1    2\n",
      "2    3\n",
      "3    4\n",
      "dtype: int32\n"
     ]
    }
   ],
   "source": [
    "# creation of series from numpy arrays    \n",
    "# array ka all caluculation numpy me ho jata hai\n",
    "# one dimensional\n",
    "import numpy as np\n",
    "import pandas as pd\n",
    "arr1 = np.array([1,2,3,4])\n",
    "series3 = pd.Series(arr1)\n",
    "print(series3)"
   ]
  },
  {
   "cell_type": "code",
   "execution_count": 3,
   "id": "5c00341e",
   "metadata": {},
   "outputs": [
    {
     "name": "stdout",
     "output_type": "stream",
     "text": [
      "a    1\n",
      "b    2\n",
      "c    3\n",
      "d    4\n",
      "dtype: int32\n",
      "<class 'pandas.core.series.Series'>\n"
     ]
    }
   ],
   "source": [
    "import numpy as np\n",
    "import pandas as pd\n",
    "arr1 = np.array([1,2,3,4])\n",
    "series4 = pd.Series(arr1,index= [\"a\",\"b\",\"c\",\"d\"])\n",
    "print(series4)\n",
    "print(type(series4))\n",
    "\n",
    "# index should be equal to number"
   ]
  },
  {
   "cell_type": "code",
   "execution_count": 46,
   "id": "ddb0868f",
   "metadata": {},
   "outputs": [
    {
     "name": "stdout",
     "output_type": "stream",
     "text": [
      "{'india': 'newdelhi', 'uk': 'london', 'japan': 'tokya'}\n"
     ]
    }
   ],
   "source": [
    "# creation of series from dictionary\n",
    "dict1 = {\"india\":\"newdelhi\", \"uk\":\"london\", \"japan\":\"tokya\"}\n",
    "print(dict1)"
   ]
  },
  {
   "cell_type": "code",
   "execution_count": 47,
   "id": "c2b088c4",
   "metadata": {},
   "outputs": [],
   "source": [
    "# case 1 series\n",
    "# case 2 array \n",
    "# case 3 dictionary"
   ]
  },
  {
   "cell_type": "code",
   "execution_count": 48,
   "id": "fe69a00b",
   "metadata": {},
   "outputs": [],
   "source": [
    "# accesing array with series\n",
    "# two comman way for accesing the element of the series\n",
    "# 1. indexing\n",
    "# positional index\n",
    "# level index\n",
    "# 2. slicing"
   ]
  },
  {
   "cell_type": "code",
   "execution_count": 49,
   "id": "27afcbb4",
   "metadata": {},
   "outputs": [
    {
     "name": "stdout",
     "output_type": "stream",
     "text": [
      "30\n"
     ]
    }
   ],
   "source": [
    "# example\n",
    "series_num = pd.Series([10, 20, 30])   #index 0,1,2\n",
    "print(series_num[2])"
   ]
  },
  {
   "cell_type": "code",
   "execution_count": 53,
   "id": "ca4fc0fa",
   "metadata": {},
   "outputs": [
    {
     "name": "stdout",
     "output_type": "stream",
     "text": [
      "30\n"
     ]
    }
   ],
   "source": [
    "series_num = pd.Series([10, 20, 30], index = (\"a\",\"b\",\"c\"))  #index 0,1,2\n",
    "print(series_num[2])"
   ]
  },
  {
   "cell_type": "code",
   "execution_count": 55,
   "id": "df775a79",
   "metadata": {},
   "outputs": [
    {
     "name": "stdout",
     "output_type": "stream",
     "text": [
      "20 30\n"
     ]
    }
   ],
   "source": [
    "# for aceesing 2 values\n",
    "series_num = pd.Series([10, 20, 30])   #index 0,1,2\n",
    "print(series_num[1],series_num[2])"
   ]
  },
  {
   "cell_type": "code",
   "execution_count": 58,
   "id": "4e5c2af3",
   "metadata": {},
   "outputs": [
    {
     "name": "stdout",
     "output_type": "stream",
     "text": [
      "1    20\n",
      "dtype: int64\n"
     ]
    }
   ],
   "source": [
    "series_num = pd.Series([10, 20, 30]) \n",
    "print(series_num[1:2])"
   ]
  },
  {
   "cell_type": "code",
   "execution_count": 61,
   "id": "58e03271",
   "metadata": {},
   "outputs": [
    {
     "name": "stdout",
     "output_type": "stream",
     "text": [
      "2    30\n",
      "1    20\n",
      "0    10\n",
      "dtype: int64\n"
     ]
    }
   ],
   "source": [
    "# revesing colon colon -1 \n",
    "series_num = pd.Series([10, 20, 30]) \n",
    "print(series_num[::-1])"
   ]
  },
  {
   "cell_type": "code",
   "execution_count": 62,
   "id": "6cadecc5",
   "metadata": {},
   "outputs": [
    {
     "name": "stdout",
     "output_type": "stream",
     "text": [
      "0    10\n",
      "1    11\n",
      "2    12\n",
      "3    13\n",
      "4    14\n",
      "5    15\n",
      "dtype: int32\n"
     ]
    }
   ],
   "source": [
    "# MODIFY THE VALUE OF SERIES ELEMENTS USING SLICING\n",
    "series_num = pd.Series(np.arange(10,16,1)) \n",
    "print(series_num)"
   ]
  },
  {
   "cell_type": "code",
   "execution_count": 63,
   "id": "e691a265",
   "metadata": {},
   "outputs": [
    {
     "name": "stdout",
     "output_type": "stream",
     "text": [
      "a    10\n",
      "b    11\n",
      "c    12\n",
      "d    13\n",
      "e    14\n",
      "f    15\n",
      "dtype: int32\n"
     ]
    }
   ],
   "source": [
    "series_num = pd.Series(np.arange(10,16,1), index = (\"a\", \"b\", \"c\", \"d\", \"e\",\"f\"))   # small bracket\n",
    "print(series_num) "
   ]
  },
  {
   "cell_type": "code",
   "execution_count": 7,
   "id": "ce851c60",
   "metadata": {},
   "outputs": [
    {
     "name": "stdout",
     "output_type": "stream",
     "text": [
      "a    10\n",
      "b    11\n",
      "c    12\n",
      "d    13\n",
      "e    14\n",
      "f    15\n",
      "dtype: int32\n"
     ]
    }
   ],
   "source": [
    "series_num = pd.Series(np.arange(10,16,1), index = [\"a\", \"b\", \"c\", \"d\", \"e\",\"f\"])\n",
    "print(series_num)"
   ]
  },
  {
   "cell_type": "code",
   "execution_count": 9,
   "id": "735eae9d",
   "metadata": {},
   "outputs": [
    {
     "ename": "ValueError",
     "evalue": "Length of values (5) does not match length of index (6)",
     "output_type": "error",
     "traceback": [
      "\u001b[1;31m---------------------------------------------------------------------------\u001b[0m",
      "\u001b[1;31mValueError\u001b[0m                                Traceback (most recent call last)",
      "Cell \u001b[1;32mIn[9], line 1\u001b[0m\n\u001b[1;32m----> 1\u001b[0m series_num \u001b[38;5;241m=\u001b[39m pd\u001b[38;5;241m.\u001b[39mSeries(np\u001b[38;5;241m.\u001b[39marange(\u001b[38;5;241m2\u001b[39m,\u001b[38;5;241m15\u001b[39m,\u001b[38;5;241m3\u001b[39m), index \u001b[38;5;241m=\u001b[39m (\u001b[38;5;124m\"\u001b[39m\u001b[38;5;124ma\u001b[39m\u001b[38;5;124m\"\u001b[39m, \u001b[38;5;124m\"\u001b[39m\u001b[38;5;124mb\u001b[39m\u001b[38;5;124m\"\u001b[39m, \u001b[38;5;124m\"\u001b[39m\u001b[38;5;124mc\u001b[39m\u001b[38;5;124m\"\u001b[39m, \u001b[38;5;124m\"\u001b[39m\u001b[38;5;124md\u001b[39m\u001b[38;5;124m\"\u001b[39m, \u001b[38;5;124m\"\u001b[39m\u001b[38;5;124me\u001b[39m\u001b[38;5;124m\"\u001b[39m,\u001b[38;5;124m\"\u001b[39m\u001b[38;5;124mf\u001b[39m\u001b[38;5;124m\"\u001b[39m))   \u001b[38;5;66;03m# small bracket\u001b[39;00m\n\u001b[0;32m      2\u001b[0m \u001b[38;5;28mprint\u001b[39m(series_num)\n",
      "File \u001b[1;32m~\\AppData\\Roaming\\Python\\Python311\\site-packages\\pandas\\core\\series.py:500\u001b[0m, in \u001b[0;36mSeries.__init__\u001b[1;34m(self, data, index, dtype, name, copy, fastpath)\u001b[0m\n\u001b[0;32m    498\u001b[0m     index \u001b[38;5;241m=\u001b[39m default_index(\u001b[38;5;28mlen\u001b[39m(data))\n\u001b[0;32m    499\u001b[0m \u001b[38;5;28;01melif\u001b[39;00m is_list_like(data):\n\u001b[1;32m--> 500\u001b[0m     com\u001b[38;5;241m.\u001b[39mrequire_length_match(data, index)\n\u001b[0;32m    502\u001b[0m \u001b[38;5;66;03m# create/copy the manager\u001b[39;00m\n\u001b[0;32m    503\u001b[0m \u001b[38;5;28;01mif\u001b[39;00m \u001b[38;5;28misinstance\u001b[39m(data, (SingleBlockManager, SingleArrayManager)):\n",
      "File \u001b[1;32m~\\AppData\\Roaming\\Python\\Python311\\site-packages\\pandas\\core\\common.py:576\u001b[0m, in \u001b[0;36mrequire_length_match\u001b[1;34m(data, index)\u001b[0m\n\u001b[0;32m    572\u001b[0m \u001b[38;5;250m\u001b[39m\u001b[38;5;124;03m\"\"\"\u001b[39;00m\n\u001b[0;32m    573\u001b[0m \u001b[38;5;124;03mCheck the length of data matches the length of the index.\u001b[39;00m\n\u001b[0;32m    574\u001b[0m \u001b[38;5;124;03m\"\"\"\u001b[39;00m\n\u001b[0;32m    575\u001b[0m \u001b[38;5;28;01mif\u001b[39;00m \u001b[38;5;28mlen\u001b[39m(data) \u001b[38;5;241m!=\u001b[39m \u001b[38;5;28mlen\u001b[39m(index):\n\u001b[1;32m--> 576\u001b[0m     \u001b[38;5;28;01mraise\u001b[39;00m \u001b[38;5;167;01mValueError\u001b[39;00m(\n\u001b[0;32m    577\u001b[0m         \u001b[38;5;124m\"\u001b[39m\u001b[38;5;124mLength of values \u001b[39m\u001b[38;5;124m\"\u001b[39m\n\u001b[0;32m    578\u001b[0m         \u001b[38;5;124mf\u001b[39m\u001b[38;5;124m\"\u001b[39m\u001b[38;5;124m(\u001b[39m\u001b[38;5;132;01m{\u001b[39;00m\u001b[38;5;28mlen\u001b[39m(data)\u001b[38;5;132;01m}\u001b[39;00m\u001b[38;5;124m) \u001b[39m\u001b[38;5;124m\"\u001b[39m\n\u001b[0;32m    579\u001b[0m         \u001b[38;5;124m\"\u001b[39m\u001b[38;5;124mdoes not match length of index \u001b[39m\u001b[38;5;124m\"\u001b[39m\n\u001b[0;32m    580\u001b[0m         \u001b[38;5;124mf\u001b[39m\u001b[38;5;124m\"\u001b[39m\u001b[38;5;124m(\u001b[39m\u001b[38;5;132;01m{\u001b[39;00m\u001b[38;5;28mlen\u001b[39m(index)\u001b[38;5;132;01m}\u001b[39;00m\u001b[38;5;124m)\u001b[39m\u001b[38;5;124m\"\u001b[39m\n\u001b[0;32m    581\u001b[0m     )\n",
      "\u001b[1;31mValueError\u001b[0m: Length of values (5) does not match length of index (6)"
     ]
    }
   ],
   "source": [
    "series_num = pd.Series(np.arange(2,15,3), index = (\"a\", \"b\", \"c\", \"d\", \"e\",\"f\"))   # small bracket\n",
    "print(series_num) "
   ]
  },
  {
   "cell_type": "code",
   "execution_count": null,
   "id": "45e2931d",
   "metadata": {},
   "outputs": [],
   "source": []
  }
 ],
 "metadata": {
  "kernelspec": {
   "display_name": "Python 3 (ipykernel)",
   "language": "python",
   "name": "python3"
  },
  "language_info": {
   "codemirror_mode": {
    "name": "ipython",
    "version": 3
   },
   "file_extension": ".py",
   "mimetype": "text/x-python",
   "name": "python",
   "nbconvert_exporter": "python",
   "pygments_lexer": "ipython3",
   "version": "3.11.4"
  }
 },
 "nbformat": 4,
 "nbformat_minor": 5
}
