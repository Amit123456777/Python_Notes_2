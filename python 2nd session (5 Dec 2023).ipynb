{
 "cells": [
  {
   "cell_type": "code",
   "execution_count": 5,
   "id": "19b4c141",
   "metadata": {},
   "outputs": [],
   "source": [
    "# first see note in database notebook\n",
    "\n",
    "\n",
    "import statistics\n",
    "import math"
   ]
  },
  {
   "cell_type": "code",
   "execution_count": 6,
   "id": "b5d49699",
   "metadata": {},
   "outputs": [
    {
     "name": "stdout",
     "output_type": "stream",
     "text": [
      "7\n"
     ]
    }
   ],
   "source": [
    "print(statistics.mean([1,3,5,7,9,11,13]))"
   ]
  },
  {
   "cell_type": "code",
   "execution_count": 7,
   "id": "2f5d0049",
   "metadata": {},
   "outputs": [],
   "source": [
    "import math"
   ]
  },
  {
   "cell_type": "code",
   "execution_count": 8,
   "id": "e0f314bd",
   "metadata": {},
   "outputs": [
    {
     "name": "stdout",
     "output_type": "stream",
     "text": [
      "729.0\n"
     ]
    }
   ],
   "source": [
    "print(math.pow(9,3))"
   ]
  },
  {
   "cell_type": "code",
   "execution_count": 7,
   "id": "60b50b4a",
   "metadata": {},
   "outputs": [
    {
     "name": "stdout",
     "output_type": "stream",
     "text": [
      "3\n"
     ]
    }
   ],
   "source": [
    "print(statistics.mode([1,3,5,7,9,11,3,3,3,13]))"
   ]
  },
  {
   "cell_type": "code",
   "execution_count": 12,
   "id": "1670e789",
   "metadata": {},
   "outputs": [
    {
     "name": "stdout",
     "output_type": "stream",
     "text": [
      "0.6931471805599453\n"
     ]
    }
   ],
   "source": [
    "print(math.log(2))"
   ]
  },
  {
   "cell_type": "code",
   "execution_count": 10,
   "id": "dea8b7f2",
   "metadata": {},
   "outputs": [],
   "source": [
    "import random"
   ]
  },
  {
   "cell_type": "code",
   "execution_count": 14,
   "id": "f054c6ec",
   "metadata": {},
   "outputs": [
    {
     "name": "stdout",
     "output_type": "stream",
     "text": [
      "5\n"
     ]
    }
   ],
   "source": [
    "print(random.randrange(3,9))"
   ]
  },
  {
   "cell_type": "code",
   "execution_count": 17,
   "id": "2d0a600b",
   "metadata": {},
   "outputs": [
    {
     "name": "stdout",
     "output_type": "stream",
     "text": [
      "9\n"
     ]
    }
   ],
   "source": [
    "print(random.randint(3,9))"
   ]
  },
  {
   "cell_type": "code",
   "execution_count": 25,
   "id": "0026cb37",
   "metadata": {},
   "outputs": [
    {
     "name": "stdout",
     "output_type": "stream",
     "text": [
      "0.7842883473330088\n"
     ]
    }
   ],
   "source": [
    "import random\n",
    "print(random.random())\n",
    "# gives number between o and 1 "
   ]
  },
  {
   "cell_type": "code",
   "execution_count": 29,
   "id": "828e8adf",
   "metadata": {},
   "outputs": [
    {
     "name": "stdout",
     "output_type": "stream",
     "text": [
      "3.141592653589793\n"
     ]
    }
   ],
   "source": [
    "import math\n",
    "print(math.pi)"
   ]
  },
  {
   "cell_type": "code",
   "execution_count": 52,
   "id": "d1ccaa84",
   "metadata": {},
   "outputs": [
    {
     "name": "stdout",
     "output_type": "stream",
     "text": [
      "3.141592653589793\n",
      "2.0\n",
      "8\n",
      "20\n",
      "1.0\n",
      "0.8939966636005579\n",
      "0.5403023058681398\n",
      "1.6197751905438615\n",
      "729.0\n"
     ]
    }
   ],
   "source": [
    "import math\n",
    "print(math.pi)\n",
    "print(math.sqrt(4))\n",
    "print(math.ceil(7.123))  # upar\n",
    "print(math.floor(20.189))  #niche\n",
    "print(math.fabs(-1))   # absolute valute\n",
    "print(math.sin(90))\n",
    "print(math.cos(1))\n",
    "print(math.tan(45))\n",
    "print(math.pow(9,3))"
   ]
  },
  {
   "cell_type": "code",
   "execution_count": null,
   "id": "540cacdd",
   "metadata": {},
   "outputs": [],
   "source": [
    "#random code\n",
    "# random\n",
    "# randomint\n",
    "# randomranage\n",
    "\n",
    "highest marks 20 python"
   ]
  }
 ],
 "metadata": {
  "kernelspec": {
   "display_name": "Python 3 (ipykernel)",
   "language": "python",
   "name": "python3"
  },
  "language_info": {
   "codemirror_mode": {
    "name": "ipython",
    "version": 3
   },
   "file_extension": ".py",
   "mimetype": "text/x-python",
   "name": "python",
   "nbconvert_exporter": "python",
   "pygments_lexer": "ipython3",
   "version": "3.11.4"
  }
 },
 "nbformat": 4,
 "nbformat_minor": 5
}
