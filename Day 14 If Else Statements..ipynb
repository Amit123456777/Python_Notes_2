{
 "cells": [
  {
   "cell_type": "code",
   "execution_count": 4,
   "id": "f103d89c",
   "metadata": {},
   "outputs": [
    {
     "name": "stdout",
     "output_type": "stream",
     "text": [
      "Enter your age 78\n",
      "Your age is: 78\n",
      "You can drive\n",
      "yes\n"
     ]
    }
   ],
   "source": [
    "# if-else\n",
    "\n",
    "a = int(input(\"Enter your age \"))\n",
    "print(\"Your age is:\", a)\n",
    "\n",
    "\n",
    "if(a>18):\n",
    "    print(\"You can drive\")\n",
    "    print(\"yes\")\n",
    "else: \n",
    "    print(\"You cannot drive\")   # else this block of code print\n",
    "    print(\"No\")\n",
    "    print(\"Yah!\")\n",
    "# these space is called indentation in python.\n",
    "# in c++ curly brakets"
   ]
  },
  {
   "cell_type": "code",
   "execution_count": 5,
   "id": "dadb6d91",
   "metadata": {},
   "outputs": [],
   "source": []
  },
  {
   "cell_type": "code",
   "execution_count": null,
   "id": "80eaf26f",
   "metadata": {},
   "outputs": [],
   "source": []
  },
  {
   "cell_type": "code",
   "execution_count": 1,
   "id": "ce121fb6",
   "metadata": {},
   "outputs": [
    {
     "name": "stdout",
     "output_type": "stream",
     "text": [
      "Alexa, do not add Apples to the cart.\n"
     ]
    }
   ],
   "source": [
    "applePrice = 210\n",
    "budget = 200\n",
    "if (applePrice <= budget): \n",
    "    print(\"Alexa, add 1 kg Apples to the cart.\")\n",
    "else:\n",
    "    print(\"Alexa, do not add Apples to the cart.\")"
   ]
  },
  {
   "cell_type": "code",
   "execution_count": 4,
   "id": "911933ed",
   "metadata": {},
   "outputs": [
    {
     "name": "stdout",
     "output_type": "stream",
     "text": [
      "Alexa, do not add Apples to the cart.\n"
     ]
    }
   ],
   "source": [
    "applePrice = 210\n",
    "budget = 200\n",
    "if (budget - applePrice > 70):\n",
    "    print(\"Alexa, add 1 kg Apples to the cart.\")\n",
    "else:\n",
    "    print(\"Alexa, do not add Apples to the cart.\")"
   ]
  },
  {
   "cell_type": "code",
   "execution_count": null,
   "id": "f92c8eb9",
   "metadata": {},
   "outputs": [],
   "source": []
  },
  {
   "cell_type": "code",
   "execution_count": 1,
   "id": "4bcd791b",
   "metadata": {},
   "outputs": [
    {
     "name": "stdout",
     "output_type": "stream",
     "text": [
      "Enter the value of num: 999\n",
      "Number is Special\n",
      "I am happy now\n"
     ]
    }
   ],
   "source": [
    "num = int(input(\"Enter the value of num: \"))\n",
    "if (num < 0):\n",
    "    print(\"Number is negative.\")\n",
    "elif (num == 0):\n",
    "    print(\"Number is Zero.\")\n",
    "elif (num == 999):\n",
    "    print(\"Number is Special\")\n",
    "else:\n",
    "    print(\"Number is positive.\")\n",
    "\n",
    "print(\"I am happy now\")"
   ]
  },
  {
   "cell_type": "code",
   "execution_count": 2,
   "id": "bf1f2bb3",
   "metadata": {},
   "outputs": [],
   "source": []
  },
  {
   "cell_type": "code",
   "execution_count": 3,
   "id": "7065873d",
   "metadata": {},
   "outputs": [
    {
     "name": "stdout",
     "output_type": "stream",
     "text": [
      "Enter the value of num: 23\n",
      "Number is positive.\n",
      "I am happy now\n"
     ]
    }
   ],
   "source": [
    "# Nested if \n",
    "\n",
    "num = int(input(\"Enter the value of num: \"))\n",
    "if (num < 0):\n",
    "    print(\"Number is negative.\")\n",
    "elif (num == 0):\n",
    "    if (num <= 10):\n",
    "        print(\"Number is between 1-10\")\n",
    "    if (num > 10 and num <= 20):\n",
    "        print(\"Number is between 11-20\")\n",
    "    print(\"Number is Zero.\")\n"
   ]
  },
  {
   "cell_type": "code",
   "execution_count": 20,
   "id": "dd976b99",
   "metadata": {},
   "outputs": [
    {
     "ename": "SyntaxError",
     "evalue": "invalid syntax (475240619.py, line 9)",
     "output_type": "error",
     "traceback": [
      "\u001b[1;36m  Cell \u001b[1;32mIn[20], line 9\u001b[1;36m\u001b[0m\n\u001b[1;33m    elif(num>= 50):\u001b[0m\n\u001b[1;37m    ^\u001b[0m\n\u001b[1;31mSyntaxError\u001b[0m\u001b[1;31m:\u001b[0m invalid syntax\n"
     ]
    }
   ],
   "source": [
    "num = int(input(\"enter the number :\"))\n",
    "if (num < 0):\n",
    "    print(\"less than zero\")\n",
    "elif (num >8):\n",
    "    if (num > 20):\n",
    "        print(\"equal to nine\")\n",
    "        if(num >40):\n",
    "            print(\"greater than 40\")\n",
    "            elif(num>= 50):\n",
    "                print(\"greater than 50\")"
   ]
  },
  {
   "cell_type": "code",
   "execution_count": 3,
   "id": "add2c566",
   "metadata": {},
   "outputs": [
    {
     "name": "stdout",
     "output_type": "stream",
     "text": [
      "enter the number700\n",
      "d\n",
      "e\n",
      "f\n"
     ]
    }
   ],
   "source": [
    "num = int(input(\"enter the number\"))\n",
    "if num >= 1000:\n",
    "    print(\"a\")\n",
    "    if num>= 900:\n",
    "        print(\"b\")\n",
    "        if num >=800:\n",
    "            print(\"c\")\n",
    "elif num >= 700:\n",
    "    print(\"d\")\n",
    "    if num >=600:\n",
    "        print(\"e\")\n",
    "        if num >=500:\n",
    "            print(\"f\")\n",
    "else:\n",
    "    print(\"ok\")\n"
   ]
  },
  {
   "cell_type": "code",
   "execution_count": 9,
   "id": "598ffd03",
   "metadata": {},
   "outputs": [
    {
     "name": "stdout",
     "output_type": "stream",
     "text": [
      "enter the number750\n",
      "d\n",
      "e\n",
      "f\n"
     ]
    }
   ],
   "source": [
    "num = int(input(\"enter the number\"))\n",
    "if num >= 1000:\n",
    "    print(\"a\")\n",
    "    if num>= 900:\n",
    "        print(\"b\")\n",
    "        if num >=800:\n",
    "            print(\"c\")\n",
    "        elif num >=750:\n",
    "                print(\"j\")\n",
    "elif num >= 700:\n",
    "    print(\"d\")\n",
    "    if num >=600:\n",
    "        print(\"e\")\n",
    "        if num >=500:\n",
    "            print(\"f\")\n",
    "else:\n",
    "    print(\"ok\")"
   ]
  },
  {
   "cell_type": "code",
   "execution_count": 11,
   "id": "848bffa0",
   "metadata": {},
   "outputs": [
    {
     "ename": "SyntaxError",
     "evalue": "invalid syntax (1746539933.py, line 9)",
     "output_type": "error",
     "traceback": [
      "\u001b[1;36m  Cell \u001b[1;32mIn[11], line 9\u001b[1;36m\u001b[0m\n\u001b[1;33m    else:\u001b[0m\n\u001b[1;37m    ^\u001b[0m\n\u001b[1;31mSyntaxError\u001b[0m\u001b[1;31m:\u001b[0m invalid syntax\n"
     ]
    }
   ],
   "source": [
    "num = 18\n",
    "if (num < 0):\n",
    "    print(\"Number is negative.\")\n",
    "elif (num > 0):\n",
    "    if (num <= 10):\n",
    "        print(\"Number is between 1-10\")\n",
    "elif (num > 10 and num <= 20):\n",
    "    print(\"Number is between 11-20\")\n",
    "    else:\n",
    "        print(\"Number is greater than 20\")\n",
    "else:\n",
    "    print(\"Number is zero\")"
   ]
  },
  {
   "cell_type": "code",
   "execution_count": 1,
   "id": "426fa2be",
   "metadata": {},
   "outputs": [],
   "source": [
    "# note\n",
    "\n",
    "# Conditional operators\n",
    "# >, <, >=, <=, ==, !=\n",
    "# print(a>18)\n",
    "# print(a<=18)\n",
    "# print(a==18)\n",
    "# print(a!=18)\n",
    "\n",
    "# Note: if-else statements conditional operators ko leta hai\n",
    "\n",
    "# notes\n",
    "# make tutorials on replit see code with harry this video\n",
    "# note: type python abc.py(file name) to run replit code in shell.\n",
    "# also type python3 file_name.py to run.\n",
    "\n",
    "# note: kbhi bi python keyword ya python ke package name se file ni bnani chahiye.\n",
    "# becaz jb hm module ke name se file bnate hai to wo module me ni dekhta file me dekhta hai.to ese error ane lgta hai.\n",
    "# note: v.imp -> jo condition pehle shi hoga python use print krega\n"
   ]
  },
  {
   "cell_type": "code",
   "execution_count": null,
   "id": "1d1bbdf7",
   "metadata": {},
   "outputs": [],
   "source": []
  },
  {
   "cell_type": "code",
   "execution_count": 8,
   "id": "3990bf05",
   "metadata": {},
   "outputs": [
    {
     "name": "stdout",
     "output_type": "stream",
     "text": [
      "greater than 4\n"
     ]
    }
   ],
   "source": [
    "# some other cases of if else\n",
    "# jo conditn pehle satisfy hoga wo print hoga.\n",
    "n = 10\n",
    "if n>4:\n",
    "    print(\"greater than 4\")\n",
    "elif n>2:\n",
    "    print(\"greater than2\")\n",
    "elif n>7:\n",
    "    print(\"greater than 7\")\n"
   ]
  },
  {
   "cell_type": "code",
   "execution_count": 3,
   "id": "f397a87c",
   "metadata": {},
   "outputs": [
    {
     "name": "stdout",
     "output_type": "stream",
     "text": [
      "world\n"
     ]
    }
   ],
   "source": [
    "\n",
    "\n",
    "n = 1\n",
    "if n>2:\n",
    "    print(\"hello\")\n",
    "elif n<10:\n",
    "    print(\"world\")"
   ]
  },
  {
   "cell_type": "code",
   "execution_count": 4,
   "id": "156cd4fa",
   "metadata": {},
   "outputs": [
    {
     "name": "stdout",
     "output_type": "stream",
     "text": [
      "enter any values17\n",
      "it's cold day\n",
      "it's a beautiful day\n"
     ]
    }
   ],
   "source": [
    "temp = int(input(\"enter any values\"))\n",
    "if temp > 30:\n",
    "    print(\"it's a hot day\")\n",
    "elif temp > 25:\n",
    "    print(\"it's a pleasant day\")\n",
    "elif temp > 10:\n",
    "    print(\"it's cold day\")\n",
    "else:\n",
    "    print(\"it's a chilly day\")\n",
    "print(\"it's a beautiful day\")"
   ]
  },
  {
   "cell_type": "code",
   "execution_count": 3,
   "id": "937de2b2",
   "metadata": {},
   "outputs": [
    {
     "name": "stdout",
     "output_type": "stream",
     "text": [
      "c\n"
     ]
    }
   ],
   "source": [
    "# hm only if ko nested kr skte hai elif and else ko nhi\n",
    "n = 17\n",
    "if n > 87:\n",
    "    print(\"a\")\n",
    "    if n> 190:\n",
    "        print(\"b\")\n",
    "elif n> 15:\n",
    "        print(\"c\")"
   ]
  },
  {
   "cell_type": "code",
   "execution_count": 21,
   "id": "c9c37c4a",
   "metadata": {},
   "outputs": [],
   "source": [
    "num = 18\n",
    "if (num < 0):\n",
    "    print(\"Number is negative.\")\n",
    "elif (num > 0):\n",
    "    if (num <= 10):\n",
    "        print(\"Number is between 1-10\")\n",
    "elif (num > 10 and num <= 20):\n",
    "    print(\"Number is between 11-20\")\n",
    "else:\n",
    "    print(\"Number is greater than 20\")\n"
   ]
  },
  {
   "cell_type": "code",
   "execution_count": 14,
   "id": "02b5d296",
   "metadata": {},
   "outputs": [
    {
     "name": "stdout",
     "output_type": "stream",
     "text": [
      "a\n",
      "b\n",
      "c\n"
     ]
    }
   ],
   "source": [
    "num = 20\n",
    "if num > 10:\n",
    "    print(\"a\")\n",
    "    if num >14:\n",
    "        print(\"b\")\n",
    "        if num > 15:\n",
    "            print(\"c\")\n",
    "        elif num >7:\n",
    "            print(\"d\")"
   ]
  },
  {
   "cell_type": "code",
   "execution_count": 20,
   "id": "584888e8",
   "metadata": {},
   "outputs": [
    {
     "ename": "SyntaxError",
     "evalue": "invalid syntax (734044929.py, line 8)",
     "output_type": "error",
     "traceback": [
      "\u001b[1;36m  Cell \u001b[1;32mIn[20], line 8\u001b[1;36m\u001b[0m\n\u001b[1;33m    elif num >7:\u001b[0m\n\u001b[1;37m    ^\u001b[0m\n\u001b[1;31mSyntaxError\u001b[0m\u001b[1;31m:\u001b[0m invalid syntax\n"
     ]
    }
   ],
   "source": [
    "num = 9\n",
    "if num > 10:\n",
    "    print(\"a\")\n",
    "    if num >14:\n",
    "        print(\"b\")\n",
    "        if num > 15:\n",
    "            print(\"c\")\n",
    "            elif num >7:\n",
    "                print(\"d\")"
   ]
  },
  {
   "cell_type": "code",
   "execution_count": 25,
   "id": "ca7dad03",
   "metadata": {},
   "outputs": [
    {
     "name": "stdout",
     "output_type": "stream",
     "text": [
      "d\n",
      "e\n"
     ]
    }
   ],
   "source": [
    "num = 9\n",
    "if num > 10:\n",
    "    print(\"a\")\n",
    "    if num >14:\n",
    "        print(\"b\")\n",
    "        if num > 15:\n",
    "            print(\"c\")\n",
    "elif num >7:\n",
    "    print(\"d\")\n",
    "    if num > 8:\n",
    "        print(\"e\")\n",
    "elif num > 6:\n",
    "            print(\"f\")"
   ]
  },
  {
   "cell_type": "code",
   "execution_count": 29,
   "id": "93a0b1f0",
   "metadata": {},
   "outputs": [
    {
     "name": "stdout",
     "output_type": "stream",
     "text": [
      "f\n"
     ]
    }
   ],
   "source": [
    "num = 6\n",
    "if num > 10:\n",
    "    print(\"a\")\n",
    "    if num >14:\n",
    "        print(\"b\")\n",
    "        if num > 15:\n",
    "            print(\"c\")\n",
    "elif num >=7:\n",
    "    print(\"d\")\n",
    "    if num > 8:\n",
    "        print(\"e\")\n",
    "    \n",
    "elif num >= 6:\n",
    "            print(\"f\")"
   ]
  },
  {
   "cell_type": "code",
   "execution_count": 31,
   "id": "173aace6",
   "metadata": {},
   "outputs": [],
   "source": [
    "num = 100\n",
    "if num >900:\n",
    "    print(\"a\")\n",
    "    if num> 800:\n",
    "        print(\"b\")\n",
    "    e\n"
   ]
  },
  {
   "cell_type": "code",
   "execution_count": 38,
   "id": "55b75f60",
   "metadata": {},
   "outputs": [],
   "source": [
    "num = 1000\n",
    "if num < 90:\n",
    "    print(\"a\")\n",
    "elif num < 90:\n",
    "    print(\"b\")\n",
    "    if num < 60:\n",
    "        print(\"e\")\n",
    "    elif num > 800:\n",
    "        print(\"c\")"
   ]
  },
  {
   "cell_type": "code",
   "execution_count": 39,
   "id": "9561e3c3",
   "metadata": {},
   "outputs": [
    {
     "name": "stdout",
     "output_type": "stream",
     "text": [
      "Number is between 11-20\n"
     ]
    }
   ],
   "source": [
    "num = 18\n",
    "if (num < 0):\n",
    "    print(\"Number is negative.\")\n",
    "elif (num > 0):\n",
    "    if (num <= 10):\n",
    "        print(\"Number is between 1-10\")\n",
    "    elif (num > 10 and num <= 20):\n",
    "        print(\"Number is between 11-20\")\n",
    "    else:\n",
    "        print(\"Number is greater than 20\")\n",
    "else:\n",
    "    print(\"Number is zero\")"
   ]
  },
  {
   "cell_type": "code",
   "execution_count": null,
   "id": "788030fd",
   "metadata": {},
   "outputs": [],
   "source": []
  }
 ],
 "metadata": {
  "kernelspec": {
   "display_name": "Python 3 (ipykernel)",
   "language": "python",
   "name": "python3"
  },
  "language_info": {
   "codemirror_mode": {
    "name": "ipython",
    "version": 3
   },
   "file_extension": ".py",
   "mimetype": "text/x-python",
   "name": "python",
   "nbconvert_exporter": "python",
   "pygments_lexer": "ipython3",
   "version": "3.11.4"
  }
 },
 "nbformat": 4,
 "nbformat_minor": 5
}
