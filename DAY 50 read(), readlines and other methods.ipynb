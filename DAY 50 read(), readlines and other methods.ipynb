{
 "cells": [
  {
   "cell_type": "code",
   "execution_count": 7,
   "id": "76100438-5bfc-4d9a-883a-dd9349db15b9",
   "metadata": {},
   "outputs": [],
   "source": [
    "# make myfile.txt file first in c:drive--> user--> rahul ( where python files save)\n",
    "# write in this myfile - Harry bhai python course is great\n",
    "\n",
    "\n",
    "# # note:\n",
    "\n",
    "# myfile.txt and myfile dono likhne se myfile name ki hi file create hogi in this pc.\n",
    "# to how i identify these file. us file ke age likha hoga format. see below\n",
    "\n",
    "# in jupyter            file saved name(same)            but format\n",
    "# myfile.txt -->       myfile -->                        text document\n",
    "# myfile -->           myfile -->                        file"
   ]
  },
  {
   "cell_type": "code",
   "execution_count": 8,
   "id": "81747921-b7a4-45d7-b6af-3f72d2812a7d",
   "metadata": {},
   "outputs": [],
   "source": [
    "# note: hm directly file create and write kr skte hai... as harry.\n",
    "# but I use python code to write, without going inside the file."
   ]
  },
  {
   "cell_type": "code",
   "execution_count": 9,
   "id": "f8ef8d13-3fdc-4054-9d2c-3c7507fa5dc6",
   "metadata": {},
   "outputs": [
    {
     "data": {
      "text/plain": [
       "33"
      ]
     },
     "execution_count": 9,
     "metadata": {},
     "output_type": "execute_result"
    }
   ],
   "source": [
    "f = open('myfile.txt','w')\n",
    "f.write(\"Harry bhai python course is great\")"
   ]
  },
  {
   "cell_type": "code",
   "execution_count": 10,
   "id": "e28fabda-eca0-4670-b39d-03a314ba1aa3",
   "metadata": {},
   "outputs": [
    {
     "data": {
      "text/plain": [
       "'Harry bhai python course is great'"
      ]
     },
     "execution_count": 10,
     "metadata": {},
     "output_type": "execute_result"
    }
   ],
   "source": [
    "f = open('myfile.txt','r')\n",
    "f.read()\n"
   ]
  },
  {
   "cell_type": "code",
   "execution_count": null,
   "id": "968f030a-3cf2-43bc-846b-ae550777ccee",
   "metadata": {},
   "outputs": [],
   "source": []
  },
  {
   "cell_type": "code",
   "execution_count": 11,
   "id": "c1b70c8a-812f-477e-9944-70b6ae50ec07",
   "metadata": {},
   "outputs": [
    {
     "name": "stdout",
     "output_type": "stream",
     "text": [
      "Harry bhai python course is great\n",
      "\n",
      " <class 'str'>\n"
     ]
    }
   ],
   "source": [
    "# readlines()\n",
    "f =open('myfile.txt', 'r')\n",
    "while True:\n",
    "    line = f.readline()\n",
    "    print(line)  # Harry bhai python course is great\n",
    "    if not line:\n",
    "        print(line, type(line)) # <class 'str'>\n",
    "        break\n",
    "\n",
    "# Harry bhai python course is great\n",
    "# space (bcoz readline method read lines --> line by line\n",
    "#  <class 'str'>  (empty string means readline ko koi line mili hi ni, to wo read krna stop kr dega.\n",
    "# we have only 1 line in my code."
   ]
  },
  {
   "cell_type": "code",
   "execution_count": 12,
   "id": "f009c593-0e42-40f7-b857-392a57f30a89",
   "metadata": {},
   "outputs": [],
   "source": [
    "# remember again: I also add this sentence directly in myfile--> And this tutorial is also awesome This is also good\n",
    "# but we use python to write without opening myfile.txt"
   ]
  },
  {
   "cell_type": "code",
   "execution_count": 13,
   "id": "1b579dc1-5184-49f8-8787-42c4e7152c4f",
   "metadata": {},
   "outputs": [
    {
     "data": {
      "text/plain": [
       "54"
      ]
     },
     "execution_count": 13,
     "metadata": {},
     "output_type": "execute_result"
    }
   ],
   "source": [
    "# write(\"\")\n",
    "f = open('myfile.txt','a')\n",
    "f.write(\" \\nAnd this tutorial is also awesome \\nThis is also good\")"
   ]
  },
  {
   "cell_type": "code",
   "execution_count": 14,
   "id": "8b991caf-9afd-4648-86d4-449480a84466",
   "metadata": {},
   "outputs": [
    {
     "data": {
      "text/plain": [
       "'Harry bhai python course is great \\nAnd this tutorial is also awesome \\nThis is also good'"
      ]
     },
     "execution_count": 14,
     "metadata": {},
     "output_type": "execute_result"
    }
   ],
   "source": [
    "# read()\n",
    "f = open('myfile.txt', 'r')\n",
    "f.read()"
   ]
  },
  {
   "cell_type": "code",
   "execution_count": 15,
   "id": "04c4e316-113d-4612-a4f4-4c8281151767",
   "metadata": {},
   "outputs": [
    {
     "name": "stdout",
     "output_type": "stream",
     "text": [
      "Harry bhai python course is great \n",
      "\n",
      "And this tutorial is also awesome \n",
      "\n",
      "This is also good\n",
      "\n",
      " <class 'str'>\n"
     ]
    }
   ],
   "source": [
    "# readline()\n",
    "f =open('myfile.txt', 'r')\n",
    "while True:\n",
    "    line = f.readline()\n",
    "    print(line)  # Harry bhai python course is great\n",
    "    if not line:\n",
    "        print(line, type(line)) # <class 'str'>\n",
    "        break"
   ]
  },
  {
   "cell_type": "code",
   "execution_count": null,
   "id": "a96ff9f4-2b01-4c2f-ba05-1a3889c1871b",
   "metadata": {},
   "outputs": [],
   "source": []
  },
  {
   "cell_type": "code",
   "execution_count": 16,
   "id": "ee6171cf-61b5-4178-a40e-4b0f4fd415f4",
   "metadata": {},
   "outputs": [],
   "source": [
    "# Parse means -- ? word meaning\n",
    "# vakya khnd krna ya uski vyakhya krna"
   ]
  },
  {
   "cell_type": "code",
   "execution_count": null,
   "id": "581a0039-a560-4aad-b49d-96177e06be3b",
   "metadata": {},
   "outputs": [],
   "source": []
  },
  {
   "cell_type": "code",
   "execution_count": null,
   "id": "be233183-80b9-44bc-9e4f-1b062f17f9bf",
   "metadata": {},
   "outputs": [],
   "source": []
  },
  {
   "cell_type": "code",
   "execution_count": null,
   "id": "0d3243aa-567f-4e02-ac0a-b0bad776d151",
   "metadata": {},
   "outputs": [],
   "source": []
  },
  {
   "cell_type": "code",
   "execution_count": 38,
   "id": "b408d456-1ebb-4466-8693-bd71bd92d477",
   "metadata": {},
   "outputs": [],
   "source": []
  },
  {
   "cell_type": "code",
   "execution_count": null,
   "id": "7d0b7e3f-16b9-4f38-854a-76e93b78730c",
   "metadata": {},
   "outputs": [],
   "source": []
  },
  {
   "cell_type": "code",
   "execution_count": 60,
   "id": "fe036b9a-127c-484c-9b30-68ebdfe56807",
   "metadata": {},
   "outputs": [
    {
     "ename": "SyntaxError",
     "evalue": "invalid syntax (1460599546.py, line 2)",
     "output_type": "error",
     "traceback": [
      "\u001b[1;36m  Cell \u001b[1;32mIn[60], line 2\u001b[1;36m\u001b[0m\n\u001b[1;33m    readline is useful when hme value ek ek krke print krna hota hai.\u001b[0m\n\u001b[1;37m                       ^\u001b[0m\n\u001b[1;31mSyntaxError\u001b[0m\u001b[1;31m:\u001b[0m invalid syntax\n"
     ]
    }
   ],
   "source": [
    "# # me write\n",
    "# readline is useful when hme value ek ek krke print krna hota hai.\n",
    "# jb value ko parse krna pdta hai.\n",
    "# when hme bhut sara data diya jata hai. jaise kaggle pe hota hai.\n",
    "# see below jb is type ka data hota hai to readlines is very useful.\n"
   ]
  },
  {
   "cell_type": "code",
   "execution_count": 39,
   "id": "2b4853c9-9741-4ed5-8957-b1ff14e0ff21",
   "metadata": {},
   "outputs": [
    {
     "name": "stdout",
     "output_type": "stream",
     "text": [
      "28\n"
     ]
    }
   ],
   "source": [
    "f = open('myfile1', 'w')\n",
    "text = f.write('56,45,67 \\n12,34,63 \\n13,64,23')\n",
    "print(text)\n",
    "f.close()"
   ]
  },
  {
   "cell_type": "code",
   "execution_count": 40,
   "id": "484a2bce-45ce-4a36-bac0-19a4c67e2cf4",
   "metadata": {},
   "outputs": [
    {
     "name": "stdout",
     "output_type": "stream",
     "text": [
      "56,45,67 \n",
      "12,34,63 \n",
      "13,64,23\n"
     ]
    }
   ],
   "source": [
    "f = open('myfile1.txt', 'r')\n",
    "content = f.read()\n",
    "print(content)\n",
    "f.close()"
   ]
  },
  {
   "cell_type": "code",
   "execution_count": 41,
   "id": "9cf6171e-8338-4f1c-8791-6df598a13fc6",
   "metadata": {},
   "outputs": [
    {
     "name": "stdout",
     "output_type": "stream",
     "text": [
      "56,45,67 \n",
      "\n",
      "12,34,63 \n",
      "\n",
      "13,64,23\n",
      "\n",
      " <class 'str'>\n"
     ]
    }
   ],
   "source": [
    "# readline()\n",
    "f =open('myfile1.txt', 'r')\n",
    "while True:\n",
    "    line = f.readline()\n",
    "    print(line)  # Harry bhai python course is great\n",
    "    if not line:\n",
    "        print(line, type(line)) # <class 'str'>\n",
    "        break"
   ]
  },
  {
   "cell_type": "code",
   "execution_count": null,
   "id": "6a34b137-0ae3-49fb-927e-29005d6f3b84",
   "metadata": {},
   "outputs": [],
   "source": []
  },
  {
   "cell_type": "code",
   "execution_count": 2,
   "id": "46753d7a-fe7b-42f8-be24-636c4f9e5c88",
   "metadata": {},
   "outputs": [
    {
     "name": "stdout",
     "output_type": "stream",
     "text": [
      "Marks of student 1 in Maths is: 56\n",
      "Marks of student 1 in English is: 45\n",
      "Marks of student 1 in SST is: 67 \n",
      "\n",
      "56,45,67 \n",
      "\n",
      "Marks of student 2 in Maths is: 12\n",
      "Marks of student 2 in English is: 34\n",
      "Marks of student 2 in SST is: 63 \n",
      "\n",
      "12,34,63 \n",
      "\n",
      "Marks of student 3 in Maths is: 13\n",
      "Marks of student 3 in English is: 64\n",
      "Marks of student 3 in SST is: 23\n",
      "13,64,23\n"
     ]
    }
   ],
   "source": [
    "f = open('myfile1.txt', 'r')\n",
    "i = 0\n",
    "while True:\n",
    "    i = i + 1\n",
    "    line = f.readline()\n",
    "    if not line:\n",
    "        break\n",
    "    m1 = line.split(\",\")[0]\n",
    "    m2 = line.split(\",\")[1]\n",
    "    m3 = line.split(\",\")[2]\n",
    "    print(f\"Marks of student {i} in Maths is: {m1}\")\n",
    "    print(f\"Marks of student {i} in English is: {m2}\")\n",
    "    print(f\"Marks of student {i} in SST is: {m3}\")\n",
    "\n",
    "    print(line)\n",
    "    \n",
    "    "
   ]
  },
  {
   "cell_type": "code",
   "execution_count": null,
   "id": "8a988fe5-85eb-402d-be1d-0c33dbc3f7e1",
   "metadata": {},
   "outputs": [],
   "source": []
  },
  {
   "cell_type": "code",
   "execution_count": 55,
   "id": "52d6020b-667b-4d73-8216-e6a24d0e2ebb",
   "metadata": {},
   "outputs": [
    {
     "name": "stdout",
     "output_type": "stream",
     "text": [
      "\n"
     ]
    }
   ],
   "source": [
    "# note: that this marks is \"string\". \n",
    "# if we want to convert it --> use typecast"
   ]
  },
  {
   "cell_type": "code",
   "execution_count": 58,
   "id": "4cfe4764-5da6-44b4-b539-034932af3320",
   "metadata": {},
   "outputs": [
    {
     "name": "stdout",
     "output_type": "stream",
     "text": [
      "Marks of student 1 in Maths is: 5656\n",
      "Marks of student 1 in English is: 4545\n",
      "Marks of student 1 in SST is: 67 \n",
      "67 \n",
      "\n",
      "56,45,67 \n",
      "\n",
      "Marks of student 2 in Maths is: 1212\n",
      "Marks of student 2 in English is: 3434\n",
      "Marks of student 2 in SST is: 63 \n",
      "63 \n",
      "\n",
      "12,34,63 \n",
      "\n",
      "Marks of student 3 in Maths is: 1313\n",
      "Marks of student 3 in English is: 6464\n",
      "Marks of student 3 in SST is: 2323\n",
      "13,64,23\n"
     ]
    }
   ],
   "source": [
    "f = open('myfile1.txt', 'r')\n",
    "i = 0\n",
    "while True:\n",
    "    i = i + 1\n",
    "    line = f.readline()\n",
    "    if not line:\n",
    "        break\n",
    "    m1 = line.split(\",\")[0]\n",
    "    m2 = line.split(\",\")[1]\n",
    "    m3 = line.split(\",\")[2]\n",
    "    print(f\"Marks of student {i} in Maths is: {m1*2}\")\n",
    "    print(f\"Marks of student {i} in English is: {m2*2}\")\n",
    "    print(f\"Marks of student {i} in SST is: {m3*2}\")\n",
    "\n",
    "    print(line)\n",
    "    \n",
    "    "
   ]
  },
  {
   "cell_type": "code",
   "execution_count": 59,
   "id": "5a31bb82-8237-4894-98ad-81c8a5e29afe",
   "metadata": {},
   "outputs": [
    {
     "name": "stdout",
     "output_type": "stream",
     "text": [
      "Marks of student 1 in Maths is: 112\n",
      "Marks of student 1 in English is: 90\n",
      "Marks of student 1 in SST is: 134\n",
      "56,45,67 \n",
      "\n",
      "Marks of student 2 in Maths is: 24\n",
      "Marks of student 2 in English is: 68\n",
      "Marks of student 2 in SST is: 126\n",
      "12,34,63 \n",
      "\n",
      "Marks of student 3 in Maths is: 26\n",
      "Marks of student 3 in English is: 128\n",
      "Marks of student 3 in SST is: 46\n",
      "13,64,23\n"
     ]
    }
   ],
   "source": [
    "# so we do typcasting.\n",
    "\n",
    "f = open('myfile1.txt', 'r')\n",
    "i = 0\n",
    "while True:\n",
    "    i = i + 1\n",
    "    line = f.readline()\n",
    "    if not line:\n",
    "        break\n",
    "    m1 = int(line.split(\",\")[0])\n",
    "    m2 = int(line.split(\",\")[1])\n",
    "    m3 = int(line.split(\",\")[2])\n",
    "    print(f\"Marks of student {i} in Maths is: {m1*2}\")\n",
    "    print(f\"Marks of student {i} in English is: {m2*2}\")\n",
    "    print(f\"Marks of student {i} in SST is: {m3*2}\")\n",
    "\n",
    "    print(line)\n",
    "    \n",
    "    "
   ]
  },
  {
   "cell_type": "code",
   "execution_count": null,
   "id": "29070876-c8b9-497a-90d8-2184cf692075",
   "metadata": {},
   "outputs": [],
   "source": []
  },
  {
   "cell_type": "code",
   "execution_count": 63,
   "id": "12b77848-117a-40d5-bfed-5e5234dd0ba0",
   "metadata": {},
   "outputs": [
    {
     "name": "stdout",
     "output_type": "stream",
     "text": [
      "19\n"
     ]
    }
   ],
   "source": [
    "\n",
    "# difference in write and writelines() code\n",
    "# see below write code isme hmne string ek hi bar lgaya hai. and bich me khi \n",
    "# comma ni lgaya hai. and then see writelines code in notes.\n",
    "# to output to same aa jayega. bs likhne ka way different hai dono ka.\n",
    "f = open('myfile3.txt', 'w')\n",
    "text = f.write(\"line1 \\nline2 \\nline3\")\n",
    "print(text)\n",
    "f.close()\n"
   ]
  },
  {
   "cell_type": "code",
   "execution_count": null,
   "id": "d8cfd7e1-68d4-46e2-a5cb-102275ed3688",
   "metadata": {},
   "outputs": [],
   "source": []
  },
  {
   "cell_type": "code",
   "execution_count": null,
   "id": "e1400405-1e18-41d2-b2f6-9673025dad37",
   "metadata": {},
   "outputs": [],
   "source": []
  }
 ],
 "metadata": {
  "kernelspec": {
   "display_name": "Python 3 (ipykernel)",
   "language": "python",
   "name": "python3"
  },
  "language_info": {
   "codemirror_mode": {
    "name": "ipython",
    "version": 3
   },
   "file_extension": ".py",
   "mimetype": "text/x-python",
   "name": "python",
   "nbconvert_exporter": "python",
   "pygments_lexer": "ipython3",
   "version": "3.11.4"
  }
 },
 "nbformat": 4,
 "nbformat_minor": 5
}
