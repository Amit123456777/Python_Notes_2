{
 "cells": [
  {
   "cell_type": "code",
   "execution_count": 1,
   "id": "dd7867cd-1efa-4ba1-8be1-609aef6f4d2c",
   "metadata": {},
   "outputs": [
    {
     "ename": "SyntaxError",
     "evalue": "invalid syntax (3614901222.py, line 1)",
     "output_type": "error",
     "traceback": [
      "\u001b[1;36m  Cell \u001b[1;32mIn[1], line 1\u001b[1;36m\u001b[0m\n\u001b[1;33m    public class Main {\u001b[0m\n\u001b[1;37m           ^\u001b[0m\n\u001b[1;31mSyntaxError\u001b[0m\u001b[1;31m:\u001b[0m invalid syntax\n"
     ]
    }
   ],
   "source": [
    "// our first java program\n",
    "\n",
    "public class Main {\n",
    "    public static void main(String[] args) {\n",
    "        System.out.println(\"Hello World\");\n",
    "    }\n",
    "}\n",
    "output : Hello World"
   ]
  },
  {
   "cell_type": "code",
   "execution_count": 2,
   "id": "c8251e25-a78c-405b-b853-cb1778d09e5d",
   "metadata": {},
   "outputs": [],
   "source": [
    "# // 1 # how to save file.\n",
    "# // ctrl + s - type file name and select java\n",
    "# // Main.java names file created.\n",
    "\n",
    "# // 2 file name and class name should be same.\n",
    "\n",
    "# // 3 remember String & System - S capital\n",
    "# // 4 short to write print statement.\n",
    "#     //  in intellij = sout and tab\n",
    "#     //  in vs code = syso\n",
    "#     // but we can use both in both apps"
   ]
  },
  {
   "cell_type": "code",
   "execution_count": null,
   "id": "ce8990f4-e6ab-4928-845f-f353517fd917",
   "metadata": {},
   "outputs": [],
   "source": []
  },
  {
   "cell_type": "code",
   "execution_count": 3,
   "id": "7b6a0ef2-6dc0-4e19-b377-9ccdfc9d469f",
   "metadata": {},
   "outputs": [
    {
     "ename": "SyntaxError",
     "evalue": "invalid syntax (1942930340.py, line 1)",
     "output_type": "error",
     "traceback": [
      "\u001b[1;36m  Cell \u001b[1;32mIn[3], line 1\u001b[1;36m\u001b[0m\n\u001b[1;33m    // lecture 2\u001b[0m\n\u001b[1;37m    ^\u001b[0m\n\u001b[1;31mSyntaxError\u001b[0m\u001b[1;31m:\u001b[0m invalid syntax\n"
     ]
    }
   ],
   "source": []
  },
  {
   "cell_type": "code",
   "execution_count": 4,
   "id": "7e5c88f4-399d-4c82-a96a-9a93851798ad",
   "metadata": {},
   "outputs": [
    {
     "ename": "SyntaxError",
     "evalue": "invalid syntax (168142401.py, line 1)",
     "output_type": "error",
     "traceback": [
      "\u001b[1;36m  Cell \u001b[1;32mIn[4], line 1\u001b[1;36m\u001b[0m\n\u001b[1;33m    // lecture 2\u001b[0m\n\u001b[1;37m    ^\u001b[0m\n\u001b[1;31mSyntaxError\u001b[0m\u001b[1;31m:\u001b[0m invalid syntax\n"
     ]
    }
   ],
   "source": [
    "// lecture 2\n",
    "// output\n",
    "// variables\n",
    "// data types\n",
    "// input\n",
    "\n",
    "\n",
    "\n",
    "// 1\n",
    "// public class Main {\n",
    "//     public static void main(String[] args) {\n",
    "//         System.out.println(\"Hello World with Java\");\n",
    "//     }\n",
    "// }\n",
    "\n",
    "// Hello World with Java\n",
    "\n",
    "\n",
    "\n",
    "// 2\n",
    "// public class Main {\n",
    "//     public static void main(String[] args) {\n",
    "//         System.out.print(\"Hello World with Java\");\n",
    "//         System.out.print(\"Hello World with Java\");\n",
    "//     }\n",
    "// }\n",
    "\n",
    "// Hello World with JavaHello World with Java\n",
    "\n",
    "\n",
    "\n",
    "\n",
    "\n",
    "//  3 nextline\n",
    "// println\n",
    "// backslash n (\\n)\n",
    "\n",
    "// public class Main {\n",
    "//     public static void main(String[] args) {\n",
    "//         System.out.println(\"Hello World with Java\");\n",
    "//         System.out.println(\"Hello World with Java\");\n",
    "//         System.out.print(\"Hello World with Java\");\n",
    "//     }\n",
    "// }\n",
    "\n",
    "// Hello World with Java\n",
    "// Hello World with Java\n",
    "// Hello World with Java\n",
    "\n",
    "// public class Main {\n",
    "//     public static void main(String[] args) {\n",
    "//         System.out.print(\"Hello World\\nwith Java\");\n",
    "//     }\n",
    "// }\n",
    "// Hello World\n",
    "// with Java\n"
   ]
  },
  {
   "cell_type": "code",
   "execution_count": null,
   "id": "0d7b1e89-1eeb-4090-a8eb-815e8bfdcb76",
   "metadata": {},
   "outputs": [],
   "source": []
  }
 ],
 "metadata": {
  "kernelspec": {
   "display_name": "Python 3 (ipykernel)",
   "language": "python",
   "name": "python3"
  },
  "language_info": {
   "codemirror_mode": {
    "name": "ipython",
    "version": 3
   },
   "file_extension": ".py",
   "mimetype": "text/x-python",
   "name": "python",
   "nbconvert_exporter": "python",
   "pygments_lexer": "ipython3",
   "version": "3.11.4"
  }
 },
 "nbformat": 4,
 "nbformat_minor": 5
}
